{
 "cells": [
  {
   "cell_type": "markdown",
   "metadata": {},
   "source": [
    "# Resturant Food Safety Inspection Prediction Using Natual Language Processing"
   ]
  },
  {
   "cell_type": "markdown",
   "metadata": {},
   "source": [
    "references:\n",
    "https://dev.socrata.com/foundry/data.cityofchicago.org/4ijn-s7e5"
   ]
  },
  {
   "cell_type": "markdown",
   "metadata": {},
   "source": [
    "## Summary\n",
    "1. [Objective](#objective)\n",
    "2. [Understanding the Data](#data)\\\n",
    "    2.1 [Dataset Definitions](#dataset)\\\n",
    "    2.2 [Observations](#observations)\\\n",
    "    2.3 [Feature Engineering](#engineering)\n",
    "4. [Model Building](#model)\\\n",
    "    4.1 [Model Overview](#modeloverview)\n",
    "5. [Interpretation of Results](#interpretation)\n",
    "6. [References](#references)\n",
    "\n"
   ]
  },
  {
   "cell_type": "markdown",
   "metadata": {},
   "source": [
    "# 1. Objective\n",
    "<a id='objective'></a>"
   ]
  },
  {
   "cell_type": "markdown",
   "metadata": {},
   "source": [
    "The goal of this notebook is to build a multinomial classification model to predict the outcome of the food safety inspection reports based on the inspectors' comments. I will use from statistical analysis and natural language processing to accomplish this. I will also present the results of the classification model and suggest ways that it could be improved through further analysis.\n",
    "\n",
    "Data provided by the City of Chicago via https://data.cityofchicago.org/ https://data.cityofchicago.org/Health-Human-Services/Food-Inspections/4ijn-s7e5 as of early 2020"
   ]
  },
  {
   "cell_type": "code",
   "execution_count": 356,
   "metadata": {},
   "outputs": [],
   "source": [
    "import sklearn\n",
    "\n",
    "import pandas as pd\n",
    "import numpy as np\n",
    "from matplotlib import pyplot as plt\n",
    "import re\n",
    "import itertools\n",
    "import os\n",
    "import random\n",
    "\n",
    "\n",
    "from sklearn.model_selection import train_test_split\n",
    "from sklearn.feature_extraction.text import CountVectorizer, HashingVectorizer, TfidfTransformer, TfidfVectorizer\n",
    "from sklearn.naive_bayes import MultinomialNB\n",
    "from sklearn.metrics import classification_report, confusion_matrix, accuracy_score\n",
    "from sklearn.linear_model import LogisticRegression, SGDClassifier\n",
    "from sklearn import metrics\n",
    "\n",
    "import nltk as nltk\n",
    "import nltk.corpus  \n",
    "from nltk.text import Text\n",
    "\n",
    "import sys\n",
    "\n",
    "pd.options.display.max_rows = 999\n",
    "pd.options.display.max_colwidth = 999\n",
    "pd.options.mode.chained_assignment = None  # default='warn'\n"
   ]
  },
  {
   "cell_type": "markdown",
   "metadata": {},
   "source": [
    "<a id='data'> </a>\n",
    "# 2. Understanding the Data\n"
   ]
  },
  {
   "cell_type": "markdown",
   "metadata": {},
   "source": [
    "<a id='dataset'> </a>\n",
    "## 2.1 Understanding the Data"
   ]
  },
  {
   "cell_type": "code",
   "execution_count": 357,
   "metadata": {},
   "outputs": [],
   "source": [
    "#load the data\n",
    "#df = pd.read_csv('../Food_Inspections.csv') #dataframe for modeling\n",
    "#df_clean = df.copy() #cleaned dataframe for miscellaneous\n",
    "#df_viz = df.copy() #dataframe for data viz exports for tableau\n"
   ]
  },
  {
   "cell_type": "code",
   "execution_count": 358,
   "metadata": {},
   "outputs": [],
   "source": [
    "#!/usr/bin/env python\n",
    "\n",
    "# make sure to install these packages before running:\n",
    "# pip install pandas\n",
    "# pip install sodapy\n",
    "\n",
    "import pandas as pd\n",
    "from sodapy import Socrata\n",
    "\n",
    "# Unauthenticated client only works with public data sets. Note 'None'\n",
    "# in place of application token, and no username or password:\n",
    "#client = Socrata(\"data.cityofchicago.org\", None)\n",
    "\n",
    "# Example authenticated client (needed for non-public datasets):\n",
    "MyAppToken = 'KoNWmjvpkvV18BmVoGFCU1oCw'\n",
    "\n",
    "client = Socrata(\"data.cityofchicago.org\",\n",
    "                  MyAppToken)\n",
    "#                  userame=\"user@example.com\",\n",
    " #                 password=\"AFakePassword\")\n",
    "\n",
    "# First 2000 results, returned as JSON from API / converted to Python list of\n",
    "# dictionaries by sodapy.\n",
    "results = client.get(\"4ijn-s7e5\", limit=250000)\n",
    "\n",
    "# Convert to pandas DataFrame\n",
    "results_df = pd.DataFrame.from_records(results)"
   ]
  },
  {
   "cell_type": "code",
   "execution_count": 359,
   "metadata": {},
   "outputs": [
    {
     "data": {
      "text/plain": [
       "(211946, 22)"
      ]
     },
     "execution_count": 359,
     "metadata": {},
     "output_type": "execute_result"
    }
   ],
   "source": [
    "results_df.shape"
   ]
  },
  {
   "cell_type": "code",
   "execution_count": 360,
   "metadata": {},
   "outputs": [
    {
     "data": {
      "text/plain": [
       "Index(['inspection_id', 'dba_name', 'aka_name', 'license_', 'facility_type',\n",
       "       'risk', 'address', 'city', 'state', 'zip', 'inspection_date',\n",
       "       'inspection_type', 'results', 'violations', 'latitude', 'longitude',\n",
       "       'location', ':@computed_region_awaf_s7ux',\n",
       "       ':@computed_region_6mkv_f3dw', ':@computed_region_vrxf_vc4k',\n",
       "       ':@computed_region_bdys_3d7i', ':@computed_region_43wa_7qmu'],\n",
       "      dtype='object')"
      ]
     },
     "execution_count": 360,
     "metadata": {},
     "output_type": "execute_result"
    }
   ],
   "source": [
    "results_df.columns"
   ]
  },
  {
   "cell_type": "code",
   "execution_count": 361,
   "metadata": {},
   "outputs": [],
   "source": [
    "#drop extra columns from import\n",
    "df = results_df.drop([':@computed_region_awaf_s7ux',\n",
    "                 ':@computed_region_6mkv_f3dw',\n",
    "                 ':@computed_region_vrxf_vc4k',\n",
    "                 ':@computed_region_bdys_3d7i',\n",
    "                 ':@computed_region_43wa_7qmu'], axis=1)"
   ]
  },
  {
   "cell_type": "code",
   "execution_count": 362,
   "metadata": {},
   "outputs": [
    {
     "data": {
      "text/plain": [
       "inspection_id      object\n",
       "dba_name           object\n",
       "aka_name           object\n",
       "license_           object\n",
       "facility_type      object\n",
       "risk               object\n",
       "address            object\n",
       "city               object\n",
       "state              object\n",
       "zip                object\n",
       "inspection_date    object\n",
       "inspection_type    object\n",
       "results            object\n",
       "violations         object\n",
       "latitude           object\n",
       "longitude          object\n",
       "location           object\n",
       "dtype: object"
      ]
     },
     "execution_count": 362,
     "metadata": {},
     "output_type": "execute_result"
    }
   ],
   "source": [
    "df.dtypes"
   ]
  },
  {
   "cell_type": "code",
   "execution_count": 363,
   "metadata": {},
   "outputs": [
    {
     "name": "stdout",
     "output_type": "stream",
     "text": [
      "(211946, 17)\n",
      "<class 'pandas.core.frame.DataFrame'>\n",
      "RangeIndex: 211946 entries, 0 to 211945\n",
      "Data columns (total 17 columns):\n",
      "inspection_id      211946 non-null object\n",
      "dba_name           211946 non-null object\n",
      "aka_name           209465 non-null object\n",
      "license_           211929 non-null object\n",
      "facility_type      207067 non-null object\n",
      "risk               211874 non-null object\n",
      "address            211946 non-null object\n",
      "city               211792 non-null object\n",
      "state              211898 non-null object\n",
      "zip                211894 non-null object\n",
      "inspection_date    211946 non-null object\n",
      "inspection_type    211945 non-null object\n",
      "results            211946 non-null object\n",
      "violations         155567 non-null object\n",
      "latitude           504 non-null object\n",
      "longitude          504 non-null object\n",
      "location           504 non-null object\n",
      "dtypes: object(17)\n",
      "memory usage: 27.5+ MB\n"
     ]
    }
   ],
   "source": [
    "print(df.shape)\n",
    "df.info()"
   ]
  },
  {
   "cell_type": "code",
   "execution_count": 364,
   "metadata": {},
   "outputs": [
    {
     "data": {
      "text/plain": [
       "inspection_id           0\n",
       "dba_name                0\n",
       "aka_name             2481\n",
       "license_               17\n",
       "facility_type        4879\n",
       "risk                   72\n",
       "address                 0\n",
       "city                  154\n",
       "state                  48\n",
       "zip                    52\n",
       "inspection_date         0\n",
       "inspection_type         1\n",
       "results                 0\n",
       "violations          56379\n",
       "latitude           211442\n",
       "longitude          211442\n",
       "location           211442\n",
       "dtype: int64"
      ]
     },
     "execution_count": 364,
     "metadata": {},
     "output_type": "execute_result"
    }
   ],
   "source": [
    "df.isna().sum()"
   ]
  },
  {
   "cell_type": "markdown",
   "metadata": {},
   "source": [
    "It appears that we have some incorrect data types and also some missing data. I'll inspect the data column by column"
   ]
  },
  {
   "cell_type": "markdown",
   "metadata": {},
   "source": [
    "**inspection_id**"
   ]
  },
  {
   "cell_type": "code",
   "execution_count": 365,
   "metadata": {},
   "outputs": [
    {
     "data": {
      "text/plain": [
       "0"
      ]
     },
     "execution_count": 365,
     "metadata": {},
     "output_type": "execute_result"
    }
   ],
   "source": [
    "df['inspection_id'].isna().sum()"
   ]
  },
  {
   "cell_type": "code",
   "execution_count": 366,
   "metadata": {},
   "outputs": [
    {
     "data": {
      "text/plain": [
       "31548     2243686\n",
       "35710     2222571\n",
       "184583     612304\n",
       "182487     612384\n",
       "103078    1561333\n",
       "Name: inspection_id, dtype: object"
      ]
     },
     "execution_count": 366,
     "metadata": {},
     "output_type": "execute_result"
    }
   ],
   "source": [
    "df['inspection_id'].sample(n=5)"
   ]
  },
  {
   "cell_type": "markdown",
   "metadata": {},
   "source": [
    "**dba_name**"
   ]
  },
  {
   "cell_type": "code",
   "execution_count": 367,
   "metadata": {},
   "outputs": [
    {
     "data": {
      "text/plain": [
       "0"
      ]
     },
     "execution_count": 367,
     "metadata": {},
     "output_type": "execute_result"
    }
   ],
   "source": [
    "df['dba_name'].isna().sum()"
   ]
  },
  {
   "cell_type": "code",
   "execution_count": 368,
   "metadata": {},
   "outputs": [
    {
     "data": {
      "text/plain": [
       "11318         China Wok Restuarant\n",
       "129549    SUBWAY SANDWICHES #22222\n",
       "129475                 EPIC BURGER\n",
       "141041       LAS TABLAS ON LINCOLN\n",
       "140704            LADY DI'S BAKERY\n",
       "Name: dba_name, dtype: object"
      ]
     },
     "execution_count": 368,
     "metadata": {},
     "output_type": "execute_result"
    }
   ],
   "source": [
    "df['dba_name'].sample(n=5)"
   ]
  },
  {
   "cell_type": "markdown",
   "metadata": {},
   "source": [
    "**aka_name**"
   ]
  },
  {
   "cell_type": "code",
   "execution_count": 369,
   "metadata": {},
   "outputs": [
    {
     "data": {
      "text/plain": [
       "2481"
      ]
     },
     "execution_count": 369,
     "metadata": {},
     "output_type": "execute_result"
    }
   ],
   "source": [
    "df['aka_name'].isna().sum()"
   ]
  },
  {
   "cell_type": "code",
   "execution_count": 370,
   "metadata": {},
   "outputs": [
    {
     "data": {
      "text/html": [
       "<div>\n",
       "<style scoped>\n",
       "    .dataframe tbody tr th:only-of-type {\n",
       "        vertical-align: middle;\n",
       "    }\n",
       "\n",
       "    .dataframe tbody tr th {\n",
       "        vertical-align: top;\n",
       "    }\n",
       "\n",
       "    .dataframe thead th {\n",
       "        text-align: right;\n",
       "    }\n",
       "</style>\n",
       "<table border=\"1\" class=\"dataframe\">\n",
       "  <thead>\n",
       "    <tr style=\"text-align: right;\">\n",
       "      <th></th>\n",
       "      <th>inspection_id</th>\n",
       "      <th>dba_name</th>\n",
       "      <th>aka_name</th>\n",
       "    </tr>\n",
       "  </thead>\n",
       "  <tbody>\n",
       "    <tr>\n",
       "      <th>40</th>\n",
       "      <td>2453552</td>\n",
       "      <td>CLAMP DOWN BURGERS</td>\n",
       "      <td>NaN</td>\n",
       "    </tr>\n",
       "    <tr>\n",
       "      <th>210</th>\n",
       "      <td>2453268</td>\n",
       "      <td>CENTERS FOR NEW HORIZONS</td>\n",
       "      <td>NaN</td>\n",
       "    </tr>\n",
       "    <tr>\n",
       "      <th>681</th>\n",
       "      <td>2401721</td>\n",
       "      <td>BABAS STEAK AND LEMONADE</td>\n",
       "      <td>NaN</td>\n",
       "    </tr>\n",
       "    <tr>\n",
       "      <th>823</th>\n",
       "      <td>2401643</td>\n",
       "      <td>HEALTH FOOD &amp; GROCERIES</td>\n",
       "      <td>NaN</td>\n",
       "    </tr>\n",
       "    <tr>\n",
       "      <th>884</th>\n",
       "      <td>2401495</td>\n",
       "      <td>BLUE LINE PIZZERIA</td>\n",
       "      <td>NaN</td>\n",
       "    </tr>\n",
       "    <tr>\n",
       "      <th>...</th>\n",
       "      <td>...</td>\n",
       "      <td>...</td>\n",
       "      <td>...</td>\n",
       "    </tr>\n",
       "    <tr>\n",
       "      <th>211867</th>\n",
       "      <td>80210</td>\n",
       "      <td>S L PANTRY &amp; GRILL</td>\n",
       "      <td>NaN</td>\n",
       "    </tr>\n",
       "    <tr>\n",
       "      <th>211898</th>\n",
       "      <td>158243</td>\n",
       "      <td>DUNKIN DONUTS</td>\n",
       "      <td>NaN</td>\n",
       "    </tr>\n",
       "    <tr>\n",
       "      <th>211904</th>\n",
       "      <td>78239</td>\n",
       "      <td>Yahs Cuisine</td>\n",
       "      <td>NaN</td>\n",
       "    </tr>\n",
       "    <tr>\n",
       "      <th>211914</th>\n",
       "      <td>68250</td>\n",
       "      <td>Tots Express Learning Center</td>\n",
       "      <td>NaN</td>\n",
       "    </tr>\n",
       "    <tr>\n",
       "      <th>211922</th>\n",
       "      <td>78240</td>\n",
       "      <td>OBAMA FOOD MART</td>\n",
       "      <td>NaN</td>\n",
       "    </tr>\n",
       "  </tbody>\n",
       "</table>\n",
       "<p>2481 rows × 3 columns</p>\n",
       "</div>"
      ],
      "text/plain": [
       "       inspection_id                      dba_name aka_name\n",
       "40           2453552            CLAMP DOWN BURGERS      NaN\n",
       "210          2453268      CENTERS FOR NEW HORIZONS      NaN\n",
       "681          2401721      BABAS STEAK AND LEMONADE      NaN\n",
       "823          2401643       HEALTH FOOD & GROCERIES      NaN\n",
       "884          2401495            BLUE LINE PIZZERIA      NaN\n",
       "...              ...                           ...      ...\n",
       "211867         80210            S L PANTRY & GRILL      NaN\n",
       "211898        158243                 DUNKIN DONUTS      NaN\n",
       "211904         78239                  Yahs Cuisine      NaN\n",
       "211914         68250  Tots Express Learning Center      NaN\n",
       "211922         78240               OBAMA FOOD MART      NaN\n",
       "\n",
       "[2481 rows x 3 columns]"
      ]
     },
     "execution_count": 370,
     "metadata": {},
     "output_type": "execute_result"
    }
   ],
   "source": [
    "#sample of the missing aka_name values\n",
    "df[df['aka_name'].isna()][['inspection_id','dba_name','aka_name']]"
   ]
  },
  {
   "cell_type": "code",
   "execution_count": 371,
   "metadata": {},
   "outputs": [],
   "source": [
    "#fill NaN values with dba_name value\n",
    "df['aka_name'] = df['aka_name'].fillna(df['dba_name'])"
   ]
  },
  {
   "cell_type": "markdown",
   "metadata": {},
   "source": [
    "**license_**"
   ]
  },
  {
   "cell_type": "code",
   "execution_count": 372,
   "metadata": {},
   "outputs": [
    {
     "data": {
      "text/plain": [
       "17"
      ]
     },
     "execution_count": 372,
     "metadata": {},
     "output_type": "execute_result"
    }
   ],
   "source": [
    "df['license_'].isna().sum()"
   ]
  },
  {
   "cell_type": "code",
   "execution_count": 373,
   "metadata": {},
   "outputs": [
    {
     "data": {
      "text/plain": [
       "23345              ST. DEMETRIOS GREEK ORTHODOX CHURCH\n",
       "39891              ST. DEMETRIOS GREEK ORTHODOX CHURCH\n",
       "56882              ST. DEMETRIOS GREEK ORTHODOX CHURCH\n",
       "82409              ST. DEMETRIOS GREEK ORTHODOX CHURCH\n",
       "102320             ST. DEMETRIOS GREEK ORTHODOX CHURCH\n",
       "127727             ST. DEMETRIOS GREEK ORTHODOX CHURCH\n",
       "130226                                 ARGENTINA FOODS\n",
       "144998             ST. DEMETRIOS GREEK ORTHODOX CHURCH\n",
       "164688             ST. DEMETRIOS GREEK ORTHODOX CHURCH\n",
       "168087                        OLD ST. PATRICK'S CHURCH\n",
       "171412                 GOD'S BATTLE AXE PRAYER ACADEMY\n",
       "171648                 GOD'S BATTLE AXE PRAYER ACADEMY\n",
       "173150                 GOD'S BATTLE AXE PRAYER ACADEMY\n",
       "182348             ST. DEMETRIOS GREEK ORTHODOX CHURCH\n",
       "193493    AVALON COMMUNITY CHURCH/FREEDOM HOME ACADEMY\n",
       "201724                             ST DEMETRIOS CHURCH\n",
       "204320                        OLD ST. PATRICK'S CHURCH\n",
       "Name: dba_name, dtype: object"
      ]
     },
     "execution_count": 373,
     "metadata": {},
     "output_type": "execute_result"
    }
   ],
   "source": [
    "#Mostly churches...\n",
    "df[df['license_'].isna()]['dba_name']"
   ]
  },
  {
   "cell_type": "code",
   "execution_count": 374,
   "metadata": {},
   "outputs": [],
   "source": [
    "#fill with \"Not Disclosed\"\n",
    "df['license_'] = df['license_'].fillna('Not Disclosed')"
   ]
  },
  {
   "cell_type": "markdown",
   "metadata": {},
   "source": [
    "**facility_type**"
   ]
  },
  {
   "cell_type": "code",
   "execution_count": 375,
   "metadata": {},
   "outputs": [
    {
     "data": {
      "text/plain": [
       "4879"
      ]
     },
     "execution_count": 375,
     "metadata": {},
     "output_type": "execute_result"
    }
   ],
   "source": [
    "df['facility_type'].isna().sum()"
   ]
  },
  {
   "cell_type": "code",
   "execution_count": 376,
   "metadata": {},
   "outputs": [
    {
     "data": {
      "text/plain": [
       "SUBWAY                          34\n",
       "DUNKIN DONUTS                   20\n",
       "7-ELEVEN                        18\n",
       "WHITE HEN PANTRY                18\n",
       "HAROLD'S CHICKEN SHACK          15\n",
       "TOKYO LUNCH BOXES & CATERING    13\n",
       "KENTUCKY FRIED CHICKEN          12\n",
       "MIDWEST BUDDHIST TEMPLE         11\n",
       "MCDONALD'S                      10\n",
       "MCDONALDS                        8\n",
       "SCHLENKO INC.                    7\n",
       "HEAVEN'S LEARNING GARDEN         7\n",
       "COLD STONE CREAMERY              6\n",
       "THUNDERBIRD CATERING             6\n",
       "GOLD COAST DOGS                  6\n",
       "CALIFORNIA FOODS                 5\n",
       "QUIZNOS                          5\n",
       "DEOLA'S                          5\n",
       "BELEN                            5\n",
       "MAN-O-SALWA                      5\n",
       "Name: dba_name, dtype: int64"
      ]
     },
     "execution_count": 376,
     "metadata": {},
     "output_type": "execute_result"
    }
   ],
   "source": [
    "df[df['facility_type'].isna()]['dba_name'].value_counts().head(20)"
   ]
  },
  {
   "cell_type": "code",
   "execution_count": 377,
   "metadata": {},
   "outputs": [
    {
     "data": {
      "text/plain": [
       "count    4107.000000\n",
       "mean        1.187972\n",
       "std         0.949387\n",
       "min         1.000000\n",
       "25%         1.000000\n",
       "50%         1.000000\n",
       "75%         1.000000\n",
       "max        34.000000\n",
       "Name: dba_name, dtype: float64"
      ]
     },
     "execution_count": 377,
     "metadata": {},
     "output_type": "execute_result"
    }
   ],
   "source": [
    "df[df['facility_type'].isna()]['dba_name'].value_counts().describe()"
   ]
  },
  {
   "cell_type": "code",
   "execution_count": 378,
   "metadata": {},
   "outputs": [
    {
     "data": {
      "text/plain": [
       "Restaurant                         141020\n",
       "Grocery Store                       27732\n",
       "School                              13074\n",
       "Children's Services Facility         3567\n",
       "Bakery                               3093\n",
       "Daycare (2 - 6 Years)                2793\n",
       "Daycare Above and Under 2 Years      2580\n",
       "Long Term Care                       1426\n",
       "Catering                             1277\n",
       "Liquor                                928\n",
       "Mobile Food Dispenser                 883\n",
       "Daycare Combo 1586                    741\n",
       "Mobile Food Preparer                  673\n",
       "Golden Diner                          599\n",
       "Hospital                              592\n",
       "Name: facility_type, dtype: int64"
      ]
     },
     "execution_count": 378,
     "metadata": {},
     "output_type": "execute_result"
    }
   ],
   "source": [
    "df['facility_type'].value_counts().head(15)"
   ]
  },
  {
   "cell_type": "markdown",
   "metadata": {},
   "source": [
    "It's not clear why so many of these facility types are missing. Some of the businesses are obvious (7-Eleven, Quiznos, for instance) but many aren't... For now, I'll fill the NA values with not disclosed\n"
   ]
  },
  {
   "cell_type": "code",
   "execution_count": 379,
   "metadata": {},
   "outputs": [],
   "source": [
    "df['facility_type'] = df['facility_type'].fillna('Not Disclosed')"
   ]
  },
  {
   "cell_type": "markdown",
   "metadata": {},
   "source": [
    "**risk**"
   ]
  },
  {
   "cell_type": "code",
   "execution_count": 380,
   "metadata": {},
   "outputs": [
    {
     "data": {
      "text/plain": [
       "Risk 1 (High)      151496\n",
       "Risk 2 (Medium)     41386\n",
       "Risk 3 (Low)        18961\n",
       "All                    31\n",
       "Name: risk, dtype: int64"
      ]
     },
     "execution_count": 380,
     "metadata": {},
     "output_type": "execute_result"
    }
   ],
   "source": [
    "df['risk'].value_counts()"
   ]
  },
  {
   "cell_type": "code",
   "execution_count": 381,
   "metadata": {},
   "outputs": [
    {
     "data": {
      "text/plain": [
       "72"
      ]
     },
     "execution_count": 381,
     "metadata": {},
     "output_type": "execute_result"
    }
   ],
   "source": [
    "df['risk'].isna().sum()"
   ]
  },
  {
   "cell_type": "code",
   "execution_count": 382,
   "metadata": {},
   "outputs": [
    {
     "data": {
      "text/html": [
       "<div>\n",
       "<style scoped>\n",
       "    .dataframe tbody tr th:only-of-type {\n",
       "        vertical-align: middle;\n",
       "    }\n",
       "\n",
       "    .dataframe tbody tr th {\n",
       "        vertical-align: top;\n",
       "    }\n",
       "\n",
       "    .dataframe thead th {\n",
       "        text-align: right;\n",
       "    }\n",
       "</style>\n",
       "<table border=\"1\" class=\"dataframe\">\n",
       "  <thead>\n",
       "    <tr style=\"text-align: right;\">\n",
       "      <th></th>\n",
       "      <th>inspection_id</th>\n",
       "      <th>dba_name</th>\n",
       "      <th>aka_name</th>\n",
       "      <th>license_</th>\n",
       "      <th>facility_type</th>\n",
       "      <th>risk</th>\n",
       "      <th>address</th>\n",
       "      <th>city</th>\n",
       "      <th>state</th>\n",
       "      <th>zip</th>\n",
       "      <th>inspection_date</th>\n",
       "      <th>inspection_type</th>\n",
       "      <th>results</th>\n",
       "      <th>violations</th>\n",
       "      <th>latitude</th>\n",
       "      <th>longitude</th>\n",
       "      <th>location</th>\n",
       "    </tr>\n",
       "  </thead>\n",
       "  <tbody>\n",
       "    <tr>\n",
       "      <th>64982</th>\n",
       "      <td>2009375</td>\n",
       "      <td>CHICAGO BEST DELI GROCERY,INC</td>\n",
       "      <td>CHICAGO BEST DELI GROCERY,INC</td>\n",
       "      <td>2512074</td>\n",
       "      <td>Not Disclosed</td>\n",
       "      <td>NaN</td>\n",
       "      <td>156-158 W 95TH ST</td>\n",
       "      <td>CHICAGO</td>\n",
       "      <td>IL</td>\n",
       "      <td>60628</td>\n",
       "      <td>2017-03-28T00:00:00.000</td>\n",
       "      <td>License</td>\n",
       "      <td>Not Ready</td>\n",
       "      <td>NaN</td>\n",
       "      <td>NaN</td>\n",
       "      <td>NaN</td>\n",
       "      <td>NaN</td>\n",
       "    </tr>\n",
       "    <tr>\n",
       "      <th>181005</th>\n",
       "      <td>537572</td>\n",
       "      <td>unknown</td>\n",
       "      <td>unknown</td>\n",
       "      <td>0</td>\n",
       "      <td>Not Disclosed</td>\n",
       "      <td>NaN</td>\n",
       "      <td>10222 S wentworth AVE</td>\n",
       "      <td>CHICAGO</td>\n",
       "      <td>IL</td>\n",
       "      <td>60628</td>\n",
       "      <td>2011-09-07T00:00:00.000</td>\n",
       "      <td>Complaint-Fire</td>\n",
       "      <td>Business Not Located</td>\n",
       "      <td>NaN</td>\n",
       "      <td>NaN</td>\n",
       "      <td>NaN</td>\n",
       "      <td>NaN</td>\n",
       "    </tr>\n",
       "    <tr>\n",
       "      <th>34883</th>\n",
       "      <td>2229372</td>\n",
       "      <td>RICE THAI CAFE</td>\n",
       "      <td>RICE THAI CAFE</td>\n",
       "      <td>2589016</td>\n",
       "      <td>Not Disclosed</td>\n",
       "      <td>NaN</td>\n",
       "      <td>211`7 W FARRAGUT AVE</td>\n",
       "      <td>CHICAGO</td>\n",
       "      <td>IL</td>\n",
       "      <td>60625</td>\n",
       "      <td>2018-10-04T00:00:00.000</td>\n",
       "      <td>License</td>\n",
       "      <td>Business Not Located</td>\n",
       "      <td>NaN</td>\n",
       "      <td>NaN</td>\n",
       "      <td>NaN</td>\n",
       "      <td>NaN</td>\n",
       "    </tr>\n",
       "    <tr>\n",
       "      <th>196539</th>\n",
       "      <td>428391</td>\n",
       "      <td>BEST SUBS</td>\n",
       "      <td>BEST SUBS</td>\n",
       "      <td>0</td>\n",
       "      <td>Not Disclosed</td>\n",
       "      <td>NaN</td>\n",
       "      <td>2653 N WASTENAW AVE BLDG</td>\n",
       "      <td>CHICAGO</td>\n",
       "      <td>IL</td>\n",
       "      <td>60647</td>\n",
       "      <td>2010-10-29T00:00:00.000</td>\n",
       "      <td>Complaint</td>\n",
       "      <td>Business Not Located</td>\n",
       "      <td>NaN</td>\n",
       "      <td>NaN</td>\n",
       "      <td>NaN</td>\n",
       "      <td>NaN</td>\n",
       "    </tr>\n",
       "    <tr>\n",
       "      <th>25275</th>\n",
       "      <td>2286042</td>\n",
       "      <td>REIS AND IRVYS</td>\n",
       "      <td>REIS AND IRVYS</td>\n",
       "      <td>2659028</td>\n",
       "      <td>Not Disclosed</td>\n",
       "      <td>NaN</td>\n",
       "      <td>1801 W JACKSON BLVD</td>\n",
       "      <td>CHICAGO</td>\n",
       "      <td>IL</td>\n",
       "      <td>60612</td>\n",
       "      <td>2019-04-30T00:00:00.000</td>\n",
       "      <td>License</td>\n",
       "      <td>Not Ready</td>\n",
       "      <td>NaN</td>\n",
       "      <td>NaN</td>\n",
       "      <td>NaN</td>\n",
       "      <td>NaN</td>\n",
       "    </tr>\n",
       "  </tbody>\n",
       "</table>\n",
       "</div>"
      ],
      "text/plain": [
       "       inspection_id                       dba_name  \\\n",
       "64982        2009375  CHICAGO BEST DELI GROCERY,INC   \n",
       "181005        537572                        unknown   \n",
       "34883        2229372                 RICE THAI CAFE   \n",
       "196539        428391                      BEST SUBS   \n",
       "25275        2286042                 REIS AND IRVYS   \n",
       "\n",
       "                             aka_name license_  facility_type risk  \\\n",
       "64982   CHICAGO BEST DELI GROCERY,INC  2512074  Not Disclosed  NaN   \n",
       "181005                        unknown        0  Not Disclosed  NaN   \n",
       "34883                  RICE THAI CAFE  2589016  Not Disclosed  NaN   \n",
       "196539                      BEST SUBS        0  Not Disclosed  NaN   \n",
       "25275                  REIS AND IRVYS  2659028  Not Disclosed  NaN   \n",
       "\n",
       "                          address     city state    zip  \\\n",
       "64982           156-158 W 95TH ST  CHICAGO    IL  60628   \n",
       "181005      10222 S wentworth AVE  CHICAGO    IL  60628   \n",
       "34883       211`7 W FARRAGUT AVE   CHICAGO    IL  60625   \n",
       "196539  2653 N WASTENAW AVE BLDG   CHICAGO    IL  60647   \n",
       "25275         1801 W JACKSON BLVD  CHICAGO    IL  60612   \n",
       "\n",
       "                inspection_date inspection_type               results  \\\n",
       "64982   2017-03-28T00:00:00.000         License             Not Ready   \n",
       "181005  2011-09-07T00:00:00.000  Complaint-Fire  Business Not Located   \n",
       "34883   2018-10-04T00:00:00.000         License  Business Not Located   \n",
       "196539  2010-10-29T00:00:00.000       Complaint  Business Not Located   \n",
       "25275   2019-04-30T00:00:00.000         License             Not Ready   \n",
       "\n",
       "       violations latitude longitude location  \n",
       "64982         NaN      NaN       NaN      NaN  \n",
       "181005        NaN      NaN       NaN      NaN  \n",
       "34883         NaN      NaN       NaN      NaN  \n",
       "196539        NaN      NaN       NaN      NaN  \n",
       "25275         NaN      NaN       NaN      NaN  "
      ]
     },
     "execution_count": 382,
     "metadata": {},
     "output_type": "execute_result"
    }
   ],
   "source": [
    "df[df['risk'].isna()].sample(n=5, random_state=512)"
   ]
  },
  {
   "cell_type": "markdown",
   "metadata": {},
   "source": [
    "Notice that many of the missing risk values are records that were also missing other attributes...\n"
   ]
  },
  {
   "cell_type": "code",
   "execution_count": 383,
   "metadata": {},
   "outputs": [],
   "source": [
    "#I'll fill missing risk values with not disclosed\n",
    "df['risk'] = df['risk'].fillna('Not Disclosed')"
   ]
  },
  {
   "cell_type": "markdown",
   "metadata": {},
   "source": [
    "**address**"
   ]
  },
  {
   "cell_type": "code",
   "execution_count": 384,
   "metadata": {},
   "outputs": [
    {
     "data": {
      "text/plain": [
       "0"
      ]
     },
     "execution_count": 384,
     "metadata": {},
     "output_type": "execute_result"
    }
   ],
   "source": [
    "df['address'].isna().sum()"
   ]
  },
  {
   "cell_type": "code",
   "execution_count": 385,
   "metadata": {},
   "outputs": [
    {
     "data": {
      "text/plain": [
       "11601 W TOUHY AVE             2674\n",
       "5700 S CICERO AVE              583\n",
       "500 W MADISON ST               462\n",
       "2300 S THROOP ST               405\n",
       "324 N LEAVITT ST               391\n",
       "131 N CLINTON ST               353\n",
       "100 W RANDOLPH ST              331\n",
       "222 W MERCHANDISE MART PLZ     279\n",
       "600 E GRAND AVE                276\n",
       "7601 S CICERO AVE              267\n",
       "Name: address, dtype: int64"
      ]
     },
     "execution_count": 385,
     "metadata": {},
     "output_type": "execute_result"
    }
   ],
   "source": [
    "df['address'].value_counts().head(10)"
   ]
  },
  {
   "cell_type": "markdown",
   "metadata": {},
   "source": [
    "Some of these make sense:\n",
    "\n",
    "* 5700 S CICERO AVE = Chicago Midway\n",
    "* 500 W MADISON ST = Accenture Tower\n"
   ]
  },
  {
   "cell_type": "markdown",
   "metadata": {},
   "source": [
    "**city**"
   ]
  },
  {
   "cell_type": "code",
   "execution_count": 386,
   "metadata": {},
   "outputs": [
    {
     "data": {
      "text/plain": [
       "154"
      ]
     },
     "execution_count": 386,
     "metadata": {},
     "output_type": "execute_result"
    }
   ],
   "source": [
    "df['city'].isna().sum()"
   ]
  },
  {
   "cell_type": "code",
   "execution_count": 387,
   "metadata": {},
   "outputs": [],
   "source": [
    "df['city'] = df['city'].fillna('Not Disclosed')"
   ]
  },
  {
   "cell_type": "code",
   "execution_count": 388,
   "metadata": {},
   "outputs": [
    {
     "data": {
      "text/plain": [
       "CHICAGO              211061\n",
       "Chicago                 340\n",
       "Not Disclosed           154\n",
       "chicago                 108\n",
       "CCHICAGO                 48\n",
       "SCHAUMBURG               27\n",
       "MAYWOOD                  15\n",
       "CHicago                  13\n",
       "ELK GROVE VILLAGE        13\n",
       "EVANSTON                 11\n",
       "CHICAGOCHICAGO            9\n",
       "CICERO                    9\n",
       "INACTIVE                  8\n",
       "SKOKIE                    8\n",
       "NILES NILES               7\n",
       "ELMHURST                  7\n",
       "CALUMET CITY              6\n",
       "CHCHICAGO                 6\n",
       "OAK PARK                  5\n",
       "WORTH                     5\n",
       "Name: city, dtype: int64"
      ]
     },
     "execution_count": 388,
     "metadata": {},
     "output_type": "execute_result"
    }
   ],
   "source": [
    "df['city'].value_counts().head(20)"
   ]
  },
  {
   "cell_type": "markdown",
   "metadata": {},
   "source": [
    "May have to do some cleaning on this column. Looks like there are considerable typos. Possibly use zip code to pull city name?"
   ]
  },
  {
   "cell_type": "markdown",
   "metadata": {},
   "source": [
    "**state**"
   ]
  },
  {
   "cell_type": "code",
   "execution_count": 389,
   "metadata": {},
   "outputs": [
    {
     "data": {
      "text/plain": [
       "48"
      ]
     },
     "execution_count": 389,
     "metadata": {},
     "output_type": "execute_result"
    }
   ],
   "source": [
    "df['state'].isna().sum()"
   ]
  },
  {
   "cell_type": "code",
   "execution_count": 390,
   "metadata": {},
   "outputs": [
    {
     "data": {
      "text/html": [
       "<div>\n",
       "<style scoped>\n",
       "    .dataframe tbody tr th:only-of-type {\n",
       "        vertical-align: middle;\n",
       "    }\n",
       "\n",
       "    .dataframe tbody tr th {\n",
       "        vertical-align: top;\n",
       "    }\n",
       "\n",
       "    .dataframe thead th {\n",
       "        text-align: right;\n",
       "    }\n",
       "</style>\n",
       "<table border=\"1\" class=\"dataframe\">\n",
       "  <thead>\n",
       "    <tr style=\"text-align: right;\">\n",
       "      <th></th>\n",
       "      <th>dba_name</th>\n",
       "      <th>city</th>\n",
       "      <th>state</th>\n",
       "    </tr>\n",
       "  </thead>\n",
       "  <tbody>\n",
       "    <tr>\n",
       "      <th>5548</th>\n",
       "      <td>CRATER FOOD &amp; LIQUOR</td>\n",
       "      <td>CHICAGO</td>\n",
       "      <td>NaN</td>\n",
       "    </tr>\n",
       "    <tr>\n",
       "      <th>6060</th>\n",
       "      <td>YOLK - LINCOLN PARK</td>\n",
       "      <td>CHICAGO</td>\n",
       "      <td>NaN</td>\n",
       "    </tr>\n",
       "    <tr>\n",
       "      <th>6139</th>\n",
       "      <td>CRATER FOOD &amp; LIQUOR</td>\n",
       "      <td>CHICAGO</td>\n",
       "      <td>NaN</td>\n",
       "    </tr>\n",
       "    <tr>\n",
       "      <th>6162</th>\n",
       "      <td>Starbucks Coffee#51211</td>\n",
       "      <td>Not Disclosed</td>\n",
       "      <td>NaN</td>\n",
       "    </tr>\n",
       "    <tr>\n",
       "      <th>6612</th>\n",
       "      <td>STAX CAFE</td>\n",
       "      <td>CHICAGO</td>\n",
       "      <td>NaN</td>\n",
       "    </tr>\n",
       "    <tr>\n",
       "      <th>7043</th>\n",
       "      <td>WINGSTOP</td>\n",
       "      <td>CHICAGO</td>\n",
       "      <td>NaN</td>\n",
       "    </tr>\n",
       "    <tr>\n",
       "      <th>19088</th>\n",
       "      <td>AMY BECK CAKE DESIGN, LLC</td>\n",
       "      <td>Not Disclosed</td>\n",
       "      <td>NaN</td>\n",
       "    </tr>\n",
       "    <tr>\n",
       "      <th>23114</th>\n",
       "      <td>STAX CAFE</td>\n",
       "      <td>CHICAGO</td>\n",
       "      <td>NaN</td>\n",
       "    </tr>\n",
       "    <tr>\n",
       "      <th>23534</th>\n",
       "      <td>CITY HALL. LLC</td>\n",
       "      <td>CHICAGO</td>\n",
       "      <td>NaN</td>\n",
       "    </tr>\n",
       "    <tr>\n",
       "      <th>23551</th>\n",
       "      <td>CITY HALL. LLC</td>\n",
       "      <td>CHICAGO</td>\n",
       "      <td>NaN</td>\n",
       "    </tr>\n",
       "  </tbody>\n",
       "</table>\n",
       "</div>"
      ],
      "text/plain": [
       "                        dba_name           city state\n",
       "5548        CRATER FOOD & LIQUOR        CHICAGO   NaN\n",
       "6060         YOLK - LINCOLN PARK        CHICAGO   NaN\n",
       "6139        CRATER FOOD & LIQUOR        CHICAGO   NaN\n",
       "6162      Starbucks Coffee#51211  Not Disclosed   NaN\n",
       "6612                   STAX CAFE        CHICAGO   NaN\n",
       "7043                    WINGSTOP        CHICAGO   NaN\n",
       "19088  AMY BECK CAKE DESIGN, LLC  Not Disclosed   NaN\n",
       "23114                  STAX CAFE        CHICAGO   NaN\n",
       "23534             CITY HALL. LLC        CHICAGO   NaN\n",
       "23551             CITY HALL. LLC        CHICAGO   NaN"
      ]
     },
     "execution_count": 390,
     "metadata": {},
     "output_type": "execute_result"
    }
   ],
   "source": [
    "df[df['state'].isna()][['dba_name','city','state']].head(10)"
   ]
  },
  {
   "cell_type": "markdown",
   "metadata": {},
   "source": [
    "It appears there is a data input problem. For now, I'll manually fill CHICAGO values\n"
   ]
  },
  {
   "cell_type": "code",
   "execution_count": 392,
   "metadata": {},
   "outputs": [],
   "source": [
    "df.loc[(df.city=='CHICAGO')&(df.state.isna()),'state'] = 'IL'"
   ]
  },
  {
   "cell_type": "code",
   "execution_count": 394,
   "metadata": {},
   "outputs": [],
   "source": [
    "df['state'] = df['state'].fillna('Not Disclosed')"
   ]
  },
  {
   "cell_type": "code",
   "execution_count": 395,
   "metadata": {},
   "outputs": [
    {
     "data": {
      "text/plain": [
       "IL               211923\n",
       "Not Disclosed        20\n",
       "IN                    1\n",
       "NY                    1\n",
       "WI                    1\n",
       "Name: state, dtype: int64"
      ]
     },
     "execution_count": 395,
     "metadata": {},
     "output_type": "execute_result"
    }
   ],
   "source": [
    "df['state'].value_counts()"
   ]
  },
  {
   "cell_type": "markdown",
   "metadata": {},
   "source": [
    "Not sure why there are some other states in this dataset. For now, I'll drop other states."
   ]
  },
  {
   "cell_type": "code",
   "execution_count": 402,
   "metadata": {},
   "outputs": [],
   "source": [
    "index_list = df[df.state != 'IL'].index.to_list()\n",
    "\n",
    "df = df.drop(index_list)"
   ]
  },
  {
   "cell_type": "markdown",
   "metadata": {},
   "source": [
    "**zip**"
   ]
  },
  {
   "cell_type": "code",
   "execution_count": 405,
   "metadata": {},
   "outputs": [
    {
     "data": {
      "text/plain": [
       "52"
      ]
     },
     "execution_count": 405,
     "metadata": {},
     "output_type": "execute_result"
    }
   ],
   "source": [
    "df['zip'].isna().sum()"
   ]
  },
  {
   "cell_type": "markdown",
   "metadata": {},
   "source": [
    "There are only 52 observations with missing zip values so I'll drop these values\n"
   ]
  },
  {
   "cell_type": "code",
   "execution_count": 407,
   "metadata": {},
   "outputs": [],
   "source": [
    "df = df.dropna(subset=['zip'])"
   ]
  },
  {
   "cell_type": "markdown",
   "metadata": {},
   "source": [
    "**inspection_date**"
   ]
  },
  {
   "cell_type": "code",
   "execution_count": 408,
   "metadata": {},
   "outputs": [
    {
     "data": {
      "text/plain": [
       "0"
      ]
     },
     "execution_count": 408,
     "metadata": {},
     "output_type": "execute_result"
    }
   ],
   "source": [
    "df['inspection_date'].isna().sum()"
   ]
  },
  {
   "cell_type": "code",
   "execution_count": 415,
   "metadata": {},
   "outputs": [
    {
     "name": "stdout",
     "output_type": "stream",
     "text": [
      "2020-10-22T00:00:00.000\n"
     ]
    },
    {
     "data": {
      "text/plain": [
       "str"
      ]
     },
     "execution_count": 415,
     "metadata": {},
     "output_type": "execute_result"
    }
   ],
   "source": [
    "print(df['inspection_date'][5])\n",
    "type(df['inspection_date'].iloc[5])"
   ]
  },
  {
   "cell_type": "markdown",
   "metadata": {},
   "source": [
    "I'll need to conver the inspection date column to datetime"
   ]
  },
  {
   "cell_type": "code",
   "execution_count": 412,
   "metadata": {},
   "outputs": [],
   "source": [
    "#Convert inspection_date column\n",
    "df['inspection_date_new'] = df['inspection_date'].apply(lambda x: datetime.strptime(x, '%Y-%m-%dT%H:%M:%S.%f'))\n"
   ]
  },
  {
   "cell_type": "code",
   "execution_count": 420,
   "metadata": {},
   "outputs": [
    {
     "data": {
      "text/plain": [
       "'10/23/20'"
      ]
     },
     "execution_count": 420,
     "metadata": {},
     "output_type": "execute_result"
    }
   ],
   "source": [
    "df.iloc[0]['inspection_date_new'].strftime(format='%x')"
   ]
  },
  {
   "cell_type": "code",
   "execution_count": 416,
   "metadata": {},
   "outputs": [
    {
     "name": "stdout",
     "output_type": "stream",
     "text": [
      "2020-10-22 00:00:00\n"
     ]
    },
    {
     "data": {
      "text/plain": [
       "pandas._libs.tslibs.timestamps.Timestamp"
      ]
     },
     "execution_count": 416,
     "metadata": {},
     "output_type": "execute_result"
    }
   ],
   "source": [
    "print(df['inspection_date_new'][5])\n",
    "type(df['inspection_date_new'].iloc[5])\n"
   ]
  },
  {
   "cell_type": "code",
   "execution_count": 422,
   "metadata": {},
   "outputs": [],
   "source": [
    "df['inspection_date_new'] = df['inspection_date_new'].apply(lambda x: x.strftime(format='%x'))"
   ]
  },
  {
   "cell_type": "code",
   "execution_count": 423,
   "metadata": {},
   "outputs": [
    {
     "name": "stdout",
     "output_type": "stream",
     "text": [
      "10/22/20\n"
     ]
    },
    {
     "data": {
      "text/plain": [
       "str"
      ]
     },
     "execution_count": 423,
     "metadata": {},
     "output_type": "execute_result"
    }
   ],
   "source": [
    "print(df['inspection_date_new'][5])\n",
    "type(df['inspection_date_new'].iloc[5])"
   ]
  },
  {
   "cell_type": "code",
   "execution_count": null,
   "metadata": {},
   "outputs": [],
   "source": []
  },
  {
   "cell_type": "code",
   "execution_count": 175,
   "metadata": {},
   "outputs": [],
   "source": []
  },
  {
   "cell_type": "code",
   "execution_count": 424,
   "metadata": {},
   "outputs": [
    {
     "data": {
      "image/png": "[encoded data removed]",
      "text/plain": [
       "<Figure size 1296x576 with 1 Axes>"
      ]
     },
     "metadata": {
      "needs_background": "light"
     },
     "output_type": "display_data"
    }
   ],
   "source": [
    "import matplotlib.pylab as plt\n",
    "from collections import Counter\n",
    "\n",
    "# Tally occurrences of words in a list\n",
    "cnt = Counter()\n",
    "for day in df['inspection_date_new']:\n",
    "    cnt[day] += 1\n",
    "\n",
    "\n",
    "lists = sorted(cnt.items()) # sorted by key, return a list of tuples\n",
    "x, y = zip(*lists) # unpack a list of pairs into two tuples\n",
    "\n",
    "plt.figure(figsize=(18,8))\n",
    "plt.plot(x, y)\n",
    "\n",
    "plt.show()\n"
   ]
  },
  {
   "cell_type": "markdown",
   "metadata": {},
   "source": [
    "**inspection_type**\n"
   ]
  },
  {
   "cell_type": "code",
   "execution_count": 426,
   "metadata": {},
   "outputs": [
    {
     "data": {
      "text/plain": [
       "1"
      ]
     },
     "execution_count": 426,
     "metadata": {},
     "output_type": "execute_result"
    }
   ],
   "source": [
    "df['inspection_type'].isna().sum()\n"
   ]
  },
  {
   "cell_type": "code",
   "execution_count": 430,
   "metadata": {},
   "outputs": [],
   "source": [
    "df = df.dropna(subset=['inspection_type'])\n"
   ]
  },
  {
   "cell_type": "code",
   "execution_count": 432,
   "metadata": {},
   "outputs": [
    {
     "data": {
      "text/plain": [
       "Canvass                                   112744\n",
       "License                                    27792\n",
       "Canvass Re-Inspection                      22522\n",
       "Complaint                                  19602\n",
       "License Re-Inspection                       9466\n",
       "Complaint Re-Inspection                     8090\n",
       "Short Form Complaint                        7134\n",
       "Suspected Food Poisoning                     874\n",
       "Consultation                                 672\n",
       "License-Task Force                           604\n",
       "Tag Removal                                  603\n",
       "Recent Inspection                            357\n",
       "Out of Business                              284\n",
       "Task Force Liquor 1475                       252\n",
       "Suspected Food Poisoning Re-inspection       193\n",
       "Name: inspection_type, dtype: int64"
      ]
     },
     "execution_count": 432,
     "metadata": {},
     "output_type": "execute_result"
    }
   ],
   "source": [
    "df['inspection_type'].value_counts().head(15)\n"
   ]
  },
  {
   "cell_type": "markdown",
   "metadata": {},
   "source": [
    "**results**\n"
   ]
  },
  {
   "cell_type": "code",
   "execution_count": 439,
   "metadata": {},
   "outputs": [
    {
     "data": {
      "text/html": [
       "<div>\n",
       "<style scoped>\n",
       "    .dataframe tbody tr th:only-of-type {\n",
       "        vertical-align: middle;\n",
       "    }\n",
       "\n",
       "    .dataframe tbody tr th {\n",
       "        vertical-align: top;\n",
       "    }\n",
       "\n",
       "    .dataframe thead th {\n",
       "        text-align: right;\n",
       "    }\n",
       "</style>\n",
       "<table border=\"1\" class=\"dataframe\">\n",
       "  <thead>\n",
       "    <tr style=\"text-align: right;\">\n",
       "      <th></th>\n",
       "      <th>counts</th>\n",
       "      <th>percentage</th>\n",
       "    </tr>\n",
       "  </thead>\n",
       "  <tbody>\n",
       "    <tr>\n",
       "      <th>Pass</th>\n",
       "      <td>111230</td>\n",
       "      <td>0.524992</td>\n",
       "    </tr>\n",
       "    <tr>\n",
       "      <th>Fail</th>\n",
       "      <td>40951</td>\n",
       "      <td>0.193284</td>\n",
       "    </tr>\n",
       "    <tr>\n",
       "      <th>Pass w/ Conditions</th>\n",
       "      <td>31990</td>\n",
       "      <td>0.150989</td>\n",
       "    </tr>\n",
       "    <tr>\n",
       "      <th>Out of Business</th>\n",
       "      <td>18377</td>\n",
       "      <td>0.086737</td>\n",
       "    </tr>\n",
       "    <tr>\n",
       "      <th>No Entry</th>\n",
       "      <td>7055</td>\n",
       "      <td>0.033299</td>\n",
       "    </tr>\n",
       "    <tr>\n",
       "      <th>Not Ready</th>\n",
       "      <td>2197</td>\n",
       "      <td>0.010370</td>\n",
       "    </tr>\n",
       "    <tr>\n",
       "      <th>Business Not Located</th>\n",
       "      <td>70</td>\n",
       "      <td>0.000330</td>\n",
       "    </tr>\n",
       "  </tbody>\n",
       "</table>\n",
       "</div>"
      ],
      "text/plain": [
       "                      counts  percentage\n",
       "Pass                  111230    0.524992\n",
       "Fail                   40951    0.193284\n",
       "Pass w/ Conditions     31990    0.150989\n",
       "Out of Business        18377    0.086737\n",
       "No Entry                7055    0.033299\n",
       "Not Ready               2197    0.010370\n",
       "Business Not Located      70    0.000330"
      ]
     },
     "execution_count": 439,
     "metadata": {},
     "output_type": "execute_result"
    }
   ],
   "source": [
    "pd.DataFrame({'counts':df['results'].value_counts(),\n",
    "              'percentage':df['results'].value_counts()/df.shape[0]})"
   ]
  },
  {
   "cell_type": "markdown",
   "metadata": {},
   "source": [
    "I'm building a classification model to predict the multinomial classifications above based on the inspector's comments. Therefore, I plan to exclude the four results that we do not have sufficient records. Separately, I also noticed some records for \"no entry\" still had comments associated with them. "
   ]
  },
  {
   "cell_type": "code",
   "execution_count": 442,
   "metadata": {},
   "outputs": [
    {
     "data": {
      "text/html": [
       "<div>\n",
       "<style scoped>\n",
       "    .dataframe tbody tr th:only-of-type {\n",
       "        vertical-align: middle;\n",
       "    }\n",
       "\n",
       "    .dataframe tbody tr th {\n",
       "        vertical-align: top;\n",
       "    }\n",
       "\n",
       "    .dataframe thead th {\n",
       "        text-align: right;\n",
       "    }\n",
       "</style>\n",
       "<table border=\"1\" class=\"dataframe\">\n",
       "  <thead>\n",
       "    <tr style=\"text-align: right;\">\n",
       "      <th></th>\n",
       "      <th>inspection_id</th>\n",
       "      <th>dba_name</th>\n",
       "      <th>aka_name</th>\n",
       "      <th>license_</th>\n",
       "      <th>facility_type</th>\n",
       "      <th>risk</th>\n",
       "      <th>address</th>\n",
       "      <th>city</th>\n",
       "      <th>state</th>\n",
       "      <th>zip</th>\n",
       "      <th>inspection_date</th>\n",
       "      <th>inspection_type</th>\n",
       "      <th>results</th>\n",
       "      <th>violations</th>\n",
       "      <th>latitude</th>\n",
       "      <th>longitude</th>\n",
       "      <th>location</th>\n",
       "      <th>inspection_date_new</th>\n",
       "    </tr>\n",
       "  </thead>\n",
       "  <tbody>\n",
       "    <tr>\n",
       "      <th>18</th>\n",
       "      <td>2453650</td>\n",
       "      <td>STUDIO MOVIE GRILL</td>\n",
       "      <td>STUDIO MOVIE GRILL</td>\n",
       "      <td>2309244</td>\n",
       "      <td>Restaurant</td>\n",
       "      <td>Risk 1 (High)</td>\n",
       "      <td>210 W 87TH ST</td>\n",
       "      <td>CHICAGO</td>\n",
       "      <td>IL</td>\n",
       "      <td>60620</td>\n",
       "      <td>2020-10-21T00:00:00.000</td>\n",
       "      <td>Canvass</td>\n",
       "      <td>No Entry</td>\n",
       "      <td>55. PHYSICAL FACILITIES INSTALLED, MAINTAINED &amp; CLEAN - Comments: Violation Codes: 6-501.11 Inspector Comments: DAMAGED FLOOR TILE AROUND THE FLOOR DRAIN BEHIND THE CONCESSION STAND. INSTRUCTED TO REPAIR/REPLACE FLOOR TILE. MAINTAIN SMOOTH AND EASILY CLEANABLE FLOORS. | 58. ALLERGEN TRAINING AS REQUIRED - Comments: Violation Codes: 2-102.13 Inspector Comments: OBSERVED NO ALLERGEN TRAINING AVAILABLE DURING INSPECTION. ALL CERTIFIED MANAGERS MUST PROVIDE ALLERGEN TRAINING.</td>\n",
       "      <td>NaN</td>\n",
       "      <td>NaN</td>\n",
       "      <td>NaN</td>\n",
       "      <td>10/21/20</td>\n",
       "    </tr>\n",
       "    <tr>\n",
       "      <th>19</th>\n",
       "      <td>2453659</td>\n",
       "      <td>WALMART #5781</td>\n",
       "      <td>WALMART #5781</td>\n",
       "      <td>2104019</td>\n",
       "      <td>Grocery Store</td>\n",
       "      <td>Risk 1 (High)</td>\n",
       "      <td>8331 S STEWART AVE</td>\n",
       "      <td>CHICAGO</td>\n",
       "      <td>IL</td>\n",
       "      <td>60620</td>\n",
       "      <td>2020-10-21T00:00:00.000</td>\n",
       "      <td>Canvass</td>\n",
       "      <td>No Entry</td>\n",
       "      <td>49. NON-FOOD/FOOD CONTACT SURFACES CLEAN - Comments: Violation Codes: 4-602.13 Inspector Comments: FOUND BLACK MOLD LIKE SUBSTANCE ON THE STORAGE RACKS WHERE THE JUICES ARE STORED IN THE REAR COLD HOLDING UNIT. INSTRUCTED TO KEEP RACKS CLEAN.</td>\n",
       "      <td>NaN</td>\n",
       "      <td>NaN</td>\n",
       "      <td>NaN</td>\n",
       "      <td>10/21/20</td>\n",
       "    </tr>\n",
       "    <tr>\n",
       "      <th>26</th>\n",
       "      <td>2453641</td>\n",
       "      <td>SANJUSTIN'S KITCHEN INC.</td>\n",
       "      <td>SANJUSTIN'S KITCHEN</td>\n",
       "      <td>2418532</td>\n",
       "      <td>Catering</td>\n",
       "      <td>Risk 1 (High)</td>\n",
       "      <td>157 W 75th ST</td>\n",
       "      <td>CHICAGO</td>\n",
       "      <td>IL</td>\n",
       "      <td>60620</td>\n",
       "      <td>2020-10-21T00:00:00.000</td>\n",
       "      <td>Canvass</td>\n",
       "      <td>No Entry</td>\n",
       "      <td>58. ALLERGEN TRAINING AS REQUIRED - Comments: Violation Codes: 2-102.13 Inspector Comments: NO ALLERGEN TRAINING FOR THE CERTIFIED FOOD MANAGERS. INSTRUCTED THAT ANY EMPLOYEE WITH CITY OF CHICAGO FOOD CERTIFICATE MUST HAVE ALLERGEN TRAINING.</td>\n",
       "      <td>NaN</td>\n",
       "      <td>NaN</td>\n",
       "      <td>NaN</td>\n",
       "      <td>10/21/20</td>\n",
       "    </tr>\n",
       "    <tr>\n",
       "      <th>40</th>\n",
       "      <td>2453552</td>\n",
       "      <td>CLAMP DOWN BURGERS</td>\n",
       "      <td>CLAMP DOWN BURGERS</td>\n",
       "      <td>2749943</td>\n",
       "      <td>Not Disclosed</td>\n",
       "      <td>Risk 2 (Medium)</td>\n",
       "      <td>1742 W DIVISION ST</td>\n",
       "      <td>CHICAGO</td>\n",
       "      <td>IL</td>\n",
       "      <td>60622</td>\n",
       "      <td>2020-10-20T00:00:00.000</td>\n",
       "      <td>License</td>\n",
       "      <td>No Entry</td>\n",
       "      <td>NaN</td>\n",
       "      <td>NaN</td>\n",
       "      <td>NaN</td>\n",
       "      <td>NaN</td>\n",
       "      <td>10/20/20</td>\n",
       "    </tr>\n",
       "    <tr>\n",
       "      <th>74</th>\n",
       "      <td>2453489</td>\n",
       "      <td>LA FUENTE BANQUET HALL</td>\n",
       "      <td>LA FUENTE BANQUET HALL</td>\n",
       "      <td>1841170</td>\n",
       "      <td>Restaurant</td>\n",
       "      <td>Risk 1 (High)</td>\n",
       "      <td>2514 W 51ST ST</td>\n",
       "      <td>CHICAGO</td>\n",
       "      <td>IL</td>\n",
       "      <td>60632</td>\n",
       "      <td>2020-10-19T00:00:00.000</td>\n",
       "      <td>Canvass</td>\n",
       "      <td>No Entry</td>\n",
       "      <td>NaN</td>\n",
       "      <td>NaN</td>\n",
       "      <td>NaN</td>\n",
       "      <td>NaN</td>\n",
       "      <td>10/19/20</td>\n",
       "    </tr>\n",
       "    <tr>\n",
       "      <th>...</th>\n",
       "      <td>...</td>\n",
       "      <td>...</td>\n",
       "      <td>...</td>\n",
       "      <td>...</td>\n",
       "      <td>...</td>\n",
       "      <td>...</td>\n",
       "      <td>...</td>\n",
       "      <td>...</td>\n",
       "      <td>...</td>\n",
       "      <td>...</td>\n",
       "      <td>...</td>\n",
       "      <td>...</td>\n",
       "      <td>...</td>\n",
       "      <td>...</td>\n",
       "      <td>...</td>\n",
       "      <td>...</td>\n",
       "      <td>...</td>\n",
       "      <td>...</td>\n",
       "    </tr>\n",
       "    <tr>\n",
       "      <th>167307</th>\n",
       "      <td>1230048</td>\n",
       "      <td>TAPAS LAS RAMBLAS</td>\n",
       "      <td>TAPAS LAS RAMBLAS</td>\n",
       "      <td>1799141</td>\n",
       "      <td>Restaurant</td>\n",
       "      <td>Risk 1 (High)</td>\n",
       "      <td>5101-5103 N CLARK ST</td>\n",
       "      <td>CHICAGO</td>\n",
       "      <td>IL</td>\n",
       "      <td>60640</td>\n",
       "      <td>2012-06-05T00:00:00.000</td>\n",
       "      <td>Complaint</td>\n",
       "      <td>No Entry</td>\n",
       "      <td>NaN</td>\n",
       "      <td>NaN</td>\n",
       "      <td>NaN</td>\n",
       "      <td>NaN</td>\n",
       "      <td>06/05/12</td>\n",
       "    </tr>\n",
       "    <tr>\n",
       "      <th>167669</th>\n",
       "      <td>1229215</td>\n",
       "      <td>CHICAGO FONDUE STUBE</td>\n",
       "      <td>CHICAGO FONDUE STUBE</td>\n",
       "      <td>26813</td>\n",
       "      <td>Restaurant</td>\n",
       "      <td>Risk 1 (High)</td>\n",
       "      <td>2717 W PETERSON AVE</td>\n",
       "      <td>CHICAGO</td>\n",
       "      <td>IL</td>\n",
       "      <td>60659</td>\n",
       "      <td>2012-05-29T00:00:00.000</td>\n",
       "      <td>Canvass</td>\n",
       "      <td>No Entry</td>\n",
       "      <td>NaN</td>\n",
       "      <td>NaN</td>\n",
       "      <td>NaN</td>\n",
       "      <td>NaN</td>\n",
       "      <td>05/29/12</td>\n",
       "    </tr>\n",
       "    <tr>\n",
       "      <th>167721</th>\n",
       "      <td>1229216</td>\n",
       "      <td>KATSU ENTERPRISESES INC</td>\n",
       "      <td>KATSU JAPANESE RESTAURANT</td>\n",
       "      <td>16281</td>\n",
       "      <td>Restaurant</td>\n",
       "      <td>Risk 1 (High)</td>\n",
       "      <td>2651 W PETERSON AVE</td>\n",
       "      <td>CHICAGO</td>\n",
       "      <td>IL</td>\n",
       "      <td>60659</td>\n",
       "      <td>2012-05-29T00:00:00.000</td>\n",
       "      <td>Canvass</td>\n",
       "      <td>No Entry</td>\n",
       "      <td>NaN</td>\n",
       "      <td>NaN</td>\n",
       "      <td>NaN</td>\n",
       "      <td>NaN</td>\n",
       "      <td>05/29/12</td>\n",
       "    </tr>\n",
       "    <tr>\n",
       "      <th>172274</th>\n",
       "      <td>671042</td>\n",
       "      <td>MAGNOLIA CAFE</td>\n",
       "      <td>MAGNOLIA CAFE</td>\n",
       "      <td>1968899</td>\n",
       "      <td>Restaurant</td>\n",
       "      <td>Risk 1 (High)</td>\n",
       "      <td>1224 W WILSON AVE</td>\n",
       "      <td>CHICAGO</td>\n",
       "      <td>IL</td>\n",
       "      <td>60640</td>\n",
       "      <td>2012-03-01T00:00:00.000</td>\n",
       "      <td>Canvass</td>\n",
       "      <td>No Entry</td>\n",
       "      <td>NaN</td>\n",
       "      <td>NaN</td>\n",
       "      <td>NaN</td>\n",
       "      <td>NaN</td>\n",
       "      <td>03/01/12</td>\n",
       "    </tr>\n",
       "    <tr>\n",
       "      <th>172979</th>\n",
       "      <td>588252</td>\n",
       "      <td>GARRETT POPCORN SHOPS</td>\n",
       "      <td>GARRETT POPCORN SHOPS</td>\n",
       "      <td>2125326</td>\n",
       "      <td>Restaurant</td>\n",
       "      <td>Risk 2 (Medium)</td>\n",
       "      <td>27 W JACKSON BLVD</td>\n",
       "      <td>CHICAGO</td>\n",
       "      <td>IL</td>\n",
       "      <td>60604</td>\n",
       "      <td>2012-02-14T00:00:00.000</td>\n",
       "      <td>Complaint</td>\n",
       "      <td>No Entry</td>\n",
       "      <td>NaN</td>\n",
       "      <td>NaN</td>\n",
       "      <td>NaN</td>\n",
       "      <td>NaN</td>\n",
       "      <td>02/14/12</td>\n",
       "    </tr>\n",
       "  </tbody>\n",
       "</table>\n",
       "<p>7055 rows × 18 columns</p>\n",
       "</div>"
      ],
      "text/plain": [
       "       inspection_id                  dba_name                   aka_name  \\\n",
       "18           2453650        STUDIO MOVIE GRILL         STUDIO MOVIE GRILL   \n",
       "19           2453659             WALMART #5781              WALMART #5781   \n",
       "26           2453641  SANJUSTIN'S KITCHEN INC.        SANJUSTIN'S KITCHEN   \n",
       "40           2453552        CLAMP DOWN BURGERS         CLAMP DOWN BURGERS   \n",
       "74           2453489    LA FUENTE BANQUET HALL     LA FUENTE BANQUET HALL   \n",
       "...              ...                       ...                        ...   \n",
       "167307       1230048         TAPAS LAS RAMBLAS          TAPAS LAS RAMBLAS   \n",
       "167669       1229215      CHICAGO FONDUE STUBE       CHICAGO FONDUE STUBE   \n",
       "167721       1229216   KATSU ENTERPRISESES INC  KATSU JAPANESE RESTAURANT   \n",
       "172274        671042             MAGNOLIA CAFE              MAGNOLIA CAFE   \n",
       "172979        588252     GARRETT POPCORN SHOPS      GARRETT POPCORN SHOPS   \n",
       "\n",
       "       license_  facility_type             risk               address  \\\n",
       "18      2309244     Restaurant    Risk 1 (High)         210 W 87TH ST   \n",
       "19      2104019  Grocery Store    Risk 1 (High)    8331 S STEWART AVE   \n",
       "26      2418532       Catering    Risk 1 (High)         157 W 75th ST   \n",
       "40      2749943  Not Disclosed  Risk 2 (Medium)    1742 W DIVISION ST   \n",
       "74      1841170     Restaurant    Risk 1 (High)        2514 W 51ST ST   \n",
       "...         ...            ...              ...                   ...   \n",
       "167307  1799141     Restaurant    Risk 1 (High)  5101-5103 N CLARK ST   \n",
       "167669    26813     Restaurant    Risk 1 (High)   2717 W PETERSON AVE   \n",
       "167721    16281     Restaurant    Risk 1 (High)   2651 W PETERSON AVE   \n",
       "172274  1968899     Restaurant    Risk 1 (High)     1224 W WILSON AVE   \n",
       "172979  2125326     Restaurant  Risk 2 (Medium)     27 W JACKSON BLVD   \n",
       "\n",
       "           city state    zip          inspection_date inspection_type  \\\n",
       "18      CHICAGO    IL  60620  2020-10-21T00:00:00.000         Canvass   \n",
       "19      CHICAGO    IL  60620  2020-10-21T00:00:00.000         Canvass   \n",
       "26      CHICAGO    IL  60620  2020-10-21T00:00:00.000         Canvass   \n",
       "40      CHICAGO    IL  60622  2020-10-20T00:00:00.000         License   \n",
       "74      CHICAGO    IL  60632  2020-10-19T00:00:00.000         Canvass   \n",
       "...         ...   ...    ...                      ...             ...   \n",
       "167307  CHICAGO    IL  60640  2012-06-05T00:00:00.000       Complaint   \n",
       "167669  CHICAGO    IL  60659  2012-05-29T00:00:00.000         Canvass   \n",
       "167721  CHICAGO    IL  60659  2012-05-29T00:00:00.000         Canvass   \n",
       "172274  CHICAGO    IL  60640  2012-03-01T00:00:00.000         Canvass   \n",
       "172979  CHICAGO    IL  60604  2012-02-14T00:00:00.000       Complaint   \n",
       "\n",
       "         results  \\\n",
       "18      No Entry   \n",
       "19      No Entry   \n",
       "26      No Entry   \n",
       "40      No Entry   \n",
       "74      No Entry   \n",
       "...          ...   \n",
       "167307  No Entry   \n",
       "167669  No Entry   \n",
       "167721  No Entry   \n",
       "172274  No Entry   \n",
       "172979  No Entry   \n",
       "\n",
       "                                                                                                                                                                                                                                                                                                                                                                                                                                                                                          violations  \\\n",
       "18      55. PHYSICAL FACILITIES INSTALLED, MAINTAINED & CLEAN - Comments: Violation Codes: 6-501.11 Inspector Comments: DAMAGED FLOOR TILE AROUND THE FLOOR DRAIN BEHIND THE CONCESSION STAND. INSTRUCTED TO REPAIR/REPLACE FLOOR TILE. MAINTAIN SMOOTH AND EASILY CLEANABLE FLOORS. | 58. ALLERGEN TRAINING AS REQUIRED - Comments: Violation Codes: 2-102.13 Inspector Comments: OBSERVED NO ALLERGEN TRAINING AVAILABLE DURING INSPECTION. ALL CERTIFIED MANAGERS MUST PROVIDE ALLERGEN TRAINING.   \n",
       "19                                                                                                                                                                                                                                                49. NON-FOOD/FOOD CONTACT SURFACES CLEAN - Comments: Violation Codes: 4-602.13 Inspector Comments: FOUND BLACK MOLD LIKE SUBSTANCE ON THE STORAGE RACKS WHERE THE JUICES ARE STORED IN THE REAR COLD HOLDING UNIT. INSTRUCTED TO KEEP RACKS CLEAN.   \n",
       "26                                                                                                                                                                                                                                                 58. ALLERGEN TRAINING AS REQUIRED - Comments: Violation Codes: 2-102.13 Inspector Comments: NO ALLERGEN TRAINING FOR THE CERTIFIED FOOD MANAGERS. INSTRUCTED THAT ANY EMPLOYEE WITH CITY OF CHICAGO FOOD CERTIFICATE MUST HAVE ALLERGEN TRAINING.   \n",
       "40                                                                                                                                                                                                                                                                                                                                                                                                                                                                                               NaN   \n",
       "74                                                                                                                                                                                                                                                                                                                                                                                                                                                                                               NaN   \n",
       "...                                                                                                                                                                                                                                                                                                                                                                                                                                                                                              ...   \n",
       "167307                                                                                                                                                                                                                                                                                                                                                                                                                                                                                           NaN   \n",
       "167669                                                                                                                                                                                                                                                                                                                                                                                                                                                                                           NaN   \n",
       "167721                                                                                                                                                                                                                                                                                                                                                                                                                                                                                           NaN   \n",
       "172274                                                                                                                                                                                                                                                                                                                                                                                                                                                                                           NaN   \n",
       "172979                                                                                                                                                                                                                                                                                                                                                                                                                                                                                           NaN   \n",
       "\n",
       "       latitude longitude location inspection_date_new  \n",
       "18          NaN       NaN      NaN            10/21/20  \n",
       "19          NaN       NaN      NaN            10/21/20  \n",
       "26          NaN       NaN      NaN            10/21/20  \n",
       "40          NaN       NaN      NaN            10/20/20  \n",
       "74          NaN       NaN      NaN            10/19/20  \n",
       "...         ...       ...      ...                 ...  \n",
       "167307      NaN       NaN      NaN            06/05/12  \n",
       "167669      NaN       NaN      NaN            05/29/12  \n",
       "167721      NaN       NaN      NaN            05/29/12  \n",
       "172274      NaN       NaN      NaN            03/01/12  \n",
       "172979      NaN       NaN      NaN            02/14/12  \n",
       "\n",
       "[7055 rows x 18 columns]"
      ]
     },
     "execution_count": 442,
     "metadata": {},
     "output_type": "execute_result"
    }
   ],
   "source": [
    "df[df['results']=='No Entry']"
   ]
  },
  {
   "cell_type": "code",
   "execution_count": 453,
   "metadata": {},
   "outputs": [],
   "source": [
    "#I'm setting the threshold for data sufficiency at 15%, so if a result is not at least 15% of the dataset, it will be dropped\n",
    "perc = df['results'].value_counts()/df.shape[0]\n",
    "my_list = perc[perc>0.15].keys().to_list()\n",
    "\n",
    "df = df[df.results.isin(my_list)]"
   ]
  },
  {
   "cell_type": "markdown",
   "metadata": {},
   "source": [
    "**violations**\n"
   ]
  },
  {
   "cell_type": "code",
   "execution_count": 454,
   "metadata": {},
   "outputs": [
    {
     "data": {
      "text/plain": [
       "29225"
      ]
     },
     "execution_count": 454,
     "metadata": {},
     "output_type": "execute_result"
    }
   ],
   "source": [
    "df.violations.isna().sum()"
   ]
  },
  {
   "cell_type": "code",
   "execution_count": 457,
   "metadata": {},
   "outputs": [
    {
     "data": {
      "text/html": [
       "<div>\n",
       "<style scoped>\n",
       "    .dataframe tbody tr th:only-of-type {\n",
       "        vertical-align: middle;\n",
       "    }\n",
       "\n",
       "    .dataframe tbody tr th {\n",
       "        vertical-align: top;\n",
       "    }\n",
       "\n",
       "    .dataframe thead th {\n",
       "        text-align: right;\n",
       "    }\n",
       "</style>\n",
       "<table border=\"1\" class=\"dataframe\">\n",
       "  <thead>\n",
       "    <tr style=\"text-align: right;\">\n",
       "      <th></th>\n",
       "      <th>inspection_id</th>\n",
       "      <th>dba_name</th>\n",
       "      <th>aka_name</th>\n",
       "      <th>license_</th>\n",
       "      <th>facility_type</th>\n",
       "      <th>risk</th>\n",
       "      <th>address</th>\n",
       "      <th>city</th>\n",
       "      <th>state</th>\n",
       "      <th>zip</th>\n",
       "      <th>inspection_date</th>\n",
       "      <th>inspection_type</th>\n",
       "      <th>results</th>\n",
       "      <th>violations</th>\n",
       "      <th>latitude</th>\n",
       "      <th>longitude</th>\n",
       "      <th>location</th>\n",
       "      <th>inspection_date_new</th>\n",
       "    </tr>\n",
       "  </thead>\n",
       "  <tbody>\n",
       "    <tr>\n",
       "      <th>209946</th>\n",
       "      <td>176264</td>\n",
       "      <td>THRESHOLDS</td>\n",
       "      <td>THRESHOLDS</td>\n",
       "      <td>44305</td>\n",
       "      <td>Children's Services Facility</td>\n",
       "      <td>Risk 1 (High)</td>\n",
       "      <td>1110 W BELMONT AVE</td>\n",
       "      <td>CHICAGO</td>\n",
       "      <td>IL</td>\n",
       "      <td>60657</td>\n",
       "      <td>2010-02-17T00:00:00.000</td>\n",
       "      <td>License</td>\n",
       "      <td>Pass</td>\n",
       "      <td>NaN</td>\n",
       "      <td>NaN</td>\n",
       "      <td>NaN</td>\n",
       "      <td>NaN</td>\n",
       "      <td>02/17/10</td>\n",
       "    </tr>\n",
       "    <tr>\n",
       "      <th>198194</th>\n",
       "      <td>409300</td>\n",
       "      <td>AMERICA'S DOG</td>\n",
       "      <td>AMERICA'S DOG</td>\n",
       "      <td>1798214</td>\n",
       "      <td>Restaurant</td>\n",
       "      <td>Risk 1 (High)</td>\n",
       "      <td>22 E RANDOLPH ST</td>\n",
       "      <td>CHICAGO</td>\n",
       "      <td>IL</td>\n",
       "      <td>60601</td>\n",
       "      <td>2010-10-01T00:00:00.000</td>\n",
       "      <td>Consultation</td>\n",
       "      <td>Pass</td>\n",
       "      <td>NaN</td>\n",
       "      <td>NaN</td>\n",
       "      <td>NaN</td>\n",
       "      <td>NaN</td>\n",
       "      <td>10/01/10</td>\n",
       "    </tr>\n",
       "    <tr>\n",
       "      <th>152981</th>\n",
       "      <td>1110304</td>\n",
       "      <td>AFCSushi@Northwestern Memorial Hospital</td>\n",
       "      <td>AFC Sushi</td>\n",
       "      <td>1998085</td>\n",
       "      <td>Restaurant</td>\n",
       "      <td>Risk 1 (High)</td>\n",
       "      <td>251 E HURON ST</td>\n",
       "      <td>CHICAGO</td>\n",
       "      <td>IL</td>\n",
       "      <td>60611</td>\n",
       "      <td>2013-03-06T00:00:00.000</td>\n",
       "      <td>Canvass</td>\n",
       "      <td>Pass</td>\n",
       "      <td>NaN</td>\n",
       "      <td>NaN</td>\n",
       "      <td>NaN</td>\n",
       "      <td>NaN</td>\n",
       "      <td>03/06/13</td>\n",
       "    </tr>\n",
       "    <tr>\n",
       "      <th>177255</th>\n",
       "      <td>509422</td>\n",
       "      <td>SPEEDY MINI-MART</td>\n",
       "      <td>SPEEDY MINI-MART</td>\n",
       "      <td>1741572</td>\n",
       "      <td>Grocery Store</td>\n",
       "      <td>Risk 2 (Medium)</td>\n",
       "      <td>2801 W 63RD ST</td>\n",
       "      <td>CHICAGO</td>\n",
       "      <td>IL</td>\n",
       "      <td>60629</td>\n",
       "      <td>2011-11-16T00:00:00.000</td>\n",
       "      <td>Complaint Re-Inspection</td>\n",
       "      <td>Pass</td>\n",
       "      <td>NaN</td>\n",
       "      <td>NaN</td>\n",
       "      <td>NaN</td>\n",
       "      <td>NaN</td>\n",
       "      <td>11/16/11</td>\n",
       "    </tr>\n",
       "    <tr>\n",
       "      <th>198864</th>\n",
       "      <td>413714</td>\n",
       "      <td>THE DOCK AT MONTROSE BEACH</td>\n",
       "      <td>THE DOCK AT MONTROSE BEACH</td>\n",
       "      <td>2043260</td>\n",
       "      <td>Restaurant</td>\n",
       "      <td>Risk 1 (High)</td>\n",
       "      <td>4400 N SIMONDS DR</td>\n",
       "      <td>CHICAGO</td>\n",
       "      <td>IL</td>\n",
       "      <td>60640</td>\n",
       "      <td>2010-09-21T00:00:00.000</td>\n",
       "      <td>License</td>\n",
       "      <td>Fail</td>\n",
       "      <td>NaN</td>\n",
       "      <td>NaN</td>\n",
       "      <td>NaN</td>\n",
       "      <td>NaN</td>\n",
       "      <td>09/21/10</td>\n",
       "    </tr>\n",
       "    <tr>\n",
       "      <th>190091</th>\n",
       "      <td>569251</td>\n",
       "      <td>FOX &amp; OBEL</td>\n",
       "      <td>FOX &amp; OBEL</td>\n",
       "      <td>1893331</td>\n",
       "      <td>Restaurant</td>\n",
       "      <td>Risk 1 (High)</td>\n",
       "      <td>401 E ILLINOIS ST</td>\n",
       "      <td>CHICAGO</td>\n",
       "      <td>IL</td>\n",
       "      <td>60611</td>\n",
       "      <td>2011-03-21T00:00:00.000</td>\n",
       "      <td>Complaint Re-Inspection</td>\n",
       "      <td>Pass</td>\n",
       "      <td>NaN</td>\n",
       "      <td>NaN</td>\n",
       "      <td>NaN</td>\n",
       "      <td>NaN</td>\n",
       "      <td>03/21/11</td>\n",
       "    </tr>\n",
       "    <tr>\n",
       "      <th>63323</th>\n",
       "      <td>2028787</td>\n",
       "      <td>TRUMAN MIDDLE COLLEGE HIGH SCHOOL</td>\n",
       "      <td>TRUMAN MIDDLE COLLEGE HIGH SCHOOL</td>\n",
       "      <td>3122637</td>\n",
       "      <td>School</td>\n",
       "      <td>Risk 3 (Low)</td>\n",
       "      <td>1145 W WILSON AVE</td>\n",
       "      <td>CHICAGO</td>\n",
       "      <td>IL</td>\n",
       "      <td>60640</td>\n",
       "      <td>2017-04-24T00:00:00.000</td>\n",
       "      <td>Canvass</td>\n",
       "      <td>Pass</td>\n",
       "      <td>NaN</td>\n",
       "      <td>NaN</td>\n",
       "      <td>NaN</td>\n",
       "      <td>NaN</td>\n",
       "      <td>04/24/17</td>\n",
       "    </tr>\n",
       "    <tr>\n",
       "      <th>19655</th>\n",
       "      <td>2304586</td>\n",
       "      <td>ROOTS HANDMADE PIZZA - SECOND CITY/UTOPIAN TAILGAT</td>\n",
       "      <td>ROOTS HANDMADE PIZZA - SECOND CITY/UTOPIAN TAILGAT</td>\n",
       "      <td>2636845</td>\n",
       "      <td>Restaurant</td>\n",
       "      <td>Risk 3 (Low)</td>\n",
       "      <td>1610 N WELLS ST</td>\n",
       "      <td>CHICAGO</td>\n",
       "      <td>IL</td>\n",
       "      <td>60614</td>\n",
       "      <td>2019-08-13T00:00:00.000</td>\n",
       "      <td>License</td>\n",
       "      <td>Fail</td>\n",
       "      <td>NaN</td>\n",
       "      <td>NaN</td>\n",
       "      <td>NaN</td>\n",
       "      <td>NaN</td>\n",
       "      <td>08/13/19</td>\n",
       "    </tr>\n",
       "    <tr>\n",
       "      <th>103277</th>\n",
       "      <td>1560190</td>\n",
       "      <td>GIORDANO'S RESTAURANT</td>\n",
       "      <td>GIORDANO'S RESTAURANT</td>\n",
       "      <td>2184219</td>\n",
       "      <td>Restaurant</td>\n",
       "      <td>Risk 1 (High)</td>\n",
       "      <td>1340 S MICHIGAN AVE</td>\n",
       "      <td>CHICAGO</td>\n",
       "      <td>IL</td>\n",
       "      <td>60605</td>\n",
       "      <td>2015-07-14T00:00:00.000</td>\n",
       "      <td>Canvass</td>\n",
       "      <td>Pass</td>\n",
       "      <td>NaN</td>\n",
       "      <td>NaN</td>\n",
       "      <td>NaN</td>\n",
       "      <td>NaN</td>\n",
       "      <td>07/14/15</td>\n",
       "    </tr>\n",
       "    <tr>\n",
       "      <th>66213</th>\n",
       "      <td>1995332</td>\n",
       "      <td>CHINA CHEF</td>\n",
       "      <td>CHINA CHEF</td>\n",
       "      <td>2245705</td>\n",
       "      <td>Restaurant</td>\n",
       "      <td>Risk 1 (High)</td>\n",
       "      <td>4600 W BELMONT AVE</td>\n",
       "      <td>CHICAGO</td>\n",
       "      <td>IL</td>\n",
       "      <td>60641</td>\n",
       "      <td>2017-03-09T00:00:00.000</td>\n",
       "      <td>Complaint Re-Inspection</td>\n",
       "      <td>Pass</td>\n",
       "      <td>NaN</td>\n",
       "      <td>NaN</td>\n",
       "      <td>NaN</td>\n",
       "      <td>NaN</td>\n",
       "      <td>03/09/17</td>\n",
       "    </tr>\n",
       "  </tbody>\n",
       "</table>\n",
       "</div>"
      ],
      "text/plain": [
       "       inspection_id                                            dba_name  \\\n",
       "209946        176264                                          THRESHOLDS   \n",
       "198194        409300                                       AMERICA'S DOG   \n",
       "152981       1110304             AFCSushi@Northwestern Memorial Hospital   \n",
       "177255        509422                                    SPEEDY MINI-MART   \n",
       "198864        413714                          THE DOCK AT MONTROSE BEACH   \n",
       "190091        569251                                          FOX & OBEL   \n",
       "63323        2028787                   TRUMAN MIDDLE COLLEGE HIGH SCHOOL   \n",
       "19655        2304586  ROOTS HANDMADE PIZZA - SECOND CITY/UTOPIAN TAILGAT   \n",
       "103277       1560190                               GIORDANO'S RESTAURANT   \n",
       "66213        1995332                                          CHINA CHEF   \n",
       "\n",
       "                                                  aka_name license_  \\\n",
       "209946                                          THRESHOLDS    44305   \n",
       "198194                                       AMERICA'S DOG  1798214   \n",
       "152981                                           AFC Sushi  1998085   \n",
       "177255                                    SPEEDY MINI-MART  1741572   \n",
       "198864                          THE DOCK AT MONTROSE BEACH  2043260   \n",
       "190091                                          FOX & OBEL  1893331   \n",
       "63323                    TRUMAN MIDDLE COLLEGE HIGH SCHOOL  3122637   \n",
       "19655   ROOTS HANDMADE PIZZA - SECOND CITY/UTOPIAN TAILGAT  2636845   \n",
       "103277                               GIORDANO'S RESTAURANT  2184219   \n",
       "66213                                           CHINA CHEF  2245705   \n",
       "\n",
       "                       facility_type             risk              address  \\\n",
       "209946  Children's Services Facility    Risk 1 (High)   1110 W BELMONT AVE   \n",
       "198194                    Restaurant    Risk 1 (High)     22 E RANDOLPH ST   \n",
       "152981                    Restaurant    Risk 1 (High)       251 E HURON ST   \n",
       "177255                 Grocery Store  Risk 2 (Medium)       2801 W 63RD ST   \n",
       "198864                    Restaurant    Risk 1 (High)    4400 N SIMONDS DR   \n",
       "190091                    Restaurant    Risk 1 (High)    401 E ILLINOIS ST   \n",
       "63323                         School     Risk 3 (Low)    1145 W WILSON AVE   \n",
       "19655                     Restaurant     Risk 3 (Low)      1610 N WELLS ST   \n",
       "103277                    Restaurant    Risk 1 (High)  1340 S MICHIGAN AVE   \n",
       "66213                     Restaurant    Risk 1 (High)   4600 W BELMONT AVE   \n",
       "\n",
       "           city state    zip          inspection_date  \\\n",
       "209946  CHICAGO    IL  60657  2010-02-17T00:00:00.000   \n",
       "198194  CHICAGO    IL  60601  2010-10-01T00:00:00.000   \n",
       "152981  CHICAGO    IL  60611  2013-03-06T00:00:00.000   \n",
       "177255  CHICAGO    IL  60629  2011-11-16T00:00:00.000   \n",
       "198864  CHICAGO    IL  60640  2010-09-21T00:00:00.000   \n",
       "190091  CHICAGO    IL  60611  2011-03-21T00:00:00.000   \n",
       "63323   CHICAGO    IL  60640  2017-04-24T00:00:00.000   \n",
       "19655   CHICAGO    IL  60614  2019-08-13T00:00:00.000   \n",
       "103277  CHICAGO    IL  60605  2015-07-14T00:00:00.000   \n",
       "66213   CHICAGO    IL  60641  2017-03-09T00:00:00.000   \n",
       "\n",
       "                inspection_type results violations latitude longitude  \\\n",
       "209946                  License    Pass        NaN      NaN       NaN   \n",
       "198194             Consultation    Pass        NaN      NaN       NaN   \n",
       "152981                  Canvass    Pass        NaN      NaN       NaN   \n",
       "177255  Complaint Re-Inspection    Pass        NaN      NaN       NaN   \n",
       "198864                  License    Fail        NaN      NaN       NaN   \n",
       "190091  Complaint Re-Inspection    Pass        NaN      NaN       NaN   \n",
       "63323                   Canvass    Pass        NaN      NaN       NaN   \n",
       "19655                   License    Fail        NaN      NaN       NaN   \n",
       "103277                  Canvass    Pass        NaN      NaN       NaN   \n",
       "66213   Complaint Re-Inspection    Pass        NaN      NaN       NaN   \n",
       "\n",
       "       location inspection_date_new  \n",
       "209946      NaN            02/17/10  \n",
       "198194      NaN            10/01/10  \n",
       "152981      NaN            03/06/13  \n",
       "177255      NaN            11/16/11  \n",
       "198864      NaN            09/21/10  \n",
       "190091      NaN            03/21/11  \n",
       "63323       NaN            04/24/17  \n",
       "19655       NaN            08/13/19  \n",
       "103277      NaN            07/14/15  \n",
       "66213       NaN            03/09/17  "
      ]
     },
     "execution_count": 457,
     "metadata": {},
     "output_type": "execute_result"
    }
   ],
   "source": [
    "df[df['violations'].isna()].sample(n=10, random_state=512)"
   ]
  },
  {
   "cell_type": "markdown",
   "metadata": {},
   "source": [
    "The inspector's comments are a key independent variable. Therefore, any records with missing comments have to be dropped"
   ]
  },
  {
   "cell_type": "code",
   "execution_count": 458,
   "metadata": {},
   "outputs": [],
   "source": [
    "df = df.dropna(subset=['violations'])"
   ]
  },
  {
   "cell_type": "markdown",
   "metadata": {},
   "source": [
    "**latitude & longitude**"
   ]
  },
  {
   "cell_type": "code",
   "execution_count": 460,
   "metadata": {},
   "outputs": [
    {
     "name": "stdout",
     "output_type": "stream",
     "text": [
      "154661\n",
      "154661\n"
     ]
    }
   ],
   "source": [
    "print(df.latitude.isna().sum())\n",
    "print(df.longitude.isna().sum())"
   ]
  },
  {
   "cell_type": "code",
   "execution_count": 461,
   "metadata": {},
   "outputs": [],
   "source": [
    "df['latitude'] = df['latitude'].fillna('Not Disclosed')\n",
    "df['longitude'] = df['longitude'].fillna('Not Disclosed')"
   ]
  },
  {
   "cell_type": "markdown",
   "metadata": {},
   "source": [
    "**location**"
   ]
  },
  {
   "cell_type": "code",
   "execution_count": 462,
   "metadata": {},
   "outputs": [
    {
     "data": {
      "text/plain": [
       "154661"
      ]
     },
     "execution_count": 462,
     "metadata": {},
     "output_type": "execute_result"
    }
   ],
   "source": [
    "df['location'].isna().sum()"
   ]
  },
  {
   "cell_type": "code",
   "execution_count": 463,
   "metadata": {},
   "outputs": [],
   "source": [
    "df['location'] = df['location'].fillna('Not Disclosed')"
   ]
  },
  {
   "cell_type": "markdown",
   "metadata": {},
   "source": [
    "I want to use the address and the geopy package to pull the latitude and longitude values. But I noticed there were a lot of typos in the City list. We know that a city can have multiple zipcodes but a zipcode can only have one city."
   ]
  },
  {
   "cell_type": "code",
   "execution_count": 468,
   "metadata": {},
   "outputs": [],
   "source": []
  },
  {
   "cell_type": "code",
   "execution_count": 484,
   "metadata": {},
   "outputs": [],
   "source": [
    "#list of unique zipcodes\n",
    "zipcode_list = df['zip'].unique()\n",
    "\n",
    "#empty dictionary for for loop\n",
    "my_new_dict = {}\n",
    "\n",
    "#loop through unique zipcodes and check the length of the value counts\n",
    "for z in zipcode_list:\n",
    "    my_new_dict[z] = len(df[df.zip==str(z)][['city']]['city'].value_counts())\n",
    "    \n"
   ]
  },
  {
   "cell_type": "code",
   "execution_count": 507,
   "metadata": {},
   "outputs": [],
   "source": [
    "sort_zipcodes = sorted(my_new_dict.items(), key=lambda x: x[1], reverse=True)"
   ]
  },
  {
   "cell_type": "code",
   "execution_count": 515,
   "metadata": {},
   "outputs": [
    {
     "data": {
      "text/plain": [
       "[('60649', 5),\n",
       " ('60610', 4),\n",
       " ('60638', 3),\n",
       " ('60608', 3),\n",
       " ('60659', 3),\n",
       " ('60618', 3),\n",
       " ('60647', 3),\n",
       " ('60639', 3),\n",
       " ('60606', 3),\n",
       " ('60611', 3),\n",
       " ('60612', 3),\n",
       " ('60642', 3),\n",
       " ('60625', 2),\n",
       " ('60609', 2),\n",
       " ('60644', 2),\n",
       " ('60601', 2),\n",
       " ('60619', 2),\n",
       " ('60620', 2),\n",
       " ('60641', 2),\n",
       " ('60614', 2),\n",
       " ('60634', 2),\n",
       " ('60622', 2),\n",
       " ('60632', 2),\n",
       " ('60621', 2),\n",
       " ('60629', 2),\n",
       " ('60607', 2),\n",
       " ('60646', 2),\n",
       " ('60605', 2),\n",
       " ('60616', 2),\n",
       " ('60637', 2),\n",
       " ('60666', 2),\n",
       " ('60617', 2),\n",
       " ('60707', 2),\n",
       " ('60603', 2),\n",
       " ('60153', 2),\n",
       " ('60626', 1)]"
      ]
     },
     "execution_count": 515,
     "metadata": {},
     "output_type": "execute_result"
    }
   ],
   "source": [
    "sort_zipcodes[:36]"
   ]
  },
  {
   "cell_type": "code",
   "execution_count": 555,
   "metadata": {},
   "outputs": [
    {
     "data": {
      "text/plain": [
       "CHICAGO    2574\n",
       "Name: city, dtype: int64"
      ]
     },
     "execution_count": 555,
     "metadata": {},
     "output_type": "execute_result"
    }
   ],
   "source": [
    "df[df['zip']=='60626']['city'].value_counts()"
   ]
  },
  {
   "cell_type": "code",
   "execution_count": 556,
   "metadata": {},
   "outputs": [],
   "source": [
    "df.loc[(df['zip']=='60649'), 'city'] = 'CHICAGO'\n",
    "df.loc[(df['zip']=='60610'), 'city'] = 'CHICAGO'\n",
    "df.loc[(df['zip']=='60638'), 'city'] = 'CHICAGO'\n",
    "df.loc[(df['zip']=='60608'), 'city'] = 'CHICAGO'\n",
    "df.loc[(df['zip']=='60659'), 'city'] = 'CHICAGO'\n",
    "df.loc[(df['zip']=='60618'), 'city'] = 'CHICAGO'\n",
    "df.loc[(df['zip']=='60647'), 'city'] = 'CHICAGO'\n",
    "df.loc[(df['zip']=='60639'), 'city'] = 'CHICAGO'\n",
    "df.loc[(df['zip']=='60606'), 'city'] = 'CHICAGO'\n",
    "df.loc[(df['zip']=='60611'), 'city'] = 'CHICAGO'\n",
    "df.loc[(df['zip']=='60612'), 'city'] = 'CHICAGO'\n",
    "df.loc[(df['zip']=='60642'), 'city'] = 'CHICAGO'\n",
    "df.loc[(df['zip']=='60625'), 'city'] = 'CHICAGO'\n",
    "df.loc[(df['zip']=='60609'), 'city'] = 'CHICAGO'\n",
    "df.loc[(df['zip']=='60644'), 'city'] = 'CHICAGO'\n",
    "df.loc[(df['zip']=='60601'), 'city'] = 'CHICAGO'\n",
    "df.loc[(df['zip']=='60619'), 'city'] = 'CHICAGO'\n",
    "df.loc[(df['zip']=='60620'), 'city'] = 'CHICAGO'\n",
    "df.loc[(df['zip']=='60641'), 'city'] = 'CHICAGO'\n",
    "df.loc[(df['zip']=='60614'), 'city'] = 'CHICAGO'\n",
    "df.loc[(df['zip']=='60634'), 'city'] = 'CHICAGO'\n",
    "df.loc[(df['zip']=='60622'), 'city'] = 'CHICAGO'\n",
    "df.loc[(df['zip']=='60632'), 'city'] = 'CHICAGO'\n",
    "df.loc[(df['zip']=='60621'), 'city'] = 'CHICAGO'\n",
    "df.loc[(df['zip']=='60629'), 'city'] = 'CHICAGO'\n",
    "df.loc[(df['zip']=='60607'), 'city'] = 'CHICAGO'\n",
    "df.loc[(df['zip']=='60646'), 'city'] = 'CHICAGO'\n",
    "df.loc[(df['zip']=='60605'), 'city'] = 'CHICAGO'\n",
    "df.loc[(df['zip']=='60616'), 'city'] = 'CHICAGO'\n",
    "df.loc[(df['zip']=='60637'), 'city'] = 'CHICAGO'\n",
    "df.loc[(df['zip']=='60666'), 'city'] = 'CHICAGO'\n",
    "df.loc[(df['zip']=='60617'), 'city'] = 'CHICAGO'\n",
    "df.loc[(df['zip']=='60707'), 'city'] = 'CHICAGO'\n",
    "df.loc[(df['zip']=='60603'), 'city'] = 'CHICAGO'\n",
    "df.loc[(df['zip']=='60153'), 'city'] = 'MAYWOOD'\n",
    "\n"
   ]
  },
  {
   "cell_type": "code",
   "execution_count": null,
   "metadata": {},
   "outputs": [],
   "source": []
  },
  {
   "cell_type": "code",
   "execution_count": null,
   "metadata": {},
   "outputs": [],
   "source": []
  },
  {
   "cell_type": "code",
   "execution_count": null,
   "metadata": {},
   "outputs": [],
   "source": []
  },
  {
   "cell_type": "code",
   "execution_count": 79,
   "metadata": {},
   "outputs": [
    {
     "data": {
      "text/plain": [
       "(211946, 17)"
      ]
     },
     "execution_count": 79,
     "metadata": {},
     "output_type": "execute_result"
    }
   ],
   "source": [
    "df.shape"
   ]
  },
  {
   "cell_type": "code",
   "execution_count": 63,
   "metadata": {},
   "outputs": [
    {
     "data": {
      "text/plain": [
       "(211946, 22)"
      ]
     },
     "execution_count": 63,
     "metadata": {},
     "output_type": "execute_result"
    }
   ],
   "source": [
    "results_df.shape"
   ]
  },
  {
   "cell_type": "code",
   "execution_count": 66,
   "metadata": {},
   "outputs": [
    {
     "data": {
      "text/html": [
       "<div>\n",
       "<style scoped>\n",
       "    .dataframe tbody tr th:only-of-type {\n",
       "        vertical-align: middle;\n",
       "    }\n",
       "\n",
       "    .dataframe tbody tr th {\n",
       "        vertical-align: top;\n",
       "    }\n",
       "\n",
       "    .dataframe thead th {\n",
       "        text-align: right;\n",
       "    }\n",
       "</style>\n",
       "<table border=\"1\" class=\"dataframe\">\n",
       "  <thead>\n",
       "    <tr style=\"text-align: right;\">\n",
       "      <th></th>\n",
       "      <th>inspection_id</th>\n",
       "      <th>dba_name</th>\n",
       "      <th>aka_name</th>\n",
       "      <th>license_</th>\n",
       "      <th>facility_type</th>\n",
       "      <th>risk</th>\n",
       "      <th>address</th>\n",
       "      <th>city</th>\n",
       "      <th>state</th>\n",
       "      <th>zip</th>\n",
       "      <th>...</th>\n",
       "      <th>results</th>\n",
       "      <th>violations</th>\n",
       "      <th>latitude</th>\n",
       "      <th>longitude</th>\n",
       "      <th>location</th>\n",
       "      <th>:@computed_region_awaf_s7ux</th>\n",
       "      <th>:@computed_region_6mkv_f3dw</th>\n",
       "      <th>:@computed_region_vrxf_vc4k</th>\n",
       "      <th>:@computed_region_bdys_3d7i</th>\n",
       "      <th>:@computed_region_43wa_7qmu</th>\n",
       "    </tr>\n",
       "  </thead>\n",
       "  <tbody>\n",
       "    <tr>\n",
       "      <th>142605</th>\n",
       "      <td>1324654</td>\n",
       "      <td>5 BOROUGHS PIZZA &amp; SUBS</td>\n",
       "      <td>5 BOROUGHS PIZZA</td>\n",
       "      <td>2269618</td>\n",
       "      <td>Restaurant</td>\n",
       "      <td>Risk 2 (Medium)</td>\n",
       "      <td>1543 N Sedgwick ST</td>\n",
       "      <td>CHICAGO</td>\n",
       "      <td>IL</td>\n",
       "      <td>60610</td>\n",
       "      <td>...</td>\n",
       "      <td>Pass w/ Conditions</td>\n",
       "      <td>21. * CERTIFIED FOOD MANAGER ON SITE WHEN POTENTIALLY HAZARDOUS FOODS ARE  PREPARED AND SERVED - Comments: NO CERTIFIED FOOD SERVICE MANAGER ON DUTY WHILE POTENTIALLY HAZARDOUS FOODS ARE BEING PREPARED AND SERVED SUCH AS SAUSAGE PIZZAS, GYROS AND ITALIAN BEEF. SERIOUS CITATION ISSUED #7-38-012.INSTRUCTED MANAGER TO ENROLL MORE EMPLOYEE'S IN CITY SANITATION CLASS AND HAVE PROOF ON PREMISES. | 38. VENTILATION: ROOMS AND EQUIPMENT VENTED AS REQUIRED: PLUMBING: INSTALLED AND MAINTAINED - Comments: NOTED MISSING FILTER ABOVE COOKING EQUIPMENT. MUST REPLACE AND MAINTAIN.</td>\n",
       "      <td>NaN</td>\n",
       "      <td>NaN</td>\n",
       "      <td>NaN</td>\n",
       "      <td>NaN</td>\n",
       "      <td>NaN</td>\n",
       "      <td>NaN</td>\n",
       "      <td>NaN</td>\n",
       "      <td>NaN</td>\n",
       "    </tr>\n",
       "  </tbody>\n",
       "</table>\n",
       "<p>1 rows × 22 columns</p>\n",
       "</div>"
      ],
      "text/plain": [
       "       inspection_id                 dba_name          aka_name license_  \\\n",
       "142605       1324654  5 BOROUGHS PIZZA & SUBS  5 BOROUGHS PIZZA  2269618   \n",
       "\n",
       "       facility_type             risk             address     city state  \\\n",
       "142605    Restaurant  Risk 2 (Medium)  1543 N Sedgwick ST  CHICAGO    IL   \n",
       "\n",
       "          zip  ...             results  \\\n",
       "142605  60610  ...  Pass w/ Conditions   \n",
       "\n",
       "                                                                                                                                                                                                                                                                                                                                                                                                                                                                                                                                                                                         violations  \\\n",
       "142605  21. * CERTIFIED FOOD MANAGER ON SITE WHEN POTENTIALLY HAZARDOUS FOODS ARE  PREPARED AND SERVED - Comments: NO CERTIFIED FOOD SERVICE MANAGER ON DUTY WHILE POTENTIALLY HAZARDOUS FOODS ARE BEING PREPARED AND SERVED SUCH AS SAUSAGE PIZZAS, GYROS AND ITALIAN BEEF. SERIOUS CITATION ISSUED #7-38-012.INSTRUCTED MANAGER TO ENROLL MORE EMPLOYEE'S IN CITY SANITATION CLASS AND HAVE PROOF ON PREMISES. | 38. VENTILATION: ROOMS AND EQUIPMENT VENTED AS REQUIRED: PLUMBING: INSTALLED AND MAINTAINED - Comments: NOTED MISSING FILTER ABOVE COOKING EQUIPMENT. MUST REPLACE AND MAINTAIN.   \n",
       "\n",
       "       latitude longitude location :@computed_region_awaf_s7ux  \\\n",
       "142605      NaN       NaN      NaN                         NaN   \n",
       "\n",
       "       :@computed_region_6mkv_f3dw :@computed_region_vrxf_vc4k  \\\n",
       "142605                         NaN                         NaN   \n",
       "\n",
       "       :@computed_region_bdys_3d7i :@computed_region_43wa_7qmu  \n",
       "142605                         NaN                         NaN  \n",
       "\n",
       "[1 rows x 22 columns]"
      ]
     },
     "execution_count": 66,
     "metadata": {},
     "output_type": "execute_result"
    }
   ],
   "source": [
    "results_df.sample()"
   ]
  },
  {
   "cell_type": "code",
   "execution_count": 9,
   "metadata": {},
   "outputs": [
    {
     "data": {
      "text/html": [
       "<div>\n",
       "<style scoped>\n",
       "    .dataframe tbody tr th:only-of-type {\n",
       "        vertical-align: middle;\n",
       "    }\n",
       "\n",
       "    .dataframe tbody tr th {\n",
       "        vertical-align: top;\n",
       "    }\n",
       "\n",
       "    .dataframe thead th {\n",
       "        text-align: right;\n",
       "    }\n",
       "</style>\n",
       "<table border=\"1\" class=\"dataframe\">\n",
       "  <thead>\n",
       "    <tr style=\"text-align: right;\">\n",
       "      <th></th>\n",
       "      <th>count</th>\n",
       "      <th>percent</th>\n",
       "    </tr>\n",
       "  </thead>\n",
       "  <tbody>\n",
       "    <tr>\n",
       "      <th>Pass</th>\n",
       "      <td>108721</td>\n",
       "      <td>0.529742</td>\n",
       "    </tr>\n",
       "    <tr>\n",
       "      <th>Fail</th>\n",
       "      <td>39640</td>\n",
       "      <td>0.193145</td>\n",
       "    </tr>\n",
       "    <tr>\n",
       "      <th>Pass w/ Conditions</th>\n",
       "      <td>30183</td>\n",
       "      <td>0.147066</td>\n",
       "    </tr>\n",
       "    <tr>\n",
       "      <th>Out of Business</th>\n",
       "      <td>17763</td>\n",
       "      <td>0.086550</td>\n",
       "    </tr>\n",
       "    <tr>\n",
       "      <th>No Entry</th>\n",
       "      <td>6803</td>\n",
       "      <td>0.033148</td>\n",
       "    </tr>\n",
       "    <tr>\n",
       "      <th>Not Ready</th>\n",
       "      <td>2052</td>\n",
       "      <td>0.009998</td>\n",
       "    </tr>\n",
       "    <tr>\n",
       "      <th>Business Not Located</th>\n",
       "      <td>72</td>\n",
       "      <td>0.000351</td>\n",
       "    </tr>\n",
       "  </tbody>\n",
       "</table>\n",
       "</div>"
      ],
      "text/plain": [
       "                       count   percent\n",
       "Pass                  108721  0.529742\n",
       "Fail                   39640  0.193145\n",
       "Pass w/ Conditions     30183  0.147066\n",
       "Out of Business        17763  0.086550\n",
       "No Entry                6803  0.033148\n",
       "Not Ready               2052  0.009998\n",
       "Business Not Located      72  0.000351"
      ]
     },
     "execution_count": 9,
     "metadata": {},
     "output_type": "execute_result"
    }
   ],
   "source": [
    "pd.DataFrame({'count':df.Results.value_counts(),\n",
    "              'percent':df.Results.value_counts()/len(df)})"
   ]
  },
  {
   "cell_type": "code",
   "execution_count": 46,
   "metadata": {},
   "outputs": [
    {
     "data": {
      "text/plain": [
       "Index(['Inspection ID', 'DBA Name', 'AKA Name', 'License #', 'Facility Type',\n",
       "       'Risk', 'Address', 'City', 'State', 'Zip', 'Inspection Date',\n",
       "       'Inspection Type', 'Results', 'Violations', 'Latitude', 'Longitude',\n",
       "       'Location'],\n",
       "      dtype='object')"
      ]
     },
     "execution_count": 46,
     "metadata": {},
     "output_type": "execute_result"
    }
   ],
   "source": [
    "df.columns"
   ]
  },
  {
   "cell_type": "markdown",
   "metadata": {},
   "source": [
    "Shape of the dataset"
   ]
  },
  {
   "cell_type": "code",
   "execution_count": 15,
   "metadata": {},
   "outputs": [
    {
     "data": {
      "text/plain": [
       "(205234, 17)"
      ]
     },
     "execution_count": 15,
     "metadata": {},
     "output_type": "execute_result"
    }
   ],
   "source": [
    "df.shape"
   ]
  },
  {
   "cell_type": "markdown",
   "metadata": {},
   "source": [
    "# Data Dictionary\n",
    "\n",
    "**Inspection ID:** unqiue identifier\n",
    "\n",
    "**DBA Name:** \"doing businessness as\"\n",
    "\n",
    "**AKA Name:** \"also known as\"\n",
    "\n",
    "**License #:** License Number identification\n",
    "\n",
    "**Facility Type:** The type of facility. Examples include: restaurant, grocery store, school, bakery, catering, etc.\n",
    "\n",
    "**Risk:** Risk category. Categorical value of risk 1, risk 2, risk 3, or \"all\".\n",
    "\n",
    "**Address:** Number and street name. For example, 401 N WABASH AVE\n",
    "\n",
    "**City:** Self explanatory\n",
    "\n",
    "**State:** Self explanatory\n",
    "\n",
    "**Zip:** Self explanatory\n",
    "\n",
    "**Inspection Date:**\n",
    "\n",
    "**Inspection Type:** \n",
    "\n",
    "**Results:** Categorical value: Pass, Fail, Pass w/ Conditions, Out of Business, No Entry, Not Ready, Business Not Located\n",
    "\n",
    "**Violations:** String of specific code violation and inspector's comments.\n",
    "\n",
    "**Latitude:** Self explanatory\n",
    "\n",
    "**Longitude:** Self explanatory\n",
    "\n",
    "**Location:** Comination of latitude and longitude columns"
   ]
  },
  {
   "cell_type": "code",
   "execution_count": 19,
   "metadata": {},
   "outputs": [
    {
     "data": {
      "text/plain": [
       "Restaurant                         136990\n",
       "Grocery Store                       26112\n",
       "School                              12751\n",
       "Children's Services Facility         3358\n",
       "Bakery                               2995\n",
       "Daycare (2 - 6 Years)                2749\n",
       "Daycare Above and Under 2 Years      2509\n",
       "Long Term Care                       1421\n",
       "Catering                             1249\n",
       "Liquor                                886\n",
       "Name: Facility Type, dtype: int64"
      ]
     },
     "execution_count": 19,
     "metadata": {},
     "output_type": "execute_result"
    }
   ],
   "source": [
    "#Ten most popular facility types\n",
    "df['Facility Type'].value_counts()[:10]"
   ]
  },
  {
   "cell_type": "code",
   "execution_count": 16,
   "metadata": {},
   "outputs": [
    {
     "data": {
      "text/plain": [
       "Risk 1 (High)      147513\n",
       "Risk 2 (Medium)     39813\n",
       "Risk 3 (Low)        17806\n",
       "All                    32\n",
       "Name: Risk, dtype: int64"
      ]
     },
     "execution_count": 16,
     "metadata": {},
     "output_type": "execute_result"
    }
   ],
   "source": [
    "df['Risk'].value_counts()"
   ]
  },
  {
   "cell_type": "code",
   "execution_count": 18,
   "metadata": {},
   "outputs": [
    {
     "data": {
      "text/html": [
       "<div>\n",
       "<style scoped>\n",
       "    .dataframe tbody tr th:only-of-type {\n",
       "        vertical-align: middle;\n",
       "    }\n",
       "\n",
       "    .dataframe tbody tr th {\n",
       "        vertical-align: top;\n",
       "    }\n",
       "\n",
       "    .dataframe thead th {\n",
       "        text-align: right;\n",
       "    }\n",
       "</style>\n",
       "<table border=\"1\" class=\"dataframe\">\n",
       "  <thead>\n",
       "    <tr style=\"text-align: right;\">\n",
       "      <th></th>\n",
       "      <th>Inspection ID</th>\n",
       "      <th>DBA Name</th>\n",
       "      <th>AKA Name</th>\n",
       "      <th>License #</th>\n",
       "      <th>Facility Type</th>\n",
       "      <th>Risk</th>\n",
       "      <th>Address</th>\n",
       "      <th>City</th>\n",
       "      <th>State</th>\n",
       "      <th>Zip</th>\n",
       "      <th>Inspection Date</th>\n",
       "      <th>Inspection Type</th>\n",
       "      <th>Results</th>\n",
       "      <th>Violations</th>\n",
       "      <th>Latitude</th>\n",
       "      <th>Longitude</th>\n",
       "      <th>Location</th>\n",
       "    </tr>\n",
       "  </thead>\n",
       "  <tbody>\n",
       "    <tr>\n",
       "      <th>134029</th>\n",
       "      <td>1372435</td>\n",
       "      <td>TRUMP INTERNATIONAL HOTEL</td>\n",
       "      <td>BANQUETS/MEETING ROOMS</td>\n",
       "      <td>2048786.0</td>\n",
       "      <td>Restaurant</td>\n",
       "      <td>Risk 1 (High)</td>\n",
       "      <td>401 N WABASH AVE</td>\n",
       "      <td>CHICAGO</td>\n",
       "      <td>IL</td>\n",
       "      <td>60611</td>\n",
       "      <td>2014-03-11</td>\n",
       "      <td>Canvass</td>\n",
       "      <td>Pass</td>\n",
       "      <td>32. FOOD AND NON-FOOD CONTACT SURFACES PROPERLY DESIGNED, CONSTRUCTED AND MAINTAINED - Comments: MISSING ONE SNEEZE GUARD AT EMPLOYEES CAFTERIA SELF SERVICE LINE. INSTRUCTED TO INSTALL.</td>\n",
       "      <td>41.889284</td>\n",
       "      <td>-87.626549</td>\n",
       "      <td>(-87.62654854794113, 41.889284013529334)</td>\n",
       "    </tr>\n",
       "  </tbody>\n",
       "</table>\n",
       "</div>"
      ],
      "text/plain": [
       "       Inspection ID                   DBA Name                AKA Name  \\\n",
       "134029       1372435  TRUMP INTERNATIONAL HOTEL  BANQUETS/MEETING ROOMS   \n",
       "\n",
       "        License # Facility Type           Risk            Address     City  \\\n",
       "134029  2048786.0    Restaurant  Risk 1 (High)  401 N WABASH AVE   CHICAGO   \n",
       "\n",
       "       State    Zip Inspection Date Inspection Type Results  \\\n",
       "134029    IL  60611      2014-03-11         Canvass    Pass   \n",
       "\n",
       "                                                                                                                                                                                       Violations  \\\n",
       "134029  32. FOOD AND NON-FOOD CONTACT SURFACES PROPERLY DESIGNED, CONSTRUCTED AND MAINTAINED - Comments: MISSING ONE SNEEZE GUARD AT EMPLOYEES CAFTERIA SELF SERVICE LINE. INSTRUCTED TO INSTALL.   \n",
       "\n",
       "         Latitude  Longitude                                  Location  \n",
       "134029  41.889284 -87.626549  (-87.62654854794113, 41.889284013529334)  "
      ]
     },
     "execution_count": 18,
     "metadata": {},
     "output_type": "execute_result"
    }
   ],
   "source": [
    "#sample restaurant\n",
    "df[df['Facility Type']=='Restaurant'].sample(n=1)"
   ]
  },
  {
   "cell_type": "markdown",
   "metadata": {},
   "source": [
    "Cities"
   ]
  },
  {
   "cell_type": "code",
   "execution_count": 24,
   "metadata": {},
   "outputs": [
    {
     "data": {
      "text/plain": [
       "CHICAGO            204359\n",
       "Chicago               328\n",
       "chicago               101\n",
       "CCHICAGO               48\n",
       "SCHAUMBURG             27\n",
       "MAYWOOD                15\n",
       "CHESTNUT STREET        13\n",
       "Name: City, dtype: int64"
      ]
     },
     "execution_count": 24,
     "metadata": {},
     "output_type": "execute_result"
    }
   ],
   "source": [
    "df['City'].value_counts()[:7]"
   ]
  },
  {
   "cell_type": "code",
   "execution_count": 23,
   "metadata": {},
   "outputs": [
    {
     "data": {
      "text/plain": [
       "72"
      ]
     },
     "execution_count": 23,
     "metadata": {},
     "output_type": "execute_result"
    }
   ],
   "source": [
    "len(df['City'].unique())"
   ]
  },
  {
   "cell_type": "markdown",
   "metadata": {},
   "source": [
    "Results"
   ]
  },
  {
   "cell_type": "code",
   "execution_count": 25,
   "metadata": {},
   "outputs": [
    {
     "data": {
      "text/plain": [
       "Pass                    108721\n",
       "Fail                     39640\n",
       "Pass w/ Conditions       30183\n",
       "Out of Business          17763\n",
       "No Entry                  6803\n",
       "Not Ready                 2052\n",
       "Business Not Located        72\n",
       "Name: Results, dtype: int64"
      ]
     },
     "execution_count": 25,
     "metadata": {},
     "output_type": "execute_result"
    }
   ],
   "source": [
    "df['Results'].value_counts()"
   ]
  },
  {
   "cell_type": "code",
   "execution_count": null,
   "metadata": {},
   "outputs": [],
   "source": []
  },
  {
   "cell_type": "code",
   "execution_count": null,
   "metadata": {},
   "outputs": [],
   "source": []
  },
  {
   "cell_type": "markdown",
   "metadata": {},
   "source": [
    "<a id='observations'></a>\n",
    "### 2.1 Observations\n",
    "\n",
    "* There are a lot of extra unneccesary columns\n",
    "* We care about 'results', and 'violations'\n",
    "* \\>50K N/A's in violations column\n",
    "* This is a multinomial classification problem. We'll narrow the classes to pass, fail, and pass w/ conditions due to data insufficency and other limitations.\n"
   ]
  },
  {
   "cell_type": "code",
   "execution_count": 48,
   "metadata": {},
   "outputs": [],
   "source": [
    "#drop N/As\n",
    "df = df.dropna(subset =['Violations'], axis=0)\n",
    "\n",
    "#Drop Unneccesary Columns\n",
    "select_cols = ['Results', 'Violations']\n",
    "df = df[select_cols]\n",
    "\n",
    "#Drop classes with insufficient data\n",
    "df = df[(df.Results=='Pass')|(df.Results=='Fail')|(df.Results=='Pass w/ Conditions')]\n",
    "\n",
    "\n"
   ]
  },
  {
   "cell_type": "code",
   "execution_count": 49,
   "metadata": {},
   "outputs": [
    {
     "data": {
      "text/html": [
       "<div>\n",
       "<style scoped>\n",
       "    .dataframe tbody tr th:only-of-type {\n",
       "        vertical-align: middle;\n",
       "    }\n",
       "\n",
       "    .dataframe tbody tr th {\n",
       "        vertical-align: top;\n",
       "    }\n",
       "\n",
       "    .dataframe thead th {\n",
       "        text-align: right;\n",
       "    }\n",
       "</style>\n",
       "<table border=\"1\" class=\"dataframe\">\n",
       "  <thead>\n",
       "    <tr style=\"text-align: right;\">\n",
       "      <th></th>\n",
       "      <th>Results</th>\n",
       "      <th>Violations</th>\n",
       "    </tr>\n",
       "  </thead>\n",
       "  <tbody>\n",
       "    <tr>\n",
       "      <th>0</th>\n",
       "      <td>Pass</td>\n",
       "      <td>53. TOILET FACILITIES: PROPERLY CONSTRUCTED, SUPPLIED, &amp; CLEANED - Comments: 5-501.17  OBSERVED NO COVERED WASTE RECEPTACLE INSIDE OF THE WOMEN'S WASHROOM. MUST PROVIDE.</td>\n",
       "    </tr>\n",
       "    <tr>\n",
       "      <th>2</th>\n",
       "      <td>Pass w/ Conditions</td>\n",
       "      <td>5. PROCEDURES FOR RESPONDING TO VOMITING AND DIARRHEAL EVENTS - Comments: NO PROCEDURE IN PLACE FOR RESPONDING TO VOMITING AND DIARRHEAL EVENTS. INSTD TO PROVIDE PROCEDURE AND NECESSARY SUPPLIES EFFECTIVE AGAINST NOROVIRUS. PRIORITY FOUNDATION 7-38-005 | 36. THERMOMETERS PROVIDED &amp; ACCURATE - Comments: MISSING FOOD TEMPERATURE MEASURING DEVICE. INSTD TO PROVIDE AND MAINTAIN SAME. PRIORITY FOUNDATION 7-38-005. | 51. PLUMBING INSTALLED; PROPER BACKFLOW DEVICES - Comments: MISSING TOILET TANK COVER. INSTD TO REPLACE AND MAINTAIN. TOILET HANDLE LOOSE. INSTD TO REPAIR AND MAINTAIN.</td>\n",
       "    </tr>\n",
       "  </tbody>\n",
       "</table>\n",
       "</div>"
      ],
      "text/plain": [
       "              Results  \\\n",
       "0                Pass   \n",
       "2  Pass w/ Conditions   \n",
       "\n",
       "                                                                                                                                                                                                                                                                                                                                                                                                                                                                                                                                                                                                Violations  \n",
       "0                                                                                                                                                                                                                                                                                                                                                                                                                                53. TOILET FACILITIES: PROPERLY CONSTRUCTED, SUPPLIED, & CLEANED - Comments: 5-501.17  OBSERVED NO COVERED WASTE RECEPTACLE INSIDE OF THE WOMEN'S WASHROOM. MUST PROVIDE.  \n",
       "2  5. PROCEDURES FOR RESPONDING TO VOMITING AND DIARRHEAL EVENTS - Comments: NO PROCEDURE IN PLACE FOR RESPONDING TO VOMITING AND DIARRHEAL EVENTS. INSTD TO PROVIDE PROCEDURE AND NECESSARY SUPPLIES EFFECTIVE AGAINST NOROVIRUS. PRIORITY FOUNDATION 7-38-005 | 36. THERMOMETERS PROVIDED & ACCURATE - Comments: MISSING FOOD TEMPERATURE MEASURING DEVICE. INSTD TO PROVIDE AND MAINTAIN SAME. PRIORITY FOUNDATION 7-38-005. | 51. PLUMBING INSTALLED; PROPER BACKFLOW DEVICES - Comments: MISSING TOILET TANK COVER. INSTD TO REPLACE AND MAINTAIN. TOILET HANDLE LOOSE. INSTD TO REPAIR AND MAINTAIN.  "
      ]
     },
     "execution_count": 49,
     "metadata": {},
     "output_type": "execute_result"
    }
   ],
   "source": [
    "df.head(2)"
   ]
  },
  {
   "cell_type": "code",
   "execution_count": 50,
   "metadata": {},
   "outputs": [
    {
     "name": "stdout",
     "output_type": "stream",
     "text": [
      "<class 'pandas.core.frame.DataFrame'>\n",
      "Int64Index: 150186 entries, 0 to 205233\n",
      "Data columns (total 2 columns):\n",
      "Results       150186 non-null object\n",
      "Violations    150186 non-null object\n",
      "dtypes: object(2)\n",
      "memory usage: 3.4+ MB\n",
      "None\n",
      "       Results  \\\n",
      "count   150186   \n",
      "unique       3   \n",
      "top       Pass   \n",
      "freq     84015   \n",
      "\n",
      "                                                                                                                                Violations  \n",
      "count                                                                                                                               150186  \n",
      "unique                                                                                                                              149347  \n",
      "top     45. FOOD HANDLER REQUIREMENTS MET - Comments: ALL FOOD HANDLING EMPLOYEES MUST SHOW PROOF OF FOOD HANDLER TRAINING.  MUST PROVIDE.  \n",
      "freq                                                                                                                                    10  \n"
     ]
    }
   ],
   "source": [
    "print(df.info())\n",
    "print(df.describe())"
   ]
  },
  {
   "cell_type": "markdown",
   "metadata": {},
   "source": [
    "Location"
   ]
  },
  {
   "cell_type": "markdown",
   "metadata": {},
   "source": [
    "<a id='engineering'></a>\n",
    "## 2. Feature Engineering\n",
    "\n",
    "* Extract only comments from violations, drop rest of text\n",
    "* map Results_Flag"
   ]
  },
  {
   "cell_type": "code",
   "execution_count": 12,
   "metadata": {},
   "outputs": [
    {
     "data": {
      "text/plain": [
       "'2. FACILITIES TO MAINTAIN PROPER TEMPERATURE - Comments: All food establishments that display, prepare, or store potentially hazardous food shall have adequate refrigerated food storage facilities.    MUST HAVE COOLER AT 40F OR BELOW, FREEZER UNDER 0F. | 18. NO EVIDENCE OF RODENT OR INSECT OUTER OPENINGS PROTECTED/RODENT PROOFED, A WRITTEN LOG SHALL BE MAINTAINED AVAILABLE TO THE INSPECTORS - Comments: MUST PROVIDE PEST CONTROL LOG BOOK. | 33. FOOD AND NON-FOOD CONTACT EQUIPMENT UTENSILS CLEAN, FREE OF ABRASIVE DETERGENTS - Comments: All utensils shall be thoroughly cleaned and sanitized after each usage.    MUST CLEAN-SANITIZE; EQUIPMENT, SINKS, COUNTERS, ETC.. | 34. FLOORS: CONSTRUCTED PER CODE, CLEANED, GOOD REPAIR, COVING INSTALLED, DUST-LESS CLEANING METHODS USED - Comments: The floors shall be constructed per code, be smooth and easily cleaned, and be kept clean and in good repair.    MUST CLEAN FLOORS THRU-OUT PREMISES, INCLUDINT BASEMENT. | 35. WALLS, CEILINGS, ATTACHED EQUIPMENT CONSTRUCTED PER CODE: GOOD REPAIR, SURFACES CLEAN AND DUST-LESS CLEANING METHODS - Comments: The walls and ceilings shall be in good repair and easily cleaned.    MUST SEAL RAW WOOD DOOR FRAME FOR MOP CLOSET. | 38. VENTILATION: ROOMS AND EQUIPMENT VENTED AS REQUIRED: PLUMBING: INSTALLED AND MAINTAINED - Comments: Ventilation: All plumbing fixtures, such as toilets, sinks, washbasins, etc., must be adequately trapped, vented, and re-vented and properly connected to the sewer in accordance with the plumbing chapter of the Municipal Code of Chicago and the Rules and Regulations of the Board of Health.    MUST REPLACE FRONT PREP AREA 3PART SINK FAUCET. | 40. REFRIGERATION AND METAL STEM THERMOMETERS PROVIDED AND CONSPICUOUS - Comments: All food establishments that display, prepare, or store potentially hazardous foods shall have calibrated metal stem thermometers, provided and conspicuous, for refrigerated and hot food units. | 41. PREMISES MAINTAINED FREE OF LITTER, UNNECESSARY ARTICLES, CLEANING  EQUIPMENT PROPERLY STORED - Comments: MUST REMOVE UNNECESSARY ARTICLES THRU-OUT PREMISES, CLEAN AND ORGANIZE TO PREVENT PEST HARBORAGE.  ARTICLES MUST BE STORED OF FLOORS, AWAY FROM WALLS.'"
      ]
     },
     "execution_count": 12,
     "metadata": {},
     "output_type": "execute_result"
    }
   ],
   "source": [
    "#Check sample Violation entry\n",
    "df.iloc[131413]['Violations']"
   ]
  },
  {
   "cell_type": "code",
   "execution_count": 13,
   "metadata": {},
   "outputs": [],
   "source": [
    "#regex expression to extract the text following \"Comments:\"\n",
    "df.Violations = df.Violations.str.findall(r\"(?:\\sComments:\\s.*?)?(?:[|]|$)\")"
   ]
  },
  {
   "cell_type": "code",
   "execution_count": 14,
   "metadata": {},
   "outputs": [
    {
     "data": {
      "text/plain": [
       "[' Comments: All food establishments that display, prepare, or store potentially hazardous food shall have adequate refrigerated food storage facilities.    MUST HAVE COOLER AT 40F OR BELOW, FREEZER UNDER 0F. |',\n",
       " ' Comments: MUST PROVIDE PEST CONTROL LOG BOOK. |',\n",
       " ' Comments: All utensils shall be thoroughly cleaned and sanitized after each usage.    MUST CLEAN-SANITIZE; EQUIPMENT, SINKS, COUNTERS, ETC.. |',\n",
       " ' Comments: The floors shall be constructed per code, be smooth and easily cleaned, and be kept clean and in good repair.    MUST CLEAN FLOORS THRU-OUT PREMISES, INCLUDINT BASEMENT. |',\n",
       " ' Comments: The walls and ceilings shall be in good repair and easily cleaned.    MUST SEAL RAW WOOD DOOR FRAME FOR MOP CLOSET. |',\n",
       " ' Comments: Ventilation: All plumbing fixtures, such as toilets, sinks, washbasins, etc., must be adequately trapped, vented, and re-vented and properly connected to the sewer in accordance with the plumbing chapter of the Municipal Code of Chicago and the Rules and Regulations of the Board of Health.    MUST REPLACE FRONT PREP AREA 3PART SINK FAUCET. |',\n",
       " ' Comments: All food establishments that display, prepare, or store potentially hazardous foods shall have calibrated metal stem thermometers, provided and conspicuous, for refrigerated and hot food units. |',\n",
       " ' Comments: MUST REMOVE UNNECESSARY ARTICLES THRU-OUT PREMISES, CLEAN AND ORGANIZE TO PREVENT PEST HARBORAGE.  ARTICLES MUST BE STORED OF FLOORS, AWAY FROM WALLS.',\n",
       " '']"
      ]
     },
     "execution_count": 14,
     "metadata": {},
     "output_type": "execute_result"
    }
   ],
   "source": [
    "#Now check sample violation\n",
    "df.iloc[131413]['Violations']"
   ]
  },
  {
   "cell_type": "code",
   "execution_count": 15,
   "metadata": {},
   "outputs": [],
   "source": [
    "#Lemmatize Violations\n",
    "w_tokenizer = nltk.tokenize.WhitespaceTokenizer()\n",
    "lemmatizer = nltk.stem.WordNetLemmatizer()\n",
    "\n",
    "def lemmatize_text(text):\n",
    "    return [lemmatizer.lemmatize(w) for w in w_tokenizer.tokenize(text)]\n",
    "\n",
    "df.Violations = df.Violations.str.join(' ')\n",
    "\n",
    "#remove \"Comments\"\n",
    "df['Violations'] = df['Violations'].str.replace('Comments*\\s','')\n",
    "df['Violations'] = df['Violations'].str.replace('Comments','')\n",
    "\n",
    "#Remove Punctuation\n",
    "df['Violations'] = df['Violations'].str.replace('[^\\w\\s]','')\n",
    "\n",
    "#Remove non-alphanumeric\n",
    "df['Violations'] = df['Violations'].str.replace('[^\\D\\s]','')\n"
   ]
  },
  {
   "cell_type": "code",
   "execution_count": 16,
   "metadata": {},
   "outputs": [
    {
     "data": {
      "text/plain": [
       "'  All food establishments that display prepare or store potentially hazardous food shall have adequate refrigerated food storage facilities    MUST HAVE COOLER AT F OR BELOW FREEZER UNDER F    MUST PROVIDE PEST CONTROL LOG BOOK    All utensils shall be thoroughly cleaned and sanitized after each usage    MUST CLEANSANITIZE EQUIPMENT SINKS COUNTERS ETC    The floors shall be constructed per code be smooth and easily cleaned and be kept clean and in good repair    MUST CLEAN FLOORS THRUOUT PREMISES INCLUDINT BASEMENT    The walls and ceilings shall be in good repair and easily cleaned    MUST SEAL RAW WOOD DOOR FRAME FOR MOP CLOSET    Ventilation All plumbing fixtures such as toilets sinks washbasins etc must be adequately trapped vented and revented and properly connected to the sewer in accordance with the plumbing chapter of the Municipal Code of Chicago and the Rules and Regulations of the Board of Health    MUST REPLACE FRONT PREP AREA PART SINK FAUCET    All food establishments that display prepare or store potentially hazardous foods shall have calibrated metal stem thermometers provided and conspicuous for refrigerated and hot food units    MUST REMOVE UNNECESSARY ARTICLES THRUOUT PREMISES CLEAN AND ORGANIZE TO PREVENT PEST HARBORAGE  ARTICLES MUST BE STORED OF FLOORS AWAY FROM WALLS '"
      ]
     },
     "execution_count": 16,
     "metadata": {},
     "output_type": "execute_result"
    }
   ],
   "source": [
    "#Now check sample violation\n",
    "df.iloc[131413]['Violations']"
   ]
  },
  {
   "cell_type": "code",
   "execution_count": 17,
   "metadata": {},
   "outputs": [
    {
     "data": {
      "text/plain": [
       "Pass                  84015\n",
       "Fail                  36500\n",
       "Pass w/ Conditions    29671\n",
       "Name: Results, dtype: int64"
      ]
     },
     "execution_count": 17,
     "metadata": {},
     "output_type": "execute_result"
    }
   ],
   "source": [
    "df['Results'].value_counts()"
   ]
  },
  {
   "cell_type": "code",
   "execution_count": 18,
   "metadata": {},
   "outputs": [],
   "source": [
    "# convert label to a binary numerical variable\n",
    "df['Results_Flag'] = df.Results.map({'Pass':0,\n",
    "                                     'Fail':1,\n",
    "                                     'Pass w/ Conditions':2,\n",
    "                                     'No Entry':3,\n",
    "                                     'Not Ready':4,\n",
    "                                     'Out of Business':5 })"
   ]
  },
  {
   "cell_type": "code",
   "execution_count": 19,
   "metadata": {},
   "outputs": [
    {
     "data": {
      "text/html": [
       "<div>\n",
       "<style scoped>\n",
       "    .dataframe tbody tr th:only-of-type {\n",
       "        vertical-align: middle;\n",
       "    }\n",
       "\n",
       "    .dataframe tbody tr th {\n",
       "        vertical-align: top;\n",
       "    }\n",
       "\n",
       "    .dataframe thead th {\n",
       "        text-align: right;\n",
       "    }\n",
       "</style>\n",
       "<table border=\"1\" class=\"dataframe\">\n",
       "  <thead>\n",
       "    <tr style=\"text-align: right;\">\n",
       "      <th></th>\n",
       "      <th>Results</th>\n",
       "      <th>Violations</th>\n",
       "      <th>Results_Flag</th>\n",
       "    </tr>\n",
       "  </thead>\n",
       "  <tbody>\n",
       "    <tr>\n",
       "      <th>0</th>\n",
       "      <td>Pass</td>\n",
       "      <td>OBSERVED NO COVERED WASTE RECEPTACLE INSIDE OF THE WOMENS WASHROOM MUST PROVIDE</td>\n",
       "      <td>0</td>\n",
       "    </tr>\n",
       "    <tr>\n",
       "      <th>2</th>\n",
       "      <td>Pass w/ Conditions</td>\n",
       "      <td>NO PROCEDURE IN PLACE FOR RESPONDING TO VOMITING AND DIARRHEAL EVENTS INSTD TO PROVIDE PROCEDURE AND NECESSARY SUPPLIES EFFECTIVE AGAINST NOROVIRUS PRIORITY FOUNDATION     MISSING FOOD TEMPERATURE MEASURING DEVICE INSTD TO PROVIDE AND MAINTAIN SAME PRIORITY FOUNDATION     MISSING TOILET TANK COVER INSTD TO REPLACE AND MAINTAIN TOILET HANDLE LOOSE INSTD TO REPAIR AND MAINTAIN</td>\n",
       "      <td>2</td>\n",
       "    </tr>\n",
       "  </tbody>\n",
       "</table>\n",
       "</div>"
      ],
      "text/plain": [
       "              Results  \\\n",
       "0                Pass   \n",
       "2  Pass w/ Conditions   \n",
       "\n",
       "                                                                                                                                                                                                                                                                                                                                                                                     Violations  \\\n",
       "0                                                                                                                                                                                                                                                                                                              OBSERVED NO COVERED WASTE RECEPTACLE INSIDE OF THE WOMENS WASHROOM MUST PROVIDE    \n",
       "2    NO PROCEDURE IN PLACE FOR RESPONDING TO VOMITING AND DIARRHEAL EVENTS INSTD TO PROVIDE PROCEDURE AND NECESSARY SUPPLIES EFFECTIVE AGAINST NOROVIRUS PRIORITY FOUNDATION     MISSING FOOD TEMPERATURE MEASURING DEVICE INSTD TO PROVIDE AND MAINTAIN SAME PRIORITY FOUNDATION     MISSING TOILET TANK COVER INSTD TO REPLACE AND MAINTAIN TOILET HANDLE LOOSE INSTD TO REPAIR AND MAINTAIN    \n",
       "\n",
       "   Results_Flag  \n",
       "0             0  \n",
       "2             2  "
      ]
     },
     "execution_count": 19,
     "metadata": {},
     "output_type": "execute_result"
    }
   ],
   "source": [
    "df.head(2)"
   ]
  },
  {
   "cell_type": "markdown",
   "metadata": {},
   "source": [
    "<a id='model'></a>\n",
    "# 3. Model"
   ]
  },
  {
   "cell_type": "markdown",
   "metadata": {},
   "source": [
    "<a id='modeloverview'> </a>\n",
    "## 3.1 Model Overview"
   ]
  },
  {
   "cell_type": "markdown",
   "metadata": {},
   "source": [
    "\n",
    "### 3.1 Set X & y Variables"
   ]
  },
  {
   "cell_type": "code",
   "execution_count": 20,
   "metadata": {},
   "outputs": [
    {
     "name": "stdout",
     "output_type": "stream",
     "text": [
      "(150186,)\n",
      "(150186,)\n"
     ]
    }
   ],
   "source": [
    "X = df.Violations\n",
    "y = df.Results_Flag\n",
    "print(X.shape)\n",
    "print(y.shape)"
   ]
  },
  {
   "cell_type": "markdown",
   "metadata": {},
   "source": [
    "### 3.2 Train/Test Split"
   ]
  },
  {
   "cell_type": "code",
   "execution_count": 21,
   "metadata": {},
   "outputs": [
    {
     "name": "stdout",
     "output_type": "stream",
     "text": [
      "(120148,)\n",
      "(30038,)\n",
      "(120148,)\n",
      "(30038,)\n"
     ]
    }
   ],
   "source": [
    "# split X and y into training and testing sets\n",
    "X_train, X_test, y_train, y_test = train_test_split(X, y, \n",
    "                                                    test_size=0.20, \n",
    "                                                    stratify=y, \n",
    "                                                    random_state=123)\n",
    "print(X_train.shape)\n",
    "print(X_test.shape)\n",
    "print(y_train.shape)\n",
    "print(y_test.shape)"
   ]
  },
  {
   "cell_type": "markdown",
   "metadata": {},
   "source": [
    "### 3.3 Vectorize The Text"
   ]
  },
  {
   "cell_type": "code",
   "execution_count": 22,
   "metadata": {},
   "outputs": [
    {
     "data": {
      "text/plain": [
       "<120148x89708 sparse matrix of type '<class 'numpy.int64'>'\n",
       "\twith 8115815 stored elements in Compressed Sparse Row format>"
      ]
     },
     "execution_count": 22,
     "metadata": {},
     "output_type": "execute_result"
    }
   ],
   "source": [
    "# instantiate the vectorizer\n",
    "vect = CountVectorizer()\n",
    "\n",
    "# equivalently: combine fit and transform into a single step\n",
    "X_train_dtm = vect.fit_transform(X_train)\n",
    "\n",
    "# examine the document-term matrix\n",
    "X_train_dtm"
   ]
  },
  {
   "cell_type": "code",
   "execution_count": 23,
   "metadata": {},
   "outputs": [
    {
     "data": {
      "text/plain": [
       "<30038x89708 sparse matrix of type '<class 'numpy.int64'>'\n",
       "\twith 2009325 stored elements in Compressed Sparse Row format>"
      ]
     },
     "execution_count": 23,
     "metadata": {},
     "output_type": "execute_result"
    }
   ],
   "source": [
    "# transform testing data (using fitted vocabulary) into a document-term matrix\n",
    "X_test_dtm = vect.transform(X_test)\n",
    "X_test_dtm"
   ]
  },
  {
   "cell_type": "code",
   "execution_count": 24,
   "metadata": {},
   "outputs": [
    {
     "data": {
      "text/html": [
       "<div>\n",
       "<style scoped>\n",
       "    .dataframe tbody tr th:only-of-type {\n",
       "        vertical-align: middle;\n",
       "    }\n",
       "\n",
       "    .dataframe tbody tr th {\n",
       "        vertical-align: top;\n",
       "    }\n",
       "\n",
       "    .dataframe thead th {\n",
       "        text-align: right;\n",
       "    }\n",
       "</style>\n",
       "<table border=\"1\" class=\"dataframe\">\n",
       "  <thead>\n",
       "    <tr style=\"text-align: right;\">\n",
       "      <th></th>\n",
       "      <th>___lbs</th>\n",
       "      <th>__through</th>\n",
       "      <th>_a</th>\n",
       "      <th>aa</th>\n",
       "      <th>aab</th>\n",
       "      <th>aade</th>\n",
       "      <th>aafound</th>\n",
       "      <th>aal</th>\n",
       "      <th>aall</th>\n",
       "      <th>aamust</th>\n",
       "      <th>...</th>\n",
       "      <th>zuchinicabbagecooked</th>\n",
       "      <th>zuchinisasparagus</th>\n",
       "      <th>zumba</th>\n",
       "      <th>zumex</th>\n",
       "      <th>zurich</th>\n",
       "      <th>ï½</th>\n",
       "      <th>ï½c</th>\n",
       "      <th>ï½f</th>\n",
       "      <th>ï½time</th>\n",
       "      <th>ï½ï½</th>\n",
       "    </tr>\n",
       "  </thead>\n",
       "  <tbody>\n",
       "    <tr>\n",
       "      <th>0</th>\n",
       "      <td>0</td>\n",
       "      <td>0</td>\n",
       "      <td>0</td>\n",
       "      <td>0</td>\n",
       "      <td>0</td>\n",
       "      <td>0</td>\n",
       "      <td>0</td>\n",
       "      <td>0</td>\n",
       "      <td>0</td>\n",
       "      <td>0</td>\n",
       "      <td>...</td>\n",
       "      <td>0</td>\n",
       "      <td>0</td>\n",
       "      <td>0</td>\n",
       "      <td>0</td>\n",
       "      <td>0</td>\n",
       "      <td>0</td>\n",
       "      <td>0</td>\n",
       "      <td>0</td>\n",
       "      <td>0</td>\n",
       "      <td>0</td>\n",
       "    </tr>\n",
       "    <tr>\n",
       "      <th>1</th>\n",
       "      <td>0</td>\n",
       "      <td>0</td>\n",
       "      <td>0</td>\n",
       "      <td>0</td>\n",
       "      <td>0</td>\n",
       "      <td>0</td>\n",
       "      <td>0</td>\n",
       "      <td>0</td>\n",
       "      <td>0</td>\n",
       "      <td>0</td>\n",
       "      <td>...</td>\n",
       "      <td>0</td>\n",
       "      <td>0</td>\n",
       "      <td>0</td>\n",
       "      <td>0</td>\n",
       "      <td>0</td>\n",
       "      <td>0</td>\n",
       "      <td>0</td>\n",
       "      <td>0</td>\n",
       "      <td>0</td>\n",
       "      <td>0</td>\n",
       "    </tr>\n",
       "    <tr>\n",
       "      <th>2</th>\n",
       "      <td>0</td>\n",
       "      <td>0</td>\n",
       "      <td>0</td>\n",
       "      <td>0</td>\n",
       "      <td>0</td>\n",
       "      <td>0</td>\n",
       "      <td>0</td>\n",
       "      <td>0</td>\n",
       "      <td>0</td>\n",
       "      <td>0</td>\n",
       "      <td>...</td>\n",
       "      <td>0</td>\n",
       "      <td>0</td>\n",
       "      <td>0</td>\n",
       "      <td>0</td>\n",
       "      <td>0</td>\n",
       "      <td>0</td>\n",
       "      <td>0</td>\n",
       "      <td>0</td>\n",
       "      <td>0</td>\n",
       "      <td>0</td>\n",
       "    </tr>\n",
       "    <tr>\n",
       "      <th>3</th>\n",
       "      <td>0</td>\n",
       "      <td>0</td>\n",
       "      <td>0</td>\n",
       "      <td>0</td>\n",
       "      <td>0</td>\n",
       "      <td>0</td>\n",
       "      <td>0</td>\n",
       "      <td>0</td>\n",
       "      <td>0</td>\n",
       "      <td>0</td>\n",
       "      <td>...</td>\n",
       "      <td>0</td>\n",
       "      <td>0</td>\n",
       "      <td>0</td>\n",
       "      <td>0</td>\n",
       "      <td>0</td>\n",
       "      <td>0</td>\n",
       "      <td>0</td>\n",
       "      <td>0</td>\n",
       "      <td>0</td>\n",
       "      <td>0</td>\n",
       "    </tr>\n",
       "    <tr>\n",
       "      <th>4</th>\n",
       "      <td>0</td>\n",
       "      <td>0</td>\n",
       "      <td>0</td>\n",
       "      <td>0</td>\n",
       "      <td>0</td>\n",
       "      <td>0</td>\n",
       "      <td>0</td>\n",
       "      <td>0</td>\n",
       "      <td>0</td>\n",
       "      <td>0</td>\n",
       "      <td>...</td>\n",
       "      <td>0</td>\n",
       "      <td>0</td>\n",
       "      <td>0</td>\n",
       "      <td>0</td>\n",
       "      <td>0</td>\n",
       "      <td>0</td>\n",
       "      <td>0</td>\n",
       "      <td>0</td>\n",
       "      <td>0</td>\n",
       "      <td>0</td>\n",
       "    </tr>\n",
       "    <tr>\n",
       "      <th>...</th>\n",
       "      <td>...</td>\n",
       "      <td>...</td>\n",
       "      <td>...</td>\n",
       "      <td>...</td>\n",
       "      <td>...</td>\n",
       "      <td>...</td>\n",
       "      <td>...</td>\n",
       "      <td>...</td>\n",
       "      <td>...</td>\n",
       "      <td>...</td>\n",
       "      <td>...</td>\n",
       "      <td>...</td>\n",
       "      <td>...</td>\n",
       "      <td>...</td>\n",
       "      <td>...</td>\n",
       "      <td>...</td>\n",
       "      <td>...</td>\n",
       "      <td>...</td>\n",
       "      <td>...</td>\n",
       "      <td>...</td>\n",
       "      <td>...</td>\n",
       "    </tr>\n",
       "    <tr>\n",
       "      <th>120143</th>\n",
       "      <td>0</td>\n",
       "      <td>0</td>\n",
       "      <td>0</td>\n",
       "      <td>0</td>\n",
       "      <td>0</td>\n",
       "      <td>0</td>\n",
       "      <td>0</td>\n",
       "      <td>0</td>\n",
       "      <td>0</td>\n",
       "      <td>0</td>\n",
       "      <td>...</td>\n",
       "      <td>0</td>\n",
       "      <td>0</td>\n",
       "      <td>0</td>\n",
       "      <td>0</td>\n",
       "      <td>0</td>\n",
       "      <td>0</td>\n",
       "      <td>0</td>\n",
       "      <td>0</td>\n",
       "      <td>0</td>\n",
       "      <td>0</td>\n",
       "    </tr>\n",
       "    <tr>\n",
       "      <th>120144</th>\n",
       "      <td>0</td>\n",
       "      <td>0</td>\n",
       "      <td>0</td>\n",
       "      <td>0</td>\n",
       "      <td>0</td>\n",
       "      <td>0</td>\n",
       "      <td>0</td>\n",
       "      <td>0</td>\n",
       "      <td>0</td>\n",
       "      <td>0</td>\n",
       "      <td>...</td>\n",
       "      <td>0</td>\n",
       "      <td>0</td>\n",
       "      <td>0</td>\n",
       "      <td>0</td>\n",
       "      <td>0</td>\n",
       "      <td>0</td>\n",
       "      <td>0</td>\n",
       "      <td>0</td>\n",
       "      <td>0</td>\n",
       "      <td>0</td>\n",
       "    </tr>\n",
       "    <tr>\n",
       "      <th>120145</th>\n",
       "      <td>0</td>\n",
       "      <td>0</td>\n",
       "      <td>0</td>\n",
       "      <td>0</td>\n",
       "      <td>0</td>\n",
       "      <td>0</td>\n",
       "      <td>0</td>\n",
       "      <td>0</td>\n",
       "      <td>0</td>\n",
       "      <td>0</td>\n",
       "      <td>...</td>\n",
       "      <td>0</td>\n",
       "      <td>0</td>\n",
       "      <td>0</td>\n",
       "      <td>0</td>\n",
       "      <td>0</td>\n",
       "      <td>0</td>\n",
       "      <td>0</td>\n",
       "      <td>0</td>\n",
       "      <td>0</td>\n",
       "      <td>0</td>\n",
       "    </tr>\n",
       "    <tr>\n",
       "      <th>120146</th>\n",
       "      <td>0</td>\n",
       "      <td>0</td>\n",
       "      <td>0</td>\n",
       "      <td>0</td>\n",
       "      <td>0</td>\n",
       "      <td>0</td>\n",
       "      <td>0</td>\n",
       "      <td>0</td>\n",
       "      <td>0</td>\n",
       "      <td>0</td>\n",
       "      <td>...</td>\n",
       "      <td>0</td>\n",
       "      <td>0</td>\n",
       "      <td>0</td>\n",
       "      <td>0</td>\n",
       "      <td>0</td>\n",
       "      <td>0</td>\n",
       "      <td>0</td>\n",
       "      <td>0</td>\n",
       "      <td>0</td>\n",
       "      <td>0</td>\n",
       "    </tr>\n",
       "    <tr>\n",
       "      <th>120147</th>\n",
       "      <td>0</td>\n",
       "      <td>0</td>\n",
       "      <td>0</td>\n",
       "      <td>0</td>\n",
       "      <td>0</td>\n",
       "      <td>0</td>\n",
       "      <td>0</td>\n",
       "      <td>0</td>\n",
       "      <td>0</td>\n",
       "      <td>0</td>\n",
       "      <td>...</td>\n",
       "      <td>0</td>\n",
       "      <td>0</td>\n",
       "      <td>0</td>\n",
       "      <td>0</td>\n",
       "      <td>0</td>\n",
       "      <td>0</td>\n",
       "      <td>0</td>\n",
       "      <td>0</td>\n",
       "      <td>0</td>\n",
       "      <td>0</td>\n",
       "    </tr>\n",
       "  </tbody>\n",
       "</table>\n",
       "<p>120148 rows × 89708 columns</p>\n",
       "</div>"
      ],
      "text/plain": [
       "        ___lbs  __through  _a  aa  aab  aade  aafound  aal  aall  aamust  ...  \\\n",
       "0            0          0   0   0    0     0        0    0     0       0  ...   \n",
       "1            0          0   0   0    0     0        0    0     0       0  ...   \n",
       "2            0          0   0   0    0     0        0    0     0       0  ...   \n",
       "3            0          0   0   0    0     0        0    0     0       0  ...   \n",
       "4            0          0   0   0    0     0        0    0     0       0  ...   \n",
       "...        ...        ...  ..  ..  ...   ...      ...  ...   ...     ...  ...   \n",
       "120143       0          0   0   0    0     0        0    0     0       0  ...   \n",
       "120144       0          0   0   0    0     0        0    0     0       0  ...   \n",
       "120145       0          0   0   0    0     0        0    0     0       0  ...   \n",
       "120146       0          0   0   0    0     0        0    0     0       0  ...   \n",
       "120147       0          0   0   0    0     0        0    0     0       0  ...   \n",
       "\n",
       "        zuchinicabbagecooked  zuchinisasparagus  zumba  zumex  zurich  ï½  \\\n",
       "0                          0                  0      0      0       0   0   \n",
       "1                          0                  0      0      0       0   0   \n",
       "2                          0                  0      0      0       0   0   \n",
       "3                          0                  0      0      0       0   0   \n",
       "4                          0                  0      0      0       0   0   \n",
       "...                      ...                ...    ...    ...     ...  ..   \n",
       "120143                     0                  0      0      0       0   0   \n",
       "120144                     0                  0      0      0       0   0   \n",
       "120145                     0                  0      0      0       0   0   \n",
       "120146                     0                  0      0      0       0   0   \n",
       "120147                     0                  0      0      0       0   0   \n",
       "\n",
       "        ï½c  ï½f  ï½time  ï½ï½  \n",
       "0         0    0       0     0  \n",
       "1         0    0       0     0  \n",
       "2         0    0       0     0  \n",
       "3         0    0       0     0  \n",
       "4         0    0       0     0  \n",
       "...     ...  ...     ...   ...  \n",
       "120143    0    0       0     0  \n",
       "120144    0    0       0     0  \n",
       "120145    0    0       0     0  \n",
       "120146    0    0       0     0  \n",
       "120147    0    0       0     0  \n",
       "\n",
       "[120148 rows x 89708 columns]"
      ]
     },
     "execution_count": 24,
     "metadata": {},
     "output_type": "execute_result"
    }
   ],
   "source": [
    "countvectorizer_matrix = vect.fit_transform(X_train)\n",
    "countvectorizer_matrix_df = pd.DataFrame(countvectorizer_matrix.toarray(), columns=vect.get_feature_names())\n",
    "countvectorizer_matrix_df"
   ]
  },
  {
   "cell_type": "code",
   "execution_count": null,
   "metadata": {},
   "outputs": [],
   "source": []
  },
  {
   "cell_type": "code",
   "execution_count": null,
   "metadata": {},
   "outputs": [],
   "source": []
  },
  {
   "cell_type": "code",
   "execution_count": null,
   "metadata": {},
   "outputs": [],
   "source": []
  },
  {
   "cell_type": "code",
   "execution_count": null,
   "metadata": {},
   "outputs": [],
   "source": []
  },
  {
   "cell_type": "markdown",
   "metadata": {},
   "source": [
    "<a id='model'> </a>\n",
    "## 5. Build Baseline Models\n",
    "* Naive Bayes Model, \"Model 1\"\n",
    "* Logistic Regression, \"Model 2\"\n",
    "* Support Vector Machine, \"Model 3\""
   ]
  },
  {
   "cell_type": "code",
   "execution_count": null,
   "metadata": {},
   "outputs": [],
   "source": []
  },
  {
   "cell_type": "markdown",
   "metadata": {},
   "source": [
    "### a) Naive Bayes Model"
   ]
  },
  {
   "cell_type": "code",
   "execution_count": 25,
   "metadata": {},
   "outputs": [],
   "source": [
    "# instantiate a Multinomial Naive Bayes model\n",
    "nb = MultinomialNB()"
   ]
  },
  {
   "cell_type": "code",
   "execution_count": 26,
   "metadata": {},
   "outputs": [
    {
     "name": "stdout",
     "output_type": "stream",
     "text": [
      "CPU times: user 69 ms, sys: 41.3 ms, total: 110 ms\n",
      "Wall time: 113 ms\n"
     ]
    },
    {
     "data": {
      "text/plain": [
       "MultinomialNB(alpha=1.0, class_prior=None, fit_prior=True)"
      ]
     },
     "execution_count": 26,
     "metadata": {},
     "output_type": "execute_result"
    }
   ],
   "source": [
    "# train and time the model using X_train_dtm\n",
    "%time nb.fit(X_train_dtm, y_train)"
   ]
  },
  {
   "cell_type": "code",
   "execution_count": 27,
   "metadata": {},
   "outputs": [],
   "source": [
    "# make class predictions for X_test_dtm\n",
    "y_pred_class = nb.predict(X_test_dtm)"
   ]
  },
  {
   "cell_type": "code",
   "execution_count": 28,
   "metadata": {},
   "outputs": [
    {
     "name": "stdout",
     "output_type": "stream",
     "text": [
      "0.8257207537119648\n"
     ]
    }
   ],
   "source": [
    "# calculate accuracy of class predictions\n",
    "print(metrics.accuracy_score(y_test, y_pred_class))"
   ]
  },
  {
   "cell_type": "code",
   "execution_count": 29,
   "metadata": {},
   "outputs": [
    {
     "name": "stdout",
     "output_type": "stream",
     "text": [
      "              precision    recall  f1-score   support\n",
      "\n",
      "           0       0.95      0.89      0.92     16804\n",
      "           1       0.73      0.72      0.73      7300\n",
      "           2       0.65      0.77      0.71      5934\n",
      "\n",
      "    accuracy                           0.83     30038\n",
      "   macro avg       0.78      0.79      0.78     30038\n",
      "weighted avg       0.84      0.83      0.83     30038\n",
      "\n"
     ]
    }
   ],
   "source": [
    "# calculate precision and recall\n",
    "print(classification_report(y_test, y_pred_class))"
   ]
  },
  {
   "cell_type": "code",
   "execution_count": 30,
   "metadata": {},
   "outputs": [
    {
     "name": "stdout",
     "output_type": "stream",
     "text": [
      "[[14941   820  1043]\n",
      " [  626  5277  1397]\n",
      " [  239  1110  4585]]\n"
     ]
    }
   ],
   "source": [
    "# calculate the confusion matrix\n",
    "print(metrics.confusion_matrix(y_test, y_pred_class))"
   ]
  },
  {
   "cell_type": "markdown",
   "metadata": {},
   "source": [
    "### b) Logistic Regression"
   ]
  },
  {
   "cell_type": "code",
   "execution_count": 31,
   "metadata": {},
   "outputs": [],
   "source": [
    "# instantiate a logistic regression model\n",
    "logreg = LogisticRegression(max_iter=10000)"
   ]
  },
  {
   "cell_type": "code",
   "execution_count": 32,
   "metadata": {},
   "outputs": [
    {
     "name": "stdout",
     "output_type": "stream",
     "text": [
      "CPU times: user 35min 51s, sys: 5min 5s, total: 40min 56s\n",
      "Wall time: 6min 51s\n"
     ]
    },
    {
     "data": {
      "text/plain": [
       "LogisticRegression(C=1.0, class_weight=None, dual=False, fit_intercept=True,\n",
       "                   intercept_scaling=1, l1_ratio=None, max_iter=10000,\n",
       "                   multi_class='auto', n_jobs=None, penalty='l2',\n",
       "                   random_state=None, solver='lbfgs', tol=0.0001, verbose=0,\n",
       "                   warm_start=False)"
      ]
     },
     "execution_count": 32,
     "metadata": {},
     "output_type": "execute_result"
    }
   ],
   "source": [
    "# train the model using X_train_dtm\n",
    "%time logreg.fit(X_train_dtm, y_train)"
   ]
  },
  {
   "cell_type": "code",
   "execution_count": 33,
   "metadata": {},
   "outputs": [],
   "source": [
    "# make class predictions for X_test_dtm\n",
    "y_pred_class = logreg.predict(X_test_dtm)\n",
    "y_pred_class_train = logreg.predict(X_train_dtm)"
   ]
  },
  {
   "cell_type": "code",
   "execution_count": 34,
   "metadata": {},
   "outputs": [
    {
     "name": "stdout",
     "output_type": "stream",
     "text": [
      "0.9231972834409747\n"
     ]
    }
   ],
   "source": [
    "# calculate accuracy of class predictions\n",
    "print(metrics.accuracy_score(y_test, y_pred_class))"
   ]
  },
  {
   "cell_type": "code",
   "execution_count": 35,
   "metadata": {},
   "outputs": [
    {
     "name": "stdout",
     "output_type": "stream",
     "text": [
      "              precision    recall  f1-score   support\n",
      "\n",
      "           0       0.96      0.99      0.98     16804\n",
      "           1       0.88      0.84      0.86      7300\n",
      "           2       0.85      0.85      0.85      5934\n",
      "\n",
      "    accuracy                           0.92     30038\n",
      "   macro avg       0.90      0.89      0.89     30038\n",
      "weighted avg       0.92      0.92      0.92     30038\n",
      "\n",
      "              precision    recall  f1-score   support\n",
      "\n",
      "           0       0.98      1.00      0.99     67211\n",
      "           1       0.96      0.94      0.95     29200\n",
      "           2       0.96      0.94      0.95     23737\n",
      "\n",
      "    accuracy                           0.97    120148\n",
      "   macro avg       0.97      0.96      0.96    120148\n",
      "weighted avg       0.97      0.97      0.97    120148\n",
      "\n"
     ]
    }
   ],
   "source": [
    "# calculate precision and recall\n",
    "print(classification_report(y_test, y_pred_class))\n",
    "print(classification_report(y_train, y_pred_class_train))"
   ]
  },
  {
   "cell_type": "code",
   "execution_count": 36,
   "metadata": {},
   "outputs": [
    {
     "name": "stdout",
     "output_type": "stream",
     "text": [
      "[[16607   125    72]\n",
      " [  407  6108   785]\n",
      " [  197   721  5016]]\n"
     ]
    }
   ],
   "source": [
    "# calculate the confusion matrix\n",
    "print(metrics.confusion_matrix(y_test, y_pred_class))"
   ]
  },
  {
   "cell_type": "markdown",
   "metadata": {},
   "source": [
    "### c) Support Vector Machine"
   ]
  },
  {
   "cell_type": "code",
   "execution_count": 37,
   "metadata": {},
   "outputs": [],
   "source": [
    "# instantiate a SVM model\n",
    "svm = SGDClassifier(max_iter=100, tol=None)"
   ]
  },
  {
   "cell_type": "code",
   "execution_count": 38,
   "metadata": {},
   "outputs": [
    {
     "name": "stdout",
     "output_type": "stream",
     "text": [
      "CPU times: user 10 s, sys: 130 ms, total: 10.1 s\n",
      "Wall time: 9.26 s\n"
     ]
    },
    {
     "data": {
      "text/plain": [
       "SGDClassifier(alpha=0.0001, average=False, class_weight=None,\n",
       "              early_stopping=False, epsilon=0.1, eta0=0.0, fit_intercept=True,\n",
       "              l1_ratio=0.15, learning_rate='optimal', loss='hinge',\n",
       "              max_iter=100, n_iter_no_change=5, n_jobs=None, penalty='l2',\n",
       "              power_t=0.5, random_state=None, shuffle=True, tol=None,\n",
       "              validation_fraction=0.1, verbose=0, warm_start=False)"
      ]
     },
     "execution_count": 38,
     "metadata": {},
     "output_type": "execute_result"
    }
   ],
   "source": [
    "# train the model using X_train_dtm\n",
    "%time svm.fit(X_train_dtm, y_train)"
   ]
  },
  {
   "cell_type": "code",
   "execution_count": 39,
   "metadata": {},
   "outputs": [],
   "source": [
    "# make class predictions for X_test_dtm\n",
    "y_pred_class = svm.predict(X_test_dtm)"
   ]
  },
  {
   "cell_type": "code",
   "execution_count": 40,
   "metadata": {},
   "outputs": [
    {
     "name": "stdout",
     "output_type": "stream",
     "text": [
      "0.9165723417005127\n"
     ]
    }
   ],
   "source": [
    "# calculate accuracy of class predictions\n",
    "print(metrics.accuracy_score(y_test, y_pred_class))"
   ]
  },
  {
   "cell_type": "code",
   "execution_count": 41,
   "metadata": {},
   "outputs": [
    {
     "name": "stdout",
     "output_type": "stream",
     "text": [
      "              precision    recall  f1-score   support\n",
      "\n",
      "           0       0.95      0.99      0.97     16804\n",
      "           1       0.89      0.81      0.85      7300\n",
      "           2       0.85      0.86      0.85      5934\n",
      "\n",
      "    accuracy                           0.92     30038\n",
      "   macro avg       0.90      0.88      0.89     30038\n",
      "weighted avg       0.92      0.92      0.92     30038\n",
      "\n"
     ]
    }
   ],
   "source": [
    "# calculate precision and recall\n",
    "print(classification_report(y_test, y_pred_class))"
   ]
  },
  {
   "cell_type": "code",
   "execution_count": 42,
   "metadata": {},
   "outputs": [
    {
     "name": "stdout",
     "output_type": "stream",
     "text": [
      "[[16567   132   105]\n",
      " [  590  5885   825]\n",
      " [  248   606  5080]]\n"
     ]
    }
   ],
   "source": [
    "# calculate the confusion matrix\n",
    "print(metrics.confusion_matrix(y_test, y_pred_class))"
   ]
  },
  {
   "cell_type": "markdown",
   "metadata": {},
   "source": [
    "### 6. Improve Model Performance (for best performing model)\n",
    "* Remove stopwords\n",
    "* Include n-grams\n",
    "* Limit min & max document frequencies\n",
    "\n"
   ]
  },
  {
   "cell_type": "code",
   "execution_count": 43,
   "metadata": {},
   "outputs": [
    {
     "data": {
      "text/plain": [
       "CountVectorizer(analyzer='word', binary=False, decode_error='strict',\n",
       "                dtype=<class 'numpy.int64'>, encoding='utf-8', input='content',\n",
       "                lowercase=True, max_df=1.0, max_features=None, min_df=1,\n",
       "                ngram_range=(1, 1), preprocessor=None, stop_words=None,\n",
       "                strip_accents=None, token_pattern='(?u)\\\\b\\\\w\\\\w+\\\\b',\n",
       "                tokenizer=None, vocabulary=None)"
      ]
     },
     "execution_count": 43,
     "metadata": {},
     "output_type": "execute_result"
    }
   ],
   "source": [
    "#default parameters for countvectorizer model\n",
    "CountVectorizer()"
   ]
  },
  {
   "cell_type": "code",
   "execution_count": 44,
   "metadata": {},
   "outputs": [],
   "source": [
    "# remove English stop words\n",
    "vect_optimized = CountVectorizer(stop_words='english',\n",
    "                                 lowercase=True,\n",
    "                                 ngram_range=(1,4), \n",
    "                                 min_df=0.1, \n",
    "                                 max_df=0.2)\n",
    "\n"
   ]
  },
  {
   "cell_type": "code",
   "execution_count": 45,
   "metadata": {},
   "outputs": [
    {
     "data": {
      "text/html": [
       "<div>\n",
       "<style scoped>\n",
       "    .dataframe tbody tr th:only-of-type {\n",
       "        vertical-align: middle;\n",
       "    }\n",
       "\n",
       "    .dataframe tbody tr th {\n",
       "        vertical-align: top;\n",
       "    }\n",
       "\n",
       "    .dataframe thead th {\n",
       "        text-align: right;\n",
       "    }\n",
       "</style>\n",
       "<table border=\"1\" class=\"dataframe\">\n",
       "  <thead>\n",
       "    <tr style=\"text-align: right;\">\n",
       "      <th></th>\n",
       "      <th>area instructed</th>\n",
       "      <th>basement</th>\n",
       "      <th>broken</th>\n",
       "      <th>buildup</th>\n",
       "      <th>ceiling tiles</th>\n",
       "      <th>ceilings</th>\n",
       "      <th>chicago</th>\n",
       "      <th>citation</th>\n",
       "      <th>citation issued</th>\n",
       "      <th>clean floors</th>\n",
       "      <th>...</th>\n",
       "      <th>toilet</th>\n",
       "      <th>use</th>\n",
       "      <th>used</th>\n",
       "      <th>utensils</th>\n",
       "      <th>utensils shall</th>\n",
       "      <th>ventilation</th>\n",
       "      <th>walk</th>\n",
       "      <th>walkin</th>\n",
       "      <th>washing</th>\n",
       "      <th>washroom</th>\n",
       "    </tr>\n",
       "  </thead>\n",
       "  <tbody>\n",
       "    <tr>\n",
       "      <th>0</th>\n",
       "      <td>1</td>\n",
       "      <td>0</td>\n",
       "      <td>0</td>\n",
       "      <td>0</td>\n",
       "      <td>0</td>\n",
       "      <td>0</td>\n",
       "      <td>0</td>\n",
       "      <td>0</td>\n",
       "      <td>0</td>\n",
       "      <td>0</td>\n",
       "      <td>...</td>\n",
       "      <td>0</td>\n",
       "      <td>0</td>\n",
       "      <td>0</td>\n",
       "      <td>0</td>\n",
       "      <td>0</td>\n",
       "      <td>0</td>\n",
       "      <td>0</td>\n",
       "      <td>0</td>\n",
       "      <td>0</td>\n",
       "      <td>0</td>\n",
       "    </tr>\n",
       "    <tr>\n",
       "      <th>1</th>\n",
       "      <td>0</td>\n",
       "      <td>0</td>\n",
       "      <td>0</td>\n",
       "      <td>0</td>\n",
       "      <td>0</td>\n",
       "      <td>0</td>\n",
       "      <td>0</td>\n",
       "      <td>0</td>\n",
       "      <td>0</td>\n",
       "      <td>0</td>\n",
       "      <td>...</td>\n",
       "      <td>0</td>\n",
       "      <td>0</td>\n",
       "      <td>0</td>\n",
       "      <td>1</td>\n",
       "      <td>1</td>\n",
       "      <td>0</td>\n",
       "      <td>0</td>\n",
       "      <td>0</td>\n",
       "      <td>0</td>\n",
       "      <td>0</td>\n",
       "    </tr>\n",
       "    <tr>\n",
       "      <th>2</th>\n",
       "      <td>0</td>\n",
       "      <td>0</td>\n",
       "      <td>0</td>\n",
       "      <td>0</td>\n",
       "      <td>0</td>\n",
       "      <td>0</td>\n",
       "      <td>0</td>\n",
       "      <td>0</td>\n",
       "      <td>0</td>\n",
       "      <td>1</td>\n",
       "      <td>...</td>\n",
       "      <td>0</td>\n",
       "      <td>0</td>\n",
       "      <td>1</td>\n",
       "      <td>0</td>\n",
       "      <td>0</td>\n",
       "      <td>0</td>\n",
       "      <td>0</td>\n",
       "      <td>1</td>\n",
       "      <td>0</td>\n",
       "      <td>0</td>\n",
       "    </tr>\n",
       "    <tr>\n",
       "      <th>3</th>\n",
       "      <td>0</td>\n",
       "      <td>0</td>\n",
       "      <td>0</td>\n",
       "      <td>0</td>\n",
       "      <td>0</td>\n",
       "      <td>0</td>\n",
       "      <td>1</td>\n",
       "      <td>0</td>\n",
       "      <td>0</td>\n",
       "      <td>0</td>\n",
       "      <td>...</td>\n",
       "      <td>0</td>\n",
       "      <td>0</td>\n",
       "      <td>0</td>\n",
       "      <td>3</td>\n",
       "      <td>2</td>\n",
       "      <td>1</td>\n",
       "      <td>0</td>\n",
       "      <td>0</td>\n",
       "      <td>0</td>\n",
       "      <td>0</td>\n",
       "    </tr>\n",
       "    <tr>\n",
       "      <th>4</th>\n",
       "      <td>0</td>\n",
       "      <td>0</td>\n",
       "      <td>0</td>\n",
       "      <td>0</td>\n",
       "      <td>0</td>\n",
       "      <td>0</td>\n",
       "      <td>0</td>\n",
       "      <td>0</td>\n",
       "      <td>0</td>\n",
       "      <td>0</td>\n",
       "      <td>...</td>\n",
       "      <td>0</td>\n",
       "      <td>0</td>\n",
       "      <td>0</td>\n",
       "      <td>0</td>\n",
       "      <td>0</td>\n",
       "      <td>0</td>\n",
       "      <td>1</td>\n",
       "      <td>0</td>\n",
       "      <td>0</td>\n",
       "      <td>0</td>\n",
       "    </tr>\n",
       "    <tr>\n",
       "      <th>...</th>\n",
       "      <td>...</td>\n",
       "      <td>...</td>\n",
       "      <td>...</td>\n",
       "      <td>...</td>\n",
       "      <td>...</td>\n",
       "      <td>...</td>\n",
       "      <td>...</td>\n",
       "      <td>...</td>\n",
       "      <td>...</td>\n",
       "      <td>...</td>\n",
       "      <td>...</td>\n",
       "      <td>...</td>\n",
       "      <td>...</td>\n",
       "      <td>...</td>\n",
       "      <td>...</td>\n",
       "      <td>...</td>\n",
       "      <td>...</td>\n",
       "      <td>...</td>\n",
       "      <td>...</td>\n",
       "      <td>...</td>\n",
       "      <td>...</td>\n",
       "    </tr>\n",
       "    <tr>\n",
       "      <th>120143</th>\n",
       "      <td>0</td>\n",
       "      <td>0</td>\n",
       "      <td>0</td>\n",
       "      <td>1</td>\n",
       "      <td>0</td>\n",
       "      <td>0</td>\n",
       "      <td>0</td>\n",
       "      <td>0</td>\n",
       "      <td>0</td>\n",
       "      <td>1</td>\n",
       "      <td>...</td>\n",
       "      <td>0</td>\n",
       "      <td>0</td>\n",
       "      <td>0</td>\n",
       "      <td>0</td>\n",
       "      <td>0</td>\n",
       "      <td>0</td>\n",
       "      <td>0</td>\n",
       "      <td>0</td>\n",
       "      <td>0</td>\n",
       "      <td>0</td>\n",
       "    </tr>\n",
       "    <tr>\n",
       "      <th>120144</th>\n",
       "      <td>0</td>\n",
       "      <td>0</td>\n",
       "      <td>0</td>\n",
       "      <td>0</td>\n",
       "      <td>0</td>\n",
       "      <td>0</td>\n",
       "      <td>0</td>\n",
       "      <td>0</td>\n",
       "      <td>0</td>\n",
       "      <td>0</td>\n",
       "      <td>...</td>\n",
       "      <td>1</td>\n",
       "      <td>2</td>\n",
       "      <td>0</td>\n",
       "      <td>2</td>\n",
       "      <td>0</td>\n",
       "      <td>0</td>\n",
       "      <td>0</td>\n",
       "      <td>0</td>\n",
       "      <td>0</td>\n",
       "      <td>0</td>\n",
       "    </tr>\n",
       "    <tr>\n",
       "      <th>120145</th>\n",
       "      <td>0</td>\n",
       "      <td>0</td>\n",
       "      <td>0</td>\n",
       "      <td>0</td>\n",
       "      <td>2</td>\n",
       "      <td>0</td>\n",
       "      <td>0</td>\n",
       "      <td>0</td>\n",
       "      <td>0</td>\n",
       "      <td>0</td>\n",
       "      <td>...</td>\n",
       "      <td>0</td>\n",
       "      <td>0</td>\n",
       "      <td>0</td>\n",
       "      <td>1</td>\n",
       "      <td>0</td>\n",
       "      <td>1</td>\n",
       "      <td>0</td>\n",
       "      <td>0</td>\n",
       "      <td>0</td>\n",
       "      <td>0</td>\n",
       "    </tr>\n",
       "    <tr>\n",
       "      <th>120146</th>\n",
       "      <td>0</td>\n",
       "      <td>0</td>\n",
       "      <td>0</td>\n",
       "      <td>0</td>\n",
       "      <td>0</td>\n",
       "      <td>0</td>\n",
       "      <td>0</td>\n",
       "      <td>0</td>\n",
       "      <td>0</td>\n",
       "      <td>0</td>\n",
       "      <td>...</td>\n",
       "      <td>0</td>\n",
       "      <td>0</td>\n",
       "      <td>0</td>\n",
       "      <td>0</td>\n",
       "      <td>0</td>\n",
       "      <td>0</td>\n",
       "      <td>0</td>\n",
       "      <td>0</td>\n",
       "      <td>0</td>\n",
       "      <td>0</td>\n",
       "    </tr>\n",
       "    <tr>\n",
       "      <th>120147</th>\n",
       "      <td>0</td>\n",
       "      <td>0</td>\n",
       "      <td>0</td>\n",
       "      <td>0</td>\n",
       "      <td>0</td>\n",
       "      <td>0</td>\n",
       "      <td>0</td>\n",
       "      <td>0</td>\n",
       "      <td>0</td>\n",
       "      <td>0</td>\n",
       "      <td>...</td>\n",
       "      <td>0</td>\n",
       "      <td>0</td>\n",
       "      <td>0</td>\n",
       "      <td>0</td>\n",
       "      <td>0</td>\n",
       "      <td>0</td>\n",
       "      <td>1</td>\n",
       "      <td>0</td>\n",
       "      <td>0</td>\n",
       "      <td>0</td>\n",
       "    </tr>\n",
       "  </tbody>\n",
       "</table>\n",
       "<p>120148 rows × 99 columns</p>\n",
       "</div>"
      ],
      "text/plain": [
       "        area instructed  basement  broken  buildup  ceiling tiles  ceilings  \\\n",
       "0                     1         0       0        0              0         0   \n",
       "1                     0         0       0        0              0         0   \n",
       "2                     0         0       0        0              0         0   \n",
       "3                     0         0       0        0              0         0   \n",
       "4                     0         0       0        0              0         0   \n",
       "...                 ...       ...     ...      ...            ...       ...   \n",
       "120143                0         0       0        1              0         0   \n",
       "120144                0         0       0        0              0         0   \n",
       "120145                0         0       0        0              2         0   \n",
       "120146                0         0       0        0              0         0   \n",
       "120147                0         0       0        0              0         0   \n",
       "\n",
       "        chicago  citation  citation issued  clean floors  ...  toilet  use  \\\n",
       "0             0         0                0             0  ...       0    0   \n",
       "1             0         0                0             0  ...       0    0   \n",
       "2             0         0                0             1  ...       0    0   \n",
       "3             1         0                0             0  ...       0    0   \n",
       "4             0         0                0             0  ...       0    0   \n",
       "...         ...       ...              ...           ...  ...     ...  ...   \n",
       "120143        0         0                0             1  ...       0    0   \n",
       "120144        0         0                0             0  ...       1    2   \n",
       "120145        0         0                0             0  ...       0    0   \n",
       "120146        0         0                0             0  ...       0    0   \n",
       "120147        0         0                0             0  ...       0    0   \n",
       "\n",
       "        used  utensils  utensils shall  ventilation  walk  walkin  washing  \\\n",
       "0          0         0               0            0     0       0        0   \n",
       "1          0         1               1            0     0       0        0   \n",
       "2          1         0               0            0     0       1        0   \n",
       "3          0         3               2            1     0       0        0   \n",
       "4          0         0               0            0     1       0        0   \n",
       "...      ...       ...             ...          ...   ...     ...      ...   \n",
       "120143     0         0               0            0     0       0        0   \n",
       "120144     0         2               0            0     0       0        0   \n",
       "120145     0         1               0            1     0       0        0   \n",
       "120146     0         0               0            0     0       0        0   \n",
       "120147     0         0               0            0     1       0        0   \n",
       "\n",
       "        washroom  \n",
       "0              0  \n",
       "1              0  \n",
       "2              0  \n",
       "3              0  \n",
       "4              0  \n",
       "...          ...  \n",
       "120143         0  \n",
       "120144         0  \n",
       "120145         0  \n",
       "120146         0  \n",
       "120147         0  \n",
       "\n",
       "[120148 rows x 99 columns]"
      ]
     },
     "execution_count": 45,
     "metadata": {},
     "output_type": "execute_result"
    }
   ],
   "source": [
    "countvectorizer_matrix = vect_optimized.fit_transform(X_train)\n",
    "countvectorizer_matrix_df = pd.DataFrame(countvectorizer_matrix.toarray(), columns=vect_optimized.get_feature_names())\n",
    "countvectorizer_matrix_df"
   ]
  },
  {
   "cell_type": "code",
   "execution_count": 46,
   "metadata": {},
   "outputs": [],
   "source": [
    "# equivalently: combine fit and transform into a single step\n",
    "X_train_dtm = vect_optimized.fit_transform(X_train)\n",
    "X_test_dtm = vect_optimized.transform(X_test)\n"
   ]
  },
  {
   "cell_type": "code",
   "execution_count": 47,
   "metadata": {},
   "outputs": [
    {
     "name": "stdout",
     "output_type": "stream",
     "text": [
      "CPU times: user 12.5 s, sys: 40 ms, total: 12.5 s\n",
      "Wall time: 12.6 s\n",
      "0.8385711432185898\n"
     ]
    }
   ],
   "source": [
    "#Logistitc Regression\n",
    "model = LogisticRegression(max_iter=500)\n",
    "%time model.fit(X_train_dtm, y_train)\n",
    "\n",
    "# make class predictions for X_test_dtm\n",
    "y_pred_class = model.predict(X_test_dtm)\n",
    "\n",
    "# calculate accuracy of class predictions\n",
    "print(metrics.accuracy_score(y_test, y_pred_class))"
   ]
  },
  {
   "cell_type": "code",
   "execution_count": 48,
   "metadata": {},
   "outputs": [
    {
     "name": "stdout",
     "output_type": "stream",
     "text": [
      "              precision    recall  f1-score   support\n",
      "\n",
      "           0       0.89      0.98      0.93     16804\n",
      "           1       0.77      0.62      0.68      7300\n",
      "           2       0.76      0.72      0.74      5934\n",
      "\n",
      "    accuracy                           0.84     30038\n",
      "   macro avg       0.80      0.77      0.78     30038\n",
      "weighted avg       0.83      0.84      0.83     30038\n",
      "\n"
     ]
    }
   ],
   "source": [
    "# calculate precision and recall\n",
    "print(classification_report(y_test, y_pred_class))"
   ]
  },
  {
   "cell_type": "code",
   "execution_count": 49,
   "metadata": {},
   "outputs": [
    {
     "name": "stdout",
     "output_type": "stream",
     "text": [
      "              precision    recall  f1-score   support\n",
      "\n",
      "           0       0.89      0.98      0.93     67211\n",
      "           1       0.77      0.62      0.69     29200\n",
      "           2       0.76      0.72      0.74     23737\n",
      "\n",
      "    accuracy                           0.84    120148\n",
      "   macro avg       0.81      0.77      0.79    120148\n",
      "weighted avg       0.83      0.84      0.83    120148\n",
      "\n"
     ]
    }
   ],
   "source": [
    "#Check for over fitting\n",
    "y_pred_class_train = model.predict(X_train_dtm)\n",
    "print(classification_report(y_train, y_pred_class_train))"
   ]
  },
  {
   "cell_type": "code",
   "execution_count": 50,
   "metadata": {},
   "outputs": [
    {
     "data": {
      "text/plain": [
       "Text(69.0, 0.5, 'Actual')"
      ]
     },
     "execution_count": 50,
     "metadata": {},
     "output_type": "execute_result"
    },
    {
     "data": {
      "image/png": "[encoded data removed]",
      "text/plain": [
       "<Figure size 720x504 with 2 Axes>"
      ]
     },
     "metadata": {
      "needs_background": "light"
     },
     "output_type": "display_data"
    }
   ],
   "source": [
    "cnf_matrix_test = confusion_matrix (y_test, y_pred_class)\n",
    "\n",
    "import seaborn as sns\n",
    "\n",
    "plt.figure(figsize = (10,7))\n",
    "sns.heatmap(cnf_matrix_test, annot=True, cmap=\"YlGnBu\", fmt='g')\n",
    "plt.xlabel('Predicted')\n",
    "plt.ylabel('Actual')"
   ]
  },
  {
   "cell_type": "markdown",
   "metadata": {},
   "source": [
    "### 7. Troubleshoot"
   ]
  },
  {
   "cell_type": "code",
   "execution_count": 51,
   "metadata": {},
   "outputs": [],
   "source": [
    "X_test_df = pd.DataFrame(X_test)\n",
    "X_test_df.reset_index(inplace=True, drop=True)\n",
    "\n",
    "y_test_df = pd.DataFrame(y_test)\n",
    "y_test_df.reset_index(inplace=True, drop=True)"
   ]
  },
  {
   "cell_type": "code",
   "execution_count": 52,
   "metadata": {},
   "outputs": [],
   "source": [
    "y_pred_prob = model.predict_proba(X_test_dtm)\n",
    "y_pred_class = model.predict(X_test_dtm)"
   ]
  },
  {
   "cell_type": "code",
   "execution_count": 53,
   "metadata": {},
   "outputs": [],
   "source": [
    "y_pred_prob_df = pd.DataFrame(y_pred_prob)\n",
    "y_pred_prob_df.columns = ['0-prob', '1-prob', '2-prob']\n",
    "\n",
    "y_pred_class_df = pd.DataFrame(y_pred_class)\n",
    "y_pred_class_df.columns = ['predicted']"
   ]
  },
  {
   "cell_type": "code",
   "execution_count": 54,
   "metadata": {},
   "outputs": [],
   "source": [
    "results_df = X_test_df.join(y_test_df).join(y_pred_class_df).join(y_pred_prob_df)"
   ]
  },
  {
   "cell_type": "code",
   "execution_count": 55,
   "metadata": {},
   "outputs": [
    {
     "data": {
      "text/plain": [
       "(3324, 6)"
      ]
     },
     "execution_count": 55,
     "metadata": {},
     "output_type": "execute_result"
    }
   ],
   "source": [
    "results_review_df = results_df[(results_df['0-prob'] < 0.6) & (results_df['1-prob'] < 0.6) & (results_df['2-prob'] < 0.6)]\n",
    "results_review_df.shape"
   ]
  },
  {
   "cell_type": "code",
   "execution_count": 60,
   "metadata": {},
   "outputs": [],
   "source": [
    "pd.set_option('display.max_colwidth', 1000)"
   ]
  },
  {
   "cell_type": "code",
   "execution_count": 61,
   "metadata": {},
   "outputs": [
    {
     "data": {
      "text/html": [
       "<div>\n",
       "<style scoped>\n",
       "    .dataframe tbody tr th:only-of-type {\n",
       "        vertical-align: middle;\n",
       "    }\n",
       "\n",
       "    .dataframe tbody tr th {\n",
       "        vertical-align: top;\n",
       "    }\n",
       "\n",
       "    .dataframe thead th {\n",
       "        text-align: right;\n",
       "    }\n",
       "</style>\n",
       "<table border=\"1\" class=\"dataframe\">\n",
       "  <thead>\n",
       "    <tr style=\"text-align: right;\">\n",
       "      <th></th>\n",
       "      <th>Violations</th>\n",
       "      <th>Results_Flag</th>\n",
       "      <th>predicted</th>\n",
       "      <th>0-prob</th>\n",
       "      <th>1-prob</th>\n",
       "      <th>2-prob</th>\n",
       "    </tr>\n",
       "  </thead>\n",
       "  <tbody>\n",
       "    <tr>\n",
       "      <th>12</th>\n",
       "      <td>NO VALID CITY OF CHICAGO FOOD SERVICE MANAGER CERTIFICATE POSTED AND NO VALID PROOF OF ENROLLMENT AVAILABLE AT THIS TIME  SERIOUS CITATION ISSUED     MUST SEAL SMALL OPENING ALONG THE BOTTOM OF THE REAR EXIT DOOR IN THE SOUTH CLASSROOM    MUST DETAIL CLEAN THE LOWER SECTIONS OF THE STUDENT STORAGE CUBBIES IN THE MIDDLE CLASSROOM     MUST REPAIR THE BROKEN COLD WATER FAUCET AT THE WASHBOWL IN THE MIDDLE CLASSROOM  MUST REPAIR VENTILATION ABOVE STOVE IN KITCHEN     MUST REMOVE CLUTTER FROM THE HALLWAY STORAGE CLOSET AND THE NORTH CLASSROOM TEACHERS CLOSET  MUST STORE ALL ITEMS  INCHES OFF THE FLOOR</td>\n",
       "      <td>1</td>\n",
       "      <td>1</td>\n",
       "      <td>3.159360e-02</td>\n",
       "      <td>0.535263</td>\n",
       "      <td>0.433144</td>\n",
       "    </tr>\n",
       "    <tr>\n",
       "      <th>22</th>\n",
       "      <td>THE FOLLOWING PREVIOUS MINOR VIOLATIONS NOTED ON REPORT  STILL NOT CORRECTED  CLEAN THE FOLLOWING INTERIOR CABINETS OF DEEP FRYERS  OVEN EXPOSED WASHBOWL IN EMPLOYEE WASHROOM INTERIORS  EXTERIORS OF COOLERS  FREEZERS EXTERIORS OF ALL COOKING EQUIPMENT PREP TABLES STORAGE SHELVES HOOD  FILTERS AND ALL OTHER UNCLEAN SURFACES THROUGHOUT  REPLACE OR REPAIR ALL BROKEN FLOOR TILES THROUGHOUT DETAIL CLEAN FLOOR THROUGHOUT KITCHEN ALONG ALL WALL BASES AND IN CORNERS  CLEAN AND PAINT WALLS IN KITCHEN AND IN REAR STORAGE AREA REPLACE ALL CEILING TILES THAT ARE NO LONGER CLEANABLE CITATION ISSUED SERIOUS FOR NON COMPLIANCE WITH EXISTING VIOLATION    MUST REFRAIN FROM USING PLASTIC GROCERY BAGS TO STORE UNWRAPPED FOODS IN COOLERS  FREEZERS AND FROM USING BOXES TO DRAIN EXCESS OIL FROM COOKED FOODS PRIOR TO SERVING TO CUSTOMERS    CLEAN AND PAINT WALLS IN BOTH WASHROOMS IN DINING AREA CLEAN ALL DUSTY CEILING VENTS THROUGHOUT    REPLACE MISSING LIGHT IN REACHIN COOLER BY RICE COOKER IN FOOD PR...</td>\n",
       "      <td>1</td>\n",
       "      <td>1</td>\n",
       "      <td>1.269582e-01</td>\n",
       "      <td>0.503785</td>\n",
       "      <td>0.369257</td>\n",
       "    </tr>\n",
       "    <tr>\n",
       "      <th>26</th>\n",
       "      <td>OBSERVED THE FOLLOWING FOODS STORED AT IMPROPER TEMPERATURE IN PREP COOLER SEAFOOD SALAD F CRABMEAT F COOKED FISH F CREAM CHEESE F INSTRUCTED MANAGER TO DISCARD APPROXIMATELY LBS AND  OF FOOD ALL COLD TCS FOOD MUST MAINTAIN F OR BELOW DURING STORAGE PREPARATION DISPLAY AND SERVICE PRIORITY CITATION ISSUED     OBSERVED REFRIGERATED READY TO EAT SLICED CANTALOUPE SEAFOOD SALAD ETC NOT DATED IN WALKIN COOLER ALL REFRIGERATED READY TO EAT TCS FOOD HELD MORE THAN  HOURS SHALL BE CLEARLY MARKED WITH DATE BY WHICH FOOD IS TO BE SOLD CONSUMED OR DISCARDED WITH A MAXIMUM OF  DAYS PRIORITY FOUNDATION CITATION ISSUED     OBSERVED PREP COOLER NOT MAINTAINING PROPER TEMPERATURE F INSTRUCTED MANAGER TO REPAIR AND MAINTAIN COOLER AT F OR BELOW PREP COOLER IS TAGGED HELD FOR INSPECTION AND MUST NOT BE USED UNTIL REINSPECTED BY CHICAGO DEPARTMENT OF HEALTH PRIORITY CITATION ISSUED     OBSERVED SOME BULK CONTAINERS NOT LABELED IN STORAGE AREA INSTRUCTED MANAGER TO LABEL ALL BULK CONTAINERS WITH CO...</td>\n",
       "      <td>2</td>\n",
       "      <td>1</td>\n",
       "      <td>4.958360e-14</td>\n",
       "      <td>0.576090</td>\n",
       "      <td>0.423910</td>\n",
       "    </tr>\n",
       "    <tr>\n",
       "      <th>46</th>\n",
       "      <td>NOTED EMPLOYEES PREPPING SANDWICHES MOVING FROM PREP TABLE TO REFRIGERATION UNIT AT THE REAR AND TO THE CASH REGISTRY WHILE CHANGING GLOVES DID NOT OBSERVE EMPLOYEES WASHING HANDS IN BETWEEN INSTRUCTED TO ALWAYS WASH HANDS WHEN CHANGING GLOVES     CITATION ISSUED FOR CRITICAL VIOLATION A    NOTED ICE ACCUMULATING ON TOP OF BOXES INSIDE WALK IN FREEZER FROM THE CONDENSING UNIT INSTRUCTED TO CLEAN AND MAINTAIN THE CONDENSATION UNITALSO NOTED PIPE UNDERNEATH THE ONE SINK DETACHED INTRUCTED TO INSTALL    INSTRUCTED TO CLEAN INSIDE OF LOWER ICE MACHINE WITH SLIGHT DISCOLORATIONCLEAN AROUND EXPOSED HAND WASH SINK AT THE FRONT WITH MOLD AROUND SILICONE LINING    INSTRUCTED TO CLEAN FLOOR DRAINS AT THE REAR UNDERNEATH  AND  COMPARTMENT SINKS</td>\n",
       "      <td>2</td>\n",
       "      <td>1</td>\n",
       "      <td>2.583357e-04</td>\n",
       "      <td>0.502556</td>\n",
       "      <td>0.497185</td>\n",
       "    </tr>\n",
       "    <tr>\n",
       "      <th>57</th>\n",
       "      <td>OBSERVED POOR HYGIENIC PRACTICES BY FOOD HANDLERSOBSERVED MALE FOOD HANDLER WALKING AROUND IN LOBBY AND THEN CAME INTO PREP AREA AND STARTED COOKING AND A FEMALE FOOD HANDLER WAS TOUCHING AND HANDLING ARTICLES PAPERSFOOD CONTAINERSUTENSILS AND THEN STARTED COOKING NEITHER ONE OF THEM WASHED HANDS BEFORE COOKING FOODMUST WASH HANDS AFTER EVERY POSSIBLE CONTAMINATIONCRITICAL A    OBSERVED NO CERTIFIED FOOD MANGER ON DUTY AT THIS TIME OF INSPECTION WHILE CHICKENEGG ROLLSRICEGRAVYETC IS BEING PREPAREDHANDLED AND SERVED AT THIS TIMESERIOUS     MUST LABEL AND DATE COOKED FOODS IN COOLERS     MUST REMOVE RUST FROM SHELVING UNITS IN WALK IN COOLER    MUST CLEAN FOOD DEBRI FROM FRYERSFAUCETS AT WOKWOK STATIONALL SHELVING UNITSROLLING CARTSEXTERIOR OF FOOD CONTAINERS    MUST CLEAN GREASE AND FOOD DEBRI FROM FLOOR UNDERAROUNDALONG WALL BASES THROUGHOUTMUST REPAIR OR REPLACE DAMAGED FLOOR TILES IN LOBBY    MUST REPAIR OR REPLACE STAINED CEILING TILESHOLE IN WALL OUTSIDE OF TOILET ROOMLOOSE W...</td>\n",
       "      <td>2</td>\n",
       "      <td>0</td>\n",
       "      <td>3.864483e-01</td>\n",
       "      <td>0.250663</td>\n",
       "      <td>0.362889</td>\n",
       "    </tr>\n",
       "    <tr>\n",
       "      <th>86</th>\n",
       "      <td>LEOBARDO CARDENAS HAS NO CURRENT SANITATION CERTIFICATE POSTED OR AVAILABLE AT THIS TIME OF INSPECTION ONLY HAS A REGISTRATION FORM  ONLY NO RECEIPT CITATION ISSUED     LABEL BULK FOOD CONTAINERS IN STORAGE ROOM IN BASEMENT AREA    MUST REPLACE CUTTING BOARDS IN THE PREP AREA HAS OPEN SEAMS AND REMOVE RUST FROM GREASE TRAP AT  COMPARTMENT SINK    CLEAN SHELVES INSIDE  DOOR REACHIN COOLER IN REAR PREP AREA AND CLEAN FTLTERS ABOVE STOVE IN REAR PREP AREA ALSO CLEAN FANS INSIDE WALKIN COOLER IN BASEMENT AREA    THERMOMETER NEEDED AT PRODUCE REACHIN COOLER IN REAR PREP AREA</td>\n",
       "      <td>2</td>\n",
       "      <td>2</td>\n",
       "      <td>3.309864e-02</td>\n",
       "      <td>0.460274</td>\n",
       "      <td>0.506627</td>\n",
       "    </tr>\n",
       "    <tr>\n",
       "      <th>90</th>\n",
       "      <td>FOUND A NONWORKING GLASSWARE MACHINE AT THE BAR AREA NOT IN USE AND NOT PROPERLY SANITIZING AT PPM CHLORINEMACHINE WAS TAGGED AT THIS TIME DO NOT USE MACHINE UNTIL REPAIRED AND CDPH INSPECTS UNITCRITICAL VIOLATION NO CITATION ISSUED    FOUND THE BOTTOM PORTION OF ALL BOOTHS IN THE SMALL REAR PARTY ROOM AREA TORN AND NOT WELL MAINTAINED MUST REPAIRREPLACE THE BOTTOM PORTION OF ALL THE BOOTH LOCATED BEHIND THE GRAY CURTAIN IN THE SMALL PARTY ROOM AREA SO AS TO HAVE SURFACES SMOOTH AND EASILY CLEANABLE AT ALL TIMES FOUND AN ICE BIN HOLDER AT THE BAR WITHOUT A COVER MUST PROVIDE ICE BIN COVERS FOR ALL ICE BIN HOLDERS AT THE FRONT BAR AT ALL TIMES    FOUND BROKEN AND MISSING FLOOR TILES IN FRONT OF THE REAR KITCHEN EXIT DOORMUST REPAIRREPLACE AND MAINTAIN SO AS TO BE SMOOTH AND EASILY CLEANABLE  FOUND FOUL SMELL IN THE MENS ST FLOOR RESTROOM AND THE BASEMENT UNISEX RESTROOM MUST CLEAN FLOOR DRAIN AND REMOVE FOUL SMELL AT BOTH RESTROOMS    FOUND PEELING PAINT ABOVE THE MAIN COOKING PRE...</td>\n",
       "      <td>2</td>\n",
       "      <td>2</td>\n",
       "      <td>1.526504e-01</td>\n",
       "      <td>0.347723</td>\n",
       "      <td>0.499627</td>\n",
       "    </tr>\n",
       "    <tr>\n",
       "      <th>91</th>\n",
       "      <td>Found potentially hazardous foods sliced tomatoes steak chicken etc without proper labels Must label all prepped potentially hazardous foods with name and date Must maintain same Found bulk food items potatoes without proper label Must label all bulk food containers with name Must maintain same</td>\n",
       "      <td>0</td>\n",
       "      <td>2</td>\n",
       "      <td>4.016666e-01</td>\n",
       "      <td>0.104585</td>\n",
       "      <td>0.493748</td>\n",
       "    </tr>\n",
       "    <tr>\n",
       "      <th>114</th>\n",
       "      <td>OBSERVED MULTIPLE SPRAY BOTTLES OF CHEMICALS THROUGHOUT FACILITY WITHOUT PROPER LABELS IN COOK LINE NEAR MOP SINK AND AT ND FLOOR BAR MUST PROVIDE LABEL WITH COMMON NAME OF CHEMICAL ON ALL CHEMICAL CONTAINERS OPERATOR CORRECTED DURING INSPECTION SERIOUS VIOLATION     MUST STORE ALL MULTIUSE AND SINGLEUSE UTENSILS WITH HANDLE PRESENTED TO CONSUMER IE AT TOGO STATION DISHROOM    MUST REPLACE MISSING SODA GUN DRIP PANSDRAIN LINES AT SOUTH BAR AND ND FLOOR BAR OBSERVED THAT PATRONS MUST PASS THROUGH DISH ROOM TO GET TO ND FLOOR MENS RESTROOM MUST PROVIDE A PHYSICAL BARRIER TO SEPARATE DISH WASHING AREA FROM PATRON PASSAGEWAY    OBSERVED STANDING WATER ON FLOOR TO LEFT OF ST FLOOR MOP SINK INSTRUCTED TO ELIMINATE MUST STORE ALL PRODUCT AT LEAST  INCHES OFF THE FLOOR INCLUDING BEER CASES IN HALL NEAR WOMENS RESTROOM CUTTING BOARDS IN DISH ROOM CHEMICALS AT NORTH BAR  COMPARTMENT SINK AND CASES OF GLASSWARE AT BBQ PREP AREA    MUST REPAIR DAMAGED WALL AT DOOR FRAME AT KITCHEN EXIT NEAR ...</td>\n",
       "      <td>2</td>\n",
       "      <td>2</td>\n",
       "      <td>7.227539e-02</td>\n",
       "      <td>0.432295</td>\n",
       "      <td>0.495429</td>\n",
       "    </tr>\n",
       "    <tr>\n",
       "      <th>115</th>\n",
       "      <td>ALL STORAGE ROOMS MUST BE PROPERLY ORGANIZED WITH ALL ITEMS ELEVATED  INCHES OFF THE FLOORS ALL AREAS MUST BE ACCESSIBLE FOR CLEANING SERVICING BY PEST CONTROL AND INSPECTION    ICE SCOOPS MUST BE PROPERLY STORED IN COVERED CONTAINERS TO PREVENT CONTAMINATION</td>\n",
       "      <td>0</td>\n",
       "      <td>1</td>\n",
       "      <td>2.103451e-01</td>\n",
       "      <td>0.588122</td>\n",
       "      <td>0.201533</td>\n",
       "    </tr>\n",
       "  </tbody>\n",
       "</table>\n",
       "</div>"
      ],
      "text/plain": [
       "                                                                                                                                                                                                                                                                                                                                                                                                                                                                                                                                                                                                                                                                                                                                                                                                                                                                                                                                                                                                                                  Violations  \\\n",
       "12                                                                                                                                                                                                                                                                                                                                                                                                              NO VALID CITY OF CHICAGO FOOD SERVICE MANAGER CERTIFICATE POSTED AND NO VALID PROOF OF ENROLLMENT AVAILABLE AT THIS TIME  SERIOUS CITATION ISSUED     MUST SEAL SMALL OPENING ALONG THE BOTTOM OF THE REAR EXIT DOOR IN THE SOUTH CLASSROOM    MUST DETAIL CLEAN THE LOWER SECTIONS OF THE STUDENT STORAGE CUBBIES IN THE MIDDLE CLASSROOM     MUST REPAIR THE BROKEN COLD WATER FAUCET AT THE WASHBOWL IN THE MIDDLE CLASSROOM  MUST REPAIR VENTILATION ABOVE STOVE IN KITCHEN     MUST REMOVE CLUTTER FROM THE HALLWAY STORAGE CLOSET AND THE NORTH CLASSROOM TEACHERS CLOSET  MUST STORE ALL ITEMS  INCHES OFF THE FLOOR    \n",
       "22     THE FOLLOWING PREVIOUS MINOR VIOLATIONS NOTED ON REPORT  STILL NOT CORRECTED  CLEAN THE FOLLOWING INTERIOR CABINETS OF DEEP FRYERS  OVEN EXPOSED WASHBOWL IN EMPLOYEE WASHROOM INTERIORS  EXTERIORS OF COOLERS  FREEZERS EXTERIORS OF ALL COOKING EQUIPMENT PREP TABLES STORAGE SHELVES HOOD  FILTERS AND ALL OTHER UNCLEAN SURFACES THROUGHOUT  REPLACE OR REPAIR ALL BROKEN FLOOR TILES THROUGHOUT DETAIL CLEAN FLOOR THROUGHOUT KITCHEN ALONG ALL WALL BASES AND IN CORNERS  CLEAN AND PAINT WALLS IN KITCHEN AND IN REAR STORAGE AREA REPLACE ALL CEILING TILES THAT ARE NO LONGER CLEANABLE CITATION ISSUED SERIOUS FOR NON COMPLIANCE WITH EXISTING VIOLATION    MUST REFRAIN FROM USING PLASTIC GROCERY BAGS TO STORE UNWRAPPED FOODS IN COOLERS  FREEZERS AND FROM USING BOXES TO DRAIN EXCESS OIL FROM COOKED FOODS PRIOR TO SERVING TO CUSTOMERS    CLEAN AND PAINT WALLS IN BOTH WASHROOMS IN DINING AREA CLEAN ALL DUSTY CEILING VENTS THROUGHOUT    REPLACE MISSING LIGHT IN REACHIN COOLER BY RICE COOKER IN FOOD PR...   \n",
       "26     OBSERVED THE FOLLOWING FOODS STORED AT IMPROPER TEMPERATURE IN PREP COOLER SEAFOOD SALAD F CRABMEAT F COOKED FISH F CREAM CHEESE F INSTRUCTED MANAGER TO DISCARD APPROXIMATELY LBS AND  OF FOOD ALL COLD TCS FOOD MUST MAINTAIN F OR BELOW DURING STORAGE PREPARATION DISPLAY AND SERVICE PRIORITY CITATION ISSUED     OBSERVED REFRIGERATED READY TO EAT SLICED CANTALOUPE SEAFOOD SALAD ETC NOT DATED IN WALKIN COOLER ALL REFRIGERATED READY TO EAT TCS FOOD HELD MORE THAN  HOURS SHALL BE CLEARLY MARKED WITH DATE BY WHICH FOOD IS TO BE SOLD CONSUMED OR DISCARDED WITH A MAXIMUM OF  DAYS PRIORITY FOUNDATION CITATION ISSUED     OBSERVED PREP COOLER NOT MAINTAINING PROPER TEMPERATURE F INSTRUCTED MANAGER TO REPAIR AND MAINTAIN COOLER AT F OR BELOW PREP COOLER IS TAGGED HELD FOR INSPECTION AND MUST NOT BE USED UNTIL REINSPECTED BY CHICAGO DEPARTMENT OF HEALTH PRIORITY CITATION ISSUED     OBSERVED SOME BULK CONTAINERS NOT LABELED IN STORAGE AREA INSTRUCTED MANAGER TO LABEL ALL BULK CONTAINERS WITH CO...   \n",
       "46                                                                                                                                                                                                                                                                  NOTED EMPLOYEES PREPPING SANDWICHES MOVING FROM PREP TABLE TO REFRIGERATION UNIT AT THE REAR AND TO THE CASH REGISTRY WHILE CHANGING GLOVES DID NOT OBSERVE EMPLOYEES WASHING HANDS IN BETWEEN INSTRUCTED TO ALWAYS WASH HANDS WHEN CHANGING GLOVES     CITATION ISSUED FOR CRITICAL VIOLATION A    NOTED ICE ACCUMULATING ON TOP OF BOXES INSIDE WALK IN FREEZER FROM THE CONDENSING UNIT INSTRUCTED TO CLEAN AND MAINTAIN THE CONDENSATION UNITALSO NOTED PIPE UNDERNEATH THE ONE SINK DETACHED INTRUCTED TO INSTALL    INSTRUCTED TO CLEAN INSIDE OF LOWER ICE MACHINE WITH SLIGHT DISCOLORATIONCLEAN AROUND EXPOSED HAND WASH SINK AT THE FRONT WITH MOLD AROUND SILICONE LINING    INSTRUCTED TO CLEAN FLOOR DRAINS AT THE REAR UNDERNEATH  AND  COMPARTMENT SINKS    \n",
       "57     OBSERVED POOR HYGIENIC PRACTICES BY FOOD HANDLERSOBSERVED MALE FOOD HANDLER WALKING AROUND IN LOBBY AND THEN CAME INTO PREP AREA AND STARTED COOKING AND A FEMALE FOOD HANDLER WAS TOUCHING AND HANDLING ARTICLES PAPERSFOOD CONTAINERSUTENSILS AND THEN STARTED COOKING NEITHER ONE OF THEM WASHED HANDS BEFORE COOKING FOODMUST WASH HANDS AFTER EVERY POSSIBLE CONTAMINATIONCRITICAL A    OBSERVED NO CERTIFIED FOOD MANGER ON DUTY AT THIS TIME OF INSPECTION WHILE CHICKENEGG ROLLSRICEGRAVYETC IS BEING PREPAREDHANDLED AND SERVED AT THIS TIMESERIOUS     MUST LABEL AND DATE COOKED FOODS IN COOLERS     MUST REMOVE RUST FROM SHELVING UNITS IN WALK IN COOLER    MUST CLEAN FOOD DEBRI FROM FRYERSFAUCETS AT WOKWOK STATIONALL SHELVING UNITSROLLING CARTSEXTERIOR OF FOOD CONTAINERS    MUST CLEAN GREASE AND FOOD DEBRI FROM FLOOR UNDERAROUNDALONG WALL BASES THROUGHOUTMUST REPAIR OR REPLACE DAMAGED FLOOR TILES IN LOBBY    MUST REPAIR OR REPLACE STAINED CEILING TILESHOLE IN WALL OUTSIDE OF TOILET ROOMLOOSE W...   \n",
       "86                                                                                                                                                                                                                                                                                                                                                                                                                                         LEOBARDO CARDENAS HAS NO CURRENT SANITATION CERTIFICATE POSTED OR AVAILABLE AT THIS TIME OF INSPECTION ONLY HAS A REGISTRATION FORM  ONLY NO RECEIPT CITATION ISSUED     LABEL BULK FOOD CONTAINERS IN STORAGE ROOM IN BASEMENT AREA    MUST REPLACE CUTTING BOARDS IN THE PREP AREA HAS OPEN SEAMS AND REMOVE RUST FROM GREASE TRAP AT  COMPARTMENT SINK    CLEAN SHELVES INSIDE  DOOR REACHIN COOLER IN REAR PREP AREA AND CLEAN FTLTERS ABOVE STOVE IN REAR PREP AREA ALSO CLEAN FANS INSIDE WALKIN COOLER IN BASEMENT AREA    THERMOMETER NEEDED AT PRODUCE REACHIN COOLER IN REAR PREP AREA    \n",
       "90     FOUND A NONWORKING GLASSWARE MACHINE AT THE BAR AREA NOT IN USE AND NOT PROPERLY SANITIZING AT PPM CHLORINEMACHINE WAS TAGGED AT THIS TIME DO NOT USE MACHINE UNTIL REPAIRED AND CDPH INSPECTS UNITCRITICAL VIOLATION NO CITATION ISSUED    FOUND THE BOTTOM PORTION OF ALL BOOTHS IN THE SMALL REAR PARTY ROOM AREA TORN AND NOT WELL MAINTAINED MUST REPAIRREPLACE THE BOTTOM PORTION OF ALL THE BOOTH LOCATED BEHIND THE GRAY CURTAIN IN THE SMALL PARTY ROOM AREA SO AS TO HAVE SURFACES SMOOTH AND EASILY CLEANABLE AT ALL TIMES FOUND AN ICE BIN HOLDER AT THE BAR WITHOUT A COVER MUST PROVIDE ICE BIN COVERS FOR ALL ICE BIN HOLDERS AT THE FRONT BAR AT ALL TIMES    FOUND BROKEN AND MISSING FLOOR TILES IN FRONT OF THE REAR KITCHEN EXIT DOORMUST REPAIRREPLACE AND MAINTAIN SO AS TO BE SMOOTH AND EASILY CLEANABLE  FOUND FOUL SMELL IN THE MENS ST FLOOR RESTROOM AND THE BASEMENT UNISEX RESTROOM MUST CLEAN FLOOR DRAIN AND REMOVE FOUL SMELL AT BOTH RESTROOMS    FOUND PEELING PAINT ABOVE THE MAIN COOKING PRE...   \n",
       "91                                                                                                                                                                                                                                                                                                                                                                                                                                                                                                                                                                                                                                                                                                                                 Found potentially hazardous foods sliced tomatoes steak chicken etc without proper labels Must label all prepped potentially hazardous foods with name and date Must maintain same Found bulk food items potatoes without proper label Must label all bulk food containers with name Must maintain same     \n",
       "114    OBSERVED MULTIPLE SPRAY BOTTLES OF CHEMICALS THROUGHOUT FACILITY WITHOUT PROPER LABELS IN COOK LINE NEAR MOP SINK AND AT ND FLOOR BAR MUST PROVIDE LABEL WITH COMMON NAME OF CHEMICAL ON ALL CHEMICAL CONTAINERS OPERATOR CORRECTED DURING INSPECTION SERIOUS VIOLATION     MUST STORE ALL MULTIUSE AND SINGLEUSE UTENSILS WITH HANDLE PRESENTED TO CONSUMER IE AT TOGO STATION DISHROOM    MUST REPLACE MISSING SODA GUN DRIP PANSDRAIN LINES AT SOUTH BAR AND ND FLOOR BAR OBSERVED THAT PATRONS MUST PASS THROUGH DISH ROOM TO GET TO ND FLOOR MENS RESTROOM MUST PROVIDE A PHYSICAL BARRIER TO SEPARATE DISH WASHING AREA FROM PATRON PASSAGEWAY    OBSERVED STANDING WATER ON FLOOR TO LEFT OF ST FLOOR MOP SINK INSTRUCTED TO ELIMINATE MUST STORE ALL PRODUCT AT LEAST  INCHES OFF THE FLOOR INCLUDING BEER CASES IN HALL NEAR WOMENS RESTROOM CUTTING BOARDS IN DISH ROOM CHEMICALS AT NORTH BAR  COMPARTMENT SINK AND CASES OF GLASSWARE AT BBQ PREP AREA    MUST REPAIR DAMAGED WALL AT DOOR FRAME AT KITCHEN EXIT NEAR ...   \n",
       "115                                                                                                                                                                                                                                                                                                                                                                                                                                                                                                                                                                                                                                                                                                                                                                     ALL STORAGE ROOMS MUST BE PROPERLY ORGANIZED WITH ALL ITEMS ELEVATED  INCHES OFF THE FLOORS ALL AREAS MUST BE ACCESSIBLE FOR CLEANING SERVICING BY PEST CONTROL AND INSPECTION    ICE SCOOPS MUST BE PROPERLY STORED IN COVERED CONTAINERS TO PREVENT CONTAMINATION    \n",
       "\n",
       "     Results_Flag  predicted        0-prob    1-prob    2-prob  \n",
       "12              1          1  3.159360e-02  0.535263  0.433144  \n",
       "22              1          1  1.269582e-01  0.503785  0.369257  \n",
       "26              2          1  4.958360e-14  0.576090  0.423910  \n",
       "46              2          1  2.583357e-04  0.502556  0.497185  \n",
       "57              2          0  3.864483e-01  0.250663  0.362889  \n",
       "86              2          2  3.309864e-02  0.460274  0.506627  \n",
       "90              2          2  1.526504e-01  0.347723  0.499627  \n",
       "91              0          2  4.016666e-01  0.104585  0.493748  \n",
       "114             2          2  7.227539e-02  0.432295  0.495429  \n",
       "115             0          1  2.103451e-01  0.588122  0.201533  "
      ]
     },
     "execution_count": 61,
     "metadata": {},
     "output_type": "execute_result"
    }
   ],
   "source": [
    "results_review_df.head(10)"
   ]
  },
  {
   "cell_type": "markdown",
   "metadata": {},
   "source": [
    "# Summary\n",
    "I decided to perform a multi-class classification analysis.  I narrowed my dataset to pass, fail, or pass w/ conditions due to the sufficiency of data. It appears the logistic regression had the best performance of the three models I demonstrated above. The original logisitc regression actually performed better than the one I attempted to optimize. It had a test accuracy of 92%.  The model showed slight signs of overfitting as train accuracy was 96%. Precision and recall for test were 92% for each. Precision was 96% for class 0 (pass), 87% for class 1 (fail) and 86% for class 2 (pass w/ conditions). Furthermore we know f-1 scores are the weighted averaged of precision and recall. F1 scores of 98%, 86%, and 85%, for the same classes listed previously. The model clearly is able to accuractely identify pass recommendations but struggles a little more with fail and pass with conditions, which makes sense intuitively. the F1 scores show slightly more signs of overfitting so I would attempt to adjust that in my parameter tuning. This is out of scope for this analysis, but perhaps I would do some sort of grid search or random search to approximate better parameter values.\n",
    "* **Pre-processing** For text pre-processing, I decided that we needed to remove stopwords for this analysis. They are noise and do not contribute to the signal of the prediction. I also removed all the digits as again I believe they were more of a distraction. Also, within CountVectorizer, I included parameters to lowercase all words an\n",
    "* **Train/Test Split** I noticed a considerable class imbalance in the dataset between the three values. I made sure to stratify my sampling in train test split to ensure the train samples and test samples resembled the population of the dataset. Another thing I considered doing but did not as it was out of scope for this analysis was training my model on an equal split data using an under-sampling or oversampling approach. This would give the model a fair chance to fully train each class equally as opposed to seeing more data of the dominate class.\n"
   ]
  },
  {
   "cell_type": "markdown",
   "metadata": {},
   "source": [
    "<a id='end'> </a>"
   ]
  },
  {
   "cell_type": "code",
   "execution_count": null,
   "metadata": {},
   "outputs": [],
   "source": []
  },
  {
   "cell_type": "code",
   "execution_count": null,
   "metadata": {},
   "outputs": [],
   "source": []
  },
  {
   "cell_type": "code",
   "execution_count": null,
   "metadata": {},
   "outputs": [],
   "source": []
  },
  {
   "cell_type": "markdown",
   "metadata": {},
   "source": [
    "# Scratch"
   ]
  },
  {
   "cell_type": "code",
   "execution_count": 58,
   "metadata": {},
   "outputs": [
    {
     "data": {
      "text/html": [
       "<div>\n",
       "<style scoped>\n",
       "    .dataframe tbody tr th:only-of-type {\n",
       "        vertical-align: middle;\n",
       "    }\n",
       "\n",
       "    .dataframe tbody tr th {\n",
       "        vertical-align: top;\n",
       "    }\n",
       "\n",
       "    .dataframe thead th {\n",
       "        text-align: right;\n",
       "    }\n",
       "</style>\n",
       "<table border=\"1\" class=\"dataframe\">\n",
       "  <thead>\n",
       "    <tr style=\"text-align: right;\">\n",
       "      <th></th>\n",
       "      <th>Inspection ID</th>\n",
       "      <th>DBA Name</th>\n",
       "      <th>AKA Name</th>\n",
       "      <th>License #</th>\n",
       "      <th>Facility Type</th>\n",
       "      <th>Risk</th>\n",
       "      <th>Address</th>\n",
       "      <th>City</th>\n",
       "      <th>State</th>\n",
       "      <th>Zip</th>\n",
       "      <th>Inspection Date</th>\n",
       "      <th>Inspection Type</th>\n",
       "      <th>Results</th>\n",
       "      <th>Violations</th>\n",
       "      <th>Latitude</th>\n",
       "      <th>Longitude</th>\n",
       "      <th>Location</th>\n",
       "    </tr>\n",
       "  </thead>\n",
       "  <tbody>\n",
       "    <tr>\n",
       "      <th>35711</th>\n",
       "      <td>2313093</td>\n",
       "      <td>The Indian Garden Restaurant</td>\n",
       "      <td>The Indian Garden Restaurant</td>\n",
       "      <td>1646652.0</td>\n",
       "      <td>Restaurant</td>\n",
       "      <td>Risk 1 (High)</td>\n",
       "      <td>247 E ONTARIO ST</td>\n",
       "      <td>CHICAGO</td>\n",
       "      <td>IL</td>\n",
       "      <td>60611.0</td>\n",
       "      <td>09/30/2019</td>\n",
       "      <td>Canvass</td>\n",
       "      <td>Fail</td>\n",
       "      <td>38. INSECTS, RODENTS, &amp; ANIMALS NOT PRESENT - Comments: FOUND 5 LIVE COCKROACHES BEHIND FOOD STORAGE SHELVES AND MOP CLOSET, INSTRUCTED TO ELIMINATE INSECTS ACTIVITY IN ALL AFFECTED AREAS, PEST CONTROL SERVICE RECOMMENDED. PRIORITY FOUNDATION VIOLATION 7-38-020(A) | 43. IN-USE UTENSILS: PROPERLY STORED - Comments: KNIVES WEDGED BETWEEN 3-COMP SINK AND TABLE, INSTRUCTED TO KEEP IN A CLEAN SURFACE. | 55. PHYSICAL FACILITIES INSTALLED, MAINTAINED &amp; CLEAN - Comments: CRACKS AND CREVICES NOTED THROUGH OUT KITCHEN AND DRY STORAGE ROOM. INSTRUCTED TO SEAL.</td>\n",
       "      <td>41.893272</td>\n",
       "      <td>-87.621469</td>\n",
       "      <td>(-87.62146879561675, 41.8932723034826)</td>\n",
       "    </tr>\n",
       "  </tbody>\n",
       "</table>\n",
       "</div>"
      ],
      "text/plain": [
       "       Inspection ID                      DBA Name  \\\n",
       "35711        2313093  The Indian Garden Restaurant   \n",
       "\n",
       "                           AKA Name  License # Facility Type           Risk  \\\n",
       "35711  The Indian Garden Restaurant  1646652.0    Restaurant  Risk 1 (High)   \n",
       "\n",
       "                 Address     City State      Zip Inspection Date  \\\n",
       "35711  247 E ONTARIO ST   CHICAGO    IL  60611.0      09/30/2019   \n",
       "\n",
       "      Inspection Type Results  \\\n",
       "35711         Canvass    Fail   \n",
       "\n",
       "                                                                                                                                                                                                                                                                                                                                                                                                                                                                                                                                                                        Violations  \\\n",
       "35711  38. INSECTS, RODENTS, & ANIMALS NOT PRESENT - Comments: FOUND 5 LIVE COCKROACHES BEHIND FOOD STORAGE SHELVES AND MOP CLOSET, INSTRUCTED TO ELIMINATE INSECTS ACTIVITY IN ALL AFFECTED AREAS, PEST CONTROL SERVICE RECOMMENDED. PRIORITY FOUNDATION VIOLATION 7-38-020(A) | 43. IN-USE UTENSILS: PROPERLY STORED - Comments: KNIVES WEDGED BETWEEN 3-COMP SINK AND TABLE, INSTRUCTED TO KEEP IN A CLEAN SURFACE. | 55. PHYSICAL FACILITIES INSTALLED, MAINTAINED & CLEAN - Comments: CRACKS AND CREVICES NOTED THROUGH OUT KITCHEN AND DRY STORAGE ROOM. INSTRUCTED TO SEAL.   \n",
       "\n",
       "        Latitude  Longitude                                Location  \n",
       "35711  41.893272 -87.621469  (-87.62146879561675, 41.8932723034826)  "
      ]
     },
     "execution_count": 58,
     "metadata": {},
     "output_type": "execute_result"
    }
   ],
   "source": [
    "df_clean[df_clean['Inspection ID']==2313093]"
   ]
  },
  {
   "cell_type": "code",
   "execution_count": null,
   "metadata": {},
   "outputs": [],
   "source": []
  }
 ],
 "metadata": {
  "kernelspec": {
   "display_name": "Python 3",
   "language": "python",
   "name": "python3"
  },
  "language_info": {
   "codemirror_mode": {
    "name": "ipython",
    "version": 3
   },
   "file_extension": ".py",
   "mimetype": "text/x-python",
   "name": "python",
   "nbconvert_exporter": "python",
   "pygments_lexer": "ipython3",
   "version": "3.7.4"
  }
 },
 "nbformat": 4,
 "nbformat_minor": 4
}
