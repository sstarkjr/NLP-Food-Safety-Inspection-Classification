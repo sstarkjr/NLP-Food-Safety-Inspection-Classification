{
 "cells": [
  {
   "cell_type": "markdown",
   "metadata": {},
   "source": [
    "# Resturant Food Safety Inspection Prediction Using Natual Language Processing"
   ]
  },
  {
   "cell_type": "markdown",
   "metadata": {},
   "source": [
    "## Summary\n",
    "1. [Objective](#objective)\n",
    "2. [Understanding the Data](#data)\\\n",
    "    2.1 [Observations](#observations)\\\n",
    "    2.2 [Feature Engineering](#engineering)\n",
    "4. [Model Building](#model)\n",
    "5. [Interpretation of Results](#interpretation)\n",
    "6. [References](#references)\n",
    "\n"
   ]
  },
  {
   "cell_type": "markdown",
   "metadata": {},
   "source": [
    "# 1. Objective\n",
    "<a id='objective'></a>"
   ]
  },
  {
   "cell_type": "markdown",
   "metadata": {},
   "source": [
    "The goal of this notebook is to build a multinomial classification model to predict the outcome of the food safety inspection reports based on the inspectors' comments. I will use from statistical analysis and natural language processing to accomplish this. I will also present the results of the classification model and suggest ways that it could be improved through further analysis.\n",
    "\n",
    "Data provided by the City of Chicago via https://data.cityofchicago.org/ https://data.cityofchicago.org/Health-Human-Services/Food-Inspections/4ijn-s7e5 as of early 2020"
   ]
  },
  {
   "cell_type": "code",
   "execution_count": 134,
   "metadata": {},
   "outputs": [],
   "source": [
    "import sklearn\n",
    "\n",
    "import pandas as pd\n",
    "import numpy as np\n",
    "from matplotlib import pyplot as plt\n",
    "import re\n",
    "import itertools\n",
    "import os\n",
    "\n",
    "\n",
    "from sklearn.model_selection import train_test_split\n",
    "from sklearn.feature_extraction.text import CountVectorizer, HashingVectorizer, TfidfTransformer, TfidfVectorizer\n",
    "from sklearn.naive_bayes import MultinomialNB\n",
    "from sklearn.metrics import classification_report, confusion_matrix, accuracy_score\n",
    "from sklearn.linear_model import LogisticRegression, SGDClassifier\n",
    "from sklearn import metrics\n",
    "\n",
    "import nltk as nltk\n",
    "import nltk.corpus  \n",
    "from nltk.text import Text\n",
    "\n",
    "import sys\n",
    "\n",
    "pd.options.display.max_rows = 999\n",
    "pd.options.display.max_colwidth = 999\n",
    "pd.options.mode.chained_assignment = None  # default='warn'\n"
   ]
  },
  {
   "cell_type": "markdown",
   "metadata": {},
   "source": [
    "# 2. Understanding the Data\n",
    "<a id='data'> </a>"
   ]
  },
  {
   "cell_type": "code",
   "execution_count": 135,
   "metadata": {},
   "outputs": [
    {
     "data": {
      "text/html": [
       "<div>\n",
       "<style scoped>\n",
       "    .dataframe tbody tr th:only-of-type {\n",
       "        vertical-align: middle;\n",
       "    }\n",
       "\n",
       "    .dataframe tbody tr th {\n",
       "        vertical-align: top;\n",
       "    }\n",
       "\n",
       "    .dataframe thead th {\n",
       "        text-align: right;\n",
       "    }\n",
       "</style>\n",
       "<table border=\"1\" class=\"dataframe\">\n",
       "  <thead>\n",
       "    <tr style=\"text-align: right;\">\n",
       "      <th></th>\n",
       "      <th>Inspection ID</th>\n",
       "      <th>DBA Name</th>\n",
       "      <th>AKA Name</th>\n",
       "      <th>License #</th>\n",
       "      <th>Facility Type</th>\n",
       "      <th>Risk</th>\n",
       "      <th>Address</th>\n",
       "      <th>City</th>\n",
       "      <th>State</th>\n",
       "      <th>Zip</th>\n",
       "      <th>Inspection Date</th>\n",
       "      <th>Inspection Type</th>\n",
       "      <th>Results</th>\n",
       "      <th>Violations</th>\n",
       "      <th>Latitude</th>\n",
       "      <th>Longitude</th>\n",
       "      <th>Location</th>\n",
       "    </tr>\n",
       "  </thead>\n",
       "  <tbody>\n",
       "    <tr>\n",
       "      <th>0</th>\n",
       "      <td>2369955</td>\n",
       "      <td>HUMBOLDT HAUS DELI &amp; LIQUOR</td>\n",
       "      <td>HUMBOLDT HAUS DELI &amp; LIQUOR</td>\n",
       "      <td>2192995.0</td>\n",
       "      <td>Liquor</td>\n",
       "      <td>Risk 1 (High)</td>\n",
       "      <td>2956-2958 W NORTH AVE</td>\n",
       "      <td>CHICAGO</td>\n",
       "      <td>IL</td>\n",
       "      <td>60647.0</td>\n",
       "      <td>04/30/2020</td>\n",
       "      <td>Canvass Re-Inspection</td>\n",
       "      <td>Pass</td>\n",
       "      <td>53. TOILET FACILITIES: PROPERLY CONSTRUCTED, SUPPLIED, &amp; CLEANED - Comments: 5-501.17  OBSERVED NO COVERED WASTE RECEPTACLE INSIDE OF THE WOMEN'S WASHROOM. MUST PROVIDE.</td>\n",
       "      <td>41.910286</td>\n",
       "      <td>-87.701373</td>\n",
       "      <td>(-87.70137268454522, 41.91028581429125)</td>\n",
       "    </tr>\n",
       "    <tr>\n",
       "      <th>1</th>\n",
       "      <td>2369959</td>\n",
       "      <td>SUPER JALAPENO GRILL INC.</td>\n",
       "      <td>JALAPENO GRILL</td>\n",
       "      <td>2252227.0</td>\n",
       "      <td>Restaurant</td>\n",
       "      <td>Risk 1 (High)</td>\n",
       "      <td>2910 W ARMITAGE AVE</td>\n",
       "      <td>CHICAGO</td>\n",
       "      <td>IL</td>\n",
       "      <td>60647.0</td>\n",
       "      <td>04/30/2020</td>\n",
       "      <td>Canvass Re-Inspection</td>\n",
       "      <td>Pass</td>\n",
       "      <td>NaN</td>\n",
       "      <td>41.917572</td>\n",
       "      <td>-87.699859</td>\n",
       "      <td>(-87.69985903100972, 41.917572160779464)</td>\n",
       "    </tr>\n",
       "    <tr>\n",
       "      <th>2</th>\n",
       "      <td>2369952</td>\n",
       "      <td>CUPBOARD FOOD &amp; LIQUOR</td>\n",
       "      <td>CUPBOARD FOOD &amp; LIQUOR</td>\n",
       "      <td>7110.0</td>\n",
       "      <td>Grocery Store</td>\n",
       "      <td>Risk 3 (Low)</td>\n",
       "      <td>3260 W 55TH ST</td>\n",
       "      <td>CHICAGO</td>\n",
       "      <td>IL</td>\n",
       "      <td>60632.0</td>\n",
       "      <td>04/30/2020</td>\n",
       "      <td>Canvass</td>\n",
       "      <td>Pass w/ Conditions</td>\n",
       "      <td>5. PROCEDURES FOR RESPONDING TO VOMITING AND DIARRHEAL EVENTS - Comments: NO PROCEDURE IN PLACE FOR RESPONDING TO VOMITING AND DIARRHEAL EVENTS. INSTD TO PROVIDE PROCEDURE AND NECESSARY SUPPLIES EFFECTIVE AGAINST NOROVIRUS. PRIORITY FOUNDATION 7-38-005 | 36. THERMOMETERS PROVIDED &amp; ACCURATE - Comments: MISSING FOOD TEMPERATURE MEASURING DEVICE. INSTD TO PROVIDE AND MAINTAIN SAME. PRIORITY FOUNDATION 7-38-005. | 51. PLUMBING INSTALLED; PROPER BACKFLOW DEVICES - Comments: MISSING TOILET TANK COVER. INSTD TO REPLACE AND MAINTAIN. TOILET HANDLE LOOSE. INSTD TO REPAIR AND MAINTAIN.</td>\n",
       "      <td>41.793589</td>\n",
       "      <td>-87.705946</td>\n",
       "      <td>(-87.70594578345793, 41.79358917945885)</td>\n",
       "    </tr>\n",
       "    <tr>\n",
       "      <th>3</th>\n",
       "      <td>2369943</td>\n",
       "      <td>Los Jazmines</td>\n",
       "      <td>LOS JAZMINES</td>\n",
       "      <td>2009462.0</td>\n",
       "      <td>Grocery Store</td>\n",
       "      <td>Risk 2 (Medium)</td>\n",
       "      <td>1100 W 18th ST</td>\n",
       "      <td>CHICAGO</td>\n",
       "      <td>IL</td>\n",
       "      <td>60608.0</td>\n",
       "      <td>04/30/2020</td>\n",
       "      <td>Canvass Re-Inspection</td>\n",
       "      <td>Pass</td>\n",
       "      <td>NaN</td>\n",
       "      <td>41.858106</td>\n",
       "      <td>-87.653463</td>\n",
       "      <td>(-87.6534630311116, 41.85810623692298)</td>\n",
       "    </tr>\n",
       "    <tr>\n",
       "      <th>4</th>\n",
       "      <td>2369936</td>\n",
       "      <td>THALIA HALL CHICAGO, LLC</td>\n",
       "      <td>THALIA HALL</td>\n",
       "      <td>2294344.0</td>\n",
       "      <td>Liquor</td>\n",
       "      <td>Risk 3 (Low)</td>\n",
       "      <td>1807 S ALLPORT ST</td>\n",
       "      <td>CHICAGO</td>\n",
       "      <td>IL</td>\n",
       "      <td>60608.0</td>\n",
       "      <td>04/30/2020</td>\n",
       "      <td>Canvass</td>\n",
       "      <td>Out of Business</td>\n",
       "      <td>NaN</td>\n",
       "      <td>41.857676</td>\n",
       "      <td>-87.657496</td>\n",
       "      <td>(-87.65749590342607, 41.85767620809241)</td>\n",
       "    </tr>\n",
       "  </tbody>\n",
       "</table>\n",
       "</div>"
      ],
      "text/plain": [
       "   Inspection ID                     DBA Name                     AKA Name  \\\n",
       "0        2369955  HUMBOLDT HAUS DELI & LIQUOR  HUMBOLDT HAUS DELI & LIQUOR   \n",
       "1        2369959    SUPER JALAPENO GRILL INC.               JALAPENO GRILL   \n",
       "2        2369952       CUPBOARD FOOD & LIQUOR       CUPBOARD FOOD & LIQUOR   \n",
       "3        2369943                 Los Jazmines                 LOS JAZMINES   \n",
       "4        2369936     THALIA HALL CHICAGO, LLC                  THALIA HALL   \n",
       "\n",
       "   License #  Facility Type             Risk                 Address     City  \\\n",
       "0  2192995.0         Liquor    Risk 1 (High)  2956-2958 W NORTH AVE   CHICAGO   \n",
       "1  2252227.0     Restaurant    Risk 1 (High)    2910 W ARMITAGE AVE   CHICAGO   \n",
       "2     7110.0  Grocery Store     Risk 3 (Low)         3260 W 55TH ST   CHICAGO   \n",
       "3  2009462.0  Grocery Store  Risk 2 (Medium)         1100 W 18th ST   CHICAGO   \n",
       "4  2294344.0         Liquor     Risk 3 (Low)      1807 S ALLPORT ST   CHICAGO   \n",
       "\n",
       "  State      Zip Inspection Date        Inspection Type             Results  \\\n",
       "0    IL  60647.0      04/30/2020  Canvass Re-Inspection                Pass   \n",
       "1    IL  60647.0      04/30/2020  Canvass Re-Inspection                Pass   \n",
       "2    IL  60632.0      04/30/2020                Canvass  Pass w/ Conditions   \n",
       "3    IL  60608.0      04/30/2020  Canvass Re-Inspection                Pass   \n",
       "4    IL  60608.0      04/30/2020                Canvass     Out of Business   \n",
       "\n",
       "                                                                                                                                                                                                                                                                                                                                                                                                                                                                                                                                                                                                Violations  \\\n",
       "0                                                                                                                                                                                                                                                                                                                                                                                                                                53. TOILET FACILITIES: PROPERLY CONSTRUCTED, SUPPLIED, & CLEANED - Comments: 5-501.17  OBSERVED NO COVERED WASTE RECEPTACLE INSIDE OF THE WOMEN'S WASHROOM. MUST PROVIDE.   \n",
       "1                                                                                                                                                                                                                                                                                                                                                                                                                                                                                                                                                                                                      NaN   \n",
       "2  5. PROCEDURES FOR RESPONDING TO VOMITING AND DIARRHEAL EVENTS - Comments: NO PROCEDURE IN PLACE FOR RESPONDING TO VOMITING AND DIARRHEAL EVENTS. INSTD TO PROVIDE PROCEDURE AND NECESSARY SUPPLIES EFFECTIVE AGAINST NOROVIRUS. PRIORITY FOUNDATION 7-38-005 | 36. THERMOMETERS PROVIDED & ACCURATE - Comments: MISSING FOOD TEMPERATURE MEASURING DEVICE. INSTD TO PROVIDE AND MAINTAIN SAME. PRIORITY FOUNDATION 7-38-005. | 51. PLUMBING INSTALLED; PROPER BACKFLOW DEVICES - Comments: MISSING TOILET TANK COVER. INSTD TO REPLACE AND MAINTAIN. TOILET HANDLE LOOSE. INSTD TO REPAIR AND MAINTAIN.   \n",
       "3                                                                                                                                                                                                                                                                                                                                                                                                                                                                                                                                                                                                      NaN   \n",
       "4                                                                                                                                                                                                                                                                                                                                                                                                                                                                                                                                                                                                      NaN   \n",
       "\n",
       "    Latitude  Longitude                                  Location  \n",
       "0  41.910286 -87.701373   (-87.70137268454522, 41.91028581429125)  \n",
       "1  41.917572 -87.699859  (-87.69985903100972, 41.917572160779464)  \n",
       "2  41.793589 -87.705946   (-87.70594578345793, 41.79358917945885)  \n",
       "3  41.858106 -87.653463    (-87.6534630311116, 41.85810623692298)  \n",
       "4  41.857676 -87.657496   (-87.65749590342607, 41.85767620809241)  "
      ]
     },
     "execution_count": 135,
     "metadata": {},
     "output_type": "execute_result"
    }
   ],
   "source": [
    "#load the data\n",
    "df = pd.read_csv('../Food_Inspections.csv')\n",
    "df.head(5)"
   ]
  },
  {
   "cell_type": "code",
   "execution_count": 136,
   "metadata": {},
   "outputs": [
    {
     "data": {
      "text/plain": [
       "Inspection ID        int64\n",
       "DBA Name            object\n",
       "AKA Name            object\n",
       "License #          float64\n",
       "Facility Type       object\n",
       "Risk                object\n",
       "Address             object\n",
       "City                object\n",
       "State               object\n",
       "Zip                float64\n",
       "Inspection Date     object\n",
       "Inspection Type     object\n",
       "Results             object\n",
       "Violations          object\n",
       "Latitude           float64\n",
       "Longitude          float64\n",
       "Location            object\n",
       "dtype: object"
      ]
     },
     "execution_count": 136,
     "metadata": {},
     "output_type": "execute_result"
    }
   ],
   "source": [
    "df.dtypes"
   ]
  },
  {
   "cell_type": "code",
   "execution_count": 137,
   "metadata": {},
   "outputs": [],
   "source": [
    "df = df.astype({'Inspection ID': 'object', \n",
    "                'Zip': 'object'})"
   ]
  },
  {
   "cell_type": "code",
   "execution_count": 138,
   "metadata": {},
   "outputs": [
    {
     "data": {
      "text/html": [
       "<div>\n",
       "<style scoped>\n",
       "    .dataframe tbody tr th:only-of-type {\n",
       "        vertical-align: middle;\n",
       "    }\n",
       "\n",
       "    .dataframe tbody tr th {\n",
       "        vertical-align: top;\n",
       "    }\n",
       "\n",
       "    .dataframe thead th {\n",
       "        text-align: right;\n",
       "    }\n",
       "</style>\n",
       "<table border=\"1\" class=\"dataframe\">\n",
       "  <thead>\n",
       "    <tr style=\"text-align: right;\">\n",
       "      <th></th>\n",
       "      <th>Inspection ID</th>\n",
       "      <th>DBA Name</th>\n",
       "      <th>AKA Name</th>\n",
       "      <th>License #</th>\n",
       "      <th>Facility Type</th>\n",
       "      <th>Risk</th>\n",
       "      <th>Address</th>\n",
       "      <th>City</th>\n",
       "      <th>State</th>\n",
       "      <th>Zip</th>\n",
       "      <th>Inspection Date</th>\n",
       "      <th>Inspection Type</th>\n",
       "      <th>Results</th>\n",
       "      <th>Violations</th>\n",
       "      <th>Latitude</th>\n",
       "      <th>Longitude</th>\n",
       "      <th>Location</th>\n",
       "    </tr>\n",
       "  </thead>\n",
       "  <tbody>\n",
       "    <tr>\n",
       "      <th>48</th>\n",
       "      <td>2369355</td>\n",
       "      <td>DUNKIN DONUT</td>\n",
       "      <td>DUNKIN DONUT</td>\n",
       "      <td>28690.0</td>\n",
       "      <td>Restaurant</td>\n",
       "      <td>Risk 2 (Medium)</td>\n",
       "      <td>1127 W BRYN MAWR AVE</td>\n",
       "      <td>CHICAGO</td>\n",
       "      <td>IL</td>\n",
       "      <td>60660</td>\n",
       "      <td>04/17/2020</td>\n",
       "      <td>Canvass Re-Inspection</td>\n",
       "      <td>Pass</td>\n",
       "      <td>NaN</td>\n",
       "      <td>41.983529</td>\n",
       "      <td>-87.659155</td>\n",
       "      <td>(-87.65915456081615, 41.98352906115736)</td>\n",
       "    </tr>\n",
       "    <tr>\n",
       "      <th>131413</th>\n",
       "      <td>1424359</td>\n",
       "      <td>WENDY'S #000981</td>\n",
       "      <td>WENDY'S</td>\n",
       "      <td>6780.0</td>\n",
       "      <td>Restaurant</td>\n",
       "      <td>Risk 1 (High)</td>\n",
       "      <td>5456 N HARLEM AVE</td>\n",
       "      <td>CHICAGO</td>\n",
       "      <td>IL</td>\n",
       "      <td>60656</td>\n",
       "      <td>07/02/2014</td>\n",
       "      <td>Canvass</td>\n",
       "      <td>Pass w/ Conditions</td>\n",
       "      <td>2. FACILITIES TO MAINTAIN PROPER TEMPERATURE - Comments: SALAD REACH IN COOLER NOT MAINTAINED, AMBIENT AIR TEMEPRATURE AT 68.0 F, FOUND SALAD DRESSING AND SALAD WITH CHOPPED LEAFY GREENS INSIDE SAID COOLER. INSTRUCTED MANAGER TO REPAIR COOLER, AMBIENT AIR TEMPERATURE MUST BE 40 F OR BELOW. CRITICAL VIOLATION 7-38-005(A). | 3. POTENTIALLY HAZARDOUS FOOD MEETS TEMPERATURE REQUIREMENT DURING STORAGE, PREPARATION DISPLAY AND SERVICE - Comments: FOUND THE FOLLOWING POTENTIALLY HAZARDOUS FOODS HELD AT IMPROPER TEMPERATURES BETWEEN 45.5 F AND 54.8 F- SALAD DRESSING, OPEN MAYONNAISE AND CHOPPED SALAD WITH LEAFY GREENS. INSTRUCTED MANAGER ALL POTENTIALLY HAZARDOUS FOODS MUST BE HELD AT 40 F OR BELOW IF HELD COLD. CRITICAL VIOLATION 7-38-005(A).     ALL OUT OF TEMPERATURE POTENTIALLY HAZARDOUS FOODS VOLUNTARILLY DISCARDED AT THIS TIME. | 32. FOOD AND NON-FOOD CONTACT SURFACES PROPERLY DESIGNED, CONSTRUCTED AND MAINTAINED - Comments: OBSERVED ICE BUILD UP ON REAR OF CONDENSERS INSIDE WALK IN...</td>\n",
       "      <td>41.979892</td>\n",
       "      <td>-87.807127</td>\n",
       "      <td>(-87.80712701444871, 41.979892458487015)</td>\n",
       "    </tr>\n",
       "    <tr>\n",
       "      <th>113274</th>\n",
       "      <td>1532472</td>\n",
       "      <td>POLISH FOOD</td>\n",
       "      <td>POLISH FOOD</td>\n",
       "      <td>1694804.0</td>\n",
       "      <td>Restaurant</td>\n",
       "      <td>Risk 1 (High)</td>\n",
       "      <td>3104 N CENTRAL AVE</td>\n",
       "      <td>CHICAGO</td>\n",
       "      <td>IL</td>\n",
       "      <td>60634</td>\n",
       "      <td>03/31/2015</td>\n",
       "      <td>Canvass</td>\n",
       "      <td>Pass</td>\n",
       "      <td>40. REFRIGERATION AND METAL STEM THERMOMETERS PROVIDED AND CONSPICUOUS - Comments: INSTRUCTED TO PROVIDE THERMOMETER VISIBLE AND ACCURATE INSIDE COOLERS. | 41. PREMISES MAINTAINED FREE OF LITTER, UNNECESSARY ARTICLES, CLEANING  EQUIPMENT PROPERLY STORED - Comments: INSTRUCTED TO CLEAN AND REMOVE UNNECESSARY ARTICLES AND CLUTTER STORED ON TOP OF WALK-IN COOLER/WALK-IN FREEZER AND IN REAR OUTSIDE AREA TO PREVENT PEST HARBORAGE. | 45. FOOD HANDLER REQUIREMENTS MET - Comments: FOUND NO EMPLOYEE FOOD HANDLER TRAINING CERTIFICATES ON PREMISE. INSTRUCTED TO PROVIDE.</td>\n",
       "      <td>41.936954</td>\n",
       "      <td>-87.766589</td>\n",
       "      <td>(-87.76658858129136, 41.93695400157263)</td>\n",
       "    </tr>\n",
       "    <tr>\n",
       "      <th>16787</th>\n",
       "      <td>68106</td>\n",
       "      <td>THE FOUR SEASONS HOTEL CHICAGO</td>\n",
       "      <td>THE FOUR SEASONS HOTEL CHICAGO</td>\n",
       "      <td>1823680.0</td>\n",
       "      <td>Restaurant</td>\n",
       "      <td>Risk 1 (High)</td>\n",
       "      <td>120 E DELAWARE PL</td>\n",
       "      <td>CHICAGO</td>\n",
       "      <td>IL</td>\n",
       "      <td>60611</td>\n",
       "      <td>02/02/2010</td>\n",
       "      <td>Canvass</td>\n",
       "      <td>Pass</td>\n",
       "      <td>38. VENTILATION: ROOMS AND EQUIPMENT VENTED AS REQUIRED: PLUMBING: INSTALLED AND MAINTAINED - Comments: The flow of air discharged from kitchen fans shall always be through a duct to a point above the roofline. Ventilation: All plumbing fixtures, such as toilets, sinks, washbasins, etc., must be adequately trapped, vented, and re-vented and properly connected to the sewer in accordance with the plumbing chapter of the Municipal Code of Chicago and the Rules and Regulations of the Board of Health.    vENTILATION UNIT ABOVE COOKING EQUIPMENT IN NEED OF CLEANING TO REMOVE DUST/GREASE BUILD-UP. ANSEL SYSTEM IN NEED OF CLEANING AS WELL.</td>\n",
       "      <td>41.899304</td>\n",
       "      <td>-87.625236</td>\n",
       "      <td>(-87.62523649147974, 41.89930409644498)</td>\n",
       "    </tr>\n",
       "    <tr>\n",
       "      <th>98148</th>\n",
       "      <td>1771104</td>\n",
       "      <td>TREAT AMERICA FOOD SERVICES</td>\n",
       "      <td>TREAT AMERICA FOOD SERVICES</td>\n",
       "      <td>2299237.0</td>\n",
       "      <td>Restaurant</td>\n",
       "      <td>Risk 1 (High)</td>\n",
       "      <td>225 W RANDOLPH ST</td>\n",
       "      <td>CHICAGO</td>\n",
       "      <td>IL</td>\n",
       "      <td>60606</td>\n",
       "      <td>05/19/2016</td>\n",
       "      <td>Canvass</td>\n",
       "      <td>Out of Business</td>\n",
       "      <td>NaN</td>\n",
       "      <td>41.884356</td>\n",
       "      <td>-87.634637</td>\n",
       "      <td>(-87.6346365498915, 41.88435557962178)</td>\n",
       "    </tr>\n",
       "  </tbody>\n",
       "</table>\n",
       "</div>"
      ],
      "text/plain": [
       "       Inspection ID                        DBA Name  \\\n",
       "48           2369355                    DUNKIN DONUT   \n",
       "131413       1424359                 WENDY'S #000981   \n",
       "113274       1532472                     POLISH FOOD   \n",
       "16787          68106  THE FOUR SEASONS HOTEL CHICAGO   \n",
       "98148        1771104     TREAT AMERICA FOOD SERVICES   \n",
       "\n",
       "                              AKA Name  License # Facility Type  \\\n",
       "48                        DUNKIN DONUT    28690.0    Restaurant   \n",
       "131413                         WENDY'S     6780.0    Restaurant   \n",
       "113274                     POLISH FOOD  1694804.0    Restaurant   \n",
       "16787   THE FOUR SEASONS HOTEL CHICAGO  1823680.0    Restaurant   \n",
       "98148      TREAT AMERICA FOOD SERVICES  2299237.0    Restaurant   \n",
       "\n",
       "                   Risk                Address     City State    Zip  \\\n",
       "48      Risk 2 (Medium)  1127 W BRYN MAWR AVE   CHICAGO    IL  60660   \n",
       "131413    Risk 1 (High)     5456 N HARLEM AVE   CHICAGO    IL  60656   \n",
       "113274    Risk 1 (High)    3104 N CENTRAL AVE   CHICAGO    IL  60634   \n",
       "16787     Risk 1 (High)     120 E DELAWARE PL   CHICAGO    IL  60611   \n",
       "98148     Risk 1 (High)     225 W RANDOLPH ST   CHICAGO    IL  60606   \n",
       "\n",
       "       Inspection Date        Inspection Type             Results  \\\n",
       "48          04/17/2020  Canvass Re-Inspection                Pass   \n",
       "131413      07/02/2014                Canvass  Pass w/ Conditions   \n",
       "113274      03/31/2015                Canvass                Pass   \n",
       "16787       02/02/2010                Canvass                Pass   \n",
       "98148       05/19/2016                Canvass     Out of Business   \n",
       "\n",
       "                                                                                                                                                                                                                                                                                                                                                                                                                                                                                                                                                                                                                                                                                                                                                                                                                                                                                                                                                                                                                                    Violations  \\\n",
       "48                                                                                                                                                                                                                                                                                                                                                                                                                                                                                                                                                                                                                                                                                                                                                                                                                                                                                                                                                                                                                                         NaN   \n",
       "131413  2. FACILITIES TO MAINTAIN PROPER TEMPERATURE - Comments: SALAD REACH IN COOLER NOT MAINTAINED, AMBIENT AIR TEMEPRATURE AT 68.0 F, FOUND SALAD DRESSING AND SALAD WITH CHOPPED LEAFY GREENS INSIDE SAID COOLER. INSTRUCTED MANAGER TO REPAIR COOLER, AMBIENT AIR TEMPERATURE MUST BE 40 F OR BELOW. CRITICAL VIOLATION 7-38-005(A). | 3. POTENTIALLY HAZARDOUS FOOD MEETS TEMPERATURE REQUIREMENT DURING STORAGE, PREPARATION DISPLAY AND SERVICE - Comments: FOUND THE FOLLOWING POTENTIALLY HAZARDOUS FOODS HELD AT IMPROPER TEMPERATURES BETWEEN 45.5 F AND 54.8 F- SALAD DRESSING, OPEN MAYONNAISE AND CHOPPED SALAD WITH LEAFY GREENS. INSTRUCTED MANAGER ALL POTENTIALLY HAZARDOUS FOODS MUST BE HELD AT 40 F OR BELOW IF HELD COLD. CRITICAL VIOLATION 7-38-005(A).     ALL OUT OF TEMPERATURE POTENTIALLY HAZARDOUS FOODS VOLUNTARILLY DISCARDED AT THIS TIME. | 32. FOOD AND NON-FOOD CONTACT SURFACES PROPERLY DESIGNED, CONSTRUCTED AND MAINTAINED - Comments: OBSERVED ICE BUILD UP ON REAR OF CONDENSERS INSIDE WALK IN...   \n",
       "113274                                                                                                                                                                                                                                                                                                                                                                                                                                                   40. REFRIGERATION AND METAL STEM THERMOMETERS PROVIDED AND CONSPICUOUS - Comments: INSTRUCTED TO PROVIDE THERMOMETER VISIBLE AND ACCURATE INSIDE COOLERS. | 41. PREMISES MAINTAINED FREE OF LITTER, UNNECESSARY ARTICLES, CLEANING  EQUIPMENT PROPERLY STORED - Comments: INSTRUCTED TO CLEAN AND REMOVE UNNECESSARY ARTICLES AND CLUTTER STORED ON TOP OF WALK-IN COOLER/WALK-IN FREEZER AND IN REAR OUTSIDE AREA TO PREVENT PEST HARBORAGE. | 45. FOOD HANDLER REQUIREMENTS MET - Comments: FOUND NO EMPLOYEE FOOD HANDLER TRAINING CERTIFICATES ON PREMISE. INSTRUCTED TO PROVIDE.   \n",
       "16787                                                                                                                                                                                                                                                                                                                                                                          38. VENTILATION: ROOMS AND EQUIPMENT VENTED AS REQUIRED: PLUMBING: INSTALLED AND MAINTAINED - Comments: The flow of air discharged from kitchen fans shall always be through a duct to a point above the roofline. Ventilation: All plumbing fixtures, such as toilets, sinks, washbasins, etc., must be adequately trapped, vented, and re-vented and properly connected to the sewer in accordance with the plumbing chapter of the Municipal Code of Chicago and the Rules and Regulations of the Board of Health.    vENTILATION UNIT ABOVE COOKING EQUIPMENT IN NEED OF CLEANING TO REMOVE DUST/GREASE BUILD-UP. ANSEL SYSTEM IN NEED OF CLEANING AS WELL.   \n",
       "98148                                                                                                                                                                                                                                                                                                                                                                                                                                                                                                                                                                                                                                                                                                                                                                                                                                                                                                                                                                                                                                      NaN   \n",
       "\n",
       "         Latitude  Longitude                                  Location  \n",
       "48      41.983529 -87.659155   (-87.65915456081615, 41.98352906115736)  \n",
       "131413  41.979892 -87.807127  (-87.80712701444871, 41.979892458487015)  \n",
       "113274  41.936954 -87.766589   (-87.76658858129136, 41.93695400157263)  \n",
       "16787   41.899304 -87.625236   (-87.62523649147974, 41.89930409644498)  \n",
       "98148   41.884356 -87.634637    (-87.6346365498915, 41.88435557962178)  "
      ]
     },
     "execution_count": 138,
     "metadata": {},
     "output_type": "execute_result"
    }
   ],
   "source": [
    "df.sample(n=5, random_state=123)"
   ]
  },
  {
   "cell_type": "code",
   "execution_count": 139,
   "metadata": {},
   "outputs": [
    {
     "name": "stdout",
     "output_type": "stream",
     "text": [
      "<class 'pandas.core.frame.DataFrame'>\n",
      "RangeIndex: 205234 entries, 0 to 205233\n",
      "Data columns (total 17 columns):\n",
      "Inspection ID      205234 non-null object\n",
      "DBA Name           205234 non-null object\n",
      "AKA Name           202763 non-null object\n",
      "License #          205217 non-null float64\n",
      "Facility Type      200408 non-null object\n",
      "Risk               205164 non-null object\n",
      "Address            205234 non-null object\n",
      "City               205084 non-null object\n",
      "State              205190 non-null object\n",
      "Zip                205181 non-null object\n",
      "Inspection Date    205234 non-null object\n",
      "Inspection Type    205233 non-null object\n",
      "Results            205234 non-null object\n",
      "Violations         150738 non-null object\n",
      "Latitude           204546 non-null float64\n",
      "Longitude          204546 non-null float64\n",
      "Location           204546 non-null object\n",
      "dtypes: float64(3), object(14)\n",
      "memory usage: 26.6+ MB\n",
      "None\n",
      "          License #       Latitude      Longitude\n",
      "count  2.052170e+05  204546.000000  204546.000000\n",
      "mean   1.613745e+06      41.881000     -87.676431\n",
      "std    8.993239e+05       0.080950       0.058847\n",
      "min    0.000000e+00      41.644670     -87.914428\n",
      "25%    1.228221e+06      41.833535     -87.707328\n",
      "50%    1.982133e+06      41.891773     -87.666282\n",
      "75%    2.254230e+06      41.939787     -87.634818\n",
      "max    9.999999e+06      42.021064     -87.525094\n"
     ]
    }
   ],
   "source": [
    "print(df.info())\n",
    "print(df.describe())"
   ]
  },
  {
   "cell_type": "code",
   "execution_count": 140,
   "metadata": {},
   "outputs": [
    {
     "data": {
      "text/html": [
       "<div>\n",
       "<style scoped>\n",
       "    .dataframe tbody tr th:only-of-type {\n",
       "        vertical-align: middle;\n",
       "    }\n",
       "\n",
       "    .dataframe tbody tr th {\n",
       "        vertical-align: top;\n",
       "    }\n",
       "\n",
       "    .dataframe thead th {\n",
       "        text-align: right;\n",
       "    }\n",
       "</style>\n",
       "<table border=\"1\" class=\"dataframe\">\n",
       "  <thead>\n",
       "    <tr style=\"text-align: right;\">\n",
       "      <th></th>\n",
       "      <th>count</th>\n",
       "      <th>percent</th>\n",
       "    </tr>\n",
       "  </thead>\n",
       "  <tbody>\n",
       "    <tr>\n",
       "      <th>Pass</th>\n",
       "      <td>108721</td>\n",
       "      <td>0.529742</td>\n",
       "    </tr>\n",
       "    <tr>\n",
       "      <th>Fail</th>\n",
       "      <td>39640</td>\n",
       "      <td>0.193145</td>\n",
       "    </tr>\n",
       "    <tr>\n",
       "      <th>Pass w/ Conditions</th>\n",
       "      <td>30183</td>\n",
       "      <td>0.147066</td>\n",
       "    </tr>\n",
       "    <tr>\n",
       "      <th>Out of Business</th>\n",
       "      <td>17763</td>\n",
       "      <td>0.086550</td>\n",
       "    </tr>\n",
       "    <tr>\n",
       "      <th>No Entry</th>\n",
       "      <td>6803</td>\n",
       "      <td>0.033148</td>\n",
       "    </tr>\n",
       "    <tr>\n",
       "      <th>Not Ready</th>\n",
       "      <td>2052</td>\n",
       "      <td>0.009998</td>\n",
       "    </tr>\n",
       "    <tr>\n",
       "      <th>Business Not Located</th>\n",
       "      <td>72</td>\n",
       "      <td>0.000351</td>\n",
       "    </tr>\n",
       "  </tbody>\n",
       "</table>\n",
       "</div>"
      ],
      "text/plain": [
       "                       count   percent\n",
       "Pass                  108721  0.529742\n",
       "Fail                   39640  0.193145\n",
       "Pass w/ Conditions     30183  0.147066\n",
       "Out of Business        17763  0.086550\n",
       "No Entry                6803  0.033148\n",
       "Not Ready               2052  0.009998\n",
       "Business Not Located      72  0.000351"
      ]
     },
     "execution_count": 140,
     "metadata": {},
     "output_type": "execute_result"
    }
   ],
   "source": [
    "pd.DataFrame({'count':df.Results.value_counts(),\n",
    "              'percent':df.Results.value_counts()/len(df)})"
   ]
  },
  {
   "cell_type": "code",
   "execution_count": 141,
   "metadata": {},
   "outputs": [
    {
     "data": {
      "text/plain": [
       "Index(['Inspection ID', 'DBA Name', 'AKA Name', 'License #', 'Facility Type',\n",
       "       'Risk', 'Address', 'City', 'State', 'Zip', 'Inspection Date',\n",
       "       'Inspection Type', 'Results', 'Violations', 'Latitude', 'Longitude',\n",
       "       'Location'],\n",
       "      dtype='object')"
      ]
     },
     "execution_count": 141,
     "metadata": {},
     "output_type": "execute_result"
    }
   ],
   "source": [
    "df.columns"
   ]
  },
  {
   "cell_type": "code",
   "execution_count": null,
   "metadata": {},
   "outputs": [],
   "source": []
  },
  {
   "cell_type": "markdown",
   "metadata": {},
   "source": [
    "### 2.1 Observations\n",
    "<a id='observations'></a>\n",
    "* There are a lot of extra unneccesary columns\n",
    "* We care about 'results', and 'violations'\n",
    "* \\>50K N/A's in violations column\n",
    "* This is a multinomial classification problem. We'll narrow the classes to pass, fail, and pass w/ conditions due to data insufficency and other limitations.\n"
   ]
  },
  {
   "cell_type": "code",
   "execution_count": 142,
   "metadata": {},
   "outputs": [],
   "source": [
    "#Drop Unneccesary Columns\n",
    "select_cols = ['Results', 'Violations']\n",
    "df = df[select_cols]\n",
    "\n",
    "#Drop classes with insufficient data\n",
    "df = df[(df.Results=='Pass')|(df.Results=='Fail')|(df.Results=='Pass w/ Conditions')]\n",
    "\n",
    "#drop N/As\n",
    "df = df.dropna(subset =['Violations'], axis=0)\n"
   ]
  },
  {
   "cell_type": "code",
   "execution_count": 143,
   "metadata": {},
   "outputs": [
    {
     "data": {
      "text/html": [
       "<div>\n",
       "<style scoped>\n",
       "    .dataframe tbody tr th:only-of-type {\n",
       "        vertical-align: middle;\n",
       "    }\n",
       "\n",
       "    .dataframe tbody tr th {\n",
       "        vertical-align: top;\n",
       "    }\n",
       "\n",
       "    .dataframe thead th {\n",
       "        text-align: right;\n",
       "    }\n",
       "</style>\n",
       "<table border=\"1\" class=\"dataframe\">\n",
       "  <thead>\n",
       "    <tr style=\"text-align: right;\">\n",
       "      <th></th>\n",
       "      <th>Results</th>\n",
       "      <th>Violations</th>\n",
       "    </tr>\n",
       "  </thead>\n",
       "  <tbody>\n",
       "    <tr>\n",
       "      <th>0</th>\n",
       "      <td>Pass</td>\n",
       "      <td>53. TOILET FACILITIES: PROPERLY CONSTRUCTED, SUPPLIED, &amp; CLEANED - Comments: 5-501.17  OBSERVED NO COVERED WASTE RECEPTACLE INSIDE OF THE WOMEN'S WASHROOM. MUST PROVIDE.</td>\n",
       "    </tr>\n",
       "    <tr>\n",
       "      <th>2</th>\n",
       "      <td>Pass w/ Conditions</td>\n",
       "      <td>5. PROCEDURES FOR RESPONDING TO VOMITING AND DIARRHEAL EVENTS - Comments: NO PROCEDURE IN PLACE FOR RESPONDING TO VOMITING AND DIARRHEAL EVENTS. INSTD TO PROVIDE PROCEDURE AND NECESSARY SUPPLIES EFFECTIVE AGAINST NOROVIRUS. PRIORITY FOUNDATION 7-38-005 | 36. THERMOMETERS PROVIDED &amp; ACCURATE - Comments: MISSING FOOD TEMPERATURE MEASURING DEVICE. INSTD TO PROVIDE AND MAINTAIN SAME. PRIORITY FOUNDATION 7-38-005. | 51. PLUMBING INSTALLED; PROPER BACKFLOW DEVICES - Comments: MISSING TOILET TANK COVER. INSTD TO REPLACE AND MAINTAIN. TOILET HANDLE LOOSE. INSTD TO REPAIR AND MAINTAIN.</td>\n",
       "    </tr>\n",
       "  </tbody>\n",
       "</table>\n",
       "</div>"
      ],
      "text/plain": [
       "              Results  \\\n",
       "0                Pass   \n",
       "2  Pass w/ Conditions   \n",
       "\n",
       "                                                                                                                                                                                                                                                                                                                                                                                                                                                                                                                                                                                                Violations  \n",
       "0                                                                                                                                                                                                                                                                                                                                                                                                                                53. TOILET FACILITIES: PROPERLY CONSTRUCTED, SUPPLIED, & CLEANED - Comments: 5-501.17  OBSERVED NO COVERED WASTE RECEPTACLE INSIDE OF THE WOMEN'S WASHROOM. MUST PROVIDE.  \n",
       "2  5. PROCEDURES FOR RESPONDING TO VOMITING AND DIARRHEAL EVENTS - Comments: NO PROCEDURE IN PLACE FOR RESPONDING TO VOMITING AND DIARRHEAL EVENTS. INSTD TO PROVIDE PROCEDURE AND NECESSARY SUPPLIES EFFECTIVE AGAINST NOROVIRUS. PRIORITY FOUNDATION 7-38-005 | 36. THERMOMETERS PROVIDED & ACCURATE - Comments: MISSING FOOD TEMPERATURE MEASURING DEVICE. INSTD TO PROVIDE AND MAINTAIN SAME. PRIORITY FOUNDATION 7-38-005. | 51. PLUMBING INSTALLED; PROPER BACKFLOW DEVICES - Comments: MISSING TOILET TANK COVER. INSTD TO REPLACE AND MAINTAIN. TOILET HANDLE LOOSE. INSTD TO REPAIR AND MAINTAIN.  "
      ]
     },
     "execution_count": 143,
     "metadata": {},
     "output_type": "execute_result"
    }
   ],
   "source": [
    "df.head(2)"
   ]
  },
  {
   "cell_type": "code",
   "execution_count": 144,
   "metadata": {},
   "outputs": [
    {
     "name": "stdout",
     "output_type": "stream",
     "text": [
      "<class 'pandas.core.frame.DataFrame'>\n",
      "Int64Index: 150186 entries, 0 to 205233\n",
      "Data columns (total 2 columns):\n",
      "Results       150186 non-null object\n",
      "Violations    150186 non-null object\n",
      "dtypes: object(2)\n",
      "memory usage: 3.4+ MB\n",
      "None\n",
      "       Results  \\\n",
      "count   150186   \n",
      "unique       3   \n",
      "top       Pass   \n",
      "freq     84015   \n",
      "\n",
      "                                                                                                                                Violations  \n",
      "count                                                                                                                               150186  \n",
      "unique                                                                                                                              149347  \n",
      "top     45. FOOD HANDLER REQUIREMENTS MET - Comments: ALL FOOD HANDLING EMPLOYEES MUST SHOW PROOF OF FOOD HANDLER TRAINING.  MUST PROVIDE.  \n",
      "freq                                                                                                                                    10  \n"
     ]
    }
   ],
   "source": [
    "print(df.info())\n",
    "print(df.describe())"
   ]
  },
  {
   "cell_type": "markdown",
   "metadata": {},
   "source": [
    "## 2. Feature Engineering\n",
    "<a id='engineering'></a>\n",
    "* Extract only comments from violations, drop rest of text\n",
    "* map Results_Flag"
   ]
  },
  {
   "cell_type": "code",
   "execution_count": 145,
   "metadata": {},
   "outputs": [
    {
     "data": {
      "text/plain": [
       "'2. FACILITIES TO MAINTAIN PROPER TEMPERATURE - Comments: All food establishments that display, prepare, or store potentially hazardous food shall have adequate refrigerated food storage facilities.    MUST HAVE COOLER AT 40F OR BELOW, FREEZER UNDER 0F. | 18. NO EVIDENCE OF RODENT OR INSECT OUTER OPENINGS PROTECTED/RODENT PROOFED, A WRITTEN LOG SHALL BE MAINTAINED AVAILABLE TO THE INSPECTORS - Comments: MUST PROVIDE PEST CONTROL LOG BOOK. | 33. FOOD AND NON-FOOD CONTACT EQUIPMENT UTENSILS CLEAN, FREE OF ABRASIVE DETERGENTS - Comments: All utensils shall be thoroughly cleaned and sanitized after each usage.    MUST CLEAN-SANITIZE; EQUIPMENT, SINKS, COUNTERS, ETC.. | 34. FLOORS: CONSTRUCTED PER CODE, CLEANED, GOOD REPAIR, COVING INSTALLED, DUST-LESS CLEANING METHODS USED - Comments: The floors shall be constructed per code, be smooth and easily cleaned, and be kept clean and in good repair.    MUST CLEAN FLOORS THRU-OUT PREMISES, INCLUDINT BASEMENT. | 35. WALLS, CEILINGS, ATTACHED EQUIPMENT CONSTRUCTED PER CODE: GOOD REPAIR, SURFACES CLEAN AND DUST-LESS CLEANING METHODS - Comments: The walls and ceilings shall be in good repair and easily cleaned.    MUST SEAL RAW WOOD DOOR FRAME FOR MOP CLOSET. | 38. VENTILATION: ROOMS AND EQUIPMENT VENTED AS REQUIRED: PLUMBING: INSTALLED AND MAINTAINED - Comments: Ventilation: All plumbing fixtures, such as toilets, sinks, washbasins, etc., must be adequately trapped, vented, and re-vented and properly connected to the sewer in accordance with the plumbing chapter of the Municipal Code of Chicago and the Rules and Regulations of the Board of Health.    MUST REPLACE FRONT PREP AREA 3PART SINK FAUCET. | 40. REFRIGERATION AND METAL STEM THERMOMETERS PROVIDED AND CONSPICUOUS - Comments: All food establishments that display, prepare, or store potentially hazardous foods shall have calibrated metal stem thermometers, provided and conspicuous, for refrigerated and hot food units. | 41. PREMISES MAINTAINED FREE OF LITTER, UNNECESSARY ARTICLES, CLEANING  EQUIPMENT PROPERLY STORED - Comments: MUST REMOVE UNNECESSARY ARTICLES THRU-OUT PREMISES, CLEAN AND ORGANIZE TO PREVENT PEST HARBORAGE.  ARTICLES MUST BE STORED OF FLOORS, AWAY FROM WALLS.'"
      ]
     },
     "execution_count": 145,
     "metadata": {},
     "output_type": "execute_result"
    }
   ],
   "source": [
    "#Check sample Violation entry\n",
    "df.iloc[131413]['Violations']"
   ]
  },
  {
   "cell_type": "code",
   "execution_count": 146,
   "metadata": {},
   "outputs": [],
   "source": [
    "#regex expression to extract the text following \"Comments:\"\n",
    "df.Violations = df.Violations.str.findall(r\"(?:\\sComments:\\s.*?)?(?:[|]|$)\")"
   ]
  },
  {
   "cell_type": "code",
   "execution_count": 147,
   "metadata": {},
   "outputs": [
    {
     "data": {
      "text/plain": [
       "[' Comments: All food establishments that display, prepare, or store potentially hazardous food shall have adequate refrigerated food storage facilities.    MUST HAVE COOLER AT 40F OR BELOW, FREEZER UNDER 0F. |',\n",
       " ' Comments: MUST PROVIDE PEST CONTROL LOG BOOK. |',\n",
       " ' Comments: All utensils shall be thoroughly cleaned and sanitized after each usage.    MUST CLEAN-SANITIZE; EQUIPMENT, SINKS, COUNTERS, ETC.. |',\n",
       " ' Comments: The floors shall be constructed per code, be smooth and easily cleaned, and be kept clean and in good repair.    MUST CLEAN FLOORS THRU-OUT PREMISES, INCLUDINT BASEMENT. |',\n",
       " ' Comments: The walls and ceilings shall be in good repair and easily cleaned.    MUST SEAL RAW WOOD DOOR FRAME FOR MOP CLOSET. |',\n",
       " ' Comments: Ventilation: All plumbing fixtures, such as toilets, sinks, washbasins, etc., must be adequately trapped, vented, and re-vented and properly connected to the sewer in accordance with the plumbing chapter of the Municipal Code of Chicago and the Rules and Regulations of the Board of Health.    MUST REPLACE FRONT PREP AREA 3PART SINK FAUCET. |',\n",
       " ' Comments: All food establishments that display, prepare, or store potentially hazardous foods shall have calibrated metal stem thermometers, provided and conspicuous, for refrigerated and hot food units. |',\n",
       " ' Comments: MUST REMOVE UNNECESSARY ARTICLES THRU-OUT PREMISES, CLEAN AND ORGANIZE TO PREVENT PEST HARBORAGE.  ARTICLES MUST BE STORED OF FLOORS, AWAY FROM WALLS.',\n",
       " '']"
      ]
     },
     "execution_count": 147,
     "metadata": {},
     "output_type": "execute_result"
    }
   ],
   "source": [
    "#Now check sample violation\n",
    "df.iloc[131413]['Violations']"
   ]
  },
  {
   "cell_type": "code",
   "execution_count": 148,
   "metadata": {},
   "outputs": [],
   "source": [
    "#Lemmatize Violations\n",
    "w_tokenizer = nltk.tokenize.WhitespaceTokenizer()\n",
    "lemmatizer = nltk.stem.WordNetLemmatizer()\n",
    "\n",
    "def lemmatize_text(text):\n",
    "    return [lemmatizer.lemmatize(w) for w in w_tokenizer.tokenize(text)]\n",
    "\n",
    "df.Violations = df.Violations.str.join(' ')\n",
    "\n",
    "#remove \"Comments\"\n",
    "df['Violations'] = df['Violations'].str.replace('Comments*\\s','')\n",
    "df['Violations'] = df['Violations'].str.replace('Comments','')\n",
    "\n",
    "#Remove Punctuation\n",
    "df['Violations'] = df['Violations'].str.replace('[^\\w\\s]','')\n",
    "\n",
    "#Remove non-alphanumeric\n",
    "df['Violations'] = df['Violations'].str.replace('[^\\D\\s]','')\n"
   ]
  },
  {
   "cell_type": "code",
   "execution_count": 149,
   "metadata": {},
   "outputs": [
    {
     "data": {
      "text/plain": [
       "'  All food establishments that display prepare or store potentially hazardous food shall have adequate refrigerated food storage facilities    MUST HAVE COOLER AT F OR BELOW FREEZER UNDER F    MUST PROVIDE PEST CONTROL LOG BOOK    All utensils shall be thoroughly cleaned and sanitized after each usage    MUST CLEANSANITIZE EQUIPMENT SINKS COUNTERS ETC    The floors shall be constructed per code be smooth and easily cleaned and be kept clean and in good repair    MUST CLEAN FLOORS THRUOUT PREMISES INCLUDINT BASEMENT    The walls and ceilings shall be in good repair and easily cleaned    MUST SEAL RAW WOOD DOOR FRAME FOR MOP CLOSET    Ventilation All plumbing fixtures such as toilets sinks washbasins etc must be adequately trapped vented and revented and properly connected to the sewer in accordance with the plumbing chapter of the Municipal Code of Chicago and the Rules and Regulations of the Board of Health    MUST REPLACE FRONT PREP AREA PART SINK FAUCET    All food establishments that display prepare or store potentially hazardous foods shall have calibrated metal stem thermometers provided and conspicuous for refrigerated and hot food units    MUST REMOVE UNNECESSARY ARTICLES THRUOUT PREMISES CLEAN AND ORGANIZE TO PREVENT PEST HARBORAGE  ARTICLES MUST BE STORED OF FLOORS AWAY FROM WALLS '"
      ]
     },
     "execution_count": 149,
     "metadata": {},
     "output_type": "execute_result"
    }
   ],
   "source": [
    "#Now check sample violation\n",
    "df.iloc[131413]['Violations']"
   ]
  },
  {
   "cell_type": "code",
   "execution_count": 150,
   "metadata": {},
   "outputs": [
    {
     "data": {
      "text/plain": [
       "Pass                  84015\n",
       "Fail                  36500\n",
       "Pass w/ Conditions    29671\n",
       "Name: Results, dtype: int64"
      ]
     },
     "execution_count": 150,
     "metadata": {},
     "output_type": "execute_result"
    }
   ],
   "source": [
    "df['Results'].value_counts()"
   ]
  },
  {
   "cell_type": "code",
   "execution_count": 151,
   "metadata": {},
   "outputs": [],
   "source": [
    "# convert label to a binary numerical variable\n",
    "df['Results_Flag'] = df.Results.map({'Pass':0,\n",
    "                                     'Fail':1,\n",
    "                                     'Pass w/ Conditions':2,\n",
    "                                     'No Entry':3,\n",
    "                                     'Not Ready':4,\n",
    "                                     'Out of Business':5 })"
   ]
  },
  {
   "cell_type": "markdown",
   "metadata": {},
   "source": [
    "## 3. Set X & y Variables, Train/Test Split"
   ]
  },
  {
   "cell_type": "code",
   "execution_count": 16,
   "metadata": {},
   "outputs": [
    {
     "name": "stdout",
     "output_type": "stream",
     "text": [
      "(150186,)\n",
      "(150186,)\n"
     ]
    }
   ],
   "source": [
    "X = df.Violations\n",
    "y = df.Results_Flag\n",
    "print(X.shape)\n",
    "print(y.shape)"
   ]
  },
  {
   "cell_type": "code",
   "execution_count": 17,
   "metadata": {},
   "outputs": [
    {
     "name": "stdout",
     "output_type": "stream",
     "text": [
      "(120148,)\n",
      "(30038,)\n",
      "(120148,)\n",
      "(30038,)\n"
     ]
    }
   ],
   "source": [
    "# split X and y into training and testing sets\n",
    "X_train, X_test, y_train, y_test = train_test_split(X, y, \n",
    "                                                    test_size=0.20, \n",
    "                                                    stratify=y, \n",
    "                                                    random_state=123)\n",
    "print(X_train.shape)\n",
    "print(X_test.shape)\n",
    "print(y_train.shape)\n",
    "print(y_test.shape)"
   ]
  },
  {
   "cell_type": "markdown",
   "metadata": {},
   "source": [
    "## 4. Vectorize The Text"
   ]
  },
  {
   "cell_type": "code",
   "execution_count": 18,
   "metadata": {},
   "outputs": [],
   "source": [
    "# instantiate the vectorizer\n",
    "vect = CountVectorizer()"
   ]
  },
  {
   "cell_type": "code",
   "execution_count": 19,
   "metadata": {},
   "outputs": [],
   "source": [
    "# equivalently: combine fit and transform into a single step\n",
    "X_train_dtm = vect.fit_transform(X_train)"
   ]
  },
  {
   "cell_type": "code",
   "execution_count": 20,
   "metadata": {},
   "outputs": [
    {
     "data": {
      "text/plain": [
       "<120148x89708 sparse matrix of type '<class 'numpy.int64'>'\n",
       "\twith 8115815 stored elements in Compressed Sparse Row format>"
      ]
     },
     "execution_count": 20,
     "metadata": {},
     "output_type": "execute_result"
    }
   ],
   "source": [
    "# examine the document-term matrix\n",
    "X_train_dtm"
   ]
  },
  {
   "cell_type": "code",
   "execution_count": 21,
   "metadata": {},
   "outputs": [
    {
     "data": {
      "text/plain": [
       "<30038x89708 sparse matrix of type '<class 'numpy.int64'>'\n",
       "\twith 2009325 stored elements in Compressed Sparse Row format>"
      ]
     },
     "execution_count": 21,
     "metadata": {},
     "output_type": "execute_result"
    }
   ],
   "source": [
    "# transform testing data (using fitted vocabulary) into a document-term matrix\n",
    "X_test_dtm = vect.transform(X_test)\n",
    "X_test_dtm"
   ]
  },
  {
   "cell_type": "code",
   "execution_count": 22,
   "metadata": {},
   "outputs": [
    {
     "data": {
      "text/html": [
       "<div>\n",
       "<style scoped>\n",
       "    .dataframe tbody tr th:only-of-type {\n",
       "        vertical-align: middle;\n",
       "    }\n",
       "\n",
       "    .dataframe tbody tr th {\n",
       "        vertical-align: top;\n",
       "    }\n",
       "\n",
       "    .dataframe thead th {\n",
       "        text-align: right;\n",
       "    }\n",
       "</style>\n",
       "<table border=\"1\" class=\"dataframe\">\n",
       "  <thead>\n",
       "    <tr style=\"text-align: right;\">\n",
       "      <th></th>\n",
       "      <th>___lbs</th>\n",
       "      <th>__through</th>\n",
       "      <th>_a</th>\n",
       "      <th>aa</th>\n",
       "      <th>aab</th>\n",
       "      <th>aade</th>\n",
       "      <th>aafound</th>\n",
       "      <th>aal</th>\n",
       "      <th>aall</th>\n",
       "      <th>aamust</th>\n",
       "      <th>...</th>\n",
       "      <th>zuchinicabbagecooked</th>\n",
       "      <th>zuchinisasparagus</th>\n",
       "      <th>zumba</th>\n",
       "      <th>zumex</th>\n",
       "      <th>zurich</th>\n",
       "      <th>ï½</th>\n",
       "      <th>ï½c</th>\n",
       "      <th>ï½f</th>\n",
       "      <th>ï½time</th>\n",
       "      <th>ï½ï½</th>\n",
       "    </tr>\n",
       "  </thead>\n",
       "  <tbody>\n",
       "    <tr>\n",
       "      <th>0</th>\n",
       "      <td>0</td>\n",
       "      <td>0</td>\n",
       "      <td>0</td>\n",
       "      <td>0</td>\n",
       "      <td>0</td>\n",
       "      <td>0</td>\n",
       "      <td>0</td>\n",
       "      <td>0</td>\n",
       "      <td>0</td>\n",
       "      <td>0</td>\n",
       "      <td>...</td>\n",
       "      <td>0</td>\n",
       "      <td>0</td>\n",
       "      <td>0</td>\n",
       "      <td>0</td>\n",
       "      <td>0</td>\n",
       "      <td>0</td>\n",
       "      <td>0</td>\n",
       "      <td>0</td>\n",
       "      <td>0</td>\n",
       "      <td>0</td>\n",
       "    </tr>\n",
       "    <tr>\n",
       "      <th>1</th>\n",
       "      <td>0</td>\n",
       "      <td>0</td>\n",
       "      <td>0</td>\n",
       "      <td>0</td>\n",
       "      <td>0</td>\n",
       "      <td>0</td>\n",
       "      <td>0</td>\n",
       "      <td>0</td>\n",
       "      <td>0</td>\n",
       "      <td>0</td>\n",
       "      <td>...</td>\n",
       "      <td>0</td>\n",
       "      <td>0</td>\n",
       "      <td>0</td>\n",
       "      <td>0</td>\n",
       "      <td>0</td>\n",
       "      <td>0</td>\n",
       "      <td>0</td>\n",
       "      <td>0</td>\n",
       "      <td>0</td>\n",
       "      <td>0</td>\n",
       "    </tr>\n",
       "    <tr>\n",
       "      <th>2</th>\n",
       "      <td>0</td>\n",
       "      <td>0</td>\n",
       "      <td>0</td>\n",
       "      <td>0</td>\n",
       "      <td>0</td>\n",
       "      <td>0</td>\n",
       "      <td>0</td>\n",
       "      <td>0</td>\n",
       "      <td>0</td>\n",
       "      <td>0</td>\n",
       "      <td>...</td>\n",
       "      <td>0</td>\n",
       "      <td>0</td>\n",
       "      <td>0</td>\n",
       "      <td>0</td>\n",
       "      <td>0</td>\n",
       "      <td>0</td>\n",
       "      <td>0</td>\n",
       "      <td>0</td>\n",
       "      <td>0</td>\n",
       "      <td>0</td>\n",
       "    </tr>\n",
       "    <tr>\n",
       "      <th>3</th>\n",
       "      <td>0</td>\n",
       "      <td>0</td>\n",
       "      <td>0</td>\n",
       "      <td>0</td>\n",
       "      <td>0</td>\n",
       "      <td>0</td>\n",
       "      <td>0</td>\n",
       "      <td>0</td>\n",
       "      <td>0</td>\n",
       "      <td>0</td>\n",
       "      <td>...</td>\n",
       "      <td>0</td>\n",
       "      <td>0</td>\n",
       "      <td>0</td>\n",
       "      <td>0</td>\n",
       "      <td>0</td>\n",
       "      <td>0</td>\n",
       "      <td>0</td>\n",
       "      <td>0</td>\n",
       "      <td>0</td>\n",
       "      <td>0</td>\n",
       "    </tr>\n",
       "    <tr>\n",
       "      <th>4</th>\n",
       "      <td>0</td>\n",
       "      <td>0</td>\n",
       "      <td>0</td>\n",
       "      <td>0</td>\n",
       "      <td>0</td>\n",
       "      <td>0</td>\n",
       "      <td>0</td>\n",
       "      <td>0</td>\n",
       "      <td>0</td>\n",
       "      <td>0</td>\n",
       "      <td>...</td>\n",
       "      <td>0</td>\n",
       "      <td>0</td>\n",
       "      <td>0</td>\n",
       "      <td>0</td>\n",
       "      <td>0</td>\n",
       "      <td>0</td>\n",
       "      <td>0</td>\n",
       "      <td>0</td>\n",
       "      <td>0</td>\n",
       "      <td>0</td>\n",
       "    </tr>\n",
       "    <tr>\n",
       "      <th>...</th>\n",
       "      <td>...</td>\n",
       "      <td>...</td>\n",
       "      <td>...</td>\n",
       "      <td>...</td>\n",
       "      <td>...</td>\n",
       "      <td>...</td>\n",
       "      <td>...</td>\n",
       "      <td>...</td>\n",
       "      <td>...</td>\n",
       "      <td>...</td>\n",
       "      <td>...</td>\n",
       "      <td>...</td>\n",
       "      <td>...</td>\n",
       "      <td>...</td>\n",
       "      <td>...</td>\n",
       "      <td>...</td>\n",
       "      <td>...</td>\n",
       "      <td>...</td>\n",
       "      <td>...</td>\n",
       "      <td>...</td>\n",
       "      <td>...</td>\n",
       "    </tr>\n",
       "    <tr>\n",
       "      <th>120143</th>\n",
       "      <td>0</td>\n",
       "      <td>0</td>\n",
       "      <td>0</td>\n",
       "      <td>0</td>\n",
       "      <td>0</td>\n",
       "      <td>0</td>\n",
       "      <td>0</td>\n",
       "      <td>0</td>\n",
       "      <td>0</td>\n",
       "      <td>0</td>\n",
       "      <td>...</td>\n",
       "      <td>0</td>\n",
       "      <td>0</td>\n",
       "      <td>0</td>\n",
       "      <td>0</td>\n",
       "      <td>0</td>\n",
       "      <td>0</td>\n",
       "      <td>0</td>\n",
       "      <td>0</td>\n",
       "      <td>0</td>\n",
       "      <td>0</td>\n",
       "    </tr>\n",
       "    <tr>\n",
       "      <th>120144</th>\n",
       "      <td>0</td>\n",
       "      <td>0</td>\n",
       "      <td>0</td>\n",
       "      <td>0</td>\n",
       "      <td>0</td>\n",
       "      <td>0</td>\n",
       "      <td>0</td>\n",
       "      <td>0</td>\n",
       "      <td>0</td>\n",
       "      <td>0</td>\n",
       "      <td>...</td>\n",
       "      <td>0</td>\n",
       "      <td>0</td>\n",
       "      <td>0</td>\n",
       "      <td>0</td>\n",
       "      <td>0</td>\n",
       "      <td>0</td>\n",
       "      <td>0</td>\n",
       "      <td>0</td>\n",
       "      <td>0</td>\n",
       "      <td>0</td>\n",
       "    </tr>\n",
       "    <tr>\n",
       "      <th>120145</th>\n",
       "      <td>0</td>\n",
       "      <td>0</td>\n",
       "      <td>0</td>\n",
       "      <td>0</td>\n",
       "      <td>0</td>\n",
       "      <td>0</td>\n",
       "      <td>0</td>\n",
       "      <td>0</td>\n",
       "      <td>0</td>\n",
       "      <td>0</td>\n",
       "      <td>...</td>\n",
       "      <td>0</td>\n",
       "      <td>0</td>\n",
       "      <td>0</td>\n",
       "      <td>0</td>\n",
       "      <td>0</td>\n",
       "      <td>0</td>\n",
       "      <td>0</td>\n",
       "      <td>0</td>\n",
       "      <td>0</td>\n",
       "      <td>0</td>\n",
       "    </tr>\n",
       "    <tr>\n",
       "      <th>120146</th>\n",
       "      <td>0</td>\n",
       "      <td>0</td>\n",
       "      <td>0</td>\n",
       "      <td>0</td>\n",
       "      <td>0</td>\n",
       "      <td>0</td>\n",
       "      <td>0</td>\n",
       "      <td>0</td>\n",
       "      <td>0</td>\n",
       "      <td>0</td>\n",
       "      <td>...</td>\n",
       "      <td>0</td>\n",
       "      <td>0</td>\n",
       "      <td>0</td>\n",
       "      <td>0</td>\n",
       "      <td>0</td>\n",
       "      <td>0</td>\n",
       "      <td>0</td>\n",
       "      <td>0</td>\n",
       "      <td>0</td>\n",
       "      <td>0</td>\n",
       "    </tr>\n",
       "    <tr>\n",
       "      <th>120147</th>\n",
       "      <td>0</td>\n",
       "      <td>0</td>\n",
       "      <td>0</td>\n",
       "      <td>0</td>\n",
       "      <td>0</td>\n",
       "      <td>0</td>\n",
       "      <td>0</td>\n",
       "      <td>0</td>\n",
       "      <td>0</td>\n",
       "      <td>0</td>\n",
       "      <td>...</td>\n",
       "      <td>0</td>\n",
       "      <td>0</td>\n",
       "      <td>0</td>\n",
       "      <td>0</td>\n",
       "      <td>0</td>\n",
       "      <td>0</td>\n",
       "      <td>0</td>\n",
       "      <td>0</td>\n",
       "      <td>0</td>\n",
       "      <td>0</td>\n",
       "    </tr>\n",
       "  </tbody>\n",
       "</table>\n",
       "<p>120148 rows × 89708 columns</p>\n",
       "</div>"
      ],
      "text/plain": [
       "        ___lbs  __through  _a  aa  aab  aade  aafound  aal  aall  aamust  ...  \\\n",
       "0            0          0   0   0    0     0        0    0     0       0  ...   \n",
       "1            0          0   0   0    0     0        0    0     0       0  ...   \n",
       "2            0          0   0   0    0     0        0    0     0       0  ...   \n",
       "3            0          0   0   0    0     0        0    0     0       0  ...   \n",
       "4            0          0   0   0    0     0        0    0     0       0  ...   \n",
       "...        ...        ...  ..  ..  ...   ...      ...  ...   ...     ...  ...   \n",
       "120143       0          0   0   0    0     0        0    0     0       0  ...   \n",
       "120144       0          0   0   0    0     0        0    0     0       0  ...   \n",
       "120145       0          0   0   0    0     0        0    0     0       0  ...   \n",
       "120146       0          0   0   0    0     0        0    0     0       0  ...   \n",
       "120147       0          0   0   0    0     0        0    0     0       0  ...   \n",
       "\n",
       "        zuchinicabbagecooked  zuchinisasparagus  zumba  zumex  zurich  ï½  \\\n",
       "0                          0                  0      0      0       0   0   \n",
       "1                          0                  0      0      0       0   0   \n",
       "2                          0                  0      0      0       0   0   \n",
       "3                          0                  0      0      0       0   0   \n",
       "4                          0                  0      0      0       0   0   \n",
       "...                      ...                ...    ...    ...     ...  ..   \n",
       "120143                     0                  0      0      0       0   0   \n",
       "120144                     0                  0      0      0       0   0   \n",
       "120145                     0                  0      0      0       0   0   \n",
       "120146                     0                  0      0      0       0   0   \n",
       "120147                     0                  0      0      0       0   0   \n",
       "\n",
       "        ï½c  ï½f  ï½time  ï½ï½  \n",
       "0         0    0       0     0  \n",
       "1         0    0       0     0  \n",
       "2         0    0       0     0  \n",
       "3         0    0       0     0  \n",
       "4         0    0       0     0  \n",
       "...     ...  ...     ...   ...  \n",
       "120143    0    0       0     0  \n",
       "120144    0    0       0     0  \n",
       "120145    0    0       0     0  \n",
       "120146    0    0       0     0  \n",
       "120147    0    0       0     0  \n",
       "\n",
       "[120148 rows x 89708 columns]"
      ]
     },
     "execution_count": 22,
     "metadata": {},
     "output_type": "execute_result"
    }
   ],
   "source": [
    "countvectorizer_matrix = vect.fit_transform(X_train)\n",
    "countvectorizer_matrix_df = pd.DataFrame(countvectorizer_matrix.toarray(), columns=vect.get_feature_names())\n",
    "countvectorizer_matrix_df"
   ]
  },
  {
   "cell_type": "code",
   "execution_count": null,
   "metadata": {},
   "outputs": [],
   "source": []
  },
  {
   "cell_type": "code",
   "execution_count": 23,
   "metadata": {},
   "outputs": [
    {
     "data": {
      "text/plain": [
       "33499                                                                                                                                                                                                                                                                                                                                                                                                                                                                                                                       INSTRUCTED TO PROPERLY LABEL FOOD STORAGE CONTAINERSBINS IDENTIFIED WITH COMMON NAME    INSTRUCTED TO TRANSFER FOOD PRODUCTS FROM AN OPEN ORIGINAL CAN CONTAINER INTO FOOD GRADE CONTAINER FOR PROPER FOOD STORAGE      INSTRUCTED TO REPAIR LOOSE HANDSINK IN BAKERY PREP AREA    INSTRUCTED TO RE GROUT FLOOR TILES WITH DEEP SEAMS AND CRACKED AROUND MEAT PREP AREA     FOOD AND NON FOOD ITEMS MUST BE STORED  OFF THE FLOOR FOR EASY ACCESS ON CLEANING MUST PROVIDE PROPER RAISED SHELVES AND NO MILK CRATES \n",
       "188613      A certified food service manager must be present in all establishments at which potentially hazardous food is prepared or served  NO CERTIFIED FOOD MANAGER WAS PRESENT WHILE POTENTIALLY HAZARDOUS FOODS SOUP AND SANDIWCHES WERE BEING PREPARED AND SERVED  ALSO NO CITY SANITATION CERTIFICATE WAS POSTED IN THE ESTABLISHMENT  MANAGEMENT INSTRUCTED THAT A CERTIFIED FOOD MANAGER MUST BE PRESENT AT ALL TIMES WITH THEIR ORIGINAL CERTIFICATE WHILE POTENTIALLY HAZARDOUS FOODS ARE PREPARED OR SERVED  SERIOUS VIOLATION     All food and nonfood contact surfaces of equipment and all food storage utensils shall be thoroughly cleaned and sanitized daily  DETAIL CLEAN THE INTERIOR OF THE SANDWICH PREP COOLER    The floors shall be constructed per code be smooth and easily cleaned and be kept clean and in good repair  DETAIL CLEAN THE FLOOR OF THE REAR PREP AREA AND FLOOR OF THE CABINET UNDERNEATH THE FOUNTAIN POP DISPENSER    WET WIPING CLOTHS STORED ON COUNTERS AND PREP TABLES  MUST STORE IN SAN...\n",
       "106350                                                                                                                                                                                                                                                                                                                                                                                                                                                                                                                                                                                                                                                                                                                                                                                    PROVIDE COVERS FOR ICE BIN AT TH FLOOR BAR    CLEAN FLOORS IN WALKIN FREEZER OF DEBRIS    PROVIDE REFRIGERATION THERMOMETERS IN UNITS WHERE MISSING     PROPERLY STORE ICE SCOOP IN ICE BIN TO PREVENT HANDLE FROM TOUCHING ICE  USED FOR CONSUMPTION \n",
       "176876                             All food and nonfood contact equipment and utensils shall be smooth easily cleanable and durable and shall be in good repair    MUST PROVIDE A SPLASH GUARD AT EXPOSED HAND BOWL BETWEEN  COMPARTMENT SINK    All food and nonfood contact surfaces of equipment and all food storage utensils shall be thoroughly cleaned and sanitized daily    MUST CLEAN VENTS ABOVE COOKING EQUIPMENT REAR KITCHEN AREA    All rooms in which food or drink is prepared or in which utensils are washed shall be lighted so that a minimum of foot candles of light is available on all work surfaces    MUST PROVIDE LIGHT SHIELDS ON LIGHTS ABOVE FOOD PREP AREA    Ventilation All plumbing fixtures such as toilets sinks washbasins etc must be adequately trapped vented and revented and properly connected to the sewer in accordance with the plumbing chapter of the Municipal Code of Chicago and the Rules and Regulations of the Board of Health    MUST PROVIDE  SINK STOPPERS FOR THREE COMPARTMENT SINK \n",
       "160520                                                                                                                                                                                                                                                                                                                                                                                                                                                                                                                                                                                                                                                                                                                                                                                                                                     Inspector  FOUND FOOD CONTAINERS NOT STORE PROPERLYMUST STORE INVERTED      Inspector  FOUND RUST SHELVING UNITS INSIDE WALK IN COOLER      Inspector  FOUND FLOORS NOT CLEAN AT DISHWASHING AREAS   \n",
       "                                                                                                                                                                                                                                                                                                                                                                                                                                                                                                                           ...                                                                                                                                                                                                                                                                                                                                                                                                                                                                                                                  \n",
       "165778                                                                                                                                                                                                                                                                                                                                                                                                                                                                                                                                            MUST DETAIL CLEAN AND SANITIZE INTERIOR OF FRYER AND UNDER MAIN GRILL TO REMOVE EXCESS GREASE BUILDUP MUST REPAINT RUSTY SHELVING RACKS OF COOLERS AT MAIN COOKING LINE MUST ALSO CLEAN INTERIOR BOTTOM SHELVES AT DR COOLERS DR REFRIGERATOR AND FREEZER TO REMOVE FOOD SPLASHES AND ICE BUILD    MUST CLEAN FLOORS AT MAIN COOKING LINE TO REMOVE FOOD DEBRIS    MUST REPAIR VENTS AT BOTH MENS AND LADIES RESTROOMS    MUST PROPERLY STORE WASH CLOTHS IN SANITIZING SOLUTION AT ALL TIMES \n",
       "120917                                                                                                                                                                                                                                                                                                                                                                                                                                                                                                                                                                          FOODS STORED INSIDE FREEZERS NOT PROEPRLY STORED INSTRUCTED TO STORE FOODS IN FOOD GRADE FREEZER AND STORAGE BAGS    MULTI USE UTENSILS NOT PROPERLY STORED INSITR CUED TO INVERT UTENSILS TO PREVENT CONTAMINATION BEFORE USE    MEAT SLICER COOKING EQUIPMENT AND STORAGE SHELVES UNDER PREP TABLE NOT CLEAN INSTRUCTED TO DETAIL CLEAN AND SANITIZE ALL FOOD CONTACT SURFACES    TOILET ROOM DOOR NOT SELF CLOSING INSTRUCTED TO INSTALL SELF CLOSING DEVICE \n",
       "173700                                                                                                                                                                                                                                                                                                                                                                                         All rooms in which food or drink is prepared or in which utensils are washed shall be lighted so that a minimum of foot candles of light is available on all work surfaces    OBSERVED DUST BUILD UP ON CEILING TILES AND CEILING VENTILATION ABOVE PREP AREA MUST CLEAN AND MAINTAIN ALL UNCLEAN CEILING TILES AND VENT COVER    All food establishments that display prepare or store potentially hazardous foods shall have calibrated metal stem thermometers provided and conspicuous for refrigerated and hot food units    METAL STEM THERMOMETER NOT CALIBRATED INSTRUCTED MANAGER TO CALIBRATE METAL STEM THERMOMETER FOR FOOD HANDLERS \n",
       "59368                                                                                                                                                                                                                                                                                                                                                                                                                                                                                                                                                                                                                                                                                                                                                                                                                                            OBSERVED NO PAPER TOWELS PROVIDED IN THE BOYS AND GIRLS WASHROOMS ON THE STRD FLOORS  MANAGEMENT INSTRUCTED TO PROVIDE SOAP AND PAPER TOWELS AT ALL WASHROOMS AT ALL TIMES  SERIOUS VIOLATION  \n",
       "101910                                                                                                                                                                                                                                                                                                                                                                                                                                                                                                                                                                                                                                                                                                                                                                                                                                                                         CLEAN FOUNTAIN DRINK MACHINE TO REMOVE ALL BUILD UP  MUST CLEAN AND MAINTAIN       THERMOMETER NEEDED AT INTERIOR OG WALK IN COOLER  MUST INSTALL AND MAINTAIN   \n",
       "Name: Violations, Length: 120148, dtype: object"
      ]
     },
     "execution_count": 23,
     "metadata": {},
     "output_type": "execute_result"
    }
   ],
   "source": [
    "X_train"
   ]
  },
  {
   "cell_type": "code",
   "execution_count": null,
   "metadata": {},
   "outputs": [],
   "source": []
  },
  {
   "cell_type": "code",
   "execution_count": null,
   "metadata": {},
   "outputs": [],
   "source": []
  },
  {
   "cell_type": "code",
   "execution_count": null,
   "metadata": {},
   "outputs": [],
   "source": []
  },
  {
   "cell_type": "markdown",
   "metadata": {},
   "source": [
    "## 5. Build Baseline Models\n",
    "* Naive Bayes Model\n",
    "* Logistic Regression\n",
    "* Support Vector Machine"
   ]
  },
  {
   "cell_type": "markdown",
   "metadata": {},
   "source": [
    "### a) Naive Bayes Model"
   ]
  },
  {
   "cell_type": "code",
   "execution_count": 24,
   "metadata": {},
   "outputs": [],
   "source": [
    "# instantiate a Multinomial Naive Bayes model\n",
    "nb = MultinomialNB()"
   ]
  },
  {
   "cell_type": "code",
   "execution_count": 25,
   "metadata": {},
   "outputs": [
    {
     "name": "stdout",
     "output_type": "stream",
     "text": [
      "CPU times: user 85.2 ms, sys: 172 ms, total: 257 ms\n",
      "Wall time: 389 ms\n"
     ]
    },
    {
     "data": {
      "text/plain": [
       "MultinomialNB(alpha=1.0, class_prior=None, fit_prior=True)"
      ]
     },
     "execution_count": 25,
     "metadata": {},
     "output_type": "execute_result"
    }
   ],
   "source": [
    "# train and time the model using X_train_dtm\n",
    "%time nb.fit(X_train_dtm, y_train)"
   ]
  },
  {
   "cell_type": "code",
   "execution_count": 26,
   "metadata": {},
   "outputs": [],
   "source": [
    "# make class predictions for X_test_dtm\n",
    "y_pred_class = nb.predict(X_test_dtm)"
   ]
  },
  {
   "cell_type": "code",
   "execution_count": 27,
   "metadata": {},
   "outputs": [
    {
     "name": "stdout",
     "output_type": "stream",
     "text": [
      "0.8257207537119648\n"
     ]
    }
   ],
   "source": [
    "# calculate accuracy of class predictions\n",
    "print(metrics.accuracy_score(y_test, y_pred_class))"
   ]
  },
  {
   "cell_type": "code",
   "execution_count": 28,
   "metadata": {},
   "outputs": [
    {
     "name": "stdout",
     "output_type": "stream",
     "text": [
      "              precision    recall  f1-score   support\n",
      "\n",
      "           0       0.95      0.89      0.92     16804\n",
      "           1       0.73      0.72      0.73      7300\n",
      "           2       0.65      0.77      0.71      5934\n",
      "\n",
      "    accuracy                           0.83     30038\n",
      "   macro avg       0.78      0.79      0.78     30038\n",
      "weighted avg       0.84      0.83      0.83     30038\n",
      "\n"
     ]
    }
   ],
   "source": [
    "# calculate precision and recall\n",
    "print(classification_report(y_test, y_pred_class))"
   ]
  },
  {
   "cell_type": "code",
   "execution_count": 29,
   "metadata": {},
   "outputs": [
    {
     "name": "stdout",
     "output_type": "stream",
     "text": [
      "[[14941   820  1043]\n",
      " [  626  5277  1397]\n",
      " [  239  1110  4585]]\n"
     ]
    }
   ],
   "source": [
    "# calculate the confusion matrix\n",
    "print(metrics.confusion_matrix(y_test, y_pred_class))"
   ]
  },
  {
   "cell_type": "markdown",
   "metadata": {},
   "source": [
    "### b) Logistic Regression"
   ]
  },
  {
   "cell_type": "code",
   "execution_count": 30,
   "metadata": {},
   "outputs": [],
   "source": [
    "# instantiate a logistic regression model\n",
    "logreg = LogisticRegression(max_iter=1000)"
   ]
  },
  {
   "cell_type": "code",
   "execution_count": 31,
   "metadata": {},
   "outputs": [
    {
     "name": "stdout",
     "output_type": "stream",
     "text": [
      "CPU times: user 10min 46s, sys: 2min 52s, total: 13min 39s\n",
      "Wall time: 2min 52s\n"
     ]
    },
    {
     "name": "stderr",
     "output_type": "stream",
     "text": [
      "/Users/stephenstark/opt/anaconda3/lib/python3.7/site-packages/sklearn/linear_model/_logistic.py:940: ConvergenceWarning: lbfgs failed to converge (status=1):\n",
      "STOP: TOTAL NO. of ITERATIONS REACHED LIMIT.\n",
      "\n",
      "Increase the number of iterations (max_iter) or scale the data as shown in:\n",
      "    https://scikit-learn.org/stable/modules/preprocessing.html\n",
      "Please also refer to the documentation for alternative solver options:\n",
      "    https://scikit-learn.org/stable/modules/linear_model.html#logistic-regression\n",
      "  extra_warning_msg=_LOGISTIC_SOLVER_CONVERGENCE_MSG)\n"
     ]
    },
    {
     "data": {
      "text/plain": [
       "LogisticRegression(C=1.0, class_weight=None, dual=False, fit_intercept=True,\n",
       "                   intercept_scaling=1, l1_ratio=None, max_iter=1000,\n",
       "                   multi_class='auto', n_jobs=None, penalty='l2',\n",
       "                   random_state=None, solver='lbfgs', tol=0.0001, verbose=0,\n",
       "                   warm_start=False)"
      ]
     },
     "execution_count": 31,
     "metadata": {},
     "output_type": "execute_result"
    }
   ],
   "source": [
    "# train the model using X_train_dtm\n",
    "%time logreg.fit(X_train_dtm, y_train)"
   ]
  },
  {
   "cell_type": "code",
   "execution_count": 32,
   "metadata": {},
   "outputs": [],
   "source": [
    "# make class predictions for X_test_dtm\n",
    "y_pred_class = logreg.predict(X_test_dtm)\n",
    "y_pred_class_train = logreg.predict(X_train_dtm)"
   ]
  },
  {
   "cell_type": "code",
   "execution_count": 33,
   "metadata": {},
   "outputs": [
    {
     "name": "stdout",
     "output_type": "stream",
     "text": [
      "0.9241627272121978\n"
     ]
    }
   ],
   "source": [
    "# calculate accuracy of class predictions\n",
    "print(metrics.accuracy_score(y_test, y_pred_class))"
   ]
  },
  {
   "cell_type": "code",
   "execution_count": 34,
   "metadata": {},
   "outputs": [
    {
     "name": "stdout",
     "output_type": "stream",
     "text": [
      "              precision    recall  f1-score   support\n",
      "\n",
      "           0       0.97      0.99      0.98     16804\n",
      "           1       0.88      0.84      0.86      7300\n",
      "           2       0.86      0.85      0.85      5934\n",
      "\n",
      "    accuracy                           0.92     30038\n",
      "   macro avg       0.90      0.89      0.90     30038\n",
      "weighted avg       0.92      0.92      0.92     30038\n",
      "\n",
      "              precision    recall  f1-score   support\n",
      "\n",
      "           0       0.98      1.00      0.99     67211\n",
      "           1       0.96      0.93      0.95     29200\n",
      "           2       0.95      0.94      0.95     23737\n",
      "\n",
      "    accuracy                           0.97    120148\n",
      "   macro avg       0.96      0.96      0.96    120148\n",
      "weighted avg       0.97      0.97      0.97    120148\n",
      "\n"
     ]
    }
   ],
   "source": [
    "# calculate precision and recall\n",
    "print(classification_report(y_test, y_pred_class))\n",
    "print(classification_report(y_train, y_pred_class_train))"
   ]
  },
  {
   "cell_type": "code",
   "execution_count": 35,
   "metadata": {},
   "outputs": [
    {
     "name": "stdout",
     "output_type": "stream",
     "text": [
      "[[16613   118    73]\n",
      " [  403  6119   778]\n",
      " [  188   718  5028]]\n"
     ]
    }
   ],
   "source": [
    "# calculate the confusion matrix\n",
    "print(metrics.confusion_matrix(y_test, y_pred_class))"
   ]
  },
  {
   "cell_type": "markdown",
   "metadata": {},
   "source": [
    "### c) Support Vector Machine"
   ]
  },
  {
   "cell_type": "code",
   "execution_count": 36,
   "metadata": {},
   "outputs": [],
   "source": [
    "# instantiate a SVM model\n",
    "svm = SGDClassifier(max_iter=100, tol=None)"
   ]
  },
  {
   "cell_type": "code",
   "execution_count": 37,
   "metadata": {},
   "outputs": [
    {
     "name": "stdout",
     "output_type": "stream",
     "text": [
      "CPU times: user 9.9 s, sys: 177 ms, total: 10.1 s\n",
      "Wall time: 9.3 s\n"
     ]
    },
    {
     "data": {
      "text/plain": [
       "SGDClassifier(alpha=0.0001, average=False, class_weight=None,\n",
       "              early_stopping=False, epsilon=0.1, eta0=0.0, fit_intercept=True,\n",
       "              l1_ratio=0.15, learning_rate='optimal', loss='hinge',\n",
       "              max_iter=100, n_iter_no_change=5, n_jobs=None, penalty='l2',\n",
       "              power_t=0.5, random_state=None, shuffle=True, tol=None,\n",
       "              validation_fraction=0.1, verbose=0, warm_start=False)"
      ]
     },
     "execution_count": 37,
     "metadata": {},
     "output_type": "execute_result"
    }
   ],
   "source": [
    "# train the model using X_train_dtm\n",
    "%time svm.fit(X_train_dtm, y_train)"
   ]
  },
  {
   "cell_type": "code",
   "execution_count": 38,
   "metadata": {},
   "outputs": [],
   "source": [
    "# make class predictions for X_test_dtm\n",
    "y_pred_class = svm.predict(X_test_dtm)"
   ]
  },
  {
   "cell_type": "code",
   "execution_count": 39,
   "metadata": {},
   "outputs": [
    {
     "name": "stdout",
     "output_type": "stream",
     "text": [
      "0.916938544510287\n"
     ]
    }
   ],
   "source": [
    "# calculate accuracy of class predictions\n",
    "print(metrics.accuracy_score(y_test, y_pred_class))"
   ]
  },
  {
   "cell_type": "code",
   "execution_count": 40,
   "metadata": {},
   "outputs": [
    {
     "name": "stdout",
     "output_type": "stream",
     "text": [
      "              precision    recall  f1-score   support\n",
      "\n",
      "           0       0.95      0.99      0.97     16804\n",
      "           1       0.88      0.82      0.85      7300\n",
      "           2       0.86      0.85      0.85      5934\n",
      "\n",
      "    accuracy                           0.92     30038\n",
      "   macro avg       0.90      0.88      0.89     30038\n",
      "weighted avg       0.92      0.92      0.92     30038\n",
      "\n"
     ]
    }
   ],
   "source": [
    "# calculate precision and recall\n",
    "print(classification_report(y_test, y_pred_class))"
   ]
  },
  {
   "cell_type": "code",
   "execution_count": 41,
   "metadata": {},
   "outputs": [
    {
     "name": "stdout",
     "output_type": "stream",
     "text": [
      "[[16557   150    97]\n",
      " [  590  5966   744]\n",
      " [  239   675  5020]]\n"
     ]
    }
   ],
   "source": [
    "# calculate the confusion matrix\n",
    "print(metrics.confusion_matrix(y_test, y_pred_class))"
   ]
  },
  {
   "cell_type": "markdown",
   "metadata": {},
   "source": [
    "### 6. Improve Model Performance (for best performing model)\n",
    "* Remove stopwords\n",
    "* Include n-grams\n",
    "* Limit min & max document frequencies\n",
    "\n"
   ]
  },
  {
   "cell_type": "code",
   "execution_count": 42,
   "metadata": {},
   "outputs": [
    {
     "data": {
      "text/plain": [
       "CountVectorizer(analyzer='word', binary=False, decode_error='strict',\n",
       "                dtype=<class 'numpy.int64'>, encoding='utf-8', input='content',\n",
       "                lowercase=True, max_df=1.0, max_features=None, min_df=1,\n",
       "                ngram_range=(1, 1), preprocessor=None, stop_words=None,\n",
       "                strip_accents=None, token_pattern='(?u)\\\\b\\\\w\\\\w+\\\\b',\n",
       "                tokenizer=None, vocabulary=None)"
      ]
     },
     "execution_count": 42,
     "metadata": {},
     "output_type": "execute_result"
    }
   ],
   "source": [
    "#default parameters for countvectorizer model\n",
    "CountVectorizer()"
   ]
  },
  {
   "cell_type": "code",
   "execution_count": 43,
   "metadata": {},
   "outputs": [],
   "source": [
    "# remove English stop words\n",
    "vect_optimized = CountVectorizer(stop_words='english',\n",
    "                                 lowercase=True,\n",
    "                                 ngram_range=(1,4), \n",
    "                                 min_df=0.1, \n",
    "                                 max_df=0.2)\n",
    "\n"
   ]
  },
  {
   "cell_type": "code",
   "execution_count": 44,
   "metadata": {},
   "outputs": [
    {
     "data": {
      "text/html": [
       "<div>\n",
       "<style scoped>\n",
       "    .dataframe tbody tr th:only-of-type {\n",
       "        vertical-align: middle;\n",
       "    }\n",
       "\n",
       "    .dataframe tbody tr th {\n",
       "        vertical-align: top;\n",
       "    }\n",
       "\n",
       "    .dataframe thead th {\n",
       "        text-align: right;\n",
       "    }\n",
       "</style>\n",
       "<table border=\"1\" class=\"dataframe\">\n",
       "  <thead>\n",
       "    <tr style=\"text-align: right;\">\n",
       "      <th></th>\n",
       "      <th>area instructed</th>\n",
       "      <th>basement</th>\n",
       "      <th>broken</th>\n",
       "      <th>buildup</th>\n",
       "      <th>ceiling tiles</th>\n",
       "      <th>ceilings</th>\n",
       "      <th>chicago</th>\n",
       "      <th>citation</th>\n",
       "      <th>citation issued</th>\n",
       "      <th>clean floors</th>\n",
       "      <th>...</th>\n",
       "      <th>toilet</th>\n",
       "      <th>use</th>\n",
       "      <th>used</th>\n",
       "      <th>utensils</th>\n",
       "      <th>utensils shall</th>\n",
       "      <th>ventilation</th>\n",
       "      <th>walk</th>\n",
       "      <th>walkin</th>\n",
       "      <th>washing</th>\n",
       "      <th>washroom</th>\n",
       "    </tr>\n",
       "  </thead>\n",
       "  <tbody>\n",
       "    <tr>\n",
       "      <th>0</th>\n",
       "      <td>1</td>\n",
       "      <td>0</td>\n",
       "      <td>0</td>\n",
       "      <td>0</td>\n",
       "      <td>0</td>\n",
       "      <td>0</td>\n",
       "      <td>0</td>\n",
       "      <td>0</td>\n",
       "      <td>0</td>\n",
       "      <td>0</td>\n",
       "      <td>...</td>\n",
       "      <td>0</td>\n",
       "      <td>0</td>\n",
       "      <td>0</td>\n",
       "      <td>0</td>\n",
       "      <td>0</td>\n",
       "      <td>0</td>\n",
       "      <td>0</td>\n",
       "      <td>0</td>\n",
       "      <td>0</td>\n",
       "      <td>0</td>\n",
       "    </tr>\n",
       "    <tr>\n",
       "      <th>1</th>\n",
       "      <td>0</td>\n",
       "      <td>0</td>\n",
       "      <td>0</td>\n",
       "      <td>0</td>\n",
       "      <td>0</td>\n",
       "      <td>0</td>\n",
       "      <td>0</td>\n",
       "      <td>0</td>\n",
       "      <td>0</td>\n",
       "      <td>0</td>\n",
       "      <td>...</td>\n",
       "      <td>0</td>\n",
       "      <td>0</td>\n",
       "      <td>0</td>\n",
       "      <td>1</td>\n",
       "      <td>1</td>\n",
       "      <td>0</td>\n",
       "      <td>0</td>\n",
       "      <td>0</td>\n",
       "      <td>0</td>\n",
       "      <td>0</td>\n",
       "    </tr>\n",
       "    <tr>\n",
       "      <th>2</th>\n",
       "      <td>0</td>\n",
       "      <td>0</td>\n",
       "      <td>0</td>\n",
       "      <td>0</td>\n",
       "      <td>0</td>\n",
       "      <td>0</td>\n",
       "      <td>0</td>\n",
       "      <td>0</td>\n",
       "      <td>0</td>\n",
       "      <td>1</td>\n",
       "      <td>...</td>\n",
       "      <td>0</td>\n",
       "      <td>0</td>\n",
       "      <td>1</td>\n",
       "      <td>0</td>\n",
       "      <td>0</td>\n",
       "      <td>0</td>\n",
       "      <td>0</td>\n",
       "      <td>1</td>\n",
       "      <td>0</td>\n",
       "      <td>0</td>\n",
       "    </tr>\n",
       "    <tr>\n",
       "      <th>3</th>\n",
       "      <td>0</td>\n",
       "      <td>0</td>\n",
       "      <td>0</td>\n",
       "      <td>0</td>\n",
       "      <td>0</td>\n",
       "      <td>0</td>\n",
       "      <td>1</td>\n",
       "      <td>0</td>\n",
       "      <td>0</td>\n",
       "      <td>0</td>\n",
       "      <td>...</td>\n",
       "      <td>0</td>\n",
       "      <td>0</td>\n",
       "      <td>0</td>\n",
       "      <td>3</td>\n",
       "      <td>2</td>\n",
       "      <td>1</td>\n",
       "      <td>0</td>\n",
       "      <td>0</td>\n",
       "      <td>0</td>\n",
       "      <td>0</td>\n",
       "    </tr>\n",
       "    <tr>\n",
       "      <th>4</th>\n",
       "      <td>0</td>\n",
       "      <td>0</td>\n",
       "      <td>0</td>\n",
       "      <td>0</td>\n",
       "      <td>0</td>\n",
       "      <td>0</td>\n",
       "      <td>0</td>\n",
       "      <td>0</td>\n",
       "      <td>0</td>\n",
       "      <td>0</td>\n",
       "      <td>...</td>\n",
       "      <td>0</td>\n",
       "      <td>0</td>\n",
       "      <td>0</td>\n",
       "      <td>0</td>\n",
       "      <td>0</td>\n",
       "      <td>0</td>\n",
       "      <td>1</td>\n",
       "      <td>0</td>\n",
       "      <td>0</td>\n",
       "      <td>0</td>\n",
       "    </tr>\n",
       "    <tr>\n",
       "      <th>...</th>\n",
       "      <td>...</td>\n",
       "      <td>...</td>\n",
       "      <td>...</td>\n",
       "      <td>...</td>\n",
       "      <td>...</td>\n",
       "      <td>...</td>\n",
       "      <td>...</td>\n",
       "      <td>...</td>\n",
       "      <td>...</td>\n",
       "      <td>...</td>\n",
       "      <td>...</td>\n",
       "      <td>...</td>\n",
       "      <td>...</td>\n",
       "      <td>...</td>\n",
       "      <td>...</td>\n",
       "      <td>...</td>\n",
       "      <td>...</td>\n",
       "      <td>...</td>\n",
       "      <td>...</td>\n",
       "      <td>...</td>\n",
       "      <td>...</td>\n",
       "    </tr>\n",
       "    <tr>\n",
       "      <th>120143</th>\n",
       "      <td>0</td>\n",
       "      <td>0</td>\n",
       "      <td>0</td>\n",
       "      <td>1</td>\n",
       "      <td>0</td>\n",
       "      <td>0</td>\n",
       "      <td>0</td>\n",
       "      <td>0</td>\n",
       "      <td>0</td>\n",
       "      <td>1</td>\n",
       "      <td>...</td>\n",
       "      <td>0</td>\n",
       "      <td>0</td>\n",
       "      <td>0</td>\n",
       "      <td>0</td>\n",
       "      <td>0</td>\n",
       "      <td>0</td>\n",
       "      <td>0</td>\n",
       "      <td>0</td>\n",
       "      <td>0</td>\n",
       "      <td>0</td>\n",
       "    </tr>\n",
       "    <tr>\n",
       "      <th>120144</th>\n",
       "      <td>0</td>\n",
       "      <td>0</td>\n",
       "      <td>0</td>\n",
       "      <td>0</td>\n",
       "      <td>0</td>\n",
       "      <td>0</td>\n",
       "      <td>0</td>\n",
       "      <td>0</td>\n",
       "      <td>0</td>\n",
       "      <td>0</td>\n",
       "      <td>...</td>\n",
       "      <td>1</td>\n",
       "      <td>2</td>\n",
       "      <td>0</td>\n",
       "      <td>2</td>\n",
       "      <td>0</td>\n",
       "      <td>0</td>\n",
       "      <td>0</td>\n",
       "      <td>0</td>\n",
       "      <td>0</td>\n",
       "      <td>0</td>\n",
       "    </tr>\n",
       "    <tr>\n",
       "      <th>120145</th>\n",
       "      <td>0</td>\n",
       "      <td>0</td>\n",
       "      <td>0</td>\n",
       "      <td>0</td>\n",
       "      <td>2</td>\n",
       "      <td>0</td>\n",
       "      <td>0</td>\n",
       "      <td>0</td>\n",
       "      <td>0</td>\n",
       "      <td>0</td>\n",
       "      <td>...</td>\n",
       "      <td>0</td>\n",
       "      <td>0</td>\n",
       "      <td>0</td>\n",
       "      <td>1</td>\n",
       "      <td>0</td>\n",
       "      <td>1</td>\n",
       "      <td>0</td>\n",
       "      <td>0</td>\n",
       "      <td>0</td>\n",
       "      <td>0</td>\n",
       "    </tr>\n",
       "    <tr>\n",
       "      <th>120146</th>\n",
       "      <td>0</td>\n",
       "      <td>0</td>\n",
       "      <td>0</td>\n",
       "      <td>0</td>\n",
       "      <td>0</td>\n",
       "      <td>0</td>\n",
       "      <td>0</td>\n",
       "      <td>0</td>\n",
       "      <td>0</td>\n",
       "      <td>0</td>\n",
       "      <td>...</td>\n",
       "      <td>0</td>\n",
       "      <td>0</td>\n",
       "      <td>0</td>\n",
       "      <td>0</td>\n",
       "      <td>0</td>\n",
       "      <td>0</td>\n",
       "      <td>0</td>\n",
       "      <td>0</td>\n",
       "      <td>0</td>\n",
       "      <td>0</td>\n",
       "    </tr>\n",
       "    <tr>\n",
       "      <th>120147</th>\n",
       "      <td>0</td>\n",
       "      <td>0</td>\n",
       "      <td>0</td>\n",
       "      <td>0</td>\n",
       "      <td>0</td>\n",
       "      <td>0</td>\n",
       "      <td>0</td>\n",
       "      <td>0</td>\n",
       "      <td>0</td>\n",
       "      <td>0</td>\n",
       "      <td>...</td>\n",
       "      <td>0</td>\n",
       "      <td>0</td>\n",
       "      <td>0</td>\n",
       "      <td>0</td>\n",
       "      <td>0</td>\n",
       "      <td>0</td>\n",
       "      <td>1</td>\n",
       "      <td>0</td>\n",
       "      <td>0</td>\n",
       "      <td>0</td>\n",
       "    </tr>\n",
       "  </tbody>\n",
       "</table>\n",
       "<p>120148 rows × 99 columns</p>\n",
       "</div>"
      ],
      "text/plain": [
       "        area instructed  basement  broken  buildup  ceiling tiles  ceilings  \\\n",
       "0                     1         0       0        0              0         0   \n",
       "1                     0         0       0        0              0         0   \n",
       "2                     0         0       0        0              0         0   \n",
       "3                     0         0       0        0              0         0   \n",
       "4                     0         0       0        0              0         0   \n",
       "...                 ...       ...     ...      ...            ...       ...   \n",
       "120143                0         0       0        1              0         0   \n",
       "120144                0         0       0        0              0         0   \n",
       "120145                0         0       0        0              2         0   \n",
       "120146                0         0       0        0              0         0   \n",
       "120147                0         0       0        0              0         0   \n",
       "\n",
       "        chicago  citation  citation issued  clean floors  ...  toilet  use  \\\n",
       "0             0         0                0             0  ...       0    0   \n",
       "1             0         0                0             0  ...       0    0   \n",
       "2             0         0                0             1  ...       0    0   \n",
       "3             1         0                0             0  ...       0    0   \n",
       "4             0         0                0             0  ...       0    0   \n",
       "...         ...       ...              ...           ...  ...     ...  ...   \n",
       "120143        0         0                0             1  ...       0    0   \n",
       "120144        0         0                0             0  ...       1    2   \n",
       "120145        0         0                0             0  ...       0    0   \n",
       "120146        0         0                0             0  ...       0    0   \n",
       "120147        0         0                0             0  ...       0    0   \n",
       "\n",
       "        used  utensils  utensils shall  ventilation  walk  walkin  washing  \\\n",
       "0          0         0               0            0     0       0        0   \n",
       "1          0         1               1            0     0       0        0   \n",
       "2          1         0               0            0     0       1        0   \n",
       "3          0         3               2            1     0       0        0   \n",
       "4          0         0               0            0     1       0        0   \n",
       "...      ...       ...             ...          ...   ...     ...      ...   \n",
       "120143     0         0               0            0     0       0        0   \n",
       "120144     0         2               0            0     0       0        0   \n",
       "120145     0         1               0            1     0       0        0   \n",
       "120146     0         0               0            0     0       0        0   \n",
       "120147     0         0               0            0     1       0        0   \n",
       "\n",
       "        washroom  \n",
       "0              0  \n",
       "1              0  \n",
       "2              0  \n",
       "3              0  \n",
       "4              0  \n",
       "...          ...  \n",
       "120143         0  \n",
       "120144         0  \n",
       "120145         0  \n",
       "120146         0  \n",
       "120147         0  \n",
       "\n",
       "[120148 rows x 99 columns]"
      ]
     },
     "execution_count": 44,
     "metadata": {},
     "output_type": "execute_result"
    }
   ],
   "source": [
    "countvectorizer_matrix = vect_optimized.fit_transform(X_train)\n",
    "countvectorizer_matrix_df = pd.DataFrame(countvectorizer_matrix.toarray(), columns=vect_optimized.get_feature_names())\n",
    "countvectorizer_matrix_df"
   ]
  },
  {
   "cell_type": "code",
   "execution_count": 45,
   "metadata": {},
   "outputs": [],
   "source": [
    "# equivalently: combine fit and transform into a single step\n",
    "X_train_dtm = vect_optimized.fit_transform(X_train)\n",
    "X_test_dtm = vect_optimized.transform(X_test)\n"
   ]
  },
  {
   "cell_type": "code",
   "execution_count": 46,
   "metadata": {},
   "outputs": [
    {
     "name": "stdout",
     "output_type": "stream",
     "text": [
      "CPU times: user 13 s, sys: 75.2 ms, total: 13.1 s\n",
      "Wall time: 13.3 s\n",
      "0.8385711432185898\n"
     ]
    }
   ],
   "source": [
    "#Logistitc Regression\n",
    "model = LogisticRegression(max_iter=500)\n",
    "%time model.fit(X_train_dtm, y_train)\n",
    "\n",
    "# make class predictions for X_test_dtm\n",
    "y_pred_class = model.predict(X_test_dtm)\n",
    "\n",
    "# calculate accuracy of class predictions\n",
    "print(metrics.accuracy_score(y_test, y_pred_class))"
   ]
  },
  {
   "cell_type": "code",
   "execution_count": 47,
   "metadata": {},
   "outputs": [
    {
     "name": "stdout",
     "output_type": "stream",
     "text": [
      "              precision    recall  f1-score   support\n",
      "\n",
      "           0       0.89      0.98      0.93     16804\n",
      "           1       0.77      0.62      0.68      7300\n",
      "           2       0.76      0.72      0.74      5934\n",
      "\n",
      "    accuracy                           0.84     30038\n",
      "   macro avg       0.80      0.77      0.78     30038\n",
      "weighted avg       0.83      0.84      0.83     30038\n",
      "\n"
     ]
    }
   ],
   "source": [
    "# calculate precision and recall\n",
    "print(classification_report(y_test, y_pred_class))"
   ]
  },
  {
   "cell_type": "code",
   "execution_count": 48,
   "metadata": {},
   "outputs": [
    {
     "name": "stdout",
     "output_type": "stream",
     "text": [
      "              precision    recall  f1-score   support\n",
      "\n",
      "           0       0.89      0.98      0.93     67211\n",
      "           1       0.77      0.62      0.69     29200\n",
      "           2       0.76      0.72      0.74     23737\n",
      "\n",
      "    accuracy                           0.84    120148\n",
      "   macro avg       0.81      0.77      0.79    120148\n",
      "weighted avg       0.83      0.84      0.83    120148\n",
      "\n"
     ]
    }
   ],
   "source": [
    "#Check for over fitting\n",
    "y_pred_class_train = model.predict(X_train_dtm)\n",
    "print(classification_report(y_train, y_pred_class_train))"
   ]
  },
  {
   "cell_type": "code",
   "execution_count": 49,
   "metadata": {},
   "outputs": [
    {
     "data": {
      "text/plain": [
       "Text(69.0, 0.5, 'Actual')"
      ]
     },
     "execution_count": 49,
     "metadata": {},
     "output_type": "execute_result"
    },
    {
     "data": {
      "image/png": "[encoded data removed]",
      "text/plain": [
       "<Figure size 720x504 with 2 Axes>"
      ]
     },
     "metadata": {
      "needs_background": "light"
     },
     "output_type": "display_data"
    }
   ],
   "source": [
    "cnf_matrix_test = confusion_matrix (y_test, y_pred_class)\n",
    "\n",
    "import seaborn as sns\n",
    "\n",
    "plt.figure(figsize = (10,7))\n",
    "sns.heatmap(cnf_matrix_test, annot=True, cmap=\"YlGnBu\", fmt='g')\n",
    "plt.xlabel('Predicted')\n",
    "plt.ylabel('Actual')"
   ]
  },
  {
   "cell_type": "markdown",
   "metadata": {},
   "source": [
    "### 7. Troubleshoot"
   ]
  },
  {
   "cell_type": "code",
   "execution_count": 50,
   "metadata": {},
   "outputs": [],
   "source": [
    "X_test_df = pd.DataFrame(X_test)\n",
    "X_test_df.reset_index(inplace=True, drop=True)\n",
    "\n",
    "y_test_df = pd.DataFrame(y_test)\n",
    "y_test_df.reset_index(inplace=True, drop=True)"
   ]
  },
  {
   "cell_type": "code",
   "execution_count": 51,
   "metadata": {},
   "outputs": [],
   "source": [
    "y_pred_prob = model.predict_proba(X_test_dtm)\n",
    "y_pred_class = model.predict(X_test_dtm)"
   ]
  },
  {
   "cell_type": "code",
   "execution_count": 52,
   "metadata": {},
   "outputs": [],
   "source": [
    "y_pred_prob_df = pd.DataFrame(y_pred_prob)\n",
    "y_pred_prob_df.columns = ['0-prob', '1-prob', '2-prob']\n",
    "\n",
    "y_pred_class_df = pd.DataFrame(y_pred_class)\n",
    "y_pred_class_df.columns = ['predicted']"
   ]
  },
  {
   "cell_type": "code",
   "execution_count": 53,
   "metadata": {},
   "outputs": [],
   "source": [
    "results_df = X_test_df.join(y_test_df).join(y_pred_class_df).join(y_pred_prob_df)"
   ]
  },
  {
   "cell_type": "code",
   "execution_count": 54,
   "metadata": {},
   "outputs": [
    {
     "data": {
      "text/plain": [
       "(3324, 6)"
      ]
     },
     "execution_count": 54,
     "metadata": {},
     "output_type": "execute_result"
    }
   ],
   "source": [
    "results_review_df = results_df[(results_df['0-prob'] < 0.6) & (results_df['1-prob'] < 0.6) & (results_df['2-prob'] < 0.6)]\n",
    "results_review_df.shape"
   ]
  },
  {
   "cell_type": "code",
   "execution_count": 55,
   "metadata": {},
   "outputs": [],
   "source": [
    "pd.set_option('display.max_colwidth', 200)"
   ]
  },
  {
   "cell_type": "code",
   "execution_count": 56,
   "metadata": {},
   "outputs": [
    {
     "data": {
      "text/html": [
       "<div>\n",
       "<style scoped>\n",
       "    .dataframe tbody tr th:only-of-type {\n",
       "        vertical-align: middle;\n",
       "    }\n",
       "\n",
       "    .dataframe tbody tr th {\n",
       "        vertical-align: top;\n",
       "    }\n",
       "\n",
       "    .dataframe thead th {\n",
       "        text-align: right;\n",
       "    }\n",
       "</style>\n",
       "<table border=\"1\" class=\"dataframe\">\n",
       "  <thead>\n",
       "    <tr style=\"text-align: right;\">\n",
       "      <th></th>\n",
       "      <th>Violations</th>\n",
       "      <th>Results_Flag</th>\n",
       "      <th>predicted</th>\n",
       "      <th>0-prob</th>\n",
       "      <th>1-prob</th>\n",
       "      <th>2-prob</th>\n",
       "    </tr>\n",
       "  </thead>\n",
       "  <tbody>\n",
       "    <tr>\n",
       "      <th>12</th>\n",
       "      <td>NO VALID CITY OF CHICAGO FOOD SERVICE MANAGER CERTIFICATE POSTED AND NO VALID PROOF OF ENROLLMENT AVAILABLE AT THIS TIME  SERIOUS CITATION ISSUED     MUST SEAL SMALL OPENING ALONG THE BOTTOM OF ...</td>\n",
       "      <td>1</td>\n",
       "      <td>1</td>\n",
       "      <td>3.159360e-02</td>\n",
       "      <td>0.535263</td>\n",
       "      <td>0.433144</td>\n",
       "    </tr>\n",
       "    <tr>\n",
       "      <th>22</th>\n",
       "      <td>THE FOLLOWING PREVIOUS MINOR VIOLATIONS NOTED ON REPORT  STILL NOT CORRECTED  CLEAN THE FOLLOWING INTERIOR CABINETS OF DEEP FRYERS  OVEN EXPOSED WASHBOWL IN EMPLOYEE WASHROOM INTERIORS  EXTERIOR...</td>\n",
       "      <td>1</td>\n",
       "      <td>1</td>\n",
       "      <td>1.269582e-01</td>\n",
       "      <td>0.503785</td>\n",
       "      <td>0.369257</td>\n",
       "    </tr>\n",
       "    <tr>\n",
       "      <th>26</th>\n",
       "      <td>OBSERVED THE FOLLOWING FOODS STORED AT IMPROPER TEMPERATURE IN PREP COOLER SEAFOOD SALAD F CRABMEAT F COOKED FISH F CREAM CHEESE F INSTRUCTED MANAGER TO DISCARD APPROXIMATELY LBS AND  OF FOOD AL...</td>\n",
       "      <td>2</td>\n",
       "      <td>1</td>\n",
       "      <td>4.958360e-14</td>\n",
       "      <td>0.576090</td>\n",
       "      <td>0.423910</td>\n",
       "    </tr>\n",
       "    <tr>\n",
       "      <th>46</th>\n",
       "      <td>NOTED EMPLOYEES PREPPING SANDWICHES MOVING FROM PREP TABLE TO REFRIGERATION UNIT AT THE REAR AND TO THE CASH REGISTRY WHILE CHANGING GLOVES DID NOT OBSERVE EMPLOYEES WASHING HANDS IN BETWEEN INS...</td>\n",
       "      <td>2</td>\n",
       "      <td>1</td>\n",
       "      <td>2.583357e-04</td>\n",
       "      <td>0.502556</td>\n",
       "      <td>0.497185</td>\n",
       "    </tr>\n",
       "    <tr>\n",
       "      <th>57</th>\n",
       "      <td>OBSERVED POOR HYGIENIC PRACTICES BY FOOD HANDLERSOBSERVED MALE FOOD HANDLER WALKING AROUND IN LOBBY AND THEN CAME INTO PREP AREA AND STARTED COOKING AND A FEMALE FOOD HANDLER WAS TOUCHING AND HA...</td>\n",
       "      <td>2</td>\n",
       "      <td>0</td>\n",
       "      <td>3.864483e-01</td>\n",
       "      <td>0.250663</td>\n",
       "      <td>0.362889</td>\n",
       "    </tr>\n",
       "    <tr>\n",
       "      <th>86</th>\n",
       "      <td>LEOBARDO CARDENAS HAS NO CURRENT SANITATION CERTIFICATE POSTED OR AVAILABLE AT THIS TIME OF INSPECTION ONLY HAS A REGISTRATION FORM  ONLY NO RECEIPT CITATION ISSUED     LABEL BULK FOOD CONTAINER...</td>\n",
       "      <td>2</td>\n",
       "      <td>2</td>\n",
       "      <td>3.309864e-02</td>\n",
       "      <td>0.460274</td>\n",
       "      <td>0.506627</td>\n",
       "    </tr>\n",
       "    <tr>\n",
       "      <th>90</th>\n",
       "      <td>FOUND A NONWORKING GLASSWARE MACHINE AT THE BAR AREA NOT IN USE AND NOT PROPERLY SANITIZING AT PPM CHLORINEMACHINE WAS TAGGED AT THIS TIME DO NOT USE MACHINE UNTIL REPAIRED AND CDPH INSPECTS UNI...</td>\n",
       "      <td>2</td>\n",
       "      <td>2</td>\n",
       "      <td>1.526504e-01</td>\n",
       "      <td>0.347723</td>\n",
       "      <td>0.499627</td>\n",
       "    </tr>\n",
       "    <tr>\n",
       "      <th>91</th>\n",
       "      <td>Found potentially hazardous foods sliced tomatoes steak chicken etc without proper labels Must label all prepped potentially hazardous foods with name and date Must maintain same Found bulk food...</td>\n",
       "      <td>0</td>\n",
       "      <td>2</td>\n",
       "      <td>4.016666e-01</td>\n",
       "      <td>0.104585</td>\n",
       "      <td>0.493748</td>\n",
       "    </tr>\n",
       "    <tr>\n",
       "      <th>114</th>\n",
       "      <td>OBSERVED MULTIPLE SPRAY BOTTLES OF CHEMICALS THROUGHOUT FACILITY WITHOUT PROPER LABELS IN COOK LINE NEAR MOP SINK AND AT ND FLOOR BAR MUST PROVIDE LABEL WITH COMMON NAME OF CHEMICAL ON ALL CHEMI...</td>\n",
       "      <td>2</td>\n",
       "      <td>2</td>\n",
       "      <td>7.227539e-02</td>\n",
       "      <td>0.432295</td>\n",
       "      <td>0.495429</td>\n",
       "    </tr>\n",
       "    <tr>\n",
       "      <th>115</th>\n",
       "      <td>ALL STORAGE ROOMS MUST BE PROPERLY ORGANIZED WITH ALL ITEMS ELEVATED  INCHES OFF THE FLOORS ALL AREAS MUST BE ACCESSIBLE FOR CLEANING SERVICING BY PEST CONTROL AND INSPECTION    ICE SCOOPS MUST ...</td>\n",
       "      <td>0</td>\n",
       "      <td>1</td>\n",
       "      <td>2.103451e-01</td>\n",
       "      <td>0.588122</td>\n",
       "      <td>0.201533</td>\n",
       "    </tr>\n",
       "  </tbody>\n",
       "</table>\n",
       "</div>"
      ],
      "text/plain": [
       "                                                                                                                                                                                                  Violations  \\\n",
       "12     NO VALID CITY OF CHICAGO FOOD SERVICE MANAGER CERTIFICATE POSTED AND NO VALID PROOF OF ENROLLMENT AVAILABLE AT THIS TIME  SERIOUS CITATION ISSUED     MUST SEAL SMALL OPENING ALONG THE BOTTOM OF ...   \n",
       "22     THE FOLLOWING PREVIOUS MINOR VIOLATIONS NOTED ON REPORT  STILL NOT CORRECTED  CLEAN THE FOLLOWING INTERIOR CABINETS OF DEEP FRYERS  OVEN EXPOSED WASHBOWL IN EMPLOYEE WASHROOM INTERIORS  EXTERIOR...   \n",
       "26     OBSERVED THE FOLLOWING FOODS STORED AT IMPROPER TEMPERATURE IN PREP COOLER SEAFOOD SALAD F CRABMEAT F COOKED FISH F CREAM CHEESE F INSTRUCTED MANAGER TO DISCARD APPROXIMATELY LBS AND  OF FOOD AL...   \n",
       "46     NOTED EMPLOYEES PREPPING SANDWICHES MOVING FROM PREP TABLE TO REFRIGERATION UNIT AT THE REAR AND TO THE CASH REGISTRY WHILE CHANGING GLOVES DID NOT OBSERVE EMPLOYEES WASHING HANDS IN BETWEEN INS...   \n",
       "57     OBSERVED POOR HYGIENIC PRACTICES BY FOOD HANDLERSOBSERVED MALE FOOD HANDLER WALKING AROUND IN LOBBY AND THEN CAME INTO PREP AREA AND STARTED COOKING AND A FEMALE FOOD HANDLER WAS TOUCHING AND HA...   \n",
       "86     LEOBARDO CARDENAS HAS NO CURRENT SANITATION CERTIFICATE POSTED OR AVAILABLE AT THIS TIME OF INSPECTION ONLY HAS A REGISTRATION FORM  ONLY NO RECEIPT CITATION ISSUED     LABEL BULK FOOD CONTAINER...   \n",
       "90     FOUND A NONWORKING GLASSWARE MACHINE AT THE BAR AREA NOT IN USE AND NOT PROPERLY SANITIZING AT PPM CHLORINEMACHINE WAS TAGGED AT THIS TIME DO NOT USE MACHINE UNTIL REPAIRED AND CDPH INSPECTS UNI...   \n",
       "91     Found potentially hazardous foods sliced tomatoes steak chicken etc without proper labels Must label all prepped potentially hazardous foods with name and date Must maintain same Found bulk food...   \n",
       "114    OBSERVED MULTIPLE SPRAY BOTTLES OF CHEMICALS THROUGHOUT FACILITY WITHOUT PROPER LABELS IN COOK LINE NEAR MOP SINK AND AT ND FLOOR BAR MUST PROVIDE LABEL WITH COMMON NAME OF CHEMICAL ON ALL CHEMI...   \n",
       "115    ALL STORAGE ROOMS MUST BE PROPERLY ORGANIZED WITH ALL ITEMS ELEVATED  INCHES OFF THE FLOORS ALL AREAS MUST BE ACCESSIBLE FOR CLEANING SERVICING BY PEST CONTROL AND INSPECTION    ICE SCOOPS MUST ...   \n",
       "\n",
       "     Results_Flag  predicted        0-prob    1-prob    2-prob  \n",
       "12              1          1  3.159360e-02  0.535263  0.433144  \n",
       "22              1          1  1.269582e-01  0.503785  0.369257  \n",
       "26              2          1  4.958360e-14  0.576090  0.423910  \n",
       "46              2          1  2.583357e-04  0.502556  0.497185  \n",
       "57              2          0  3.864483e-01  0.250663  0.362889  \n",
       "86              2          2  3.309864e-02  0.460274  0.506627  \n",
       "90              2          2  1.526504e-01  0.347723  0.499627  \n",
       "91              0          2  4.016666e-01  0.104585  0.493748  \n",
       "114             2          2  7.227539e-02  0.432295  0.495429  \n",
       "115             0          1  2.103451e-01  0.588122  0.201533  "
      ]
     },
     "execution_count": 56,
     "metadata": {},
     "output_type": "execute_result"
    }
   ],
   "source": [
    "results_review_df.head(10)"
   ]
  },
  {
   "cell_type": "markdown",
   "metadata": {},
   "source": [
    "# Summary\n",
    "I decided to perform a multi-class classification analysis.  I narrowed my dataset to pass, fail, or pass w/ conditions due to the sufficiency of data. It appears the logistic regression had the best performance of the three models I demonstrated above. The original logisitc regression actually performed better than the one I attempted to optimize. It had a test accuracy of 92%.  The model showed slight signs of overfitting as train accuracy was 96%. Precision and recall for test were 92% for each. Precision was 96% for class 0 (pass), 87% for class 1 (fail) and 86% for class 2 (pass w/ conditions). Furthermore we know f-1 scores are the weighted averaged of precision and recall. F1 scores of 98%, 86%, and 85%, for the same classes listed previously. The model clearly is able to accuractely identify pass recommendations but struggles a little more with fail and pass with conditions, which makes sense intuitively. the F1 scores show slightly more signs of overfitting so I would attempt to adjust that in my parameter tuning. This is out of scope for this analysis, but perhaps I would do some sort of grid search or random search to approximate better parameter values.\n",
    "* **Pre-processing** For text pre-processing, I decided that we needed to remove stopwords for this analysis. They are noise and do not contribute to the signal of the prediction. I also removed all the digits as again I believe they were more of a distraction. Also, within CountVectorizer, I included parameters to lowercase all words an\n",
    "* **Train/Test Split** I noticed a considerable class imbalance in the dataset between the three values. I made sure to stratify my sampling in train test split to ensure the train samples and test samples resembled the population of the dataset. Another thing I considered doing but did not as it was out of scope for this analysis was training my model on an equal split data using an under-sampling or oversampling approach. This would give the model a fair chance to fully train each class equally as opposed to seeing more data of the dominate class.\n"
   ]
  },
  {
   "cell_type": "markdown",
   "metadata": {},
   "source": [
    "<a id='end'> </a>"
   ]
  },
  {
   "cell_type": "code",
   "execution_count": null,
   "metadata": {},
   "outputs": [],
   "source": []
  }
 ],
 "metadata": {
  "kernelspec": {
   "display_name": "Python 3",
   "language": "python",
   "name": "python3"
  },
  "language_info": {
   "codemirror_mode": {
    "name": "ipython",
    "version": 3
   },
   "file_extension": ".py",
   "mimetype": "text/x-python",
   "name": "python",
   "nbconvert_exporter": "python",
   "pygments_lexer": "ipython3",
   "version": "3.7.4"
  }
 },
 "nbformat": 4,
 "nbformat_minor": 4
}
