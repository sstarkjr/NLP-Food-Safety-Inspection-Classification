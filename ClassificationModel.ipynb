{
 "cells": [
  {
   "cell_type": "markdown",
   "metadata": {},
   "source": [
    "# Resturant Food Safety Inspection Prediction Using Natual Language Processing"
   ]
  },
  {
   "cell_type": "markdown",
   "metadata": {},
   "source": [
    "references:\n",
    "https://dev.socrata.com/foundry/data.cityofchicago.org/4ijn-s7e5"
   ]
  },
  {
   "cell_type": "markdown",
   "metadata": {},
   "source": [
    "## Summary\n",
    "1. [Objective](#objective)\n",
    "2. [Understanding the Data](#data)\\\n",
    "    2.1 [Dataset Definitions](#dataset)\\\n",
    "    2.2 [Observations](#observations)\\\n",
    "    2.3 [Feature Engineering](#engineering)\n",
    "4. [Model Building](#model)\\\n",
    "    4.1 [Model Overview](#modeloverview)\n",
    "5. [Interpretation of Results](#interpretation)\n",
    "6. [References](#references)\n",
    "\n"
   ]
  },
  {
   "cell_type": "markdown",
   "metadata": {},
   "source": [
    "# 1. Objective\n",
    "<a id='objective'></a>"
   ]
  },
  {
   "cell_type": "markdown",
   "metadata": {},
   "source": [
    "The goal of this notebook is to build a multinomial classification model to predict the outcome of the food safety inspection reports based on the inspectors' comments. I will use from statistical analysis and natural language processing to accomplish this. I will also present the results of the classification model and suggest ways that it could be improved through further analysis.\n",
    "\n",
    "Data provided by the City of Chicago via https://data.cityofchicago.org/ https://data.cityofchicago.org/Health-Human-Services/Food-Inspections/4ijn-s7e5 as of early 2020"
   ]
  },
  {
   "cell_type": "code",
   "execution_count": 52,
   "metadata": {},
   "outputs": [],
   "source": [
    "import sklearn\n",
    "\n",
    "import pandas as pd\n",
    "import numpy as np\n",
    "from matplotlib import pyplot as plt\n",
    "import re\n",
    "import itertools\n",
    "import os\n",
    "import random\n",
    "from datetime import datetime\n",
    "\n",
    "\n",
    "from sklearn.model_selection import train_test_split\n",
    "from sklearn.feature_extraction.text import CountVectorizer, HashingVectorizer, TfidfTransformer, TfidfVectorizer\n",
    "from sklearn.naive_bayes import MultinomialNB\n",
    "from sklearn.metrics import classification_report, confusion_matrix, accuracy_score\n",
    "from sklearn.linear_model import LogisticRegression, SGDClassifier\n",
    "from sklearn import metrics\n",
    "\n",
    "import nltk as nltk\n",
    "import nltk.corpus  \n",
    "from nltk.text import Text\n",
    "\n",
    "import sys\n",
    "\n",
    "pd.options.display.max_rows = 999\n",
    "pd.options.display.max_colwidth = 999\n",
    "pd.options.mode.chained_assignment = None  # default='warn'\n"
   ]
  },
  {
   "cell_type": "markdown",
   "metadata": {},
   "source": [
    "<a id='data'> </a>\n",
    "# 2. Understanding the Data\n"
   ]
  },
  {
   "cell_type": "markdown",
   "metadata": {},
   "source": [
    "<a id='dataset'> </a>\n",
    "## 2.1 Preliminary Data Cleaning"
   ]
  },
  {
   "cell_type": "code",
   "execution_count": 2,
   "metadata": {},
   "outputs": [],
   "source": [
    "#load the data\n",
    "#df = pd.read_csv('../Food_Inspections.csv') #dataframe for modeling\n",
    "#df_clean = df.copy() #cleaned dataframe for miscellaneous\n",
    "#df_viz = df.copy() #dataframe for data viz exports for tableau\n"
   ]
  },
  {
   "cell_type": "code",
   "execution_count": 3,
   "metadata": {},
   "outputs": [],
   "source": [
    "#!/usr/bin/env python\n",
    "\n",
    "# make sure to install these packages before running:\n",
    "# pip install pandas\n",
    "# pip install sodapy\n",
    "\n",
    "import pandas as pd\n",
    "from sodapy import Socrata\n",
    "\n",
    "# Unauthenticated client only works with public data sets. Note 'None'\n",
    "# in place of application token, and no username or password:\n",
    "#client = Socrata(\"data.cityofchicago.org\", None)\n",
    "\n",
    "# Example authenticated client (needed for non-public datasets):\n",
    "MyAppToken = 'KoNWmjvpkvV18BmVoGFCU1oCw'\n",
    "\n",
    "client = Socrata(\"data.cityofchicago.org\",\n",
    "                  MyAppToken)\n",
    "#                  userame=\"user@example.com\",\n",
    " #                 password=\"AFakePassword\")\n",
    "\n",
    "# First 2000 results, returned as JSON from API / converted to Python list of\n",
    "# dictionaries by sodapy.\n",
    "results = client.get(\"4ijn-s7e5\", limit=250000)\n",
    "\n",
    "# Convert to pandas DataFrame\n",
    "results_df = pd.DataFrame.from_records(results)"
   ]
  },
  {
   "cell_type": "code",
   "execution_count": 4,
   "metadata": {},
   "outputs": [
    {
     "data": {
      "text/plain": [
       "(212022, 22)"
      ]
     },
     "execution_count": 4,
     "metadata": {},
     "output_type": "execute_result"
    }
   ],
   "source": [
    "results_df.shape"
   ]
  },
  {
   "cell_type": "code",
   "execution_count": 5,
   "metadata": {},
   "outputs": [
    {
     "data": {
      "text/plain": [
       "Index(['inspection_id', 'dba_name', 'aka_name', 'license_', 'facility_type',\n",
       "       'risk', 'address', 'city', 'state', 'zip', 'inspection_date',\n",
       "       'inspection_type', 'results', 'violations', 'latitude', 'longitude',\n",
       "       'location', ':@computed_region_awaf_s7ux',\n",
       "       ':@computed_region_6mkv_f3dw', ':@computed_region_vrxf_vc4k',\n",
       "       ':@computed_region_bdys_3d7i', ':@computed_region_43wa_7qmu'],\n",
       "      dtype='object')"
      ]
     },
     "execution_count": 5,
     "metadata": {},
     "output_type": "execute_result"
    }
   ],
   "source": [
    "results_df.columns"
   ]
  },
  {
   "cell_type": "code",
   "execution_count": 6,
   "metadata": {},
   "outputs": [],
   "source": [
    "#drop extra columns from import\n",
    "df = results_df.drop([':@computed_region_awaf_s7ux',\n",
    "                 ':@computed_region_6mkv_f3dw',\n",
    "                 ':@computed_region_vrxf_vc4k',\n",
    "                 ':@computed_region_bdys_3d7i',\n",
    "                 ':@computed_region_43wa_7qmu'], axis=1)"
   ]
  },
  {
   "cell_type": "code",
   "execution_count": 7,
   "metadata": {},
   "outputs": [
    {
     "data": {
      "text/plain": [
       "inspection_id      object\n",
       "dba_name           object\n",
       "aka_name           object\n",
       "license_           object\n",
       "facility_type      object\n",
       "risk               object\n",
       "address            object\n",
       "city               object\n",
       "state              object\n",
       "zip                object\n",
       "inspection_date    object\n",
       "inspection_type    object\n",
       "results            object\n",
       "violations         object\n",
       "latitude           object\n",
       "longitude          object\n",
       "location           object\n",
       "dtype: object"
      ]
     },
     "execution_count": 7,
     "metadata": {},
     "output_type": "execute_result"
    }
   ],
   "source": [
    "df.dtypes"
   ]
  },
  {
   "cell_type": "code",
   "execution_count": 8,
   "metadata": {},
   "outputs": [
    {
     "name": "stdout",
     "output_type": "stream",
     "text": [
      "(212022, 17)\n",
      "<class 'pandas.core.frame.DataFrame'>\n",
      "RangeIndex: 212022 entries, 0 to 212021\n",
      "Data columns (total 17 columns):\n",
      "inspection_id      212022 non-null object\n",
      "dba_name           212022 non-null object\n",
      "aka_name           209540 non-null object\n",
      "license_           212005 non-null object\n",
      "facility_type      207142 non-null object\n",
      "risk               211950 non-null object\n",
      "address            212022 non-null object\n",
      "city               211868 non-null object\n",
      "state              211974 non-null object\n",
      "zip                211970 non-null object\n",
      "inspection_date    212022 non-null object\n",
      "inspection_type    212021 non-null object\n",
      "results            212022 non-null object\n",
      "violations         155625 non-null object\n",
      "latitude           504 non-null object\n",
      "longitude          504 non-null object\n",
      "location           504 non-null object\n",
      "dtypes: object(17)\n",
      "memory usage: 27.5+ MB\n"
     ]
    }
   ],
   "source": [
    "print(df.shape)\n",
    "df.info()"
   ]
  },
  {
   "cell_type": "code",
   "execution_count": 9,
   "metadata": {},
   "outputs": [
    {
     "data": {
      "text/plain": [
       "inspection_id           0\n",
       "dba_name                0\n",
       "aka_name             2482\n",
       "license_               17\n",
       "facility_type        4880\n",
       "risk                   72\n",
       "address                 0\n",
       "city                  154\n",
       "state                  48\n",
       "zip                    52\n",
       "inspection_date         0\n",
       "inspection_type         1\n",
       "results                 0\n",
       "violations          56397\n",
       "latitude           211518\n",
       "longitude          211518\n",
       "location           211518\n",
       "dtype: int64"
      ]
     },
     "execution_count": 9,
     "metadata": {},
     "output_type": "execute_result"
    }
   ],
   "source": [
    "df.isna().sum()"
   ]
  },
  {
   "cell_type": "markdown",
   "metadata": {},
   "source": [
    "It appears that we have some incorrect data types and also some missing data. I'll inspect the data column by column"
   ]
  },
  {
   "cell_type": "markdown",
   "metadata": {},
   "source": [
    "**inspection_id**"
   ]
  },
  {
   "cell_type": "code",
   "execution_count": 10,
   "metadata": {},
   "outputs": [
    {
     "data": {
      "text/plain": [
       "0"
      ]
     },
     "execution_count": 10,
     "metadata": {},
     "output_type": "execute_result"
    }
   ],
   "source": [
    "df['inspection_id'].isna().sum()"
   ]
  },
  {
   "cell_type": "code",
   "execution_count": 11,
   "metadata": {},
   "outputs": [
    {
     "data": {
      "text/plain": [
       "211138      63234\n",
       "92494     1609612\n",
       "118625    1497810\n",
       "140910    1188728\n",
       "98021     1516578\n",
       "Name: inspection_id, dtype: object"
      ]
     },
     "execution_count": 11,
     "metadata": {},
     "output_type": "execute_result"
    }
   ],
   "source": [
    "df['inspection_id'].sample(n=5)"
   ]
  },
  {
   "cell_type": "markdown",
   "metadata": {},
   "source": [
    "**dba_name**"
   ]
  },
  {
   "cell_type": "code",
   "execution_count": 12,
   "metadata": {},
   "outputs": [
    {
     "data": {
      "text/plain": [
       "0"
      ]
     },
     "execution_count": 12,
     "metadata": {},
     "output_type": "execute_result"
    }
   ],
   "source": [
    "df['dba_name'].isna().sum()"
   ]
  },
  {
   "cell_type": "code",
   "execution_count": 13,
   "metadata": {},
   "outputs": [
    {
     "data": {
      "text/plain": [
       "171163                  CONTE'S PIZZA\n",
       "57930     HYDERABAD KABAB CORNER INC.\n",
       "74811                   SLICE FACTORY\n",
       "177877         STUART G. FERST SCHOOL\n",
       "196300      NEA AGORA PACKING COMPANY\n",
       "Name: dba_name, dtype: object"
      ]
     },
     "execution_count": 13,
     "metadata": {},
     "output_type": "execute_result"
    }
   ],
   "source": [
    "df['dba_name'].sample(n=5)"
   ]
  },
  {
   "cell_type": "markdown",
   "metadata": {},
   "source": [
    "**aka_name**"
   ]
  },
  {
   "cell_type": "code",
   "execution_count": 14,
   "metadata": {},
   "outputs": [
    {
     "data": {
      "text/plain": [
       "2482"
      ]
     },
     "execution_count": 14,
     "metadata": {},
     "output_type": "execute_result"
    }
   ],
   "source": [
    "df['aka_name'].isna().sum()"
   ]
  },
  {
   "cell_type": "code",
   "execution_count": 15,
   "metadata": {},
   "outputs": [
    {
     "data": {
      "text/html": [
       "<div>\n",
       "<style scoped>\n",
       "    .dataframe tbody tr th:only-of-type {\n",
       "        vertical-align: middle;\n",
       "    }\n",
       "\n",
       "    .dataframe tbody tr th {\n",
       "        vertical-align: top;\n",
       "    }\n",
       "\n",
       "    .dataframe thead th {\n",
       "        text-align: right;\n",
       "    }\n",
       "</style>\n",
       "<table border=\"1\" class=\"dataframe\">\n",
       "  <thead>\n",
       "    <tr style=\"text-align: right;\">\n",
       "      <th></th>\n",
       "      <th>inspection_id</th>\n",
       "      <th>dba_name</th>\n",
       "      <th>aka_name</th>\n",
       "    </tr>\n",
       "  </thead>\n",
       "  <tbody>\n",
       "    <tr>\n",
       "      <th>41</th>\n",
       "      <td>2453694</td>\n",
       "      <td>CENTERS FOR NEW HORIZONS</td>\n",
       "      <td>NaN</td>\n",
       "    </tr>\n",
       "    <tr>\n",
       "      <th>82</th>\n",
       "      <td>2453552</td>\n",
       "      <td>CLAMP DOWN BURGERS</td>\n",
       "      <td>NaN</td>\n",
       "    </tr>\n",
       "    <tr>\n",
       "      <th>287</th>\n",
       "      <td>2453268</td>\n",
       "      <td>CENTERS FOR NEW HORIZONS</td>\n",
       "      <td>NaN</td>\n",
       "    </tr>\n",
       "    <tr>\n",
       "      <th>786</th>\n",
       "      <td>2401721</td>\n",
       "      <td>BABAS STEAK AND LEMONADE</td>\n",
       "      <td>NaN</td>\n",
       "    </tr>\n",
       "    <tr>\n",
       "      <th>896</th>\n",
       "      <td>2401643</td>\n",
       "      <td>HEALTH FOOD &amp; GROCERIES</td>\n",
       "      <td>NaN</td>\n",
       "    </tr>\n",
       "    <tr>\n",
       "      <th>...</th>\n",
       "      <td>...</td>\n",
       "      <td>...</td>\n",
       "      <td>...</td>\n",
       "    </tr>\n",
       "    <tr>\n",
       "      <th>211938</th>\n",
       "      <td>68254</td>\n",
       "      <td>Eastside Soccer Dome, Inc.</td>\n",
       "      <td>NaN</td>\n",
       "    </tr>\n",
       "    <tr>\n",
       "      <th>211944</th>\n",
       "      <td>78240</td>\n",
       "      <td>OBAMA FOOD MART</td>\n",
       "      <td>NaN</td>\n",
       "    </tr>\n",
       "    <tr>\n",
       "      <th>211958</th>\n",
       "      <td>158243</td>\n",
       "      <td>DUNKIN DONUTS</td>\n",
       "      <td>NaN</td>\n",
       "    </tr>\n",
       "    <tr>\n",
       "      <th>211979</th>\n",
       "      <td>78239</td>\n",
       "      <td>Yahs Cuisine</td>\n",
       "      <td>NaN</td>\n",
       "    </tr>\n",
       "    <tr>\n",
       "      <th>211994</th>\n",
       "      <td>68250</td>\n",
       "      <td>Tots Express Learning Center</td>\n",
       "      <td>NaN</td>\n",
       "    </tr>\n",
       "  </tbody>\n",
       "</table>\n",
       "<p>2482 rows × 3 columns</p>\n",
       "</div>"
      ],
      "text/plain": [
       "       inspection_id                      dba_name aka_name\n",
       "41           2453694      CENTERS FOR NEW HORIZONS      NaN\n",
       "82           2453552            CLAMP DOWN BURGERS      NaN\n",
       "287          2453268      CENTERS FOR NEW HORIZONS      NaN\n",
       "786          2401721      BABAS STEAK AND LEMONADE      NaN\n",
       "896          2401643       HEALTH FOOD & GROCERIES      NaN\n",
       "...              ...                           ...      ...\n",
       "211938         68254    Eastside Soccer Dome, Inc.      NaN\n",
       "211944         78240               OBAMA FOOD MART      NaN\n",
       "211958        158243                 DUNKIN DONUTS      NaN\n",
       "211979         78239                  Yahs Cuisine      NaN\n",
       "211994         68250  Tots Express Learning Center      NaN\n",
       "\n",
       "[2482 rows x 3 columns]"
      ]
     },
     "execution_count": 15,
     "metadata": {},
     "output_type": "execute_result"
    }
   ],
   "source": [
    "#sample of the missing aka_name values\n",
    "df[df['aka_name'].isna()][['inspection_id','dba_name','aka_name']]"
   ]
  },
  {
   "cell_type": "code",
   "execution_count": 16,
   "metadata": {},
   "outputs": [],
   "source": [
    "#fill NaN values with dba_name value\n",
    "df['aka_name'] = df['aka_name'].fillna(df['dba_name'])"
   ]
  },
  {
   "cell_type": "markdown",
   "metadata": {},
   "source": [
    "**license_**"
   ]
  },
  {
   "cell_type": "code",
   "execution_count": 17,
   "metadata": {},
   "outputs": [
    {
     "data": {
      "text/plain": [
       "17"
      ]
     },
     "execution_count": 17,
     "metadata": {},
     "output_type": "execute_result"
    }
   ],
   "source": [
    "df['license_'].isna().sum()"
   ]
  },
  {
   "cell_type": "code",
   "execution_count": 18,
   "metadata": {},
   "outputs": [
    {
     "data": {
      "text/plain": [
       "23463              ST. DEMETRIOS GREEK ORTHODOX CHURCH\n",
       "40003              ST. DEMETRIOS GREEK ORTHODOX CHURCH\n",
       "56994              ST. DEMETRIOS GREEK ORTHODOX CHURCH\n",
       "82504              ST. DEMETRIOS GREEK ORTHODOX CHURCH\n",
       "102429             ST. DEMETRIOS GREEK ORTHODOX CHURCH\n",
       "127779             ST. DEMETRIOS GREEK ORTHODOX CHURCH\n",
       "130312                                 ARGENTINA FOODS\n",
       "145090             ST. DEMETRIOS GREEK ORTHODOX CHURCH\n",
       "164723             ST. DEMETRIOS GREEK ORTHODOX CHURCH\n",
       "168153                        OLD ST. PATRICK'S CHURCH\n",
       "171495                 GOD'S BATTLE AXE PRAYER ACADEMY\n",
       "171730                 GOD'S BATTLE AXE PRAYER ACADEMY\n",
       "173251                 GOD'S BATTLE AXE PRAYER ACADEMY\n",
       "182444             ST. DEMETRIOS GREEK ORTHODOX CHURCH\n",
       "193595    AVALON COMMUNITY CHURCH/FREEDOM HOME ACADEMY\n",
       "201797                             ST DEMETRIOS CHURCH\n",
       "204380                        OLD ST. PATRICK'S CHURCH\n",
       "Name: dba_name, dtype: object"
      ]
     },
     "execution_count": 18,
     "metadata": {},
     "output_type": "execute_result"
    }
   ],
   "source": [
    "#Mostly churches...\n",
    "df[df['license_'].isna()]['dba_name']"
   ]
  },
  {
   "cell_type": "code",
   "execution_count": 19,
   "metadata": {},
   "outputs": [],
   "source": [
    "#fill with \"Not Disclosed\"\n",
    "df['license_'] = df['license_'].fillna('Not Disclosed')"
   ]
  },
  {
   "cell_type": "markdown",
   "metadata": {},
   "source": [
    "**facility_type**"
   ]
  },
  {
   "cell_type": "code",
   "execution_count": 20,
   "metadata": {},
   "outputs": [
    {
     "data": {
      "text/plain": [
       "4880"
      ]
     },
     "execution_count": 20,
     "metadata": {},
     "output_type": "execute_result"
    }
   ],
   "source": [
    "df['facility_type'].isna().sum()"
   ]
  },
  {
   "cell_type": "code",
   "execution_count": 21,
   "metadata": {},
   "outputs": [
    {
     "data": {
      "text/plain": [
       "SUBWAY                          34\n",
       "DUNKIN DONUTS                   20\n",
       "WHITE HEN PANTRY                18\n",
       "7-ELEVEN                        18\n",
       "HAROLD'S CHICKEN SHACK          15\n",
       "TOKYO LUNCH BOXES & CATERING    13\n",
       "KENTUCKY FRIED CHICKEN          12\n",
       "MIDWEST BUDDHIST TEMPLE         11\n",
       "MCDONALD'S                      10\n",
       "MCDONALDS                        8\n",
       "HEAVEN'S LEARNING GARDEN         7\n",
       "SCHLENKO INC.                    7\n",
       "GOLD COAST DOGS                  6\n",
       "COLD STONE CREAMERY              6\n",
       "THUNDERBIRD CATERING             6\n",
       "DEOLA'S                          5\n",
       "CALIFORNIA FOODS                 5\n",
       "MAN-O-SALWA                      5\n",
       "QUIZNOS                          5\n",
       "BELEN                            5\n",
       "Name: dba_name, dtype: int64"
      ]
     },
     "execution_count": 21,
     "metadata": {},
     "output_type": "execute_result"
    }
   ],
   "source": [
    "df[df['facility_type'].isna()]['dba_name'].value_counts().head(20)"
   ]
  },
  {
   "cell_type": "code",
   "execution_count": 22,
   "metadata": {},
   "outputs": [
    {
     "data": {
      "text/plain": [
       "count    4108.000000\n",
       "mean        1.187926\n",
       "std         0.949276\n",
       "min         1.000000\n",
       "25%         1.000000\n",
       "50%         1.000000\n",
       "75%         1.000000\n",
       "max        34.000000\n",
       "Name: dba_name, dtype: float64"
      ]
     },
     "execution_count": 22,
     "metadata": {},
     "output_type": "execute_result"
    }
   ],
   "source": [
    "df[df['facility_type'].isna()]['dba_name'].value_counts().describe()"
   ]
  },
  {
   "cell_type": "code",
   "execution_count": 23,
   "metadata": {},
   "outputs": [
    {
     "data": {
      "text/plain": [
       "Restaurant                         141072\n",
       "Grocery Store                       27738\n",
       "School                              13076\n",
       "Children's Services Facility         3574\n",
       "Bakery                               3095\n",
       "Daycare (2 - 6 Years)                2793\n",
       "Daycare Above and Under 2 Years      2580\n",
       "Long Term Care                       1426\n",
       "Catering                             1278\n",
       "Liquor                                931\n",
       "Mobile Food Dispenser                 883\n",
       "Daycare Combo 1586                    741\n",
       "Mobile Food Preparer                  673\n",
       "Golden Diner                          599\n",
       "Hospital                              592\n",
       "Name: facility_type, dtype: int64"
      ]
     },
     "execution_count": 23,
     "metadata": {},
     "output_type": "execute_result"
    }
   ],
   "source": [
    "df['facility_type'].value_counts().head(15)"
   ]
  },
  {
   "cell_type": "markdown",
   "metadata": {},
   "source": [
    "It's not clear why so many of these facility types are missing. Some of the businesses are obvious (7-Eleven, Quiznos, for instance) but many aren't... For now, I'll fill the NA values with not disclosed\n"
   ]
  },
  {
   "cell_type": "code",
   "execution_count": 24,
   "metadata": {},
   "outputs": [],
   "source": [
    "df['facility_type'] = df['facility_type'].fillna('Not Disclosed')"
   ]
  },
  {
   "cell_type": "markdown",
   "metadata": {},
   "source": [
    "**risk**"
   ]
  },
  {
   "cell_type": "code",
   "execution_count": 25,
   "metadata": {},
   "outputs": [
    {
     "data": {
      "text/plain": [
       "Risk 1 (High)      151563\n",
       "Risk 2 (Medium)     41384\n",
       "Risk 3 (Low)        18972\n",
       "All                    31\n",
       "Name: risk, dtype: int64"
      ]
     },
     "execution_count": 25,
     "metadata": {},
     "output_type": "execute_result"
    }
   ],
   "source": [
    "df['risk'].value_counts()"
   ]
  },
  {
   "cell_type": "code",
   "execution_count": 26,
   "metadata": {},
   "outputs": [
    {
     "data": {
      "text/plain": [
       "72"
      ]
     },
     "execution_count": 26,
     "metadata": {},
     "output_type": "execute_result"
    }
   ],
   "source": [
    "df['risk'].isna().sum()"
   ]
  },
  {
   "cell_type": "code",
   "execution_count": 27,
   "metadata": {},
   "outputs": [
    {
     "data": {
      "text/html": [
       "<div>\n",
       "<style scoped>\n",
       "    .dataframe tbody tr th:only-of-type {\n",
       "        vertical-align: middle;\n",
       "    }\n",
       "\n",
       "    .dataframe tbody tr th {\n",
       "        vertical-align: top;\n",
       "    }\n",
       "\n",
       "    .dataframe thead th {\n",
       "        text-align: right;\n",
       "    }\n",
       "</style>\n",
       "<table border=\"1\" class=\"dataframe\">\n",
       "  <thead>\n",
       "    <tr style=\"text-align: right;\">\n",
       "      <th></th>\n",
       "      <th>inspection_id</th>\n",
       "      <th>dba_name</th>\n",
       "      <th>aka_name</th>\n",
       "      <th>license_</th>\n",
       "      <th>facility_type</th>\n",
       "      <th>risk</th>\n",
       "      <th>address</th>\n",
       "      <th>city</th>\n",
       "      <th>state</th>\n",
       "      <th>zip</th>\n",
       "      <th>inspection_date</th>\n",
       "      <th>inspection_type</th>\n",
       "      <th>results</th>\n",
       "      <th>violations</th>\n",
       "      <th>latitude</th>\n",
       "      <th>longitude</th>\n",
       "      <th>location</th>\n",
       "    </tr>\n",
       "  </thead>\n",
       "  <tbody>\n",
       "    <tr>\n",
       "      <th>65104</th>\n",
       "      <td>2009375</td>\n",
       "      <td>CHICAGO BEST DELI GROCERY,INC</td>\n",
       "      <td>CHICAGO BEST DELI GROCERY,INC</td>\n",
       "      <td>2512074</td>\n",
       "      <td>Not Disclosed</td>\n",
       "      <td>NaN</td>\n",
       "      <td>156-158 W 95TH ST</td>\n",
       "      <td>CHICAGO</td>\n",
       "      <td>IL</td>\n",
       "      <td>60628</td>\n",
       "      <td>2017-03-28T00:00:00.000</td>\n",
       "      <td>License</td>\n",
       "      <td>Not Ready</td>\n",
       "      <td>NaN</td>\n",
       "      <td>NaN</td>\n",
       "      <td>NaN</td>\n",
       "      <td>NaN</td>\n",
       "    </tr>\n",
       "    <tr>\n",
       "      <th>181092</th>\n",
       "      <td>537572</td>\n",
       "      <td>unknown</td>\n",
       "      <td>unknown</td>\n",
       "      <td>0</td>\n",
       "      <td>Not Disclosed</td>\n",
       "      <td>NaN</td>\n",
       "      <td>10222 S wentworth AVE</td>\n",
       "      <td>CHICAGO</td>\n",
       "      <td>IL</td>\n",
       "      <td>60628</td>\n",
       "      <td>2011-09-07T00:00:00.000</td>\n",
       "      <td>Complaint-Fire</td>\n",
       "      <td>Business Not Located</td>\n",
       "      <td>NaN</td>\n",
       "      <td>NaN</td>\n",
       "      <td>NaN</td>\n",
       "      <td>NaN</td>\n",
       "    </tr>\n",
       "    <tr>\n",
       "      <th>34956</th>\n",
       "      <td>2229372</td>\n",
       "      <td>RICE THAI CAFE</td>\n",
       "      <td>RICE THAI CAFE</td>\n",
       "      <td>2589016</td>\n",
       "      <td>Not Disclosed</td>\n",
       "      <td>NaN</td>\n",
       "      <td>211`7 W FARRAGUT AVE</td>\n",
       "      <td>CHICAGO</td>\n",
       "      <td>IL</td>\n",
       "      <td>60625</td>\n",
       "      <td>2018-10-04T00:00:00.000</td>\n",
       "      <td>License</td>\n",
       "      <td>Business Not Located</td>\n",
       "      <td>NaN</td>\n",
       "      <td>NaN</td>\n",
       "      <td>NaN</td>\n",
       "      <td>NaN</td>\n",
       "    </tr>\n",
       "    <tr>\n",
       "      <th>196602</th>\n",
       "      <td>428391</td>\n",
       "      <td>BEST SUBS</td>\n",
       "      <td>BEST SUBS</td>\n",
       "      <td>0</td>\n",
       "      <td>Not Disclosed</td>\n",
       "      <td>NaN</td>\n",
       "      <td>2653 N WASTENAW AVE BLDG</td>\n",
       "      <td>CHICAGO</td>\n",
       "      <td>IL</td>\n",
       "      <td>60647</td>\n",
       "      <td>2010-10-29T00:00:00.000</td>\n",
       "      <td>Complaint</td>\n",
       "      <td>Business Not Located</td>\n",
       "      <td>NaN</td>\n",
       "      <td>NaN</td>\n",
       "      <td>NaN</td>\n",
       "      <td>NaN</td>\n",
       "    </tr>\n",
       "    <tr>\n",
       "      <th>25352</th>\n",
       "      <td>2286042</td>\n",
       "      <td>REIS AND IRVYS</td>\n",
       "      <td>REIS AND IRVYS</td>\n",
       "      <td>2659028</td>\n",
       "      <td>Not Disclosed</td>\n",
       "      <td>NaN</td>\n",
       "      <td>1801 W JACKSON BLVD</td>\n",
       "      <td>CHICAGO</td>\n",
       "      <td>IL</td>\n",
       "      <td>60612</td>\n",
       "      <td>2019-04-30T00:00:00.000</td>\n",
       "      <td>License</td>\n",
       "      <td>Not Ready</td>\n",
       "      <td>NaN</td>\n",
       "      <td>NaN</td>\n",
       "      <td>NaN</td>\n",
       "      <td>NaN</td>\n",
       "    </tr>\n",
       "  </tbody>\n",
       "</table>\n",
       "</div>"
      ],
      "text/plain": [
       "       inspection_id                       dba_name  \\\n",
       "65104        2009375  CHICAGO BEST DELI GROCERY,INC   \n",
       "181092        537572                        unknown   \n",
       "34956        2229372                 RICE THAI CAFE   \n",
       "196602        428391                      BEST SUBS   \n",
       "25352        2286042                 REIS AND IRVYS   \n",
       "\n",
       "                             aka_name license_  facility_type risk  \\\n",
       "65104   CHICAGO BEST DELI GROCERY,INC  2512074  Not Disclosed  NaN   \n",
       "181092                        unknown        0  Not Disclosed  NaN   \n",
       "34956                  RICE THAI CAFE  2589016  Not Disclosed  NaN   \n",
       "196602                      BEST SUBS        0  Not Disclosed  NaN   \n",
       "25352                  REIS AND IRVYS  2659028  Not Disclosed  NaN   \n",
       "\n",
       "                          address     city state    zip  \\\n",
       "65104           156-158 W 95TH ST  CHICAGO    IL  60628   \n",
       "181092      10222 S wentworth AVE  CHICAGO    IL  60628   \n",
       "34956       211`7 W FARRAGUT AVE   CHICAGO    IL  60625   \n",
       "196602  2653 N WASTENAW AVE BLDG   CHICAGO    IL  60647   \n",
       "25352         1801 W JACKSON BLVD  CHICAGO    IL  60612   \n",
       "\n",
       "                inspection_date inspection_type               results  \\\n",
       "65104   2017-03-28T00:00:00.000         License             Not Ready   \n",
       "181092  2011-09-07T00:00:00.000  Complaint-Fire  Business Not Located   \n",
       "34956   2018-10-04T00:00:00.000         License  Business Not Located   \n",
       "196602  2010-10-29T00:00:00.000       Complaint  Business Not Located   \n",
       "25352   2019-04-30T00:00:00.000         License             Not Ready   \n",
       "\n",
       "       violations latitude longitude location  \n",
       "65104         NaN      NaN       NaN      NaN  \n",
       "181092        NaN      NaN       NaN      NaN  \n",
       "34956         NaN      NaN       NaN      NaN  \n",
       "196602        NaN      NaN       NaN      NaN  \n",
       "25352         NaN      NaN       NaN      NaN  "
      ]
     },
     "execution_count": 27,
     "metadata": {},
     "output_type": "execute_result"
    }
   ],
   "source": [
    "df[df['risk'].isna()].sample(n=5, random_state=512)"
   ]
  },
  {
   "cell_type": "markdown",
   "metadata": {},
   "source": [
    "Notice that many of the missing risk values are records that were also missing other attributes...\n"
   ]
  },
  {
   "cell_type": "code",
   "execution_count": 28,
   "metadata": {},
   "outputs": [],
   "source": [
    "#I'll fill missing risk values with not disclosed\n",
    "df['risk'] = df['risk'].fillna('Not Disclosed')"
   ]
  },
  {
   "cell_type": "markdown",
   "metadata": {},
   "source": [
    "**address**"
   ]
  },
  {
   "cell_type": "code",
   "execution_count": 29,
   "metadata": {},
   "outputs": [
    {
     "data": {
      "text/plain": [
       "0"
      ]
     },
     "execution_count": 29,
     "metadata": {},
     "output_type": "execute_result"
    }
   ],
   "source": [
    "df['address'].isna().sum()"
   ]
  },
  {
   "cell_type": "code",
   "execution_count": 30,
   "metadata": {},
   "outputs": [
    {
     "data": {
      "text/plain": [
       "11601 W TOUHY AVE             2674\n",
       "5700 S CICERO AVE              583\n",
       "500 W MADISON ST               462\n",
       "2300 S THROOP ST               405\n",
       "324 N LEAVITT ST               391\n",
       "131 N CLINTON ST               353\n",
       "100 W RANDOLPH ST              331\n",
       "222 W MERCHANDISE MART PLZ     279\n",
       "600 E GRAND AVE                276\n",
       "7601 S CICERO AVE              267\n",
       "Name: address, dtype: int64"
      ]
     },
     "execution_count": 30,
     "metadata": {},
     "output_type": "execute_result"
    }
   ],
   "source": [
    "df['address'].value_counts().head(10)"
   ]
  },
  {
   "cell_type": "markdown",
   "metadata": {},
   "source": [
    "Some of these make sense:\n",
    "\n",
    "* 5700 S CICERO AVE = Chicago Midway\n",
    "* 500 W MADISON ST = Accenture Tower\n"
   ]
  },
  {
   "cell_type": "markdown",
   "metadata": {},
   "source": [
    "**city**"
   ]
  },
  {
   "cell_type": "code",
   "execution_count": 31,
   "metadata": {},
   "outputs": [
    {
     "data": {
      "text/plain": [
       "154"
      ]
     },
     "execution_count": 31,
     "metadata": {},
     "output_type": "execute_result"
    }
   ],
   "source": [
    "df['city'].isna().sum()"
   ]
  },
  {
   "cell_type": "code",
   "execution_count": 32,
   "metadata": {},
   "outputs": [
    {
     "data": {
      "text/plain": [
       "18328     CHICAGO\n",
       "2237      CHICAGO\n",
       "157073    CHICAGO\n",
       "188679    CHICAGO\n",
       "20640     CHICAGO\n",
       "Name: city, dtype: object"
      ]
     },
     "execution_count": 32,
     "metadata": {},
     "output_type": "execute_result"
    }
   ],
   "source": [
    "df['city'].sample(n=5)"
   ]
  },
  {
   "cell_type": "code",
   "execution_count": 33,
   "metadata": {},
   "outputs": [],
   "source": [
    "df['city'] = df['city'].fillna('Not Disclosed')\n",
    "df['city'] = df['city'].str.upper()"
   ]
  },
  {
   "cell_type": "code",
   "execution_count": 34,
   "metadata": {},
   "outputs": [
    {
     "data": {
      "text/plain": [
       "CHICAGO              211598\n",
       "NOT DISCLOSED           154\n",
       "CCHICAGO                 48\n",
       "SCHAUMBURG               27\n",
       "MAYWOOD                  16\n",
       "ELK GROVE VILLAGE        13\n",
       "EVANSTON                 11\n",
       "CICERO                    9\n",
       "CHICAGOCHICAGO            9\n",
       "INACTIVE                  8\n",
       "SKOKIE                    8\n",
       "NILES NILES               7\n",
       "ELMHURST                  7\n",
       "CHCHICAGO                 6\n",
       "CALUMET CITY              6\n",
       "WORTH                     5\n",
       "OAK PARK                  5\n",
       "ALSIP                     4\n",
       "SUMMIT                    4\n",
       "CHARLES A HAYES           4\n",
       "BRIDGEVIEW                4\n",
       "EAST HAZEL CREST          3\n",
       "PLAINFIELD                3\n",
       "SCHILLER PARK             3\n",
       "CHICAGOHICAGO             3\n",
       "ROSEMONT                  3\n",
       "CHCICAGO                  3\n",
       "CHICAGOI                  3\n",
       "312CHICAGO                3\n",
       "CHICAGO.                  2\n",
       "Name: city, dtype: int64"
      ]
     },
     "execution_count": 34,
     "metadata": {},
     "output_type": "execute_result"
    }
   ],
   "source": [
    "df['city'].value_counts().head(30)"
   ]
  },
  {
   "cell_type": "code",
   "execution_count": 35,
   "metadata": {},
   "outputs": [],
   "source": [
    "df['city'] = df['city'].replace('chicago','CHICAGO')\n",
    "df['city'] = df['city'].replace('Chicago','CHICAGO')\n",
    "df['city'] = df['city'].replace('CCHICAGO','CHICAGO')\n",
    "df['city'] = df['city'].replace('CHICAGOCHICAGO','CHICAGO')\n",
    "df['city'] = df['city'].replace('CHCHICAGO','CHICAGO')\n",
    "df['city'] = df['city'].replace('CHICAGOHICAGO','CHICAGO')\n",
    "df['city'] = df['city'].replace('CHICAGO.','CHICAGO')\n",
    "df['city'] = df['city'].replace('312CHICAGO','CHICAGO')\n",
    "df['city'] = df['city'].replace('CHicago','CHICAGO')\n",
    "df['city'] = df['city'].replace('CHICAGOI','CHICAGO')\n",
    "df['city'] = df['city'].replace('CHCICAGO','CHICAGO')\n",
    "#df['city'] = df['city'].replace('','CHICAGO')\n"
   ]
  },
  {
   "cell_type": "markdown",
   "metadata": {},
   "source": [
    "**state**"
   ]
  },
  {
   "cell_type": "code",
   "execution_count": 36,
   "metadata": {},
   "outputs": [
    {
     "data": {
      "text/plain": [
       "48"
      ]
     },
     "execution_count": 36,
     "metadata": {},
     "output_type": "execute_result"
    }
   ],
   "source": [
    "df['state'].isna().sum()"
   ]
  },
  {
   "cell_type": "code",
   "execution_count": 37,
   "metadata": {},
   "outputs": [
    {
     "data": {
      "text/html": [
       "<div>\n",
       "<style scoped>\n",
       "    .dataframe tbody tr th:only-of-type {\n",
       "        vertical-align: middle;\n",
       "    }\n",
       "\n",
       "    .dataframe tbody tr th {\n",
       "        vertical-align: top;\n",
       "    }\n",
       "\n",
       "    .dataframe thead th {\n",
       "        text-align: right;\n",
       "    }\n",
       "</style>\n",
       "<table border=\"1\" class=\"dataframe\">\n",
       "  <thead>\n",
       "    <tr style=\"text-align: right;\">\n",
       "      <th></th>\n",
       "      <th>dba_name</th>\n",
       "      <th>city</th>\n",
       "      <th>state</th>\n",
       "    </tr>\n",
       "  </thead>\n",
       "  <tbody>\n",
       "    <tr>\n",
       "      <th>5631</th>\n",
       "      <td>CRATER FOOD &amp; LIQUOR</td>\n",
       "      <td>CHICAGO</td>\n",
       "      <td>NaN</td>\n",
       "    </tr>\n",
       "    <tr>\n",
       "      <th>6187</th>\n",
       "      <td>YOLK - LINCOLN PARK</td>\n",
       "      <td>CHICAGO</td>\n",
       "      <td>NaN</td>\n",
       "    </tr>\n",
       "    <tr>\n",
       "      <th>6191</th>\n",
       "      <td>CRATER FOOD &amp; LIQUOR</td>\n",
       "      <td>CHICAGO</td>\n",
       "      <td>NaN</td>\n",
       "    </tr>\n",
       "    <tr>\n",
       "      <th>6218</th>\n",
       "      <td>Starbucks Coffee#51211</td>\n",
       "      <td>NOT DISCLOSED</td>\n",
       "      <td>NaN</td>\n",
       "    </tr>\n",
       "    <tr>\n",
       "      <th>6684</th>\n",
       "      <td>STAX CAFE</td>\n",
       "      <td>CHICAGO</td>\n",
       "      <td>NaN</td>\n",
       "    </tr>\n",
       "    <tr>\n",
       "      <th>7067</th>\n",
       "      <td>WINGSTOP</td>\n",
       "      <td>CHICAGO</td>\n",
       "      <td>NaN</td>\n",
       "    </tr>\n",
       "    <tr>\n",
       "      <th>19160</th>\n",
       "      <td>AMY BECK CAKE DESIGN, LLC</td>\n",
       "      <td>NOT DISCLOSED</td>\n",
       "      <td>NaN</td>\n",
       "    </tr>\n",
       "    <tr>\n",
       "      <th>23198</th>\n",
       "      <td>STAX CAFE</td>\n",
       "      <td>CHICAGO</td>\n",
       "      <td>NaN</td>\n",
       "    </tr>\n",
       "    <tr>\n",
       "      <th>23616</th>\n",
       "      <td>CITY HALL. LLC</td>\n",
       "      <td>CHICAGO</td>\n",
       "      <td>NaN</td>\n",
       "    </tr>\n",
       "    <tr>\n",
       "      <th>23618</th>\n",
       "      <td>CITY HALL. LLC</td>\n",
       "      <td>CHICAGO</td>\n",
       "      <td>NaN</td>\n",
       "    </tr>\n",
       "  </tbody>\n",
       "</table>\n",
       "</div>"
      ],
      "text/plain": [
       "                        dba_name           city state\n",
       "5631        CRATER FOOD & LIQUOR        CHICAGO   NaN\n",
       "6187         YOLK - LINCOLN PARK        CHICAGO   NaN\n",
       "6191        CRATER FOOD & LIQUOR        CHICAGO   NaN\n",
       "6218      Starbucks Coffee#51211  NOT DISCLOSED   NaN\n",
       "6684                   STAX CAFE        CHICAGO   NaN\n",
       "7067                    WINGSTOP        CHICAGO   NaN\n",
       "19160  AMY BECK CAKE DESIGN, LLC  NOT DISCLOSED   NaN\n",
       "23198                  STAX CAFE        CHICAGO   NaN\n",
       "23616             CITY HALL. LLC        CHICAGO   NaN\n",
       "23618             CITY HALL. LLC        CHICAGO   NaN"
      ]
     },
     "execution_count": 37,
     "metadata": {},
     "output_type": "execute_result"
    }
   ],
   "source": [
    "df[df['state'].isna()][['dba_name','city','state']].head(10)"
   ]
  },
  {
   "cell_type": "markdown",
   "metadata": {},
   "source": [
    "It appears there is a data input problem. For now, I'll manually fill missing states\n"
   ]
  },
  {
   "cell_type": "code",
   "execution_count": 38,
   "metadata": {},
   "outputs": [],
   "source": [
    "df.loc[(df.city=='CHICAGO')&(df.state.isna()),'state'] = 'IL'"
   ]
  },
  {
   "cell_type": "code",
   "execution_count": 39,
   "metadata": {},
   "outputs": [],
   "source": [
    "df['state'] = df['state'].fillna('Not Disclosed')"
   ]
  },
  {
   "cell_type": "code",
   "execution_count": 40,
   "metadata": {},
   "outputs": [
    {
     "data": {
      "text/plain": [
       "IL               211999\n",
       "Not Disclosed        20\n",
       "WI                    1\n",
       "NY                    1\n",
       "IN                    1\n",
       "Name: state, dtype: int64"
      ]
     },
     "execution_count": 40,
     "metadata": {},
     "output_type": "execute_result"
    }
   ],
   "source": [
    "df['state'].value_counts()"
   ]
  },
  {
   "cell_type": "markdown",
   "metadata": {},
   "source": [
    "Not sure why there are other states in this dataset. For now, I'll drop other states."
   ]
  },
  {
   "cell_type": "code",
   "execution_count": 41,
   "metadata": {},
   "outputs": [],
   "source": [
    "index_list = df[df.state != 'IL'].index.to_list()\n",
    "\n",
    "df = df.drop(index_list)"
   ]
  },
  {
   "cell_type": "markdown",
   "metadata": {},
   "source": [
    "**zip**"
   ]
  },
  {
   "cell_type": "code",
   "execution_count": 42,
   "metadata": {},
   "outputs": [
    {
     "data": {
      "text/plain": [
       "52"
      ]
     },
     "execution_count": 42,
     "metadata": {},
     "output_type": "execute_result"
    }
   ],
   "source": [
    "df['zip'].isna().sum()"
   ]
  },
  {
   "cell_type": "markdown",
   "metadata": {},
   "source": [
    "There are only 52 observations with missing zip values so I'll drop these values\n"
   ]
  },
  {
   "cell_type": "code",
   "execution_count": 43,
   "metadata": {},
   "outputs": [],
   "source": [
    "df = df.dropna(subset=['zip'])"
   ]
  },
  {
   "cell_type": "markdown",
   "metadata": {},
   "source": [
    "**inspection_date**"
   ]
  },
  {
   "cell_type": "code",
   "execution_count": 53,
   "metadata": {},
   "outputs": [
    {
     "data": {
      "text/plain": [
       "0"
      ]
     },
     "execution_count": 53,
     "metadata": {},
     "output_type": "execute_result"
    }
   ],
   "source": [
    "df['inspection_date'].isna().sum()"
   ]
  },
  {
   "cell_type": "code",
   "execution_count": 54,
   "metadata": {},
   "outputs": [
    {
     "name": "stdout",
     "output_type": "stream",
     "text": [
      "2020-10-23T00:00:00.000\n"
     ]
    },
    {
     "data": {
      "text/plain": [
       "str"
      ]
     },
     "execution_count": 54,
     "metadata": {},
     "output_type": "execute_result"
    }
   ],
   "source": [
    "print(df['inspection_date'][5])\n",
    "type(df['inspection_date'].iloc[5])"
   ]
  },
  {
   "cell_type": "markdown",
   "metadata": {},
   "source": [
    "I'll need to conver the inspection date column to datetime"
   ]
  },
  {
   "cell_type": "code",
   "execution_count": 55,
   "metadata": {},
   "outputs": [],
   "source": [
    "#Convert inspection_date column\n",
    "df['inspection_date_new'] = df['inspection_date'].apply(lambda x: datetime.strptime(x, '%Y-%m-%dT%H:%M:%S.%f'))\n"
   ]
  },
  {
   "cell_type": "code",
   "execution_count": 56,
   "metadata": {},
   "outputs": [
    {
     "data": {
      "text/plain": [
       "'10/26/20'"
      ]
     },
     "execution_count": 56,
     "metadata": {},
     "output_type": "execute_result"
    }
   ],
   "source": [
    "df.iloc[0]['inspection_date_new'].strftime(format='%x')"
   ]
  },
  {
   "cell_type": "code",
   "execution_count": 57,
   "metadata": {},
   "outputs": [
    {
     "name": "stdout",
     "output_type": "stream",
     "text": [
      "2020-10-23 00:00:00\n"
     ]
    },
    {
     "data": {
      "text/plain": [
       "pandas._libs.tslibs.timestamps.Timestamp"
      ]
     },
     "execution_count": 57,
     "metadata": {},
     "output_type": "execute_result"
    }
   ],
   "source": [
    "print(df['inspection_date_new'][5])\n",
    "type(df['inspection_date_new'].iloc[5])\n"
   ]
  },
  {
   "cell_type": "code",
   "execution_count": 58,
   "metadata": {},
   "outputs": [],
   "source": [
    "df['inspection_date_new'] = df['inspection_date_new'].apply(lambda x: x.strftime(format='%x'))"
   ]
  },
  {
   "cell_type": "code",
   "execution_count": 59,
   "metadata": {},
   "outputs": [
    {
     "name": "stdout",
     "output_type": "stream",
     "text": [
      "10/23/20\n"
     ]
    },
    {
     "data": {
      "text/plain": [
       "str"
      ]
     },
     "execution_count": 59,
     "metadata": {},
     "output_type": "execute_result"
    }
   ],
   "source": [
    "print(df['inspection_date_new'][5])\n",
    "type(df['inspection_date_new'].iloc[5])"
   ]
  },
  {
   "cell_type": "code",
   "execution_count": null,
   "metadata": {},
   "outputs": [],
   "source": []
  },
  {
   "cell_type": "code",
   "execution_count": null,
   "metadata": {},
   "outputs": [],
   "source": []
  },
  {
   "cell_type": "code",
   "execution_count": 60,
   "metadata": {},
   "outputs": [
    {
     "data": {
      "image/png": "[encoded data removed]",
      "text/plain": [
       "<Figure size 1296x576 with 1 Axes>"
      ]
     },
     "metadata": {
      "needs_background": "light"
     },
     "output_type": "display_data"
    }
   ],
   "source": [
    "import matplotlib.pylab as plt\n",
    "from collections import Counter\n",
    "\n",
    "# Tally occurrences of words in a list\n",
    "cnt = Counter()\n",
    "for day in df['inspection_date_new']:\n",
    "    cnt[day] += 1\n",
    "\n",
    "\n",
    "lists = sorted(cnt.items()) # sorted by key, return a list of tuples\n",
    "x, y = zip(*lists) # unpack a list of pairs into two tuples\n",
    "\n",
    "plt.figure(figsize=(18,8))\n",
    "plt.plot(x, y)\n",
    "\n",
    "plt.show()\n"
   ]
  },
  {
   "cell_type": "markdown",
   "metadata": {},
   "source": [
    "**inspection_type**\n"
   ]
  },
  {
   "cell_type": "code",
   "execution_count": 61,
   "metadata": {},
   "outputs": [
    {
     "data": {
      "text/plain": [
       "1"
      ]
     },
     "execution_count": 61,
     "metadata": {},
     "output_type": "execute_result"
    }
   ],
   "source": [
    "df['inspection_type'].isna().sum()\n"
   ]
  },
  {
   "cell_type": "code",
   "execution_count": 62,
   "metadata": {},
   "outputs": [],
   "source": [
    "df = df.dropna(subset=['inspection_type'])\n"
   ]
  },
  {
   "cell_type": "code",
   "execution_count": 63,
   "metadata": {},
   "outputs": [
    {
     "data": {
      "text/plain": [
       "Canvass                                   112771\n",
       "License                                    27804\n",
       "Canvass Re-Inspection                      22533\n",
       "Complaint                                  19616\n",
       "License Re-Inspection                       9471\n",
       "Complaint Re-Inspection                     8096\n",
       "Short Form Complaint                        7135\n",
       "Suspected Food Poisoning                     874\n",
       "Consultation                                 672\n",
       "License-Task Force                           604\n",
       "Tag Removal                                  603\n",
       "Recent Inspection                            357\n",
       "Out of Business                              284\n",
       "Task Force Liquor 1475                       252\n",
       "Suspected Food Poisoning Re-inspection       193\n",
       "Name: inspection_type, dtype: int64"
      ]
     },
     "execution_count": 63,
     "metadata": {},
     "output_type": "execute_result"
    }
   ],
   "source": [
    "df['inspection_type'].value_counts().head(15)\n"
   ]
  },
  {
   "cell_type": "markdown",
   "metadata": {},
   "source": [
    "**results**\n"
   ]
  },
  {
   "cell_type": "code",
   "execution_count": 64,
   "metadata": {},
   "outputs": [
    {
     "data": {
      "text/html": [
       "<div>\n",
       "<style scoped>\n",
       "    .dataframe tbody tr th:only-of-type {\n",
       "        vertical-align: middle;\n",
       "    }\n",
       "\n",
       "    .dataframe tbody tr th {\n",
       "        vertical-align: top;\n",
       "    }\n",
       "\n",
       "    .dataframe thead th {\n",
       "        text-align: right;\n",
       "    }\n",
       "</style>\n",
       "<table border=\"1\" class=\"dataframe\">\n",
       "  <thead>\n",
       "    <tr style=\"text-align: right;\">\n",
       "      <th></th>\n",
       "      <th>counts</th>\n",
       "      <th>percentage</th>\n",
       "    </tr>\n",
       "  </thead>\n",
       "  <tbody>\n",
       "    <tr>\n",
       "      <th>Pass</th>\n",
       "      <td>111257</td>\n",
       "      <td>0.524931</td>\n",
       "    </tr>\n",
       "    <tr>\n",
       "      <th>Fail</th>\n",
       "      <td>40971</td>\n",
       "      <td>0.193309</td>\n",
       "    </tr>\n",
       "    <tr>\n",
       "      <th>Pass w/ Conditions</th>\n",
       "      <td>32001</td>\n",
       "      <td>0.150987</td>\n",
       "    </tr>\n",
       "    <tr>\n",
       "      <th>Out of Business</th>\n",
       "      <td>18389</td>\n",
       "      <td>0.086763</td>\n",
       "    </tr>\n",
       "    <tr>\n",
       "      <th>No Entry</th>\n",
       "      <td>7059</td>\n",
       "      <td>0.033306</td>\n",
       "    </tr>\n",
       "    <tr>\n",
       "      <th>Not Ready</th>\n",
       "      <td>2199</td>\n",
       "      <td>0.010375</td>\n",
       "    </tr>\n",
       "    <tr>\n",
       "      <th>Business Not Located</th>\n",
       "      <td>70</td>\n",
       "      <td>0.000330</td>\n",
       "    </tr>\n",
       "  </tbody>\n",
       "</table>\n",
       "</div>"
      ],
      "text/plain": [
       "                      counts  percentage\n",
       "Pass                  111257    0.524931\n",
       "Fail                   40971    0.193309\n",
       "Pass w/ Conditions     32001    0.150987\n",
       "Out of Business        18389    0.086763\n",
       "No Entry                7059    0.033306\n",
       "Not Ready               2199    0.010375\n",
       "Business Not Located      70    0.000330"
      ]
     },
     "execution_count": 64,
     "metadata": {},
     "output_type": "execute_result"
    }
   ],
   "source": [
    "pd.DataFrame({'counts':df['results'].value_counts(),\n",
    "              'percentage':df['results'].value_counts()/df.shape[0]})"
   ]
  },
  {
   "cell_type": "markdown",
   "metadata": {},
   "source": [
    "I'm building a classification model to predict the multinomial classifications above based on the inspector's comments. Therefore, I plan to exclude the four results that we do not have sufficient records. Separately, I also noticed some records for \"no entry\" still had comments associated with them. "
   ]
  },
  {
   "cell_type": "code",
   "execution_count": 65,
   "metadata": {},
   "outputs": [
    {
     "data": {
      "text/html": [
       "<div>\n",
       "<style scoped>\n",
       "    .dataframe tbody tr th:only-of-type {\n",
       "        vertical-align: middle;\n",
       "    }\n",
       "\n",
       "    .dataframe tbody tr th {\n",
       "        vertical-align: top;\n",
       "    }\n",
       "\n",
       "    .dataframe thead th {\n",
       "        text-align: right;\n",
       "    }\n",
       "</style>\n",
       "<table border=\"1\" class=\"dataframe\">\n",
       "  <thead>\n",
       "    <tr style=\"text-align: right;\">\n",
       "      <th></th>\n",
       "      <th>inspection_id</th>\n",
       "      <th>dba_name</th>\n",
       "      <th>aka_name</th>\n",
       "      <th>license_</th>\n",
       "      <th>facility_type</th>\n",
       "      <th>risk</th>\n",
       "      <th>address</th>\n",
       "      <th>city</th>\n",
       "      <th>state</th>\n",
       "      <th>zip</th>\n",
       "      <th>inspection_date</th>\n",
       "      <th>inspection_type</th>\n",
       "      <th>results</th>\n",
       "      <th>violations</th>\n",
       "      <th>latitude</th>\n",
       "      <th>longitude</th>\n",
       "      <th>location</th>\n",
       "      <th>inspection_date_new</th>\n",
       "    </tr>\n",
       "  </thead>\n",
       "  <tbody>\n",
       "    <tr>\n",
       "      <th>6</th>\n",
       "      <td>2453751</td>\n",
       "      <td>EL POTRILLO</td>\n",
       "      <td>EL POTRILLO</td>\n",
       "      <td>13419</td>\n",
       "      <td>Liquor</td>\n",
       "      <td>Risk 3 (Low)</td>\n",
       "      <td>5129 S ARCHER AVE</td>\n",
       "      <td>CHICAGO</td>\n",
       "      <td>IL</td>\n",
       "      <td>60632</td>\n",
       "      <td>2020-10-23T00:00:00.000</td>\n",
       "      <td>Complaint Re-Inspection</td>\n",
       "      <td>No Entry</td>\n",
       "      <td>3. MANAGEMENT, FOOD EMPLOYEE AND CONDITIONAL EMPLOYEE; KNOWLEDGE, RESPONSIBILITIES AND REPORTING - Comments:  2-102.14(O): NO EMPLOYEE HEALTH POLICY ON SITE. INSTD TO PROVIDE A VERFIABLE EMPLOYEE HEALTH POLICY AND MAINTAIN. PRIORITY FOUNDATION 7-38-010 | 5. PROCEDURES FOR RESPONDING TO VOMITING AND DIARRHEAL EVENTS - Comments:  2-501.11: NO PROCEDURE IN PLACE FOR VOMITING AND DIARRHEAL EVENTS. INSTD TO PROVIDE PROCEDURE AND NECESSARY SUPPLIES EFFECTIVE AGAINST NOROVIRUS. PRIORITY FOUNDATION 7-38-005 | 10. ADEQUATE HANDWASHING SINKS PROPERLY SUPPLIED AND ACCESSIBLE - Comments: 5-204.11: NO HANDWASH SINK IN BAR AREA. INSTD TO PROVIDE A HANDWASH SINK PROPERLY CONNECTED UNDER CITY PRESSURE WITH 100F-120F TEMPERATURE OF WATER. PRIORITY FOUNDATION 7-38-030(C) | 38. INSECTS, RODENTS, &amp; ANIMALS NOT PRESENT - Comments: 6-501.111: 3 LIVE ROACHES AND ROACH FECES NOTED AT BAR 3-COMPARTMENT SINK. INSTD TO REMOVE ROACHES AND FECES, CLEAN AND SANITIZED AFFECTED AREAS. CITATION ISSUED PRIORITY FO...</td>\n",
       "      <td>NaN</td>\n",
       "      <td>NaN</td>\n",
       "      <td>NaN</td>\n",
       "      <td>10/23/20</td>\n",
       "    </tr>\n",
       "    <tr>\n",
       "      <th>33</th>\n",
       "      <td>2453716</td>\n",
       "      <td>GOURMET GORILLA</td>\n",
       "      <td>HUNTER PERKINS CAMPUS</td>\n",
       "      <td>2608552</td>\n",
       "      <td>CHARTER SCHOOL</td>\n",
       "      <td>Risk 1 (High)</td>\n",
       "      <td>1700 W 83RD ST</td>\n",
       "      <td>CHICAGO</td>\n",
       "      <td>IL</td>\n",
       "      <td>60620</td>\n",
       "      <td>2020-10-22T00:00:00.000</td>\n",
       "      <td>Canvass</td>\n",
       "      <td>No Entry</td>\n",
       "      <td>NaN</td>\n",
       "      <td>NaN</td>\n",
       "      <td>NaN</td>\n",
       "      <td>NaN</td>\n",
       "      <td>10/22/20</td>\n",
       "    </tr>\n",
       "    <tr>\n",
       "      <th>68</th>\n",
       "      <td>2453641</td>\n",
       "      <td>SANJUSTIN'S KITCHEN INC.</td>\n",
       "      <td>SANJUSTIN'S KITCHEN</td>\n",
       "      <td>2418532</td>\n",
       "      <td>Catering</td>\n",
       "      <td>Risk 1 (High)</td>\n",
       "      <td>157 W 75th ST</td>\n",
       "      <td>CHICAGO</td>\n",
       "      <td>IL</td>\n",
       "      <td>60620</td>\n",
       "      <td>2020-10-21T00:00:00.000</td>\n",
       "      <td>Canvass</td>\n",
       "      <td>No Entry</td>\n",
       "      <td>58. ALLERGEN TRAINING AS REQUIRED - Comments: Violation Codes: 2-102.13 Inspector Comments: NO ALLERGEN TRAINING FOR THE CERTIFIED FOOD MANAGERS. INSTRUCTED THAT ANY EMPLOYEE WITH CITY OF CHICAGO FOOD CERTIFICATE MUST HAVE ALLERGEN TRAINING.</td>\n",
       "      <td>NaN</td>\n",
       "      <td>NaN</td>\n",
       "      <td>NaN</td>\n",
       "      <td>10/21/20</td>\n",
       "    </tr>\n",
       "    <tr>\n",
       "      <th>69</th>\n",
       "      <td>2453650</td>\n",
       "      <td>STUDIO MOVIE GRILL</td>\n",
       "      <td>STUDIO MOVIE GRILL</td>\n",
       "      <td>2309244</td>\n",
       "      <td>Restaurant</td>\n",
       "      <td>Risk 1 (High)</td>\n",
       "      <td>210 W 87TH ST</td>\n",
       "      <td>CHICAGO</td>\n",
       "      <td>IL</td>\n",
       "      <td>60620</td>\n",
       "      <td>2020-10-21T00:00:00.000</td>\n",
       "      <td>Canvass</td>\n",
       "      <td>No Entry</td>\n",
       "      <td>55. PHYSICAL FACILITIES INSTALLED, MAINTAINED &amp; CLEAN - Comments: Violation Codes: 6-501.11 Inspector Comments: DAMAGED FLOOR TILE AROUND THE FLOOR DRAIN BEHIND THE CONCESSION STAND. INSTRUCTED TO REPAIR/REPLACE FLOOR TILE. MAINTAIN SMOOTH AND EASILY CLEANABLE FLOORS. | 58. ALLERGEN TRAINING AS REQUIRED - Comments: Violation Codes: 2-102.13 Inspector Comments: OBSERVED NO ALLERGEN TRAINING AVAILABLE DURING INSPECTION. ALL CERTIFIED MANAGERS MUST PROVIDE ALLERGEN TRAINING.</td>\n",
       "      <td>NaN</td>\n",
       "      <td>NaN</td>\n",
       "      <td>NaN</td>\n",
       "      <td>10/21/20</td>\n",
       "    </tr>\n",
       "    <tr>\n",
       "      <th>70</th>\n",
       "      <td>2453659</td>\n",
       "      <td>WALMART #5781</td>\n",
       "      <td>WALMART #5781</td>\n",
       "      <td>2104019</td>\n",
       "      <td>Grocery Store</td>\n",
       "      <td>Risk 1 (High)</td>\n",
       "      <td>8331 S STEWART AVE</td>\n",
       "      <td>CHICAGO</td>\n",
       "      <td>IL</td>\n",
       "      <td>60620</td>\n",
       "      <td>2020-10-21T00:00:00.000</td>\n",
       "      <td>Canvass</td>\n",
       "      <td>No Entry</td>\n",
       "      <td>49. NON-FOOD/FOOD CONTACT SURFACES CLEAN - Comments: Violation Codes: 4-602.13 Inspector Comments: FOUND BLACK MOLD LIKE SUBSTANCE ON THE STORAGE RACKS WHERE THE JUICES ARE STORED IN THE REAR COLD HOLDING UNIT. INSTRUCTED TO KEEP RACKS CLEAN.</td>\n",
       "      <td>NaN</td>\n",
       "      <td>NaN</td>\n",
       "      <td>NaN</td>\n",
       "      <td>10/21/20</td>\n",
       "    </tr>\n",
       "    <tr>\n",
       "      <th>...</th>\n",
       "      <td>...</td>\n",
       "      <td>...</td>\n",
       "      <td>...</td>\n",
       "      <td>...</td>\n",
       "      <td>...</td>\n",
       "      <td>...</td>\n",
       "      <td>...</td>\n",
       "      <td>...</td>\n",
       "      <td>...</td>\n",
       "      <td>...</td>\n",
       "      <td>...</td>\n",
       "      <td>...</td>\n",
       "      <td>...</td>\n",
       "      <td>...</td>\n",
       "      <td>...</td>\n",
       "      <td>...</td>\n",
       "      <td>...</td>\n",
       "      <td>...</td>\n",
       "    </tr>\n",
       "    <tr>\n",
       "      <th>167320</th>\n",
       "      <td>1230048</td>\n",
       "      <td>TAPAS LAS RAMBLAS</td>\n",
       "      <td>TAPAS LAS RAMBLAS</td>\n",
       "      <td>1799141</td>\n",
       "      <td>Restaurant</td>\n",
       "      <td>Risk 1 (High)</td>\n",
       "      <td>5101-5103 N CLARK ST</td>\n",
       "      <td>CHICAGO</td>\n",
       "      <td>IL</td>\n",
       "      <td>60640</td>\n",
       "      <td>2012-06-05T00:00:00.000</td>\n",
       "      <td>Complaint</td>\n",
       "      <td>No Entry</td>\n",
       "      <td>NaN</td>\n",
       "      <td>NaN</td>\n",
       "      <td>NaN</td>\n",
       "      <td>NaN</td>\n",
       "      <td>06/05/12</td>\n",
       "    </tr>\n",
       "    <tr>\n",
       "      <th>167748</th>\n",
       "      <td>1229216</td>\n",
       "      <td>KATSU ENTERPRISESES INC</td>\n",
       "      <td>KATSU JAPANESE RESTAURANT</td>\n",
       "      <td>16281</td>\n",
       "      <td>Restaurant</td>\n",
       "      <td>Risk 1 (High)</td>\n",
       "      <td>2651 W PETERSON AVE</td>\n",
       "      <td>CHICAGO</td>\n",
       "      <td>IL</td>\n",
       "      <td>60659</td>\n",
       "      <td>2012-05-29T00:00:00.000</td>\n",
       "      <td>Canvass</td>\n",
       "      <td>No Entry</td>\n",
       "      <td>NaN</td>\n",
       "      <td>NaN</td>\n",
       "      <td>NaN</td>\n",
       "      <td>NaN</td>\n",
       "      <td>05/29/12</td>\n",
       "    </tr>\n",
       "    <tr>\n",
       "      <th>167761</th>\n",
       "      <td>1229215</td>\n",
       "      <td>CHICAGO FONDUE STUBE</td>\n",
       "      <td>CHICAGO FONDUE STUBE</td>\n",
       "      <td>26813</td>\n",
       "      <td>Restaurant</td>\n",
       "      <td>Risk 1 (High)</td>\n",
       "      <td>2717 W PETERSON AVE</td>\n",
       "      <td>CHICAGO</td>\n",
       "      <td>IL</td>\n",
       "      <td>60659</td>\n",
       "      <td>2012-05-29T00:00:00.000</td>\n",
       "      <td>Canvass</td>\n",
       "      <td>No Entry</td>\n",
       "      <td>NaN</td>\n",
       "      <td>NaN</td>\n",
       "      <td>NaN</td>\n",
       "      <td>NaN</td>\n",
       "      <td>05/29/12</td>\n",
       "    </tr>\n",
       "    <tr>\n",
       "      <th>172349</th>\n",
       "      <td>671042</td>\n",
       "      <td>MAGNOLIA CAFE</td>\n",
       "      <td>MAGNOLIA CAFE</td>\n",
       "      <td>1968899</td>\n",
       "      <td>Restaurant</td>\n",
       "      <td>Risk 1 (High)</td>\n",
       "      <td>1224 W WILSON AVE</td>\n",
       "      <td>CHICAGO</td>\n",
       "      <td>IL</td>\n",
       "      <td>60640</td>\n",
       "      <td>2012-03-01T00:00:00.000</td>\n",
       "      <td>Canvass</td>\n",
       "      <td>No Entry</td>\n",
       "      <td>NaN</td>\n",
       "      <td>NaN</td>\n",
       "      <td>NaN</td>\n",
       "      <td>NaN</td>\n",
       "      <td>03/01/12</td>\n",
       "    </tr>\n",
       "    <tr>\n",
       "      <th>173089</th>\n",
       "      <td>588252</td>\n",
       "      <td>GARRETT POPCORN SHOPS</td>\n",
       "      <td>GARRETT POPCORN SHOPS</td>\n",
       "      <td>2125326</td>\n",
       "      <td>Restaurant</td>\n",
       "      <td>Risk 2 (Medium)</td>\n",
       "      <td>27 W JACKSON BLVD</td>\n",
       "      <td>CHICAGO</td>\n",
       "      <td>IL</td>\n",
       "      <td>60604</td>\n",
       "      <td>2012-02-14T00:00:00.000</td>\n",
       "      <td>Complaint</td>\n",
       "      <td>No Entry</td>\n",
       "      <td>NaN</td>\n",
       "      <td>NaN</td>\n",
       "      <td>NaN</td>\n",
       "      <td>NaN</td>\n",
       "      <td>02/14/12</td>\n",
       "    </tr>\n",
       "  </tbody>\n",
       "</table>\n",
       "<p>7059 rows × 18 columns</p>\n",
       "</div>"
      ],
      "text/plain": [
       "       inspection_id                  dba_name                   aka_name  \\\n",
       "6            2453751               EL POTRILLO                EL POTRILLO   \n",
       "33           2453716           GOURMET GORILLA      HUNTER PERKINS CAMPUS   \n",
       "68           2453641  SANJUSTIN'S KITCHEN INC.        SANJUSTIN'S KITCHEN   \n",
       "69           2453650        STUDIO MOVIE GRILL         STUDIO MOVIE GRILL   \n",
       "70           2453659             WALMART #5781              WALMART #5781   \n",
       "...              ...                       ...                        ...   \n",
       "167320       1230048         TAPAS LAS RAMBLAS          TAPAS LAS RAMBLAS   \n",
       "167748       1229216   KATSU ENTERPRISESES INC  KATSU JAPANESE RESTAURANT   \n",
       "167761       1229215      CHICAGO FONDUE STUBE       CHICAGO FONDUE STUBE   \n",
       "172349        671042             MAGNOLIA CAFE              MAGNOLIA CAFE   \n",
       "173089        588252     GARRETT POPCORN SHOPS      GARRETT POPCORN SHOPS   \n",
       "\n",
       "       license_   facility_type             risk               address  \\\n",
       "6         13419          Liquor     Risk 3 (Low)     5129 S ARCHER AVE   \n",
       "33      2608552  CHARTER SCHOOL    Risk 1 (High)        1700 W 83RD ST   \n",
       "68      2418532        Catering    Risk 1 (High)         157 W 75th ST   \n",
       "69      2309244      Restaurant    Risk 1 (High)         210 W 87TH ST   \n",
       "70      2104019   Grocery Store    Risk 1 (High)    8331 S STEWART AVE   \n",
       "...         ...             ...              ...                   ...   \n",
       "167320  1799141      Restaurant    Risk 1 (High)  5101-5103 N CLARK ST   \n",
       "167748    16281      Restaurant    Risk 1 (High)   2651 W PETERSON AVE   \n",
       "167761    26813      Restaurant    Risk 1 (High)   2717 W PETERSON AVE   \n",
       "172349  1968899      Restaurant    Risk 1 (High)     1224 W WILSON AVE   \n",
       "173089  2125326      Restaurant  Risk 2 (Medium)     27 W JACKSON BLVD   \n",
       "\n",
       "           city state    zip          inspection_date  \\\n",
       "6       CHICAGO    IL  60632  2020-10-23T00:00:00.000   \n",
       "33      CHICAGO    IL  60620  2020-10-22T00:00:00.000   \n",
       "68      CHICAGO    IL  60620  2020-10-21T00:00:00.000   \n",
       "69      CHICAGO    IL  60620  2020-10-21T00:00:00.000   \n",
       "70      CHICAGO    IL  60620  2020-10-21T00:00:00.000   \n",
       "...         ...   ...    ...                      ...   \n",
       "167320  CHICAGO    IL  60640  2012-06-05T00:00:00.000   \n",
       "167748  CHICAGO    IL  60659  2012-05-29T00:00:00.000   \n",
       "167761  CHICAGO    IL  60659  2012-05-29T00:00:00.000   \n",
       "172349  CHICAGO    IL  60640  2012-03-01T00:00:00.000   \n",
       "173089  CHICAGO    IL  60604  2012-02-14T00:00:00.000   \n",
       "\n",
       "                inspection_type   results  \\\n",
       "6       Complaint Re-Inspection  No Entry   \n",
       "33                      Canvass  No Entry   \n",
       "68                      Canvass  No Entry   \n",
       "69                      Canvass  No Entry   \n",
       "70                      Canvass  No Entry   \n",
       "...                         ...       ...   \n",
       "167320                Complaint  No Entry   \n",
       "167748                  Canvass  No Entry   \n",
       "167761                  Canvass  No Entry   \n",
       "172349                  Canvass  No Entry   \n",
       "173089                Complaint  No Entry   \n",
       "\n",
       "                                                                                                                                                                                                                                                                                                                                                                                                                                                                                                                                                                                                                                                                                                                                                                                                                                                                                                                                                                                                                                    violations  \\\n",
       "6       3. MANAGEMENT, FOOD EMPLOYEE AND CONDITIONAL EMPLOYEE; KNOWLEDGE, RESPONSIBILITIES AND REPORTING - Comments:  2-102.14(O): NO EMPLOYEE HEALTH POLICY ON SITE. INSTD TO PROVIDE A VERFIABLE EMPLOYEE HEALTH POLICY AND MAINTAIN. PRIORITY FOUNDATION 7-38-010 | 5. PROCEDURES FOR RESPONDING TO VOMITING AND DIARRHEAL EVENTS - Comments:  2-501.11: NO PROCEDURE IN PLACE FOR VOMITING AND DIARRHEAL EVENTS. INSTD TO PROVIDE PROCEDURE AND NECESSARY SUPPLIES EFFECTIVE AGAINST NOROVIRUS. PRIORITY FOUNDATION 7-38-005 | 10. ADEQUATE HANDWASHING SINKS PROPERLY SUPPLIED AND ACCESSIBLE - Comments: 5-204.11: NO HANDWASH SINK IN BAR AREA. INSTD TO PROVIDE A HANDWASH SINK PROPERLY CONNECTED UNDER CITY PRESSURE WITH 100F-120F TEMPERATURE OF WATER. PRIORITY FOUNDATION 7-38-030(C) | 38. INSECTS, RODENTS, & ANIMALS NOT PRESENT - Comments: 6-501.111: 3 LIVE ROACHES AND ROACH FECES NOTED AT BAR 3-COMPARTMENT SINK. INSTD TO REMOVE ROACHES AND FECES, CLEAN AND SANITIZED AFFECTED AREAS. CITATION ISSUED PRIORITY FO...   \n",
       "33                                                                                                                                                                                                                                                                                                                                                                                                                                                                                                                                                                                                                                                                                                                                                                                                                                                                                                                                                                                                                                         NaN   \n",
       "68                                                                                                                                                                                                                                                                                                                                                                                                                                                                                                                                                                                                                                                                                                                                                                                           58. ALLERGEN TRAINING AS REQUIRED - Comments: Violation Codes: 2-102.13 Inspector Comments: NO ALLERGEN TRAINING FOR THE CERTIFIED FOOD MANAGERS. INSTRUCTED THAT ANY EMPLOYEE WITH CITY OF CHICAGO FOOD CERTIFICATE MUST HAVE ALLERGEN TRAINING.   \n",
       "69                                                                                                                                                                                                                                                                                                                                                                                                                                                                                                                                                55. PHYSICAL FACILITIES INSTALLED, MAINTAINED & CLEAN - Comments: Violation Codes: 6-501.11 Inspector Comments: DAMAGED FLOOR TILE AROUND THE FLOOR DRAIN BEHIND THE CONCESSION STAND. INSTRUCTED TO REPAIR/REPLACE FLOOR TILE. MAINTAIN SMOOTH AND EASILY CLEANABLE FLOORS. | 58. ALLERGEN TRAINING AS REQUIRED - Comments: Violation Codes: 2-102.13 Inspector Comments: OBSERVED NO ALLERGEN TRAINING AVAILABLE DURING INSPECTION. ALL CERTIFIED MANAGERS MUST PROVIDE ALLERGEN TRAINING.   \n",
       "70                                                                                                                                                                                                                                                                                                                                                                                                                                                                                                                                                                                                                                                                                                                                                                                          49. NON-FOOD/FOOD CONTACT SURFACES CLEAN - Comments: Violation Codes: 4-602.13 Inspector Comments: FOUND BLACK MOLD LIKE SUBSTANCE ON THE STORAGE RACKS WHERE THE JUICES ARE STORED IN THE REAR COLD HOLDING UNIT. INSTRUCTED TO KEEP RACKS CLEAN.   \n",
       "...                                                                                                                                                                                                                                                                                                                                                                                                                                                                                                                                                                                                                                                                                                                                                                                                                                                                                                                                                                                                                                        ...   \n",
       "167320                                                                                                                                                                                                                                                                                                                                                                                                                                                                                                                                                                                                                                                                                                                                                                                                                                                                                                                                                                                                                                     NaN   \n",
       "167748                                                                                                                                                                                                                                                                                                                                                                                                                                                                                                                                                                                                                                                                                                                                                                                                                                                                                                                                                                                                                                     NaN   \n",
       "167761                                                                                                                                                                                                                                                                                                                                                                                                                                                                                                                                                                                                                                                                                                                                                                                                                                                                                                                                                                                                                                     NaN   \n",
       "172349                                                                                                                                                                                                                                                                                                                                                                                                                                                                                                                                                                                                                                                                                                                                                                                                                                                                                                                                                                                                                                     NaN   \n",
       "173089                                                                                                                                                                                                                                                                                                                                                                                                                                                                                                                                                                                                                                                                                                                                                                                                                                                                                                                                                                                                                                     NaN   \n",
       "\n",
       "       latitude longitude location inspection_date_new  \n",
       "6           NaN       NaN      NaN            10/23/20  \n",
       "33          NaN       NaN      NaN            10/22/20  \n",
       "68          NaN       NaN      NaN            10/21/20  \n",
       "69          NaN       NaN      NaN            10/21/20  \n",
       "70          NaN       NaN      NaN            10/21/20  \n",
       "...         ...       ...      ...                 ...  \n",
       "167320      NaN       NaN      NaN            06/05/12  \n",
       "167748      NaN       NaN      NaN            05/29/12  \n",
       "167761      NaN       NaN      NaN            05/29/12  \n",
       "172349      NaN       NaN      NaN            03/01/12  \n",
       "173089      NaN       NaN      NaN            02/14/12  \n",
       "\n",
       "[7059 rows x 18 columns]"
      ]
     },
     "execution_count": 65,
     "metadata": {},
     "output_type": "execute_result"
    }
   ],
   "source": [
    "df[df['results']=='No Entry']"
   ]
  },
  {
   "cell_type": "code",
   "execution_count": 66,
   "metadata": {},
   "outputs": [
    {
     "name": "stdout",
     "output_type": "stream",
     "text": [
      "['Pass', 'Fail', 'Pass w/ Conditions']\n"
     ]
    }
   ],
   "source": [
    "#I'm setting the threshold for data sufficiency at 15%, so if a result is not at least 15% of the dataset, it will be dropped\n",
    "perc = df['results'].value_counts()/df.shape[0]\n",
    "my_list = perc[perc>0.15].keys().to_list()\n",
    "print(my_list)\n",
    "\n",
    "df = df[df.results.isin(my_list)]"
   ]
  },
  {
   "cell_type": "markdown",
   "metadata": {},
   "source": [
    "**violations**\n"
   ]
  },
  {
   "cell_type": "code",
   "execution_count": 67,
   "metadata": {},
   "outputs": [
    {
     "data": {
      "text/plain": [
       "29228"
      ]
     },
     "execution_count": 67,
     "metadata": {},
     "output_type": "execute_result"
    }
   ],
   "source": [
    "df.violations.isna().sum()"
   ]
  },
  {
   "cell_type": "code",
   "execution_count": 68,
   "metadata": {},
   "outputs": [
    {
     "data": {
      "text/html": [
       "<div>\n",
       "<style scoped>\n",
       "    .dataframe tbody tr th:only-of-type {\n",
       "        vertical-align: middle;\n",
       "    }\n",
       "\n",
       "    .dataframe tbody tr th {\n",
       "        vertical-align: top;\n",
       "    }\n",
       "\n",
       "    .dataframe thead th {\n",
       "        text-align: right;\n",
       "    }\n",
       "</style>\n",
       "<table border=\"1\" class=\"dataframe\">\n",
       "  <thead>\n",
       "    <tr style=\"text-align: right;\">\n",
       "      <th></th>\n",
       "      <th>inspection_id</th>\n",
       "      <th>dba_name</th>\n",
       "      <th>aka_name</th>\n",
       "      <th>license_</th>\n",
       "      <th>facility_type</th>\n",
       "      <th>risk</th>\n",
       "      <th>address</th>\n",
       "      <th>city</th>\n",
       "      <th>state</th>\n",
       "      <th>zip</th>\n",
       "      <th>inspection_date</th>\n",
       "      <th>inspection_type</th>\n",
       "      <th>results</th>\n",
       "      <th>violations</th>\n",
       "      <th>latitude</th>\n",
       "      <th>longitude</th>\n",
       "      <th>location</th>\n",
       "      <th>inspection_date_new</th>\n",
       "    </tr>\n",
       "  </thead>\n",
       "  <tbody>\n",
       "    <tr>\n",
       "      <th>210015</th>\n",
       "      <td>197273</td>\n",
       "      <td>DUNKIN DONUTS</td>\n",
       "      <td>DUNKIN DONUTS / BASKIN &amp; ROBBINS</td>\n",
       "      <td>2020849</td>\n",
       "      <td>Restaurant</td>\n",
       "      <td>Risk 2 (Medium)</td>\n",
       "      <td>6 N WABASH AVE</td>\n",
       "      <td>CHICAGO</td>\n",
       "      <td>IL</td>\n",
       "      <td>60602</td>\n",
       "      <td>2010-02-17T00:00:00.000</td>\n",
       "      <td>License</td>\n",
       "      <td>Pass</td>\n",
       "      <td>NaN</td>\n",
       "      <td>NaN</td>\n",
       "      <td>NaN</td>\n",
       "      <td>NaN</td>\n",
       "      <td>02/17/10</td>\n",
       "    </tr>\n",
       "    <tr>\n",
       "      <th>198265</th>\n",
       "      <td>401248</td>\n",
       "      <td>65 ASIAN KITCHKEN</td>\n",
       "      <td>65 ASIAN KITCHKEN</td>\n",
       "      <td>1474110</td>\n",
       "      <td>Restaurant</td>\n",
       "      <td>Risk 1 (High)</td>\n",
       "      <td>111 W JACKSON BLVD</td>\n",
       "      <td>CHICAGO</td>\n",
       "      <td>IL</td>\n",
       "      <td>60604</td>\n",
       "      <td>2010-10-01T00:00:00.000</td>\n",
       "      <td>Canvass Re-Inspection</td>\n",
       "      <td>Pass</td>\n",
       "      <td>NaN</td>\n",
       "      <td>NaN</td>\n",
       "      <td>NaN</td>\n",
       "      <td>NaN</td>\n",
       "      <td>10/01/10</td>\n",
       "    </tr>\n",
       "    <tr>\n",
       "      <th>153037</th>\n",
       "      <td>1110303</td>\n",
       "      <td>NORTHWESTERN MEMORIAL HOSPITAL (CAFETERIA-2ND)</td>\n",
       "      <td>CAFE 251</td>\n",
       "      <td>10393</td>\n",
       "      <td>Restaurant</td>\n",
       "      <td>Risk 1 (High)</td>\n",
       "      <td>251 E HURON ST</td>\n",
       "      <td>CHICAGO</td>\n",
       "      <td>IL</td>\n",
       "      <td>60611</td>\n",
       "      <td>2013-03-06T00:00:00.000</td>\n",
       "      <td>Canvass Re-Inspection</td>\n",
       "      <td>Pass</td>\n",
       "      <td>NaN</td>\n",
       "      <td>NaN</td>\n",
       "      <td>NaN</td>\n",
       "      <td>NaN</td>\n",
       "      <td>03/06/13</td>\n",
       "    </tr>\n",
       "    <tr>\n",
       "      <th>177297</th>\n",
       "      <td>569700</td>\n",
       "      <td>HEAVEN ON SEVEN ON RUSH</td>\n",
       "      <td>HEAVEN ON SEVEN ON RUSH</td>\n",
       "      <td>54289</td>\n",
       "      <td>Restaurant</td>\n",
       "      <td>Risk 1 (High)</td>\n",
       "      <td>600 N MICHIGAN AVE</td>\n",
       "      <td>CHICAGO</td>\n",
       "      <td>IL</td>\n",
       "      <td>60611</td>\n",
       "      <td>2011-11-16T00:00:00.000</td>\n",
       "      <td>Canvass Re-Inspection</td>\n",
       "      <td>Pass</td>\n",
       "      <td>NaN</td>\n",
       "      <td>NaN</td>\n",
       "      <td>NaN</td>\n",
       "      <td>NaN</td>\n",
       "      <td>11/16/11</td>\n",
       "    </tr>\n",
       "    <tr>\n",
       "      <th>198944</th>\n",
       "      <td>401219</td>\n",
       "      <td>HAROLD'S CHICKEN SHACK</td>\n",
       "      <td>HAROLD'S CHICKEN SHACK</td>\n",
       "      <td>30085</td>\n",
       "      <td>Restaurant</td>\n",
       "      <td>Risk 2 (Medium)</td>\n",
       "      <td>636 S WABASH AVE</td>\n",
       "      <td>CHICAGO</td>\n",
       "      <td>IL</td>\n",
       "      <td>60605</td>\n",
       "      <td>2010-09-21T00:00:00.000</td>\n",
       "      <td>Complaint Re-Inspection</td>\n",
       "      <td>Pass</td>\n",
       "      <td>NaN</td>\n",
       "      <td>NaN</td>\n",
       "      <td>NaN</td>\n",
       "      <td>NaN</td>\n",
       "      <td>09/21/10</td>\n",
       "    </tr>\n",
       "    <tr>\n",
       "      <th>190167</th>\n",
       "      <td>569251</td>\n",
       "      <td>FOX &amp; OBEL</td>\n",
       "      <td>FOX &amp; OBEL</td>\n",
       "      <td>1893331</td>\n",
       "      <td>Restaurant</td>\n",
       "      <td>Risk 1 (High)</td>\n",
       "      <td>401 E ILLINOIS ST</td>\n",
       "      <td>CHICAGO</td>\n",
       "      <td>IL</td>\n",
       "      <td>60611</td>\n",
       "      <td>2011-03-21T00:00:00.000</td>\n",
       "      <td>Complaint Re-Inspection</td>\n",
       "      <td>Pass</td>\n",
       "      <td>NaN</td>\n",
       "      <td>NaN</td>\n",
       "      <td>NaN</td>\n",
       "      <td>NaN</td>\n",
       "      <td>03/21/11</td>\n",
       "    </tr>\n",
       "    <tr>\n",
       "      <th>63385</th>\n",
       "      <td>2049240</td>\n",
       "      <td>HOTEL EMC2</td>\n",
       "      <td>HOTEL EMC2</td>\n",
       "      <td>2496530</td>\n",
       "      <td>Restaurant</td>\n",
       "      <td>Risk 1 (High)</td>\n",
       "      <td>228 E ONTARIO ST</td>\n",
       "      <td>CHICAGO</td>\n",
       "      <td>IL</td>\n",
       "      <td>60611</td>\n",
       "      <td>2017-04-25T00:00:00.000</td>\n",
       "      <td>License</td>\n",
       "      <td>Pass</td>\n",
       "      <td>NaN</td>\n",
       "      <td>NaN</td>\n",
       "      <td>NaN</td>\n",
       "      <td>NaN</td>\n",
       "      <td>04/25/17</td>\n",
       "    </tr>\n",
       "    <tr>\n",
       "      <th>19715</th>\n",
       "      <td>2304586</td>\n",
       "      <td>ROOTS HANDMADE PIZZA - SECOND CITY/UTOPIAN TAILGAT</td>\n",
       "      <td>ROOTS HANDMADE PIZZA - SECOND CITY/UTOPIAN TAILGAT</td>\n",
       "      <td>2636845</td>\n",
       "      <td>Restaurant</td>\n",
       "      <td>Risk 3 (Low)</td>\n",
       "      <td>1610 N WELLS ST</td>\n",
       "      <td>CHICAGO</td>\n",
       "      <td>IL</td>\n",
       "      <td>60614</td>\n",
       "      <td>2019-08-13T00:00:00.000</td>\n",
       "      <td>License</td>\n",
       "      <td>Fail</td>\n",
       "      <td>NaN</td>\n",
       "      <td>NaN</td>\n",
       "      <td>NaN</td>\n",
       "      <td>NaN</td>\n",
       "      <td>08/13/19</td>\n",
       "    </tr>\n",
       "    <tr>\n",
       "      <th>103323</th>\n",
       "      <td>1561255</td>\n",
       "      <td>BRONZEVILLE MARKET PLACE INC</td>\n",
       "      <td>BRONZEVILLE MARKET PLACE</td>\n",
       "      <td>2412417</td>\n",
       "      <td>Grocery Store</td>\n",
       "      <td>Risk 2 (Medium)</td>\n",
       "      <td>450 E 43RD ST</td>\n",
       "      <td>CHICAGO</td>\n",
       "      <td>IL</td>\n",
       "      <td>60653</td>\n",
       "      <td>2015-07-15T00:00:00.000</td>\n",
       "      <td>License</td>\n",
       "      <td>Pass</td>\n",
       "      <td>NaN</td>\n",
       "      <td>NaN</td>\n",
       "      <td>NaN</td>\n",
       "      <td>NaN</td>\n",
       "      <td>07/15/15</td>\n",
       "    </tr>\n",
       "    <tr>\n",
       "      <th>66269</th>\n",
       "      <td>1995332</td>\n",
       "      <td>CHINA CHEF</td>\n",
       "      <td>CHINA CHEF</td>\n",
       "      <td>2245705</td>\n",
       "      <td>Restaurant</td>\n",
       "      <td>Risk 1 (High)</td>\n",
       "      <td>4600 W BELMONT AVE</td>\n",
       "      <td>CHICAGO</td>\n",
       "      <td>IL</td>\n",
       "      <td>60641</td>\n",
       "      <td>2017-03-09T00:00:00.000</td>\n",
       "      <td>Complaint Re-Inspection</td>\n",
       "      <td>Pass</td>\n",
       "      <td>NaN</td>\n",
       "      <td>NaN</td>\n",
       "      <td>NaN</td>\n",
       "      <td>NaN</td>\n",
       "      <td>03/09/17</td>\n",
       "    </tr>\n",
       "  </tbody>\n",
       "</table>\n",
       "</div>"
      ],
      "text/plain": [
       "       inspection_id                                            dba_name  \\\n",
       "210015        197273                                       DUNKIN DONUTS   \n",
       "198265        401248                                   65 ASIAN KITCHKEN   \n",
       "153037       1110303      NORTHWESTERN MEMORIAL HOSPITAL (CAFETERIA-2ND)   \n",
       "177297        569700                             HEAVEN ON SEVEN ON RUSH   \n",
       "198944        401219                              HAROLD'S CHICKEN SHACK   \n",
       "190167        569251                                          FOX & OBEL   \n",
       "63385        2049240                                          HOTEL EMC2   \n",
       "19715        2304586  ROOTS HANDMADE PIZZA - SECOND CITY/UTOPIAN TAILGAT   \n",
       "103323       1561255                        BRONZEVILLE MARKET PLACE INC   \n",
       "66269        1995332                                          CHINA CHEF   \n",
       "\n",
       "                                                  aka_name license_  \\\n",
       "210015                    DUNKIN DONUTS / BASKIN & ROBBINS  2020849   \n",
       "198265                                   65 ASIAN KITCHKEN  1474110   \n",
       "153037                                            CAFE 251    10393   \n",
       "177297                             HEAVEN ON SEVEN ON RUSH    54289   \n",
       "198944                              HAROLD'S CHICKEN SHACK    30085   \n",
       "190167                                          FOX & OBEL  1893331   \n",
       "63385                                           HOTEL EMC2  2496530   \n",
       "19715   ROOTS HANDMADE PIZZA - SECOND CITY/UTOPIAN TAILGAT  2636845   \n",
       "103323                            BRONZEVILLE MARKET PLACE  2412417   \n",
       "66269                                           CHINA CHEF  2245705   \n",
       "\n",
       "        facility_type             risk             address     city state  \\\n",
       "210015     Restaurant  Risk 2 (Medium)      6 N WABASH AVE  CHICAGO    IL   \n",
       "198265     Restaurant    Risk 1 (High)  111 W JACKSON BLVD  CHICAGO    IL   \n",
       "153037     Restaurant    Risk 1 (High)      251 E HURON ST  CHICAGO    IL   \n",
       "177297     Restaurant    Risk 1 (High)  600 N MICHIGAN AVE  CHICAGO    IL   \n",
       "198944     Restaurant  Risk 2 (Medium)    636 S WABASH AVE  CHICAGO    IL   \n",
       "190167     Restaurant    Risk 1 (High)   401 E ILLINOIS ST  CHICAGO    IL   \n",
       "63385      Restaurant    Risk 1 (High)    228 E ONTARIO ST  CHICAGO    IL   \n",
       "19715      Restaurant     Risk 3 (Low)     1610 N WELLS ST  CHICAGO    IL   \n",
       "103323  Grocery Store  Risk 2 (Medium)       450 E 43RD ST  CHICAGO    IL   \n",
       "66269      Restaurant    Risk 1 (High)  4600 W BELMONT AVE  CHICAGO    IL   \n",
       "\n",
       "          zip          inspection_date          inspection_type results  \\\n",
       "210015  60602  2010-02-17T00:00:00.000                  License    Pass   \n",
       "198265  60604  2010-10-01T00:00:00.000    Canvass Re-Inspection    Pass   \n",
       "153037  60611  2013-03-06T00:00:00.000    Canvass Re-Inspection    Pass   \n",
       "177297  60611  2011-11-16T00:00:00.000    Canvass Re-Inspection    Pass   \n",
       "198944  60605  2010-09-21T00:00:00.000  Complaint Re-Inspection    Pass   \n",
       "190167  60611  2011-03-21T00:00:00.000  Complaint Re-Inspection    Pass   \n",
       "63385   60611  2017-04-25T00:00:00.000                  License    Pass   \n",
       "19715   60614  2019-08-13T00:00:00.000                  License    Fail   \n",
       "103323  60653  2015-07-15T00:00:00.000                  License    Pass   \n",
       "66269   60641  2017-03-09T00:00:00.000  Complaint Re-Inspection    Pass   \n",
       "\n",
       "       violations latitude longitude location inspection_date_new  \n",
       "210015        NaN      NaN       NaN      NaN            02/17/10  \n",
       "198265        NaN      NaN       NaN      NaN            10/01/10  \n",
       "153037        NaN      NaN       NaN      NaN            03/06/13  \n",
       "177297        NaN      NaN       NaN      NaN            11/16/11  \n",
       "198944        NaN      NaN       NaN      NaN            09/21/10  \n",
       "190167        NaN      NaN       NaN      NaN            03/21/11  \n",
       "63385         NaN      NaN       NaN      NaN            04/25/17  \n",
       "19715         NaN      NaN       NaN      NaN            08/13/19  \n",
       "103323        NaN      NaN       NaN      NaN            07/15/15  \n",
       "66269         NaN      NaN       NaN      NaN            03/09/17  "
      ]
     },
     "execution_count": 68,
     "metadata": {},
     "output_type": "execute_result"
    }
   ],
   "source": [
    "df[df['violations'].isna()].sample(n=10, random_state=512)"
   ]
  },
  {
   "cell_type": "markdown",
   "metadata": {},
   "source": [
    "The inspector's comments are a key independent variable. Therefore, any records with missing comments have to be dropped"
   ]
  },
  {
   "cell_type": "code",
   "execution_count": 69,
   "metadata": {},
   "outputs": [],
   "source": [
    "df = df.dropna(subset=['violations'])"
   ]
  },
  {
   "cell_type": "markdown",
   "metadata": {},
   "source": [
    "**latitude & longitude, and location**"
   ]
  },
  {
   "cell_type": "code",
   "execution_count": 70,
   "metadata": {},
   "outputs": [
    {
     "name": "stdout",
     "output_type": "stream",
     "text": [
      "lat: 154716\n",
      "long: 154716\n",
      "location: 154716\n"
     ]
    }
   ],
   "source": [
    "print('lat:',df.latitude.isna().sum())\n",
    "print('long:',df.longitude.isna().sum())\n",
    "print('location:',df['location'].isna().sum())"
   ]
  },
  {
   "cell_type": "code",
   "execution_count": 71,
   "metadata": {},
   "outputs": [],
   "source": [
    "df['latitude'] = df['latitude'].fillna('Not Disclosed')\n",
    "df['longitude'] = df['longitude'].fillna('Not Disclosed')\n",
    "df['location'] = df['location'].fillna('Not Disclosed')\n"
   ]
  },
  {
   "cell_type": "code",
   "execution_count": null,
   "metadata": {},
   "outputs": [],
   "source": []
  },
  {
   "cell_type": "markdown",
   "metadata": {},
   "source": [
    "I want to use the address and the geopy package to pull the latitude and longitude values. But I noticed there were a lot of typos in the City list. We know that a city can have multiple zipcodes but a zipcode can only have one city."
   ]
  },
  {
   "cell_type": "markdown",
   "metadata": {},
   "source": [
    "## sample geopy code"
   ]
  },
  {
   "cell_type": "code",
   "execution_count": 72,
   "metadata": {},
   "outputs": [
    {
     "name": "stdout",
     "output_type": "stream",
     "text": [
      "121, North LaSalle Street, Loop, Chicago, Cook County, Illinois, 60602, United States of America\n",
      "(41.88341706625744, -87.632303164487)\n",
      "{'place_id': 248024928, 'licence': 'Data © OpenStreetMap contributors, ODbL 1.0. https://osm.org/copyright', 'osm_type': 'way', 'osm_id': 435704691, 'boundingbox': ['41.883367066257', '41.883467066257', '-87.632353164487', '-87.632253164487'], 'lat': '41.88341706625744', 'lon': '-87.632303164487', 'display_name': '121, North LaSalle Street, Loop, Chicago, Cook County, Illinois, 60602, United States of America', 'class': 'place', 'type': 'house', 'importance': 0.731}\n"
     ]
    }
   ],
   "source": [
    "from geopy.geocoders import Nominatim\n",
    "geolocator = Nominatim(user_agent=\"test\")\n",
    "location = geolocator.geocode(\"121 N LaSalle St, Chicago, IL 60602\")\n",
    "print(location.address)\n",
    "print((location.latitude, location.longitude))\n",
    "print(location.raw)\n"
   ]
  },
  {
   "cell_type": "code",
   "execution_count": null,
   "metadata": {},
   "outputs": [],
   "source": []
  },
  {
   "cell_type": "code",
   "execution_count": null,
   "metadata": {},
   "outputs": [],
   "source": []
  },
  {
   "cell_type": "code",
   "execution_count": null,
   "metadata": {},
   "outputs": [],
   "source": []
  },
  {
   "cell_type": "code",
   "execution_count": null,
   "metadata": {},
   "outputs": [],
   "source": []
  },
  {
   "cell_type": "markdown",
   "metadata": {},
   "source": [
    "Shape of the dataset"
   ]
  },
  {
   "cell_type": "code",
   "execution_count": 73,
   "metadata": {},
   "outputs": [
    {
     "data": {
      "text/plain": [
       "(155001, 18)"
      ]
     },
     "execution_count": 73,
     "metadata": {},
     "output_type": "execute_result"
    }
   ],
   "source": [
    "df.shape"
   ]
  },
  {
   "cell_type": "markdown",
   "metadata": {},
   "source": [
    "# Data Dictionary\n",
    "\n",
    "**Inspection ID:** unqiue identifier\n",
    "\n",
    "**DBA Name:** \"doing businessness as\"\n",
    "\n",
    "**AKA Name:** \"also known as\"\n",
    "\n",
    "**License #:** License Number identification\n",
    "\n",
    "**Facility Type:** The type of facility. Examples include: restaurant, grocery store, school, bakery, catering, etc.\n",
    "\n",
    "**Risk:** Risk category. Categorical value of risk 1, risk 2, risk 3, or \"all\".\n",
    "\n",
    "**Address:** Number and street name. For example, 401 N WABASH AVE\n",
    "\n",
    "**City:** Self explanatory\n",
    "\n",
    "**State:** Self explanatory\n",
    "\n",
    "**Zip:** Self explanatory\n",
    "\n",
    "**Inspection Date:**\n",
    "\n",
    "**Inspection Type:** \n",
    "\n",
    "**Results:** Categorical value: Pass, Fail, Pass w/ Conditions, Out of Business, No Entry, Not Ready, Business Not Located\n",
    "\n",
    "**Violations:** String of specific code violation and inspector's comments.\n",
    "\n",
    "**Latitude:** Self explanatory\n",
    "\n",
    "**Longitude:** Self explanatory\n",
    "\n",
    "**Location:** Comination of latitude and longitude columns"
   ]
  },
  {
   "cell_type": "markdown",
   "metadata": {},
   "source": [
    "<a id='observations'></a>\n",
    "### 2.1 Observations\n",
    "\n",
    "Two analyses: descriptive analysis and predictive modeling. For the predictive modeling, we only care about the 'results' and 'violations' columns\n",
    "\n"
   ]
  },
  {
   "cell_type": "code",
   "execution_count": 74,
   "metadata": {},
   "outputs": [
    {
     "data": {
      "text/plain": [
       "Restaurant                         106066\n",
       "Grocery Store                       19972\n",
       "School                              11412\n",
       "Children's Services Facility         2704\n",
       "Bakery                               2326\n",
       "Daycare Above and Under 2 Years      1984\n",
       "Daycare (2 - 6 Years)                1937\n",
       "Long Term Care                       1217\n",
       "Catering                              856\n",
       "Liquor                                513\n",
       "Daycare Combo 1586                    491\n",
       "Golden Diner                          455\n",
       "Mobile Food Preparer                  412\n",
       "Hospital                              404\n",
       "Wholesale                             315\n",
       "Name: facility_type, dtype: int64"
      ]
     },
     "execution_count": 74,
     "metadata": {},
     "output_type": "execute_result"
    }
   ],
   "source": [
    "#Ten most popular facility types\n",
    "df['facility_type'].value_counts()[:15]"
   ]
  },
  {
   "cell_type": "code",
   "execution_count": 75,
   "metadata": {},
   "outputs": [
    {
     "data": {
      "image/png": "[encoded data removed]",
      "text/plain": [
       "<Figure size 640x480 with 1 Axes>"
      ]
     },
     "metadata": {},
     "output_type": "display_data"
    }
   ],
   "source": [
    "vc = df['facility_type'].str.upper().value_counts()[:5]\n",
    "\n",
    "\n",
    "import matplotlib.pyplot as plt; plt.rcdefaults()\n",
    "import numpy as np\n",
    "import matplotlib.pyplot as plt\n",
    "\n",
    "objects = vc.keys()\n",
    "y_pos = np.arange(len(objects))\n",
    "performance = vc.values\n",
    "\n",
    "plt.barh(y_pos, performance, align='center', alpha=0.5)\n",
    "plt.yticks(y_pos, objects, fontsize=6)\n",
    "plt.xlabel('Count', fontsize=6)\n",
    "plt.title('Five Most Popular Facility Types')\n",
    "\n",
    "plt.show()"
   ]
  },
  {
   "cell_type": "code",
   "execution_count": 76,
   "metadata": {},
   "outputs": [
    {
     "data": {
      "text/plain": [
       "Risk 1 (High)      116738\n",
       "Risk 2 (Medium)     29228\n",
       "Risk 3 (Low)         9033\n",
       "Not Disclosed           2\n",
       "Name: risk, dtype: int64"
      ]
     },
     "execution_count": 76,
     "metadata": {},
     "output_type": "execute_result"
    }
   ],
   "source": [
    "df['risk'].value_counts()"
   ]
  },
  {
   "cell_type": "code",
   "execution_count": 77,
   "metadata": {},
   "outputs": [
    {
     "data": {
      "image/png": "[encoded data removed]",
      "text/plain": [
       "<Figure size 640x480 with 1 Axes>"
      ]
     },
     "metadata": {},
     "output_type": "display_data"
    }
   ],
   "source": [
    "vc = df['risk'].value_counts()\n",
    "\n",
    "import matplotlib.pyplot as plt; plt.rcdefaults()\n",
    "import numpy as np\n",
    "import matplotlib.pyplot as plt\n",
    "\n",
    "objects = vc.keys()\n",
    "y_pos = np.arange(len(objects))\n",
    "performance = vc.values\n",
    "\n",
    "plt.bar(y_pos, performance, align='center', alpha=0.5)\n",
    "plt.xticks(y_pos, objects, fontsize=6)\n",
    "plt.ylabel('Count', fontsize=6)\n",
    "plt.title('Risk')\n",
    "\n",
    "plt.show()"
   ]
  },
  {
   "cell_type": "code",
   "execution_count": 78,
   "metadata": {},
   "outputs": [
    {
     "data": {
      "text/html": [
       "<div>\n",
       "<style scoped>\n",
       "    .dataframe tbody tr th:only-of-type {\n",
       "        vertical-align: middle;\n",
       "    }\n",
       "\n",
       "    .dataframe tbody tr th {\n",
       "        vertical-align: top;\n",
       "    }\n",
       "\n",
       "    .dataframe thead th {\n",
       "        text-align: right;\n",
       "    }\n",
       "</style>\n",
       "<table border=\"1\" class=\"dataframe\">\n",
       "  <thead>\n",
       "    <tr style=\"text-align: right;\">\n",
       "      <th></th>\n",
       "      <th>inspection_id</th>\n",
       "      <th>dba_name</th>\n",
       "      <th>aka_name</th>\n",
       "      <th>license_</th>\n",
       "      <th>facility_type</th>\n",
       "      <th>risk</th>\n",
       "      <th>address</th>\n",
       "      <th>city</th>\n",
       "      <th>state</th>\n",
       "      <th>zip</th>\n",
       "      <th>inspection_date</th>\n",
       "      <th>inspection_type</th>\n",
       "      <th>results</th>\n",
       "      <th>violations</th>\n",
       "      <th>latitude</th>\n",
       "      <th>longitude</th>\n",
       "      <th>location</th>\n",
       "      <th>inspection_date_new</th>\n",
       "    </tr>\n",
       "  </thead>\n",
       "  <tbody>\n",
       "    <tr>\n",
       "      <th>159565</th>\n",
       "      <td>1202486</td>\n",
       "      <td>MY MOTHER'S KITCHEN</td>\n",
       "      <td>MY MOTHER'S KITCHEN</td>\n",
       "      <td>2120593</td>\n",
       "      <td>Restaurant</td>\n",
       "      <td>Risk 1 (High)</td>\n",
       "      <td>6818 W NORTH AVE</td>\n",
       "      <td>CHICAGO</td>\n",
       "      <td>IL</td>\n",
       "      <td>60707</td>\n",
       "      <td>2012-10-25T00:00:00.000</td>\n",
       "      <td>Canvass</td>\n",
       "      <td>Pass</td>\n",
       "      <td>33. FOOD AND NON-FOOD CONTACT EQUIPMENT UTENSILS CLEAN, FREE OF ABRASIVE DETERGENTS - Comments: CLEAN THE FRYERS AND THE CABINETS BELOW AND THE FILTERS ABOVE HAS GREASE BUILDUP ON THEM. | 34. FLOORS: CONSTRUCTED PER CODE, CLEANED, GOOD REPAIR, COVING INSTALLED, DUST-LESS CLEANING METHODS USED - Comments: CLEAN THE BASEMENT FLOORS IN THE FURNACE ROOM ALONG THE WALLS AND IN THE CORNERS SOME DUST ON THEM.    IN THE WOMENS TOILET SOME FLOOR TILES ARE LOOSE AND SOME ARE CRACKED.  INSTRUCTED TO SECURE THE ONES THAT ARE LOOSE AND REPLACE THE ONES THAT ARE CRACKED.</td>\n",
       "      <td>Not Disclosed</td>\n",
       "      <td>Not Disclosed</td>\n",
       "      <td>Not Disclosed</td>\n",
       "      <td>10/25/12</td>\n",
       "    </tr>\n",
       "  </tbody>\n",
       "</table>\n",
       "</div>"
      ],
      "text/plain": [
       "       inspection_id             dba_name             aka_name license_  \\\n",
       "159565       1202486  MY MOTHER'S KITCHEN  MY MOTHER'S KITCHEN  2120593   \n",
       "\n",
       "       facility_type           risk           address     city state    zip  \\\n",
       "159565    Restaurant  Risk 1 (High)  6818 W NORTH AVE  CHICAGO    IL  60707   \n",
       "\n",
       "                inspection_date inspection_type results  \\\n",
       "159565  2012-10-25T00:00:00.000         Canvass    Pass   \n",
       "\n",
       "                                                                                                                                                                                                                                                                                                                                                                                                                                                                                                                                                                                 violations  \\\n",
       "159565  33. FOOD AND NON-FOOD CONTACT EQUIPMENT UTENSILS CLEAN, FREE OF ABRASIVE DETERGENTS - Comments: CLEAN THE FRYERS AND THE CABINETS BELOW AND THE FILTERS ABOVE HAS GREASE BUILDUP ON THEM. | 34. FLOORS: CONSTRUCTED PER CODE, CLEANED, GOOD REPAIR, COVING INSTALLED, DUST-LESS CLEANING METHODS USED - Comments: CLEAN THE BASEMENT FLOORS IN THE FURNACE ROOM ALONG THE WALLS AND IN THE CORNERS SOME DUST ON THEM.    IN THE WOMENS TOILET SOME FLOOR TILES ARE LOOSE AND SOME ARE CRACKED.  INSTRUCTED TO SECURE THE ONES THAT ARE LOOSE AND REPLACE THE ONES THAT ARE CRACKED.   \n",
       "\n",
       "             latitude      longitude       location inspection_date_new  \n",
       "159565  Not Disclosed  Not Disclosed  Not Disclosed            10/25/12  "
      ]
     },
     "execution_count": 78,
     "metadata": {},
     "output_type": "execute_result"
    }
   ],
   "source": [
    "#sample restaurant\n",
    "df[df['facility_type']=='Restaurant'].sample(n=1, random_state=777)"
   ]
  },
  {
   "cell_type": "markdown",
   "metadata": {},
   "source": [
    "Cities"
   ]
  },
  {
   "cell_type": "code",
   "execution_count": 79,
   "metadata": {},
   "outputs": [
    {
     "data": {
      "text/plain": [
       "CHICAGO              154873\n",
       "NOT DISCLOSED            50\n",
       "SCHAUMBURG               15\n",
       "ELK GROVE VILLAGE         8\n",
       "EVANSTON                  7\n",
       "MAYWOOD                   4\n",
       "ELMHURST                  4\n",
       "SKOKIE                    4\n",
       "NILES NILES               4\n",
       "PLAINFIELD                3\n",
       "Name: city, dtype: int64"
      ]
     },
     "execution_count": 79,
     "metadata": {},
     "output_type": "execute_result"
    }
   ],
   "source": [
    "df['city'].value_counts()[:10]"
   ]
  },
  {
   "cell_type": "code",
   "execution_count": 80,
   "metadata": {},
   "outputs": [
    {
     "data": {
      "text/plain": [
       "29"
      ]
     },
     "execution_count": 80,
     "metadata": {},
     "output_type": "execute_result"
    }
   ],
   "source": [
    "len(df['city'].unique())"
   ]
  },
  {
   "cell_type": "markdown",
   "metadata": {},
   "source": [
    "Results"
   ]
  },
  {
   "cell_type": "code",
   "execution_count": 81,
   "metadata": {},
   "outputs": [
    {
     "data": {
      "text/plain": [
       "Pass                  85754\n",
       "Fail                  37804\n",
       "Pass w/ Conditions    31443\n",
       "Name: results, dtype: int64"
      ]
     },
     "execution_count": 81,
     "metadata": {},
     "output_type": "execute_result"
    }
   ],
   "source": [
    "df['results'].value_counts()"
   ]
  },
  {
   "cell_type": "code",
   "execution_count": 82,
   "metadata": {},
   "outputs": [
    {
     "data": {
      "image/png": "[encoded data removed]",
      "text/plain": [
       "<Figure size 640x480 with 1 Axes>"
      ]
     },
     "metadata": {},
     "output_type": "display_data"
    }
   ],
   "source": [
    "vc = df['results'].value_counts()\n",
    "\n",
    "import matplotlib.pyplot as plt; plt.rcdefaults()\n",
    "import numpy as np\n",
    "import matplotlib.pyplot as plt\n",
    "\n",
    "objects = vc.keys()\n",
    "y_pos = np.arange(len(objects))\n",
    "performance = vc.values\n",
    "\n",
    "plt.bar(y_pos, performance, align='center', alpha=0.5)\n",
    "plt.xticks(y_pos, objects, fontsize=6)\n",
    "plt.ylabel('Count', fontsize=6)\n",
    "plt.title('Risk')\n",
    "\n",
    "plt.show()"
   ]
  },
  {
   "cell_type": "code",
   "execution_count": null,
   "metadata": {},
   "outputs": [],
   "source": []
  },
  {
   "cell_type": "code",
   "execution_count": 83,
   "metadata": {},
   "outputs": [
    {
     "data": {
      "text/plain": [
       "Index(['inspection_id', 'dba_name', 'aka_name', 'license_', 'facility_type',\n",
       "       'risk', 'address', 'city', 'state', 'zip', 'inspection_date',\n",
       "       'inspection_type', 'results', 'violations', 'latitude', 'longitude',\n",
       "       'location', 'inspection_date_new'],\n",
       "      dtype='object')"
      ]
     },
     "execution_count": 83,
     "metadata": {},
     "output_type": "execute_result"
    }
   ],
   "source": [
    "df.columns"
   ]
  },
  {
   "cell_type": "code",
   "execution_count": 84,
   "metadata": {},
   "outputs": [],
   "source": [
    "#Drop Unneccesary Columns\n",
    "select_cols = ['results', 'violations']\n",
    "\n",
    "#Create prediction dataframe for the prediction modeling\n",
    "pred_df = df.copy()\n",
    "pred_df = pred_df[select_cols]\n"
   ]
  },
  {
   "cell_type": "code",
   "execution_count": 85,
   "metadata": {},
   "outputs": [
    {
     "data": {
      "text/html": [
       "<div>\n",
       "<style scoped>\n",
       "    .dataframe tbody tr th:only-of-type {\n",
       "        vertical-align: middle;\n",
       "    }\n",
       "\n",
       "    .dataframe tbody tr th {\n",
       "        vertical-align: top;\n",
       "    }\n",
       "\n",
       "    .dataframe thead th {\n",
       "        text-align: right;\n",
       "    }\n",
       "</style>\n",
       "<table border=\"1\" class=\"dataframe\">\n",
       "  <thead>\n",
       "    <tr style=\"text-align: right;\">\n",
       "      <th></th>\n",
       "      <th>results</th>\n",
       "      <th>violations</th>\n",
       "    </tr>\n",
       "  </thead>\n",
       "  <tbody>\n",
       "    <tr>\n",
       "      <th>0</th>\n",
       "      <td>Pass w/ Conditions</td>\n",
       "      <td>3. MANAGEMENT, FOOD EMPLOYEE AND CONDITIONAL EMPLOYEE; KNOWLEDGE, RESPONSIBILITIES AND REPORTING - Comments: NO EMPLOYEE HEALTH POLICY ON SITE. MUST PROVIDE WRITTEN EMPLOYEE ACKNOWLEDGED POLICY FOR ALL EMPLOYEES. PRIORITY FOUNDATION VIOLATION. 7-38-010 CITATION ISSUED | 5. PROCEDURES FOR RESPONDING TO VOMITING AND DIARRHEAL EVENTS - Comments: NO VOMIT AND DIARRHEA CLEAN UP POLICY ON SITE. MUST PROVIDE PROCEDURE FOR THE CLEAN UP OF VOMIT AND DIARRHEAL EVENTS. MUST PROVIDE CORRESPONDING EQUIPMENT OUTLINED IN THE PROCEDURE. PRIORITY FOUNDATION VIOLATION. PRIORITY FOUNDATION 7-38-005 CITATION ISSUED  | 16. FOOD-CONTACT SURFACES: CLEANED &amp; SANITIZED - Comments: UNCLEAN KNIVES IN KNIFE RACK. INSTD TO CLEAN KNIVES AND STORE ONLY CLEAN KNIVES IN KNIFE RACK | 57. ALL FOOD EMPLOYEES HAVE FOOD HANDLER TRAINING - Comments: EMPLOYEE MISSING FOOD HANDLER TRAINING. INSTD TO OBTAIN TRAINING AND MAINTAIN VERIFICATION ON SITE</td>\n",
       "    </tr>\n",
       "    <tr>\n",
       "      <th>1</th>\n",
       "      <td>Fail</td>\n",
       "      <td>47. FOOD &amp; NON-FOOD CONTACT SURFACES CLEANABLE, PROPERLY DESIGNED, CONSTRUCTED &amp; USED - Comments: 4-501.12: CUTTING BOARD NEXT TO 3-COMPARTMENT SINK HEAVILY STAINED AND WITH DEEP, DARK GROOVES. INSTD TO REPLACE AND MAINTAIN CUTTING BOARDS. | 53. TOILET FACILITIES: PROPERLY CONSTRUCTED, SUPPLIED, &amp; CLEANED - Comments:  5-501.17: MISSING COVER FOR RECEPACLE IN TOILET ROOM. INSTD TO PROVIDE AND MAINTAIN | 59. PREVIOUS PRIORITY FOUNDATION VIOLATION CORRECTED - Comments: 8-404.13(B:4): **P** Enforcement by the Regulatory Authority (Non-Compliance) PREVIOUS PRIORITY FOUNDATION FROM 10/19/20 FROM REPORT 2453491 NOT CORRECTED   51 UNABLE TO LOCATE BACKFLOW DEVICE ON ICE MACHINES. INSTD TO BE ABLE TO LOCATE OR INSTALL SAME.   55 CRACKED FLOOR TILES NEAR REAR BASEMENT STAIRS. INSTD TO REPAIR TILES SO AS SURFACE TO BE SMOOTH EVEN AND EASILY CLEANABLE SURFACE.   55 REAR STAIRWELL LEADING TO BASEMENT NOT CLEAN, EXCESSIVE DEBRIS BUILD UP (STAIRS, RAILS, WALLS). INSTD TO CLEAN ALL AND MAINTAIN. ...</td>\n",
       "    </tr>\n",
       "  </tbody>\n",
       "</table>\n",
       "</div>"
      ],
      "text/plain": [
       "              results  \\\n",
       "0  Pass w/ Conditions   \n",
       "1                Fail   \n",
       "\n",
       "                                                                                                                                                                                                                                                                                                                                                                                                                                                                                                                                                                                                                                                                                                                                                                                                                                                                                                                                                                                                                               violations  \n",
       "0                                                                               3. MANAGEMENT, FOOD EMPLOYEE AND CONDITIONAL EMPLOYEE; KNOWLEDGE, RESPONSIBILITIES AND REPORTING - Comments: NO EMPLOYEE HEALTH POLICY ON SITE. MUST PROVIDE WRITTEN EMPLOYEE ACKNOWLEDGED POLICY FOR ALL EMPLOYEES. PRIORITY FOUNDATION VIOLATION. 7-38-010 CITATION ISSUED | 5. PROCEDURES FOR RESPONDING TO VOMITING AND DIARRHEAL EVENTS - Comments: NO VOMIT AND DIARRHEA CLEAN UP POLICY ON SITE. MUST PROVIDE PROCEDURE FOR THE CLEAN UP OF VOMIT AND DIARRHEAL EVENTS. MUST PROVIDE CORRESPONDING EQUIPMENT OUTLINED IN THE PROCEDURE. PRIORITY FOUNDATION VIOLATION. PRIORITY FOUNDATION 7-38-005 CITATION ISSUED  | 16. FOOD-CONTACT SURFACES: CLEANED & SANITIZED - Comments: UNCLEAN KNIVES IN KNIFE RACK. INSTD TO CLEAN KNIVES AND STORE ONLY CLEAN KNIVES IN KNIFE RACK | 57. ALL FOOD EMPLOYEES HAVE FOOD HANDLER TRAINING - Comments: EMPLOYEE MISSING FOOD HANDLER TRAINING. INSTD TO OBTAIN TRAINING AND MAINTAIN VERIFICATION ON SITE  \n",
       "1  47. FOOD & NON-FOOD CONTACT SURFACES CLEANABLE, PROPERLY DESIGNED, CONSTRUCTED & USED - Comments: 4-501.12: CUTTING BOARD NEXT TO 3-COMPARTMENT SINK HEAVILY STAINED AND WITH DEEP, DARK GROOVES. INSTD TO REPLACE AND MAINTAIN CUTTING BOARDS. | 53. TOILET FACILITIES: PROPERLY CONSTRUCTED, SUPPLIED, & CLEANED - Comments:  5-501.17: MISSING COVER FOR RECEPACLE IN TOILET ROOM. INSTD TO PROVIDE AND MAINTAIN | 59. PREVIOUS PRIORITY FOUNDATION VIOLATION CORRECTED - Comments: 8-404.13(B:4): **P** Enforcement by the Regulatory Authority (Non-Compliance) PREVIOUS PRIORITY FOUNDATION FROM 10/19/20 FROM REPORT 2453491 NOT CORRECTED   51 UNABLE TO LOCATE BACKFLOW DEVICE ON ICE MACHINES. INSTD TO BE ABLE TO LOCATE OR INSTALL SAME.   55 CRACKED FLOOR TILES NEAR REAR BASEMENT STAIRS. INSTD TO REPAIR TILES SO AS SURFACE TO BE SMOOTH EVEN AND EASILY CLEANABLE SURFACE.   55 REAR STAIRWELL LEADING TO BASEMENT NOT CLEAN, EXCESSIVE DEBRIS BUILD UP (STAIRS, RAILS, WALLS). INSTD TO CLEAN ALL AND MAINTAIN. ...  "
      ]
     },
     "execution_count": 85,
     "metadata": {},
     "output_type": "execute_result"
    }
   ],
   "source": [
    "pred_df.head(2)"
   ]
  },
  {
   "cell_type": "code",
   "execution_count": 86,
   "metadata": {},
   "outputs": [
    {
     "name": "stdout",
     "output_type": "stream",
     "text": [
      "<class 'pandas.core.frame.DataFrame'>\n",
      "Int64Index: 155001 entries, 0 to 212021\n",
      "Data columns (total 2 columns):\n",
      "results       155001 non-null object\n",
      "violations    155001 non-null object\n",
      "dtypes: object(2)\n",
      "memory usage: 3.5+ MB\n",
      "None\n",
      "       results  \\\n",
      "count   155001   \n",
      "unique       3   \n",
      "top       Pass   \n",
      "freq     85754   \n",
      "\n",
      "                                                                                                                               violations  \n",
      "count                                                                                                                              155001  \n",
      "unique                                                                                                                             153907  \n",
      "top     45. FOOD HANDLER REQUIREMENTS MET - Comments: ALL FOOD HANDLING EMPLOYEES MUST SHOW PROOF OF FOOD HANDLER TRAINING. MUST PROVIDE.  \n",
      "freq                                                                                                                                   12  \n"
     ]
    }
   ],
   "source": [
    "print(pred_df.info())\n",
    "print(pred_df.describe())"
   ]
  },
  {
   "cell_type": "markdown",
   "metadata": {},
   "source": [
    "Location"
   ]
  },
  {
   "cell_type": "markdown",
   "metadata": {},
   "source": [
    "<a id='engineering'></a>\n",
    "## 2. Feature Engineering\n",
    "\n",
    "Notice, the format of the violations column. The column includes the code violation number, the code description, and the inspector's comments on the specific violation. \n",
    "\n",
    "Sample:\n",
    "\n",
    "\"34. FLOORS: CONSTRUCTED PER CODE, CLEANED, GOOD REPAIR, COVING INSTALLED, DUST-LESS CLEANING METHODS USED - Comments: POOLING WATER THROUGHOUT REAR LARGE BAR. MUST MAINTAIN DRY. MISSING FLOOR TILES AND UNEVEN FLOORING THROUGHOUT DISH AREA WITH POOLING WATER. MUST MAKE FLOORS SMOOTH AND EASILY CLEANABLE.   | 35. WALLS, CEILINGS, ATTACHED EQUIPMENT CONSTRUCTED PER CODE: GOOD REPAIR, SURFACES CLEAN AND DUST-LESS CLEANING METHODS - Comments: MUST INSTALL CEILINGS IN THE NEWLY INSTALL FRONT WASHROOMS. RAW WOODEN WALL COVERING IN MENS WASHROOM. MUST PROPERLY SEAL.\"\n",
    "\n",
    "\n",
    "* Extract only comments from violations, drop rest of text\n",
    "\n",
    "\n",
    "* map Results_Flag\n",
    "The results currently fall into one of three buckets. I want to map these categorical columns to specific flag values."
   ]
  },
  {
   "cell_type": "code",
   "execution_count": 87,
   "metadata": {},
   "outputs": [
    {
     "data": {
      "text/plain": [
       "154243    14. PREVIOUS SERIOUS VIOLATION CORRECTED, 7-42-090 - Comments: PREVIOUS SERIOUS VIOLATIONS NOT CORRECTED PER MUNICIPAL CODE OF CHICAGO FROM REPORT #1154837 ON 1-28-13 AND #1154837 ON 2-4-13. 18-10-15 MICE DROPPINGS ON EXTENSION CORD LEADING FROM OUTLET BEHIND MICROWAVE, ABOVE CABINETS, TO OUTLET BEHIND REFRIGERATOR, 3 MICE DROPPINGS INSIDE CABINET UNDER 3-COMP SINK, 3 MICE DROPPINGS ON PLATE ON TOP OF POT FILLED WITH GREASE ON STOVE, 5 MICE DROPPINGS ON STOVE, 10-15 MICE DROPPINGS ON MUFFIN PANS, PLASTIC CONTAINERS AND MULTI-USE EQUIPMENT ON ROLLING CART IN KITCHEN, 10-15 MICE DROPPINGS ON FLOOR UNDER TABLE, BEHIND TOTES AND STORAGE BOXES IN SOUTHEAST CORNER NEAR EXIT DOOR, 5 MICE DROPPINGS ON TOY SHELVES UNDER CANVAS BAGS ALONG WEST WALL,  50-60 MICE DROPPINGS SCATTERED ON FLOOR BEHIND FRONT COUNTER ALONG WALLS BEHIND DOOR, FILE CABINETS, ETC. INSTRUCTED MANAGER TO CALL AN EXTERMINATOR FOR SERVICE, CLEAN AND SANITIZE ALL AREAS. PROVIDE RECENT PEST CONTROL LOG BOOK WITH PEST CONTR...\n",
       "Name: violations, dtype: object"
      ]
     },
     "execution_count": 87,
     "metadata": {},
     "output_type": "execute_result"
    }
   ],
   "source": [
    "#Check sample Violation entry\n",
    "pred_df['violations'].sample(n=1, random_state=512)"
   ]
  },
  {
   "cell_type": "code",
   "execution_count": 88,
   "metadata": {},
   "outputs": [],
   "source": [
    "#regex expression to extract the text following \"Comments:\"\n",
    "pred_df.violations = pred_df.violations.str.findall(r\"(?:\\sComments:\\s.*?)?(?:[|]|$)\")"
   ]
  },
  {
   "cell_type": "code",
   "execution_count": 89,
   "metadata": {},
   "outputs": [
    {
     "data": {
      "text/plain": [
       "154243    [ Comments: PREVIOUS SERIOUS VIOLATIONS NOT CORRECTED PER MUNICIPAL CODE OF CHICAGO FROM REPORT #1154837 ON 1-28-13 AND #1154837 ON 2-4-13. 18-10-15 MICE DROPPINGS ON EXTENSION CORD LEADING FROM OUTLET BEHIND MICROWAVE, ABOVE CABINETS, TO OUTLET BEHIND REFRIGERATOR, 3 MICE DROPPINGS INSIDE CABINET UNDER 3-COMP SINK, 3 MICE DROPPINGS ON PLATE ON TOP OF POT FILLED WITH GREASE ON STOVE, 5 MICE DROPPINGS ON STOVE, 10-15 MICE DROPPINGS ON MUFFIN PANS, PLASTIC CONTAINERS AND MULTI-USE EQUIPMENT ON ROLLING CART IN KITCHEN, 10-15 MICE DROPPINGS ON FLOOR UNDER TABLE, BEHIND TOTES AND STORAGE BOXES IN SOUTHEAST CORNER NEAR EXIT DOOR, 5 MICE DROPPINGS ON TOY SHELVES UNDER CANVAS BAGS ALONG WEST WALL,  50-60 MICE DROPPINGS SCATTERED ON FLOOR BEHIND FRONT COUNTER ALONG WALLS BEHIND DOOR, FILE CABINETS, ETC. INSTRUCTED MANAGER TO CALL AN EXTERMINATOR FOR SERVICE, CLEAN AND SANITIZE ALL AREAS. PROVIDE RECENT PEST CONTROL LOG BOOK WITH PEST CONTROL LICENSE NUMBER, CHEMICALS USED AND MAP OF TREATE...\n",
       "Name: violations, dtype: object"
      ]
     },
     "execution_count": 89,
     "metadata": {},
     "output_type": "execute_result"
    }
   ],
   "source": [
    "#Now check the same sample\n",
    "pred_df['violations'].sample(n=1, random_state=512)"
   ]
  },
  {
   "cell_type": "markdown",
   "metadata": {},
   "source": [
    "Notice, each observation is now a list of the inspector's comments. "
   ]
  },
  {
   "cell_type": "code",
   "execution_count": 90,
   "metadata": {},
   "outputs": [],
   "source": [
    "#Lemmatize Violations\n",
    "w_tokenizer = nltk.tokenize.WhitespaceTokenizer()\n",
    "lemmatizer = nltk.stem.WordNetLemmatizer()\n",
    "\n",
    "def lemmatize_text(text):\n",
    "    return [lemmatizer.lemmatize(w) for w in w_tokenizer.tokenize(text)]\n",
    "\n",
    "pred_df.violations = pred_df.violations.str.join(' ')\n",
    "\n",
    "#remove \"Comments\"\n",
    "pred_df['violations'] = pred_df['violations'].str.replace('Comments*\\s','')\n",
    "pred_df['violations'] = pred_df['violations'].str.replace('Comments','')\n",
    "\n",
    "#Remove Punctuation\n",
    "pred_df['violations'] = pred_df['violations'].str.replace('[^\\w\\s]','')\n",
    "\n",
    "#Remove non-alphanumeric\n",
    "pred_df['violations'] = pred_df['violations'].str.replace('[^\\D\\s]','')\n"
   ]
  },
  {
   "cell_type": "code",
   "execution_count": 91,
   "metadata": {},
   "outputs": [
    {
     "data": {
      "text/plain": [
       "154243      PREVIOUS SERIOUS VIOLATIONS NOT CORRECTED PER MUNICIPAL CODE OF CHICAGO FROM REPORT  ON  AND  ON   MICE DROPPINGS ON EXTENSION CORD LEADING FROM OUTLET BEHIND MICROWAVE ABOVE CABINETS TO OUTLET BEHIND REFRIGERATOR  MICE DROPPINGS INSIDE CABINET UNDER COMP SINK  MICE DROPPINGS ON PLATE ON TOP OF POT FILLED WITH GREASE ON STOVE  MICE DROPPINGS ON STOVE  MICE DROPPINGS ON MUFFIN PANS PLASTIC CONTAINERS AND MULTIUSE EQUIPMENT ON ROLLING CART IN KITCHEN  MICE DROPPINGS ON FLOOR UNDER TABLE BEHIND TOTES AND STORAGE BOXES IN SOUTHEAST CORNER NEAR EXIT DOOR  MICE DROPPINGS ON TOY SHELVES UNDER CANVAS BAGS ALONG WEST WALL   MICE DROPPINGS SCATTERED ON FLOOR BEHIND FRONT COUNTER ALONG WALLS BEHIND DOOR FILE CABINETS ETC INSTRUCTED MANAGER TO CALL AN EXTERMINATOR FOR SERVICE CLEAN AND SANITIZE ALL AREAS PROVIDE RECENT PEST CONTROL LOG BOOK WITH PEST CONTROL LICENSE NUMBER CHEMICALS USED AND MAP OF TREATED AREAS PREVIOUS MINOR VIOLATION NOT CORRECTED PER MUNICIPAL CODE OF CHICAGO FROM REPOR...\n",
       "Name: violations, dtype: object"
      ]
     },
     "execution_count": 91,
     "metadata": {},
     "output_type": "execute_result"
    }
   ],
   "source": [
    "#Now check sample violation\n",
    "pred_df['violations'].sample(n=1, random_state=512)"
   ]
  },
  {
   "cell_type": "markdown",
   "metadata": {},
   "source": [
    "Now, we need to conver the results column into a categorical flag"
   ]
  },
  {
   "cell_type": "code",
   "execution_count": 92,
   "metadata": {},
   "outputs": [
    {
     "data": {
      "text/plain": [
       "Pass                  85754\n",
       "Fail                  37804\n",
       "Pass w/ Conditions    31443\n",
       "Name: results, dtype: int64"
      ]
     },
     "execution_count": 92,
     "metadata": {},
     "output_type": "execute_result"
    }
   ],
   "source": [
    "pred_df['results'].value_counts()"
   ]
  },
  {
   "cell_type": "code",
   "execution_count": 93,
   "metadata": {},
   "outputs": [],
   "source": [
    "# convert label to a binary numerical variable\n",
    "pred_df['results_flag'] = pred_df.results.map({'Pass':0,\n",
    "                                     'Fail':1,\n",
    "                                     'Pass w/ Conditions':2,\n",
    "                                     'No Entry':3,\n",
    "                                     'Not Ready':4,\n",
    "                                     'Out of Business':5 })"
   ]
  },
  {
   "cell_type": "code",
   "execution_count": 94,
   "metadata": {},
   "outputs": [
    {
     "data": {
      "text/html": [
       "<div>\n",
       "<style scoped>\n",
       "    .dataframe tbody tr th:only-of-type {\n",
       "        vertical-align: middle;\n",
       "    }\n",
       "\n",
       "    .dataframe tbody tr th {\n",
       "        vertical-align: top;\n",
       "    }\n",
       "\n",
       "    .dataframe thead th {\n",
       "        text-align: right;\n",
       "    }\n",
       "</style>\n",
       "<table border=\"1\" class=\"dataframe\">\n",
       "  <thead>\n",
       "    <tr style=\"text-align: right;\">\n",
       "      <th></th>\n",
       "      <th>results</th>\n",
       "      <th>violations</th>\n",
       "      <th>results_flag</th>\n",
       "    </tr>\n",
       "  </thead>\n",
       "  <tbody>\n",
       "    <tr>\n",
       "      <th>3235</th>\n",
       "      <td>Pass</td>\n",
       "      <td>Violation Codes  Inspector  MUST PROVIDE HAND WASHING SIGNS AT ALL HAND SINKS ON PREMISES    Violation Codes  Inspector  MUST LABEL BULK FOOD STORAGE CONTAINERS IN WALK IN COOLER    Violation Codes  Inspector  MUST REPAIR OR REPLACE WORN DOOR GASKETS ON  DOOR PIZZA PREP COOLER AND ADJUST DOORS TO STAY CLOSED ON SAMEDAMAGED SHELVING UNIT IN WALK IN COOLER    Violation Codes C Inspector  MUST CLEAN DEBRIS BUILD UP FROM PREP TABLESREACH IN COOLERS AND FREEZERMOP SINK BASINHAND SINK BASIN IN DISH WASHING AREAFRYER CABINETS AND WHEEL BASESMICROWAVE SHELFSTEAM TABLEWALK IN COOLER FAN GUARD COVER  SHELVING UNITS    Violation Codes  Inspector  MUST REPAIR OR REPLACE SLOW DRAIN AT HAND SINK IN WOMENS TOILET ROOM    Violation Codes  Inspector  MUST HANG MOPS AND MOP HEADS UP TO DRYMUST REPAIR OR REPLACE BROKEN HANGING DRY SYSTEM ABOVE MOP SINK    Violation Codes  Inspector  MUST REPAIR OR REPLACE LOOSE WALL BASE IN MENS TOILET ROOMMISSING CEILING TILES IN MAIN PREP KITCHENLOOSE WINDOW TRI...</td>\n",
       "      <td>0</td>\n",
       "    </tr>\n",
       "    <tr>\n",
       "      <th>90225</th>\n",
       "      <td>Pass</td>\n",
       "      <td>ICE SCOOP MUST BE STORED IN A CLEAN SANITIZED CONTAINER AT ALL TIMES  MUST CORRECTED AND MAINTAIN</td>\n",
       "      <td>0</td>\n",
       "    </tr>\n",
       "    <tr>\n",
       "      <th>131791</th>\n",
       "      <td>Pass w/ Conditions</td>\n",
       "      <td>OBSERVED APPROXIMATELY LBS OF COOKED SHRIMP PATTYS VALUED  LEFT OUT ON STOVE AT  F PRODUCT WAS HELD NOT IN THE COOLING PROCESS AND WAS TOLD IT WAS HELD THERE FOR FOOD SERVICE PRODUCT WAS VOLUNTARILY DISCARDED AND DENATURED CRITICAL VIOLATION a    OBSERVED UNCLEAN FLOORS WITH DIRT BUILDUP IN BASEMENT UNDER AND BEHIND ALL LARGE EQUIPMENT CLEAN ALL FLOORS IN CORNERS AND UNDER AND BEHIND ALL LARGE EQUIPMENT AND MAINTAIN IN A SANITARY CONDITION    OBSERVED HAND SINK IN REAR PREP AREA LEAKING UNDERNEATH OBSERVED  COMPARTMENT SINK IN REAR PREP AREA LEAKING UNDERNEATH OBSERVED MOP SINK LEAKING FROM BACK FLOW PREVENTER LOCATED ON WALL ABOVE MOP SINK INSTRUCTED TO ABATE ALL LEAKING CONDITION AT HAND SINK  COMPARTMENT SINK AND MOP SINK AND MAINTAIN OBSERVED UNCLEAN FLOOR DRAINS WITH DIRT AND DEBRIS BUILDUP IN WALK IN BASEMENT AND UPSTAIRS KITCHEN REMOVE DIRT AND DEBRIS AND MAINTAIN IN A SANITARY CONDITIONOBSERVED VENT IN EMPLOYEE RESTROOM IN BASEMENT WITH DUST ACCUMULATION REMOVE DUST FROM...</td>\n",
       "      <td>2</td>\n",
       "    </tr>\n",
       "    <tr>\n",
       "      <th>171701</th>\n",
       "      <td>Pass</td>\n",
       "      <td>INSTRUCTED TO RE CAULK  COMPARTMENT SINK AND DISHMACHINE AREA  INSTRUCTED TO INSTALL ADDITIONAL WEATHER STRIP AT THE BOTTOM OF  REAR DOORS    INSTRUCTED TO CLEAN THE FOLLOWINHSHELVES FOR MULTI USE UTENSILSSHELVES FOR HOT LINE SERVICESHELVES IN REAR PREP AREA    FLOORS  ON CORNERS OF THE WALK IN COOLERWALK IN FREEZER UNCLEAN MUST BE CLEANED AND MAINTAINED  FLOOR IN REAR PREP AREA UNCLEAN MUST CLEAN AND MAINTAIN  FLOOR DRAIN IN BAR AREA MUST BE FLUSHED REGULARLY    WALLS UNDER  COMPARTMENT SINK AND HAND SINK IN BAR AREA UNCLEAN MUST CLEAN AND MAINTAIN    LEAKING FAUCET OF HAND SINK IN REAR PREP AREA MUST BE FIXED</td>\n",
       "      <td>0</td>\n",
       "    </tr>\n",
       "    <tr>\n",
       "      <th>41463</th>\n",
       "      <td>Fail</td>\n",
       "      <td>REAR DOOR NOT INSECTRODENT PROOFGAP OF  AND  AT BOTTOM OF THE DOORINSTRUCTED TO RODENT PROOF DOOR SERIOUS VIOLATION    NEED TO LABEL FOOD STORED IN COOLERS AND FREEZERS    OBSERVED FOAM CUPS INSIDE FOODINSTRUCTED TO REMOVE AND PROVIDE UTENSILS WITH HANDLE TO MINIMIZE  SOURCE OF CONTAMINATION PIECES OF RAW WOOD STORED INSIDE THE WALKIN COOLER ARE POROUS AND NOT CLEANABLEINSTRUCTED TO REMOVESURFACE MUST BE SMOOTH AND CLEANABLE  ATTACHED DRAIN BOARD MUST BE INSTALLED AT THREE COMPARTMENT SINK OR REINSTALL REMOVED DRAIN BOARDSURFACE MUST BE SMOOTH CLEANABLE AND NONABSORBENT SURFACE AND FREE FROM RUST  ICE BUILDUP ON PIPES UNDER AND BEHIND CONDENSER UNITINSIDE THE WALKIN FREEZER REPAIRREMOVE PLASTIC BAGSSURFACE MUST BE SMOOTHCLEANABLE AND NONABSORBENT SURFACE PEST CONTROL BINDER AND COVER FOR LICENSE AND OTHER DOCUMENT EXTREMELY GREASYSTICK AT TOUCH INSTRUCTED TO REPLACE    GREASE AT INTERIOR AND EXTERIOR OF COOKING EQUIPMENTALSO LIQUID FOOD SPILLAGE UNDER THE POP DISPENSERDUST BUILD...</td>\n",
       "      <td>1</td>\n",
       "    </tr>\n",
       "  </tbody>\n",
       "</table>\n",
       "</div>"
      ],
      "text/plain": [
       "                   results  \\\n",
       "3235                  Pass   \n",
       "90225                 Pass   \n",
       "131791  Pass w/ Conditions   \n",
       "171701                Pass   \n",
       "41463                 Fail   \n",
       "\n",
       "                                                                                                                                                                                                                                                                                                                                                                                                                                                                                                                                                                                                                                                                                                                                                                                                                                                                                                                                                                                                                                    violations  \\\n",
       "3235      Violation Codes  Inspector  MUST PROVIDE HAND WASHING SIGNS AT ALL HAND SINKS ON PREMISES    Violation Codes  Inspector  MUST LABEL BULK FOOD STORAGE CONTAINERS IN WALK IN COOLER    Violation Codes  Inspector  MUST REPAIR OR REPLACE WORN DOOR GASKETS ON  DOOR PIZZA PREP COOLER AND ADJUST DOORS TO STAY CLOSED ON SAMEDAMAGED SHELVING UNIT IN WALK IN COOLER    Violation Codes C Inspector  MUST CLEAN DEBRIS BUILD UP FROM PREP TABLESREACH IN COOLERS AND FREEZERMOP SINK BASINHAND SINK BASIN IN DISH WASHING AREAFRYER CABINETS AND WHEEL BASESMICROWAVE SHELFSTEAM TABLEWALK IN COOLER FAN GUARD COVER  SHELVING UNITS    Violation Codes  Inspector  MUST REPAIR OR REPLACE SLOW DRAIN AT HAND SINK IN WOMENS TOILET ROOM    Violation Codes  Inspector  MUST HANG MOPS AND MOP HEADS UP TO DRYMUST REPAIR OR REPLACE BROKEN HANGING DRY SYSTEM ABOVE MOP SINK    Violation Codes  Inspector  MUST REPAIR OR REPLACE LOOSE WALL BASE IN MENS TOILET ROOMMISSING CEILING TILES IN MAIN PREP KITCHENLOOSE WINDOW TRI...   \n",
       "90225                                                                                                                                                                                                                                                                                                                                                                                                                                                                                                                                                                                                                                                                                                                                                                                                                                                                                                                                       ICE SCOOP MUST BE STORED IN A CLEAN SANITIZED CONTAINER AT ALL TIMES  MUST CORRECTED AND MAINTAIN    \n",
       "131791    OBSERVED APPROXIMATELY LBS OF COOKED SHRIMP PATTYS VALUED  LEFT OUT ON STOVE AT  F PRODUCT WAS HELD NOT IN THE COOLING PROCESS AND WAS TOLD IT WAS HELD THERE FOR FOOD SERVICE PRODUCT WAS VOLUNTARILY DISCARDED AND DENATURED CRITICAL VIOLATION a    OBSERVED UNCLEAN FLOORS WITH DIRT BUILDUP IN BASEMENT UNDER AND BEHIND ALL LARGE EQUIPMENT CLEAN ALL FLOORS IN CORNERS AND UNDER AND BEHIND ALL LARGE EQUIPMENT AND MAINTAIN IN A SANITARY CONDITION    OBSERVED HAND SINK IN REAR PREP AREA LEAKING UNDERNEATH OBSERVED  COMPARTMENT SINK IN REAR PREP AREA LEAKING UNDERNEATH OBSERVED MOP SINK LEAKING FROM BACK FLOW PREVENTER LOCATED ON WALL ABOVE MOP SINK INSTRUCTED TO ABATE ALL LEAKING CONDITION AT HAND SINK  COMPARTMENT SINK AND MOP SINK AND MAINTAIN OBSERVED UNCLEAN FLOOR DRAINS WITH DIRT AND DEBRIS BUILDUP IN WALK IN BASEMENT AND UPSTAIRS KITCHEN REMOVE DIRT AND DEBRIS AND MAINTAIN IN A SANITARY CONDITIONOBSERVED VENT IN EMPLOYEE RESTROOM IN BASEMENT WITH DUST ACCUMULATION REMOVE DUST FROM...   \n",
       "171701                                                                                                                                                                                                                                                                                                                                                                                             INSTRUCTED TO RE CAULK  COMPARTMENT SINK AND DISHMACHINE AREA  INSTRUCTED TO INSTALL ADDITIONAL WEATHER STRIP AT THE BOTTOM OF  REAR DOORS    INSTRUCTED TO CLEAN THE FOLLOWINHSHELVES FOR MULTI USE UTENSILSSHELVES FOR HOT LINE SERVICESHELVES IN REAR PREP AREA    FLOORS  ON CORNERS OF THE WALK IN COOLERWALK IN FREEZER UNCLEAN MUST BE CLEANED AND MAINTAINED  FLOOR IN REAR PREP AREA UNCLEAN MUST CLEAN AND MAINTAIN  FLOOR DRAIN IN BAR AREA MUST BE FLUSHED REGULARLY    WALLS UNDER  COMPARTMENT SINK AND HAND SINK IN BAR AREA UNCLEAN MUST CLEAN AND MAINTAIN    LEAKING FAUCET OF HAND SINK IN REAR PREP AREA MUST BE FIXED    \n",
       "41463     REAR DOOR NOT INSECTRODENT PROOFGAP OF  AND  AT BOTTOM OF THE DOORINSTRUCTED TO RODENT PROOF DOOR SERIOUS VIOLATION    NEED TO LABEL FOOD STORED IN COOLERS AND FREEZERS    OBSERVED FOAM CUPS INSIDE FOODINSTRUCTED TO REMOVE AND PROVIDE UTENSILS WITH HANDLE TO MINIMIZE  SOURCE OF CONTAMINATION PIECES OF RAW WOOD STORED INSIDE THE WALKIN COOLER ARE POROUS AND NOT CLEANABLEINSTRUCTED TO REMOVESURFACE MUST BE SMOOTH AND CLEANABLE  ATTACHED DRAIN BOARD MUST BE INSTALLED AT THREE COMPARTMENT SINK OR REINSTALL REMOVED DRAIN BOARDSURFACE MUST BE SMOOTH CLEANABLE AND NONABSORBENT SURFACE AND FREE FROM RUST  ICE BUILDUP ON PIPES UNDER AND BEHIND CONDENSER UNITINSIDE THE WALKIN FREEZER REPAIRREMOVE PLASTIC BAGSSURFACE MUST BE SMOOTHCLEANABLE AND NONABSORBENT SURFACE PEST CONTROL BINDER AND COVER FOR LICENSE AND OTHER DOCUMENT EXTREMELY GREASYSTICK AT TOUCH INSTRUCTED TO REPLACE    GREASE AT INTERIOR AND EXTERIOR OF COOKING EQUIPMENTALSO LIQUID FOOD SPILLAGE UNDER THE POP DISPENSERDUST BUILD...   \n",
       "\n",
       "        results_flag  \n",
       "3235               0  \n",
       "90225              0  \n",
       "131791             2  \n",
       "171701             0  \n",
       "41463              1  "
      ]
     },
     "execution_count": 94,
     "metadata": {},
     "output_type": "execute_result"
    }
   ],
   "source": [
    "pred_df.sample(n=5, random_state=312)"
   ]
  },
  {
   "cell_type": "markdown",
   "metadata": {},
   "source": [
    "# Export Dataset"
   ]
  },
  {
   "cell_type": "code",
   "execution_count": 148,
   "metadata": {},
   "outputs": [],
   "source": [
    "from datetime import date\n",
    "\n",
    "today = date.today()\n",
    "df.to_csv('../dataset_exports/'+str(today)+'_data.csv')\n"
   ]
  },
  {
   "cell_type": "markdown",
   "metadata": {},
   "source": [
    "<a id='model'></a>\n",
    "# 3. Model"
   ]
  },
  {
   "cell_type": "markdown",
   "metadata": {},
   "source": [
    "<a id='modeloverview'> </a>\n",
    "## 3.1 Model Overview"
   ]
  },
  {
   "cell_type": "markdown",
   "metadata": {},
   "source": [
    "\n",
    "### 3.1 Set X & y Variables"
   ]
  },
  {
   "cell_type": "code",
   "execution_count": 95,
   "metadata": {},
   "outputs": [
    {
     "name": "stdout",
     "output_type": "stream",
     "text": [
      "(155001,)\n",
      "(155001,)\n"
     ]
    }
   ],
   "source": [
    "X = pred_df.violations\n",
    "y = pred_df.results_flag\n",
    "print(X.shape)\n",
    "print(y.shape)"
   ]
  },
  {
   "cell_type": "markdown",
   "metadata": {},
   "source": [
    "### 3.2 Train/Test Split"
   ]
  },
  {
   "cell_type": "code",
   "execution_count": 96,
   "metadata": {},
   "outputs": [
    {
     "name": "stdout",
     "output_type": "stream",
     "text": [
      "(124000,)\n",
      "(31001,)\n",
      "(124000,)\n",
      "(31001,)\n"
     ]
    }
   ],
   "source": [
    "# split X and y into training and testing sets\n",
    "X_train, X_test, y_train, y_test = train_test_split(X, y, \n",
    "                                                    test_size=0.20, \n",
    "                                                    stratify=y, \n",
    "                                                    random_state=123)\n",
    "print(X_train.shape)\n",
    "print(X_test.shape)\n",
    "print(y_train.shape)\n",
    "print(y_test.shape)"
   ]
  },
  {
   "cell_type": "markdown",
   "metadata": {},
   "source": [
    "### 3.3 Vectorize The Text"
   ]
  },
  {
   "cell_type": "code",
   "execution_count": 97,
   "metadata": {},
   "outputs": [
    {
     "data": {
      "text/plain": [
       "<124000x90729 sparse matrix of type '<class 'numpy.int64'>'\n",
       "\twith 8392952 stored elements in Compressed Sparse Row format>"
      ]
     },
     "execution_count": 97,
     "metadata": {},
     "output_type": "execute_result"
    }
   ],
   "source": [
    "# instantiate the vectorizer\n",
    "vect = CountVectorizer()\n",
    "\n",
    "# equivalently: combine fit and transform into a single step\n",
    "X_train_dtm = vect.fit_transform(X_train)\n",
    "\n",
    "# examine the document-term matrix\n",
    "X_train_dtm"
   ]
  },
  {
   "cell_type": "code",
   "execution_count": 98,
   "metadata": {},
   "outputs": [
    {
     "data": {
      "text/plain": [
       "<31001x90729 sparse matrix of type '<class 'numpy.int64'>'\n",
       "\twith 2079383 stored elements in Compressed Sparse Row format>"
      ]
     },
     "execution_count": 98,
     "metadata": {},
     "output_type": "execute_result"
    }
   ],
   "source": [
    "# transform testing data (using fitted vocabulary) into a document-term matrix\n",
    "X_test_dtm = vect.transform(X_test)\n",
    "X_test_dtm"
   ]
  },
  {
   "cell_type": "code",
   "execution_count": 99,
   "metadata": {},
   "outputs": [
    {
     "data": {
      "text/html": [
       "<div>\n",
       "<style scoped>\n",
       "    .dataframe tbody tr th:only-of-type {\n",
       "        vertical-align: middle;\n",
       "    }\n",
       "\n",
       "    .dataframe tbody tr th {\n",
       "        vertical-align: top;\n",
       "    }\n",
       "\n",
       "    .dataframe thead th {\n",
       "        text-align: right;\n",
       "    }\n",
       "</style>\n",
       "<table border=\"1\" class=\"dataframe\">\n",
       "  <thead>\n",
       "    <tr style=\"text-align: right;\">\n",
       "      <th></th>\n",
       "      <th>___lbs</th>\n",
       "      <th>__through</th>\n",
       "      <th>_a</th>\n",
       "      <th>aa</th>\n",
       "      <th>aab</th>\n",
       "      <th>aaccumuation</th>\n",
       "      <th>aade</th>\n",
       "      <th>aafound</th>\n",
       "      <th>aair</th>\n",
       "      <th>aal</th>\n",
       "      <th>...</th>\n",
       "      <th>zucchini</th>\n",
       "      <th>zucchinibaby</th>\n",
       "      <th>zucchinin</th>\n",
       "      <th>zuccini</th>\n",
       "      <th>zuchinicabbagecooked</th>\n",
       "      <th>zumba</th>\n",
       "      <th>zumex</th>\n",
       "      <th>zurich</th>\n",
       "      <th>ºc</th>\n",
       "      <th>ºf</th>\n",
       "    </tr>\n",
       "  </thead>\n",
       "  <tbody>\n",
       "    <tr>\n",
       "      <th>0</th>\n",
       "      <td>0</td>\n",
       "      <td>0</td>\n",
       "      <td>0</td>\n",
       "      <td>0</td>\n",
       "      <td>0</td>\n",
       "      <td>0</td>\n",
       "      <td>0</td>\n",
       "      <td>0</td>\n",
       "      <td>0</td>\n",
       "      <td>0</td>\n",
       "      <td>...</td>\n",
       "      <td>0</td>\n",
       "      <td>0</td>\n",
       "      <td>0</td>\n",
       "      <td>0</td>\n",
       "      <td>0</td>\n",
       "      <td>0</td>\n",
       "      <td>0</td>\n",
       "      <td>0</td>\n",
       "      <td>0</td>\n",
       "      <td>0</td>\n",
       "    </tr>\n",
       "    <tr>\n",
       "      <th>1</th>\n",
       "      <td>0</td>\n",
       "      <td>0</td>\n",
       "      <td>0</td>\n",
       "      <td>0</td>\n",
       "      <td>0</td>\n",
       "      <td>0</td>\n",
       "      <td>0</td>\n",
       "      <td>0</td>\n",
       "      <td>0</td>\n",
       "      <td>0</td>\n",
       "      <td>...</td>\n",
       "      <td>0</td>\n",
       "      <td>0</td>\n",
       "      <td>0</td>\n",
       "      <td>0</td>\n",
       "      <td>0</td>\n",
       "      <td>0</td>\n",
       "      <td>0</td>\n",
       "      <td>0</td>\n",
       "      <td>0</td>\n",
       "      <td>0</td>\n",
       "    </tr>\n",
       "    <tr>\n",
       "      <th>2</th>\n",
       "      <td>0</td>\n",
       "      <td>0</td>\n",
       "      <td>0</td>\n",
       "      <td>0</td>\n",
       "      <td>0</td>\n",
       "      <td>0</td>\n",
       "      <td>0</td>\n",
       "      <td>0</td>\n",
       "      <td>0</td>\n",
       "      <td>0</td>\n",
       "      <td>...</td>\n",
       "      <td>0</td>\n",
       "      <td>0</td>\n",
       "      <td>0</td>\n",
       "      <td>0</td>\n",
       "      <td>0</td>\n",
       "      <td>0</td>\n",
       "      <td>0</td>\n",
       "      <td>0</td>\n",
       "      <td>0</td>\n",
       "      <td>0</td>\n",
       "    </tr>\n",
       "    <tr>\n",
       "      <th>3</th>\n",
       "      <td>0</td>\n",
       "      <td>0</td>\n",
       "      <td>0</td>\n",
       "      <td>0</td>\n",
       "      <td>0</td>\n",
       "      <td>0</td>\n",
       "      <td>0</td>\n",
       "      <td>0</td>\n",
       "      <td>0</td>\n",
       "      <td>0</td>\n",
       "      <td>...</td>\n",
       "      <td>0</td>\n",
       "      <td>0</td>\n",
       "      <td>0</td>\n",
       "      <td>0</td>\n",
       "      <td>0</td>\n",
       "      <td>0</td>\n",
       "      <td>0</td>\n",
       "      <td>0</td>\n",
       "      <td>0</td>\n",
       "      <td>0</td>\n",
       "    </tr>\n",
       "    <tr>\n",
       "      <th>4</th>\n",
       "      <td>0</td>\n",
       "      <td>0</td>\n",
       "      <td>0</td>\n",
       "      <td>0</td>\n",
       "      <td>0</td>\n",
       "      <td>0</td>\n",
       "      <td>0</td>\n",
       "      <td>0</td>\n",
       "      <td>0</td>\n",
       "      <td>0</td>\n",
       "      <td>...</td>\n",
       "      <td>0</td>\n",
       "      <td>0</td>\n",
       "      <td>0</td>\n",
       "      <td>0</td>\n",
       "      <td>0</td>\n",
       "      <td>0</td>\n",
       "      <td>0</td>\n",
       "      <td>0</td>\n",
       "      <td>0</td>\n",
       "      <td>0</td>\n",
       "    </tr>\n",
       "    <tr>\n",
       "      <th>...</th>\n",
       "      <td>...</td>\n",
       "      <td>...</td>\n",
       "      <td>...</td>\n",
       "      <td>...</td>\n",
       "      <td>...</td>\n",
       "      <td>...</td>\n",
       "      <td>...</td>\n",
       "      <td>...</td>\n",
       "      <td>...</td>\n",
       "      <td>...</td>\n",
       "      <td>...</td>\n",
       "      <td>...</td>\n",
       "      <td>...</td>\n",
       "      <td>...</td>\n",
       "      <td>...</td>\n",
       "      <td>...</td>\n",
       "      <td>...</td>\n",
       "      <td>...</td>\n",
       "      <td>...</td>\n",
       "      <td>...</td>\n",
       "      <td>...</td>\n",
       "    </tr>\n",
       "    <tr>\n",
       "      <th>123995</th>\n",
       "      <td>0</td>\n",
       "      <td>0</td>\n",
       "      <td>0</td>\n",
       "      <td>0</td>\n",
       "      <td>0</td>\n",
       "      <td>0</td>\n",
       "      <td>0</td>\n",
       "      <td>0</td>\n",
       "      <td>0</td>\n",
       "      <td>0</td>\n",
       "      <td>...</td>\n",
       "      <td>0</td>\n",
       "      <td>0</td>\n",
       "      <td>0</td>\n",
       "      <td>0</td>\n",
       "      <td>0</td>\n",
       "      <td>0</td>\n",
       "      <td>0</td>\n",
       "      <td>0</td>\n",
       "      <td>0</td>\n",
       "      <td>0</td>\n",
       "    </tr>\n",
       "    <tr>\n",
       "      <th>123996</th>\n",
       "      <td>0</td>\n",
       "      <td>0</td>\n",
       "      <td>0</td>\n",
       "      <td>0</td>\n",
       "      <td>0</td>\n",
       "      <td>0</td>\n",
       "      <td>0</td>\n",
       "      <td>0</td>\n",
       "      <td>0</td>\n",
       "      <td>0</td>\n",
       "      <td>...</td>\n",
       "      <td>0</td>\n",
       "      <td>0</td>\n",
       "      <td>0</td>\n",
       "      <td>0</td>\n",
       "      <td>0</td>\n",
       "      <td>0</td>\n",
       "      <td>0</td>\n",
       "      <td>0</td>\n",
       "      <td>0</td>\n",
       "      <td>0</td>\n",
       "    </tr>\n",
       "    <tr>\n",
       "      <th>123997</th>\n",
       "      <td>0</td>\n",
       "      <td>0</td>\n",
       "      <td>0</td>\n",
       "      <td>0</td>\n",
       "      <td>0</td>\n",
       "      <td>0</td>\n",
       "      <td>0</td>\n",
       "      <td>0</td>\n",
       "      <td>0</td>\n",
       "      <td>0</td>\n",
       "      <td>...</td>\n",
       "      <td>0</td>\n",
       "      <td>0</td>\n",
       "      <td>0</td>\n",
       "      <td>0</td>\n",
       "      <td>0</td>\n",
       "      <td>0</td>\n",
       "      <td>0</td>\n",
       "      <td>0</td>\n",
       "      <td>0</td>\n",
       "      <td>0</td>\n",
       "    </tr>\n",
       "    <tr>\n",
       "      <th>123998</th>\n",
       "      <td>0</td>\n",
       "      <td>0</td>\n",
       "      <td>0</td>\n",
       "      <td>0</td>\n",
       "      <td>0</td>\n",
       "      <td>0</td>\n",
       "      <td>0</td>\n",
       "      <td>0</td>\n",
       "      <td>0</td>\n",
       "      <td>0</td>\n",
       "      <td>...</td>\n",
       "      <td>0</td>\n",
       "      <td>0</td>\n",
       "      <td>0</td>\n",
       "      <td>0</td>\n",
       "      <td>0</td>\n",
       "      <td>0</td>\n",
       "      <td>0</td>\n",
       "      <td>0</td>\n",
       "      <td>0</td>\n",
       "      <td>0</td>\n",
       "    </tr>\n",
       "    <tr>\n",
       "      <th>123999</th>\n",
       "      <td>0</td>\n",
       "      <td>0</td>\n",
       "      <td>0</td>\n",
       "      <td>0</td>\n",
       "      <td>0</td>\n",
       "      <td>0</td>\n",
       "      <td>0</td>\n",
       "      <td>0</td>\n",
       "      <td>0</td>\n",
       "      <td>0</td>\n",
       "      <td>...</td>\n",
       "      <td>0</td>\n",
       "      <td>0</td>\n",
       "      <td>0</td>\n",
       "      <td>0</td>\n",
       "      <td>0</td>\n",
       "      <td>0</td>\n",
       "      <td>0</td>\n",
       "      <td>0</td>\n",
       "      <td>0</td>\n",
       "      <td>0</td>\n",
       "    </tr>\n",
       "  </tbody>\n",
       "</table>\n",
       "<p>124000 rows × 90729 columns</p>\n",
       "</div>"
      ],
      "text/plain": [
       "        ___lbs  __through  _a  aa  aab  aaccumuation  aade  aafound  aair  \\\n",
       "0            0          0   0   0    0             0     0        0     0   \n",
       "1            0          0   0   0    0             0     0        0     0   \n",
       "2            0          0   0   0    0             0     0        0     0   \n",
       "3            0          0   0   0    0             0     0        0     0   \n",
       "4            0          0   0   0    0             0     0        0     0   \n",
       "...        ...        ...  ..  ..  ...           ...   ...      ...   ...   \n",
       "123995       0          0   0   0    0             0     0        0     0   \n",
       "123996       0          0   0   0    0             0     0        0     0   \n",
       "123997       0          0   0   0    0             0     0        0     0   \n",
       "123998       0          0   0   0    0             0     0        0     0   \n",
       "123999       0          0   0   0    0             0     0        0     0   \n",
       "\n",
       "        aal  ...  zucchini  zucchinibaby  zucchinin  zuccini  \\\n",
       "0         0  ...         0             0          0        0   \n",
       "1         0  ...         0             0          0        0   \n",
       "2         0  ...         0             0          0        0   \n",
       "3         0  ...         0             0          0        0   \n",
       "4         0  ...         0             0          0        0   \n",
       "...     ...  ...       ...           ...        ...      ...   \n",
       "123995    0  ...         0             0          0        0   \n",
       "123996    0  ...         0             0          0        0   \n",
       "123997    0  ...         0             0          0        0   \n",
       "123998    0  ...         0             0          0        0   \n",
       "123999    0  ...         0             0          0        0   \n",
       "\n",
       "        zuchinicabbagecooked  zumba  zumex  zurich  ºc  ºf  \n",
       "0                          0      0      0       0   0   0  \n",
       "1                          0      0      0       0   0   0  \n",
       "2                          0      0      0       0   0   0  \n",
       "3                          0      0      0       0   0   0  \n",
       "4                          0      0      0       0   0   0  \n",
       "...                      ...    ...    ...     ...  ..  ..  \n",
       "123995                     0      0      0       0   0   0  \n",
       "123996                     0      0      0       0   0   0  \n",
       "123997                     0      0      0       0   0   0  \n",
       "123998                     0      0      0       0   0   0  \n",
       "123999                     0      0      0       0   0   0  \n",
       "\n",
       "[124000 rows x 90729 columns]"
      ]
     },
     "execution_count": 99,
     "metadata": {},
     "output_type": "execute_result"
    }
   ],
   "source": [
    "countvectorizer_matrix = vect.fit_transform(X_train)\n",
    "countvectorizer_matrix_df = pd.DataFrame(countvectorizer_matrix.toarray(), columns=vect.get_feature_names())\n",
    "countvectorizer_matrix_df"
   ]
  },
  {
   "cell_type": "markdown",
   "metadata": {},
   "source": [
    "<a id='model'> </a>\n",
    "## 5. Build Baseline Models\n",
    "* \"Model 1\", Naive Bayes Model\n",
    "* \"Model 2\", Logistic Regression\n",
    "* \"Model 3\", Support Vector Machine "
   ]
  },
  {
   "cell_type": "code",
   "execution_count": null,
   "metadata": {},
   "outputs": [],
   "source": []
  },
  {
   "cell_type": "markdown",
   "metadata": {},
   "source": [
    "### a) Naive Bayes Model"
   ]
  },
  {
   "cell_type": "code",
   "execution_count": 100,
   "metadata": {},
   "outputs": [],
   "source": [
    "# instantiate a Multinomial Naive Bayes model\n",
    "nb = MultinomialNB()"
   ]
  },
  {
   "cell_type": "code",
   "execution_count": 101,
   "metadata": {},
   "outputs": [
    {
     "name": "stdout",
     "output_type": "stream",
     "text": [
      "CPU times: user 74.7 ms, sys: 130 ms, total: 205 ms\n",
      "Wall time: 273 ms\n"
     ]
    },
    {
     "data": {
      "text/plain": [
       "MultinomialNB(alpha=1.0, class_prior=None, fit_prior=True)"
      ]
     },
     "execution_count": 101,
     "metadata": {},
     "output_type": "execute_result"
    }
   ],
   "source": [
    "# train and time the model using X_train_dtm\n",
    "%time nb.fit(X_train_dtm, y_train)"
   ]
  },
  {
   "cell_type": "code",
   "execution_count": 102,
   "metadata": {},
   "outputs": [],
   "source": [
    "# make class predictions for X_test_dtm\n",
    "y_pred_class = nb.predict(X_test_dtm)"
   ]
  },
  {
   "cell_type": "code",
   "execution_count": 103,
   "metadata": {},
   "outputs": [
    {
     "name": "stdout",
     "output_type": "stream",
     "text": [
      "0.8244250185477888\n"
     ]
    }
   ],
   "source": [
    "# calculate accuracy of class predictions\n",
    "print(metrics.accuracy_score(y_test, y_pred_class))"
   ]
  },
  {
   "cell_type": "code",
   "execution_count": 104,
   "metadata": {},
   "outputs": [
    {
     "name": "stdout",
     "output_type": "stream",
     "text": [
      "              precision    recall  f1-score   support\n",
      "\n",
      "           0       0.94      0.89      0.92     17151\n",
      "           1       0.74      0.72      0.73      7561\n",
      "           2       0.65      0.77      0.71      6289\n",
      "\n",
      "    accuracy                           0.82     31001\n",
      "   macro avg       0.78      0.79      0.78     31001\n",
      "weighted avg       0.83      0.82      0.83     31001\n",
      "\n"
     ]
    }
   ],
   "source": [
    "# calculate precision and recall\n",
    "print(classification_report(y_test, y_pred_class))"
   ]
  },
  {
   "cell_type": "code",
   "execution_count": 107,
   "metadata": {},
   "outputs": [
    {
     "name": "stdout",
     "output_type": "stream",
     "text": [
      "              precision    recall  f1-score   support\n",
      "\n",
      "           0       0.94      0.90      0.92     68603\n",
      "           1       0.76      0.72      0.74     30243\n",
      "           2       0.67      0.79      0.72     25154\n",
      "\n",
      "    accuracy                           0.83    124000\n",
      "   macro avg       0.79      0.80      0.79    124000\n",
      "weighted avg       0.84      0.83      0.84    124000\n",
      "\n"
     ]
    }
   ],
   "source": [
    "#Check for over fitting\n",
    "y_pred_class_train = nb.predict(X_train_dtm)\n",
    "print(classification_report(y_train, y_pred_class_train))"
   ]
  },
  {
   "cell_type": "code",
   "execution_count": 108,
   "metadata": {},
   "outputs": [
    {
     "name": "stdout",
     "output_type": "stream",
     "text": [
      "[[15285   808  1058]\n",
      " [  640  5419  1502]\n",
      " [  297  1138  4854]]\n"
     ]
    }
   ],
   "source": [
    "# calculate the confusion matrix\n",
    "print(metrics.confusion_matrix(y_test, y_pred_class))"
   ]
  },
  {
   "cell_type": "markdown",
   "metadata": {},
   "source": [
    "### b) Logistic Regression"
   ]
  },
  {
   "cell_type": "code",
   "execution_count": 109,
   "metadata": {},
   "outputs": [],
   "source": [
    "# instantiate a logistic regression model\n",
    "logreg = LogisticRegression(max_iter=10000)"
   ]
  },
  {
   "cell_type": "code",
   "execution_count": 110,
   "metadata": {},
   "outputs": [
    {
     "name": "stdout",
     "output_type": "stream",
     "text": [
      "CPU times: user 33min 57s, sys: 7min 3s, total: 41min 1s\n",
      "Wall time: 7min 47s\n"
     ]
    },
    {
     "data": {
      "text/plain": [
       "LogisticRegression(C=1.0, class_weight=None, dual=False, fit_intercept=True,\n",
       "                   intercept_scaling=1, l1_ratio=None, max_iter=10000,\n",
       "                   multi_class='auto', n_jobs=None, penalty='l2',\n",
       "                   random_state=None, solver='lbfgs', tol=0.0001, verbose=0,\n",
       "                   warm_start=False)"
      ]
     },
     "execution_count": 110,
     "metadata": {},
     "output_type": "execute_result"
    }
   ],
   "source": [
    "# train the model using X_train_dtm\n",
    "%time logreg.fit(X_train_dtm, y_train)"
   ]
  },
  {
   "cell_type": "code",
   "execution_count": 111,
   "metadata": {},
   "outputs": [],
   "source": [
    "# make class predictions for X_test_dtm\n",
    "y_pred_class = logreg.predict(X_test_dtm)\n"
   ]
  },
  {
   "cell_type": "code",
   "execution_count": 112,
   "metadata": {},
   "outputs": [
    {
     "name": "stdout",
     "output_type": "stream",
     "text": [
      "0.9244540498693591\n"
     ]
    }
   ],
   "source": [
    "# calculate accuracy of class predictions\n",
    "print(metrics.accuracy_score(y_test, y_pred_class))"
   ]
  },
  {
   "cell_type": "code",
   "execution_count": 113,
   "metadata": {},
   "outputs": [
    {
     "name": "stdout",
     "output_type": "stream",
     "text": [
      "              precision    recall  f1-score   support\n",
      "\n",
      "           0       0.96      0.99      0.98     17151\n",
      "           1       0.88      0.85      0.86      7561\n",
      "           2       0.86      0.84      0.85      6289\n",
      "\n",
      "    accuracy                           0.92     31001\n",
      "   macro avg       0.90      0.89      0.90     31001\n",
      "weighted avg       0.92      0.92      0.92     31001\n",
      "\n"
     ]
    }
   ],
   "source": [
    "# calculate precision and recall\n",
    "print(classification_report(y_test, y_pred_class))"
   ]
  },
  {
   "cell_type": "code",
   "execution_count": 114,
   "metadata": {},
   "outputs": [
    {
     "name": "stdout",
     "output_type": "stream",
     "text": [
      "              precision    recall  f1-score   support\n",
      "\n",
      "           0       0.98      1.00      0.99     68603\n",
      "           1       0.96      0.93      0.95     30243\n",
      "           2       0.95      0.94      0.95     25154\n",
      "\n",
      "    accuracy                           0.97    124000\n",
      "   macro avg       0.97      0.96      0.96    124000\n",
      "weighted avg       0.97      0.97      0.97    124000\n",
      "\n"
     ]
    }
   ],
   "source": [
    "#Check for over fitting\n",
    "y_pred_class_train = logreg.predict(X_train_dtm)\n",
    "print(classification_report(y_train, y_pred_class_train))"
   ]
  },
  {
   "cell_type": "code",
   "execution_count": 115,
   "metadata": {},
   "outputs": [
    {
     "name": "stdout",
     "output_type": "stream",
     "text": [
      "[[16953   115    83]\n",
      " [  381  6393   787]\n",
      " [  237   739  5313]]\n"
     ]
    }
   ],
   "source": [
    "# calculate the confusion matrix\n",
    "print(metrics.confusion_matrix(y_test, y_pred_class))"
   ]
  },
  {
   "cell_type": "markdown",
   "metadata": {},
   "source": [
    "### c) Support Vector Machine"
   ]
  },
  {
   "cell_type": "code",
   "execution_count": 116,
   "metadata": {},
   "outputs": [],
   "source": [
    "# instantiate a SVM model\n",
    "svm = SGDClassifier(max_iter=100, tol=None)"
   ]
  },
  {
   "cell_type": "code",
   "execution_count": 117,
   "metadata": {},
   "outputs": [
    {
     "name": "stdout",
     "output_type": "stream",
     "text": [
      "CPU times: user 10.1 s, sys: 149 ms, total: 10.3 s\n",
      "Wall time: 9.42 s\n"
     ]
    },
    {
     "data": {
      "text/plain": [
       "SGDClassifier(alpha=0.0001, average=False, class_weight=None,\n",
       "              early_stopping=False, epsilon=0.1, eta0=0.0, fit_intercept=True,\n",
       "              l1_ratio=0.15, learning_rate='optimal', loss='hinge',\n",
       "              max_iter=100, n_iter_no_change=5, n_jobs=None, penalty='l2',\n",
       "              power_t=0.5, random_state=None, shuffle=True, tol=None,\n",
       "              validation_fraction=0.1, verbose=0, warm_start=False)"
      ]
     },
     "execution_count": 117,
     "metadata": {},
     "output_type": "execute_result"
    }
   ],
   "source": [
    "# train the model using X_train_dtm\n",
    "%time svm.fit(X_train_dtm, y_train)"
   ]
  },
  {
   "cell_type": "code",
   "execution_count": 118,
   "metadata": {},
   "outputs": [],
   "source": [
    "# make class predictions for X_test_dtm\n",
    "y_pred_class = svm.predict(X_test_dtm)"
   ]
  },
  {
   "cell_type": "code",
   "execution_count": 119,
   "metadata": {},
   "outputs": [
    {
     "name": "stdout",
     "output_type": "stream",
     "text": [
      "0.9125834650495145\n"
     ]
    }
   ],
   "source": [
    "# calculate accuracy of class predictions\n",
    "print(metrics.accuracy_score(y_test, y_pred_class))"
   ]
  },
  {
   "cell_type": "code",
   "execution_count": 120,
   "metadata": {},
   "outputs": [
    {
     "name": "stdout",
     "output_type": "stream",
     "text": [
      "              precision    recall  f1-score   support\n",
      "\n",
      "           0       0.95      0.99      0.97     17151\n",
      "           1       0.86      0.84      0.85      7561\n",
      "           2       0.87      0.81      0.84      6289\n",
      "\n",
      "    accuracy                           0.91     31001\n",
      "   macro avg       0.89      0.88      0.88     31001\n",
      "weighted avg       0.91      0.91      0.91     31001\n",
      "\n"
     ]
    }
   ],
   "source": [
    "# calculate precision and recall\n",
    "print(classification_report(y_test, y_pred_class))"
   ]
  },
  {
   "cell_type": "code",
   "execution_count": 122,
   "metadata": {},
   "outputs": [
    {
     "name": "stdout",
     "output_type": "stream",
     "text": [
      "              precision    recall  f1-score   support\n",
      "\n",
      "           0       0.95      0.99      0.97     68603\n",
      "           1       0.87      0.85      0.86     30243\n",
      "           2       0.89      0.83      0.86     25154\n",
      "\n",
      "    accuracy                           0.92    124000\n",
      "   macro avg       0.91      0.89      0.90    124000\n",
      "weighted avg       0.92      0.92      0.92    124000\n",
      "\n"
     ]
    }
   ],
   "source": [
    "#Check for over fitting\n",
    "y_pred_class_train = svm.predict(X_train_dtm)\n",
    "print(classification_report(y_train, y_pred_class_train))"
   ]
  },
  {
   "cell_type": "code",
   "execution_count": 123,
   "metadata": {},
   "outputs": [
    {
     "name": "stdout",
     "output_type": "stream",
     "text": [
      "[[16898   153   100]\n",
      " [  579  6316   666]\n",
      " [  362   850  5077]]\n"
     ]
    }
   ],
   "source": [
    "# calculate the confusion matrix\n",
    "print(metrics.confusion_matrix(y_test, y_pred_class))"
   ]
  },
  {
   "cell_type": "markdown",
   "metadata": {},
   "source": [
    "### 6. Improve Model Performance (for best performing model)\n",
    "* Remove stopwords\n",
    "* Include n-grams\n",
    "* Limit min & max document frequencies\n",
    "\n"
   ]
  },
  {
   "cell_type": "code",
   "execution_count": null,
   "metadata": {},
   "outputs": [],
   "source": [
    "#default parameters for countvectorizer model\n",
    "CountVectorizer()"
   ]
  },
  {
   "cell_type": "code",
   "execution_count": null,
   "metadata": {},
   "outputs": [],
   "source": [
    "print(len(pred_df)*0.05)\n",
    "print(len(pred_df)*0.2)"
   ]
  },
  {
   "cell_type": "code",
   "execution_count": null,
   "metadata": {},
   "outputs": [],
   "source": [
    "# remove English stop words\n",
    "vect_optimized = CountVectorizer(stop_words='english',\n",
    "                                 lowercase=True,\n",
    "                                 ngram_range=(1,4))\n",
    "\n"
   ]
  },
  {
   "cell_type": "code",
   "execution_count": null,
   "metadata": {},
   "outputs": [],
   "source": [
    "countvectorizer_matrix = vect_optimized.fit_transform(X_train)\n",
    "countvectorizer_matrix_df = pd.DataFrame(countvectorizer_matrix.toarray(), columns=vect_optimized.get_feature_names())\n",
    "countvectorizer_matrix_df"
   ]
  },
  {
   "cell_type": "code",
   "execution_count": null,
   "metadata": {},
   "outputs": [],
   "source": [
    "# equivalently: combine fit and transform into a single step\n",
    "X_train_dtm = vect_optimized.fit_transform(X_train)\n",
    "X_test_dtm = vect_optimized.transform(X_test)\n"
   ]
  },
  {
   "cell_type": "code",
   "execution_count": null,
   "metadata": {},
   "outputs": [],
   "source": [
    "#Logistitc Regression\n",
    "model = LogisticRegression(max_iter=10000)\n",
    "%time model.fit(X_train_dtm, y_train)\n",
    "\n",
    "# make class predictions for X_test_dtm\n",
    "y_pred_class = model.predict(X_test_dtm)\n",
    "\n",
    "# calculate accuracy of class predictions\n",
    "print(metrics.accuracy_score(y_test, y_pred_class))"
   ]
  },
  {
   "cell_type": "code",
   "execution_count": null,
   "metadata": {},
   "outputs": [],
   "source": [
    "# calculate precision and recall\n",
    "print(classification_report(y_test, y_pred_class))"
   ]
  },
  {
   "cell_type": "code",
   "execution_count": null,
   "metadata": {},
   "outputs": [],
   "source": [
    "#Check for over fitting\n",
    "y_pred_class_train = model.predict(X_train_dtm)\n",
    "print(classification_report(y_train, y_pred_class_train))"
   ]
  },
  {
   "cell_type": "code",
   "execution_count": null,
   "metadata": {},
   "outputs": [],
   "source": [
    "cnf_matrix_test = confusion_matrix (y_test, y_pred_class)\n",
    "\n",
    "import seaborn as sns\n",
    "\n",
    "plt.figure(figsize = (10,7))\n",
    "sns.heatmap(cnf_matrix_test, annot=True, cmap=\"YlGnBu\", fmt='g')\n",
    "plt.xlabel('Predicted')\n",
    "plt.ylabel('Actual')"
   ]
  },
  {
   "cell_type": "code",
   "execution_count": null,
   "metadata": {},
   "outputs": [],
   "source": []
  },
  {
   "cell_type": "code",
   "execution_count": 126,
   "metadata": {},
   "outputs": [
    {
     "name": "stdout",
     "output_type": "stream",
     "text": [
      "NB: 0.823468 (0.002920)\n"
     ]
    },
    {
     "name": "stderr",
     "output_type": "stream",
     "text": [
      "/Users/stephenstark/opt/anaconda3/lib/python3.7/site-packages/sklearn/model_selection/_split.py:296: FutureWarning: Setting a random_state has no effect since shuffle is False. This will raise an error in 0.24. You should leave random_state to its default (None), or set shuffle=True.\n",
      "  FutureWarning\n"
     ]
    },
    {
     "name": "stdout",
     "output_type": "stream",
     "text": [
      "LR: 0.921702 (0.003054)\n"
     ]
    },
    {
     "name": "stderr",
     "output_type": "stream",
     "text": [
      "/Users/stephenstark/opt/anaconda3/lib/python3.7/site-packages/sklearn/model_selection/_split.py:296: FutureWarning: Setting a random_state has no effect since shuffle is False. This will raise an error in 0.24. You should leave random_state to its default (None), or set shuffle=True.\n",
      "  FutureWarning\n"
     ]
    },
    {
     "name": "stdout",
     "output_type": "stream",
     "text": [
      "SVM: 0.912516 (0.003907)\n"
     ]
    },
    {
     "data": {
      "image/png": "[encoded data removed]",
      "text/plain": [
       "<Figure size 640x480 with 1 Axes>"
      ]
     },
     "metadata": {},
     "output_type": "display_data"
    }
   ],
   "source": [
    "from sklearn import model_selection\n",
    "\n",
    "# prepare configuration for cross validation test harness\n",
    "seed = 7\n",
    "# prepare models\n",
    "models = []\n",
    "models.append(('NB', MultinomialNB()))\n",
    "models.append(('LR', LogisticRegression(max_iter=10000)))\n",
    "models.append(('SVM', SGDClassifier(max_iter=100, tol=None)))\n",
    "\n",
    "# evaluate each model in turn\n",
    "results = []\n",
    "names = []\n",
    "scoring = 'accuracy'\n",
    "for name, model in models:\n",
    "\tkfold = model_selection.KFold(n_splits=10, random_state=seed, shuffle=True)\n",
    "\tcv_results = model_selection.cross_val_score(model, X_train_dtm, y_train, cv=kfold, scoring=scoring)\n",
    "\tresults.append(cv_results)\n",
    "\tnames.append(name)\n",
    "\tmsg = \"%s: %f (%f)\" % (name, cv_results.mean(), cv_results.std())\n",
    "\tprint(msg)\n"
   ]
  },
  {
   "cell_type": "code",
   "execution_count": 150,
   "metadata": {},
   "outputs": [
    {
     "data": {
      "image/png": "[encoded data removed]",
      "text/plain": [
       "<Figure size 640x480 with 1 Axes>"
      ]
     },
     "metadata": {},
     "output_type": "display_data"
    }
   ],
   "source": [
    "# boxplot algorithm comparison\n",
    "fig = plt.figure()\n",
    "fig.suptitle('Algorithm Comparison')\n",
    "ax = fig.add_subplot(111)\n",
    "plt.boxplot(results, widths=.8)\n",
    "ax.set_xticklabels(names)\n",
    "ax.set_ylabel('accuracy')\n",
    "plt.show()"
   ]
  },
  {
   "cell_type": "code",
   "execution_count": null,
   "metadata": {},
   "outputs": [],
   "source": []
  },
  {
   "cell_type": "code",
   "execution_count": null,
   "metadata": {},
   "outputs": [],
   "source": []
  },
  {
   "cell_type": "code",
   "execution_count": null,
   "metadata": {},
   "outputs": [],
   "source": []
  },
  {
   "cell_type": "code",
   "execution_count": null,
   "metadata": {},
   "outputs": [],
   "source": []
  },
  {
   "cell_type": "code",
   "execution_count": null,
   "metadata": {},
   "outputs": [],
   "source": []
  },
  {
   "cell_type": "code",
   "execution_count": 139,
   "metadata": {},
   "outputs": [
    {
     "data": {
      "text/html": [
       "<div>\n",
       "<style scoped>\n",
       "    .dataframe tbody tr th:only-of-type {\n",
       "        vertical-align: middle;\n",
       "    }\n",
       "\n",
       "    .dataframe tbody tr th {\n",
       "        vertical-align: top;\n",
       "    }\n",
       "\n",
       "    .dataframe thead th {\n",
       "        text-align: right;\n",
       "    }\n",
       "</style>\n",
       "<table border=\"1\" class=\"dataframe\">\n",
       "  <thead>\n",
       "    <tr style=\"text-align: right;\">\n",
       "      <th></th>\n",
       "      <th>inspection_id</th>\n",
       "      <th>dba_name</th>\n",
       "      <th>aka_name</th>\n",
       "      <th>license_</th>\n",
       "      <th>facility_type</th>\n",
       "      <th>risk</th>\n",
       "      <th>address</th>\n",
       "      <th>city</th>\n",
       "      <th>state</th>\n",
       "      <th>zip</th>\n",
       "      <th>inspection_date</th>\n",
       "      <th>inspection_type</th>\n",
       "      <th>results</th>\n",
       "      <th>violations</th>\n",
       "      <th>latitude</th>\n",
       "      <th>longitude</th>\n",
       "      <th>location</th>\n",
       "      <th>inspection_date_new</th>\n",
       "    </tr>\n",
       "  </thead>\n",
       "  <tbody>\n",
       "    <tr>\n",
       "      <th>106087</th>\n",
       "      <td>1546475</td>\n",
       "      <td>TAQUERO FUSION</td>\n",
       "      <td>TAQUERO FUSION</td>\n",
       "      <td>2232101</td>\n",
       "      <td>Mobile Food Dispenser</td>\n",
       "      <td>Risk 3 (Low)</td>\n",
       "      <td>7770 FRONTAGE RD</td>\n",
       "      <td>SKOKIE</td>\n",
       "      <td>IL</td>\n",
       "      <td>60077</td>\n",
       "      <td>2015-05-27T00:00:00.000</td>\n",
       "      <td>License</td>\n",
       "      <td>Pass</td>\n",
       "      <td>32. FOOD AND NON-FOOD CONTACT SURFACES PROPERLY DESIGNED, CONSTRUCTED AND MAINTAINED - Comments: MUST PROVIDE PAD LOCK FOR WATER INLET FRESH WATER STORAGE TANK AND MAINTAIN.</td>\n",
       "      <td>Not Disclosed</td>\n",
       "      <td>Not Disclosed</td>\n",
       "      <td>Not Disclosed</td>\n",
       "      <td>05/27/15</td>\n",
       "    </tr>\n",
       "    <tr>\n",
       "      <th>154198</th>\n",
       "      <td>1098829</td>\n",
       "      <td>TAQUERO FUSION</td>\n",
       "      <td>TAQUERO FUSION</td>\n",
       "      <td>2232101</td>\n",
       "      <td>Mobile Food Dispenser</td>\n",
       "      <td>Risk 3 (Low)</td>\n",
       "      <td>7770 FRONTAGE RD</td>\n",
       "      <td>SKOKIE</td>\n",
       "      <td>IL</td>\n",
       "      <td>60077</td>\n",
       "      <td>2013-02-11T00:00:00.000</td>\n",
       "      <td>License</td>\n",
       "      <td>Fail</td>\n",
       "      <td>1. SOURCE SOUND CONDITION, NO SPOILAGE, FOODS PROPERLY LABELED, SHELLFISH TAGS IN PLACE - Comments: NO DETAILED BLUEPRINT OF COMMISSARY FACILITIES, MUST PROVIDE BLUEPRINT. ALSO PROVIDE DOCUMENTATION (PHOTOS) OF LOADING DOCK/SERVICE AREA FACILITIES SUCH AS HOSE BIBBS AND WASTE WATER DISPOSAL FACILIITES.. SUBMIT VERIFICATION THAT HOSES ARE FOOD GRADE. | 18. NO EVIDENCE OF RODENT OR INSECT OUTER OPENINGS PROTECTED/RODENT PROOFED, A WRITTEN LOG SHALL BE MAINTAINED AVAILABLE TO THE INSPECTORS - Comments: NO SCREEN FOR VENTILATION WINDOW, MUST PROVIDE, ALSO MUST KEEP SERVING WINDOW CLOSED IN BETWEEN CUSTOMERS OR ALSO PROVIDE SCREEN.  | 32. FOOD AND NON-FOOD CONTACT SURFACES PROPERLY DESIGNED, CONSTRUCTED AND MAINTAINED - Comments: MUST PROVIDE VERIFICATION THAT WATER INTAKE HOSE TO FRESH WATER STORAGE TANK IS FOOD GRADE. MUST PROVIDE MANUFACTURER INFOMATION/VERIFICATION.</td>\n",
       "      <td>Not Disclosed</td>\n",
       "      <td>Not Disclosed</td>\n",
       "      <td>Not Disclosed</td>\n",
       "      <td>02/11/13</td>\n",
       "    </tr>\n",
       "  </tbody>\n",
       "</table>\n",
       "</div>"
      ],
      "text/plain": [
       "       inspection_id        dba_name        aka_name license_  \\\n",
       "106087       1546475  TAQUERO FUSION  TAQUERO FUSION  2232101   \n",
       "154198       1098829  TAQUERO FUSION  TAQUERO FUSION  2232101   \n",
       "\n",
       "                facility_type          risk            address    city state  \\\n",
       "106087  Mobile Food Dispenser  Risk 3 (Low)  7770 FRONTAGE RD   SKOKIE    IL   \n",
       "154198  Mobile Food Dispenser  Risk 3 (Low)  7770 FRONTAGE RD   SKOKIE    IL   \n",
       "\n",
       "          zip          inspection_date inspection_type results  \\\n",
       "106087  60077  2015-05-27T00:00:00.000         License    Pass   \n",
       "154198  60077  2013-02-11T00:00:00.000         License    Fail   \n",
       "\n",
       "                                                                                                                                                                                                                                                                                                                                                                                                                                                                                                                                                                                                                                                                                                                                                                                                                                                                                                           violations  \\\n",
       "106087                                                                                                                                                                                                                                                                                                                                                                                                                                                                                                                                                                                                                                                                                                                                 32. FOOD AND NON-FOOD CONTACT SURFACES PROPERLY DESIGNED, CONSTRUCTED AND MAINTAINED - Comments: MUST PROVIDE PAD LOCK FOR WATER INLET FRESH WATER STORAGE TANK AND MAINTAIN.    \n",
       "154198  1. SOURCE SOUND CONDITION, NO SPOILAGE, FOODS PROPERLY LABELED, SHELLFISH TAGS IN PLACE - Comments: NO DETAILED BLUEPRINT OF COMMISSARY FACILITIES, MUST PROVIDE BLUEPRINT. ALSO PROVIDE DOCUMENTATION (PHOTOS) OF LOADING DOCK/SERVICE AREA FACILITIES SUCH AS HOSE BIBBS AND WASTE WATER DISPOSAL FACILIITES.. SUBMIT VERIFICATION THAT HOSES ARE FOOD GRADE. | 18. NO EVIDENCE OF RODENT OR INSECT OUTER OPENINGS PROTECTED/RODENT PROOFED, A WRITTEN LOG SHALL BE MAINTAINED AVAILABLE TO THE INSPECTORS - Comments: NO SCREEN FOR VENTILATION WINDOW, MUST PROVIDE, ALSO MUST KEEP SERVING WINDOW CLOSED IN BETWEEN CUSTOMERS OR ALSO PROVIDE SCREEN.  | 32. FOOD AND NON-FOOD CONTACT SURFACES PROPERLY DESIGNED, CONSTRUCTED AND MAINTAINED - Comments: MUST PROVIDE VERIFICATION THAT WATER INTAKE HOSE TO FRESH WATER STORAGE TANK IS FOOD GRADE. MUST PROVIDE MANUFACTURER INFOMATION/VERIFICATION.   \n",
       "\n",
       "             latitude      longitude       location inspection_date_new  \n",
       "106087  Not Disclosed  Not Disclosed  Not Disclosed            05/27/15  \n",
       "154198  Not Disclosed  Not Disclosed  Not Disclosed            02/11/13  "
      ]
     },
     "execution_count": 139,
     "metadata": {},
     "output_type": "execute_result"
    }
   ],
   "source": [
    "df[df.zip=='60077']"
   ]
  },
  {
   "cell_type": "code",
   "execution_count": null,
   "metadata": {},
   "outputs": [],
   "source": []
  },
  {
   "cell_type": "code",
   "execution_count": null,
   "metadata": {},
   "outputs": [],
   "source": []
  },
  {
   "cell_type": "code",
   "execution_count": null,
   "metadata": {},
   "outputs": [],
   "source": []
  },
  {
   "cell_type": "code",
   "execution_count": null,
   "metadata": {},
   "outputs": [],
   "source": []
  },
  {
   "cell_type": "code",
   "execution_count": null,
   "metadata": {},
   "outputs": [],
   "source": []
  },
  {
   "cell_type": "code",
   "execution_count": null,
   "metadata": {},
   "outputs": [],
   "source": []
  },
  {
   "cell_type": "markdown",
   "metadata": {},
   "source": [
    "### 7. Troubleshoot"
   ]
  },
  {
   "cell_type": "code",
   "execution_count": null,
   "metadata": {},
   "outputs": [],
   "source": [
    "X_test_df = pd.DataFrame(X_test)\n",
    "X_test_df.reset_index(inplace=True, drop=True)\n",
    "\n",
    "y_test_df = pd.DataFrame(y_test)\n",
    "y_test_df.reset_index(inplace=True, drop=True)"
   ]
  },
  {
   "cell_type": "code",
   "execution_count": null,
   "metadata": {},
   "outputs": [],
   "source": [
    "y_pred_prob = model.predict_proba(X_test_dtm)\n",
    "y_pred_class = model.predict(X_test_dtm)"
   ]
  },
  {
   "cell_type": "code",
   "execution_count": null,
   "metadata": {},
   "outputs": [],
   "source": [
    "y_pred_prob_df = pd.DataFrame(y_pred_prob)\n",
    "y_pred_prob_df.columns = ['0-prob', '1-prob', '2-prob']\n",
    "\n",
    "y_pred_class_df = pd.DataFrame(y_pred_class)\n",
    "y_pred_class_df.columns = ['predicted']"
   ]
  },
  {
   "cell_type": "code",
   "execution_count": null,
   "metadata": {},
   "outputs": [],
   "source": [
    "results_df = X_test_df.join(y_test_df).join(y_pred_class_df).join(y_pred_prob_df)"
   ]
  },
  {
   "cell_type": "code",
   "execution_count": null,
   "metadata": {},
   "outputs": [],
   "source": [
    "results_review_df = results_df[(results_df['0-prob'] < 0.6) & (results_df['1-prob'] < 0.6) & (results_df['2-prob'] < 0.6)]\n",
    "results_review_df.shape"
   ]
  },
  {
   "cell_type": "code",
   "execution_count": null,
   "metadata": {},
   "outputs": [],
   "source": [
    "pd.set_option('display.max_colwidth', 1000)"
   ]
  },
  {
   "cell_type": "code",
   "execution_count": null,
   "metadata": {},
   "outputs": [],
   "source": [
    "results_review_df.head(10)"
   ]
  },
  {
   "cell_type": "markdown",
   "metadata": {},
   "source": [
    "# Summary\n",
    "I decided to perform a multi-class classification analysis.  I narrowed my dataset to pass, fail, or pass w/ conditions due to the sufficiency of data. It appears the logistic regression had the best performance of the three models I demonstrated above. The original logisitc regression actually performed better than the one I attempted to optimize. It had a test accuracy of 92%.  The model showed slight signs of overfitting as train accuracy was 96%. Precision and recall for test were 92% for each. Precision was 96% for class 0 (pass), 87% for class 1 (fail) and 86% for class 2 (pass w/ conditions). Furthermore we know f-1 scores are the weighted averaged of precision and recall. F1 scores of 98%, 86%, and 85%, for the same classes listed previously. The model clearly is able to accuractely identify pass recommendations but struggles a little more with fail and pass with conditions, which makes sense intuitively. the F1 scores show slightly more signs of overfitting so I would attempt to adjust that in my parameter tuning. This is out of scope for this analysis, but perhaps I would do some sort of grid search or random search to approximate better parameter values.\n",
    "* **Pre-processing** For text pre-processing, I decided that we needed to remove stopwords for this analysis. They are noise and do not contribute to the signal of the prediction. I also removed all the digits as again I believe they were more of a distraction. Also, within CountVectorizer, I included parameters to lowercase all words an\n",
    "* **Train/Test Split** I noticed a considerable class imbalance in the dataset between the three values. I made sure to stratify my sampling in train test split to ensure the train samples and test samples resembled the population of the dataset. Another thing I considered doing but did not as it was out of scope for this analysis was training my model on an equal split data using an under-sampling or oversampling approach. This would give the model a fair chance to fully train each class equally as opposed to seeing more data of the dominate class.\n"
   ]
  },
  {
   "cell_type": "markdown",
   "metadata": {},
   "source": [
    "<a id='end'> </a>"
   ]
  },
  {
   "cell_type": "code",
   "execution_count": null,
   "metadata": {},
   "outputs": [],
   "source": []
  },
  {
   "cell_type": "code",
   "execution_count": null,
   "metadata": {},
   "outputs": [],
   "source": []
  },
  {
   "cell_type": "code",
   "execution_count": null,
   "metadata": {},
   "outputs": [],
   "source": []
  },
  {
   "cell_type": "markdown",
   "metadata": {},
   "source": [
    "# Scratch"
   ]
  },
  {
   "cell_type": "code",
   "execution_count": null,
   "metadata": {},
   "outputs": [],
   "source": [
    "df_clean[df_clean['Inspection ID']==2313093]"
   ]
  },
  {
   "cell_type": "code",
   "execution_count": null,
   "metadata": {},
   "outputs": [],
   "source": []
  }
 ],
 "metadata": {
  "kernelspec": {
   "display_name": "Python 3",
   "language": "python",
   "name": "python3"
  },
  "language_info": {
   "codemirror_mode": {
    "name": "ipython",
    "version": 3
   },
   "file_extension": ".py",
   "mimetype": "text/x-python",
   "name": "python",
   "nbconvert_exporter": "python",
   "pygments_lexer": "ipython3",
   "version": "3.7.4"
  }
 },
 "nbformat": 4,
 "nbformat_minor": 4
}
