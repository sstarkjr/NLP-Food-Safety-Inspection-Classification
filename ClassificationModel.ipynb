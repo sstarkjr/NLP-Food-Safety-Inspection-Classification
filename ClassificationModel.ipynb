{
 "cells": [
  {
   "cell_type": "markdown",
   "metadata": {},
   "source": [
    "# Resturant Food Safety Inspection Prediction Using Natual Language Processing"
   ]
  },
  {
   "cell_type": "markdown",
   "metadata": {},
   "source": [
    "references:\n",
    "https://dev.socrata.com/foundry/data.cityofchicago.org/4ijn-s7e5"
   ]
  },
  {
   "cell_type": "markdown",
   "metadata": {},
   "source": [
    "## Summary\n",
    "1. [Objective](#objective)\n",
    "2. [Understanding the Data](#data)\\\n",
    "    2.1 [Dataset Definitions](#dataset)\\\n",
    "    2.2 [Observations](#observations)\\\n",
    "    2.3 [Feature Engineering](#engineering)\n",
    "4. [Model Building](#model)\\\n",
    "    4.1 [Model Overview](#modeloverview)\n",
    "5. [Interpretation of Results](#interpretation)\n",
    "6. [References](#references)\n",
    "\n"
   ]
  },
  {
   "cell_type": "markdown",
   "metadata": {},
   "source": [
    "# 1. Objective\n",
    "<a id='objective'></a>"
   ]
  },
  {
   "cell_type": "markdown",
   "metadata": {},
   "source": [
    "The goal of this notebook is to build a multinomial classification model to predict the outcome of the food safety inspection reports based on the inspectors' comments. I will use from statistical analysis and natural language processing to accomplish this. I will also present the results of the classification model and suggest ways that it could be improved through further analysis.\n",
    "\n",
    "Data provided by the City of Chicago via https://data.cityofchicago.org/ https://data.cityofchicago.org/Health-Human-Services/Food-Inspections/4ijn-s7e5 as of early 2020"
   ]
  },
  {
   "cell_type": "code",
   "execution_count": 797,
   "metadata": {},
   "outputs": [],
   "source": [
    "import sklearn\n",
    "\n",
    "import pandas as pd\n",
    "import numpy as np\n",
    "from matplotlib import pyplot as plt\n",
    "import re\n",
    "import itertools\n",
    "import os\n",
    "import random\n",
    "\n",
    "\n",
    "from sklearn.model_selection import train_test_split\n",
    "from sklearn.feature_extraction.text import CountVectorizer, HashingVectorizer, TfidfTransformer, TfidfVectorizer\n",
    "from sklearn.naive_bayes import MultinomialNB\n",
    "from sklearn.metrics import classification_report, confusion_matrix, accuracy_score\n",
    "from sklearn.linear_model import LogisticRegression, SGDClassifier\n",
    "from sklearn import metrics\n",
    "\n",
    "import nltk as nltk\n",
    "import nltk.corpus  \n",
    "from nltk.text import Text\n",
    "\n",
    "import sys\n",
    "\n",
    "pd.options.display.max_rows = 999\n",
    "pd.options.display.max_colwidth = 999\n",
    "pd.options.mode.chained_assignment = None  # default='warn'\n"
   ]
  },
  {
   "cell_type": "markdown",
   "metadata": {},
   "source": [
    "<a id='data'> </a>\n",
    "# 2. Understanding the Data\n"
   ]
  },
  {
   "cell_type": "markdown",
   "metadata": {},
   "source": [
    "<a id='dataset'> </a>\n",
    "## 2.1 Preliminary Data Cleaning"
   ]
  },
  {
   "cell_type": "code",
   "execution_count": 798,
   "metadata": {},
   "outputs": [],
   "source": [
    "#load the data\n",
    "#df = pd.read_csv('../Food_Inspections.csv') #dataframe for modeling\n",
    "#df_clean = df.copy() #cleaned dataframe for miscellaneous\n",
    "#df_viz = df.copy() #dataframe for data viz exports for tableau\n"
   ]
  },
  {
   "cell_type": "code",
   "execution_count": 799,
   "metadata": {},
   "outputs": [],
   "source": [
    "#!/usr/bin/env python\n",
    "\n",
    "# make sure to install these packages before running:\n",
    "# pip install pandas\n",
    "# pip install sodapy\n",
    "\n",
    "import pandas as pd\n",
    "from sodapy import Socrata\n",
    "\n",
    "# Unauthenticated client only works with public data sets. Note 'None'\n",
    "# in place of application token, and no username or password:\n",
    "#client = Socrata(\"data.cityofchicago.org\", None)\n",
    "\n",
    "# Example authenticated client (needed for non-public datasets):\n",
    "MyAppToken = 'KoNWmjvpkvV18BmVoGFCU1oCw'\n",
    "\n",
    "client = Socrata(\"data.cityofchicago.org\",\n",
    "                  MyAppToken)\n",
    "#                  userame=\"user@example.com\",\n",
    " #                 password=\"AFakePassword\")\n",
    "\n",
    "# First 2000 results, returned as JSON from API / converted to Python list of\n",
    "# dictionaries by sodapy.\n",
    "results = client.get(\"4ijn-s7e5\", limit=250000)\n",
    "\n",
    "# Convert to pandas DataFrame\n",
    "results_df = pd.DataFrame.from_records(results)"
   ]
  },
  {
   "cell_type": "code",
   "execution_count": 800,
   "metadata": {},
   "outputs": [
    {
     "data": {
      "text/plain": [
       "(212022, 22)"
      ]
     },
     "execution_count": 800,
     "metadata": {},
     "output_type": "execute_result"
    }
   ],
   "source": [
    "results_df.shape"
   ]
  },
  {
   "cell_type": "code",
   "execution_count": 801,
   "metadata": {},
   "outputs": [
    {
     "data": {
      "text/plain": [
       "Index(['inspection_id', 'dba_name', 'aka_name', 'license_', 'facility_type',\n",
       "       'risk', 'address', 'city', 'state', 'zip', 'inspection_date',\n",
       "       'inspection_type', 'results', 'violations', 'latitude', 'longitude',\n",
       "       'location', ':@computed_region_awaf_s7ux',\n",
       "       ':@computed_region_6mkv_f3dw', ':@computed_region_vrxf_vc4k',\n",
       "       ':@computed_region_bdys_3d7i', ':@computed_region_43wa_7qmu'],\n",
       "      dtype='object')"
      ]
     },
     "execution_count": 801,
     "metadata": {},
     "output_type": "execute_result"
    }
   ],
   "source": [
    "results_df.columns"
   ]
  },
  {
   "cell_type": "code",
   "execution_count": 802,
   "metadata": {},
   "outputs": [],
   "source": [
    "#drop extra columns from import\n",
    "df = results_df.drop([':@computed_region_awaf_s7ux',\n",
    "                 ':@computed_region_6mkv_f3dw',\n",
    "                 ':@computed_region_vrxf_vc4k',\n",
    "                 ':@computed_region_bdys_3d7i',\n",
    "                 ':@computed_region_43wa_7qmu'], axis=1)"
   ]
  },
  {
   "cell_type": "code",
   "execution_count": 803,
   "metadata": {},
   "outputs": [
    {
     "data": {
      "text/plain": [
       "inspection_id      object\n",
       "dba_name           object\n",
       "aka_name           object\n",
       "license_           object\n",
       "facility_type      object\n",
       "risk               object\n",
       "address            object\n",
       "city               object\n",
       "state              object\n",
       "zip                object\n",
       "inspection_date    object\n",
       "inspection_type    object\n",
       "results            object\n",
       "violations         object\n",
       "latitude           object\n",
       "longitude          object\n",
       "location           object\n",
       "dtype: object"
      ]
     },
     "execution_count": 803,
     "metadata": {},
     "output_type": "execute_result"
    }
   ],
   "source": [
    "df.dtypes"
   ]
  },
  {
   "cell_type": "code",
   "execution_count": 804,
   "metadata": {},
   "outputs": [
    {
     "name": "stdout",
     "output_type": "stream",
     "text": [
      "(212022, 17)\n",
      "<class 'pandas.core.frame.DataFrame'>\n",
      "RangeIndex: 212022 entries, 0 to 212021\n",
      "Data columns (total 17 columns):\n",
      "inspection_id      212022 non-null object\n",
      "dba_name           212022 non-null object\n",
      "aka_name           209540 non-null object\n",
      "license_           212005 non-null object\n",
      "facility_type      207142 non-null object\n",
      "risk               211950 non-null object\n",
      "address            212022 non-null object\n",
      "city               211868 non-null object\n",
      "state              211974 non-null object\n",
      "zip                211970 non-null object\n",
      "inspection_date    212022 non-null object\n",
      "inspection_type    212021 non-null object\n",
      "results            212022 non-null object\n",
      "violations         155625 non-null object\n",
      "latitude           504 non-null object\n",
      "longitude          504 non-null object\n",
      "location           504 non-null object\n",
      "dtypes: object(17)\n",
      "memory usage: 27.5+ MB\n"
     ]
    }
   ],
   "source": [
    "print(df.shape)\n",
    "df.info()"
   ]
  },
  {
   "cell_type": "code",
   "execution_count": 805,
   "metadata": {},
   "outputs": [
    {
     "data": {
      "text/plain": [
       "inspection_id           0\n",
       "dba_name                0\n",
       "aka_name             2482\n",
       "license_               17\n",
       "facility_type        4880\n",
       "risk                   72\n",
       "address                 0\n",
       "city                  154\n",
       "state                  48\n",
       "zip                    52\n",
       "inspection_date         0\n",
       "inspection_type         1\n",
       "results                 0\n",
       "violations          56397\n",
       "latitude           211518\n",
       "longitude          211518\n",
       "location           211518\n",
       "dtype: int64"
      ]
     },
     "execution_count": 805,
     "metadata": {},
     "output_type": "execute_result"
    }
   ],
   "source": [
    "df.isna().sum()"
   ]
  },
  {
   "cell_type": "markdown",
   "metadata": {},
   "source": [
    "It appears that we have some incorrect data types and also some missing data. I'll inspect the data column by column"
   ]
  },
  {
   "cell_type": "markdown",
   "metadata": {},
   "source": [
    "**inspection_id**"
   ]
  },
  {
   "cell_type": "code",
   "execution_count": 806,
   "metadata": {},
   "outputs": [
    {
     "data": {
      "text/plain": [
       "0"
      ]
     },
     "execution_count": 806,
     "metadata": {},
     "output_type": "execute_result"
    }
   ],
   "source": [
    "df['inspection_id'].isna().sum()"
   ]
  },
  {
   "cell_type": "code",
   "execution_count": 807,
   "metadata": {},
   "outputs": [
    {
     "data": {
      "text/plain": [
       "149661    1335297\n",
       "154312    1146292\n",
       "93990     1591477\n",
       "43408     2159814\n",
       "56912     2072059\n",
       "Name: inspection_id, dtype: object"
      ]
     },
     "execution_count": 807,
     "metadata": {},
     "output_type": "execute_result"
    }
   ],
   "source": [
    "df['inspection_id'].sample(n=5)"
   ]
  },
  {
   "cell_type": "markdown",
   "metadata": {},
   "source": [
    "**dba_name**"
   ]
  },
  {
   "cell_type": "code",
   "execution_count": 808,
   "metadata": {},
   "outputs": [
    {
     "data": {
      "text/plain": [
       "0"
      ]
     },
     "execution_count": 808,
     "metadata": {},
     "output_type": "execute_result"
    }
   ],
   "source": [
    "df['dba_name'].isna().sum()"
   ]
  },
  {
   "cell_type": "code",
   "execution_count": 809,
   "metadata": {},
   "outputs": [
    {
     "data": {
      "text/plain": [
       "63163                EL MILAGRO\n",
       "53381     SHARKS FISH & CHICKEN\n",
       "42745          TABAQ RESTAURANT\n",
       "20570            FT WICKER PARK\n",
       "108400         MCDONALD'S #4305\n",
       "Name: dba_name, dtype: object"
      ]
     },
     "execution_count": 809,
     "metadata": {},
     "output_type": "execute_result"
    }
   ],
   "source": [
    "df['dba_name'].sample(n=5)"
   ]
  },
  {
   "cell_type": "markdown",
   "metadata": {},
   "source": [
    "**aka_name**"
   ]
  },
  {
   "cell_type": "code",
   "execution_count": 810,
   "metadata": {},
   "outputs": [
    {
     "data": {
      "text/plain": [
       "2482"
      ]
     },
     "execution_count": 810,
     "metadata": {},
     "output_type": "execute_result"
    }
   ],
   "source": [
    "df['aka_name'].isna().sum()"
   ]
  },
  {
   "cell_type": "code",
   "execution_count": 811,
   "metadata": {},
   "outputs": [
    {
     "data": {
      "text/html": [
       "<div>\n",
       "<style scoped>\n",
       "    .dataframe tbody tr th:only-of-type {\n",
       "        vertical-align: middle;\n",
       "    }\n",
       "\n",
       "    .dataframe tbody tr th {\n",
       "        vertical-align: top;\n",
       "    }\n",
       "\n",
       "    .dataframe thead th {\n",
       "        text-align: right;\n",
       "    }\n",
       "</style>\n",
       "<table border=\"1\" class=\"dataframe\">\n",
       "  <thead>\n",
       "    <tr style=\"text-align: right;\">\n",
       "      <th></th>\n",
       "      <th>inspection_id</th>\n",
       "      <th>dba_name</th>\n",
       "      <th>aka_name</th>\n",
       "    </tr>\n",
       "  </thead>\n",
       "  <tbody>\n",
       "    <tr>\n",
       "      <th>26</th>\n",
       "      <td>2453694</td>\n",
       "      <td>CENTERS FOR NEW HORIZONS</td>\n",
       "      <td>NaN</td>\n",
       "    </tr>\n",
       "    <tr>\n",
       "      <th>101</th>\n",
       "      <td>2453552</td>\n",
       "      <td>CLAMP DOWN BURGERS</td>\n",
       "      <td>NaN</td>\n",
       "    </tr>\n",
       "    <tr>\n",
       "      <th>272</th>\n",
       "      <td>2453268</td>\n",
       "      <td>CENTERS FOR NEW HORIZONS</td>\n",
       "      <td>NaN</td>\n",
       "    </tr>\n",
       "    <tr>\n",
       "      <th>747</th>\n",
       "      <td>2401721</td>\n",
       "      <td>BABAS STEAK AND LEMONADE</td>\n",
       "      <td>NaN</td>\n",
       "    </tr>\n",
       "    <tr>\n",
       "      <th>899</th>\n",
       "      <td>2401643</td>\n",
       "      <td>HEALTH FOOD &amp; GROCERIES</td>\n",
       "      <td>NaN</td>\n",
       "    </tr>\n",
       "    <tr>\n",
       "      <th>...</th>\n",
       "      <td>...</td>\n",
       "      <td>...</td>\n",
       "      <td>...</td>\n",
       "    </tr>\n",
       "    <tr>\n",
       "      <th>211942</th>\n",
       "      <td>68254</td>\n",
       "      <td>Eastside Soccer Dome, Inc.</td>\n",
       "      <td>NaN</td>\n",
       "    </tr>\n",
       "    <tr>\n",
       "      <th>211956</th>\n",
       "      <td>78239</td>\n",
       "      <td>Yahs Cuisine</td>\n",
       "      <td>NaN</td>\n",
       "    </tr>\n",
       "    <tr>\n",
       "      <th>211962</th>\n",
       "      <td>158243</td>\n",
       "      <td>DUNKIN DONUTS</td>\n",
       "      <td>NaN</td>\n",
       "    </tr>\n",
       "    <tr>\n",
       "      <th>211992</th>\n",
       "      <td>78240</td>\n",
       "      <td>OBAMA FOOD MART</td>\n",
       "      <td>NaN</td>\n",
       "    </tr>\n",
       "    <tr>\n",
       "      <th>212010</th>\n",
       "      <td>68250</td>\n",
       "      <td>Tots Express Learning Center</td>\n",
       "      <td>NaN</td>\n",
       "    </tr>\n",
       "  </tbody>\n",
       "</table>\n",
       "<p>2482 rows × 3 columns</p>\n",
       "</div>"
      ],
      "text/plain": [
       "       inspection_id                      dba_name aka_name\n",
       "26           2453694      CENTERS FOR NEW HORIZONS      NaN\n",
       "101          2453552            CLAMP DOWN BURGERS      NaN\n",
       "272          2453268      CENTERS FOR NEW HORIZONS      NaN\n",
       "747          2401721      BABAS STEAK AND LEMONADE      NaN\n",
       "899          2401643       HEALTH FOOD & GROCERIES      NaN\n",
       "...              ...                           ...      ...\n",
       "211942         68254    Eastside Soccer Dome, Inc.      NaN\n",
       "211956         78239                  Yahs Cuisine      NaN\n",
       "211962        158243                 DUNKIN DONUTS      NaN\n",
       "211992         78240               OBAMA FOOD MART      NaN\n",
       "212010         68250  Tots Express Learning Center      NaN\n",
       "\n",
       "[2482 rows x 3 columns]"
      ]
     },
     "execution_count": 811,
     "metadata": {},
     "output_type": "execute_result"
    }
   ],
   "source": [
    "#sample of the missing aka_name values\n",
    "df[df['aka_name'].isna()][['inspection_id','dba_name','aka_name']]"
   ]
  },
  {
   "cell_type": "code",
   "execution_count": 812,
   "metadata": {},
   "outputs": [],
   "source": [
    "#fill NaN values with dba_name value\n",
    "df['aka_name'] = df['aka_name'].fillna(df['dba_name'])"
   ]
  },
  {
   "cell_type": "markdown",
   "metadata": {},
   "source": [
    "**license_**"
   ]
  },
  {
   "cell_type": "code",
   "execution_count": 813,
   "metadata": {},
   "outputs": [
    {
     "data": {
      "text/plain": [
       "17"
      ]
     },
     "execution_count": 813,
     "metadata": {},
     "output_type": "execute_result"
    }
   ],
   "source": [
    "df['license_'].isna().sum()"
   ]
  },
  {
   "cell_type": "code",
   "execution_count": 814,
   "metadata": {},
   "outputs": [
    {
     "data": {
      "text/plain": [
       "23493              ST. DEMETRIOS GREEK ORTHODOX CHURCH\n",
       "39992              ST. DEMETRIOS GREEK ORTHODOX CHURCH\n",
       "57005              ST. DEMETRIOS GREEK ORTHODOX CHURCH\n",
       "82502              ST. DEMETRIOS GREEK ORTHODOX CHURCH\n",
       "102392             ST. DEMETRIOS GREEK ORTHODOX CHURCH\n",
       "127817             ST. DEMETRIOS GREEK ORTHODOX CHURCH\n",
       "130269                                 ARGENTINA FOODS\n",
       "145120             ST. DEMETRIOS GREEK ORTHODOX CHURCH\n",
       "164738             ST. DEMETRIOS GREEK ORTHODOX CHURCH\n",
       "168130                        OLD ST. PATRICK'S CHURCH\n",
       "171469                 GOD'S BATTLE AXE PRAYER ACADEMY\n",
       "171721                 GOD'S BATTLE AXE PRAYER ACADEMY\n",
       "173217                 GOD'S BATTLE AXE PRAYER ACADEMY\n",
       "182446             ST. DEMETRIOS GREEK ORTHODOX CHURCH\n",
       "193602    AVALON COMMUNITY CHURCH/FREEDOM HOME ACADEMY\n",
       "201799                             ST DEMETRIOS CHURCH\n",
       "204392                        OLD ST. PATRICK'S CHURCH\n",
       "Name: dba_name, dtype: object"
      ]
     },
     "execution_count": 814,
     "metadata": {},
     "output_type": "execute_result"
    }
   ],
   "source": [
    "#Mostly churches...\n",
    "df[df['license_'].isna()]['dba_name']"
   ]
  },
  {
   "cell_type": "code",
   "execution_count": 815,
   "metadata": {},
   "outputs": [],
   "source": [
    "#fill with \"Not Disclosed\"\n",
    "df['license_'] = df['license_'].fillna('Not Disclosed')"
   ]
  },
  {
   "cell_type": "markdown",
   "metadata": {},
   "source": [
    "**facility_type**"
   ]
  },
  {
   "cell_type": "code",
   "execution_count": 816,
   "metadata": {},
   "outputs": [
    {
     "data": {
      "text/plain": [
       "4880"
      ]
     },
     "execution_count": 816,
     "metadata": {},
     "output_type": "execute_result"
    }
   ],
   "source": [
    "df['facility_type'].isna().sum()"
   ]
  },
  {
   "cell_type": "code",
   "execution_count": 817,
   "metadata": {},
   "outputs": [
    {
     "data": {
      "text/plain": [
       "SUBWAY                          34\n",
       "DUNKIN DONUTS                   20\n",
       "7-ELEVEN                        18\n",
       "WHITE HEN PANTRY                18\n",
       "HAROLD'S CHICKEN SHACK          15\n",
       "TOKYO LUNCH BOXES & CATERING    13\n",
       "KENTUCKY FRIED CHICKEN          12\n",
       "MIDWEST BUDDHIST TEMPLE         11\n",
       "MCDONALD'S                      10\n",
       "MCDONALDS                        8\n",
       "HEAVEN'S LEARNING GARDEN         7\n",
       "SCHLENKO INC.                    7\n",
       "GOLD COAST DOGS                  6\n",
       "COLD STONE CREAMERY              6\n",
       "THUNDERBIRD CATERING             6\n",
       "CALIFORNIA FOODS                 5\n",
       "MAN-O-SALWA                      5\n",
       "BELEN                            5\n",
       "DEOLA'S                          5\n",
       "QUIZNOS                          5\n",
       "Name: dba_name, dtype: int64"
      ]
     },
     "execution_count": 817,
     "metadata": {},
     "output_type": "execute_result"
    }
   ],
   "source": [
    "df[df['facility_type'].isna()]['dba_name'].value_counts().head(20)"
   ]
  },
  {
   "cell_type": "code",
   "execution_count": 818,
   "metadata": {},
   "outputs": [
    {
     "data": {
      "text/plain": [
       "count    4108.000000\n",
       "mean        1.187926\n",
       "std         0.949276\n",
       "min         1.000000\n",
       "25%         1.000000\n",
       "50%         1.000000\n",
       "75%         1.000000\n",
       "max        34.000000\n",
       "Name: dba_name, dtype: float64"
      ]
     },
     "execution_count": 818,
     "metadata": {},
     "output_type": "execute_result"
    }
   ],
   "source": [
    "df[df['facility_type'].isna()]['dba_name'].value_counts().describe()"
   ]
  },
  {
   "cell_type": "code",
   "execution_count": 819,
   "metadata": {},
   "outputs": [
    {
     "data": {
      "text/plain": [
       "Restaurant                         141072\n",
       "Grocery Store                       27738\n",
       "School                              13076\n",
       "Children's Services Facility         3574\n",
       "Bakery                               3095\n",
       "Daycare (2 - 6 Years)                2793\n",
       "Daycare Above and Under 2 Years      2580\n",
       "Long Term Care                       1426\n",
       "Catering                             1278\n",
       "Liquor                                931\n",
       "Mobile Food Dispenser                 883\n",
       "Daycare Combo 1586                    741\n",
       "Mobile Food Preparer                  673\n",
       "Golden Diner                          599\n",
       "Hospital                              592\n",
       "Name: facility_type, dtype: int64"
      ]
     },
     "execution_count": 819,
     "metadata": {},
     "output_type": "execute_result"
    }
   ],
   "source": [
    "df['facility_type'].value_counts().head(15)"
   ]
  },
  {
   "cell_type": "markdown",
   "metadata": {},
   "source": [
    "It's not clear why so many of these facility types are missing. Some of the businesses are obvious (7-Eleven, Quiznos, for instance) but many aren't... For now, I'll fill the NA values with not disclosed\n"
   ]
  },
  {
   "cell_type": "code",
   "execution_count": 820,
   "metadata": {},
   "outputs": [],
   "source": [
    "df['facility_type'] = df['facility_type'].fillna('Not Disclosed')"
   ]
  },
  {
   "cell_type": "markdown",
   "metadata": {},
   "source": [
    "**risk**"
   ]
  },
  {
   "cell_type": "code",
   "execution_count": 821,
   "metadata": {},
   "outputs": [
    {
     "data": {
      "text/plain": [
       "Risk 1 (High)      151563\n",
       "Risk 2 (Medium)     41384\n",
       "Risk 3 (Low)        18972\n",
       "All                    31\n",
       "Name: risk, dtype: int64"
      ]
     },
     "execution_count": 821,
     "metadata": {},
     "output_type": "execute_result"
    }
   ],
   "source": [
    "df['risk'].value_counts()"
   ]
  },
  {
   "cell_type": "code",
   "execution_count": 822,
   "metadata": {},
   "outputs": [
    {
     "data": {
      "text/plain": [
       "72"
      ]
     },
     "execution_count": 822,
     "metadata": {},
     "output_type": "execute_result"
    }
   ],
   "source": [
    "df['risk'].isna().sum()"
   ]
  },
  {
   "cell_type": "code",
   "execution_count": 823,
   "metadata": {},
   "outputs": [
    {
     "data": {
      "text/html": [
       "<div>\n",
       "<style scoped>\n",
       "    .dataframe tbody tr th:only-of-type {\n",
       "        vertical-align: middle;\n",
       "    }\n",
       "\n",
       "    .dataframe tbody tr th {\n",
       "        vertical-align: top;\n",
       "    }\n",
       "\n",
       "    .dataframe thead th {\n",
       "        text-align: right;\n",
       "    }\n",
       "</style>\n",
       "<table border=\"1\" class=\"dataframe\">\n",
       "  <thead>\n",
       "    <tr style=\"text-align: right;\">\n",
       "      <th></th>\n",
       "      <th>inspection_id</th>\n",
       "      <th>dba_name</th>\n",
       "      <th>aka_name</th>\n",
       "      <th>license_</th>\n",
       "      <th>facility_type</th>\n",
       "      <th>risk</th>\n",
       "      <th>address</th>\n",
       "      <th>city</th>\n",
       "      <th>state</th>\n",
       "      <th>zip</th>\n",
       "      <th>inspection_date</th>\n",
       "      <th>inspection_type</th>\n",
       "      <th>results</th>\n",
       "      <th>violations</th>\n",
       "      <th>latitude</th>\n",
       "      <th>longitude</th>\n",
       "      <th>location</th>\n",
       "    </tr>\n",
       "  </thead>\n",
       "  <tbody>\n",
       "    <tr>\n",
       "      <th>65053</th>\n",
       "      <td>2009375</td>\n",
       "      <td>CHICAGO BEST DELI GROCERY,INC</td>\n",
       "      <td>CHICAGO BEST DELI GROCERY,INC</td>\n",
       "      <td>2512074</td>\n",
       "      <td>Not Disclosed</td>\n",
       "      <td>NaN</td>\n",
       "      <td>156-158 W 95TH ST</td>\n",
       "      <td>CHICAGO</td>\n",
       "      <td>IL</td>\n",
       "      <td>60628</td>\n",
       "      <td>2017-03-28T00:00:00.000</td>\n",
       "      <td>License</td>\n",
       "      <td>Not Ready</td>\n",
       "      <td>NaN</td>\n",
       "      <td>NaN</td>\n",
       "      <td>NaN</td>\n",
       "      <td>NaN</td>\n",
       "    </tr>\n",
       "    <tr>\n",
       "      <th>181081</th>\n",
       "      <td>537572</td>\n",
       "      <td>unknown</td>\n",
       "      <td>unknown</td>\n",
       "      <td>0</td>\n",
       "      <td>Not Disclosed</td>\n",
       "      <td>NaN</td>\n",
       "      <td>10222 S wentworth AVE</td>\n",
       "      <td>CHICAGO</td>\n",
       "      <td>IL</td>\n",
       "      <td>60628</td>\n",
       "      <td>2011-09-07T00:00:00.000</td>\n",
       "      <td>Complaint-Fire</td>\n",
       "      <td>Business Not Located</td>\n",
       "      <td>NaN</td>\n",
       "      <td>NaN</td>\n",
       "      <td>NaN</td>\n",
       "      <td>NaN</td>\n",
       "    </tr>\n",
       "    <tr>\n",
       "      <th>34914</th>\n",
       "      <td>2229372</td>\n",
       "      <td>RICE THAI CAFE</td>\n",
       "      <td>RICE THAI CAFE</td>\n",
       "      <td>2589016</td>\n",
       "      <td>Not Disclosed</td>\n",
       "      <td>NaN</td>\n",
       "      <td>211`7 W FARRAGUT AVE</td>\n",
       "      <td>CHICAGO</td>\n",
       "      <td>IL</td>\n",
       "      <td>60625</td>\n",
       "      <td>2018-10-04T00:00:00.000</td>\n",
       "      <td>License</td>\n",
       "      <td>Business Not Located</td>\n",
       "      <td>NaN</td>\n",
       "      <td>NaN</td>\n",
       "      <td>NaN</td>\n",
       "      <td>NaN</td>\n",
       "    </tr>\n",
       "    <tr>\n",
       "      <th>196571</th>\n",
       "      <td>428391</td>\n",
       "      <td>BEST SUBS</td>\n",
       "      <td>BEST SUBS</td>\n",
       "      <td>0</td>\n",
       "      <td>Not Disclosed</td>\n",
       "      <td>NaN</td>\n",
       "      <td>2653 N WASTENAW AVE BLDG</td>\n",
       "      <td>CHICAGO</td>\n",
       "      <td>IL</td>\n",
       "      <td>60647</td>\n",
       "      <td>2010-10-29T00:00:00.000</td>\n",
       "      <td>Complaint</td>\n",
       "      <td>Business Not Located</td>\n",
       "      <td>NaN</td>\n",
       "      <td>NaN</td>\n",
       "      <td>NaN</td>\n",
       "      <td>NaN</td>\n",
       "    </tr>\n",
       "    <tr>\n",
       "      <th>25354</th>\n",
       "      <td>2286042</td>\n",
       "      <td>REIS AND IRVYS</td>\n",
       "      <td>REIS AND IRVYS</td>\n",
       "      <td>2659028</td>\n",
       "      <td>Not Disclosed</td>\n",
       "      <td>NaN</td>\n",
       "      <td>1801 W JACKSON BLVD</td>\n",
       "      <td>CHICAGO</td>\n",
       "      <td>IL</td>\n",
       "      <td>60612</td>\n",
       "      <td>2019-04-30T00:00:00.000</td>\n",
       "      <td>License</td>\n",
       "      <td>Not Ready</td>\n",
       "      <td>NaN</td>\n",
       "      <td>NaN</td>\n",
       "      <td>NaN</td>\n",
       "      <td>NaN</td>\n",
       "    </tr>\n",
       "  </tbody>\n",
       "</table>\n",
       "</div>"
      ],
      "text/plain": [
       "       inspection_id                       dba_name  \\\n",
       "65053        2009375  CHICAGO BEST DELI GROCERY,INC   \n",
       "181081        537572                        unknown   \n",
       "34914        2229372                 RICE THAI CAFE   \n",
       "196571        428391                      BEST SUBS   \n",
       "25354        2286042                 REIS AND IRVYS   \n",
       "\n",
       "                             aka_name license_  facility_type risk  \\\n",
       "65053   CHICAGO BEST DELI GROCERY,INC  2512074  Not Disclosed  NaN   \n",
       "181081                        unknown        0  Not Disclosed  NaN   \n",
       "34914                  RICE THAI CAFE  2589016  Not Disclosed  NaN   \n",
       "196571                      BEST SUBS        0  Not Disclosed  NaN   \n",
       "25354                  REIS AND IRVYS  2659028  Not Disclosed  NaN   \n",
       "\n",
       "                          address     city state    zip  \\\n",
       "65053           156-158 W 95TH ST  CHICAGO    IL  60628   \n",
       "181081      10222 S wentworth AVE  CHICAGO    IL  60628   \n",
       "34914       211`7 W FARRAGUT AVE   CHICAGO    IL  60625   \n",
       "196571  2653 N WASTENAW AVE BLDG   CHICAGO    IL  60647   \n",
       "25354         1801 W JACKSON BLVD  CHICAGO    IL  60612   \n",
       "\n",
       "                inspection_date inspection_type               results  \\\n",
       "65053   2017-03-28T00:00:00.000         License             Not Ready   \n",
       "181081  2011-09-07T00:00:00.000  Complaint-Fire  Business Not Located   \n",
       "34914   2018-10-04T00:00:00.000         License  Business Not Located   \n",
       "196571  2010-10-29T00:00:00.000       Complaint  Business Not Located   \n",
       "25354   2019-04-30T00:00:00.000         License             Not Ready   \n",
       "\n",
       "       violations latitude longitude location  \n",
       "65053         NaN      NaN       NaN      NaN  \n",
       "181081        NaN      NaN       NaN      NaN  \n",
       "34914         NaN      NaN       NaN      NaN  \n",
       "196571        NaN      NaN       NaN      NaN  \n",
       "25354         NaN      NaN       NaN      NaN  "
      ]
     },
     "execution_count": 823,
     "metadata": {},
     "output_type": "execute_result"
    }
   ],
   "source": [
    "df[df['risk'].isna()].sample(n=5, random_state=512)"
   ]
  },
  {
   "cell_type": "markdown",
   "metadata": {},
   "source": [
    "Notice that many of the missing risk values are records that were also missing other attributes...\n"
   ]
  },
  {
   "cell_type": "code",
   "execution_count": 824,
   "metadata": {},
   "outputs": [],
   "source": [
    "#I'll fill missing risk values with not disclosed\n",
    "df['risk'] = df['risk'].fillna('Not Disclosed')"
   ]
  },
  {
   "cell_type": "markdown",
   "metadata": {},
   "source": [
    "**address**"
   ]
  },
  {
   "cell_type": "code",
   "execution_count": 825,
   "metadata": {},
   "outputs": [
    {
     "data": {
      "text/plain": [
       "0"
      ]
     },
     "execution_count": 825,
     "metadata": {},
     "output_type": "execute_result"
    }
   ],
   "source": [
    "df['address'].isna().sum()"
   ]
  },
  {
   "cell_type": "code",
   "execution_count": 826,
   "metadata": {},
   "outputs": [
    {
     "data": {
      "text/plain": [
       "11601 W TOUHY AVE             2674\n",
       "5700 S CICERO AVE              583\n",
       "500 W MADISON ST               462\n",
       "2300 S THROOP ST               405\n",
       "324 N LEAVITT ST               391\n",
       "131 N CLINTON ST               353\n",
       "100 W RANDOLPH ST              331\n",
       "222 W MERCHANDISE MART PLZ     279\n",
       "600 E GRAND AVE                276\n",
       "7601 S CICERO AVE              267\n",
       "Name: address, dtype: int64"
      ]
     },
     "execution_count": 826,
     "metadata": {},
     "output_type": "execute_result"
    }
   ],
   "source": [
    "df['address'].value_counts().head(10)"
   ]
  },
  {
   "cell_type": "markdown",
   "metadata": {},
   "source": [
    "Some of these make sense:\n",
    "\n",
    "* 5700 S CICERO AVE = Chicago Midway\n",
    "* 500 W MADISON ST = Accenture Tower\n"
   ]
  },
  {
   "cell_type": "markdown",
   "metadata": {},
   "source": [
    "**city**"
   ]
  },
  {
   "cell_type": "code",
   "execution_count": 827,
   "metadata": {},
   "outputs": [
    {
     "data": {
      "text/plain": [
       "154"
      ]
     },
     "execution_count": 827,
     "metadata": {},
     "output_type": "execute_result"
    }
   ],
   "source": [
    "df['city'].isna().sum()"
   ]
  },
  {
   "cell_type": "code",
   "execution_count": 831,
   "metadata": {},
   "outputs": [
    {
     "data": {
      "text/plain": [
       "22590     CHICAGO\n",
       "105541    CHICAGO\n",
       "166608    CHICAGO\n",
       "96379     CHICAGO\n",
       "201767    CHICAGO\n",
       "Name: city, dtype: object"
      ]
     },
     "execution_count": 831,
     "metadata": {},
     "output_type": "execute_result"
    }
   ],
   "source": [
    "df['city'].sample(n=5)"
   ]
  },
  {
   "cell_type": "code",
   "execution_count": 832,
   "metadata": {},
   "outputs": [],
   "source": [
    "df['city'] = df['city'].fillna('Not Disclosed')\n",
    "df['city'] = df['city'].str.upper()"
   ]
  },
  {
   "cell_type": "code",
   "execution_count": 838,
   "metadata": {},
   "outputs": [
    {
     "data": {
      "text/plain": [
       "CHICAGO                 211675\n",
       "NOT DISCLOSED              154\n",
       "SCHAUMBURG                  27\n",
       "MAYWOOD                     16\n",
       "ELK GROVE VILLAGE           13\n",
       "EVANSTON                    11\n",
       "CICERO                       9\n",
       "INACTIVE                     8\n",
       "SKOKIE                       8\n",
       "NILES NILES                  7\n",
       "ELMHURST                     7\n",
       "CALUMET CITY                 6\n",
       "OAK PARK                     5\n",
       "WORTH                        5\n",
       "BRIDGEVIEW                   4\n",
       "ALSIP                        4\n",
       "CHARLES A HAYES              4\n",
       "SUMMIT                       4\n",
       "ROSEMONT                     3\n",
       "EAST HAZEL CREST             3\n",
       "SCHILLER PARK                3\n",
       "PLAINFIELD                   3\n",
       "BLUE ISLAND                  2\n",
       "NAPERVILLE                   2\n",
       "BERWYN                       2\n",
       "STREAMWOOD                   2\n",
       "HIGHLAND PARK                2\n",
       "BANNOCKBURNDEERFIELD         2\n",
       "CHICAGO HEIGHTS              2\n",
       "DES PLAINES                  1\n",
       "Name: city, dtype: int64"
      ]
     },
     "execution_count": 838,
     "metadata": {},
     "output_type": "execute_result"
    }
   ],
   "source": [
    "df['city'].value_counts().head(30)"
   ]
  },
  {
   "cell_type": "code",
   "execution_count": 837,
   "metadata": {},
   "outputs": [],
   "source": [
    "df['city'] = df['city'].replace('chicago','CHICAGO')\n",
    "df['city'] = df['city'].replace('Chicago','CHICAGO')\n",
    "df['city'] = df['city'].replace('CCHICAGO','CHICAGO')\n",
    "df['city'] = df['city'].replace('CHICAGOCHICAGO','CHICAGO')\n",
    "df['city'] = df['city'].replace('CHCHICAGO','CHICAGO')\n",
    "df['city'] = df['city'].replace('CHICAGOHICAGO','CHICAGO')\n",
    "df['city'] = df['city'].replace('CHICAGO.','CHICAGO')\n",
    "df['city'] = df['city'].replace('312CHICAGO','CHICAGO')\n",
    "df['city'] = df['city'].replace('CHicago','CHICAGO')\n",
    "df['city'] = df['city'].replace('CHICAGOI','CHICAGO')\n",
    "df['city'] = df['city'].replace('CHCICAGO','CHICAGO')\n",
    "#df['city'] = df['city'].replace('','CHICAGO')\n"
   ]
  },
  {
   "cell_type": "markdown",
   "metadata": {},
   "source": [
    "**state**"
   ]
  },
  {
   "cell_type": "code",
   "execution_count": 839,
   "metadata": {},
   "outputs": [
    {
     "data": {
      "text/plain": [
       "48"
      ]
     },
     "execution_count": 839,
     "metadata": {},
     "output_type": "execute_result"
    }
   ],
   "source": [
    "df['state'].isna().sum()"
   ]
  },
  {
   "cell_type": "code",
   "execution_count": 840,
   "metadata": {},
   "outputs": [
    {
     "data": {
      "text/html": [
       "<div>\n",
       "<style scoped>\n",
       "    .dataframe tbody tr th:only-of-type {\n",
       "        vertical-align: middle;\n",
       "    }\n",
       "\n",
       "    .dataframe tbody tr th {\n",
       "        vertical-align: top;\n",
       "    }\n",
       "\n",
       "    .dataframe thead th {\n",
       "        text-align: right;\n",
       "    }\n",
       "</style>\n",
       "<table border=\"1\" class=\"dataframe\">\n",
       "  <thead>\n",
       "    <tr style=\"text-align: right;\">\n",
       "      <th></th>\n",
       "      <th>dba_name</th>\n",
       "      <th>city</th>\n",
       "      <th>state</th>\n",
       "    </tr>\n",
       "  </thead>\n",
       "  <tbody>\n",
       "    <tr>\n",
       "      <th>5637</th>\n",
       "      <td>CRATER FOOD &amp; LIQUOR</td>\n",
       "      <td>CHICAGO</td>\n",
       "      <td>NaN</td>\n",
       "    </tr>\n",
       "    <tr>\n",
       "      <th>6182</th>\n",
       "      <td>YOLK - LINCOLN PARK</td>\n",
       "      <td>CHICAGO</td>\n",
       "      <td>NaN</td>\n",
       "    </tr>\n",
       "    <tr>\n",
       "      <th>6200</th>\n",
       "      <td>Starbucks Coffee#51211</td>\n",
       "      <td>NOT DISCLOSED</td>\n",
       "      <td>NaN</td>\n",
       "    </tr>\n",
       "    <tr>\n",
       "      <th>6231</th>\n",
       "      <td>CRATER FOOD &amp; LIQUOR</td>\n",
       "      <td>CHICAGO</td>\n",
       "      <td>NaN</td>\n",
       "    </tr>\n",
       "    <tr>\n",
       "      <th>6691</th>\n",
       "      <td>STAX CAFE</td>\n",
       "      <td>CHICAGO</td>\n",
       "      <td>NaN</td>\n",
       "    </tr>\n",
       "    <tr>\n",
       "      <th>7083</th>\n",
       "      <td>WINGSTOP</td>\n",
       "      <td>CHICAGO</td>\n",
       "      <td>NaN</td>\n",
       "    </tr>\n",
       "    <tr>\n",
       "      <th>19165</th>\n",
       "      <td>AMY BECK CAKE DESIGN, LLC</td>\n",
       "      <td>NOT DISCLOSED</td>\n",
       "      <td>NaN</td>\n",
       "    </tr>\n",
       "    <tr>\n",
       "      <th>23182</th>\n",
       "      <td>STAX CAFE</td>\n",
       "      <td>CHICAGO</td>\n",
       "      <td>NaN</td>\n",
       "    </tr>\n",
       "    <tr>\n",
       "      <th>23603</th>\n",
       "      <td>CITY HALL. LLC</td>\n",
       "      <td>CHICAGO</td>\n",
       "      <td>NaN</td>\n",
       "    </tr>\n",
       "    <tr>\n",
       "      <th>23605</th>\n",
       "      <td>CITY HALL. LLC</td>\n",
       "      <td>CHICAGO</td>\n",
       "      <td>NaN</td>\n",
       "    </tr>\n",
       "  </tbody>\n",
       "</table>\n",
       "</div>"
      ],
      "text/plain": [
       "                        dba_name           city state\n",
       "5637        CRATER FOOD & LIQUOR        CHICAGO   NaN\n",
       "6182         YOLK - LINCOLN PARK        CHICAGO   NaN\n",
       "6200      Starbucks Coffee#51211  NOT DISCLOSED   NaN\n",
       "6231        CRATER FOOD & LIQUOR        CHICAGO   NaN\n",
       "6691                   STAX CAFE        CHICAGO   NaN\n",
       "7083                    WINGSTOP        CHICAGO   NaN\n",
       "19165  AMY BECK CAKE DESIGN, LLC  NOT DISCLOSED   NaN\n",
       "23182                  STAX CAFE        CHICAGO   NaN\n",
       "23603             CITY HALL. LLC        CHICAGO   NaN\n",
       "23605             CITY HALL. LLC        CHICAGO   NaN"
      ]
     },
     "execution_count": 840,
     "metadata": {},
     "output_type": "execute_result"
    }
   ],
   "source": [
    "df[df['state'].isna()][['dba_name','city','state']].head(10)"
   ]
  },
  {
   "cell_type": "markdown",
   "metadata": {},
   "source": [
    "It appears there is a data input problem. For now, I'll manually fill missing states\n"
   ]
  },
  {
   "cell_type": "code",
   "execution_count": 841,
   "metadata": {},
   "outputs": [],
   "source": [
    "df.loc[(df.city=='CHICAGO')&(df.state.isna()),'state'] = 'IL'"
   ]
  },
  {
   "cell_type": "code",
   "execution_count": 842,
   "metadata": {},
   "outputs": [],
   "source": [
    "df['state'] = df['state'].fillna('Not Disclosed')"
   ]
  },
  {
   "cell_type": "code",
   "execution_count": 843,
   "metadata": {},
   "outputs": [
    {
     "data": {
      "text/plain": [
       "IL               211999\n",
       "Not Disclosed        20\n",
       "IN                    1\n",
       "NY                    1\n",
       "WI                    1\n",
       "Name: state, dtype: int64"
      ]
     },
     "execution_count": 843,
     "metadata": {},
     "output_type": "execute_result"
    }
   ],
   "source": [
    "df['state'].value_counts()"
   ]
  },
  {
   "cell_type": "markdown",
   "metadata": {},
   "source": [
    "Not sure why there are other states in this dataset. For now, I'll drop other states."
   ]
  },
  {
   "cell_type": "code",
   "execution_count": 844,
   "metadata": {},
   "outputs": [],
   "source": [
    "index_list = df[df.state != 'IL'].index.to_list()\n",
    "\n",
    "df = df.drop(index_list)"
   ]
  },
  {
   "cell_type": "markdown",
   "metadata": {},
   "source": [
    "**zip**"
   ]
  },
  {
   "cell_type": "code",
   "execution_count": 845,
   "metadata": {},
   "outputs": [
    {
     "data": {
      "text/plain": [
       "52"
      ]
     },
     "execution_count": 845,
     "metadata": {},
     "output_type": "execute_result"
    }
   ],
   "source": [
    "df['zip'].isna().sum()"
   ]
  },
  {
   "cell_type": "markdown",
   "metadata": {},
   "source": [
    "There are only 52 observations with missing zip values so I'll drop these values\n"
   ]
  },
  {
   "cell_type": "code",
   "execution_count": 846,
   "metadata": {},
   "outputs": [],
   "source": [
    "df = df.dropna(subset=['zip'])"
   ]
  },
  {
   "cell_type": "markdown",
   "metadata": {},
   "source": [
    "**inspection_date**"
   ]
  },
  {
   "cell_type": "code",
   "execution_count": 847,
   "metadata": {},
   "outputs": [
    {
     "data": {
      "text/plain": [
       "0"
      ]
     },
     "execution_count": 847,
     "metadata": {},
     "output_type": "execute_result"
    }
   ],
   "source": [
    "df['inspection_date'].isna().sum()"
   ]
  },
  {
   "cell_type": "code",
   "execution_count": 848,
   "metadata": {},
   "outputs": [
    {
     "name": "stdout",
     "output_type": "stream",
     "text": [
      "2020-10-23T00:00:00.000\n"
     ]
    },
    {
     "data": {
      "text/plain": [
       "str"
      ]
     },
     "execution_count": 848,
     "metadata": {},
     "output_type": "execute_result"
    }
   ],
   "source": [
    "print(df['inspection_date'][5])\n",
    "type(df['inspection_date'].iloc[5])"
   ]
  },
  {
   "cell_type": "markdown",
   "metadata": {},
   "source": [
    "I'll need to conver the inspection date column to datetime"
   ]
  },
  {
   "cell_type": "code",
   "execution_count": 849,
   "metadata": {},
   "outputs": [],
   "source": [
    "#Convert inspection_date column\n",
    "df['inspection_date_new'] = df['inspection_date'].apply(lambda x: datetime.strptime(x, '%Y-%m-%dT%H:%M:%S.%f'))\n"
   ]
  },
  {
   "cell_type": "code",
   "execution_count": 850,
   "metadata": {},
   "outputs": [
    {
     "data": {
      "text/plain": [
       "'10/26/20'"
      ]
     },
     "execution_count": 850,
     "metadata": {},
     "output_type": "execute_result"
    }
   ],
   "source": [
    "df.iloc[0]['inspection_date_new'].strftime(format='%x')"
   ]
  },
  {
   "cell_type": "code",
   "execution_count": 851,
   "metadata": {},
   "outputs": [
    {
     "name": "stdout",
     "output_type": "stream",
     "text": [
      "2020-10-23 00:00:00\n"
     ]
    },
    {
     "data": {
      "text/plain": [
       "pandas._libs.tslibs.timestamps.Timestamp"
      ]
     },
     "execution_count": 851,
     "metadata": {},
     "output_type": "execute_result"
    }
   ],
   "source": [
    "print(df['inspection_date_new'][5])\n",
    "type(df['inspection_date_new'].iloc[5])\n"
   ]
  },
  {
   "cell_type": "code",
   "execution_count": 852,
   "metadata": {},
   "outputs": [],
   "source": [
    "df['inspection_date_new'] = df['inspection_date_new'].apply(lambda x: x.strftime(format='%x'))"
   ]
  },
  {
   "cell_type": "code",
   "execution_count": 853,
   "metadata": {},
   "outputs": [
    {
     "name": "stdout",
     "output_type": "stream",
     "text": [
      "10/23/20\n"
     ]
    },
    {
     "data": {
      "text/plain": [
       "str"
      ]
     },
     "execution_count": 853,
     "metadata": {},
     "output_type": "execute_result"
    }
   ],
   "source": [
    "print(df['inspection_date_new'][5])\n",
    "type(df['inspection_date_new'].iloc[5])"
   ]
  },
  {
   "cell_type": "code",
   "execution_count": null,
   "metadata": {},
   "outputs": [],
   "source": []
  },
  {
   "cell_type": "code",
   "execution_count": null,
   "metadata": {},
   "outputs": [],
   "source": []
  },
  {
   "cell_type": "code",
   "execution_count": 854,
   "metadata": {},
   "outputs": [
    {
     "data": {
      "image/png": "[encoded data removed]",
      "text/plain": [
       "<Figure size 1296x576 with 1 Axes>"
      ]
     },
     "metadata": {
      "needs_background": "light"
     },
     "output_type": "display_data"
    }
   ],
   "source": [
    "import matplotlib.pylab as plt\n",
    "from collections import Counter\n",
    "\n",
    "# Tally occurrences of words in a list\n",
    "cnt = Counter()\n",
    "for day in df['inspection_date_new']:\n",
    "    cnt[day] += 1\n",
    "\n",
    "\n",
    "lists = sorted(cnt.items()) # sorted by key, return a list of tuples\n",
    "x, y = zip(*lists) # unpack a list of pairs into two tuples\n",
    "\n",
    "plt.figure(figsize=(18,8))\n",
    "plt.plot(x, y)\n",
    "\n",
    "plt.show()\n"
   ]
  },
  {
   "cell_type": "markdown",
   "metadata": {},
   "source": [
    "**inspection_type**\n"
   ]
  },
  {
   "cell_type": "code",
   "execution_count": 855,
   "metadata": {},
   "outputs": [
    {
     "data": {
      "text/plain": [
       "1"
      ]
     },
     "execution_count": 855,
     "metadata": {},
     "output_type": "execute_result"
    }
   ],
   "source": [
    "df['inspection_type'].isna().sum()\n"
   ]
  },
  {
   "cell_type": "code",
   "execution_count": 856,
   "metadata": {},
   "outputs": [],
   "source": [
    "df = df.dropna(subset=['inspection_type'])\n"
   ]
  },
  {
   "cell_type": "code",
   "execution_count": 857,
   "metadata": {},
   "outputs": [
    {
     "data": {
      "text/plain": [
       "Canvass                                   112771\n",
       "License                                    27804\n",
       "Canvass Re-Inspection                      22533\n",
       "Complaint                                  19616\n",
       "License Re-Inspection                       9471\n",
       "Complaint Re-Inspection                     8096\n",
       "Short Form Complaint                        7135\n",
       "Suspected Food Poisoning                     874\n",
       "Consultation                                 672\n",
       "License-Task Force                           604\n",
       "Tag Removal                                  603\n",
       "Recent Inspection                            357\n",
       "Out of Business                              284\n",
       "Task Force Liquor 1475                       252\n",
       "Suspected Food Poisoning Re-inspection       193\n",
       "Name: inspection_type, dtype: int64"
      ]
     },
     "execution_count": 857,
     "metadata": {},
     "output_type": "execute_result"
    }
   ],
   "source": [
    "df['inspection_type'].value_counts().head(15)\n"
   ]
  },
  {
   "cell_type": "markdown",
   "metadata": {},
   "source": [
    "**results**\n"
   ]
  },
  {
   "cell_type": "code",
   "execution_count": 858,
   "metadata": {},
   "outputs": [
    {
     "data": {
      "text/html": [
       "<div>\n",
       "<style scoped>\n",
       "    .dataframe tbody tr th:only-of-type {\n",
       "        vertical-align: middle;\n",
       "    }\n",
       "\n",
       "    .dataframe tbody tr th {\n",
       "        vertical-align: top;\n",
       "    }\n",
       "\n",
       "    .dataframe thead th {\n",
       "        text-align: right;\n",
       "    }\n",
       "</style>\n",
       "<table border=\"1\" class=\"dataframe\">\n",
       "  <thead>\n",
       "    <tr style=\"text-align: right;\">\n",
       "      <th></th>\n",
       "      <th>counts</th>\n",
       "      <th>percentage</th>\n",
       "    </tr>\n",
       "  </thead>\n",
       "  <tbody>\n",
       "    <tr>\n",
       "      <th>Pass</th>\n",
       "      <td>111257</td>\n",
       "      <td>0.524931</td>\n",
       "    </tr>\n",
       "    <tr>\n",
       "      <th>Fail</th>\n",
       "      <td>40971</td>\n",
       "      <td>0.193309</td>\n",
       "    </tr>\n",
       "    <tr>\n",
       "      <th>Pass w/ Conditions</th>\n",
       "      <td>32001</td>\n",
       "      <td>0.150987</td>\n",
       "    </tr>\n",
       "    <tr>\n",
       "      <th>Out of Business</th>\n",
       "      <td>18389</td>\n",
       "      <td>0.086763</td>\n",
       "    </tr>\n",
       "    <tr>\n",
       "      <th>No Entry</th>\n",
       "      <td>7059</td>\n",
       "      <td>0.033306</td>\n",
       "    </tr>\n",
       "    <tr>\n",
       "      <th>Not Ready</th>\n",
       "      <td>2199</td>\n",
       "      <td>0.010375</td>\n",
       "    </tr>\n",
       "    <tr>\n",
       "      <th>Business Not Located</th>\n",
       "      <td>70</td>\n",
       "      <td>0.000330</td>\n",
       "    </tr>\n",
       "  </tbody>\n",
       "</table>\n",
       "</div>"
      ],
      "text/plain": [
       "                      counts  percentage\n",
       "Pass                  111257    0.524931\n",
       "Fail                   40971    0.193309\n",
       "Pass w/ Conditions     32001    0.150987\n",
       "Out of Business        18389    0.086763\n",
       "No Entry                7059    0.033306\n",
       "Not Ready               2199    0.010375\n",
       "Business Not Located      70    0.000330"
      ]
     },
     "execution_count": 858,
     "metadata": {},
     "output_type": "execute_result"
    }
   ],
   "source": [
    "pd.DataFrame({'counts':df['results'].value_counts(),\n",
    "              'percentage':df['results'].value_counts()/df.shape[0]})"
   ]
  },
  {
   "cell_type": "markdown",
   "metadata": {},
   "source": [
    "I'm building a classification model to predict the multinomial classifications above based on the inspector's comments. Therefore, I plan to exclude the four results that we do not have sufficient records. Separately, I also noticed some records for \"no entry\" still had comments associated with them. "
   ]
  },
  {
   "cell_type": "code",
   "execution_count": 859,
   "metadata": {},
   "outputs": [
    {
     "data": {
      "text/html": [
       "<div>\n",
       "<style scoped>\n",
       "    .dataframe tbody tr th:only-of-type {\n",
       "        vertical-align: middle;\n",
       "    }\n",
       "\n",
       "    .dataframe tbody tr th {\n",
       "        vertical-align: top;\n",
       "    }\n",
       "\n",
       "    .dataframe thead th {\n",
       "        text-align: right;\n",
       "    }\n",
       "</style>\n",
       "<table border=\"1\" class=\"dataframe\">\n",
       "  <thead>\n",
       "    <tr style=\"text-align: right;\">\n",
       "      <th></th>\n",
       "      <th>inspection_id</th>\n",
       "      <th>dba_name</th>\n",
       "      <th>aka_name</th>\n",
       "      <th>license_</th>\n",
       "      <th>facility_type</th>\n",
       "      <th>risk</th>\n",
       "      <th>address</th>\n",
       "      <th>city</th>\n",
       "      <th>state</th>\n",
       "      <th>zip</th>\n",
       "      <th>inspection_date</th>\n",
       "      <th>inspection_type</th>\n",
       "      <th>results</th>\n",
       "      <th>violations</th>\n",
       "      <th>latitude</th>\n",
       "      <th>longitude</th>\n",
       "      <th>location</th>\n",
       "      <th>inspection_date_new</th>\n",
       "    </tr>\n",
       "  </thead>\n",
       "  <tbody>\n",
       "    <tr>\n",
       "      <th>14</th>\n",
       "      <td>2453751</td>\n",
       "      <td>EL POTRILLO</td>\n",
       "      <td>EL POTRILLO</td>\n",
       "      <td>13419</td>\n",
       "      <td>Liquor</td>\n",
       "      <td>Risk 3 (Low)</td>\n",
       "      <td>5129 S ARCHER AVE</td>\n",
       "      <td>CHICAGO</td>\n",
       "      <td>IL</td>\n",
       "      <td>60632</td>\n",
       "      <td>2020-10-23T00:00:00.000</td>\n",
       "      <td>Complaint Re-Inspection</td>\n",
       "      <td>No Entry</td>\n",
       "      <td>3. MANAGEMENT, FOOD EMPLOYEE AND CONDITIONAL EMPLOYEE; KNOWLEDGE, RESPONSIBILITIES AND REPORTING - Comments:  2-102.14(O): NO EMPLOYEE HEALTH POLICY ON SITE. INSTD TO PROVIDE A VERFIABLE EMPLOYEE HEALTH POLICY AND MAINTAIN. PRIORITY FOUNDATION 7-38-010 | 5. PROCEDURES FOR RESPONDING TO VOMITING AND DIARRHEAL EVENTS - Comments:  2-501.11: NO PROCEDURE IN PLACE FOR VOMITING AND DIARRHEAL EVENTS. INSTD TO PROVIDE PROCEDURE AND NECESSARY SUPPLIES EFFECTIVE AGAINST NOROVIRUS. PRIORITY FOUNDATION 7-38-005 | 10. ADEQUATE HANDWASHING SINKS PROPERLY SUPPLIED AND ACCESSIBLE - Comments: 5-204.11: NO HANDWASH SINK IN BAR AREA. INSTD TO PROVIDE A HANDWASH SINK PROPERLY CONNECTED UNDER CITY PRESSURE WITH 100F-120F TEMPERATURE OF WATER. PRIORITY FOUNDATION 7-38-030(C) | 38. INSECTS, RODENTS, &amp; ANIMALS NOT PRESENT - Comments: 6-501.111: 3 LIVE ROACHES AND ROACH FECES NOTED AT BAR 3-COMPARTMENT SINK. INSTD TO REMOVE ROACHES AND FECES, CLEAN AND SANITIZED AFFECTED AREAS. CITATION ISSUED PRIORITY FO...</td>\n",
       "      <td>NaN</td>\n",
       "      <td>NaN</td>\n",
       "      <td>NaN</td>\n",
       "      <td>10/23/20</td>\n",
       "    </tr>\n",
       "    <tr>\n",
       "      <th>27</th>\n",
       "      <td>2453716</td>\n",
       "      <td>GOURMET GORILLA</td>\n",
       "      <td>HUNTER PERKINS CAMPUS</td>\n",
       "      <td>2608552</td>\n",
       "      <td>CHARTER SCHOOL</td>\n",
       "      <td>Risk 1 (High)</td>\n",
       "      <td>1700 W 83RD ST</td>\n",
       "      <td>CHICAGO</td>\n",
       "      <td>IL</td>\n",
       "      <td>60620</td>\n",
       "      <td>2020-10-22T00:00:00.000</td>\n",
       "      <td>Canvass</td>\n",
       "      <td>No Entry</td>\n",
       "      <td>NaN</td>\n",
       "      <td>NaN</td>\n",
       "      <td>NaN</td>\n",
       "      <td>NaN</td>\n",
       "      <td>10/22/20</td>\n",
       "    </tr>\n",
       "    <tr>\n",
       "      <th>55</th>\n",
       "      <td>2453650</td>\n",
       "      <td>STUDIO MOVIE GRILL</td>\n",
       "      <td>STUDIO MOVIE GRILL</td>\n",
       "      <td>2309244</td>\n",
       "      <td>Restaurant</td>\n",
       "      <td>Risk 1 (High)</td>\n",
       "      <td>210 W 87TH ST</td>\n",
       "      <td>CHICAGO</td>\n",
       "      <td>IL</td>\n",
       "      <td>60620</td>\n",
       "      <td>2020-10-21T00:00:00.000</td>\n",
       "      <td>Canvass</td>\n",
       "      <td>No Entry</td>\n",
       "      <td>55. PHYSICAL FACILITIES INSTALLED, MAINTAINED &amp; CLEAN - Comments: Violation Codes: 6-501.11 Inspector Comments: DAMAGED FLOOR TILE AROUND THE FLOOR DRAIN BEHIND THE CONCESSION STAND. INSTRUCTED TO REPAIR/REPLACE FLOOR TILE. MAINTAIN SMOOTH AND EASILY CLEANABLE FLOORS. | 58. ALLERGEN TRAINING AS REQUIRED - Comments: Violation Codes: 2-102.13 Inspector Comments: OBSERVED NO ALLERGEN TRAINING AVAILABLE DURING INSPECTION. ALL CERTIFIED MANAGERS MUST PROVIDE ALLERGEN TRAINING.</td>\n",
       "      <td>NaN</td>\n",
       "      <td>NaN</td>\n",
       "      <td>NaN</td>\n",
       "      <td>10/21/20</td>\n",
       "    </tr>\n",
       "    <tr>\n",
       "      <th>56</th>\n",
       "      <td>2453659</td>\n",
       "      <td>WALMART #5781</td>\n",
       "      <td>WALMART #5781</td>\n",
       "      <td>2104019</td>\n",
       "      <td>Grocery Store</td>\n",
       "      <td>Risk 1 (High)</td>\n",
       "      <td>8331 S STEWART AVE</td>\n",
       "      <td>CHICAGO</td>\n",
       "      <td>IL</td>\n",
       "      <td>60620</td>\n",
       "      <td>2020-10-21T00:00:00.000</td>\n",
       "      <td>Canvass</td>\n",
       "      <td>No Entry</td>\n",
       "      <td>49. NON-FOOD/FOOD CONTACT SURFACES CLEAN - Comments: Violation Codes: 4-602.13 Inspector Comments: FOUND BLACK MOLD LIKE SUBSTANCE ON THE STORAGE RACKS WHERE THE JUICES ARE STORED IN THE REAR COLD HOLDING UNIT. INSTRUCTED TO KEEP RACKS CLEAN.</td>\n",
       "      <td>NaN</td>\n",
       "      <td>NaN</td>\n",
       "      <td>NaN</td>\n",
       "      <td>10/21/20</td>\n",
       "    </tr>\n",
       "    <tr>\n",
       "      <th>63</th>\n",
       "      <td>2453641</td>\n",
       "      <td>SANJUSTIN'S KITCHEN INC.</td>\n",
       "      <td>SANJUSTIN'S KITCHEN</td>\n",
       "      <td>2418532</td>\n",
       "      <td>Catering</td>\n",
       "      <td>Risk 1 (High)</td>\n",
       "      <td>157 W 75th ST</td>\n",
       "      <td>CHICAGO</td>\n",
       "      <td>IL</td>\n",
       "      <td>60620</td>\n",
       "      <td>2020-10-21T00:00:00.000</td>\n",
       "      <td>Canvass</td>\n",
       "      <td>No Entry</td>\n",
       "      <td>58. ALLERGEN TRAINING AS REQUIRED - Comments: Violation Codes: 2-102.13 Inspector Comments: NO ALLERGEN TRAINING FOR THE CERTIFIED FOOD MANAGERS. INSTRUCTED THAT ANY EMPLOYEE WITH CITY OF CHICAGO FOOD CERTIFICATE MUST HAVE ALLERGEN TRAINING.</td>\n",
       "      <td>NaN</td>\n",
       "      <td>NaN</td>\n",
       "      <td>NaN</td>\n",
       "      <td>10/21/20</td>\n",
       "    </tr>\n",
       "    <tr>\n",
       "      <th>...</th>\n",
       "      <td>...</td>\n",
       "      <td>...</td>\n",
       "      <td>...</td>\n",
       "      <td>...</td>\n",
       "      <td>...</td>\n",
       "      <td>...</td>\n",
       "      <td>...</td>\n",
       "      <td>...</td>\n",
       "      <td>...</td>\n",
       "      <td>...</td>\n",
       "      <td>...</td>\n",
       "      <td>...</td>\n",
       "      <td>...</td>\n",
       "      <td>...</td>\n",
       "      <td>...</td>\n",
       "      <td>...</td>\n",
       "      <td>...</td>\n",
       "      <td>...</td>\n",
       "    </tr>\n",
       "    <tr>\n",
       "      <th>167331</th>\n",
       "      <td>1230048</td>\n",
       "      <td>TAPAS LAS RAMBLAS</td>\n",
       "      <td>TAPAS LAS RAMBLAS</td>\n",
       "      <td>1799141</td>\n",
       "      <td>Restaurant</td>\n",
       "      <td>Risk 1 (High)</td>\n",
       "      <td>5101-5103 N CLARK ST</td>\n",
       "      <td>CHICAGO</td>\n",
       "      <td>IL</td>\n",
       "      <td>60640</td>\n",
       "      <td>2012-06-05T00:00:00.000</td>\n",
       "      <td>Complaint</td>\n",
       "      <td>No Entry</td>\n",
       "      <td>NaN</td>\n",
       "      <td>NaN</td>\n",
       "      <td>NaN</td>\n",
       "      <td>NaN</td>\n",
       "      <td>06/05/12</td>\n",
       "    </tr>\n",
       "    <tr>\n",
       "      <th>167740</th>\n",
       "      <td>1229215</td>\n",
       "      <td>CHICAGO FONDUE STUBE</td>\n",
       "      <td>CHICAGO FONDUE STUBE</td>\n",
       "      <td>26813</td>\n",
       "      <td>Restaurant</td>\n",
       "      <td>Risk 1 (High)</td>\n",
       "      <td>2717 W PETERSON AVE</td>\n",
       "      <td>CHICAGO</td>\n",
       "      <td>IL</td>\n",
       "      <td>60659</td>\n",
       "      <td>2012-05-29T00:00:00.000</td>\n",
       "      <td>Canvass</td>\n",
       "      <td>No Entry</td>\n",
       "      <td>NaN</td>\n",
       "      <td>NaN</td>\n",
       "      <td>NaN</td>\n",
       "      <td>NaN</td>\n",
       "      <td>05/29/12</td>\n",
       "    </tr>\n",
       "    <tr>\n",
       "      <th>167794</th>\n",
       "      <td>1229216</td>\n",
       "      <td>KATSU ENTERPRISESES INC</td>\n",
       "      <td>KATSU JAPANESE RESTAURANT</td>\n",
       "      <td>16281</td>\n",
       "      <td>Restaurant</td>\n",
       "      <td>Risk 1 (High)</td>\n",
       "      <td>2651 W PETERSON AVE</td>\n",
       "      <td>CHICAGO</td>\n",
       "      <td>IL</td>\n",
       "      <td>60659</td>\n",
       "      <td>2012-05-29T00:00:00.000</td>\n",
       "      <td>Canvass</td>\n",
       "      <td>No Entry</td>\n",
       "      <td>NaN</td>\n",
       "      <td>NaN</td>\n",
       "      <td>NaN</td>\n",
       "      <td>NaN</td>\n",
       "      <td>05/29/12</td>\n",
       "    </tr>\n",
       "    <tr>\n",
       "      <th>172319</th>\n",
       "      <td>671042</td>\n",
       "      <td>MAGNOLIA CAFE</td>\n",
       "      <td>MAGNOLIA CAFE</td>\n",
       "      <td>1968899</td>\n",
       "      <td>Restaurant</td>\n",
       "      <td>Risk 1 (High)</td>\n",
       "      <td>1224 W WILSON AVE</td>\n",
       "      <td>CHICAGO</td>\n",
       "      <td>IL</td>\n",
       "      <td>60640</td>\n",
       "      <td>2012-03-01T00:00:00.000</td>\n",
       "      <td>Canvass</td>\n",
       "      <td>No Entry</td>\n",
       "      <td>NaN</td>\n",
       "      <td>NaN</td>\n",
       "      <td>NaN</td>\n",
       "      <td>NaN</td>\n",
       "      <td>03/01/12</td>\n",
       "    </tr>\n",
       "    <tr>\n",
       "      <th>173053</th>\n",
       "      <td>588252</td>\n",
       "      <td>GARRETT POPCORN SHOPS</td>\n",
       "      <td>GARRETT POPCORN SHOPS</td>\n",
       "      <td>2125326</td>\n",
       "      <td>Restaurant</td>\n",
       "      <td>Risk 2 (Medium)</td>\n",
       "      <td>27 W JACKSON BLVD</td>\n",
       "      <td>CHICAGO</td>\n",
       "      <td>IL</td>\n",
       "      <td>60604</td>\n",
       "      <td>2012-02-14T00:00:00.000</td>\n",
       "      <td>Complaint</td>\n",
       "      <td>No Entry</td>\n",
       "      <td>NaN</td>\n",
       "      <td>NaN</td>\n",
       "      <td>NaN</td>\n",
       "      <td>NaN</td>\n",
       "      <td>02/14/12</td>\n",
       "    </tr>\n",
       "  </tbody>\n",
       "</table>\n",
       "<p>7059 rows × 18 columns</p>\n",
       "</div>"
      ],
      "text/plain": [
       "       inspection_id                  dba_name                   aka_name  \\\n",
       "14           2453751               EL POTRILLO                EL POTRILLO   \n",
       "27           2453716           GOURMET GORILLA      HUNTER PERKINS CAMPUS   \n",
       "55           2453650        STUDIO MOVIE GRILL         STUDIO MOVIE GRILL   \n",
       "56           2453659             WALMART #5781              WALMART #5781   \n",
       "63           2453641  SANJUSTIN'S KITCHEN INC.        SANJUSTIN'S KITCHEN   \n",
       "...              ...                       ...                        ...   \n",
       "167331       1230048         TAPAS LAS RAMBLAS          TAPAS LAS RAMBLAS   \n",
       "167740       1229215      CHICAGO FONDUE STUBE       CHICAGO FONDUE STUBE   \n",
       "167794       1229216   KATSU ENTERPRISESES INC  KATSU JAPANESE RESTAURANT   \n",
       "172319        671042             MAGNOLIA CAFE              MAGNOLIA CAFE   \n",
       "173053        588252     GARRETT POPCORN SHOPS      GARRETT POPCORN SHOPS   \n",
       "\n",
       "       license_   facility_type             risk               address  \\\n",
       "14        13419          Liquor     Risk 3 (Low)     5129 S ARCHER AVE   \n",
       "27      2608552  CHARTER SCHOOL    Risk 1 (High)        1700 W 83RD ST   \n",
       "55      2309244      Restaurant    Risk 1 (High)         210 W 87TH ST   \n",
       "56      2104019   Grocery Store    Risk 1 (High)    8331 S STEWART AVE   \n",
       "63      2418532        Catering    Risk 1 (High)         157 W 75th ST   \n",
       "...         ...             ...              ...                   ...   \n",
       "167331  1799141      Restaurant    Risk 1 (High)  5101-5103 N CLARK ST   \n",
       "167740    26813      Restaurant    Risk 1 (High)   2717 W PETERSON AVE   \n",
       "167794    16281      Restaurant    Risk 1 (High)   2651 W PETERSON AVE   \n",
       "172319  1968899      Restaurant    Risk 1 (High)     1224 W WILSON AVE   \n",
       "173053  2125326      Restaurant  Risk 2 (Medium)     27 W JACKSON BLVD   \n",
       "\n",
       "           city state    zip          inspection_date  \\\n",
       "14      CHICAGO    IL  60632  2020-10-23T00:00:00.000   \n",
       "27      CHICAGO    IL  60620  2020-10-22T00:00:00.000   \n",
       "55      CHICAGO    IL  60620  2020-10-21T00:00:00.000   \n",
       "56      CHICAGO    IL  60620  2020-10-21T00:00:00.000   \n",
       "63      CHICAGO    IL  60620  2020-10-21T00:00:00.000   \n",
       "...         ...   ...    ...                      ...   \n",
       "167331  CHICAGO    IL  60640  2012-06-05T00:00:00.000   \n",
       "167740  CHICAGO    IL  60659  2012-05-29T00:00:00.000   \n",
       "167794  CHICAGO    IL  60659  2012-05-29T00:00:00.000   \n",
       "172319  CHICAGO    IL  60640  2012-03-01T00:00:00.000   \n",
       "173053  CHICAGO    IL  60604  2012-02-14T00:00:00.000   \n",
       "\n",
       "                inspection_type   results  \\\n",
       "14      Complaint Re-Inspection  No Entry   \n",
       "27                      Canvass  No Entry   \n",
       "55                      Canvass  No Entry   \n",
       "56                      Canvass  No Entry   \n",
       "63                      Canvass  No Entry   \n",
       "...                         ...       ...   \n",
       "167331                Complaint  No Entry   \n",
       "167740                  Canvass  No Entry   \n",
       "167794                  Canvass  No Entry   \n",
       "172319                  Canvass  No Entry   \n",
       "173053                Complaint  No Entry   \n",
       "\n",
       "                                                                                                                                                                                                                                                                                                                                                                                                                                                                                                                                                                                                                                                                                                                                                                                                                                                                                                                                                                                                                                    violations  \\\n",
       "14      3. MANAGEMENT, FOOD EMPLOYEE AND CONDITIONAL EMPLOYEE; KNOWLEDGE, RESPONSIBILITIES AND REPORTING - Comments:  2-102.14(O): NO EMPLOYEE HEALTH POLICY ON SITE. INSTD TO PROVIDE A VERFIABLE EMPLOYEE HEALTH POLICY AND MAINTAIN. PRIORITY FOUNDATION 7-38-010 | 5. PROCEDURES FOR RESPONDING TO VOMITING AND DIARRHEAL EVENTS - Comments:  2-501.11: NO PROCEDURE IN PLACE FOR VOMITING AND DIARRHEAL EVENTS. INSTD TO PROVIDE PROCEDURE AND NECESSARY SUPPLIES EFFECTIVE AGAINST NOROVIRUS. PRIORITY FOUNDATION 7-38-005 | 10. ADEQUATE HANDWASHING SINKS PROPERLY SUPPLIED AND ACCESSIBLE - Comments: 5-204.11: NO HANDWASH SINK IN BAR AREA. INSTD TO PROVIDE A HANDWASH SINK PROPERLY CONNECTED UNDER CITY PRESSURE WITH 100F-120F TEMPERATURE OF WATER. PRIORITY FOUNDATION 7-38-030(C) | 38. INSECTS, RODENTS, & ANIMALS NOT PRESENT - Comments: 6-501.111: 3 LIVE ROACHES AND ROACH FECES NOTED AT BAR 3-COMPARTMENT SINK. INSTD TO REMOVE ROACHES AND FECES, CLEAN AND SANITIZED AFFECTED AREAS. CITATION ISSUED PRIORITY FO...   \n",
       "27                                                                                                                                                                                                                                                                                                                                                                                                                                                                                                                                                                                                                                                                                                                                                                                                                                                                                                                                                                                                                                         NaN   \n",
       "55                                                                                                                                                                                                                                                                                                                                                                                                                                                                                                                                                55. PHYSICAL FACILITIES INSTALLED, MAINTAINED & CLEAN - Comments: Violation Codes: 6-501.11 Inspector Comments: DAMAGED FLOOR TILE AROUND THE FLOOR DRAIN BEHIND THE CONCESSION STAND. INSTRUCTED TO REPAIR/REPLACE FLOOR TILE. MAINTAIN SMOOTH AND EASILY CLEANABLE FLOORS. | 58. ALLERGEN TRAINING AS REQUIRED - Comments: Violation Codes: 2-102.13 Inspector Comments: OBSERVED NO ALLERGEN TRAINING AVAILABLE DURING INSPECTION. ALL CERTIFIED MANAGERS MUST PROVIDE ALLERGEN TRAINING.   \n",
       "56                                                                                                                                                                                                                                                                                                                                                                                                                                                                                                                                                                                                                                                                                                                                                                                          49. NON-FOOD/FOOD CONTACT SURFACES CLEAN - Comments: Violation Codes: 4-602.13 Inspector Comments: FOUND BLACK MOLD LIKE SUBSTANCE ON THE STORAGE RACKS WHERE THE JUICES ARE STORED IN THE REAR COLD HOLDING UNIT. INSTRUCTED TO KEEP RACKS CLEAN.   \n",
       "63                                                                                                                                                                                                                                                                                                                                                                                                                                                                                                                                                                                                                                                                                                                                                                                           58. ALLERGEN TRAINING AS REQUIRED - Comments: Violation Codes: 2-102.13 Inspector Comments: NO ALLERGEN TRAINING FOR THE CERTIFIED FOOD MANAGERS. INSTRUCTED THAT ANY EMPLOYEE WITH CITY OF CHICAGO FOOD CERTIFICATE MUST HAVE ALLERGEN TRAINING.   \n",
       "...                                                                                                                                                                                                                                                                                                                                                                                                                                                                                                                                                                                                                                                                                                                                                                                                                                                                                                                                                                                                                                        ...   \n",
       "167331                                                                                                                                                                                                                                                                                                                                                                                                                                                                                                                                                                                                                                                                                                                                                                                                                                                                                                                                                                                                                                     NaN   \n",
       "167740                                                                                                                                                                                                                                                                                                                                                                                                                                                                                                                                                                                                                                                                                                                                                                                                                                                                                                                                                                                                                                     NaN   \n",
       "167794                                                                                                                                                                                                                                                                                                                                                                                                                                                                                                                                                                                                                                                                                                                                                                                                                                                                                                                                                                                                                                     NaN   \n",
       "172319                                                                                                                                                                                                                                                                                                                                                                                                                                                                                                                                                                                                                                                                                                                                                                                                                                                                                                                                                                                                                                     NaN   \n",
       "173053                                                                                                                                                                                                                                                                                                                                                                                                                                                                                                                                                                                                                                                                                                                                                                                                                                                                                                                                                                                                                                     NaN   \n",
       "\n",
       "       latitude longitude location inspection_date_new  \n",
       "14          NaN       NaN      NaN            10/23/20  \n",
       "27          NaN       NaN      NaN            10/22/20  \n",
       "55          NaN       NaN      NaN            10/21/20  \n",
       "56          NaN       NaN      NaN            10/21/20  \n",
       "63          NaN       NaN      NaN            10/21/20  \n",
       "...         ...       ...      ...                 ...  \n",
       "167331      NaN       NaN      NaN            06/05/12  \n",
       "167740      NaN       NaN      NaN            05/29/12  \n",
       "167794      NaN       NaN      NaN            05/29/12  \n",
       "172319      NaN       NaN      NaN            03/01/12  \n",
       "173053      NaN       NaN      NaN            02/14/12  \n",
       "\n",
       "[7059 rows x 18 columns]"
      ]
     },
     "execution_count": 859,
     "metadata": {},
     "output_type": "execute_result"
    }
   ],
   "source": [
    "df[df['results']=='No Entry']"
   ]
  },
  {
   "cell_type": "code",
   "execution_count": 860,
   "metadata": {},
   "outputs": [
    {
     "name": "stdout",
     "output_type": "stream",
     "text": [
      "['Pass', 'Fail', 'Pass w/ Conditions']\n"
     ]
    }
   ],
   "source": [
    "#I'm setting the threshold for data sufficiency at 15%, so if a result is not at least 15% of the dataset, it will be dropped\n",
    "perc = df['results'].value_counts()/df.shape[0]\n",
    "my_list = perc[perc>0.15].keys().to_list()\n",
    "print(my_list)\n",
    "\n",
    "df = df[df.results.isin(my_list)]"
   ]
  },
  {
   "cell_type": "markdown",
   "metadata": {},
   "source": [
    "**violations**\n"
   ]
  },
  {
   "cell_type": "code",
   "execution_count": 861,
   "metadata": {},
   "outputs": [
    {
     "data": {
      "text/plain": [
       "29228"
      ]
     },
     "execution_count": 861,
     "metadata": {},
     "output_type": "execute_result"
    }
   ],
   "source": [
    "df.violations.isna().sum()"
   ]
  },
  {
   "cell_type": "code",
   "execution_count": 862,
   "metadata": {},
   "outputs": [
    {
     "data": {
      "text/html": [
       "<div>\n",
       "<style scoped>\n",
       "    .dataframe tbody tr th:only-of-type {\n",
       "        vertical-align: middle;\n",
       "    }\n",
       "\n",
       "    .dataframe tbody tr th {\n",
       "        vertical-align: top;\n",
       "    }\n",
       "\n",
       "    .dataframe thead th {\n",
       "        text-align: right;\n",
       "    }\n",
       "</style>\n",
       "<table border=\"1\" class=\"dataframe\">\n",
       "  <thead>\n",
       "    <tr style=\"text-align: right;\">\n",
       "      <th></th>\n",
       "      <th>inspection_id</th>\n",
       "      <th>dba_name</th>\n",
       "      <th>aka_name</th>\n",
       "      <th>license_</th>\n",
       "      <th>facility_type</th>\n",
       "      <th>risk</th>\n",
       "      <th>address</th>\n",
       "      <th>city</th>\n",
       "      <th>state</th>\n",
       "      <th>zip</th>\n",
       "      <th>inspection_date</th>\n",
       "      <th>inspection_type</th>\n",
       "      <th>results</th>\n",
       "      <th>violations</th>\n",
       "      <th>latitude</th>\n",
       "      <th>longitude</th>\n",
       "      <th>location</th>\n",
       "      <th>inspection_date_new</th>\n",
       "    </tr>\n",
       "  </thead>\n",
       "  <tbody>\n",
       "    <tr>\n",
       "      <th>210025</th>\n",
       "      <td>197274</td>\n",
       "      <td>DUNKIN DONUTS</td>\n",
       "      <td>DUNKIN DONUTS</td>\n",
       "      <td>1494916</td>\n",
       "      <td>Not Disclosed</td>\n",
       "      <td>Risk 2 (Medium)</td>\n",
       "      <td>6 N WABASH AVE</td>\n",
       "      <td>CHICAGO</td>\n",
       "      <td>IL</td>\n",
       "      <td>60602</td>\n",
       "      <td>2010-02-17T00:00:00.000</td>\n",
       "      <td>Out of Business</td>\n",
       "      <td>Fail</td>\n",
       "      <td>NaN</td>\n",
       "      <td>NaN</td>\n",
       "      <td>NaN</td>\n",
       "      <td>NaN</td>\n",
       "      <td>02/17/10</td>\n",
       "    </tr>\n",
       "    <tr>\n",
       "      <th>198282</th>\n",
       "      <td>414068</td>\n",
       "      <td>EL CHILE VERDE</td>\n",
       "      <td>EL CHILE VERDE</td>\n",
       "      <td>2059772</td>\n",
       "      <td>Restaurant</td>\n",
       "      <td>Risk 1 (High)</td>\n",
       "      <td>2100 W 22ND PL</td>\n",
       "      <td>CHICAGO</td>\n",
       "      <td>IL</td>\n",
       "      <td>60608</td>\n",
       "      <td>2010-10-01T00:00:00.000</td>\n",
       "      <td>License</td>\n",
       "      <td>Pass</td>\n",
       "      <td>NaN</td>\n",
       "      <td>NaN</td>\n",
       "      <td>NaN</td>\n",
       "      <td>NaN</td>\n",
       "      <td>10/01/10</td>\n",
       "    </tr>\n",
       "    <tr>\n",
       "      <th>153022</th>\n",
       "      <td>1151151</td>\n",
       "      <td>JANETS COMMUNITY DAYCARE INC.</td>\n",
       "      <td>JANETS COMMUNITY DAYCARE</td>\n",
       "      <td>2220963</td>\n",
       "      <td>Daycare Above and Under 2 Years</td>\n",
       "      <td>Risk 1 (High)</td>\n",
       "      <td>8947 S WESTERN AVE</td>\n",
       "      <td>CHICAGO</td>\n",
       "      <td>IL</td>\n",
       "      <td>60643</td>\n",
       "      <td>2013-03-06T00:00:00.000</td>\n",
       "      <td>License Re-Inspection</td>\n",
       "      <td>Pass</td>\n",
       "      <td>NaN</td>\n",
       "      <td>NaN</td>\n",
       "      <td>NaN</td>\n",
       "      <td>NaN</td>\n",
       "      <td>03/06/13</td>\n",
       "    </tr>\n",
       "    <tr>\n",
       "      <th>177322</th>\n",
       "      <td>521890</td>\n",
       "      <td>GOOSEFOOT</td>\n",
       "      <td>GOOSEFOOT</td>\n",
       "      <td>2120493</td>\n",
       "      <td>Restaurant</td>\n",
       "      <td>Risk 1 (High)</td>\n",
       "      <td>2656 W Lawrence AVE</td>\n",
       "      <td>CHICAGO</td>\n",
       "      <td>IL</td>\n",
       "      <td>60625</td>\n",
       "      <td>2011-11-16T00:00:00.000</td>\n",
       "      <td>License</td>\n",
       "      <td>Pass</td>\n",
       "      <td>NaN</td>\n",
       "      <td>NaN</td>\n",
       "      <td>NaN</td>\n",
       "      <td>NaN</td>\n",
       "      <td>11/16/11</td>\n",
       "    </tr>\n",
       "    <tr>\n",
       "      <th>198933</th>\n",
       "      <td>413723</td>\n",
       "      <td>NORMA'S PLACE</td>\n",
       "      <td>NORMA'S PLACE</td>\n",
       "      <td>2043569</td>\n",
       "      <td>Liquor</td>\n",
       "      <td>Risk 3 (Low)</td>\n",
       "      <td>2727 E 92ND ST</td>\n",
       "      <td>CHICAGO</td>\n",
       "      <td>IL</td>\n",
       "      <td>60617</td>\n",
       "      <td>2010-09-21T00:00:00.000</td>\n",
       "      <td>License</td>\n",
       "      <td>Fail</td>\n",
       "      <td>NaN</td>\n",
       "      <td>NaN</td>\n",
       "      <td>NaN</td>\n",
       "      <td>NaN</td>\n",
       "      <td>09/21/10</td>\n",
       "    </tr>\n",
       "    <tr>\n",
       "      <th>190166</th>\n",
       "      <td>579863</td>\n",
       "      <td>CHICAGO DISCOUNT PLUS</td>\n",
       "      <td>CHICAGO DISCOUNT PLUS</td>\n",
       "      <td>2087898</td>\n",
       "      <td>Grocery Store</td>\n",
       "      <td>Risk 3 (Low)</td>\n",
       "      <td>1637 W CHICAGO AVE</td>\n",
       "      <td>CHICAGO</td>\n",
       "      <td>IL</td>\n",
       "      <td>60622</td>\n",
       "      <td>2011-03-21T00:00:00.000</td>\n",
       "      <td>License</td>\n",
       "      <td>Pass</td>\n",
       "      <td>NaN</td>\n",
       "      <td>NaN</td>\n",
       "      <td>NaN</td>\n",
       "      <td>NaN</td>\n",
       "      <td>03/21/11</td>\n",
       "    </tr>\n",
       "    <tr>\n",
       "      <th>63378</th>\n",
       "      <td>2049227</td>\n",
       "      <td>TBD</td>\n",
       "      <td>EASY STREET</td>\n",
       "      <td>2517173</td>\n",
       "      <td>Restaurant</td>\n",
       "      <td>Risk 1 (High)</td>\n",
       "      <td>3750-3754 N CENTRAL AVE</td>\n",
       "      <td>CHICAGO</td>\n",
       "      <td>IL</td>\n",
       "      <td>60634</td>\n",
       "      <td>2017-04-25T00:00:00.000</td>\n",
       "      <td>License</td>\n",
       "      <td>Pass</td>\n",
       "      <td>NaN</td>\n",
       "      <td>NaN</td>\n",
       "      <td>NaN</td>\n",
       "      <td>NaN</td>\n",
       "      <td>04/25/17</td>\n",
       "    </tr>\n",
       "    <tr>\n",
       "      <th>19709</th>\n",
       "      <td>2304597</td>\n",
       "      <td>SUNNY'S SUB</td>\n",
       "      <td>SUNNY'S SUBMARINE</td>\n",
       "      <td>2328517</td>\n",
       "      <td>Restaurant</td>\n",
       "      <td>Risk 2 (Medium)</td>\n",
       "      <td>5124 W CHICAGO AVE</td>\n",
       "      <td>CHICAGO</td>\n",
       "      <td>IL</td>\n",
       "      <td>60651</td>\n",
       "      <td>2019-08-13T00:00:00.000</td>\n",
       "      <td>Complaint Re-Inspection</td>\n",
       "      <td>Pass</td>\n",
       "      <td>NaN</td>\n",
       "      <td>NaN</td>\n",
       "      <td>NaN</td>\n",
       "      <td>NaN</td>\n",
       "      <td>08/13/19</td>\n",
       "    </tr>\n",
       "    <tr>\n",
       "      <th>103322</th>\n",
       "      <td>1561265</td>\n",
       "      <td>LA MARIPOSA MICHOACANA</td>\n",
       "      <td>LA MARIPOSA MICHOACANA</td>\n",
       "      <td>2412444</td>\n",
       "      <td>Restaurant</td>\n",
       "      <td>Risk 1 (High)</td>\n",
       "      <td>5645 N ASHLAND AVE</td>\n",
       "      <td>CHICAGO</td>\n",
       "      <td>IL</td>\n",
       "      <td>60660</td>\n",
       "      <td>2015-07-15T00:00:00.000</td>\n",
       "      <td>License</td>\n",
       "      <td>Pass</td>\n",
       "      <td>NaN</td>\n",
       "      <td>NaN</td>\n",
       "      <td>NaN</td>\n",
       "      <td>NaN</td>\n",
       "      <td>07/15/15</td>\n",
       "    </tr>\n",
       "    <tr>\n",
       "      <th>66273</th>\n",
       "      <td>1995281</td>\n",
       "      <td>RESTAURANTE SALVADORENO OLOCUILTA INC.</td>\n",
       "      <td>RESTAURANTE SALVADORENO OLOCUILTA</td>\n",
       "      <td>2308079</td>\n",
       "      <td>Restaurant</td>\n",
       "      <td>Risk 1 (High)</td>\n",
       "      <td>3040 N LARAMIE AVE</td>\n",
       "      <td>CHICAGO</td>\n",
       "      <td>IL</td>\n",
       "      <td>60641</td>\n",
       "      <td>2017-03-09T00:00:00.000</td>\n",
       "      <td>Canvass Re-Inspection</td>\n",
       "      <td>Pass</td>\n",
       "      <td>NaN</td>\n",
       "      <td>NaN</td>\n",
       "      <td>NaN</td>\n",
       "      <td>NaN</td>\n",
       "      <td>03/09/17</td>\n",
       "    </tr>\n",
       "  </tbody>\n",
       "</table>\n",
       "</div>"
      ],
      "text/plain": [
       "       inspection_id                                dba_name  \\\n",
       "210025        197274                           DUNKIN DONUTS   \n",
       "198282        414068                          EL CHILE VERDE   \n",
       "153022       1151151           JANETS COMMUNITY DAYCARE INC.   \n",
       "177322        521890                               GOOSEFOOT   \n",
       "198933        413723                           NORMA'S PLACE   \n",
       "190166        579863                   CHICAGO DISCOUNT PLUS   \n",
       "63378        2049227                                     TBD   \n",
       "19709        2304597                             SUNNY'S SUB   \n",
       "103322       1561265                  LA MARIPOSA MICHOACANA   \n",
       "66273        1995281  RESTAURANTE SALVADORENO OLOCUILTA INC.   \n",
       "\n",
       "                                 aka_name license_  \\\n",
       "210025                      DUNKIN DONUTS  1494916   \n",
       "198282                     EL CHILE VERDE  2059772   \n",
       "153022           JANETS COMMUNITY DAYCARE  2220963   \n",
       "177322                          GOOSEFOOT  2120493   \n",
       "198933                      NORMA'S PLACE  2043569   \n",
       "190166              CHICAGO DISCOUNT PLUS  2087898   \n",
       "63378                         EASY STREET  2517173   \n",
       "19709                   SUNNY'S SUBMARINE  2328517   \n",
       "103322             LA MARIPOSA MICHOACANA  2412444   \n",
       "66273   RESTAURANTE SALVADORENO OLOCUILTA  2308079   \n",
       "\n",
       "                          facility_type             risk  \\\n",
       "210025                    Not Disclosed  Risk 2 (Medium)   \n",
       "198282                       Restaurant    Risk 1 (High)   \n",
       "153022  Daycare Above and Under 2 Years    Risk 1 (High)   \n",
       "177322                       Restaurant    Risk 1 (High)   \n",
       "198933                           Liquor     Risk 3 (Low)   \n",
       "190166                    Grocery Store     Risk 3 (Low)   \n",
       "63378                        Restaurant    Risk 1 (High)   \n",
       "19709                        Restaurant  Risk 2 (Medium)   \n",
       "103322                       Restaurant    Risk 1 (High)   \n",
       "66273                        Restaurant    Risk 1 (High)   \n",
       "\n",
       "                        address     city state    zip  \\\n",
       "210025           6 N WABASH AVE  CHICAGO    IL  60602   \n",
       "198282           2100 W 22ND PL  CHICAGO    IL  60608   \n",
       "153022       8947 S WESTERN AVE  CHICAGO    IL  60643   \n",
       "177322      2656 W Lawrence AVE  CHICAGO    IL  60625   \n",
       "198933           2727 E 92ND ST  CHICAGO    IL  60617   \n",
       "190166       1637 W CHICAGO AVE  CHICAGO    IL  60622   \n",
       "63378   3750-3754 N CENTRAL AVE  CHICAGO    IL  60634   \n",
       "19709        5124 W CHICAGO AVE  CHICAGO    IL  60651   \n",
       "103322       5645 N ASHLAND AVE  CHICAGO    IL  60660   \n",
       "66273        3040 N LARAMIE AVE  CHICAGO    IL  60641   \n",
       "\n",
       "                inspection_date          inspection_type results violations  \\\n",
       "210025  2010-02-17T00:00:00.000          Out of Business    Fail        NaN   \n",
       "198282  2010-10-01T00:00:00.000                  License    Pass        NaN   \n",
       "153022  2013-03-06T00:00:00.000    License Re-Inspection    Pass        NaN   \n",
       "177322  2011-11-16T00:00:00.000                  License    Pass        NaN   \n",
       "198933  2010-09-21T00:00:00.000                  License    Fail        NaN   \n",
       "190166  2011-03-21T00:00:00.000                  License    Pass        NaN   \n",
       "63378   2017-04-25T00:00:00.000                  License    Pass        NaN   \n",
       "19709   2019-08-13T00:00:00.000  Complaint Re-Inspection    Pass        NaN   \n",
       "103322  2015-07-15T00:00:00.000                  License    Pass        NaN   \n",
       "66273   2017-03-09T00:00:00.000    Canvass Re-Inspection    Pass        NaN   \n",
       "\n",
       "       latitude longitude location inspection_date_new  \n",
       "210025      NaN       NaN      NaN            02/17/10  \n",
       "198282      NaN       NaN      NaN            10/01/10  \n",
       "153022      NaN       NaN      NaN            03/06/13  \n",
       "177322      NaN       NaN      NaN            11/16/11  \n",
       "198933      NaN       NaN      NaN            09/21/10  \n",
       "190166      NaN       NaN      NaN            03/21/11  \n",
       "63378       NaN       NaN      NaN            04/25/17  \n",
       "19709       NaN       NaN      NaN            08/13/19  \n",
       "103322      NaN       NaN      NaN            07/15/15  \n",
       "66273       NaN       NaN      NaN            03/09/17  "
      ]
     },
     "execution_count": 862,
     "metadata": {},
     "output_type": "execute_result"
    }
   ],
   "source": [
    "df[df['violations'].isna()].sample(n=10, random_state=512)"
   ]
  },
  {
   "cell_type": "markdown",
   "metadata": {},
   "source": [
    "The inspector's comments are a key independent variable. Therefore, any records with missing comments have to be dropped"
   ]
  },
  {
   "cell_type": "code",
   "execution_count": 863,
   "metadata": {},
   "outputs": [],
   "source": [
    "df = df.dropna(subset=['violations'])"
   ]
  },
  {
   "cell_type": "markdown",
   "metadata": {},
   "source": [
    "**latitude & longitude, and location**"
   ]
  },
  {
   "cell_type": "code",
   "execution_count": 867,
   "metadata": {},
   "outputs": [
    {
     "name": "stdout",
     "output_type": "stream",
     "text": [
      "lat: 0\n",
      "long: 0\n",
      "location: 154716\n"
     ]
    }
   ],
   "source": [
    "print('lat:',df.latitude.isna().sum())\n",
    "print('long:',df.longitude.isna().sum())\n",
    "print('location:',df['location'].isna().sum())"
   ]
  },
  {
   "cell_type": "code",
   "execution_count": 868,
   "metadata": {},
   "outputs": [],
   "source": [
    "df['latitude'] = df['latitude'].fillna('Not Disclosed')\n",
    "df['longitude'] = df['longitude'].fillna('Not Disclosed')\n",
    "df['location'] = df['location'].fillna('Not Disclosed')\n"
   ]
  },
  {
   "cell_type": "code",
   "execution_count": 767,
   "metadata": {},
   "outputs": [],
   "source": []
  },
  {
   "cell_type": "markdown",
   "metadata": {},
   "source": [
    "I want to use the address and the geopy package to pull the latitude and longitude values. But I noticed there were a lot of typos in the City list. We know that a city can have multiple zipcodes but a zipcode can only have one city."
   ]
  },
  {
   "cell_type": "markdown",
   "metadata": {},
   "source": [
    "## sample geopy code"
   ]
  },
  {
   "cell_type": "code",
   "execution_count": 769,
   "metadata": {},
   "outputs": [
    {
     "name": "stdout",
     "output_type": "stream",
     "text": [
      "121, North LaSalle Street, Loop, Chicago, Cook County, Illinois, 60602, United States of America\n",
      "(41.88341706625744, -87.632303164487)\n",
      "{'place_id': 248024928, 'licence': 'Data © OpenStreetMap contributors, ODbL 1.0. https://osm.org/copyright', 'osm_type': 'way', 'osm_id': 435704691, 'boundingbox': ['41.883367066257', '41.883467066257', '-87.632353164487', '-87.632253164487'], 'lat': '41.88341706625744', 'lon': '-87.632303164487', 'display_name': '121, North LaSalle Street, Loop, Chicago, Cook County, Illinois, 60602, United States of America', 'class': 'place', 'type': 'house', 'importance': 0.731}\n"
     ]
    }
   ],
   "source": [
    "from geopy.geocoders import Nominatim\n",
    "geolocator = Nominatim(user_agent=\"test\")\n",
    "location = geolocator.geocode(\"121 N LaSalle St, Chicago, IL 60602\")\n",
    "print(location.address)\n",
    "print((location.latitude, location.longitude))\n",
    "print(location.raw)\n"
   ]
  },
  {
   "cell_type": "code",
   "execution_count": null,
   "metadata": {},
   "outputs": [],
   "source": []
  },
  {
   "cell_type": "code",
   "execution_count": null,
   "metadata": {},
   "outputs": [],
   "source": []
  },
  {
   "cell_type": "code",
   "execution_count": null,
   "metadata": {},
   "outputs": [],
   "source": []
  },
  {
   "cell_type": "code",
   "execution_count": null,
   "metadata": {},
   "outputs": [],
   "source": []
  },
  {
   "cell_type": "markdown",
   "metadata": {},
   "source": [
    "Shape of the dataset"
   ]
  },
  {
   "cell_type": "code",
   "execution_count": 770,
   "metadata": {},
   "outputs": [
    {
     "data": {
      "text/plain": [
       "(155001, 18)"
      ]
     },
     "execution_count": 770,
     "metadata": {},
     "output_type": "execute_result"
    }
   ],
   "source": [
    "df.shape"
   ]
  },
  {
   "cell_type": "markdown",
   "metadata": {},
   "source": [
    "# Data Dictionary\n",
    "\n",
    "**Inspection ID:** unqiue identifier\n",
    "\n",
    "**DBA Name:** \"doing businessness as\"\n",
    "\n",
    "**AKA Name:** \"also known as\"\n",
    "\n",
    "**License #:** License Number identification\n",
    "\n",
    "**Facility Type:** The type of facility. Examples include: restaurant, grocery store, school, bakery, catering, etc.\n",
    "\n",
    "**Risk:** Risk category. Categorical value of risk 1, risk 2, risk 3, or \"all\".\n",
    "\n",
    "**Address:** Number and street name. For example, 401 N WABASH AVE\n",
    "\n",
    "**City:** Self explanatory\n",
    "\n",
    "**State:** Self explanatory\n",
    "\n",
    "**Zip:** Self explanatory\n",
    "\n",
    "**Inspection Date:**\n",
    "\n",
    "**Inspection Type:** \n",
    "\n",
    "**Results:** Categorical value: Pass, Fail, Pass w/ Conditions, Out of Business, No Entry, Not Ready, Business Not Located\n",
    "\n",
    "**Violations:** String of specific code violation and inspector's comments.\n",
    "\n",
    "**Latitude:** Self explanatory\n",
    "\n",
    "**Longitude:** Self explanatory\n",
    "\n",
    "**Location:** Comination of latitude and longitude columns"
   ]
  },
  {
   "cell_type": "markdown",
   "metadata": {},
   "source": [
    "<a id='observations'></a>\n",
    "### 2.1 Observations\n",
    "\n",
    "Two analyses: descriptive analysis and predictive modeling. For the predictive modeling, we only care about the 'results' and 'violations' columns\n",
    "\n"
   ]
  },
  {
   "cell_type": "code",
   "execution_count": 773,
   "metadata": {},
   "outputs": [
    {
     "data": {
      "text/plain": [
       "Restaurant                         106066\n",
       "Grocery Store                       19972\n",
       "School                              11412\n",
       "Children's Services Facility         2704\n",
       "Bakery                               2326\n",
       "Daycare Above and Under 2 Years      1984\n",
       "Daycare (2 - 6 Years)                1937\n",
       "Long Term Care                       1217\n",
       "Catering                              856\n",
       "Liquor                                513\n",
       "Daycare Combo 1586                    491\n",
       "Golden Diner                          455\n",
       "Mobile Food Preparer                  412\n",
       "Hospital                              404\n",
       "Wholesale                             315\n",
       "Name: facility_type, dtype: int64"
      ]
     },
     "execution_count": 773,
     "metadata": {},
     "output_type": "execute_result"
    }
   ],
   "source": [
    "#Ten most popular facility types\n",
    "df['facility_type'].value_counts()[:15]"
   ]
  },
  {
   "cell_type": "code",
   "execution_count": 914,
   "metadata": {},
   "outputs": [
    {
     "data": {
      "image/png": "[encoded data removed]",
      "text/plain": [
       "<Figure size 640x480 with 1 Axes>"
      ]
     },
     "metadata": {},
     "output_type": "display_data"
    }
   ],
   "source": [
    "vc = df['facility_type'].str.upper().value_counts()[:5]\n",
    "\n",
    "\n",
    "import matplotlib.pyplot as plt; plt.rcdefaults()\n",
    "import numpy as np\n",
    "import matplotlib.pyplot as plt\n",
    "\n",
    "objects = vc.keys()\n",
    "y_pos = np.arange(len(objects))\n",
    "performance = vc.values\n",
    "\n",
    "plt.barh(y_pos, performance, align='center', alpha=0.5)\n",
    "plt.yticks(y_pos, objects, fontsize=6)\n",
    "plt.xlabel('Count', fontsize=6)\n",
    "plt.title('Five Most Popular Facility Types')\n",
    "\n",
    "plt.show()"
   ]
  },
  {
   "cell_type": "code",
   "execution_count": 915,
   "metadata": {},
   "outputs": [
    {
     "data": {
      "text/plain": [
       "Risk 1 (High)      116738\n",
       "Risk 2 (Medium)     29228\n",
       "Risk 3 (Low)         9033\n",
       "Not Disclosed           2\n",
       "Name: risk, dtype: int64"
      ]
     },
     "execution_count": 915,
     "metadata": {},
     "output_type": "execute_result"
    }
   ],
   "source": [
    "df['risk'].value_counts()"
   ]
  },
  {
   "cell_type": "code",
   "execution_count": 923,
   "metadata": {},
   "outputs": [
    {
     "data": {
      "image/png": "[encoded data removed]",
      "text/plain": [
       "<Figure size 640x480 with 1 Axes>"
      ]
     },
     "metadata": {},
     "output_type": "display_data"
    }
   ],
   "source": [
    "vc = df['risk'].value_counts()\n",
    "\n",
    "import matplotlib.pyplot as plt; plt.rcdefaults()\n",
    "import numpy as np\n",
    "import matplotlib.pyplot as plt\n",
    "\n",
    "objects = vc.keys()\n",
    "y_pos = np.arange(len(objects))\n",
    "performance = vc.values\n",
    "\n",
    "plt.bar(y_pos, performance, align='center', alpha=0.5)\n",
    "plt.xticks(y_pos, objects, fontsize=6)\n",
    "plt.ylabel('Count', fontsize=6)\n",
    "plt.title('Risk')\n",
    "\n",
    "plt.show()"
   ]
  },
  {
   "cell_type": "code",
   "execution_count": 777,
   "metadata": {},
   "outputs": [
    {
     "data": {
      "text/html": [
       "<div>\n",
       "<style scoped>\n",
       "    .dataframe tbody tr th:only-of-type {\n",
       "        vertical-align: middle;\n",
       "    }\n",
       "\n",
       "    .dataframe tbody tr th {\n",
       "        vertical-align: top;\n",
       "    }\n",
       "\n",
       "    .dataframe thead th {\n",
       "        text-align: right;\n",
       "    }\n",
       "</style>\n",
       "<table border=\"1\" class=\"dataframe\">\n",
       "  <thead>\n",
       "    <tr style=\"text-align: right;\">\n",
       "      <th></th>\n",
       "      <th>inspection_id</th>\n",
       "      <th>dba_name</th>\n",
       "      <th>aka_name</th>\n",
       "      <th>license_</th>\n",
       "      <th>facility_type</th>\n",
       "      <th>risk</th>\n",
       "      <th>address</th>\n",
       "      <th>city</th>\n",
       "      <th>state</th>\n",
       "      <th>zip</th>\n",
       "      <th>inspection_date</th>\n",
       "      <th>inspection_type</th>\n",
       "      <th>results</th>\n",
       "      <th>violations</th>\n",
       "      <th>latitude</th>\n",
       "      <th>longitude</th>\n",
       "      <th>location</th>\n",
       "      <th>inspection_date_new</th>\n",
       "    </tr>\n",
       "  </thead>\n",
       "  <tbody>\n",
       "    <tr>\n",
       "      <th>159567</th>\n",
       "      <td>1096600</td>\n",
       "      <td>THREE HAPPINESS RESTAURANT</td>\n",
       "      <td>THREE HAPPINESS RESTAURANT</td>\n",
       "      <td>39807</td>\n",
       "      <td>Restaurant</td>\n",
       "      <td>Risk 1 (High)</td>\n",
       "      <td>209 W CERMAK RD</td>\n",
       "      <td>CHICAGO</td>\n",
       "      <td>IL</td>\n",
       "      <td>60616</td>\n",
       "      <td>2012-10-25T00:00:00.000</td>\n",
       "      <td>Complaint</td>\n",
       "      <td>Fail</td>\n",
       "      <td>18. NO EVIDENCE OF RODENT OR INSECT OUTER OPENINGS PROTECTED/RODENT PROOFED, A WRITTEN LOG SHALL BE MAINTAINED AVAILABLE TO THE INSPECTORS - Comments: FOUND FRUIT FLY ACTIVITY AT BASEMENT STORAGE AREAS ON WALLS AND CEILING. OBSERVED ABOUT 50 FRUIT FLIES. CITATION ISSUED. | 32. FOOD AND NON-FOOD CONTACT SURFACES PROPERLY DESIGNED, CONSTRUCTED AND MAINTAINED - Comments: FOUND WOK STATIONS NOT CLEAN AT MAIN KITCHEN.(EXCESSIVE GREASE BUILDUP) | 34. FLOORS: CONSTRUCTED PER CODE, CLEANED, GOOD REPAIR, COVING INSTALLED, DUST-LESS CLEANING METHODS USED - Comments: FOUND FLOORS NOT CLEAN AT BASEMENT/MAIN KITCHEN PREPARATION AREAS. | 41. PREMISES MAINTAINED FREE OF LITTER, UNNECESSARY ARTICLES, CLEANING  EQUIPMENT PROPERLY STORED - Comments: FOUND CLUTTER AT BASEMENT STORAGE AREAS. (BOXES, TOOLS, PERSONAL ITEMS,ETC.)</td>\n",
       "      <td>Not Disclosed</td>\n",
       "      <td>Not Disclosed</td>\n",
       "      <td>Not Disclosed</td>\n",
       "      <td>10/25/12</td>\n",
       "    </tr>\n",
       "  </tbody>\n",
       "</table>\n",
       "</div>"
      ],
      "text/plain": [
       "       inspection_id                    dba_name                    aka_name  \\\n",
       "159567       1096600  THREE HAPPINESS RESTAURANT  THREE HAPPINESS RESTAURANT   \n",
       "\n",
       "       license_ facility_type           risk          address     city state  \\\n",
       "159567    39807    Restaurant  Risk 1 (High)  209 W CERMAK RD  CHICAGO    IL   \n",
       "\n",
       "          zip          inspection_date inspection_type results  \\\n",
       "159567  60616  2012-10-25T00:00:00.000       Complaint    Fail   \n",
       "\n",
       "                                                                                                                                                                                                                                                                                                                                                                                                                                                                                                                                                                                                                                                                                                                                                                                                                                                violations  \\\n",
       "159567  18. NO EVIDENCE OF RODENT OR INSECT OUTER OPENINGS PROTECTED/RODENT PROOFED, A WRITTEN LOG SHALL BE MAINTAINED AVAILABLE TO THE INSPECTORS - Comments: FOUND FRUIT FLY ACTIVITY AT BASEMENT STORAGE AREAS ON WALLS AND CEILING. OBSERVED ABOUT 50 FRUIT FLIES. CITATION ISSUED. | 32. FOOD AND NON-FOOD CONTACT SURFACES PROPERLY DESIGNED, CONSTRUCTED AND MAINTAINED - Comments: FOUND WOK STATIONS NOT CLEAN AT MAIN KITCHEN.(EXCESSIVE GREASE BUILDUP) | 34. FLOORS: CONSTRUCTED PER CODE, CLEANED, GOOD REPAIR, COVING INSTALLED, DUST-LESS CLEANING METHODS USED - Comments: FOUND FLOORS NOT CLEAN AT BASEMENT/MAIN KITCHEN PREPARATION AREAS. | 41. PREMISES MAINTAINED FREE OF LITTER, UNNECESSARY ARTICLES, CLEANING  EQUIPMENT PROPERLY STORED - Comments: FOUND CLUTTER AT BASEMENT STORAGE AREAS. (BOXES, TOOLS, PERSONAL ITEMS,ETC.)   \n",
       "\n",
       "             latitude      longitude       location inspection_date_new  \n",
       "159567  Not Disclosed  Not Disclosed  Not Disclosed            10/25/12  "
      ]
     },
     "execution_count": 777,
     "metadata": {},
     "output_type": "execute_result"
    }
   ],
   "source": [
    "#sample restaurant\n",
    "df[df['facility_type']=='Restaurant'].sample(n=1, random_state=777)"
   ]
  },
  {
   "cell_type": "markdown",
   "metadata": {},
   "source": [
    "Cities"
   ]
  },
  {
   "cell_type": "code",
   "execution_count": 919,
   "metadata": {},
   "outputs": [
    {
     "data": {
      "text/plain": [
       "CHICAGO              154873\n",
       "NOT DISCLOSED            50\n",
       "SCHAUMBURG               15\n",
       "ELK GROVE VILLAGE         8\n",
       "EVANSTON                  7\n",
       "SKOKIE                    4\n",
       "ELMHURST                  4\n",
       "MAYWOOD                   4\n",
       "NILES NILES               4\n",
       "OAK PARK                  3\n",
       "Name: city, dtype: int64"
      ]
     },
     "execution_count": 919,
     "metadata": {},
     "output_type": "execute_result"
    }
   ],
   "source": [
    "df['city'].value_counts()[:10]"
   ]
  },
  {
   "cell_type": "code",
   "execution_count": 872,
   "metadata": {},
   "outputs": [
    {
     "data": {
      "text/plain": [
       "29"
      ]
     },
     "execution_count": 872,
     "metadata": {},
     "output_type": "execute_result"
    }
   ],
   "source": [
    "len(df['city'].unique())"
   ]
  },
  {
   "cell_type": "markdown",
   "metadata": {},
   "source": [
    "Results"
   ]
  },
  {
   "cell_type": "code",
   "execution_count": 920,
   "metadata": {},
   "outputs": [
    {
     "data": {
      "text/plain": [
       "Pass                  85754\n",
       "Fail                  37804\n",
       "Pass w/ Conditions    31443\n",
       "Name: results, dtype: int64"
      ]
     },
     "execution_count": 920,
     "metadata": {},
     "output_type": "execute_result"
    }
   ],
   "source": [
    "df['results'].value_counts()"
   ]
  },
  {
   "cell_type": "code",
   "execution_count": 924,
   "metadata": {},
   "outputs": [
    {
     "data": {
      "image/png": "[encoded data removed]",
      "text/plain": [
       "<Figure size 640x480 with 1 Axes>"
      ]
     },
     "metadata": {},
     "output_type": "display_data"
    }
   ],
   "source": [
    "vc = df['results'].value_counts()\n",
    "\n",
    "import matplotlib.pyplot as plt; plt.rcdefaults()\n",
    "import numpy as np\n",
    "import matplotlib.pyplot as plt\n",
    "\n",
    "objects = vc.keys()\n",
    "y_pos = np.arange(len(objects))\n",
    "performance = vc.values\n",
    "\n",
    "plt.bar(y_pos, performance, align='center', alpha=0.5)\n",
    "plt.xticks(y_pos, objects, fontsize=6)\n",
    "plt.ylabel('Count', fontsize=6)\n",
    "plt.title('Risk')\n",
    "\n",
    "plt.show()"
   ]
  },
  {
   "cell_type": "code",
   "execution_count": null,
   "metadata": {},
   "outputs": [],
   "source": []
  },
  {
   "cell_type": "code",
   "execution_count": 926,
   "metadata": {},
   "outputs": [
    {
     "data": {
      "text/plain": [
       "Index(['inspection_id', 'dba_name', 'aka_name', 'license_', 'facility_type',\n",
       "       'risk', 'address', 'city', 'state', 'zip', 'inspection_date',\n",
       "       'inspection_type', 'results', 'violations', 'latitude', 'longitude',\n",
       "       'location', 'inspection_date_new'],\n",
       "      dtype='object')"
      ]
     },
     "execution_count": 926,
     "metadata": {},
     "output_type": "execute_result"
    }
   ],
   "source": [
    "df.columns"
   ]
  },
  {
   "cell_type": "code",
   "execution_count": 927,
   "metadata": {},
   "outputs": [],
   "source": [
    "#Drop Unneccesary Columns\n",
    "select_cols = ['results', 'violations']\n",
    "\n",
    "#Create prediction dataframe for the prediction modeling\n",
    "pred_df = df.copy()\n",
    "pred_df = pred_df[select_cols]\n"
   ]
  },
  {
   "cell_type": "code",
   "execution_count": 928,
   "metadata": {},
   "outputs": [
    {
     "data": {
      "text/html": [
       "<div>\n",
       "<style scoped>\n",
       "    .dataframe tbody tr th:only-of-type {\n",
       "        vertical-align: middle;\n",
       "    }\n",
       "\n",
       "    .dataframe tbody tr th {\n",
       "        vertical-align: top;\n",
       "    }\n",
       "\n",
       "    .dataframe thead th {\n",
       "        text-align: right;\n",
       "    }\n",
       "</style>\n",
       "<table border=\"1\" class=\"dataframe\">\n",
       "  <thead>\n",
       "    <tr style=\"text-align: right;\">\n",
       "      <th></th>\n",
       "      <th>results</th>\n",
       "      <th>violations</th>\n",
       "    </tr>\n",
       "  </thead>\n",
       "  <tbody>\n",
       "    <tr>\n",
       "      <th>0</th>\n",
       "      <td>Fail</td>\n",
       "      <td>22. PROPER COLD HOLDING TEMPERATURES - Comments: TCS FOODS AT IMPROPER COLD HOLDING TEMPERATURES IN WALK IN COOLER: ROAST BEEF 47.0F, HAM 47.1F, COOKED CHICKEN 47.4F, COLESLAW 47.4F, SOUP 47.2F. ALL FOOD DISCARDED AND DENATURED AT THIS TIME. APPROX 50LBS $200 VALUE. CITATION ISSUED PRIORITY VIOLATION 7-38-005(A). | 33. PROPER COOLING METHODS USED; ADEQUATE EQUIPMENT FOR TEMPERATURE CONTROL - Comments: WALK IN COOLER IN POOR REPAIR, IMPROPER AMBIENT TEMPERATURE OF 48.0F. INSTD TO REPAIR AND HAVE ABLE TO MAINTAIN PRODUCT TEMPERATURE OF 41F OR BELOW AT ALL TIMES. PRIORITY VIOLATION 7-38-005. CITATION ISSUED | 50. HOT &amp; COLD WATER AVAILABLE; ADEQUATE PRESSURE - Comments: NO HOT RUNNING WATER UNDER CITY PRESSURE THROUGH OUT FACILITY, 60F-62F. INSTD TO MAINTAIN HOT RUNNING WATER UNDER CITY PRESSURE AT ALL TIMES (100F AT HANDWASH SINKS, 110F AT 3-COMPARTMENT SINK). CITATION ISSUED 7-38-030(C)</td>\n",
       "    </tr>\n",
       "    <tr>\n",
       "      <th>1</th>\n",
       "      <td>Pass w/ Conditions</td>\n",
       "      <td>3. MANAGEMENT, FOOD EMPLOYEE AND CONDITIONAL EMPLOYEE; KNOWLEDGE, RESPONSIBILITIES AND REPORTING - Comments: NO EMPLOYEE HEALTH POLICY ON SITE. MUST PROVIDE WRITTEN EMPLOYEE ACKNOWLEDGED POLICY FOR ALL EMPLOYEES. PRIORITY FOUNDATION VIOLATION. 7-38-010 CITATION ISSUED | 5. PROCEDURES FOR RESPONDING TO VOMITING AND DIARRHEAL EVENTS - Comments: NO VOMIT AND DIARRHEA CLEAN UP POLICY ON SITE. MUST PROVIDE PROCEDURE FOR THE CLEAN UP OF VOMIT AND DIARRHEAL EVENTS. MUST PROVIDE CORRESPONDING EQUIPMENT OUTLINED IN THE PROCEDURE. PRIORITY FOUNDATION VIOLATION. PRIORITY FOUNDATION 7-38-005 CITATION ISSUED  | 16. FOOD-CONTACT SURFACES: CLEANED &amp; SANITIZED - Comments: UNCLEAN KNIVES IN KNIFE RACK. INSTD TO CLEAN KNIVES AND STORE ONLY CLEAN KNIVES IN KNIFE RACK | 57. ALL FOOD EMPLOYEES HAVE FOOD HANDLER TRAINING - Comments: EMPLOYEE MISSING FOOD HANDLER TRAINING. INSTD TO OBTAIN TRAINING AND MAINTAIN VERIFICATION ON SITE</td>\n",
       "    </tr>\n",
       "  </tbody>\n",
       "</table>\n",
       "</div>"
      ],
      "text/plain": [
       "              results  \\\n",
       "0                Fail   \n",
       "1  Pass w/ Conditions   \n",
       "\n",
       "                                                                                                                                                                                                                                                                                                                                                                                                                                                                                                                                                                                                                                                                                                                                                                                                                                                                                                                                                  violations  \n",
       "0                         22. PROPER COLD HOLDING TEMPERATURES - Comments: TCS FOODS AT IMPROPER COLD HOLDING TEMPERATURES IN WALK IN COOLER: ROAST BEEF 47.0F, HAM 47.1F, COOKED CHICKEN 47.4F, COLESLAW 47.4F, SOUP 47.2F. ALL FOOD DISCARDED AND DENATURED AT THIS TIME. APPROX 50LBS $200 VALUE. CITATION ISSUED PRIORITY VIOLATION 7-38-005(A). | 33. PROPER COOLING METHODS USED; ADEQUATE EQUIPMENT FOR TEMPERATURE CONTROL - Comments: WALK IN COOLER IN POOR REPAIR, IMPROPER AMBIENT TEMPERATURE OF 48.0F. INSTD TO REPAIR AND HAVE ABLE TO MAINTAIN PRODUCT TEMPERATURE OF 41F OR BELOW AT ALL TIMES. PRIORITY VIOLATION 7-38-005. CITATION ISSUED | 50. HOT & COLD WATER AVAILABLE; ADEQUATE PRESSURE - Comments: NO HOT RUNNING WATER UNDER CITY PRESSURE THROUGH OUT FACILITY, 60F-62F. INSTD TO MAINTAIN HOT RUNNING WATER UNDER CITY PRESSURE AT ALL TIMES (100F AT HANDWASH SINKS, 110F AT 3-COMPARTMENT SINK). CITATION ISSUED 7-38-030(C)  \n",
       "1  3. MANAGEMENT, FOOD EMPLOYEE AND CONDITIONAL EMPLOYEE; KNOWLEDGE, RESPONSIBILITIES AND REPORTING - Comments: NO EMPLOYEE HEALTH POLICY ON SITE. MUST PROVIDE WRITTEN EMPLOYEE ACKNOWLEDGED POLICY FOR ALL EMPLOYEES. PRIORITY FOUNDATION VIOLATION. 7-38-010 CITATION ISSUED | 5. PROCEDURES FOR RESPONDING TO VOMITING AND DIARRHEAL EVENTS - Comments: NO VOMIT AND DIARRHEA CLEAN UP POLICY ON SITE. MUST PROVIDE PROCEDURE FOR THE CLEAN UP OF VOMIT AND DIARRHEAL EVENTS. MUST PROVIDE CORRESPONDING EQUIPMENT OUTLINED IN THE PROCEDURE. PRIORITY FOUNDATION VIOLATION. PRIORITY FOUNDATION 7-38-005 CITATION ISSUED  | 16. FOOD-CONTACT SURFACES: CLEANED & SANITIZED - Comments: UNCLEAN KNIVES IN KNIFE RACK. INSTD TO CLEAN KNIVES AND STORE ONLY CLEAN KNIVES IN KNIFE RACK | 57. ALL FOOD EMPLOYEES HAVE FOOD HANDLER TRAINING - Comments: EMPLOYEE MISSING FOOD HANDLER TRAINING. INSTD TO OBTAIN TRAINING AND MAINTAIN VERIFICATION ON SITE  "
      ]
     },
     "execution_count": 928,
     "metadata": {},
     "output_type": "execute_result"
    }
   ],
   "source": [
    "pred_df.head(2)"
   ]
  },
  {
   "cell_type": "code",
   "execution_count": 929,
   "metadata": {},
   "outputs": [
    {
     "name": "stdout",
     "output_type": "stream",
     "text": [
      "<class 'pandas.core.frame.DataFrame'>\n",
      "Int64Index: 155001 entries, 0 to 212021\n",
      "Data columns (total 2 columns):\n",
      "results       155001 non-null object\n",
      "violations    155001 non-null object\n",
      "dtypes: object(2)\n",
      "memory usage: 3.5+ MB\n",
      "None\n",
      "       results  \\\n",
      "count   155001   \n",
      "unique       3   \n",
      "top       Pass   \n",
      "freq     85754   \n",
      "\n",
      "                                                                                                                               violations  \n",
      "count                                                                                                                              155001  \n",
      "unique                                                                                                                             153907  \n",
      "top     45. FOOD HANDLER REQUIREMENTS MET - Comments: ALL FOOD HANDLING EMPLOYEES MUST SHOW PROOF OF FOOD HANDLER TRAINING. MUST PROVIDE.  \n",
      "freq                                                                                                                                   12  \n"
     ]
    }
   ],
   "source": [
    "print(pred_df.info())\n",
    "print(pred_df.describe())"
   ]
  },
  {
   "cell_type": "markdown",
   "metadata": {},
   "source": [
    "Location"
   ]
  },
  {
   "cell_type": "markdown",
   "metadata": {},
   "source": [
    "<a id='engineering'></a>\n",
    "## 2. Feature Engineering\n",
    "\n",
    "Notice, the format of the violations column. The column includes the code violation number, the code description, and the inspector's comments on the specific violation. \n",
    "\n",
    "Sample:\n",
    "\n",
    "\"34. FLOORS: CONSTRUCTED PER CODE, CLEANED, GOOD REPAIR, COVING INSTALLED, DUST-LESS CLEANING METHODS USED - Comments: POOLING WATER THROUGHOUT REAR LARGE BAR. MUST MAINTAIN DRY. MISSING FLOOR TILES AND UNEVEN FLOORING THROUGHOUT DISH AREA WITH POOLING WATER. MUST MAKE FLOORS SMOOTH AND EASILY CLEANABLE.   | 35. WALLS, CEILINGS, ATTACHED EQUIPMENT CONSTRUCTED PER CODE: GOOD REPAIR, SURFACES CLEAN AND DUST-LESS CLEANING METHODS - Comments: MUST INSTALL CEILINGS IN THE NEWLY INSTALL FRONT WASHROOMS. RAW WOODEN WALL COVERING IN MENS WASHROOM. MUST PROPERLY SEAL.\"\n",
    "\n",
    "\n",
    "* Extract only comments from violations, drop rest of text\n",
    "\n",
    "\n",
    "* map Results_Flag\n",
    "The results currently fall into one of three buckets. I want to map these categorical columns to specific flag values."
   ]
  },
  {
   "cell_type": "code",
   "execution_count": 933,
   "metadata": {},
   "outputs": [
    {
     "data": {
      "text/plain": [
       "154241    34. FLOORS: CONSTRUCTED PER CODE, CLEANED, GOOD REPAIR, COVING INSTALLED, DUST-LESS CLEANING METHODS USED - Comments: POOLING WATER THROUGHOUT REAR LARGE BAR. MUST MAINTAIN DRY. MISSING FLOOR TILES AND UNEVEN FLOORING THROUGHOUT DISH AREA WITH POOLING WATER. MUST MAKE FLOORS SMOOTH AND EASILY CLEANABLE.   | 35. WALLS, CEILINGS, ATTACHED EQUIPMENT CONSTRUCTED PER CODE: GOOD REPAIR, SURFACES CLEAN AND DUST-LESS CLEANING METHODS - Comments: MUST INSTALL CEILINGS IN THE NEWLY INSTALL FRONT WASHROOMS. RAW WOODEN WALL COVERING IN MENS WASHROOM. MUST PROPERLY SEAL.   | 37. TOILET ROOM DOORS SELF CLOSING: DRESSING ROOMS WITH LOCKERS PROVIDED: COMPLETE SEPARATION FROM LIVING/SLEEPING QUARTERS - Comments: MUST PROVIDE SELF-CLOSING DEVICES ON NEWLY INSTALL WASHROOMS IN THE FRONT DINING/BAR AREA.   | 38. VENTILATION: ROOMS AND EQUIPMENT VENTED AS REQUIRED: PLUMBING: INSTALLED AND MAINTAINED - Comments: MUST INSTALL AN EXPOSED HAND SINK IN NEWLY REMODELED/INSTALLED FRONT BAR.\n",
       "Name: violations, dtype: object"
      ]
     },
     "execution_count": 933,
     "metadata": {},
     "output_type": "execute_result"
    }
   ],
   "source": [
    "#Check sample Violation entry\n",
    "pred_df['violations'].sample(n=1, random_state=512)"
   ]
  },
  {
   "cell_type": "code",
   "execution_count": 934,
   "metadata": {},
   "outputs": [],
   "source": [
    "#regex expression to extract the text following \"Comments:\"\n",
    "pred_df.violations = pred_df.violations.str.findall(r\"(?:\\sComments:\\s.*?)?(?:[|]|$)\")"
   ]
  },
  {
   "cell_type": "code",
   "execution_count": 935,
   "metadata": {},
   "outputs": [
    {
     "data": {
      "text/plain": [
       "154241    [ Comments: POOLING WATER THROUGHOUT REAR LARGE BAR. MUST MAINTAIN DRY. MISSING FLOOR TILES AND UNEVEN FLOORING THROUGHOUT DISH AREA WITH POOLING WATER. MUST MAKE FLOORS SMOOTH AND EASILY CLEANABLE.   |,  Comments: MUST INSTALL CEILINGS IN THE NEWLY INSTALL FRONT WASHROOMS. RAW WOODEN WALL COVERING IN MENS WASHROOM. MUST PROPERLY SEAL.   |,  Comments: MUST PROVIDE SELF-CLOSING DEVICES ON NEWLY INSTALL WASHROOMS IN THE FRONT DINING/BAR AREA.   |,  Comments: MUST INSTALL AN EXPOSED HAND SINK IN NEWLY REMODELED/INSTALLED FRONT BAR., ]\n",
       "Name: violations, dtype: object"
      ]
     },
     "execution_count": 935,
     "metadata": {},
     "output_type": "execute_result"
    }
   ],
   "source": [
    "#Now check the same sample\n",
    "pred_df['violations'].sample(n=1, random_state=512)"
   ]
  },
  {
   "cell_type": "markdown",
   "metadata": {},
   "source": [
    "Notice, each observation is now a list of the inspector's comments. "
   ]
  },
  {
   "cell_type": "code",
   "execution_count": 936,
   "metadata": {},
   "outputs": [],
   "source": [
    "#Lemmatize Violations\n",
    "w_tokenizer = nltk.tokenize.WhitespaceTokenizer()\n",
    "lemmatizer = nltk.stem.WordNetLemmatizer()\n",
    "\n",
    "def lemmatize_text(text):\n",
    "    return [lemmatizer.lemmatize(w) for w in w_tokenizer.tokenize(text)]\n",
    "\n",
    "pred_df.violations = pred_df.violations.str.join(' ')\n",
    "\n",
    "#remove \"Comments\"\n",
    "pred_df['violations'] = pred_df['violations'].str.replace('Comments*\\s','')\n",
    "pred_df['violations'] = pred_df['violations'].str.replace('Comments','')\n",
    "\n",
    "#Remove Punctuation\n",
    "pred_df['violations'] = pred_df['violations'].str.replace('[^\\w\\s]','')\n",
    "\n",
    "#Remove non-alphanumeric\n",
    "pred_df['violations'] = pred_df['violations'].str.replace('[^\\D\\s]','')\n"
   ]
  },
  {
   "cell_type": "code",
   "execution_count": 937,
   "metadata": {},
   "outputs": [
    {
     "data": {
      "text/plain": [
       "154241      POOLING WATER THROUGHOUT REAR LARGE BAR MUST MAINTAIN DRY MISSING FLOOR TILES AND UNEVEN FLOORING THROUGHOUT DISH AREA WITH POOLING WATER MUST MAKE FLOORS SMOOTH AND EASILY CLEANABLE      MUST INSTALL CEILINGS IN THE NEWLY INSTALL FRONT WASHROOMS RAW WOODEN WALL COVERING IN MENS WASHROOM MUST PROPERLY SEAL      MUST PROVIDE SELFCLOSING DEVICES ON NEWLY INSTALL WASHROOMS IN THE FRONT DININGBAR AREA      MUST INSTALL AN EXPOSED HAND SINK IN NEWLY REMODELEDINSTALLED FRONT BAR \n",
       "Name: violations, dtype: object"
      ]
     },
     "execution_count": 937,
     "metadata": {},
     "output_type": "execute_result"
    }
   ],
   "source": [
    "#Now check sample violation\n",
    "pred_df['violations'].sample(n=1, random_state=512)"
   ]
  },
  {
   "cell_type": "markdown",
   "metadata": {},
   "source": [
    "Now, we need to conver the results column into a categorical flag"
   ]
  },
  {
   "cell_type": "code",
   "execution_count": 938,
   "metadata": {},
   "outputs": [
    {
     "data": {
      "text/plain": [
       "Pass                  85754\n",
       "Fail                  37804\n",
       "Pass w/ Conditions    31443\n",
       "Name: results, dtype: int64"
      ]
     },
     "execution_count": 938,
     "metadata": {},
     "output_type": "execute_result"
    }
   ],
   "source": [
    "pred_df['results'].value_counts()"
   ]
  },
  {
   "cell_type": "code",
   "execution_count": 942,
   "metadata": {},
   "outputs": [],
   "source": [
    "# convert label to a binary numerical variable\n",
    "pred_df['results_flag'] = pred_df.results.map({'Pass':0,\n",
    "                                     'Fail':1,\n",
    "                                     'Pass w/ Conditions':2,\n",
    "                                     'No Entry':3,\n",
    "                                     'Not Ready':4,\n",
    "                                     'Out of Business':5 })"
   ]
  },
  {
   "cell_type": "code",
   "execution_count": 948,
   "metadata": {},
   "outputs": [
    {
     "data": {
      "text/html": [
       "<div>\n",
       "<style scoped>\n",
       "    .dataframe tbody tr th:only-of-type {\n",
       "        vertical-align: middle;\n",
       "    }\n",
       "\n",
       "    .dataframe tbody tr th {\n",
       "        vertical-align: top;\n",
       "    }\n",
       "\n",
       "    .dataframe thead th {\n",
       "        text-align: right;\n",
       "    }\n",
       "</style>\n",
       "<table border=\"1\" class=\"dataframe\">\n",
       "  <thead>\n",
       "    <tr style=\"text-align: right;\">\n",
       "      <th></th>\n",
       "      <th>results</th>\n",
       "      <th>violations</th>\n",
       "      <th>results_flag</th>\n",
       "    </tr>\n",
       "  </thead>\n",
       "  <tbody>\n",
       "    <tr>\n",
       "      <th>3238</th>\n",
       "      <td>Pass</td>\n",
       "      <td>OBSERVED TORN DOOR GASKET INSIDE OF THE ONE DOOR COOLER WHERE THE EGGS AND CHEESE IS STORED INSTRUCTED TO REPLACE AND MAINTAIN    OBSERVED STAINED CEILING TILES ABOVE THE ONE DOOR COOLER AND IN THE REAR NEAR THE UNUSED GROCERYDELI SIDE INSTRUCTED TO REPLACE THE STAINED CEILING TILES    OBSERVED EXCESS CLUTTER AND UNNECESSARYUNUSED ARTICLES STORED IN THE REAR NEAR THE UNUSED DELI AREA AND BASEMENT MUST REMOVE ALL UNNECESSARYUNUSED ARTICLES CLEAN ALL CLUTTER ORGANIZE AND MAINTAIN AREAS AT ALL TIMES    OBSERVED A MISSING LIGHT SHIELD IN THE EMPLOYEE TOLIET ROOM CEILING LIGHT INSTRUCTED TO PROVIDE AND MAINTAIN AT ALL TIMES</td>\n",
       "      <td>0</td>\n",
       "    </tr>\n",
       "    <tr>\n",
       "      <th>90223</th>\n",
       "      <td>Pass w/ Conditions</td>\n",
       "      <td>PREVIOUS MINOR VIOLATION FROM REPORT  JULY   NOT ORRECTED   OBSERVED NO FOOD HANDLER CERTIFICATES ON PREMISES AT THIS TIME INSTRUCTED TO PROVIDE GIVEN COPY OF IDPHS FOOD HANDLER INFO AT THIS TIME  INSTRUCTED MANAGER TO PROVIDE CERTIFICATES AT ALL TIMES    SERIOUS VIOLATION     NEW CUTTING BOARD NEEDED AT FRONT PREP LINE  MUST INSTALL AND MAINTAIN      ALL CONTACT SURFACES IN NEED OF CLEANING HANDLES TO COOLERS HANDS SINK FAUCET KNOBS   AIR VENTS IN WALK IN COOLER IN NEED OF CLEANING  INTERIOR OF ICE MACHINE IN NEED OF CLEANING TO REMOVE BUILD UP  MUST CLEAN AND MAINTAIN AT ALL TIMES    FLOOR DRAINS IN NEED OF DETAIL CLEANING TO REMOVE ALL BUILD UP  MUST DETAIL CLEAN AND MAINTAIN AT ALL TIMES      LIGHT SHIELD IN REAR PREP AREA IN NEED OF REPLACING OR REPAIR  MUST CORRECT AND MAINTAIN</td>\n",
       "      <td>2</td>\n",
       "    </tr>\n",
       "    <tr>\n",
       "      <th>131791</th>\n",
       "      <td>Pass w/ Conditions</td>\n",
       "      <td>FOUD  BAGS OF GARDEN SALADS STORED INSIDE THE DISPLAY COOLER  INTERNAL TEMPERATURE TAKEN OF FOOD PRODUCTS READS FTHE FOOD PRODUCTS WHERE DISCARDED AND DENATURED THE TOTAL COST  AND THE TOTAL WEIGHT LBS CRITICAL VIOLATION A    THE CUTTING BOARDS IN THE MEAT CUTTING AREAHAS OPEN SEAMSMUST REPLACE EQUIPMENT      MUST CLEAN AND SANITIZE THE MEAT SLICER IN THE DELI SECTIONHAS OLD FOOD PARTICALS ON EQUIPMENT AND DETAIL CLEAN THE RUNNERS OF DOOR AT THE DELI COUNTER HAS OLD FOOD DEBRISINSTRUCTED TO DETAIL CLEAN ALL EQUIPMENT ALSO LIGHT SHIELD COVERS NEED CLEANING OF DUST IN THE REAR MEAT CUTTING SECTION      WATER LEAKING FROM CEILING NEAR THE PACKAGE MEAT COUNTERTHE ABOVE HAS A PAN ON FLOOR TO CATCH WATERINSTRUCTED TO REPAIR LEAK</td>\n",
       "      <td>2</td>\n",
       "    </tr>\n",
       "    <tr>\n",
       "      <th>171701</th>\n",
       "      <td>Pass w/ Conditions</td>\n",
       "      <td>FACILITY NOT MAINTAINING PROPER TEMPERATURE FOUND TWO DOORS PREP REACH IN COOLER AT F  INADEQUATE FOOD PROTECTION  INSTRUCTED MUST REPAIR COOLER AND KEEP AT F OR BELOW  TAG HELD FOR INSPECTION PLACED ON UNIT WHEN REPAIRED TO FAX LETTER REQUESTING TAG REMOVAL  CITATION ISSUED A CRITICAL    POTENTIALLY HAZARDOUS FOODS INSIDE ABOVE COOLER AT IMPROPER TEMPERATURES ABOUT LBS COOKED PORK F LBS VEGETABLES AND CHICKEN SOUP F LBS STUFFED PEPPERS F LBS RICE F LBS COOKED CHICKEN F AND LBS BEANS AT F  INADEQUATE FOOD PROTECTION  INSTRUCTED COLD POTENTIALLY HAZARDOUS FOODS MUST BE AT F OR BELOW  FOOD DISCARDED V CRITICAL CITATION ISSUED A    OBSERVED NO SANITARY HAND DRYING DEVICES AT EXPOSED SINK OR FOR HAND WAHING BOWL IN WASHROOM  MUST PROVIDE PAPER TOWELS HAND DRYING DEVICES FOR SINKS AT ALL TIMES  CRITICAL CITATION ISSUED     NO CERTIFIED FOOD MANAGER ON SITE WHEN POTENTIALLY HAZARDOUS FOODS ARE PREPARED AND SERVED  PREMISES HAS A CITY CERTIFICATE FOR FABIOLA PAREDES BUT PERSON NOT ON D...</td>\n",
       "      <td>2</td>\n",
       "    </tr>\n",
       "    <tr>\n",
       "      <th>41464</th>\n",
       "      <td>Pass</td>\n",
       "      <td>MUST REPAIR DETACHED CAULKING AROUND HAND SINK IN CHILDREN TOILET ROOM</td>\n",
       "      <td>0</td>\n",
       "    </tr>\n",
       "  </tbody>\n",
       "</table>\n",
       "</div>"
      ],
      "text/plain": [
       "                   results  \\\n",
       "3238                  Pass   \n",
       "90223   Pass w/ Conditions   \n",
       "131791  Pass w/ Conditions   \n",
       "171701  Pass w/ Conditions   \n",
       "41464                 Pass   \n",
       "\n",
       "                                                                                                                                                                                                                                                                                                                                                                                                                                                                                                                                                                                                                                                                                                                                                                                                                                                                                                                                                                                                                                    violations  \\\n",
       "3238                                                                                                                                                                                                                                                                                                                                                                                       OBSERVED TORN DOOR GASKET INSIDE OF THE ONE DOOR COOLER WHERE THE EGGS AND CHEESE IS STORED INSTRUCTED TO REPLACE AND MAINTAIN    OBSERVED STAINED CEILING TILES ABOVE THE ONE DOOR COOLER AND IN THE REAR NEAR THE UNUSED GROCERYDELI SIDE INSTRUCTED TO REPLACE THE STAINED CEILING TILES    OBSERVED EXCESS CLUTTER AND UNNECESSARYUNUSED ARTICLES STORED IN THE REAR NEAR THE UNUSED DELI AREA AND BASEMENT MUST REMOVE ALL UNNECESSARYUNUSED ARTICLES CLEAN ALL CLUTTER ORGANIZE AND MAINTAIN AREAS AT ALL TIMES    OBSERVED A MISSING LIGHT SHIELD IN THE EMPLOYEE TOLIET ROOM CEILING LIGHT INSTRUCTED TO PROVIDE AND MAINTAIN AT ALL TIMES    \n",
       "90223                                                                                                                                                                                                              PREVIOUS MINOR VIOLATION FROM REPORT  JULY   NOT ORRECTED   OBSERVED NO FOOD HANDLER CERTIFICATES ON PREMISES AT THIS TIME INSTRUCTED TO PROVIDE GIVEN COPY OF IDPHS FOOD HANDLER INFO AT THIS TIME  INSTRUCTED MANAGER TO PROVIDE CERTIFICATES AT ALL TIMES    SERIOUS VIOLATION     NEW CUTTING BOARD NEEDED AT FRONT PREP LINE  MUST INSTALL AND MAINTAIN      ALL CONTACT SURFACES IN NEED OF CLEANING HANDLES TO COOLERS HANDS SINK FAUCET KNOBS   AIR VENTS IN WALK IN COOLER IN NEED OF CLEANING  INTERIOR OF ICE MACHINE IN NEED OF CLEANING TO REMOVE BUILD UP  MUST CLEAN AND MAINTAIN AT ALL TIMES    FLOOR DRAINS IN NEED OF DETAIL CLEANING TO REMOVE ALL BUILD UP  MUST DETAIL CLEAN AND MAINTAIN AT ALL TIMES      LIGHT SHIELD IN REAR PREP AREA IN NEED OF REPLACING OR REPAIR  MUST CORRECT AND MAINTAIN    \n",
       "131791                                                                                                                                                                                                                                                                           FOUD  BAGS OF GARDEN SALADS STORED INSIDE THE DISPLAY COOLER  INTERNAL TEMPERATURE TAKEN OF FOOD PRODUCTS READS FTHE FOOD PRODUCTS WHERE DISCARDED AND DENATURED THE TOTAL COST  AND THE TOTAL WEIGHT LBS CRITICAL VIOLATION A    THE CUTTING BOARDS IN THE MEAT CUTTING AREAHAS OPEN SEAMSMUST REPLACE EQUIPMENT      MUST CLEAN AND SANITIZE THE MEAT SLICER IN THE DELI SECTIONHAS OLD FOOD PARTICALS ON EQUIPMENT AND DETAIL CLEAN THE RUNNERS OF DOOR AT THE DELI COUNTER HAS OLD FOOD DEBRISINSTRUCTED TO DETAIL CLEAN ALL EQUIPMENT ALSO LIGHT SHIELD COVERS NEED CLEANING OF DUST IN THE REAR MEAT CUTTING SECTION      WATER LEAKING FROM CEILING NEAR THE PACKAGE MEAT COUNTERTHE ABOVE HAS A PAN ON FLOOR TO CATCH WATERINSTRUCTED TO REPAIR LEAK    \n",
       "171701    FACILITY NOT MAINTAINING PROPER TEMPERATURE FOUND TWO DOORS PREP REACH IN COOLER AT F  INADEQUATE FOOD PROTECTION  INSTRUCTED MUST REPAIR COOLER AND KEEP AT F OR BELOW  TAG HELD FOR INSPECTION PLACED ON UNIT WHEN REPAIRED TO FAX LETTER REQUESTING TAG REMOVAL  CITATION ISSUED A CRITICAL    POTENTIALLY HAZARDOUS FOODS INSIDE ABOVE COOLER AT IMPROPER TEMPERATURES ABOUT LBS COOKED PORK F LBS VEGETABLES AND CHICKEN SOUP F LBS STUFFED PEPPERS F LBS RICE F LBS COOKED CHICKEN F AND LBS BEANS AT F  INADEQUATE FOOD PROTECTION  INSTRUCTED COLD POTENTIALLY HAZARDOUS FOODS MUST BE AT F OR BELOW  FOOD DISCARDED V CRITICAL CITATION ISSUED A    OBSERVED NO SANITARY HAND DRYING DEVICES AT EXPOSED SINK OR FOR HAND WAHING BOWL IN WASHROOM  MUST PROVIDE PAPER TOWELS HAND DRYING DEVICES FOR SINKS AT ALL TIMES  CRITICAL CITATION ISSUED     NO CERTIFIED FOOD MANAGER ON SITE WHEN POTENTIALLY HAZARDOUS FOODS ARE PREPARED AND SERVED  PREMISES HAS A CITY CERTIFICATE FOR FABIOLA PAREDES BUT PERSON NOT ON D...   \n",
       "41464                                                                                                                                                                                                                                                                                                                                                                                                                                                                                                                                                                                                                                                                                                                                                                                                                                                                                                                                                                  MUST REPAIR DETACHED CAULKING AROUND HAND SINK IN CHILDREN TOILET ROOM    \n",
       "\n",
       "        results_flag  \n",
       "3238               0  \n",
       "90223              2  \n",
       "131791             2  \n",
       "171701             2  \n",
       "41464              0  "
      ]
     },
     "execution_count": 948,
     "metadata": {},
     "output_type": "execute_result"
    }
   ],
   "source": [
    "pred_df.sample(n=5, random_state=312)"
   ]
  },
  {
   "cell_type": "markdown",
   "metadata": {},
   "source": [
    "<a id='model'></a>\n",
    "# 3. Model"
   ]
  },
  {
   "cell_type": "markdown",
   "metadata": {},
   "source": [
    "<a id='modeloverview'> </a>\n",
    "## 3.1 Model Overview"
   ]
  },
  {
   "cell_type": "markdown",
   "metadata": {},
   "source": [
    "\n",
    "### 3.1 Set X & y Variables"
   ]
  },
  {
   "cell_type": "code",
   "execution_count": 950,
   "metadata": {},
   "outputs": [
    {
     "name": "stdout",
     "output_type": "stream",
     "text": [
      "(155001,)\n",
      "(155001,)\n"
     ]
    }
   ],
   "source": [
    "X = pred_df.violations\n",
    "y = pred_df.results_flag\n",
    "print(X.shape)\n",
    "print(y.shape)"
   ]
  },
  {
   "cell_type": "markdown",
   "metadata": {},
   "source": [
    "### 3.2 Train/Test Split"
   ]
  },
  {
   "cell_type": "code",
   "execution_count": 951,
   "metadata": {},
   "outputs": [
    {
     "name": "stdout",
     "output_type": "stream",
     "text": [
      "(124000,)\n",
      "(31001,)\n",
      "(124000,)\n",
      "(31001,)\n"
     ]
    }
   ],
   "source": [
    "# split X and y into training and testing sets\n",
    "X_train, X_test, y_train, y_test = train_test_split(X, y, \n",
    "                                                    test_size=0.20, \n",
    "                                                    stratify=y, \n",
    "                                                    random_state=123)\n",
    "print(X_train.shape)\n",
    "print(X_test.shape)\n",
    "print(y_train.shape)\n",
    "print(y_test.shape)"
   ]
  },
  {
   "cell_type": "markdown",
   "metadata": {},
   "source": [
    "### 3.3 Vectorize The Text"
   ]
  },
  {
   "cell_type": "code",
   "execution_count": 952,
   "metadata": {},
   "outputs": [
    {
     "data": {
      "text/plain": [
       "<124000x90333 sparse matrix of type '<class 'numpy.int64'>'\n",
       "\twith 8390365 stored elements in Compressed Sparse Row format>"
      ]
     },
     "execution_count": 952,
     "metadata": {},
     "output_type": "execute_result"
    }
   ],
   "source": [
    "# instantiate the vectorizer\n",
    "vect = CountVectorizer()\n",
    "\n",
    "# equivalently: combine fit and transform into a single step\n",
    "X_train_dtm = vect.fit_transform(X_train)\n",
    "\n",
    "# examine the document-term matrix\n",
    "X_train_dtm"
   ]
  },
  {
   "cell_type": "code",
   "execution_count": 953,
   "metadata": {},
   "outputs": [
    {
     "data": {
      "text/plain": [
       "<31001x90333 sparse matrix of type '<class 'numpy.int64'>'\n",
       "\twith 2081473 stored elements in Compressed Sparse Row format>"
      ]
     },
     "execution_count": 953,
     "metadata": {},
     "output_type": "execute_result"
    }
   ],
   "source": [
    "# transform testing data (using fitted vocabulary) into a document-term matrix\n",
    "X_test_dtm = vect.transform(X_test)\n",
    "X_test_dtm"
   ]
  },
  {
   "cell_type": "code",
   "execution_count": 954,
   "metadata": {},
   "outputs": [
    {
     "data": {
      "text/html": [
       "<div>\n",
       "<style scoped>\n",
       "    .dataframe tbody tr th:only-of-type {\n",
       "        vertical-align: middle;\n",
       "    }\n",
       "\n",
       "    .dataframe tbody tr th {\n",
       "        vertical-align: top;\n",
       "    }\n",
       "\n",
       "    .dataframe thead th {\n",
       "        text-align: right;\n",
       "    }\n",
       "</style>\n",
       "<table border=\"1\" class=\"dataframe\">\n",
       "  <thead>\n",
       "    <tr style=\"text-align: right;\">\n",
       "      <th></th>\n",
       "      <th>___lbs</th>\n",
       "      <th>__through</th>\n",
       "      <th>_a</th>\n",
       "      <th>aa</th>\n",
       "      <th>aab</th>\n",
       "      <th>aaccumuation</th>\n",
       "      <th>aade</th>\n",
       "      <th>aafound</th>\n",
       "      <th>aal</th>\n",
       "      <th>aall</th>\n",
       "      <th>...</th>\n",
       "      <th>zucchini</th>\n",
       "      <th>zucchinibaby</th>\n",
       "      <th>zucchinin</th>\n",
       "      <th>zuccini</th>\n",
       "      <th>zuchinisasparagus</th>\n",
       "      <th>zumba</th>\n",
       "      <th>zumex</th>\n",
       "      <th>zurich</th>\n",
       "      <th>ºc</th>\n",
       "      <th>ºf</th>\n",
       "    </tr>\n",
       "  </thead>\n",
       "  <tbody>\n",
       "    <tr>\n",
       "      <th>0</th>\n",
       "      <td>0</td>\n",
       "      <td>0</td>\n",
       "      <td>0</td>\n",
       "      <td>0</td>\n",
       "      <td>0</td>\n",
       "      <td>0</td>\n",
       "      <td>0</td>\n",
       "      <td>0</td>\n",
       "      <td>0</td>\n",
       "      <td>0</td>\n",
       "      <td>...</td>\n",
       "      <td>0</td>\n",
       "      <td>0</td>\n",
       "      <td>0</td>\n",
       "      <td>0</td>\n",
       "      <td>0</td>\n",
       "      <td>0</td>\n",
       "      <td>0</td>\n",
       "      <td>0</td>\n",
       "      <td>0</td>\n",
       "      <td>0</td>\n",
       "    </tr>\n",
       "    <tr>\n",
       "      <th>1</th>\n",
       "      <td>0</td>\n",
       "      <td>0</td>\n",
       "      <td>0</td>\n",
       "      <td>0</td>\n",
       "      <td>0</td>\n",
       "      <td>0</td>\n",
       "      <td>0</td>\n",
       "      <td>0</td>\n",
       "      <td>0</td>\n",
       "      <td>0</td>\n",
       "      <td>...</td>\n",
       "      <td>0</td>\n",
       "      <td>0</td>\n",
       "      <td>0</td>\n",
       "      <td>0</td>\n",
       "      <td>0</td>\n",
       "      <td>0</td>\n",
       "      <td>0</td>\n",
       "      <td>0</td>\n",
       "      <td>0</td>\n",
       "      <td>0</td>\n",
       "    </tr>\n",
       "    <tr>\n",
       "      <th>2</th>\n",
       "      <td>0</td>\n",
       "      <td>0</td>\n",
       "      <td>0</td>\n",
       "      <td>0</td>\n",
       "      <td>0</td>\n",
       "      <td>0</td>\n",
       "      <td>0</td>\n",
       "      <td>0</td>\n",
       "      <td>0</td>\n",
       "      <td>0</td>\n",
       "      <td>...</td>\n",
       "      <td>0</td>\n",
       "      <td>0</td>\n",
       "      <td>0</td>\n",
       "      <td>0</td>\n",
       "      <td>0</td>\n",
       "      <td>0</td>\n",
       "      <td>0</td>\n",
       "      <td>0</td>\n",
       "      <td>0</td>\n",
       "      <td>0</td>\n",
       "    </tr>\n",
       "    <tr>\n",
       "      <th>3</th>\n",
       "      <td>0</td>\n",
       "      <td>0</td>\n",
       "      <td>0</td>\n",
       "      <td>0</td>\n",
       "      <td>0</td>\n",
       "      <td>0</td>\n",
       "      <td>0</td>\n",
       "      <td>0</td>\n",
       "      <td>0</td>\n",
       "      <td>0</td>\n",
       "      <td>...</td>\n",
       "      <td>0</td>\n",
       "      <td>0</td>\n",
       "      <td>0</td>\n",
       "      <td>0</td>\n",
       "      <td>0</td>\n",
       "      <td>0</td>\n",
       "      <td>0</td>\n",
       "      <td>0</td>\n",
       "      <td>0</td>\n",
       "      <td>0</td>\n",
       "    </tr>\n",
       "    <tr>\n",
       "      <th>4</th>\n",
       "      <td>0</td>\n",
       "      <td>0</td>\n",
       "      <td>0</td>\n",
       "      <td>0</td>\n",
       "      <td>0</td>\n",
       "      <td>0</td>\n",
       "      <td>0</td>\n",
       "      <td>0</td>\n",
       "      <td>0</td>\n",
       "      <td>0</td>\n",
       "      <td>...</td>\n",
       "      <td>0</td>\n",
       "      <td>0</td>\n",
       "      <td>0</td>\n",
       "      <td>0</td>\n",
       "      <td>0</td>\n",
       "      <td>0</td>\n",
       "      <td>0</td>\n",
       "      <td>0</td>\n",
       "      <td>0</td>\n",
       "      <td>0</td>\n",
       "    </tr>\n",
       "    <tr>\n",
       "      <th>...</th>\n",
       "      <td>...</td>\n",
       "      <td>...</td>\n",
       "      <td>...</td>\n",
       "      <td>...</td>\n",
       "      <td>...</td>\n",
       "      <td>...</td>\n",
       "      <td>...</td>\n",
       "      <td>...</td>\n",
       "      <td>...</td>\n",
       "      <td>...</td>\n",
       "      <td>...</td>\n",
       "      <td>...</td>\n",
       "      <td>...</td>\n",
       "      <td>...</td>\n",
       "      <td>...</td>\n",
       "      <td>...</td>\n",
       "      <td>...</td>\n",
       "      <td>...</td>\n",
       "      <td>...</td>\n",
       "      <td>...</td>\n",
       "      <td>...</td>\n",
       "    </tr>\n",
       "    <tr>\n",
       "      <th>123995</th>\n",
       "      <td>0</td>\n",
       "      <td>0</td>\n",
       "      <td>0</td>\n",
       "      <td>0</td>\n",
       "      <td>0</td>\n",
       "      <td>0</td>\n",
       "      <td>0</td>\n",
       "      <td>0</td>\n",
       "      <td>0</td>\n",
       "      <td>0</td>\n",
       "      <td>...</td>\n",
       "      <td>0</td>\n",
       "      <td>0</td>\n",
       "      <td>0</td>\n",
       "      <td>0</td>\n",
       "      <td>0</td>\n",
       "      <td>0</td>\n",
       "      <td>0</td>\n",
       "      <td>0</td>\n",
       "      <td>0</td>\n",
       "      <td>0</td>\n",
       "    </tr>\n",
       "    <tr>\n",
       "      <th>123996</th>\n",
       "      <td>0</td>\n",
       "      <td>0</td>\n",
       "      <td>0</td>\n",
       "      <td>0</td>\n",
       "      <td>0</td>\n",
       "      <td>0</td>\n",
       "      <td>0</td>\n",
       "      <td>0</td>\n",
       "      <td>0</td>\n",
       "      <td>0</td>\n",
       "      <td>...</td>\n",
       "      <td>0</td>\n",
       "      <td>0</td>\n",
       "      <td>0</td>\n",
       "      <td>0</td>\n",
       "      <td>0</td>\n",
       "      <td>0</td>\n",
       "      <td>0</td>\n",
       "      <td>0</td>\n",
       "      <td>0</td>\n",
       "      <td>0</td>\n",
       "    </tr>\n",
       "    <tr>\n",
       "      <th>123997</th>\n",
       "      <td>0</td>\n",
       "      <td>0</td>\n",
       "      <td>0</td>\n",
       "      <td>0</td>\n",
       "      <td>0</td>\n",
       "      <td>0</td>\n",
       "      <td>0</td>\n",
       "      <td>0</td>\n",
       "      <td>0</td>\n",
       "      <td>0</td>\n",
       "      <td>...</td>\n",
       "      <td>0</td>\n",
       "      <td>0</td>\n",
       "      <td>0</td>\n",
       "      <td>0</td>\n",
       "      <td>0</td>\n",
       "      <td>0</td>\n",
       "      <td>0</td>\n",
       "      <td>0</td>\n",
       "      <td>0</td>\n",
       "      <td>0</td>\n",
       "    </tr>\n",
       "    <tr>\n",
       "      <th>123998</th>\n",
       "      <td>0</td>\n",
       "      <td>0</td>\n",
       "      <td>0</td>\n",
       "      <td>0</td>\n",
       "      <td>0</td>\n",
       "      <td>0</td>\n",
       "      <td>0</td>\n",
       "      <td>0</td>\n",
       "      <td>0</td>\n",
       "      <td>0</td>\n",
       "      <td>...</td>\n",
       "      <td>0</td>\n",
       "      <td>0</td>\n",
       "      <td>0</td>\n",
       "      <td>0</td>\n",
       "      <td>0</td>\n",
       "      <td>0</td>\n",
       "      <td>0</td>\n",
       "      <td>0</td>\n",
       "      <td>0</td>\n",
       "      <td>0</td>\n",
       "    </tr>\n",
       "    <tr>\n",
       "      <th>123999</th>\n",
       "      <td>0</td>\n",
       "      <td>0</td>\n",
       "      <td>0</td>\n",
       "      <td>0</td>\n",
       "      <td>0</td>\n",
       "      <td>0</td>\n",
       "      <td>0</td>\n",
       "      <td>0</td>\n",
       "      <td>0</td>\n",
       "      <td>0</td>\n",
       "      <td>...</td>\n",
       "      <td>0</td>\n",
       "      <td>0</td>\n",
       "      <td>0</td>\n",
       "      <td>0</td>\n",
       "      <td>0</td>\n",
       "      <td>0</td>\n",
       "      <td>0</td>\n",
       "      <td>0</td>\n",
       "      <td>0</td>\n",
       "      <td>0</td>\n",
       "    </tr>\n",
       "  </tbody>\n",
       "</table>\n",
       "<p>124000 rows × 90333 columns</p>\n",
       "</div>"
      ],
      "text/plain": [
       "        ___lbs  __through  _a  aa  aab  aaccumuation  aade  aafound  aal  \\\n",
       "0            0          0   0   0    0             0     0        0    0   \n",
       "1            0          0   0   0    0             0     0        0    0   \n",
       "2            0          0   0   0    0             0     0        0    0   \n",
       "3            0          0   0   0    0             0     0        0    0   \n",
       "4            0          0   0   0    0             0     0        0    0   \n",
       "...        ...        ...  ..  ..  ...           ...   ...      ...  ...   \n",
       "123995       0          0   0   0    0             0     0        0    0   \n",
       "123996       0          0   0   0    0             0     0        0    0   \n",
       "123997       0          0   0   0    0             0     0        0    0   \n",
       "123998       0          0   0   0    0             0     0        0    0   \n",
       "123999       0          0   0   0    0             0     0        0    0   \n",
       "\n",
       "        aall  ...  zucchini  zucchinibaby  zucchinin  zuccini  \\\n",
       "0          0  ...         0             0          0        0   \n",
       "1          0  ...         0             0          0        0   \n",
       "2          0  ...         0             0          0        0   \n",
       "3          0  ...         0             0          0        0   \n",
       "4          0  ...         0             0          0        0   \n",
       "...      ...  ...       ...           ...        ...      ...   \n",
       "123995     0  ...         0             0          0        0   \n",
       "123996     0  ...         0             0          0        0   \n",
       "123997     0  ...         0             0          0        0   \n",
       "123998     0  ...         0             0          0        0   \n",
       "123999     0  ...         0             0          0        0   \n",
       "\n",
       "        zuchinisasparagus  zumba  zumex  zurich  ºc  ºf  \n",
       "0                       0      0      0       0   0   0  \n",
       "1                       0      0      0       0   0   0  \n",
       "2                       0      0      0       0   0   0  \n",
       "3                       0      0      0       0   0   0  \n",
       "4                       0      0      0       0   0   0  \n",
       "...                   ...    ...    ...     ...  ..  ..  \n",
       "123995                  0      0      0       0   0   0  \n",
       "123996                  0      0      0       0   0   0  \n",
       "123997                  0      0      0       0   0   0  \n",
       "123998                  0      0      0       0   0   0  \n",
       "123999                  0      0      0       0   0   0  \n",
       "\n",
       "[124000 rows x 90333 columns]"
      ]
     },
     "execution_count": 954,
     "metadata": {},
     "output_type": "execute_result"
    }
   ],
   "source": [
    "countvectorizer_matrix = vect.fit_transform(X_train)\n",
    "countvectorizer_matrix_df = pd.DataFrame(countvectorizer_matrix.toarray(), columns=vect.get_feature_names())\n",
    "countvectorizer_matrix_df"
   ]
  },
  {
   "cell_type": "markdown",
   "metadata": {},
   "source": [
    "<a id='model'> </a>\n",
    "## 5. Build Baseline Models\n",
    "* Naive Bayes Model, \"Model 1\"\n",
    "* Logistic Regression, \"Model 2\"\n",
    "* Support Vector Machine, \"Model 3\""
   ]
  },
  {
   "cell_type": "code",
   "execution_count": null,
   "metadata": {},
   "outputs": [],
   "source": []
  },
  {
   "cell_type": "markdown",
   "metadata": {},
   "source": [
    "### a) Naive Bayes Model"
   ]
  },
  {
   "cell_type": "code",
   "execution_count": 955,
   "metadata": {},
   "outputs": [],
   "source": [
    "# instantiate a Multinomial Naive Bayes model\n",
    "nb = MultinomialNB()"
   ]
  },
  {
   "cell_type": "code",
   "execution_count": 956,
   "metadata": {},
   "outputs": [
    {
     "name": "stdout",
     "output_type": "stream",
     "text": [
      "CPU times: user 75.5 ms, sys: 113 ms, total: 189 ms\n",
      "Wall time: 252 ms\n"
     ]
    },
    {
     "data": {
      "text/plain": [
       "MultinomialNB(alpha=1.0, class_prior=None, fit_prior=True)"
      ]
     },
     "execution_count": 956,
     "metadata": {},
     "output_type": "execute_result"
    }
   ],
   "source": [
    "# train and time the model using X_train_dtm\n",
    "%time nb.fit(X_train_dtm, y_train)"
   ]
  },
  {
   "cell_type": "code",
   "execution_count": 957,
   "metadata": {},
   "outputs": [],
   "source": [
    "# make class predictions for X_test_dtm\n",
    "y_pred_class = nb.predict(X_test_dtm)"
   ]
  },
  {
   "cell_type": "code",
   "execution_count": 958,
   "metadata": {},
   "outputs": [
    {
     "name": "stdout",
     "output_type": "stream",
     "text": [
      "0.8232315086610109\n"
     ]
    }
   ],
   "source": [
    "# calculate accuracy of class predictions\n",
    "print(metrics.accuracy_score(y_test, y_pred_class))"
   ]
  },
  {
   "cell_type": "code",
   "execution_count": 959,
   "metadata": {},
   "outputs": [
    {
     "name": "stdout",
     "output_type": "stream",
     "text": [
      "              precision    recall  f1-score   support\n",
      "\n",
      "           0       0.94      0.89      0.91     17151\n",
      "           1       0.74      0.71      0.73      7561\n",
      "           2       0.65      0.77      0.71      6289\n",
      "\n",
      "    accuracy                           0.82     31001\n",
      "   macro avg       0.78      0.79      0.78     31001\n",
      "weighted avg       0.83      0.82      0.83     31001\n",
      "\n"
     ]
    }
   ],
   "source": [
    "# calculate precision and recall\n",
    "print(classification_report(y_test, y_pred_class))"
   ]
  },
  {
   "cell_type": "code",
   "execution_count": 960,
   "metadata": {},
   "outputs": [
    {
     "name": "stdout",
     "output_type": "stream",
     "text": [
      "[[15269   774  1108]\n",
      " [  669  5398  1494]\n",
      " [  300  1135  4854]]\n"
     ]
    }
   ],
   "source": [
    "# calculate the confusion matrix\n",
    "print(metrics.confusion_matrix(y_test, y_pred_class))"
   ]
  },
  {
   "cell_type": "markdown",
   "metadata": {},
   "source": [
    "### b) Logistic Regression"
   ]
  },
  {
   "cell_type": "code",
   "execution_count": 961,
   "metadata": {},
   "outputs": [],
   "source": [
    "# instantiate a logistic regression model\n",
    "logreg = LogisticRegression(max_iter=10000)"
   ]
  },
  {
   "cell_type": "code",
   "execution_count": 962,
   "metadata": {},
   "outputs": [
    {
     "name": "stdout",
     "output_type": "stream",
     "text": [
      "CPU times: user 34min 35s, sys: 5min 10s, total: 39min 45s\n",
      "Wall time: 6min 56s\n"
     ]
    },
    {
     "data": {
      "text/plain": [
       "LogisticRegression(C=1.0, class_weight=None, dual=False, fit_intercept=True,\n",
       "                   intercept_scaling=1, l1_ratio=None, max_iter=10000,\n",
       "                   multi_class='auto', n_jobs=None, penalty='l2',\n",
       "                   random_state=None, solver='lbfgs', tol=0.0001, verbose=0,\n",
       "                   warm_start=False)"
      ]
     },
     "execution_count": 962,
     "metadata": {},
     "output_type": "execute_result"
    }
   ],
   "source": [
    "# train the model using X_train_dtm\n",
    "%time logreg.fit(X_train_dtm, y_train)"
   ]
  },
  {
   "cell_type": "code",
   "execution_count": 963,
   "metadata": {},
   "outputs": [],
   "source": [
    "# make class predictions for X_test_dtm\n",
    "y_pred_class = logreg.predict(X_test_dtm)\n",
    "y_pred_class_train = logreg.predict(X_train_dtm)"
   ]
  },
  {
   "cell_type": "code",
   "execution_count": 964,
   "metadata": {},
   "outputs": [
    {
     "name": "stdout",
     "output_type": "stream",
     "text": [
      "0.9241959936776233\n"
     ]
    }
   ],
   "source": [
    "# calculate accuracy of class predictions\n",
    "print(metrics.accuracy_score(y_test, y_pred_class))"
   ]
  },
  {
   "cell_type": "code",
   "execution_count": 965,
   "metadata": {},
   "outputs": [
    {
     "name": "stdout",
     "output_type": "stream",
     "text": [
      "              precision    recall  f1-score   support\n",
      "\n",
      "           0       0.96      0.99      0.98     17151\n",
      "           1       0.88      0.85      0.86      7561\n",
      "           2       0.87      0.84      0.85      6289\n",
      "\n",
      "    accuracy                           0.92     31001\n",
      "   macro avg       0.90      0.89      0.90     31001\n",
      "weighted avg       0.92      0.92      0.92     31001\n",
      "\n",
      "              precision    recall  f1-score   support\n",
      "\n",
      "           0       0.98      1.00      0.99     68603\n",
      "           1       0.96      0.93      0.95     30243\n",
      "           2       0.95      0.94      0.95     25154\n",
      "\n",
      "    accuracy                           0.97    124000\n",
      "   macro avg       0.96      0.96      0.96    124000\n",
      "weighted avg       0.97      0.97      0.97    124000\n",
      "\n"
     ]
    }
   ],
   "source": [
    "# calculate precision and recall\n",
    "print(classification_report(y_test, y_pred_class))\n",
    "print(classification_report(y_train, y_pred_class_train))"
   ]
  },
  {
   "cell_type": "code",
   "execution_count": 966,
   "metadata": {},
   "outputs": [
    {
     "name": "stdout",
     "output_type": "stream",
     "text": [
      "[[16954   117    80]\n",
      " [  423  6408   730]\n",
      " [  235   765  5289]]\n"
     ]
    }
   ],
   "source": [
    "# calculate the confusion matrix\n",
    "print(metrics.confusion_matrix(y_test, y_pred_class))"
   ]
  },
  {
   "cell_type": "markdown",
   "metadata": {},
   "source": [
    "### c) Support Vector Machine"
   ]
  },
  {
   "cell_type": "code",
   "execution_count": 967,
   "metadata": {},
   "outputs": [],
   "source": [
    "# instantiate a SVM model\n",
    "svm = SGDClassifier(max_iter=100, tol=None)"
   ]
  },
  {
   "cell_type": "code",
   "execution_count": 968,
   "metadata": {},
   "outputs": [
    {
     "name": "stdout",
     "output_type": "stream",
     "text": [
      "CPU times: user 10.3 s, sys: 155 ms, total: 10.4 s\n",
      "Wall time: 9.59 s\n"
     ]
    },
    {
     "data": {
      "text/plain": [
       "SGDClassifier(alpha=0.0001, average=False, class_weight=None,\n",
       "              early_stopping=False, epsilon=0.1, eta0=0.0, fit_intercept=True,\n",
       "              l1_ratio=0.15, learning_rate='optimal', loss='hinge',\n",
       "              max_iter=100, n_iter_no_change=5, n_jobs=None, penalty='l2',\n",
       "              power_t=0.5, random_state=None, shuffle=True, tol=None,\n",
       "              validation_fraction=0.1, verbose=0, warm_start=False)"
      ]
     },
     "execution_count": 968,
     "metadata": {},
     "output_type": "execute_result"
    }
   ],
   "source": [
    "# train the model using X_train_dtm\n",
    "%time svm.fit(X_train_dtm, y_train)"
   ]
  },
  {
   "cell_type": "code",
   "execution_count": 969,
   "metadata": {},
   "outputs": [],
   "source": [
    "# make class predictions for X_test_dtm\n",
    "y_pred_class = svm.predict(X_test_dtm)"
   ]
  },
  {
   "cell_type": "code",
   "execution_count": 970,
   "metadata": {},
   "outputs": [
    {
     "name": "stdout",
     "output_type": "stream",
     "text": [
      "0.9137447179123254\n"
     ]
    }
   ],
   "source": [
    "# calculate accuracy of class predictions\n",
    "print(metrics.accuracy_score(y_test, y_pred_class))"
   ]
  },
  {
   "cell_type": "code",
   "execution_count": 971,
   "metadata": {},
   "outputs": [
    {
     "name": "stdout",
     "output_type": "stream",
     "text": [
      "              precision    recall  f1-score   support\n",
      "\n",
      "           0       0.95      0.98      0.97     17151\n",
      "           1       0.91      0.78      0.84      7561\n",
      "           2       0.81      0.89      0.85      6289\n",
      "\n",
      "    accuracy                           0.91     31001\n",
      "   macro avg       0.89      0.88      0.89     31001\n",
      "weighted avg       0.91      0.91      0.91     31001\n",
      "\n"
     ]
    }
   ],
   "source": [
    "# calculate precision and recall\n",
    "print(classification_report(y_test, y_pred_class))"
   ]
  },
  {
   "cell_type": "code",
   "execution_count": 972,
   "metadata": {},
   "outputs": [
    {
     "name": "stdout",
     "output_type": "stream",
     "text": [
      "[[16876   116   159]\n",
      " [  553  5880  1128]\n",
      " [  262   456  5571]]\n"
     ]
    }
   ],
   "source": [
    "# calculate the confusion matrix\n",
    "print(metrics.confusion_matrix(y_test, y_pred_class))"
   ]
  },
  {
   "cell_type": "markdown",
   "metadata": {},
   "source": [
    "### 6. Improve Model Performance (for best performing model)\n",
    "* Remove stopwords\n",
    "* Include n-grams\n",
    "* Limit min & max document frequencies\n",
    "\n"
   ]
  },
  {
   "cell_type": "code",
   "execution_count": 43,
   "metadata": {},
   "outputs": [
    {
     "data": {
      "text/plain": [
       "CountVectorizer(analyzer='word', binary=False, decode_error='strict',\n",
       "                dtype=<class 'numpy.int64'>, encoding='utf-8', input='content',\n",
       "                lowercase=True, max_df=1.0, max_features=None, min_df=1,\n",
       "                ngram_range=(1, 1), preprocessor=None, stop_words=None,\n",
       "                strip_accents=None, token_pattern='(?u)\\\\b\\\\w\\\\w+\\\\b',\n",
       "                tokenizer=None, vocabulary=None)"
      ]
     },
     "execution_count": 43,
     "metadata": {},
     "output_type": "execute_result"
    }
   ],
   "source": [
    "#default parameters for countvectorizer model\n",
    "CountVectorizer()"
   ]
  },
  {
   "cell_type": "code",
   "execution_count": 976,
   "metadata": {},
   "outputs": [
    {
     "name": "stdout",
     "output_type": "stream",
     "text": [
      "7750.05\n",
      "31000.2\n"
     ]
    }
   ],
   "source": [
    "print(len(pred_df)*0.05)\n",
    "print(len(pred_df)*0.2)"
   ]
  },
  {
   "cell_type": "code",
   "execution_count": 977,
   "metadata": {},
   "outputs": [],
   "source": [
    "# remove English stop words\n",
    "vect_optimized = CountVectorizer(stop_words='english',\n",
    "                                 lowercase=True,\n",
    "                                 ngram_range=(1,4), \n",
    "                                 min_df=0.05, \n",
    "                                 max_df=0.4)\n",
    "\n"
   ]
  },
  {
   "cell_type": "code",
   "execution_count": 978,
   "metadata": {},
   "outputs": [
    {
     "data": {
      "text/html": [
       "<div>\n",
       "<style scoped>\n",
       "    .dataframe tbody tr th:only-of-type {\n",
       "        vertical-align: middle;\n",
       "    }\n",
       "\n",
       "    .dataframe tbody tr th {\n",
       "        vertical-align: top;\n",
       "    }\n",
       "\n",
       "    .dataframe thead th {\n",
       "        text-align: right;\n",
       "    }\n",
       "</style>\n",
       "<table border=\"1\" class=\"dataframe\">\n",
       "  <thead>\n",
       "    <tr style=\"text-align: right;\">\n",
       "      <th></th>\n",
       "      <th>accordance</th>\n",
       "      <th>accumulation</th>\n",
       "      <th>adequate</th>\n",
       "      <th>adequately</th>\n",
       "      <th>air</th>\n",
       "      <th>allergen</th>\n",
       "      <th>area clean</th>\n",
       "      <th>area instructed</th>\n",
       "      <th>areas</th>\n",
       "      <th>articles</th>\n",
       "      <th>...</th>\n",
       "      <th>wall</th>\n",
       "      <th>walls</th>\n",
       "      <th>walls ceilings</th>\n",
       "      <th>walls ceilings shall</th>\n",
       "      <th>walls ceilings shall good</th>\n",
       "      <th>wash</th>\n",
       "      <th>washing</th>\n",
       "      <th>washroom</th>\n",
       "      <th>water</th>\n",
       "      <th>working</th>\n",
       "    </tr>\n",
       "  </thead>\n",
       "  <tbody>\n",
       "    <tr>\n",
       "      <th>0</th>\n",
       "      <td>0</td>\n",
       "      <td>0</td>\n",
       "      <td>0</td>\n",
       "      <td>0</td>\n",
       "      <td>1</td>\n",
       "      <td>0</td>\n",
       "      <td>0</td>\n",
       "      <td>0</td>\n",
       "      <td>0</td>\n",
       "      <td>0</td>\n",
       "      <td>...</td>\n",
       "      <td>1</td>\n",
       "      <td>3</td>\n",
       "      <td>1</td>\n",
       "      <td>1</td>\n",
       "      <td>1</td>\n",
       "      <td>2</td>\n",
       "      <td>0</td>\n",
       "      <td>0</td>\n",
       "      <td>0</td>\n",
       "      <td>0</td>\n",
       "    </tr>\n",
       "    <tr>\n",
       "      <th>1</th>\n",
       "      <td>0</td>\n",
       "      <td>0</td>\n",
       "      <td>0</td>\n",
       "      <td>0</td>\n",
       "      <td>0</td>\n",
       "      <td>0</td>\n",
       "      <td>0</td>\n",
       "      <td>0</td>\n",
       "      <td>0</td>\n",
       "      <td>0</td>\n",
       "      <td>...</td>\n",
       "      <td>2</td>\n",
       "      <td>2</td>\n",
       "      <td>0</td>\n",
       "      <td>0</td>\n",
       "      <td>0</td>\n",
       "      <td>0</td>\n",
       "      <td>0</td>\n",
       "      <td>0</td>\n",
       "      <td>0</td>\n",
       "      <td>0</td>\n",
       "    </tr>\n",
       "    <tr>\n",
       "      <th>2</th>\n",
       "      <td>0</td>\n",
       "      <td>0</td>\n",
       "      <td>0</td>\n",
       "      <td>0</td>\n",
       "      <td>0</td>\n",
       "      <td>0</td>\n",
       "      <td>0</td>\n",
       "      <td>0</td>\n",
       "      <td>0</td>\n",
       "      <td>0</td>\n",
       "      <td>...</td>\n",
       "      <td>0</td>\n",
       "      <td>0</td>\n",
       "      <td>0</td>\n",
       "      <td>0</td>\n",
       "      <td>0</td>\n",
       "      <td>0</td>\n",
       "      <td>0</td>\n",
       "      <td>0</td>\n",
       "      <td>1</td>\n",
       "      <td>0</td>\n",
       "    </tr>\n",
       "    <tr>\n",
       "      <th>3</th>\n",
       "      <td>0</td>\n",
       "      <td>0</td>\n",
       "      <td>0</td>\n",
       "      <td>0</td>\n",
       "      <td>0</td>\n",
       "      <td>0</td>\n",
       "      <td>0</td>\n",
       "      <td>0</td>\n",
       "      <td>0</td>\n",
       "      <td>0</td>\n",
       "      <td>...</td>\n",
       "      <td>1</td>\n",
       "      <td>0</td>\n",
       "      <td>0</td>\n",
       "      <td>0</td>\n",
       "      <td>0</td>\n",
       "      <td>0</td>\n",
       "      <td>7</td>\n",
       "      <td>1</td>\n",
       "      <td>0</td>\n",
       "      <td>0</td>\n",
       "    </tr>\n",
       "    <tr>\n",
       "      <th>4</th>\n",
       "      <td>0</td>\n",
       "      <td>0</td>\n",
       "      <td>0</td>\n",
       "      <td>0</td>\n",
       "      <td>0</td>\n",
       "      <td>0</td>\n",
       "      <td>0</td>\n",
       "      <td>0</td>\n",
       "      <td>1</td>\n",
       "      <td>0</td>\n",
       "      <td>...</td>\n",
       "      <td>0</td>\n",
       "      <td>0</td>\n",
       "      <td>0</td>\n",
       "      <td>0</td>\n",
       "      <td>0</td>\n",
       "      <td>0</td>\n",
       "      <td>0</td>\n",
       "      <td>0</td>\n",
       "      <td>0</td>\n",
       "      <td>0</td>\n",
       "    </tr>\n",
       "    <tr>\n",
       "      <th>...</th>\n",
       "      <td>...</td>\n",
       "      <td>...</td>\n",
       "      <td>...</td>\n",
       "      <td>...</td>\n",
       "      <td>...</td>\n",
       "      <td>...</td>\n",
       "      <td>...</td>\n",
       "      <td>...</td>\n",
       "      <td>...</td>\n",
       "      <td>...</td>\n",
       "      <td>...</td>\n",
       "      <td>...</td>\n",
       "      <td>...</td>\n",
       "      <td>...</td>\n",
       "      <td>...</td>\n",
       "      <td>...</td>\n",
       "      <td>...</td>\n",
       "      <td>...</td>\n",
       "      <td>...</td>\n",
       "      <td>...</td>\n",
       "      <td>...</td>\n",
       "    </tr>\n",
       "    <tr>\n",
       "      <th>123995</th>\n",
       "      <td>0</td>\n",
       "      <td>0</td>\n",
       "      <td>0</td>\n",
       "      <td>0</td>\n",
       "      <td>0</td>\n",
       "      <td>0</td>\n",
       "      <td>0</td>\n",
       "      <td>0</td>\n",
       "      <td>0</td>\n",
       "      <td>0</td>\n",
       "      <td>...</td>\n",
       "      <td>0</td>\n",
       "      <td>0</td>\n",
       "      <td>0</td>\n",
       "      <td>0</td>\n",
       "      <td>0</td>\n",
       "      <td>2</td>\n",
       "      <td>0</td>\n",
       "      <td>0</td>\n",
       "      <td>0</td>\n",
       "      <td>0</td>\n",
       "    </tr>\n",
       "    <tr>\n",
       "      <th>123996</th>\n",
       "      <td>0</td>\n",
       "      <td>0</td>\n",
       "      <td>0</td>\n",
       "      <td>0</td>\n",
       "      <td>0</td>\n",
       "      <td>0</td>\n",
       "      <td>0</td>\n",
       "      <td>0</td>\n",
       "      <td>0</td>\n",
       "      <td>0</td>\n",
       "      <td>...</td>\n",
       "      <td>0</td>\n",
       "      <td>0</td>\n",
       "      <td>0</td>\n",
       "      <td>0</td>\n",
       "      <td>0</td>\n",
       "      <td>0</td>\n",
       "      <td>0</td>\n",
       "      <td>0</td>\n",
       "      <td>0</td>\n",
       "      <td>0</td>\n",
       "    </tr>\n",
       "    <tr>\n",
       "      <th>123997</th>\n",
       "      <td>0</td>\n",
       "      <td>0</td>\n",
       "      <td>0</td>\n",
       "      <td>0</td>\n",
       "      <td>0</td>\n",
       "      <td>0</td>\n",
       "      <td>0</td>\n",
       "      <td>0</td>\n",
       "      <td>0</td>\n",
       "      <td>0</td>\n",
       "      <td>...</td>\n",
       "      <td>0</td>\n",
       "      <td>0</td>\n",
       "      <td>0</td>\n",
       "      <td>0</td>\n",
       "      <td>0</td>\n",
       "      <td>0</td>\n",
       "      <td>0</td>\n",
       "      <td>0</td>\n",
       "      <td>0</td>\n",
       "      <td>0</td>\n",
       "    </tr>\n",
       "    <tr>\n",
       "      <th>123998</th>\n",
       "      <td>0</td>\n",
       "      <td>0</td>\n",
       "      <td>0</td>\n",
       "      <td>0</td>\n",
       "      <td>0</td>\n",
       "      <td>0</td>\n",
       "      <td>0</td>\n",
       "      <td>0</td>\n",
       "      <td>0</td>\n",
       "      <td>0</td>\n",
       "      <td>...</td>\n",
       "      <td>1</td>\n",
       "      <td>0</td>\n",
       "      <td>0</td>\n",
       "      <td>0</td>\n",
       "      <td>0</td>\n",
       "      <td>0</td>\n",
       "      <td>1</td>\n",
       "      <td>0</td>\n",
       "      <td>1</td>\n",
       "      <td>1</td>\n",
       "    </tr>\n",
       "    <tr>\n",
       "      <th>123999</th>\n",
       "      <td>0</td>\n",
       "      <td>0</td>\n",
       "      <td>0</td>\n",
       "      <td>0</td>\n",
       "      <td>0</td>\n",
       "      <td>0</td>\n",
       "      <td>0</td>\n",
       "      <td>0</td>\n",
       "      <td>0</td>\n",
       "      <td>0</td>\n",
       "      <td>...</td>\n",
       "      <td>0</td>\n",
       "      <td>0</td>\n",
       "      <td>0</td>\n",
       "      <td>0</td>\n",
       "      <td>0</td>\n",
       "      <td>0</td>\n",
       "      <td>0</td>\n",
       "      <td>0</td>\n",
       "      <td>0</td>\n",
       "      <td>0</td>\n",
       "    </tr>\n",
       "  </tbody>\n",
       "</table>\n",
       "<p>124000 rows × 416 columns</p>\n",
       "</div>"
      ],
      "text/plain": [
       "        accordance  accumulation  adequate  adequately  air  allergen  \\\n",
       "0                0             0         0           0    1         0   \n",
       "1                0             0         0           0    0         0   \n",
       "2                0             0         0           0    0         0   \n",
       "3                0             0         0           0    0         0   \n",
       "4                0             0         0           0    0         0   \n",
       "...            ...           ...       ...         ...  ...       ...   \n",
       "123995           0             0         0           0    0         0   \n",
       "123996           0             0         0           0    0         0   \n",
       "123997           0             0         0           0    0         0   \n",
       "123998           0             0         0           0    0         0   \n",
       "123999           0             0         0           0    0         0   \n",
       "\n",
       "        area clean  area instructed  areas  articles  ...  wall  walls  \\\n",
       "0                0                0      0         0  ...     1      3   \n",
       "1                0                0      0         0  ...     2      2   \n",
       "2                0                0      0         0  ...     0      0   \n",
       "3                0                0      0         0  ...     1      0   \n",
       "4                0                0      1         0  ...     0      0   \n",
       "...            ...              ...    ...       ...  ...   ...    ...   \n",
       "123995           0                0      0         0  ...     0      0   \n",
       "123996           0                0      0         0  ...     0      0   \n",
       "123997           0                0      0         0  ...     0      0   \n",
       "123998           0                0      0         0  ...     1      0   \n",
       "123999           0                0      0         0  ...     0      0   \n",
       "\n",
       "        walls ceilings  walls ceilings shall  walls ceilings shall good  wash  \\\n",
       "0                    1                     1                          1     2   \n",
       "1                    0                     0                          0     0   \n",
       "2                    0                     0                          0     0   \n",
       "3                    0                     0                          0     0   \n",
       "4                    0                     0                          0     0   \n",
       "...                ...                   ...                        ...   ...   \n",
       "123995               0                     0                          0     2   \n",
       "123996               0                     0                          0     0   \n",
       "123997               0                     0                          0     0   \n",
       "123998               0                     0                          0     0   \n",
       "123999               0                     0                          0     0   \n",
       "\n",
       "        washing  washroom  water  working  \n",
       "0             0         0      0        0  \n",
       "1             0         0      0        0  \n",
       "2             0         0      1        0  \n",
       "3             7         1      0        0  \n",
       "4             0         0      0        0  \n",
       "...         ...       ...    ...      ...  \n",
       "123995        0         0      0        0  \n",
       "123996        0         0      0        0  \n",
       "123997        0         0      0        0  \n",
       "123998        1         0      1        1  \n",
       "123999        0         0      0        0  \n",
       "\n",
       "[124000 rows x 416 columns]"
      ]
     },
     "execution_count": 978,
     "metadata": {},
     "output_type": "execute_result"
    }
   ],
   "source": [
    "countvectorizer_matrix = vect_optimized.fit_transform(X_train)\n",
    "countvectorizer_matrix_df = pd.DataFrame(countvectorizer_matrix.toarray(), columns=vect_optimized.get_feature_names())\n",
    "countvectorizer_matrix_df"
   ]
  },
  {
   "cell_type": "code",
   "execution_count": 979,
   "metadata": {},
   "outputs": [],
   "source": [
    "# equivalently: combine fit and transform into a single step\n",
    "X_train_dtm = vect_optimized.fit_transform(X_train)\n",
    "X_test_dtm = vect_optimized.transform(X_test)\n"
   ]
  },
  {
   "cell_type": "code",
   "execution_count": 980,
   "metadata": {},
   "outputs": [
    {
     "name": "stdout",
     "output_type": "stream",
     "text": [
      "CPU times: user 27.4 s, sys: 187 ms, total: 27.6 s\n",
      "Wall time: 27.7 s\n",
      "0.896551724137931\n"
     ]
    },
    {
     "name": "stderr",
     "output_type": "stream",
     "text": [
      "/Users/stephenstark/opt/anaconda3/lib/python3.7/site-packages/sklearn/linear_model/_logistic.py:940: ConvergenceWarning: lbfgs failed to converge (status=1):\n",
      "STOP: TOTAL NO. of ITERATIONS REACHED LIMIT.\n",
      "\n",
      "Increase the number of iterations (max_iter) or scale the data as shown in:\n",
      "    https://scikit-learn.org/stable/modules/preprocessing.html\n",
      "Please also refer to the documentation for alternative solver options:\n",
      "    https://scikit-learn.org/stable/modules/linear_model.html#logistic-regression\n",
      "  extra_warning_msg=_LOGISTIC_SOLVER_CONVERGENCE_MSG)\n"
     ]
    }
   ],
   "source": [
    "#Logistitc Regression\n",
    "model = LogisticRegression(max_iter=500)\n",
    "%time model.fit(X_train_dtm, y_train)\n",
    "\n",
    "# make class predictions for X_test_dtm\n",
    "y_pred_class = model.predict(X_test_dtm)\n",
    "\n",
    "# calculate accuracy of class predictions\n",
    "print(metrics.accuracy_score(y_test, y_pred_class))"
   ]
  },
  {
   "cell_type": "code",
   "execution_count": 981,
   "metadata": {},
   "outputs": [
    {
     "name": "stdout",
     "output_type": "stream",
     "text": [
      "              precision    recall  f1-score   support\n",
      "\n",
      "           0       0.94      0.99      0.96     17151\n",
      "           1       0.85      0.77      0.81      7561\n",
      "           2       0.83      0.81      0.82      6289\n",
      "\n",
      "    accuracy                           0.90     31001\n",
      "   macro avg       0.87      0.85      0.86     31001\n",
      "weighted avg       0.89      0.90      0.89     31001\n",
      "\n"
     ]
    }
   ],
   "source": [
    "# calculate precision and recall\n",
    "print(classification_report(y_test, y_pred_class))"
   ]
  },
  {
   "cell_type": "code",
   "execution_count": 982,
   "metadata": {},
   "outputs": [
    {
     "name": "stdout",
     "output_type": "stream",
     "text": [
      "              precision    recall  f1-score   support\n",
      "\n",
      "           0       0.94      0.99      0.96     68603\n",
      "           1       0.85      0.76      0.80     30243\n",
      "           2       0.82      0.81      0.82     25154\n",
      "\n",
      "    accuracy                           0.90    124000\n",
      "   macro avg       0.87      0.85      0.86    124000\n",
      "weighted avg       0.89      0.90      0.89    124000\n",
      "\n"
     ]
    }
   ],
   "source": [
    "#Check for over fitting\n",
    "y_pred_class_train = model.predict(X_train_dtm)\n",
    "print(classification_report(y_train, y_pred_class_train))"
   ]
  },
  {
   "cell_type": "code",
   "execution_count": 983,
   "metadata": {},
   "outputs": [
    {
     "data": {
      "text/plain": [
       "Text(95.72222222222221, 0.5, 'Actual')"
      ]
     },
     "execution_count": 983,
     "metadata": {},
     "output_type": "execute_result"
    },
    {
     "data": {
      "image/png": "[encoded data removed]",
      "text/plain": [
       "<Figure size 1000x700 with 2 Axes>"
      ]
     },
     "metadata": {},
     "output_type": "display_data"
    }
   ],
   "source": [
    "cnf_matrix_test = confusion_matrix (y_test, y_pred_class)\n",
    "\n",
    "import seaborn as sns\n",
    "\n",
    "plt.figure(figsize = (10,7))\n",
    "sns.heatmap(cnf_matrix_test, annot=True, cmap=\"YlGnBu\", fmt='g')\n",
    "plt.xlabel('Predicted')\n",
    "plt.ylabel('Actual')"
   ]
  },
  {
   "cell_type": "code",
   "execution_count": null,
   "metadata": {},
   "outputs": [],
   "source": []
  },
  {
   "cell_type": "markdown",
   "metadata": {},
   "source": [
    "### 7. Troubleshoot"
   ]
  },
  {
   "cell_type": "code",
   "execution_count": 984,
   "metadata": {},
   "outputs": [],
   "source": [
    "X_test_df = pd.DataFrame(X_test)\n",
    "X_test_df.reset_index(inplace=True, drop=True)\n",
    "\n",
    "y_test_df = pd.DataFrame(y_test)\n",
    "y_test_df.reset_index(inplace=True, drop=True)"
   ]
  },
  {
   "cell_type": "code",
   "execution_count": 985,
   "metadata": {},
   "outputs": [],
   "source": [
    "y_pred_prob = model.predict_proba(X_test_dtm)\n",
    "y_pred_class = model.predict(X_test_dtm)"
   ]
  },
  {
   "cell_type": "code",
   "execution_count": 986,
   "metadata": {},
   "outputs": [],
   "source": [
    "y_pred_prob_df = pd.DataFrame(y_pred_prob)\n",
    "y_pred_prob_df.columns = ['0-prob', '1-prob', '2-prob']\n",
    "\n",
    "y_pred_class_df = pd.DataFrame(y_pred_class)\n",
    "y_pred_class_df.columns = ['predicted']"
   ]
  },
  {
   "cell_type": "code",
   "execution_count": 987,
   "metadata": {},
   "outputs": [],
   "source": [
    "results_df = X_test_df.join(y_test_df).join(y_pred_class_df).join(y_pred_prob_df)"
   ]
  },
  {
   "cell_type": "code",
   "execution_count": 988,
   "metadata": {},
   "outputs": [
    {
     "data": {
      "text/plain": [
       "(2244, 6)"
      ]
     },
     "execution_count": 988,
     "metadata": {},
     "output_type": "execute_result"
    }
   ],
   "source": [
    "results_review_df = results_df[(results_df['0-prob'] < 0.6) & (results_df['1-prob'] < 0.6) & (results_df['2-prob'] < 0.6)]\n",
    "results_review_df.shape"
   ]
  },
  {
   "cell_type": "code",
   "execution_count": 989,
   "metadata": {},
   "outputs": [],
   "source": [
    "pd.set_option('display.max_colwidth', 1000)"
   ]
  },
  {
   "cell_type": "code",
   "execution_count": 990,
   "metadata": {},
   "outputs": [
    {
     "data": {
      "text/html": [
       "<div>\n",
       "<style scoped>\n",
       "    .dataframe tbody tr th:only-of-type {\n",
       "        vertical-align: middle;\n",
       "    }\n",
       "\n",
       "    .dataframe tbody tr th {\n",
       "        vertical-align: top;\n",
       "    }\n",
       "\n",
       "    .dataframe thead th {\n",
       "        text-align: right;\n",
       "    }\n",
       "</style>\n",
       "<table border=\"1\" class=\"dataframe\">\n",
       "  <thead>\n",
       "    <tr style=\"text-align: right;\">\n",
       "      <th></th>\n",
       "      <th>violations</th>\n",
       "      <th>results_flag</th>\n",
       "      <th>predicted</th>\n",
       "      <th>0-prob</th>\n",
       "      <th>1-prob</th>\n",
       "      <th>2-prob</th>\n",
       "    </tr>\n",
       "  </thead>\n",
       "  <tbody>\n",
       "    <tr>\n",
       "      <th>2</th>\n",
       "      <td>WALK IN COOLER IN REAR NOT OPERABLECONNECTED AT THIS TIMEMUST HAVE COOLER CONNECTEDMAINTAINING F OR BELOW  CRITICAL VIOLATION A    NO EXPOSED HAND SINK IN REAR PREPDISH WASING AREAMUST INSTALL TO CITY PLUMBING WITH HOTCOLD WATER AND HAND DRYING DEVICE  CRITICAL VIOLATION     OBSERVED HOT FOOD ARE  NOT PROTECTED FROM PUBLICMUST INTALL BARRIER AT COOLERS AND FRONT ENTRANCE AREA SERIOUS VIOLATION A    NO CITY OF CHICAGO FOOD SANITATION CERTIFICATE PROVIDED FOR MANAGER AT THIS TIMEMUST PROVIDE  SERIOUS VIOLATION      NO WATER AT HAND SINKINADEQUATE HAND WASHING FACILITIESND WASHROOM NOT ACCESSIBLE FOR INSPECTION ATTHIS TIMEMUST PROVIDE AT NEXT INSPECTION    THE FOLLOWING NOT CLEAN OF DEBRISOR PAINTETCINTERIOR EXTERIOR OF ICE MACHINECOMP SINKDINING ROOM TABLES WALK IN COOLERSPREP TABLESSINKINSTRUCTED TO CLEANMAINTAIN    DEBRIS ON FLOORS IN MOP ROOM AND BEHIND COOKING EQUIPMENTMUST CLEANMAINTAIN    OPENINGSGAPS ALONG WALLCEILING AREASMUST SEALREPAIR TO PREVENT HIDING AREAS FOR INSECTS ...</td>\n",
       "      <td>1</td>\n",
       "      <td>1</td>\n",
       "      <td>2.045684e-09</td>\n",
       "      <td>0.561452</td>\n",
       "      <td>0.438548</td>\n",
       "    </tr>\n",
       "    <tr>\n",
       "      <th>7</th>\n",
       "      <td>OBSERVED NO EXPOSED HAND SINK IN THE BASEMENT PREP AREA MUST INSTALL HAND SINK WITH HOT  COLD RUNNING WATER SOAP AND PAPER TOWELS CRITICAL VIOLATION     MUST INSTALL SPLASH GUARD BETWEEN THE HAND SINK AND COMP PREP SINK IN ST FLOOR PREP AREA AND SEAL OR PAINT RAW WOOD SERVICE COUNTER IN SAID AREA     MUST REPAIR CRACKED FLOOR TILES IN DINING AREA SURFACE MUST BE SMOOTH AND EASILY CLEANABLE ALSO CLEAN DEBRIS FROM FLOOR THROUGHOUT BASEMENT AND FURNACE CLOSET    MUST REPAIR HOLE IN WALL UNDER STORAGE RACKS NEAR OFFICESTORAGE ROOM IN BASEMENT ALSO REPAIR PEELING PAINT FROM CEILING IN BASEMENT SURFACE MUST BE SMOOTH AND EASILY CLEANABLE     MUST INSTALL SELFCLOSING DEVICE ON EMPLOYEE TOILET ROOM IN BASEMENT     MUST PROVIDE HOOKS FOR WET MOPS  BROOM STORAGE</td>\n",
       "      <td>1</td>\n",
       "      <td>1</td>\n",
       "      <td>1.570072e-02</td>\n",
       "      <td>0.520521</td>\n",
       "      <td>0.463779</td>\n",
       "    </tr>\n",
       "    <tr>\n",
       "      <th>21</th>\n",
       "      <td>found outside garbage area unclean with overflowing garbage and open lids Serious violation citation issued    found no self closing door in restroom    Found leaky drainage pipe at handsink</td>\n",
       "      <td>1</td>\n",
       "      <td>1</td>\n",
       "      <td>5.477929e-02</td>\n",
       "      <td>0.503633</td>\n",
       "      <td>0.441588</td>\n",
       "    </tr>\n",
       "    <tr>\n",
       "      <th>22</th>\n",
       "      <td>Food ice for consumption not protected during storage Upper interior of icesoda dispensing machine with large amount of black slimy mold like substance in ice tray and area along left side interior Must detail clean machine and sanitize Serious violation a     Found door on west side of restaurant with  gap along bottom edge All doors must be tight fitting to prevent pest entry Must repair Serious violation</td>\n",
       "      <td>1</td>\n",
       "      <td>0</td>\n",
       "      <td>5.065729e-01</td>\n",
       "      <td>0.309175</td>\n",
       "      <td>0.184252</td>\n",
       "    </tr>\n",
       "    <tr>\n",
       "      <th>63</th>\n",
       "      <td>SEAL SMALL OPENING ALONG THE TOP OF THE REAR EXIT DOOR LEADING TO THE OUTSIDE       MUST DETAIL CLEAN AND SANITIZE ALL CUBBIE HOLES AND TOYS MUST CLEAN INTEIOR OF KITCHEN CABINETSREFRIGERATION UNITSTOVEWINDOW SILLS THROUGHOUT ALL CLASSROOMSWALLS AND ALL DUSTY AND DIRTY SURFACES      MUST DETAIL CLEAN FLOORS BEHIND STOVE AND REFRIGERATION UNIT IN KITCHENBEHIND CUBBIE HOLES IN CLASSROOM AND CLEAN ALL DIRTY AREA RUGS       MUST REMOVE DUST BUILD UP FROM VENTILATION FANS IN ALL WASHROOMS MUST ALSO REPAIR ST VENTILATION FAN IN MIDDLE WASHROOM     MUST REMOVE ALL CLUTTER FROM OUTSIDE STORAGE AREAFROM REAR OF WEST CLASSROOM AND THROUGHOUT WHERE NEEDED</td>\n",
       "      <td>0</td>\n",
       "      <td>0</td>\n",
       "      <td>5.776002e-01</td>\n",
       "      <td>0.360176</td>\n",
       "      <td>0.062224</td>\n",
       "    </tr>\n",
       "    <tr>\n",
       "      <th>82</th>\n",
       "      <td>Observed a black moldlike substance on the interior portions of the ice machine Instructed facility to clean sanitize and maintain Serious citation issued a</td>\n",
       "      <td>1</td>\n",
       "      <td>2</td>\n",
       "      <td>1.909773e-01</td>\n",
       "      <td>0.341600</td>\n",
       "      <td>0.467423</td>\n",
       "    </tr>\n",
       "    <tr>\n",
       "      <th>97</th>\n",
       "      <td>All cold food shall be stored at a temperature of F or less  FOUND POTENTIALLY HAZARDOUS FOODS AT IMPROPER TEMPERATURECRITICAL VIOLATIONCITATION ISSUEDCHOCO MILK AT F  PCS OF  PINT EACH MILK F PCS OF  PINT LBS LIQUID EGGS  AT FMANAGER DISCARDED THE FOODINSTRUCTED  COLD FOOD MUST BE F OR BELOW    The floors shall be constructed per code be smooth and easily cleaned and be kept clean and in good repair  FLOOR AT THE REAR AREA BELOW SODA CONNECTION UNCLEANMUST CLEAN AND MAINTAINFLOOR INSIDE WALK IN COOLER AND WALK IN FREEZER BASEMENT UNCLEANMUST CLEAN AND MAINTAIN    The walls and ceilings shall be in good repair and easily cleaned  DAMAGED WALLS  NEAR DOOR IN THE STORAGE BASEMENT MUST BE FIXED  WALLS AND CEILINGS ABOVE COOKING AREA WITH ACCUMULATED DUSTMUST CLEAN AND MAINTAIN    All food establishments that display prepare or store potentially hazardous foods shall have calibrated metal stem thermometers provided and conspicuous for refrigerated and hot food units  MUST PROVIDE THE...</td>\n",
       "      <td>2</td>\n",
       "      <td>2</td>\n",
       "      <td>2.370808e-01</td>\n",
       "      <td>0.199491</td>\n",
       "      <td>0.563428</td>\n",
       "    </tr>\n",
       "    <tr>\n",
       "      <th>121</th>\n",
       "      <td>When toilet and lavatory facilities are provided for the patrons of food establishments such facilities shall be adequate in number convenient accessible properly designed and installed according to the municipal codeHANDSINK IN POOR REPAIR PTRAP LEAKING INTO A BUCKET SLOW DRAINING    Containers and utensils shall be inverted covered or otherwise protected from contamination until used  All singleservice drinking straws and containers shall be discarded immediately after useFOUND FORKS NOT PROPERLY STORED NEED TO STORE HANDLE UP INVERT    The walls and ceilings shall be in good repair and easily cleanedCLEAN WALLS BEHIND FRYERS FRONT CEILING TILES WATER DAMAGED NEED TO REPLACE AND FRONT CEILING FAN AND VENT DUSTY NEEDS TO BE CLEANED    Shielding to protect against broken glass falling into food shall be provided for all artificial lighting sources in preparation service and display facilitiesREPLACE CRACKED LIGHT SHIELD FRONT</td>\n",
       "      <td>1</td>\n",
       "      <td>1</td>\n",
       "      <td>3.884426e-01</td>\n",
       "      <td>0.459091</td>\n",
       "      <td>0.152466</td>\n",
       "    </tr>\n",
       "    <tr>\n",
       "      <th>150</th>\n",
       "      <td>ALL REFRIGERATION AND HOT HOLDING EQUIPMENT MUST BE ON AND AVAILABLE FOR TESTING  MUST PROVIDE      NO HOT WATER ON SITE AT TIME OF INSPECTION  MUST PROVIDE      NO HANDWASH SINK IN DISHWASHING AREA  MUST PROVIDE      NO OUTSIDE GARBAGE CONTAINER OR CONTRACT ON SITE  MUST PROVIDE</td>\n",
       "      <td>1</td>\n",
       "      <td>2</td>\n",
       "      <td>2.008312e-01</td>\n",
       "      <td>0.378400</td>\n",
       "      <td>0.420769</td>\n",
       "    </tr>\n",
       "    <tr>\n",
       "      <th>155</th>\n",
       "      <td>OBSERVED ALL BASINS OF THE  COMPARTMENT SINK IN THE DISH WASHING ROOM VERY SLOW TO DRAIN AND NOT ADEQUATELY HOLDING WATER IN THE LEFT COMPARTMENT INSTRUCTED TO REPAIR AND MAINTAIN ALL PLUMBING EQUIPMENT TAGGED HELD FOR INSPECTION SERIOUS VIOLATION     OBSERVED THE EXTERIOR OF UPSTAIRS COOKING EQUIPMENT WITH ACCUMULATED GREASE INSTRUCTED TO CLEAN AND MAINTAIN THE EXTERIOR OF COOKING EQUIPMENT    OBSERVED BLOWN LIGHT BULBS IN UPSTAIRS PREP AREA INSTRUCTED TO PROVIDE AND MAINTAIN ADEQUATE LIGHTING</td>\n",
       "      <td>2</td>\n",
       "      <td>2</td>\n",
       "      <td>1.473102e-01</td>\n",
       "      <td>0.308813</td>\n",
       "      <td>0.543876</td>\n",
       "    </tr>\n",
       "  </tbody>\n",
       "</table>\n",
       "</div>"
      ],
      "text/plain": [
       "                                                                                                                                                                                                                                                                                                                                                                                                                                                                                                                                                                                                                                                                                                                                                                                                                                                                                                                                                                                                                                  violations  \\\n",
       "2      WALK IN COOLER IN REAR NOT OPERABLECONNECTED AT THIS TIMEMUST HAVE COOLER CONNECTEDMAINTAINING F OR BELOW  CRITICAL VIOLATION A    NO EXPOSED HAND SINK IN REAR PREPDISH WASING AREAMUST INSTALL TO CITY PLUMBING WITH HOTCOLD WATER AND HAND DRYING DEVICE  CRITICAL VIOLATION     OBSERVED HOT FOOD ARE  NOT PROTECTED FROM PUBLICMUST INTALL BARRIER AT COOLERS AND FRONT ENTRANCE AREA SERIOUS VIOLATION A    NO CITY OF CHICAGO FOOD SANITATION CERTIFICATE PROVIDED FOR MANAGER AT THIS TIMEMUST PROVIDE  SERIOUS VIOLATION      NO WATER AT HAND SINKINADEQUATE HAND WASHING FACILITIESND WASHROOM NOT ACCESSIBLE FOR INSPECTION ATTHIS TIMEMUST PROVIDE AT NEXT INSPECTION    THE FOLLOWING NOT CLEAN OF DEBRISOR PAINTETCINTERIOR EXTERIOR OF ICE MACHINECOMP SINKDINING ROOM TABLES WALK IN COOLERSPREP TABLESSINKINSTRUCTED TO CLEANMAINTAIN    DEBRIS ON FLOORS IN MOP ROOM AND BEHIND COOKING EQUIPMENTMUST CLEANMAINTAIN    OPENINGSGAPS ALONG WALLCEILING AREASMUST SEALREPAIR TO PREVENT HIDING AREAS FOR INSECTS ...   \n",
       "7                                                                                                                                                                                                                                                OBSERVED NO EXPOSED HAND SINK IN THE BASEMENT PREP AREA MUST INSTALL HAND SINK WITH HOT  COLD RUNNING WATER SOAP AND PAPER TOWELS CRITICAL VIOLATION     MUST INSTALL SPLASH GUARD BETWEEN THE HAND SINK AND COMP PREP SINK IN ST FLOOR PREP AREA AND SEAL OR PAINT RAW WOOD SERVICE COUNTER IN SAID AREA     MUST REPAIR CRACKED FLOOR TILES IN DINING AREA SURFACE MUST BE SMOOTH AND EASILY CLEANABLE ALSO CLEAN DEBRIS FROM FLOOR THROUGHOUT BASEMENT AND FURNACE CLOSET    MUST REPAIR HOLE IN WALL UNDER STORAGE RACKS NEAR OFFICESTORAGE ROOM IN BASEMENT ALSO REPAIR PEELING PAINT FROM CEILING IN BASEMENT SURFACE MUST BE SMOOTH AND EASILY CLEANABLE     MUST INSTALL SELFCLOSING DEVICE ON EMPLOYEE TOILET ROOM IN BASEMENT     MUST PROVIDE HOOKS FOR WET MOPS  BROOM STORAGE    \n",
       "21                                                                                                                                                                                                                                                                                                                                                                                                                                                                                                                                                                                                                                                                                                                                                                                                                                           found outside garbage area unclean with overflowing garbage and open lids Serious violation citation issued    found no self closing door in restroom    Found leaky drainage pipe at handsink    \n",
       "22                                                                                                                                                                                                                                                                                                                                                                                                                                                                                                                                                                                                              Food ice for consumption not protected during storage Upper interior of icesoda dispensing machine with large amount of black slimy mold like substance in ice tray and area along left side interior Must detail clean machine and sanitize Serious violation a     Found door on west side of restaurant with  gap along bottom edge All doors must be tight fitting to prevent pest entry Must repair Serious violation     \n",
       "63                                                                                                                                                                                                                                                                                                                                                             SEAL SMALL OPENING ALONG THE TOP OF THE REAR EXIT DOOR LEADING TO THE OUTSIDE       MUST DETAIL CLEAN AND SANITIZE ALL CUBBIE HOLES AND TOYS MUST CLEAN INTEIOR OF KITCHEN CABINETSREFRIGERATION UNITSTOVEWINDOW SILLS THROUGHOUT ALL CLASSROOMSWALLS AND ALL DUSTY AND DIRTY SURFACES      MUST DETAIL CLEAN FLOORS BEHIND STOVE AND REFRIGERATION UNIT IN KITCHENBEHIND CUBBIE HOLES IN CLASSROOM AND CLEAN ALL DIRTY AREA RUGS       MUST REMOVE DUST BUILD UP FROM VENTILATION FANS IN ALL WASHROOMS MUST ALSO REPAIR ST VENTILATION FAN IN MIDDLE WASHROOM     MUST REMOVE ALL CLUTTER FROM OUTSIDE STORAGE AREAFROM REAR OF WEST CLASSROOM AND THROUGHOUT WHERE NEEDED    \n",
       "82                                                                                                                                                                                                                                                                                                                                                                                                                                                                                                                                                                                                                                                                                                                                                                                                                                                                             Observed a black moldlike substance on the interior portions of the ice machine Instructed facility to clean sanitize and maintain Serious citation issued a    \n",
       "97     All cold food shall be stored at a temperature of F or less  FOUND POTENTIALLY HAZARDOUS FOODS AT IMPROPER TEMPERATURECRITICAL VIOLATIONCITATION ISSUEDCHOCO MILK AT F  PCS OF  PINT EACH MILK F PCS OF  PINT LBS LIQUID EGGS  AT FMANAGER DISCARDED THE FOODINSTRUCTED  COLD FOOD MUST BE F OR BELOW    The floors shall be constructed per code be smooth and easily cleaned and be kept clean and in good repair  FLOOR AT THE REAR AREA BELOW SODA CONNECTION UNCLEANMUST CLEAN AND MAINTAINFLOOR INSIDE WALK IN COOLER AND WALK IN FREEZER BASEMENT UNCLEANMUST CLEAN AND MAINTAIN    The walls and ceilings shall be in good repair and easily cleaned  DAMAGED WALLS  NEAR DOOR IN THE STORAGE BASEMENT MUST BE FIXED  WALLS AND CEILINGS ABOVE COOKING AREA WITH ACCUMULATED DUSTMUST CLEAN AND MAINTAIN    All food establishments that display prepare or store potentially hazardous foods shall have calibrated metal stem thermometers provided and conspicuous for refrigerated and hot food units  MUST PROVIDE THE...   \n",
       "121                                                             When toilet and lavatory facilities are provided for the patrons of food establishments such facilities shall be adequate in number convenient accessible properly designed and installed according to the municipal codeHANDSINK IN POOR REPAIR PTRAP LEAKING INTO A BUCKET SLOW DRAINING    Containers and utensils shall be inverted covered or otherwise protected from contamination until used  All singleservice drinking straws and containers shall be discarded immediately after useFOUND FORKS NOT PROPERLY STORED NEED TO STORE HANDLE UP INVERT    The walls and ceilings shall be in good repair and easily cleanedCLEAN WALLS BEHIND FRYERS FRONT CEILING TILES WATER DAMAGED NEED TO REPLACE AND FRONT CEILING FAN AND VENT DUSTY NEEDS TO BE CLEANED    Shielding to protect against broken glass falling into food shall be provided for all artificial lighting sources in preparation service and display facilitiesREPLACE CRACKED LIGHT SHIELD FRONT    \n",
       "150                                                                                                                                                                                                                                                                                                                                                                                                                                                                                                                                                                                                                                                                                                                                                ALL REFRIGERATION AND HOT HOLDING EQUIPMENT MUST BE ON AND AVAILABLE FOR TESTING  MUST PROVIDE      NO HOT WATER ON SITE AT TIME OF INSPECTION  MUST PROVIDE      NO HANDWASH SINK IN DISHWASHING AREA  MUST PROVIDE      NO OUTSIDE GARBAGE CONTAINER OR CONTRACT ON SITE  MUST PROVIDE    \n",
       "155                                                                                                                                                                                                                                                                                                                                                                                                                                                                                                                     OBSERVED ALL BASINS OF THE  COMPARTMENT SINK IN THE DISH WASHING ROOM VERY SLOW TO DRAIN AND NOT ADEQUATELY HOLDING WATER IN THE LEFT COMPARTMENT INSTRUCTED TO REPAIR AND MAINTAIN ALL PLUMBING EQUIPMENT TAGGED HELD FOR INSPECTION SERIOUS VIOLATION     OBSERVED THE EXTERIOR OF UPSTAIRS COOKING EQUIPMENT WITH ACCUMULATED GREASE INSTRUCTED TO CLEAN AND MAINTAIN THE EXTERIOR OF COOKING EQUIPMENT    OBSERVED BLOWN LIGHT BULBS IN UPSTAIRS PREP AREA INSTRUCTED TO PROVIDE AND MAINTAIN ADEQUATE LIGHTING    \n",
       "\n",
       "     results_flag  predicted        0-prob    1-prob    2-prob  \n",
       "2               1          1  2.045684e-09  0.561452  0.438548  \n",
       "7               1          1  1.570072e-02  0.520521  0.463779  \n",
       "21              1          1  5.477929e-02  0.503633  0.441588  \n",
       "22              1          0  5.065729e-01  0.309175  0.184252  \n",
       "63              0          0  5.776002e-01  0.360176  0.062224  \n",
       "82              1          2  1.909773e-01  0.341600  0.467423  \n",
       "97              2          2  2.370808e-01  0.199491  0.563428  \n",
       "121             1          1  3.884426e-01  0.459091  0.152466  \n",
       "150             1          2  2.008312e-01  0.378400  0.420769  \n",
       "155             2          2  1.473102e-01  0.308813  0.543876  "
      ]
     },
     "execution_count": 990,
     "metadata": {},
     "output_type": "execute_result"
    }
   ],
   "source": [
    "results_review_df.head(10)"
   ]
  },
  {
   "cell_type": "markdown",
   "metadata": {},
   "source": [
    "# Summary\n",
    "I decided to perform a multi-class classification analysis.  I narrowed my dataset to pass, fail, or pass w/ conditions due to the sufficiency of data. It appears the logistic regression had the best performance of the three models I demonstrated above. The original logisitc regression actually performed better than the one I attempted to optimize. It had a test accuracy of 92%.  The model showed slight signs of overfitting as train accuracy was 96%. Precision and recall for test were 92% for each. Precision was 96% for class 0 (pass), 87% for class 1 (fail) and 86% for class 2 (pass w/ conditions). Furthermore we know f-1 scores are the weighted averaged of precision and recall. F1 scores of 98%, 86%, and 85%, for the same classes listed previously. The model clearly is able to accuractely identify pass recommendations but struggles a little more with fail and pass with conditions, which makes sense intuitively. the F1 scores show slightly more signs of overfitting so I would attempt to adjust that in my parameter tuning. This is out of scope for this analysis, but perhaps I would do some sort of grid search or random search to approximate better parameter values.\n",
    "* **Pre-processing** For text pre-processing, I decided that we needed to remove stopwords for this analysis. They are noise and do not contribute to the signal of the prediction. I also removed all the digits as again I believe they were more of a distraction. Also, within CountVectorizer, I included parameters to lowercase all words an\n",
    "* **Train/Test Split** I noticed a considerable class imbalance in the dataset between the three values. I made sure to stratify my sampling in train test split to ensure the train samples and test samples resembled the population of the dataset. Another thing I considered doing but did not as it was out of scope for this analysis was training my model on an equal split data using an under-sampling or oversampling approach. This would give the model a fair chance to fully train each class equally as opposed to seeing more data of the dominate class.\n"
   ]
  },
  {
   "cell_type": "markdown",
   "metadata": {},
   "source": [
    "<a id='end'> </a>"
   ]
  },
  {
   "cell_type": "code",
   "execution_count": null,
   "metadata": {},
   "outputs": [],
   "source": []
  },
  {
   "cell_type": "code",
   "execution_count": null,
   "metadata": {},
   "outputs": [],
   "source": []
  },
  {
   "cell_type": "code",
   "execution_count": null,
   "metadata": {},
   "outputs": [],
   "source": []
  },
  {
   "cell_type": "markdown",
   "metadata": {},
   "source": [
    "# Scratch"
   ]
  },
  {
   "cell_type": "code",
   "execution_count": 58,
   "metadata": {},
   "outputs": [
    {
     "data": {
      "text/html": [
       "<div>\n",
       "<style scoped>\n",
       "    .dataframe tbody tr th:only-of-type {\n",
       "        vertical-align: middle;\n",
       "    }\n",
       "\n",
       "    .dataframe tbody tr th {\n",
       "        vertical-align: top;\n",
       "    }\n",
       "\n",
       "    .dataframe thead th {\n",
       "        text-align: right;\n",
       "    }\n",
       "</style>\n",
       "<table border=\"1\" class=\"dataframe\">\n",
       "  <thead>\n",
       "    <tr style=\"text-align: right;\">\n",
       "      <th></th>\n",
       "      <th>Inspection ID</th>\n",
       "      <th>DBA Name</th>\n",
       "      <th>AKA Name</th>\n",
       "      <th>License #</th>\n",
       "      <th>Facility Type</th>\n",
       "      <th>Risk</th>\n",
       "      <th>Address</th>\n",
       "      <th>City</th>\n",
       "      <th>State</th>\n",
       "      <th>Zip</th>\n",
       "      <th>Inspection Date</th>\n",
       "      <th>Inspection Type</th>\n",
       "      <th>Results</th>\n",
       "      <th>Violations</th>\n",
       "      <th>Latitude</th>\n",
       "      <th>Longitude</th>\n",
       "      <th>Location</th>\n",
       "    </tr>\n",
       "  </thead>\n",
       "  <tbody>\n",
       "    <tr>\n",
       "      <th>35711</th>\n",
       "      <td>2313093</td>\n",
       "      <td>The Indian Garden Restaurant</td>\n",
       "      <td>The Indian Garden Restaurant</td>\n",
       "      <td>1646652.0</td>\n",
       "      <td>Restaurant</td>\n",
       "      <td>Risk 1 (High)</td>\n",
       "      <td>247 E ONTARIO ST</td>\n",
       "      <td>CHICAGO</td>\n",
       "      <td>IL</td>\n",
       "      <td>60611.0</td>\n",
       "      <td>09/30/2019</td>\n",
       "      <td>Canvass</td>\n",
       "      <td>Fail</td>\n",
       "      <td>38. INSECTS, RODENTS, &amp; ANIMALS NOT PRESENT - Comments: FOUND 5 LIVE COCKROACHES BEHIND FOOD STORAGE SHELVES AND MOP CLOSET, INSTRUCTED TO ELIMINATE INSECTS ACTIVITY IN ALL AFFECTED AREAS, PEST CONTROL SERVICE RECOMMENDED. PRIORITY FOUNDATION VIOLATION 7-38-020(A) | 43. IN-USE UTENSILS: PROPERLY STORED - Comments: KNIVES WEDGED BETWEEN 3-COMP SINK AND TABLE, INSTRUCTED TO KEEP IN A CLEAN SURFACE. | 55. PHYSICAL FACILITIES INSTALLED, MAINTAINED &amp; CLEAN - Comments: CRACKS AND CREVICES NOTED THROUGH OUT KITCHEN AND DRY STORAGE ROOM. INSTRUCTED TO SEAL.</td>\n",
       "      <td>41.893272</td>\n",
       "      <td>-87.621469</td>\n",
       "      <td>(-87.62146879561675, 41.8932723034826)</td>\n",
       "    </tr>\n",
       "  </tbody>\n",
       "</table>\n",
       "</div>"
      ],
      "text/plain": [
       "       Inspection ID                      DBA Name  \\\n",
       "35711        2313093  The Indian Garden Restaurant   \n",
       "\n",
       "                           AKA Name  License # Facility Type           Risk  \\\n",
       "35711  The Indian Garden Restaurant  1646652.0    Restaurant  Risk 1 (High)   \n",
       "\n",
       "                 Address     City State      Zip Inspection Date  \\\n",
       "35711  247 E ONTARIO ST   CHICAGO    IL  60611.0      09/30/2019   \n",
       "\n",
       "      Inspection Type Results  \\\n",
       "35711         Canvass    Fail   \n",
       "\n",
       "                                                                                                                                                                                                                                                                                                                                                                                                                                                                                                                                                                        Violations  \\\n",
       "35711  38. INSECTS, RODENTS, & ANIMALS NOT PRESENT - Comments: FOUND 5 LIVE COCKROACHES BEHIND FOOD STORAGE SHELVES AND MOP CLOSET, INSTRUCTED TO ELIMINATE INSECTS ACTIVITY IN ALL AFFECTED AREAS, PEST CONTROL SERVICE RECOMMENDED. PRIORITY FOUNDATION VIOLATION 7-38-020(A) | 43. IN-USE UTENSILS: PROPERLY STORED - Comments: KNIVES WEDGED BETWEEN 3-COMP SINK AND TABLE, INSTRUCTED TO KEEP IN A CLEAN SURFACE. | 55. PHYSICAL FACILITIES INSTALLED, MAINTAINED & CLEAN - Comments: CRACKS AND CREVICES NOTED THROUGH OUT KITCHEN AND DRY STORAGE ROOM. INSTRUCTED TO SEAL.   \n",
       "\n",
       "        Latitude  Longitude                                Location  \n",
       "35711  41.893272 -87.621469  (-87.62146879561675, 41.8932723034826)  "
      ]
     },
     "execution_count": 58,
     "metadata": {},
     "output_type": "execute_result"
    }
   ],
   "source": [
    "df_clean[df_clean['Inspection ID']==2313093]"
   ]
  },
  {
   "cell_type": "code",
   "execution_count": null,
   "metadata": {},
   "outputs": [],
   "source": []
  }
 ],
 "metadata": {
  "kernelspec": {
   "display_name": "Python 3",
   "language": "python",
   "name": "python3"
  },
  "language_info": {
   "codemirror_mode": {
    "name": "ipython",
    "version": 3
   },
   "file_extension": ".py",
   "mimetype": "text/x-python",
   "name": "python",
   "nbconvert_exporter": "python",
   "pygments_lexer": "ipython3",
   "version": "3.7.4"
  }
 },
 "nbformat": 4,
 "nbformat_minor": 4
}
