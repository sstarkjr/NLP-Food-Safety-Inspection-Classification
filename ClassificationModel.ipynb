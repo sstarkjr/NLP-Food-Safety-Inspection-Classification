{
 "cells": [
  {
   "cell_type": "markdown",
   "metadata": {},
   "source": [
    "# Resturant Food Safety Inspection Prediction Using Natual Language Processing"
   ]
  },
  {
   "cell_type": "markdown",
   "metadata": {},
   "source": [
    "references:\n",
    "https://dev.socrata.com/foundry/data.cityofchicago.org/4ijn-s7e5"
   ]
  },
  {
   "cell_type": "markdown",
   "metadata": {},
   "source": [
    "## Summary\n",
    "1. [Objective](#objective)\n",
    "2. [Understanding the Data](#data)\\\n",
    "    2.1 [Dataset Definitions](#dataset)\\\n",
    "    2.2 [Observations](#observations)\\\n",
    "    2.3 [Feature Engineering](#engineering)\n",
    "4. [Model Building](#model)\\\n",
    "    4.1 [Model Overview](#modeloverview)\n",
    "5. [Interpretation of Results](#interpretation)\n",
    "6. [References](#references)\n",
    "\n"
   ]
  },
  {
   "cell_type": "markdown",
   "metadata": {},
   "source": [
    "# 1. Objective\n",
    "<a id='objective'></a>"
   ]
  },
  {
   "cell_type": "markdown",
   "metadata": {},
   "source": [
    "The goal of this notebook is to build a multinomial classification model to predict the outcome of the food safety inspection reports based on the inspectors' comments. I will use from statistical analysis and natural language processing to accomplish this. I will also present the results of the classification model and suggest ways that it could be improved through further analysis.\n",
    "\n",
    "Data provided by the City of Chicago via https://data.cityofchicago.org/ https://data.cityofchicago.org/Health-Human-Services/Food-Inspections/4ijn-s7e5 as of early 2020"
   ]
  },
  {
   "cell_type": "code",
   "execution_count": 1,
   "metadata": {},
   "outputs": [],
   "source": [
    "import sklearn\n",
    "\n",
    "import pandas as pd\n",
    "import numpy as np\n",
    "from matplotlib import pyplot as plt\n",
    "import re\n",
    "import itertools\n",
    "import os\n",
    "import random\n",
    "from datetime import datetime\n",
    "\n",
    "\n",
    "from sklearn.model_selection import train_test_split\n",
    "from sklearn.feature_extraction.text import CountVectorizer, HashingVectorizer, TfidfTransformer, TfidfVectorizer\n",
    "from sklearn.naive_bayes import MultinomialNB\n",
    "from sklearn.metrics import classification_report, confusion_matrix, accuracy_score\n",
    "from sklearn.linear_model import LogisticRegression, SGDClassifier\n",
    "from sklearn import metrics\n",
    "\n",
    "import nltk as nltk\n",
    "import nltk.corpus  \n",
    "from nltk.text import Text\n",
    "\n",
    "import sys\n",
    "\n",
    "pd.options.display.max_rows = 999\n",
    "pd.options.display.max_colwidth = 999\n",
    "pd.options.mode.chained_assignment = None  # default='warn'\n"
   ]
  },
  {
   "cell_type": "markdown",
   "metadata": {},
   "source": [
    "<a id='data'> </a>\n",
    "# 2. Understanding the Data\n"
   ]
  },
  {
   "cell_type": "markdown",
   "metadata": {},
   "source": [
    "<a id='dataset'> </a>\n",
    "## 2.1 Preliminary Data Cleaning"
   ]
  },
  {
   "cell_type": "code",
   "execution_count": 2,
   "metadata": {},
   "outputs": [],
   "source": [
    "#load the data\n",
    "#df = pd.read_csv('../Food_Inspections.csv') #dataframe for modeling\n",
    "#df_clean = df.copy() #cleaned dataframe for miscellaneous\n",
    "#df_viz = df.copy() #dataframe for data viz exports for tableau\n"
   ]
  },
  {
   "cell_type": "code",
   "execution_count": 3,
   "metadata": {},
   "outputs": [],
   "source": [
    "#!/usr/bin/env python\n",
    "\n",
    "# make sure to install these packages before running:\n",
    "# pip install pandas\n",
    "# pip install sodapy\n",
    "\n",
    "import pandas as pd\n",
    "from sodapy import Socrata\n",
    "\n",
    "# Unauthenticated client only works with public data sets. Note 'None'\n",
    "# in place of application token, and no username or password:\n",
    "#client = Socrata(\"data.cityofchicago.org\", None)\n",
    "\n",
    "# Example authenticated client (needed for non-public datasets):\n",
    "MyAppToken = 'KoNWmjvpkvV18BmVoGFCU1oCw'\n",
    "\n",
    "client = Socrata(\"data.cityofchicago.org\",\n",
    "                  MyAppToken)\n",
    "#                  userame=\"user@example.com\",\n",
    " #                 password=\"AFakePassword\")\n",
    "\n",
    "# First 2000 results, returned as JSON from API / converted to Python list of\n",
    "# dictionaries by sodapy.\n",
    "results = client.get(\"4ijn-s7e5\", limit=250000)\n",
    "\n",
    "# Convert to pandas DataFrame\n",
    "results_df = pd.DataFrame.from_records(results)"
   ]
  },
  {
   "cell_type": "code",
   "execution_count": 4,
   "metadata": {},
   "outputs": [
    {
     "data": {
      "text/plain": [
       "(212127, 22)"
      ]
     },
     "execution_count": 4,
     "metadata": {},
     "output_type": "execute_result"
    }
   ],
   "source": [
    "results_df.shape"
   ]
  },
  {
   "cell_type": "code",
   "execution_count": 5,
   "metadata": {},
   "outputs": [
    {
     "data": {
      "text/plain": [
       "Index(['inspection_id', 'dba_name', 'aka_name', 'license_', 'facility_type',\n",
       "       'risk', 'address', 'city', 'state', 'zip', 'inspection_date',\n",
       "       'inspection_type', 'results', 'violations', 'latitude', 'longitude',\n",
       "       'location', ':@computed_region_awaf_s7ux',\n",
       "       ':@computed_region_6mkv_f3dw', ':@computed_region_vrxf_vc4k',\n",
       "       ':@computed_region_bdys_3d7i', ':@computed_region_43wa_7qmu'],\n",
       "      dtype='object')"
      ]
     },
     "execution_count": 5,
     "metadata": {},
     "output_type": "execute_result"
    }
   ],
   "source": [
    "results_df.columns"
   ]
  },
  {
   "cell_type": "code",
   "execution_count": 6,
   "metadata": {},
   "outputs": [],
   "source": [
    "#drop extra columns from import\n",
    "df = results_df.drop([':@computed_region_awaf_s7ux',\n",
    "                 ':@computed_region_6mkv_f3dw',\n",
    "                 ':@computed_region_vrxf_vc4k',\n",
    "                 ':@computed_region_bdys_3d7i',\n",
    "                 ':@computed_region_43wa_7qmu'], axis=1)"
   ]
  },
  {
   "cell_type": "code",
   "execution_count": 7,
   "metadata": {},
   "outputs": [
    {
     "data": {
      "text/plain": [
       "inspection_id      object\n",
       "dba_name           object\n",
       "aka_name           object\n",
       "license_           object\n",
       "facility_type      object\n",
       "risk               object\n",
       "address            object\n",
       "city               object\n",
       "state              object\n",
       "zip                object\n",
       "inspection_date    object\n",
       "inspection_type    object\n",
       "results            object\n",
       "violations         object\n",
       "latitude           object\n",
       "longitude          object\n",
       "location           object\n",
       "dtype: object"
      ]
     },
     "execution_count": 7,
     "metadata": {},
     "output_type": "execute_result"
    }
   ],
   "source": [
    "df.dtypes"
   ]
  },
  {
   "cell_type": "code",
   "execution_count": 8,
   "metadata": {},
   "outputs": [
    {
     "name": "stdout",
     "output_type": "stream",
     "text": [
      "(212127, 17)\n",
      "<class 'pandas.core.frame.DataFrame'>\n",
      "RangeIndex: 212127 entries, 0 to 212126\n",
      "Data columns (total 17 columns):\n",
      "inspection_id      212127 non-null object\n",
      "dba_name           212127 non-null object\n",
      "aka_name           209643 non-null object\n",
      "license_           212110 non-null object\n",
      "facility_type      207244 non-null object\n",
      "risk               212055 non-null object\n",
      "address            212126 non-null object\n",
      "city               211972 non-null object\n",
      "state              212079 non-null object\n",
      "zip                212074 non-null object\n",
      "inspection_date    212127 non-null object\n",
      "inspection_type    212126 non-null object\n",
      "results            212127 non-null object\n",
      "violations         155705 non-null object\n",
      "latitude           504 non-null object\n",
      "longitude          504 non-null object\n",
      "location           504 non-null object\n",
      "dtypes: object(17)\n",
      "memory usage: 27.5+ MB\n"
     ]
    }
   ],
   "source": [
    "print(df.shape)\n",
    "df.info()"
   ]
  },
  {
   "cell_type": "code",
   "execution_count": 9,
   "metadata": {},
   "outputs": [
    {
     "data": {
      "text/plain": [
       "inspection_id           0\n",
       "dba_name                0\n",
       "aka_name             2484\n",
       "license_               17\n",
       "facility_type        4883\n",
       "risk                   72\n",
       "address                 1\n",
       "city                  155\n",
       "state                  48\n",
       "zip                    53\n",
       "inspection_date         0\n",
       "inspection_type         1\n",
       "results                 0\n",
       "violations          56422\n",
       "latitude           211623\n",
       "longitude          211623\n",
       "location           211623\n",
       "dtype: int64"
      ]
     },
     "execution_count": 9,
     "metadata": {},
     "output_type": "execute_result"
    }
   ],
   "source": [
    "df.isna().sum()"
   ]
  },
  {
   "cell_type": "markdown",
   "metadata": {},
   "source": [
    "It appears that we have some incorrect data types and also some missing data. I'll inspect the data column by column"
   ]
  },
  {
   "cell_type": "markdown",
   "metadata": {},
   "source": [
    "**inspection_id**"
   ]
  },
  {
   "cell_type": "code",
   "execution_count": 10,
   "metadata": {},
   "outputs": [
    {
     "data": {
      "text/plain": [
       "0"
      ]
     },
     "execution_count": 10,
     "metadata": {},
     "output_type": "execute_result"
    }
   ],
   "source": [
    "df['inspection_id'].isna().sum()"
   ]
  },
  {
   "cell_type": "code",
   "execution_count": 11,
   "metadata": {},
   "outputs": [
    {
     "data": {
      "text/plain": [
       "28839     2268537\n",
       "72852     1975370\n",
       "52012     2102587\n",
       "130508    1434677\n",
       "21860     2300496\n",
       "Name: inspection_id, dtype: object"
      ]
     },
     "execution_count": 11,
     "metadata": {},
     "output_type": "execute_result"
    }
   ],
   "source": [
    "df['inspection_id'].sample(n=5)"
   ]
  },
  {
   "cell_type": "markdown",
   "metadata": {},
   "source": [
    "**dba_name**"
   ]
  },
  {
   "cell_type": "code",
   "execution_count": 12,
   "metadata": {},
   "outputs": [
    {
     "data": {
      "text/plain": [
       "0"
      ]
     },
     "execution_count": 12,
     "metadata": {},
     "output_type": "execute_result"
    }
   ],
   "source": [
    "df['dba_name'].isna().sum()"
   ]
  },
  {
   "cell_type": "code",
   "execution_count": 13,
   "metadata": {},
   "outputs": [
    {
     "data": {
      "text/plain": [
       "135778                          MC DONALD'S\n",
       "201184    BRIGHT HORIZONS CHICAGO WEST LOOP\n",
       "166441                             EL NORTE\n",
       "5388                               DSD DELI\n",
       "80423                            SAMER FOOD\n",
       "Name: dba_name, dtype: object"
      ]
     },
     "execution_count": 13,
     "metadata": {},
     "output_type": "execute_result"
    }
   ],
   "source": [
    "df['dba_name'].sample(n=5)"
   ]
  },
  {
   "cell_type": "markdown",
   "metadata": {},
   "source": [
    "**aka_name**"
   ]
  },
  {
   "cell_type": "code",
   "execution_count": 14,
   "metadata": {},
   "outputs": [
    {
     "data": {
      "text/plain": [
       "2484"
      ]
     },
     "execution_count": 14,
     "metadata": {},
     "output_type": "execute_result"
    }
   ],
   "source": [
    "df['aka_name'].isna().sum()"
   ]
  },
  {
   "cell_type": "code",
   "execution_count": 15,
   "metadata": {},
   "outputs": [
    {
     "data": {
      "text/html": [
       "<div>\n",
       "<style scoped>\n",
       "    .dataframe tbody tr th:only-of-type {\n",
       "        vertical-align: middle;\n",
       "    }\n",
       "\n",
       "    .dataframe tbody tr th {\n",
       "        vertical-align: top;\n",
       "    }\n",
       "\n",
       "    .dataframe thead th {\n",
       "        text-align: right;\n",
       "    }\n",
       "</style>\n",
       "<table border=\"1\" class=\"dataframe\">\n",
       "  <thead>\n",
       "    <tr style=\"text-align: right;\">\n",
       "      <th></th>\n",
       "      <th>inspection_id</th>\n",
       "      <th>dba_name</th>\n",
       "      <th>aka_name</th>\n",
       "    </tr>\n",
       "  </thead>\n",
       "  <tbody>\n",
       "    <tr>\n",
       "      <th>10</th>\n",
       "      <td>2453887</td>\n",
       "      <td>MICHACA ENTERPRISES CORPORATION</td>\n",
       "      <td>NaN</td>\n",
       "    </tr>\n",
       "    <tr>\n",
       "      <th>29</th>\n",
       "      <td>2453799</td>\n",
       "      <td>Bacolod Chicken House LLC</td>\n",
       "      <td>NaN</td>\n",
       "    </tr>\n",
       "    <tr>\n",
       "      <th>71</th>\n",
       "      <td>2453694</td>\n",
       "      <td>CENTERS FOR NEW HORIZONS</td>\n",
       "      <td>NaN</td>\n",
       "    </tr>\n",
       "    <tr>\n",
       "      <th>141</th>\n",
       "      <td>2453552</td>\n",
       "      <td>CLAMP DOWN BURGERS</td>\n",
       "      <td>NaN</td>\n",
       "    </tr>\n",
       "    <tr>\n",
       "      <th>335</th>\n",
       "      <td>2453268</td>\n",
       "      <td>CENTERS FOR NEW HORIZONS</td>\n",
       "      <td>NaN</td>\n",
       "    </tr>\n",
       "    <tr>\n",
       "      <th>...</th>\n",
       "      <td>...</td>\n",
       "      <td>...</td>\n",
       "      <td>...</td>\n",
       "    </tr>\n",
       "    <tr>\n",
       "      <th>212047</th>\n",
       "      <td>88206</td>\n",
       "      <td>elinas cafe</td>\n",
       "      <td>NaN</td>\n",
       "    </tr>\n",
       "    <tr>\n",
       "      <th>212074</th>\n",
       "      <td>78240</td>\n",
       "      <td>OBAMA FOOD MART</td>\n",
       "      <td>NaN</td>\n",
       "    </tr>\n",
       "    <tr>\n",
       "      <th>212084</th>\n",
       "      <td>78239</td>\n",
       "      <td>Yahs Cuisine</td>\n",
       "      <td>NaN</td>\n",
       "    </tr>\n",
       "    <tr>\n",
       "      <th>212104</th>\n",
       "      <td>158243</td>\n",
       "      <td>DUNKIN DONUTS</td>\n",
       "      <td>NaN</td>\n",
       "    </tr>\n",
       "    <tr>\n",
       "      <th>212106</th>\n",
       "      <td>68250</td>\n",
       "      <td>Tots Express Learning Center</td>\n",
       "      <td>NaN</td>\n",
       "    </tr>\n",
       "  </tbody>\n",
       "</table>\n",
       "<p>2484 rows × 3 columns</p>\n",
       "</div>"
      ],
      "text/plain": [
       "       inspection_id                         dba_name aka_name\n",
       "10           2453887  MICHACA ENTERPRISES CORPORATION      NaN\n",
       "29           2453799        Bacolod Chicken House LLC      NaN\n",
       "71           2453694         CENTERS FOR NEW HORIZONS      NaN\n",
       "141          2453552               CLAMP DOWN BURGERS      NaN\n",
       "335          2453268         CENTERS FOR NEW HORIZONS      NaN\n",
       "...              ...                              ...      ...\n",
       "212047         88206                      elinas cafe      NaN\n",
       "212074         78240                  OBAMA FOOD MART      NaN\n",
       "212084         78239                     Yahs Cuisine      NaN\n",
       "212104        158243                    DUNKIN DONUTS      NaN\n",
       "212106         68250     Tots Express Learning Center      NaN\n",
       "\n",
       "[2484 rows x 3 columns]"
      ]
     },
     "execution_count": 15,
     "metadata": {},
     "output_type": "execute_result"
    }
   ],
   "source": [
    "#sample of the missing aka_name values\n",
    "df[df['aka_name'].isna()][['inspection_id','dba_name','aka_name']]"
   ]
  },
  {
   "cell_type": "code",
   "execution_count": 16,
   "metadata": {},
   "outputs": [],
   "source": [
    "#fill NaN values with dba_name value\n",
    "df['aka_name'] = df['aka_name'].fillna(df['dba_name'])"
   ]
  },
  {
   "cell_type": "markdown",
   "metadata": {},
   "source": [
    "**license_**"
   ]
  },
  {
   "cell_type": "code",
   "execution_count": 17,
   "metadata": {},
   "outputs": [
    {
     "data": {
      "text/plain": [
       "17"
      ]
     },
     "execution_count": 17,
     "metadata": {},
     "output_type": "execute_result"
    }
   ],
   "source": [
    "df['license_'].isna().sum()"
   ]
  },
  {
   "cell_type": "code",
   "execution_count": 18,
   "metadata": {},
   "outputs": [
    {
     "data": {
      "text/plain": [
       "23551              ST. DEMETRIOS GREEK ORTHODOX CHURCH\n",
       "40110              ST. DEMETRIOS GREEK ORTHODOX CHURCH\n",
       "57061              ST. DEMETRIOS GREEK ORTHODOX CHURCH\n",
       "82562              ST. DEMETRIOS GREEK ORTHODOX CHURCH\n",
       "102541             ST. DEMETRIOS GREEK ORTHODOX CHURCH\n",
       "127874             ST. DEMETRIOS GREEK ORTHODOX CHURCH\n",
       "130434                                 ARGENTINA FOODS\n",
       "145208             ST. DEMETRIOS GREEK ORTHODOX CHURCH\n",
       "164873             ST. DEMETRIOS GREEK ORTHODOX CHURCH\n",
       "168253                        OLD ST. PATRICK'S CHURCH\n",
       "171610                 GOD'S BATTLE AXE PRAYER ACADEMY\n",
       "171794                 GOD'S BATTLE AXE PRAYER ACADEMY\n",
       "173335                 GOD'S BATTLE AXE PRAYER ACADEMY\n",
       "182556             ST. DEMETRIOS GREEK ORTHODOX CHURCH\n",
       "193740    AVALON COMMUNITY CHURCH/FREEDOM HOME ACADEMY\n",
       "201903                             ST DEMETRIOS CHURCH\n",
       "204528                        OLD ST. PATRICK'S CHURCH\n",
       "Name: dba_name, dtype: object"
      ]
     },
     "execution_count": 18,
     "metadata": {},
     "output_type": "execute_result"
    }
   ],
   "source": [
    "#Mostly churches...\n",
    "df[df['license_'].isna()]['dba_name']"
   ]
  },
  {
   "cell_type": "code",
   "execution_count": 19,
   "metadata": {},
   "outputs": [],
   "source": [
    "#fill with \"Not Disclosed\"\n",
    "df['license_'] = df['license_'].fillna('Not Disclosed')"
   ]
  },
  {
   "cell_type": "markdown",
   "metadata": {},
   "source": [
    "**facility_type**"
   ]
  },
  {
   "cell_type": "code",
   "execution_count": 20,
   "metadata": {},
   "outputs": [
    {
     "data": {
      "text/plain": [
       "4883"
      ]
     },
     "execution_count": 20,
     "metadata": {},
     "output_type": "execute_result"
    }
   ],
   "source": [
    "df['facility_type'].isna().sum()"
   ]
  },
  {
   "cell_type": "code",
   "execution_count": 21,
   "metadata": {},
   "outputs": [
    {
     "data": {
      "text/plain": [
       "SUBWAY                          34\n",
       "DUNKIN DONUTS                   20\n",
       "7-ELEVEN                        18\n",
       "WHITE HEN PANTRY                18\n",
       "HAROLD'S CHICKEN SHACK          15\n",
       "TOKYO LUNCH BOXES & CATERING    13\n",
       "KENTUCKY FRIED CHICKEN          12\n",
       "MIDWEST BUDDHIST TEMPLE         11\n",
       "MCDONALD'S                      10\n",
       "MCDONALDS                        8\n",
       "SCHLENKO INC.                    7\n",
       "HEAVEN'S LEARNING GARDEN         7\n",
       "GOLD COAST DOGS                  6\n",
       "THUNDERBIRD CATERING             6\n",
       "COLD STONE CREAMERY              6\n",
       "BELEN                            5\n",
       "CALIFORNIA FOODS                 5\n",
       "QUIZNOS                          5\n",
       "MAN-O-SALWA                      5\n",
       "DEOLA'S                          5\n",
       "Name: dba_name, dtype: int64"
      ]
     },
     "execution_count": 21,
     "metadata": {},
     "output_type": "execute_result"
    }
   ],
   "source": [
    "df[df['facility_type'].isna()]['dba_name'].value_counts().head(20)"
   ]
  },
  {
   "cell_type": "code",
   "execution_count": 22,
   "metadata": {},
   "outputs": [
    {
     "data": {
      "text/plain": [
       "count    4111.000000\n",
       "mean        1.187789\n",
       "std         0.948943\n",
       "min         1.000000\n",
       "25%         1.000000\n",
       "50%         1.000000\n",
       "75%         1.000000\n",
       "max        34.000000\n",
       "Name: dba_name, dtype: float64"
      ]
     },
     "execution_count": 22,
     "metadata": {},
     "output_type": "execute_result"
    }
   ],
   "source": [
    "df[df['facility_type'].isna()]['dba_name'].value_counts().describe()"
   ]
  },
  {
   "cell_type": "code",
   "execution_count": 23,
   "metadata": {},
   "outputs": [
    {
     "data": {
      "text/plain": [
       "Restaurant                         141142\n",
       "Grocery Store                       27752\n",
       "School                              13078\n",
       "Children's Services Facility         3583\n",
       "Bakery                               3097\n",
       "Daycare (2 - 6 Years)                2794\n",
       "Daycare Above and Under 2 Years      2581\n",
       "Long Term Care                       1426\n",
       "Catering                             1278\n",
       "Liquor                                932\n",
       "Mobile Food Dispenser                 883\n",
       "Daycare Combo 1586                    741\n",
       "Mobile Food Preparer                  673\n",
       "Golden Diner                          599\n",
       "Hospital                              592\n",
       "Name: facility_type, dtype: int64"
      ]
     },
     "execution_count": 23,
     "metadata": {},
     "output_type": "execute_result"
    }
   ],
   "source": [
    "df['facility_type'].value_counts().head(15)"
   ]
  },
  {
   "cell_type": "markdown",
   "metadata": {},
   "source": [
    "It's not clear why so many of these facility types are missing. Some of the businesses are obvious (7-Eleven, Quiznos, for instance) but many aren't... For now, I'll fill the NA values with not disclosed\n"
   ]
  },
  {
   "cell_type": "code",
   "execution_count": null,
   "metadata": {},
   "outputs": [],
   "source": []
  },
  {
   "cell_type": "code",
   "execution_count": 24,
   "metadata": {},
   "outputs": [],
   "source": [
    "df['facility_type'] = df['facility_type'].fillna('Not Disclosed')"
   ]
  },
  {
   "cell_type": "markdown",
   "metadata": {},
   "source": [
    "**risk**"
   ]
  },
  {
   "cell_type": "code",
   "execution_count": 25,
   "metadata": {},
   "outputs": [
    {
     "data": {
      "text/plain": [
       "Risk 1 (High)      151632\n",
       "Risk 2 (Medium)     41413\n",
       "Risk 3 (Low)        18978\n",
       "All                    32\n",
       "Name: risk, dtype: int64"
      ]
     },
     "execution_count": 25,
     "metadata": {},
     "output_type": "execute_result"
    }
   ],
   "source": [
    "df['risk'].value_counts()"
   ]
  },
  {
   "cell_type": "code",
   "execution_count": 26,
   "metadata": {},
   "outputs": [
    {
     "data": {
      "text/plain": [
       "72"
      ]
     },
     "execution_count": 26,
     "metadata": {},
     "output_type": "execute_result"
    }
   ],
   "source": [
    "df['risk'].isna().sum()"
   ]
  },
  {
   "cell_type": "code",
   "execution_count": 27,
   "metadata": {},
   "outputs": [
    {
     "data": {
      "text/html": [
       "<div>\n",
       "<style scoped>\n",
       "    .dataframe tbody tr th:only-of-type {\n",
       "        vertical-align: middle;\n",
       "    }\n",
       "\n",
       "    .dataframe tbody tr th {\n",
       "        vertical-align: top;\n",
       "    }\n",
       "\n",
       "    .dataframe thead th {\n",
       "        text-align: right;\n",
       "    }\n",
       "</style>\n",
       "<table border=\"1\" class=\"dataframe\">\n",
       "  <thead>\n",
       "    <tr style=\"text-align: right;\">\n",
       "      <th></th>\n",
       "      <th>inspection_id</th>\n",
       "      <th>dba_name</th>\n",
       "      <th>aka_name</th>\n",
       "      <th>license_</th>\n",
       "      <th>facility_type</th>\n",
       "      <th>risk</th>\n",
       "      <th>address</th>\n",
       "      <th>city</th>\n",
       "      <th>state</th>\n",
       "      <th>zip</th>\n",
       "      <th>inspection_date</th>\n",
       "      <th>inspection_type</th>\n",
       "      <th>results</th>\n",
       "      <th>violations</th>\n",
       "      <th>latitude</th>\n",
       "      <th>longitude</th>\n",
       "      <th>location</th>\n",
       "    </tr>\n",
       "  </thead>\n",
       "  <tbody>\n",
       "    <tr>\n",
       "      <th>65121</th>\n",
       "      <td>2009375</td>\n",
       "      <td>CHICAGO BEST DELI GROCERY,INC</td>\n",
       "      <td>CHICAGO BEST DELI GROCERY,INC</td>\n",
       "      <td>2512074</td>\n",
       "      <td>Not Disclosed</td>\n",
       "      <td>NaN</td>\n",
       "      <td>156-158 W 95TH ST</td>\n",
       "      <td>CHICAGO</td>\n",
       "      <td>IL</td>\n",
       "      <td>60628</td>\n",
       "      <td>2017-03-28T00:00:00.000</td>\n",
       "      <td>License</td>\n",
       "      <td>Not Ready</td>\n",
       "      <td>NaN</td>\n",
       "      <td>NaN</td>\n",
       "      <td>NaN</td>\n",
       "      <td>NaN</td>\n",
       "    </tr>\n",
       "    <tr>\n",
       "      <th>181226</th>\n",
       "      <td>537572</td>\n",
       "      <td>unknown</td>\n",
       "      <td>unknown</td>\n",
       "      <td>0</td>\n",
       "      <td>Not Disclosed</td>\n",
       "      <td>NaN</td>\n",
       "      <td>10222 S wentworth AVE</td>\n",
       "      <td>CHICAGO</td>\n",
       "      <td>IL</td>\n",
       "      <td>60628</td>\n",
       "      <td>2011-09-07T00:00:00.000</td>\n",
       "      <td>Complaint-Fire</td>\n",
       "      <td>Business Not Located</td>\n",
       "      <td>NaN</td>\n",
       "      <td>NaN</td>\n",
       "      <td>NaN</td>\n",
       "      <td>NaN</td>\n",
       "    </tr>\n",
       "    <tr>\n",
       "      <th>35054</th>\n",
       "      <td>2229372</td>\n",
       "      <td>RICE THAI CAFE</td>\n",
       "      <td>RICE THAI CAFE</td>\n",
       "      <td>2589016</td>\n",
       "      <td>Not Disclosed</td>\n",
       "      <td>NaN</td>\n",
       "      <td>211`7 W FARRAGUT AVE</td>\n",
       "      <td>CHICAGO</td>\n",
       "      <td>IL</td>\n",
       "      <td>60625</td>\n",
       "      <td>2018-10-04T00:00:00.000</td>\n",
       "      <td>License</td>\n",
       "      <td>Business Not Located</td>\n",
       "      <td>NaN</td>\n",
       "      <td>NaN</td>\n",
       "      <td>NaN</td>\n",
       "      <td>NaN</td>\n",
       "    </tr>\n",
       "    <tr>\n",
       "      <th>196653</th>\n",
       "      <td>428391</td>\n",
       "      <td>BEST SUBS</td>\n",
       "      <td>BEST SUBS</td>\n",
       "      <td>0</td>\n",
       "      <td>Not Disclosed</td>\n",
       "      <td>NaN</td>\n",
       "      <td>2653 N WASTENAW AVE BLDG</td>\n",
       "      <td>CHICAGO</td>\n",
       "      <td>IL</td>\n",
       "      <td>60647</td>\n",
       "      <td>2010-10-29T00:00:00.000</td>\n",
       "      <td>Complaint</td>\n",
       "      <td>Business Not Located</td>\n",
       "      <td>NaN</td>\n",
       "      <td>NaN</td>\n",
       "      <td>NaN</td>\n",
       "      <td>NaN</td>\n",
       "    </tr>\n",
       "    <tr>\n",
       "      <th>25461</th>\n",
       "      <td>2286042</td>\n",
       "      <td>REIS AND IRVYS</td>\n",
       "      <td>REIS AND IRVYS</td>\n",
       "      <td>2659028</td>\n",
       "      <td>Not Disclosed</td>\n",
       "      <td>NaN</td>\n",
       "      <td>1801 W JACKSON BLVD</td>\n",
       "      <td>CHICAGO</td>\n",
       "      <td>IL</td>\n",
       "      <td>60612</td>\n",
       "      <td>2019-04-30T00:00:00.000</td>\n",
       "      <td>License</td>\n",
       "      <td>Not Ready</td>\n",
       "      <td>NaN</td>\n",
       "      <td>NaN</td>\n",
       "      <td>NaN</td>\n",
       "      <td>NaN</td>\n",
       "    </tr>\n",
       "  </tbody>\n",
       "</table>\n",
       "</div>"
      ],
      "text/plain": [
       "       inspection_id                       dba_name  \\\n",
       "65121        2009375  CHICAGO BEST DELI GROCERY,INC   \n",
       "181226        537572                        unknown   \n",
       "35054        2229372                 RICE THAI CAFE   \n",
       "196653        428391                      BEST SUBS   \n",
       "25461        2286042                 REIS AND IRVYS   \n",
       "\n",
       "                             aka_name license_  facility_type risk  \\\n",
       "65121   CHICAGO BEST DELI GROCERY,INC  2512074  Not Disclosed  NaN   \n",
       "181226                        unknown        0  Not Disclosed  NaN   \n",
       "35054                  RICE THAI CAFE  2589016  Not Disclosed  NaN   \n",
       "196653                      BEST SUBS        0  Not Disclosed  NaN   \n",
       "25461                  REIS AND IRVYS  2659028  Not Disclosed  NaN   \n",
       "\n",
       "                          address     city state    zip  \\\n",
       "65121           156-158 W 95TH ST  CHICAGO    IL  60628   \n",
       "181226      10222 S wentworth AVE  CHICAGO    IL  60628   \n",
       "35054       211`7 W FARRAGUT AVE   CHICAGO    IL  60625   \n",
       "196653  2653 N WASTENAW AVE BLDG   CHICAGO    IL  60647   \n",
       "25461         1801 W JACKSON BLVD  CHICAGO    IL  60612   \n",
       "\n",
       "                inspection_date inspection_type               results  \\\n",
       "65121   2017-03-28T00:00:00.000         License             Not Ready   \n",
       "181226  2011-09-07T00:00:00.000  Complaint-Fire  Business Not Located   \n",
       "35054   2018-10-04T00:00:00.000         License  Business Not Located   \n",
       "196653  2010-10-29T00:00:00.000       Complaint  Business Not Located   \n",
       "25461   2019-04-30T00:00:00.000         License             Not Ready   \n",
       "\n",
       "       violations latitude longitude location  \n",
       "65121         NaN      NaN       NaN      NaN  \n",
       "181226        NaN      NaN       NaN      NaN  \n",
       "35054         NaN      NaN       NaN      NaN  \n",
       "196653        NaN      NaN       NaN      NaN  \n",
       "25461         NaN      NaN       NaN      NaN  "
      ]
     },
     "execution_count": 27,
     "metadata": {},
     "output_type": "execute_result"
    }
   ],
   "source": [
    "df[df['risk'].isna()].sample(n=5, random_state=512)"
   ]
  },
  {
   "cell_type": "code",
   "execution_count": 97,
   "metadata": {},
   "outputs": [
    {
     "data": {
      "text/html": [
       "<div>\n",
       "<style scoped>\n",
       "    .dataframe tbody tr th:only-of-type {\n",
       "        vertical-align: middle;\n",
       "    }\n",
       "\n",
       "    .dataframe tbody tr th {\n",
       "        vertical-align: top;\n",
       "    }\n",
       "\n",
       "    .dataframe thead th {\n",
       "        text-align: right;\n",
       "    }\n",
       "</style>\n",
       "<table border=\"1\" class=\"dataframe\">\n",
       "  <thead>\n",
       "    <tr style=\"text-align: right;\">\n",
       "      <th></th>\n",
       "      <th>inspection_id</th>\n",
       "      <th>dba_name</th>\n",
       "      <th>aka_name</th>\n",
       "      <th>license_</th>\n",
       "      <th>facility_type</th>\n",
       "      <th>risk</th>\n",
       "      <th>address</th>\n",
       "      <th>city</th>\n",
       "      <th>state</th>\n",
       "      <th>zip</th>\n",
       "      <th>inspection_date</th>\n",
       "      <th>inspection_type</th>\n",
       "      <th>results</th>\n",
       "      <th>violations</th>\n",
       "      <th>latitude</th>\n",
       "      <th>longitude</th>\n",
       "      <th>location</th>\n",
       "      <th>inspection_date_new</th>\n",
       "    </tr>\n",
       "  </thead>\n",
       "  <tbody>\n",
       "    <tr>\n",
       "      <th>20658</th>\n",
       "      <td>2303761</td>\n",
       "      <td>TRUMP INTERNATIONAL HOTEL</td>\n",
       "      <td>SIXTEEN</td>\n",
       "      <td>2048785</td>\n",
       "      <td>Restaurant</td>\n",
       "      <td>Risk 1 (High)</td>\n",
       "      <td>401 N WABASH AVE</td>\n",
       "      <td>CHICAGO</td>\n",
       "      <td>IL</td>\n",
       "      <td>60611</td>\n",
       "      <td>2019-07-26T00:00:00.000</td>\n",
       "      <td>Suspected Food Poisoning</td>\n",
       "      <td>Fail</td>\n",
       "      <td>10. ADEQUATE HANDWASHING SINKS PROPERLY SUPPLIED AND ACCESSIBLE - Comments: - MUST PROVIDE HANDWASH SIGNAGE AT ALL OF THE BARS' HANDWASH SINKS.  -  | 10. ADEQUATE HANDWASHING SINKS PROPERLY SUPPLIED AND ACCESSIBLE - Comments: - OBSERVED NO HANDWASH SINK IN THE OUTDOOR PATIO BAR AND IN THE OUTDOOR PATIO'S DISHWASH ROOM.  MUST INSTALL A HANDWASH SINK IN BOTH AREAS. ALL HANDWASH SINKS SHALL BE EQUIPPED TO PROVIDE AN ADEQUATE SUPPLY OF WATER AT A TEMPERATURE OF AT LEAST 100F TO MEET FACILITY'S PEAK HOT WATER DEMANDS.   PRIORITY FOUNDATION VIOLATION#:7-38-030(c). CITATION ISSUED.  - | 16. FOOD-CONTACT SURFACES: CLEANED &amp; SANITIZED - Comments: - OBSERVED A SLIGHT DEBRIS BUILDUP ON THE INTERIOR OF THE LEFT SIDE ICE MACHINE IN THE 16TH FL KITCHEN.  MUST REMOVE DEBRIS, DETAIL CLEAN, SANITIZE, AND MAINTAIN.  - | 39. CONTAMINATION PREVENTED DURING FOOD PREPARATION, STORAGE &amp; DISPLAY - Comments: - OBSERVED THE ICE BINS IN THE OUTDOOR PATIO BAR DO NOT HAVE ANY LIDS.   MUST PROVIDE THE ICE BINS...</td>\n",
       "      <td>Not Disclosed</td>\n",
       "      <td>Not Disclosed</td>\n",
       "      <td>Not Disclosed</td>\n",
       "      <td>07/26/19</td>\n",
       "    </tr>\n",
       "    <tr>\n",
       "      <th>141499</th>\n",
       "      <td>1361138</td>\n",
       "      <td>TRUMP INTERNATIONAL HOTEL</td>\n",
       "      <td>SIXTEEN</td>\n",
       "      <td>2048785</td>\n",
       "      <td>Restaurant</td>\n",
       "      <td>Risk 1 (High)</td>\n",
       "      <td>401 N WABASH AVE</td>\n",
       "      <td>CHICAGO</td>\n",
       "      <td>IL</td>\n",
       "      <td>60611</td>\n",
       "      <td>2013-09-20T00:00:00.000</td>\n",
       "      <td>Complaint</td>\n",
       "      <td>Fail</td>\n",
       "      <td>16. FOOD PROTECTED DURING STORAGE, PREPARATION, DISPLAY, SERVICE AND TRANSPORTATION - Comments: FOOD NOT PROTECTED FROM CONTAMINATION DURING PREPARATON AND STORAGE.  OBSERVED A VACUUM PACKAGING MACHINE ON THE PREMISES AND VACUUM PACKAGED FOODS (FISH, PASTA DOUGH, DUCK, BEANS, ETC.) STORED IN THE WALK-IN COOLERS AND WALK-IN FREEZER WITHOUT A CERTIFIED HACCP PROGRAM.  ALSO OBSERVED CURING SALTS IN THE DRY STORAGE ROOM FOR CURING MEAT.  MANAGEMENT INSTRUCTED THAT A CERTIFIED HACCP PROGRAM IS NEEDED FOR EACH PRODUCT THAT IS BEING CURED AND OR VACUUM PACKAGED.  MANAGEMENT VOLUNTARILY DISCARDED APPROX. 185# OF FOOD WORTH APPROX. $1250.  SERIOUS VIOLATION 7-38-005A. | 18. NO EVIDENCE OF RODENT OR INSECT OUTER OPENINGS PROTECTED/RODENT PROOFED, A WRITTEN LOG SHALL BE MAINTAINED AVAILABLE TO THE INSPECTORS - Comments: OBSERVED LIVE FRUIT FLIES ON THE WALLS AND CEILING OF THE BAR, 16TH FLOOR DISHWASHING AREA AND BEVERAGE SERVICE STATION.  APPROXIMATELY 20 LIVE FRUIT FLIES WERE OBSERVED IN T...</td>\n",
       "      <td>Not Disclosed</td>\n",
       "      <td>Not Disclosed</td>\n",
       "      <td>Not Disclosed</td>\n",
       "      <td>09/20/13</td>\n",
       "    </tr>\n",
       "    <tr>\n",
       "      <th>182585</th>\n",
       "      <td>569519</td>\n",
       "      <td>TRUMP INTERNATIONAL HOTEL</td>\n",
       "      <td>SIXTEEN</td>\n",
       "      <td>2048785</td>\n",
       "      <td>Restaurant</td>\n",
       "      <td>Risk 1 (High)</td>\n",
       "      <td>401 N WABASH AVE</td>\n",
       "      <td>CHICAGO</td>\n",
       "      <td>IL</td>\n",
       "      <td>60611</td>\n",
       "      <td>2011-08-09T00:00:00.000</td>\n",
       "      <td>Canvass</td>\n",
       "      <td>Fail</td>\n",
       "      <td>18. NO EVIDENCE OF RODENT OR INSECT OUTER OPENINGS PROTECTED/RODENT PROOFED, A WRITTEN LOG SHALL BE MAINTAINED AVAILABLE TO THE INSPECTORS - Comments: (7-38-020) PEST ACTIVITY NOTED. FOUND 16-SMALL/FRUIT FLIES ON WALLS &amp; CEILING ABOVE SMALL CABINETS OF A PREP TABLE AT THE WAIT STAFF AREA; 7-ON A CORNER WALL OF THE BAR (CLOSE TO THE LIQUOR ROOM DOOR); 8-ON THE CEILING/FRAMEWORK OF THE BAR COUNTER. INSTRUCTED TO ELIMINATE SOURCE &amp; CLEAN/SANITIZE ALL AFFECTED AREAS.   All necessary control measures shall be used to effectively minimize or eliminate the presence of rodents, roaches, and other vermin and insects on the premises of all food establishments, in food-transporting vehicles, and in vending machines. | 32. FOOD AND NON-FOOD CONTACT SURFACES PROPERLY DESIGNED, CONSTRUCTED AND MAINTAINED - Comments: ROTTING, WATER-SOAKED WOODEN PANEL UNDER THE JUICE/DUMP SINK AREA (WAIT STAFF STATION) MUST BE REPLACED. ANY CUTTING BOARDS WITH DEEP/DARK GROOVES MUST BE REPLACED.All food and non-...</td>\n",
       "      <td>Not Disclosed</td>\n",
       "      <td>Not Disclosed</td>\n",
       "      <td>Not Disclosed</td>\n",
       "      <td>08/09/11</td>\n",
       "    </tr>\n",
       "  </tbody>\n",
       "</table>\n",
       "</div>"
      ],
      "text/plain": [
       "       inspection_id                   dba_name aka_name license_  \\\n",
       "20658        2303761  TRUMP INTERNATIONAL HOTEL  SIXTEEN  2048785   \n",
       "141499       1361138  TRUMP INTERNATIONAL HOTEL  SIXTEEN  2048785   \n",
       "182585        569519  TRUMP INTERNATIONAL HOTEL  SIXTEEN  2048785   \n",
       "\n",
       "       facility_type           risk           address     city state    zip  \\\n",
       "20658     Restaurant  Risk 1 (High)  401 N WABASH AVE  CHICAGO    IL  60611   \n",
       "141499    Restaurant  Risk 1 (High)  401 N WABASH AVE  CHICAGO    IL  60611   \n",
       "182585    Restaurant  Risk 1 (High)  401 N WABASH AVE  CHICAGO    IL  60611   \n",
       "\n",
       "                inspection_date           inspection_type results  \\\n",
       "20658   2019-07-26T00:00:00.000  Suspected Food Poisoning    Fail   \n",
       "141499  2013-09-20T00:00:00.000                 Complaint    Fail   \n",
       "182585  2011-08-09T00:00:00.000                   Canvass    Fail   \n",
       "\n",
       "                                                                                                                                                                                                                                                                                                                                                                                                                                                                                                                                                                                                                                                                                                                                                                                                                                                                                                                                                                                                                                    violations  \\\n",
       "20658   10. ADEQUATE HANDWASHING SINKS PROPERLY SUPPLIED AND ACCESSIBLE - Comments: - MUST PROVIDE HANDWASH SIGNAGE AT ALL OF THE BARS' HANDWASH SINKS.  -  | 10. ADEQUATE HANDWASHING SINKS PROPERLY SUPPLIED AND ACCESSIBLE - Comments: - OBSERVED NO HANDWASH SINK IN THE OUTDOOR PATIO BAR AND IN THE OUTDOOR PATIO'S DISHWASH ROOM.  MUST INSTALL A HANDWASH SINK IN BOTH AREAS. ALL HANDWASH SINKS SHALL BE EQUIPPED TO PROVIDE AN ADEQUATE SUPPLY OF WATER AT A TEMPERATURE OF AT LEAST 100F TO MEET FACILITY'S PEAK HOT WATER DEMANDS.   PRIORITY FOUNDATION VIOLATION#:7-38-030(c). CITATION ISSUED.  - | 16. FOOD-CONTACT SURFACES: CLEANED & SANITIZED - Comments: - OBSERVED A SLIGHT DEBRIS BUILDUP ON THE INTERIOR OF THE LEFT SIDE ICE MACHINE IN THE 16TH FL KITCHEN.  MUST REMOVE DEBRIS, DETAIL CLEAN, SANITIZE, AND MAINTAIN.  - | 39. CONTAMINATION PREVENTED DURING FOOD PREPARATION, STORAGE & DISPLAY - Comments: - OBSERVED THE ICE BINS IN THE OUTDOOR PATIO BAR DO NOT HAVE ANY LIDS.   MUST PROVIDE THE ICE BINS...   \n",
       "141499  16. FOOD PROTECTED DURING STORAGE, PREPARATION, DISPLAY, SERVICE AND TRANSPORTATION - Comments: FOOD NOT PROTECTED FROM CONTAMINATION DURING PREPARATON AND STORAGE.  OBSERVED A VACUUM PACKAGING MACHINE ON THE PREMISES AND VACUUM PACKAGED FOODS (FISH, PASTA DOUGH, DUCK, BEANS, ETC.) STORED IN THE WALK-IN COOLERS AND WALK-IN FREEZER WITHOUT A CERTIFIED HACCP PROGRAM.  ALSO OBSERVED CURING SALTS IN THE DRY STORAGE ROOM FOR CURING MEAT.  MANAGEMENT INSTRUCTED THAT A CERTIFIED HACCP PROGRAM IS NEEDED FOR EACH PRODUCT THAT IS BEING CURED AND OR VACUUM PACKAGED.  MANAGEMENT VOLUNTARILY DISCARDED APPROX. 185# OF FOOD WORTH APPROX. $1250.  SERIOUS VIOLATION 7-38-005A. | 18. NO EVIDENCE OF RODENT OR INSECT OUTER OPENINGS PROTECTED/RODENT PROOFED, A WRITTEN LOG SHALL BE MAINTAINED AVAILABLE TO THE INSPECTORS - Comments: OBSERVED LIVE FRUIT FLIES ON THE WALLS AND CEILING OF THE BAR, 16TH FLOOR DISHWASHING AREA AND BEVERAGE SERVICE STATION.  APPROXIMATELY 20 LIVE FRUIT FLIES WERE OBSERVED IN T...   \n",
       "182585  18. NO EVIDENCE OF RODENT OR INSECT OUTER OPENINGS PROTECTED/RODENT PROOFED, A WRITTEN LOG SHALL BE MAINTAINED AVAILABLE TO THE INSPECTORS - Comments: (7-38-020) PEST ACTIVITY NOTED. FOUND 16-SMALL/FRUIT FLIES ON WALLS & CEILING ABOVE SMALL CABINETS OF A PREP TABLE AT THE WAIT STAFF AREA; 7-ON A CORNER WALL OF THE BAR (CLOSE TO THE LIQUOR ROOM DOOR); 8-ON THE CEILING/FRAMEWORK OF THE BAR COUNTER. INSTRUCTED TO ELIMINATE SOURCE & CLEAN/SANITIZE ALL AFFECTED AREAS.   All necessary control measures shall be used to effectively minimize or eliminate the presence of rodents, roaches, and other vermin and insects on the premises of all food establishments, in food-transporting vehicles, and in vending machines. | 32. FOOD AND NON-FOOD CONTACT SURFACES PROPERLY DESIGNED, CONSTRUCTED AND MAINTAINED - Comments: ROTTING, WATER-SOAKED WOODEN PANEL UNDER THE JUICE/DUMP SINK AREA (WAIT STAFF STATION) MUST BE REPLACED. ANY CUTTING BOARDS WITH DEEP/DARK GROOVES MUST BE REPLACED.All food and non-...   \n",
       "\n",
       "             latitude      longitude       location inspection_date_new  \n",
       "20658   Not Disclosed  Not Disclosed  Not Disclosed            07/26/19  \n",
       "141499  Not Disclosed  Not Disclosed  Not Disclosed            09/20/13  \n",
       "182585  Not Disclosed  Not Disclosed  Not Disclosed            08/09/11  "
      ]
     },
     "execution_count": 97,
     "metadata": {},
     "output_type": "execute_result"
    }
   ],
   "source": [
    "df[(df.license_=='2048785')&(df.results=='Fail')].sample(n=3)"
   ]
  },
  {
   "cell_type": "markdown",
   "metadata": {},
   "source": [
    "Notice that many of the missing risk values are records that were also missing other attributes...\n"
   ]
  },
  {
   "cell_type": "code",
   "execution_count": 31,
   "metadata": {},
   "outputs": [],
   "source": [
    "#I'll fill missing risk values with not disclosed\n",
    "df['risk'] = df['risk'].fillna('Not Disclosed')"
   ]
  },
  {
   "cell_type": "markdown",
   "metadata": {},
   "source": [
    "**address**"
   ]
  },
  {
   "cell_type": "code",
   "execution_count": 32,
   "metadata": {},
   "outputs": [
    {
     "data": {
      "text/plain": [
       "1"
      ]
     },
     "execution_count": 32,
     "metadata": {},
     "output_type": "execute_result"
    }
   ],
   "source": [
    "df['address'].isna().sum()"
   ]
  },
  {
   "cell_type": "code",
   "execution_count": 33,
   "metadata": {},
   "outputs": [
    {
     "data": {
      "text/plain": [
       "11601 W TOUHY AVE             2674\n",
       "5700 S CICERO AVE              583\n",
       "500 W MADISON ST               462\n",
       "2300 S THROOP ST               405\n",
       "324 N LEAVITT ST               391\n",
       "131 N CLINTON ST               353\n",
       "100 W RANDOLPH ST              331\n",
       "222 W MERCHANDISE MART PLZ     279\n",
       "600 E GRAND AVE                276\n",
       "7601 S CICERO AVE              267\n",
       "Name: address, dtype: int64"
      ]
     },
     "execution_count": 33,
     "metadata": {},
     "output_type": "execute_result"
    }
   ],
   "source": [
    "df['address'].value_counts().head(10)"
   ]
  },
  {
   "cell_type": "markdown",
   "metadata": {},
   "source": [
    "Some of these make sense:\n",
    "\n",
    "* 5700 S CICERO AVE = Chicago Midway\n",
    "* 500 W MADISON ST = Accenture Tower\n"
   ]
  },
  {
   "cell_type": "markdown",
   "metadata": {},
   "source": [
    "**city**"
   ]
  },
  {
   "cell_type": "code",
   "execution_count": 34,
   "metadata": {},
   "outputs": [
    {
     "data": {
      "text/plain": [
       "155"
      ]
     },
     "execution_count": 34,
     "metadata": {},
     "output_type": "execute_result"
    }
   ],
   "source": [
    "df['city'].isna().sum()"
   ]
  },
  {
   "cell_type": "code",
   "execution_count": 35,
   "metadata": {},
   "outputs": [
    {
     "data": {
      "text/plain": [
       "92451     CHICAGO\n",
       "107274    CHICAGO\n",
       "202716    CHICAGO\n",
       "127048    CHICAGO\n",
       "130129    CHICAGO\n",
       "Name: city, dtype: object"
      ]
     },
     "execution_count": 35,
     "metadata": {},
     "output_type": "execute_result"
    }
   ],
   "source": [
    "df['city'].sample(n=5)"
   ]
  },
  {
   "cell_type": "code",
   "execution_count": 36,
   "metadata": {},
   "outputs": [],
   "source": [
    "df['city'] = df['city'].fillna('Not Disclosed')\n",
    "df['city'] = df['city'].str.upper()"
   ]
  },
  {
   "cell_type": "code",
   "execution_count": 37,
   "metadata": {},
   "outputs": [
    {
     "data": {
      "text/plain": [
       "CHICAGO              211702\n",
       "NOT DISCLOSED           155\n",
       "CCHICAGO                 48\n",
       "SCHAUMBURG               27\n",
       "MAYWOOD                  16\n",
       "ELK GROVE VILLAGE        13\n",
       "EVANSTON                 11\n",
       "CHICAGOCHICAGO            9\n",
       "CICERO                    9\n",
       "SKOKIE                    8\n",
       "INACTIVE                  8\n",
       "ELMHURST                  7\n",
       "NILES NILES               7\n",
       "CALUMET CITY              6\n",
       "CHCHICAGO                 6\n",
       "WORTH                     5\n",
       "OAK PARK                  5\n",
       "SUMMIT                    4\n",
       "BRIDGEVIEW                4\n",
       "ALSIP                     4\n",
       "CHARLES A HAYES           4\n",
       "CHCICAGO                  3\n",
       "SCHILLER PARK             3\n",
       "312CHICAGO                3\n",
       "EAST HAZEL CREST          3\n",
       "CHICAGOI                  3\n",
       "PLAINFIELD                3\n",
       "ROSEMONT                  3\n",
       "CHICAGOHICAGO             3\n",
       "HIGHLAND PARK             2\n",
       "Name: city, dtype: int64"
      ]
     },
     "execution_count": 37,
     "metadata": {},
     "output_type": "execute_result"
    }
   ],
   "source": [
    "df['city'].value_counts().head(30)"
   ]
  },
  {
   "cell_type": "code",
   "execution_count": 38,
   "metadata": {},
   "outputs": [],
   "source": [
    "df['city'] = df['city'].replace('chicago','CHICAGO')\n",
    "df['city'] = df['city'].replace('Chicago','CHICAGO')\n",
    "df['city'] = df['city'].replace('CCHICAGO','CHICAGO')\n",
    "df['city'] = df['city'].replace('CHICAGOCHICAGO','CHICAGO')\n",
    "df['city'] = df['city'].replace('CHCHICAGO','CHICAGO')\n",
    "df['city'] = df['city'].replace('CHICAGOHICAGO','CHICAGO')\n",
    "df['city'] = df['city'].replace('CHICAGO.','CHICAGO')\n",
    "df['city'] = df['city'].replace('312CHICAGO','CHICAGO')\n",
    "df['city'] = df['city'].replace('CHicago','CHICAGO')\n",
    "df['city'] = df['city'].replace('CHICAGOI','CHICAGO')\n",
    "df['city'] = df['city'].replace('CHCICAGO','CHICAGO')\n",
    "#df['city'] = df['city'].replace('','CHICAGO')\n"
   ]
  },
  {
   "cell_type": "markdown",
   "metadata": {},
   "source": [
    "**state**"
   ]
  },
  {
   "cell_type": "code",
   "execution_count": 39,
   "metadata": {},
   "outputs": [
    {
     "data": {
      "text/plain": [
       "48"
      ]
     },
     "execution_count": 39,
     "metadata": {},
     "output_type": "execute_result"
    }
   ],
   "source": [
    "df['state'].isna().sum()"
   ]
  },
  {
   "cell_type": "code",
   "execution_count": 40,
   "metadata": {},
   "outputs": [
    {
     "data": {
      "text/html": [
       "<div>\n",
       "<style scoped>\n",
       "    .dataframe tbody tr th:only-of-type {\n",
       "        vertical-align: middle;\n",
       "    }\n",
       "\n",
       "    .dataframe tbody tr th {\n",
       "        vertical-align: top;\n",
       "    }\n",
       "\n",
       "    .dataframe thead th {\n",
       "        text-align: right;\n",
       "    }\n",
       "</style>\n",
       "<table border=\"1\" class=\"dataframe\">\n",
       "  <thead>\n",
       "    <tr style=\"text-align: right;\">\n",
       "      <th></th>\n",
       "      <th>dba_name</th>\n",
       "      <th>city</th>\n",
       "      <th>state</th>\n",
       "    </tr>\n",
       "  </thead>\n",
       "  <tbody>\n",
       "    <tr>\n",
       "      <th>5755</th>\n",
       "      <td>CRATER FOOD &amp; LIQUOR</td>\n",
       "      <td>CHICAGO</td>\n",
       "      <td>NaN</td>\n",
       "    </tr>\n",
       "    <tr>\n",
       "      <th>6237</th>\n",
       "      <td>YOLK - LINCOLN PARK</td>\n",
       "      <td>CHICAGO</td>\n",
       "      <td>NaN</td>\n",
       "    </tr>\n",
       "    <tr>\n",
       "      <th>6297</th>\n",
       "      <td>CRATER FOOD &amp; LIQUOR</td>\n",
       "      <td>CHICAGO</td>\n",
       "      <td>NaN</td>\n",
       "    </tr>\n",
       "    <tr>\n",
       "      <th>6302</th>\n",
       "      <td>Starbucks Coffee#51211</td>\n",
       "      <td>NOT DISCLOSED</td>\n",
       "      <td>NaN</td>\n",
       "    </tr>\n",
       "    <tr>\n",
       "      <th>6782</th>\n",
       "      <td>STAX CAFE</td>\n",
       "      <td>CHICAGO</td>\n",
       "      <td>NaN</td>\n",
       "    </tr>\n",
       "    <tr>\n",
       "      <th>7200</th>\n",
       "      <td>WINGSTOP</td>\n",
       "      <td>CHICAGO</td>\n",
       "      <td>NaN</td>\n",
       "    </tr>\n",
       "    <tr>\n",
       "      <th>19278</th>\n",
       "      <td>AMY BECK CAKE DESIGN, LLC</td>\n",
       "      <td>NOT DISCLOSED</td>\n",
       "      <td>NaN</td>\n",
       "    </tr>\n",
       "    <tr>\n",
       "      <th>23320</th>\n",
       "      <td>STAX CAFE</td>\n",
       "      <td>CHICAGO</td>\n",
       "      <td>NaN</td>\n",
       "    </tr>\n",
       "    <tr>\n",
       "      <th>23758</th>\n",
       "      <td>CITY HALL. LLC</td>\n",
       "      <td>CHICAGO</td>\n",
       "      <td>NaN</td>\n",
       "    </tr>\n",
       "    <tr>\n",
       "      <th>23765</th>\n",
       "      <td>CITY HALL. LLC</td>\n",
       "      <td>CHICAGO</td>\n",
       "      <td>NaN</td>\n",
       "    </tr>\n",
       "  </tbody>\n",
       "</table>\n",
       "</div>"
      ],
      "text/plain": [
       "                        dba_name           city state\n",
       "5755        CRATER FOOD & LIQUOR        CHICAGO   NaN\n",
       "6237         YOLK - LINCOLN PARK        CHICAGO   NaN\n",
       "6297        CRATER FOOD & LIQUOR        CHICAGO   NaN\n",
       "6302      Starbucks Coffee#51211  NOT DISCLOSED   NaN\n",
       "6782                   STAX CAFE        CHICAGO   NaN\n",
       "7200                    WINGSTOP        CHICAGO   NaN\n",
       "19278  AMY BECK CAKE DESIGN, LLC  NOT DISCLOSED   NaN\n",
       "23320                  STAX CAFE        CHICAGO   NaN\n",
       "23758             CITY HALL. LLC        CHICAGO   NaN\n",
       "23765             CITY HALL. LLC        CHICAGO   NaN"
      ]
     },
     "execution_count": 40,
     "metadata": {},
     "output_type": "execute_result"
    }
   ],
   "source": [
    "df[df['state'].isna()][['dba_name','city','state']].head(10)"
   ]
  },
  {
   "cell_type": "markdown",
   "metadata": {},
   "source": [
    "It appears there is a data input problem. For now, I'll manually fill missing states\n"
   ]
  },
  {
   "cell_type": "code",
   "execution_count": 41,
   "metadata": {},
   "outputs": [],
   "source": [
    "df.loc[(df.city=='CHICAGO')&(df.state.isna()),'state'] = 'IL'"
   ]
  },
  {
   "cell_type": "code",
   "execution_count": 42,
   "metadata": {},
   "outputs": [],
   "source": [
    "df['state'] = df['state'].fillna('Not Disclosed')"
   ]
  },
  {
   "cell_type": "code",
   "execution_count": 43,
   "metadata": {},
   "outputs": [
    {
     "data": {
      "text/plain": [
       "IL               212104\n",
       "Not Disclosed        20\n",
       "IN                    1\n",
       "NY                    1\n",
       "WI                    1\n",
       "Name: state, dtype: int64"
      ]
     },
     "execution_count": 43,
     "metadata": {},
     "output_type": "execute_result"
    }
   ],
   "source": [
    "df['state'].value_counts()"
   ]
  },
  {
   "cell_type": "markdown",
   "metadata": {},
   "source": [
    "Not sure why there are other states in this dataset. For now, I'll drop other states."
   ]
  },
  {
   "cell_type": "code",
   "execution_count": 44,
   "metadata": {},
   "outputs": [],
   "source": [
    "index_list = df[df.state != 'IL'].index.to_list()\n",
    "\n",
    "df = df.drop(index_list)"
   ]
  },
  {
   "cell_type": "markdown",
   "metadata": {},
   "source": [
    "**zip**"
   ]
  },
  {
   "cell_type": "code",
   "execution_count": 45,
   "metadata": {},
   "outputs": [
    {
     "data": {
      "text/plain": [
       "53"
      ]
     },
     "execution_count": 45,
     "metadata": {},
     "output_type": "execute_result"
    }
   ],
   "source": [
    "df['zip'].isna().sum()"
   ]
  },
  {
   "cell_type": "markdown",
   "metadata": {},
   "source": [
    "There are only 52 observations with missing zip values so I'll drop these values\n"
   ]
  },
  {
   "cell_type": "code",
   "execution_count": 46,
   "metadata": {},
   "outputs": [],
   "source": [
    "df = df.dropna(subset=['zip'])"
   ]
  },
  {
   "cell_type": "markdown",
   "metadata": {},
   "source": [
    "**inspection_date**"
   ]
  },
  {
   "cell_type": "code",
   "execution_count": 47,
   "metadata": {},
   "outputs": [
    {
     "data": {
      "text/plain": [
       "0"
      ]
     },
     "execution_count": 47,
     "metadata": {},
     "output_type": "execute_result"
    }
   ],
   "source": [
    "df['inspection_date'].isna().sum()"
   ]
  },
  {
   "cell_type": "code",
   "execution_count": 48,
   "metadata": {},
   "outputs": [
    {
     "name": "stdout",
     "output_type": "stream",
     "text": [
      "2020-10-28T00:00:00.000\n"
     ]
    },
    {
     "data": {
      "text/plain": [
       "str"
      ]
     },
     "execution_count": 48,
     "metadata": {},
     "output_type": "execute_result"
    }
   ],
   "source": [
    "print(df['inspection_date'][5])\n",
    "type(df['inspection_date'].iloc[5])"
   ]
  },
  {
   "cell_type": "markdown",
   "metadata": {},
   "source": [
    "I'll need to conver the inspection date column to datetime"
   ]
  },
  {
   "cell_type": "code",
   "execution_count": 49,
   "metadata": {},
   "outputs": [],
   "source": [
    "#Convert inspection_date column\n",
    "df['inspection_date_new'] = df['inspection_date'].apply(lambda x: datetime.strptime(x, '%Y-%m-%dT%H:%M:%S.%f'))\n"
   ]
  },
  {
   "cell_type": "code",
   "execution_count": 50,
   "metadata": {},
   "outputs": [
    {
     "data": {
      "text/plain": [
       "'10/28/20'"
      ]
     },
     "execution_count": 50,
     "metadata": {},
     "output_type": "execute_result"
    }
   ],
   "source": [
    "df.iloc[0]['inspection_date_new'].strftime(format='%x')"
   ]
  },
  {
   "cell_type": "code",
   "execution_count": 51,
   "metadata": {},
   "outputs": [
    {
     "name": "stdout",
     "output_type": "stream",
     "text": [
      "2020-10-28 00:00:00\n"
     ]
    },
    {
     "data": {
      "text/plain": [
       "pandas._libs.tslibs.timestamps.Timestamp"
      ]
     },
     "execution_count": 51,
     "metadata": {},
     "output_type": "execute_result"
    }
   ],
   "source": [
    "print(df['inspection_date_new'][5])\n",
    "type(df['inspection_date_new'].iloc[5])\n"
   ]
  },
  {
   "cell_type": "code",
   "execution_count": 52,
   "metadata": {},
   "outputs": [],
   "source": [
    "df['inspection_date_new'] = df['inspection_date_new'].apply(lambda x: x.strftime(format='%x'))"
   ]
  },
  {
   "cell_type": "code",
   "execution_count": 53,
   "metadata": {},
   "outputs": [
    {
     "name": "stdout",
     "output_type": "stream",
     "text": [
      "10/28/20\n"
     ]
    },
    {
     "data": {
      "text/plain": [
       "str"
      ]
     },
     "execution_count": 53,
     "metadata": {},
     "output_type": "execute_result"
    }
   ],
   "source": [
    "print(df['inspection_date_new'][5])\n",
    "type(df['inspection_date_new'].iloc[5])"
   ]
  },
  {
   "cell_type": "code",
   "execution_count": null,
   "metadata": {},
   "outputs": [],
   "source": []
  },
  {
   "cell_type": "code",
   "execution_count": null,
   "metadata": {},
   "outputs": [],
   "source": []
  },
  {
   "cell_type": "code",
   "execution_count": 54,
   "metadata": {},
   "outputs": [
    {
     "data": {
      "image/png": "[encoded data removed]",
      "text/plain": [
       "<Figure size 1296x576 with 1 Axes>"
      ]
     },
     "metadata": {
      "needs_background": "light"
     },
     "output_type": "display_data"
    }
   ],
   "source": [
    "import matplotlib.pylab as plt\n",
    "from collections import Counter\n",
    "\n",
    "# Tally occurrences of words in a list\n",
    "cnt = Counter()\n",
    "for day in df['inspection_date_new']:\n",
    "    cnt[day] += 1\n",
    "\n",
    "\n",
    "lists = sorted(cnt.items()) # sorted by key, return a list of tuples\n",
    "x, y = zip(*lists) # unpack a list of pairs into two tuples\n",
    "\n",
    "plt.figure(figsize=(18,8))\n",
    "plt.plot(x, y)\n",
    "\n",
    "plt.show()\n"
   ]
  },
  {
   "cell_type": "markdown",
   "metadata": {},
   "source": [
    "**inspection_type**\n"
   ]
  },
  {
   "cell_type": "code",
   "execution_count": 55,
   "metadata": {},
   "outputs": [
    {
     "data": {
      "text/plain": [
       "1"
      ]
     },
     "execution_count": 55,
     "metadata": {},
     "output_type": "execute_result"
    }
   ],
   "source": [
    "df['inspection_type'].isna().sum()\n"
   ]
  },
  {
   "cell_type": "code",
   "execution_count": 56,
   "metadata": {},
   "outputs": [],
   "source": [
    "df = df.dropna(subset=['inspection_type'])\n"
   ]
  },
  {
   "cell_type": "code",
   "execution_count": 57,
   "metadata": {},
   "outputs": [
    {
     "data": {
      "text/plain": [
       "Canvass                                   112789\n",
       "License                                    27823\n",
       "Canvass Re-Inspection                      22542\n",
       "Complaint                                  19661\n",
       "License Re-Inspection                       9480\n",
       "Complaint Re-Inspection                     8098\n",
       "Short Form Complaint                        7137\n",
       "Suspected Food Poisoning                     874\n",
       "Consultation                                 672\n",
       "License-Task Force                           604\n",
       "Tag Removal                                  603\n",
       "Recent Inspection                            357\n",
       "Out of Business                              284\n",
       "Task Force Liquor 1475                       252\n",
       "Suspected Food Poisoning Re-inspection       193\n",
       "Name: inspection_type, dtype: int64"
      ]
     },
     "execution_count": 57,
     "metadata": {},
     "output_type": "execute_result"
    }
   ],
   "source": [
    "df['inspection_type'].value_counts().head(15)\n"
   ]
  },
  {
   "cell_type": "markdown",
   "metadata": {},
   "source": [
    "**results**\n"
   ]
  },
  {
   "cell_type": "code",
   "execution_count": 58,
   "metadata": {},
   "outputs": [
    {
     "data": {
      "text/html": [
       "<div>\n",
       "<style scoped>\n",
       "    .dataframe tbody tr th:only-of-type {\n",
       "        vertical-align: middle;\n",
       "    }\n",
       "\n",
       "    .dataframe tbody tr th {\n",
       "        vertical-align: top;\n",
       "    }\n",
       "\n",
       "    .dataframe thead th {\n",
       "        text-align: right;\n",
       "    }\n",
       "</style>\n",
       "<table border=\"1\" class=\"dataframe\">\n",
       "  <thead>\n",
       "    <tr style=\"text-align: right;\">\n",
       "      <th></th>\n",
       "      <th>counts</th>\n",
       "      <th>percentage</th>\n",
       "    </tr>\n",
       "  </thead>\n",
       "  <tbody>\n",
       "    <tr>\n",
       "      <th>Pass</th>\n",
       "      <td>111305</td>\n",
       "      <td>0.524900</td>\n",
       "    </tr>\n",
       "    <tr>\n",
       "      <th>Fail</th>\n",
       "      <td>40988</td>\n",
       "      <td>0.193294</td>\n",
       "    </tr>\n",
       "    <tr>\n",
       "      <th>Pass w/ Conditions</th>\n",
       "      <td>32027</td>\n",
       "      <td>0.151035</td>\n",
       "    </tr>\n",
       "    <tr>\n",
       "      <th>Out of Business</th>\n",
       "      <td>18390</td>\n",
       "      <td>0.086725</td>\n",
       "    </tr>\n",
       "    <tr>\n",
       "      <th>No Entry</th>\n",
       "      <td>7066</td>\n",
       "      <td>0.033322</td>\n",
       "    </tr>\n",
       "    <tr>\n",
       "      <th>Not Ready</th>\n",
       "      <td>2204</td>\n",
       "      <td>0.010394</td>\n",
       "    </tr>\n",
       "    <tr>\n",
       "      <th>Business Not Located</th>\n",
       "      <td>70</td>\n",
       "      <td>0.000330</td>\n",
       "    </tr>\n",
       "  </tbody>\n",
       "</table>\n",
       "</div>"
      ],
      "text/plain": [
       "                      counts  percentage\n",
       "Pass                  111305    0.524900\n",
       "Fail                   40988    0.193294\n",
       "Pass w/ Conditions     32027    0.151035\n",
       "Out of Business        18390    0.086725\n",
       "No Entry                7066    0.033322\n",
       "Not Ready               2204    0.010394\n",
       "Business Not Located      70    0.000330"
      ]
     },
     "execution_count": 58,
     "metadata": {},
     "output_type": "execute_result"
    }
   ],
   "source": [
    "pd.DataFrame({'counts':df['results'].value_counts(),\n",
    "              'percentage':df['results'].value_counts()/df.shape[0]})"
   ]
  },
  {
   "cell_type": "markdown",
   "metadata": {},
   "source": [
    "I'm building a classification model to predict the multinomial classifications above based on the inspector's comments. Therefore, I plan to exclude the four results that we do not have sufficient records. Separately, I also noticed some records for \"no entry\" still had comments associated with them. "
   ]
  },
  {
   "cell_type": "code",
   "execution_count": 59,
   "metadata": {},
   "outputs": [
    {
     "data": {
      "text/html": [
       "<div>\n",
       "<style scoped>\n",
       "    .dataframe tbody tr th:only-of-type {\n",
       "        vertical-align: middle;\n",
       "    }\n",
       "\n",
       "    .dataframe tbody tr th {\n",
       "        vertical-align: top;\n",
       "    }\n",
       "\n",
       "    .dataframe thead th {\n",
       "        text-align: right;\n",
       "    }\n",
       "</style>\n",
       "<table border=\"1\" class=\"dataframe\">\n",
       "  <thead>\n",
       "    <tr style=\"text-align: right;\">\n",
       "      <th></th>\n",
       "      <th>inspection_id</th>\n",
       "      <th>dba_name</th>\n",
       "      <th>aka_name</th>\n",
       "      <th>license_</th>\n",
       "      <th>facility_type</th>\n",
       "      <th>risk</th>\n",
       "      <th>address</th>\n",
       "      <th>city</th>\n",
       "      <th>state</th>\n",
       "      <th>zip</th>\n",
       "      <th>inspection_date</th>\n",
       "      <th>inspection_type</th>\n",
       "      <th>results</th>\n",
       "      <th>violations</th>\n",
       "      <th>latitude</th>\n",
       "      <th>longitude</th>\n",
       "      <th>location</th>\n",
       "      <th>inspection_date_new</th>\n",
       "    </tr>\n",
       "  </thead>\n",
       "  <tbody>\n",
       "    <tr>\n",
       "      <th>54</th>\n",
       "      <td>2453751</td>\n",
       "      <td>EL POTRILLO</td>\n",
       "      <td>EL POTRILLO</td>\n",
       "      <td>13419</td>\n",
       "      <td>Liquor</td>\n",
       "      <td>Risk 3 (Low)</td>\n",
       "      <td>5129 S ARCHER AVE</td>\n",
       "      <td>CHICAGO</td>\n",
       "      <td>IL</td>\n",
       "      <td>60632</td>\n",
       "      <td>2020-10-23T00:00:00.000</td>\n",
       "      <td>Complaint Re-Inspection</td>\n",
       "      <td>No Entry</td>\n",
       "      <td>3. MANAGEMENT, FOOD EMPLOYEE AND CONDITIONAL EMPLOYEE; KNOWLEDGE, RESPONSIBILITIES AND REPORTING - Comments:  2-102.14(O): NO EMPLOYEE HEALTH POLICY ON SITE. INSTD TO PROVIDE A VERFIABLE EMPLOYEE HEALTH POLICY AND MAINTAIN. PRIORITY FOUNDATION 7-38-010 | 5. PROCEDURES FOR RESPONDING TO VOMITING AND DIARRHEAL EVENTS - Comments:  2-501.11: NO PROCEDURE IN PLACE FOR VOMITING AND DIARRHEAL EVENTS. INSTD TO PROVIDE PROCEDURE AND NECESSARY SUPPLIES EFFECTIVE AGAINST NOROVIRUS. PRIORITY FOUNDATION 7-38-005 | 10. ADEQUATE HANDWASHING SINKS PROPERLY SUPPLIED AND ACCESSIBLE - Comments: 5-204.11: NO HANDWASH SINK IN BAR AREA. INSTD TO PROVIDE A HANDWASH SINK PROPERLY CONNECTED UNDER CITY PRESSURE WITH 100F-120F TEMPERATURE OF WATER. PRIORITY FOUNDATION 7-38-030(C) | 38. INSECTS, RODENTS, &amp; ANIMALS NOT PRESENT - Comments: 6-501.111: 3 LIVE ROACHES AND ROACH FECES NOTED AT BAR 3-COMPARTMENT SINK. INSTD TO REMOVE ROACHES AND FECES, CLEAN AND SANITIZED AFFECTED AREAS. CITATION ISSUED PRIORITY FO...</td>\n",
       "      <td>NaN</td>\n",
       "      <td>NaN</td>\n",
       "      <td>NaN</td>\n",
       "      <td>10/23/20</td>\n",
       "    </tr>\n",
       "    <tr>\n",
       "      <th>82</th>\n",
       "      <td>2453819</td>\n",
       "      <td>LOS MIXIOTES</td>\n",
       "      <td>LOS MIXIOTES</td>\n",
       "      <td>2433002</td>\n",
       "      <td>Restaurant</td>\n",
       "      <td>Risk 1 (High)</td>\n",
       "      <td>6530-6532 S PULASKI RD</td>\n",
       "      <td>CHICAGO</td>\n",
       "      <td>IL</td>\n",
       "      <td>60629</td>\n",
       "      <td>2020-10-22T00:00:00.000</td>\n",
       "      <td>Canvass</td>\n",
       "      <td>No Entry</td>\n",
       "      <td>NaN</td>\n",
       "      <td>NaN</td>\n",
       "      <td>NaN</td>\n",
       "      <td>NaN</td>\n",
       "      <td>10/22/20</td>\n",
       "    </tr>\n",
       "    <tr>\n",
       "      <th>99</th>\n",
       "      <td>2453716</td>\n",
       "      <td>GOURMET GORILLA</td>\n",
       "      <td>HUNTER PERKINS CAMPUS</td>\n",
       "      <td>2608552</td>\n",
       "      <td>CHARTER SCHOOL</td>\n",
       "      <td>Risk 1 (High)</td>\n",
       "      <td>1700 W 83RD ST</td>\n",
       "      <td>CHICAGO</td>\n",
       "      <td>IL</td>\n",
       "      <td>60620</td>\n",
       "      <td>2020-10-22T00:00:00.000</td>\n",
       "      <td>Canvass</td>\n",
       "      <td>No Entry</td>\n",
       "      <td>NaN</td>\n",
       "      <td>NaN</td>\n",
       "      <td>NaN</td>\n",
       "      <td>NaN</td>\n",
       "      <td>10/22/20</td>\n",
       "    </tr>\n",
       "    <tr>\n",
       "      <th>104</th>\n",
       "      <td>2453650</td>\n",
       "      <td>STUDIO MOVIE GRILL</td>\n",
       "      <td>STUDIO MOVIE GRILL</td>\n",
       "      <td>2309244</td>\n",
       "      <td>Restaurant</td>\n",
       "      <td>Risk 1 (High)</td>\n",
       "      <td>210 W 87TH ST</td>\n",
       "      <td>CHICAGO</td>\n",
       "      <td>IL</td>\n",
       "      <td>60620</td>\n",
       "      <td>2020-10-21T00:00:00.000</td>\n",
       "      <td>Canvass</td>\n",
       "      <td>No Entry</td>\n",
       "      <td>55. PHYSICAL FACILITIES INSTALLED, MAINTAINED &amp; CLEAN - Comments: Violation Codes: 6-501.11 Inspector Comments: DAMAGED FLOOR TILE AROUND THE FLOOR DRAIN BEHIND THE CONCESSION STAND. INSTRUCTED TO REPAIR/REPLACE FLOOR TILE. MAINTAIN SMOOTH AND EASILY CLEANABLE FLOORS. | 58. ALLERGEN TRAINING AS REQUIRED - Comments: Violation Codes: 2-102.13 Inspector Comments: OBSERVED NO ALLERGEN TRAINING AVAILABLE DURING INSPECTION. ALL CERTIFIED MANAGERS MUST PROVIDE ALLERGEN TRAINING.</td>\n",
       "      <td>NaN</td>\n",
       "      <td>NaN</td>\n",
       "      <td>NaN</td>\n",
       "      <td>10/21/20</td>\n",
       "    </tr>\n",
       "    <tr>\n",
       "      <th>113</th>\n",
       "      <td>2453659</td>\n",
       "      <td>WALMART #5781</td>\n",
       "      <td>WALMART #5781</td>\n",
       "      <td>2104019</td>\n",
       "      <td>Grocery Store</td>\n",
       "      <td>Risk 1 (High)</td>\n",
       "      <td>8331 S STEWART AVE</td>\n",
       "      <td>CHICAGO</td>\n",
       "      <td>IL</td>\n",
       "      <td>60620</td>\n",
       "      <td>2020-10-21T00:00:00.000</td>\n",
       "      <td>Canvass</td>\n",
       "      <td>No Entry</td>\n",
       "      <td>49. NON-FOOD/FOOD CONTACT SURFACES CLEAN - Comments: Violation Codes: 4-602.13 Inspector Comments: FOUND BLACK MOLD LIKE SUBSTANCE ON THE STORAGE RACKS WHERE THE JUICES ARE STORED IN THE REAR COLD HOLDING UNIT. INSTRUCTED TO KEEP RACKS CLEAN.</td>\n",
       "      <td>NaN</td>\n",
       "      <td>NaN</td>\n",
       "      <td>NaN</td>\n",
       "      <td>10/21/20</td>\n",
       "    </tr>\n",
       "    <tr>\n",
       "      <th>...</th>\n",
       "      <td>...</td>\n",
       "      <td>...</td>\n",
       "      <td>...</td>\n",
       "      <td>...</td>\n",
       "      <td>...</td>\n",
       "      <td>...</td>\n",
       "      <td>...</td>\n",
       "      <td>...</td>\n",
       "      <td>...</td>\n",
       "      <td>...</td>\n",
       "      <td>...</td>\n",
       "      <td>...</td>\n",
       "      <td>...</td>\n",
       "      <td>...</td>\n",
       "      <td>...</td>\n",
       "      <td>...</td>\n",
       "      <td>...</td>\n",
       "      <td>...</td>\n",
       "    </tr>\n",
       "    <tr>\n",
       "      <th>167503</th>\n",
       "      <td>1230048</td>\n",
       "      <td>TAPAS LAS RAMBLAS</td>\n",
       "      <td>TAPAS LAS RAMBLAS</td>\n",
       "      <td>1799141</td>\n",
       "      <td>Restaurant</td>\n",
       "      <td>Risk 1 (High)</td>\n",
       "      <td>5101-5103 N CLARK ST</td>\n",
       "      <td>CHICAGO</td>\n",
       "      <td>IL</td>\n",
       "      <td>60640</td>\n",
       "      <td>2012-06-05T00:00:00.000</td>\n",
       "      <td>Complaint</td>\n",
       "      <td>No Entry</td>\n",
       "      <td>NaN</td>\n",
       "      <td>NaN</td>\n",
       "      <td>NaN</td>\n",
       "      <td>NaN</td>\n",
       "      <td>06/05/12</td>\n",
       "    </tr>\n",
       "    <tr>\n",
       "      <th>167852</th>\n",
       "      <td>1229215</td>\n",
       "      <td>CHICAGO FONDUE STUBE</td>\n",
       "      <td>CHICAGO FONDUE STUBE</td>\n",
       "      <td>26813</td>\n",
       "      <td>Restaurant</td>\n",
       "      <td>Risk 1 (High)</td>\n",
       "      <td>2717 W PETERSON AVE</td>\n",
       "      <td>CHICAGO</td>\n",
       "      <td>IL</td>\n",
       "      <td>60659</td>\n",
       "      <td>2012-05-29T00:00:00.000</td>\n",
       "      <td>Canvass</td>\n",
       "      <td>No Entry</td>\n",
       "      <td>NaN</td>\n",
       "      <td>NaN</td>\n",
       "      <td>NaN</td>\n",
       "      <td>NaN</td>\n",
       "      <td>05/29/12</td>\n",
       "    </tr>\n",
       "    <tr>\n",
       "      <th>167892</th>\n",
       "      <td>1229216</td>\n",
       "      <td>KATSU ENTERPRISESES INC</td>\n",
       "      <td>KATSU JAPANESE RESTAURANT</td>\n",
       "      <td>16281</td>\n",
       "      <td>Restaurant</td>\n",
       "      <td>Risk 1 (High)</td>\n",
       "      <td>2651 W PETERSON AVE</td>\n",
       "      <td>CHICAGO</td>\n",
       "      <td>IL</td>\n",
       "      <td>60659</td>\n",
       "      <td>2012-05-29T00:00:00.000</td>\n",
       "      <td>Canvass</td>\n",
       "      <td>No Entry</td>\n",
       "      <td>NaN</td>\n",
       "      <td>NaN</td>\n",
       "      <td>NaN</td>\n",
       "      <td>NaN</td>\n",
       "      <td>05/29/12</td>\n",
       "    </tr>\n",
       "    <tr>\n",
       "      <th>172479</th>\n",
       "      <td>671042</td>\n",
       "      <td>MAGNOLIA CAFE</td>\n",
       "      <td>MAGNOLIA CAFE</td>\n",
       "      <td>1968899</td>\n",
       "      <td>Restaurant</td>\n",
       "      <td>Risk 1 (High)</td>\n",
       "      <td>1224 W WILSON AVE</td>\n",
       "      <td>CHICAGO</td>\n",
       "      <td>IL</td>\n",
       "      <td>60640</td>\n",
       "      <td>2012-03-01T00:00:00.000</td>\n",
       "      <td>Canvass</td>\n",
       "      <td>No Entry</td>\n",
       "      <td>NaN</td>\n",
       "      <td>NaN</td>\n",
       "      <td>NaN</td>\n",
       "      <td>NaN</td>\n",
       "      <td>03/01/12</td>\n",
       "    </tr>\n",
       "    <tr>\n",
       "      <th>173156</th>\n",
       "      <td>588252</td>\n",
       "      <td>GARRETT POPCORN SHOPS</td>\n",
       "      <td>GARRETT POPCORN SHOPS</td>\n",
       "      <td>2125326</td>\n",
       "      <td>Restaurant</td>\n",
       "      <td>Risk 2 (Medium)</td>\n",
       "      <td>27 W JACKSON BLVD</td>\n",
       "      <td>CHICAGO</td>\n",
       "      <td>IL</td>\n",
       "      <td>60604</td>\n",
       "      <td>2012-02-14T00:00:00.000</td>\n",
       "      <td>Complaint</td>\n",
       "      <td>No Entry</td>\n",
       "      <td>NaN</td>\n",
       "      <td>NaN</td>\n",
       "      <td>NaN</td>\n",
       "      <td>NaN</td>\n",
       "      <td>02/14/12</td>\n",
       "    </tr>\n",
       "  </tbody>\n",
       "</table>\n",
       "<p>7066 rows × 18 columns</p>\n",
       "</div>"
      ],
      "text/plain": [
       "       inspection_id                 dba_name                   aka_name  \\\n",
       "54           2453751              EL POTRILLO                EL POTRILLO   \n",
       "82           2453819             LOS MIXIOTES               LOS MIXIOTES   \n",
       "99           2453716          GOURMET GORILLA      HUNTER PERKINS CAMPUS   \n",
       "104          2453650       STUDIO MOVIE GRILL         STUDIO MOVIE GRILL   \n",
       "113          2453659            WALMART #5781              WALMART #5781   \n",
       "...              ...                      ...                        ...   \n",
       "167503       1230048        TAPAS LAS RAMBLAS          TAPAS LAS RAMBLAS   \n",
       "167852       1229215     CHICAGO FONDUE STUBE       CHICAGO FONDUE STUBE   \n",
       "167892       1229216  KATSU ENTERPRISESES INC  KATSU JAPANESE RESTAURANT   \n",
       "172479        671042            MAGNOLIA CAFE              MAGNOLIA CAFE   \n",
       "173156        588252    GARRETT POPCORN SHOPS      GARRETT POPCORN SHOPS   \n",
       "\n",
       "       license_   facility_type             risk                 address  \\\n",
       "54        13419          Liquor     Risk 3 (Low)       5129 S ARCHER AVE   \n",
       "82      2433002      Restaurant    Risk 1 (High)  6530-6532 S PULASKI RD   \n",
       "99      2608552  CHARTER SCHOOL    Risk 1 (High)          1700 W 83RD ST   \n",
       "104     2309244      Restaurant    Risk 1 (High)           210 W 87TH ST   \n",
       "113     2104019   Grocery Store    Risk 1 (High)      8331 S STEWART AVE   \n",
       "...         ...             ...              ...                     ...   \n",
       "167503  1799141      Restaurant    Risk 1 (High)    5101-5103 N CLARK ST   \n",
       "167852    26813      Restaurant    Risk 1 (High)     2717 W PETERSON AVE   \n",
       "167892    16281      Restaurant    Risk 1 (High)     2651 W PETERSON AVE   \n",
       "172479  1968899      Restaurant    Risk 1 (High)       1224 W WILSON AVE   \n",
       "173156  2125326      Restaurant  Risk 2 (Medium)       27 W JACKSON BLVD   \n",
       "\n",
       "           city state    zip          inspection_date  \\\n",
       "54      CHICAGO    IL  60632  2020-10-23T00:00:00.000   \n",
       "82      CHICAGO    IL  60629  2020-10-22T00:00:00.000   \n",
       "99      CHICAGO    IL  60620  2020-10-22T00:00:00.000   \n",
       "104     CHICAGO    IL  60620  2020-10-21T00:00:00.000   \n",
       "113     CHICAGO    IL  60620  2020-10-21T00:00:00.000   \n",
       "...         ...   ...    ...                      ...   \n",
       "167503  CHICAGO    IL  60640  2012-06-05T00:00:00.000   \n",
       "167852  CHICAGO    IL  60659  2012-05-29T00:00:00.000   \n",
       "167892  CHICAGO    IL  60659  2012-05-29T00:00:00.000   \n",
       "172479  CHICAGO    IL  60640  2012-03-01T00:00:00.000   \n",
       "173156  CHICAGO    IL  60604  2012-02-14T00:00:00.000   \n",
       "\n",
       "                inspection_type   results  \\\n",
       "54      Complaint Re-Inspection  No Entry   \n",
       "82                      Canvass  No Entry   \n",
       "99                      Canvass  No Entry   \n",
       "104                     Canvass  No Entry   \n",
       "113                     Canvass  No Entry   \n",
       "...                         ...       ...   \n",
       "167503                Complaint  No Entry   \n",
       "167852                  Canvass  No Entry   \n",
       "167892                  Canvass  No Entry   \n",
       "172479                  Canvass  No Entry   \n",
       "173156                Complaint  No Entry   \n",
       "\n",
       "                                                                                                                                                                                                                                                                                                                                                                                                                                                                                                                                                                                                                                                                                                                                                                                                                                                                                                                                                                                                                                    violations  \\\n",
       "54      3. MANAGEMENT, FOOD EMPLOYEE AND CONDITIONAL EMPLOYEE; KNOWLEDGE, RESPONSIBILITIES AND REPORTING - Comments:  2-102.14(O): NO EMPLOYEE HEALTH POLICY ON SITE. INSTD TO PROVIDE A VERFIABLE EMPLOYEE HEALTH POLICY AND MAINTAIN. PRIORITY FOUNDATION 7-38-010 | 5. PROCEDURES FOR RESPONDING TO VOMITING AND DIARRHEAL EVENTS - Comments:  2-501.11: NO PROCEDURE IN PLACE FOR VOMITING AND DIARRHEAL EVENTS. INSTD TO PROVIDE PROCEDURE AND NECESSARY SUPPLIES EFFECTIVE AGAINST NOROVIRUS. PRIORITY FOUNDATION 7-38-005 | 10. ADEQUATE HANDWASHING SINKS PROPERLY SUPPLIED AND ACCESSIBLE - Comments: 5-204.11: NO HANDWASH SINK IN BAR AREA. INSTD TO PROVIDE A HANDWASH SINK PROPERLY CONNECTED UNDER CITY PRESSURE WITH 100F-120F TEMPERATURE OF WATER. PRIORITY FOUNDATION 7-38-030(C) | 38. INSECTS, RODENTS, & ANIMALS NOT PRESENT - Comments: 6-501.111: 3 LIVE ROACHES AND ROACH FECES NOTED AT BAR 3-COMPARTMENT SINK. INSTD TO REMOVE ROACHES AND FECES, CLEAN AND SANITIZED AFFECTED AREAS. CITATION ISSUED PRIORITY FO...   \n",
       "82                                                                                                                                                                                                                                                                                                                                                                                                                                                                                                                                                                                                                                                                                                                                                                                                                                                                                                                                                                                                                                         NaN   \n",
       "99                                                                                                                                                                                                                                                                                                                                                                                                                                                                                                                                                                                                                                                                                                                                                                                                                                                                                                                                                                                                                                         NaN   \n",
       "104                                                                                                                                                                                                                                                                                                                                                                                                                                                                                                                                               55. PHYSICAL FACILITIES INSTALLED, MAINTAINED & CLEAN - Comments: Violation Codes: 6-501.11 Inspector Comments: DAMAGED FLOOR TILE AROUND THE FLOOR DRAIN BEHIND THE CONCESSION STAND. INSTRUCTED TO REPAIR/REPLACE FLOOR TILE. MAINTAIN SMOOTH AND EASILY CLEANABLE FLOORS. | 58. ALLERGEN TRAINING AS REQUIRED - Comments: Violation Codes: 2-102.13 Inspector Comments: OBSERVED NO ALLERGEN TRAINING AVAILABLE DURING INSPECTION. ALL CERTIFIED MANAGERS MUST PROVIDE ALLERGEN TRAINING.   \n",
       "113                                                                                                                                                                                                                                                                                                                                                                                                                                                                                                                                                                                                                                                                                                                                                                                         49. NON-FOOD/FOOD CONTACT SURFACES CLEAN - Comments: Violation Codes: 4-602.13 Inspector Comments: FOUND BLACK MOLD LIKE SUBSTANCE ON THE STORAGE RACKS WHERE THE JUICES ARE STORED IN THE REAR COLD HOLDING UNIT. INSTRUCTED TO KEEP RACKS CLEAN.   \n",
       "...                                                                                                                                                                                                                                                                                                                                                                                                                                                                                                                                                                                                                                                                                                                                                                                                                                                                                                                                                                                                                                        ...   \n",
       "167503                                                                                                                                                                                                                                                                                                                                                                                                                                                                                                                                                                                                                                                                                                                                                                                                                                                                                                                                                                                                                                     NaN   \n",
       "167852                                                                                                                                                                                                                                                                                                                                                                                                                                                                                                                                                                                                                                                                                                                                                                                                                                                                                                                                                                                                                                     NaN   \n",
       "167892                                                                                                                                                                                                                                                                                                                                                                                                                                                                                                                                                                                                                                                                                                                                                                                                                                                                                                                                                                                                                                     NaN   \n",
       "172479                                                                                                                                                                                                                                                                                                                                                                                                                                                                                                                                                                                                                                                                                                                                                                                                                                                                                                                                                                                                                                     NaN   \n",
       "173156                                                                                                                                                                                                                                                                                                                                                                                                                                                                                                                                                                                                                                                                                                                                                                                                                                                                                                                                                                                                                                     NaN   \n",
       "\n",
       "       latitude longitude location inspection_date_new  \n",
       "54          NaN       NaN      NaN            10/23/20  \n",
       "82          NaN       NaN      NaN            10/22/20  \n",
       "99          NaN       NaN      NaN            10/22/20  \n",
       "104         NaN       NaN      NaN            10/21/20  \n",
       "113         NaN       NaN      NaN            10/21/20  \n",
       "...         ...       ...      ...                 ...  \n",
       "167503      NaN       NaN      NaN            06/05/12  \n",
       "167852      NaN       NaN      NaN            05/29/12  \n",
       "167892      NaN       NaN      NaN            05/29/12  \n",
       "172479      NaN       NaN      NaN            03/01/12  \n",
       "173156      NaN       NaN      NaN            02/14/12  \n",
       "\n",
       "[7066 rows x 18 columns]"
      ]
     },
     "execution_count": 59,
     "metadata": {},
     "output_type": "execute_result"
    }
   ],
   "source": [
    "df[df['results']=='No Entry']"
   ]
  },
  {
   "cell_type": "code",
   "execution_count": 60,
   "metadata": {},
   "outputs": [
    {
     "name": "stdout",
     "output_type": "stream",
     "text": [
      "['Pass', 'Fail', 'Pass w/ Conditions']\n"
     ]
    }
   ],
   "source": [
    "#I'm setting the threshold for data sufficiency at 15%, so if a result is not at least 15% of the dataset, it will be dropped\n",
    "perc = df['results'].value_counts()/df.shape[0]\n",
    "my_list = perc[perc>0.15].keys().to_list()\n",
    "print(my_list)\n",
    "\n",
    "df = df[df.results.isin(my_list)]"
   ]
  },
  {
   "cell_type": "markdown",
   "metadata": {},
   "source": [
    "**violations**\n"
   ]
  },
  {
   "cell_type": "code",
   "execution_count": 61,
   "metadata": {},
   "outputs": [
    {
     "data": {
      "text/plain": [
       "29240"
      ]
     },
     "execution_count": 61,
     "metadata": {},
     "output_type": "execute_result"
    }
   ],
   "source": [
    "df.violations.isna().sum()"
   ]
  },
  {
   "cell_type": "code",
   "execution_count": 62,
   "metadata": {},
   "outputs": [
    {
     "data": {
      "text/html": [
       "<div>\n",
       "<style scoped>\n",
       "    .dataframe tbody tr th:only-of-type {\n",
       "        vertical-align: middle;\n",
       "    }\n",
       "\n",
       "    .dataframe tbody tr th {\n",
       "        vertical-align: top;\n",
       "    }\n",
       "\n",
       "    .dataframe thead th {\n",
       "        text-align: right;\n",
       "    }\n",
       "</style>\n",
       "<table border=\"1\" class=\"dataframe\">\n",
       "  <thead>\n",
       "    <tr style=\"text-align: right;\">\n",
       "      <th></th>\n",
       "      <th>inspection_id</th>\n",
       "      <th>dba_name</th>\n",
       "      <th>aka_name</th>\n",
       "      <th>license_</th>\n",
       "      <th>facility_type</th>\n",
       "      <th>risk</th>\n",
       "      <th>address</th>\n",
       "      <th>city</th>\n",
       "      <th>state</th>\n",
       "      <th>zip</th>\n",
       "      <th>inspection_date</th>\n",
       "      <th>inspection_type</th>\n",
       "      <th>results</th>\n",
       "      <th>violations</th>\n",
       "      <th>latitude</th>\n",
       "      <th>longitude</th>\n",
       "      <th>location</th>\n",
       "      <th>inspection_date_new</th>\n",
       "    </tr>\n",
       "  </thead>\n",
       "  <tbody>\n",
       "    <tr>\n",
       "      <th>49354</th>\n",
       "      <td>2117177</td>\n",
       "      <td>WENDY'S PROPERTIES, LLC</td>\n",
       "      <td>WENDY'S</td>\n",
       "      <td>2405952</td>\n",
       "      <td>Restaurant</td>\n",
       "      <td>Risk 1 (High)</td>\n",
       "      <td>8302 S ASHLAND AVE</td>\n",
       "      <td>CHICAGO</td>\n",
       "      <td>IL</td>\n",
       "      <td>60620</td>\n",
       "      <td>2017-12-13T00:00:00.000</td>\n",
       "      <td>Complaint</td>\n",
       "      <td>Pass</td>\n",
       "      <td>NaN</td>\n",
       "      <td>NaN</td>\n",
       "      <td>NaN</td>\n",
       "      <td>NaN</td>\n",
       "      <td>12/13/17</td>\n",
       "    </tr>\n",
       "    <tr>\n",
       "      <th>182935</th>\n",
       "      <td>598311</td>\n",
       "      <td>BONY'S FOOD MART</td>\n",
       "      <td>BONY'S FOOD MART</td>\n",
       "      <td>2107933</td>\n",
       "      <td>Grocery Store</td>\n",
       "      <td>Risk 3 (Low)</td>\n",
       "      <td>1942 S CARPENTER ST</td>\n",
       "      <td>CHICAGO</td>\n",
       "      <td>IL</td>\n",
       "      <td>60608</td>\n",
       "      <td>2011-08-03T00:00:00.000</td>\n",
       "      <td>License Re-Inspection</td>\n",
       "      <td>Pass</td>\n",
       "      <td>NaN</td>\n",
       "      <td>NaN</td>\n",
       "      <td>NaN</td>\n",
       "      <td>NaN</td>\n",
       "      <td>08/03/11</td>\n",
       "    </tr>\n",
       "    <tr>\n",
       "      <th>204388</th>\n",
       "      <td>231408</td>\n",
       "      <td>CORK AND KERRY ON 33RD</td>\n",
       "      <td>CORK AND KERRY</td>\n",
       "      <td>2013349</td>\n",
       "      <td>Restaurant</td>\n",
       "      <td>Risk 1 (High)</td>\n",
       "      <td>3258 S PRINCETON AVE</td>\n",
       "      <td>CHICAGO</td>\n",
       "      <td>IL</td>\n",
       "      <td>60616</td>\n",
       "      <td>2010-06-10T00:00:00.000</td>\n",
       "      <td>License Re-Inspection</td>\n",
       "      <td>Pass</td>\n",
       "      <td>NaN</td>\n",
       "      <td>NaN</td>\n",
       "      <td>NaN</td>\n",
       "      <td>NaN</td>\n",
       "      <td>06/10/10</td>\n",
       "    </tr>\n",
       "    <tr>\n",
       "      <th>103630</th>\n",
       "      <td>1387862</td>\n",
       "      <td>SHARKS FISH &amp; CHICKEN</td>\n",
       "      <td>SHARKS FISH &amp; CHICKEN</td>\n",
       "      <td>1477112</td>\n",
       "      <td>Restaurant</td>\n",
       "      <td>Risk 2 (Medium)</td>\n",
       "      <td>2027 E 95TH ST</td>\n",
       "      <td>CHICAGO</td>\n",
       "      <td>IL</td>\n",
       "      <td>60617</td>\n",
       "      <td>2015-07-13T00:00:00.000</td>\n",
       "      <td>Short Form Complaint</td>\n",
       "      <td>Pass</td>\n",
       "      <td>NaN</td>\n",
       "      <td>NaN</td>\n",
       "      <td>NaN</td>\n",
       "      <td>NaN</td>\n",
       "      <td>07/13/15</td>\n",
       "    </tr>\n",
       "    <tr>\n",
       "      <th>132766</th>\n",
       "      <td>1401626</td>\n",
       "      <td>POTBELLY SANDWICH WORKS, LLC</td>\n",
       "      <td>POTBELLY SANDWICH WORKS, LLC</td>\n",
       "      <td>2313501</td>\n",
       "      <td>Restaurant</td>\n",
       "      <td>Risk 1 (High)</td>\n",
       "      <td>1293 N MILWAUKEE AVE</td>\n",
       "      <td>CHICAGO</td>\n",
       "      <td>IL</td>\n",
       "      <td>60622</td>\n",
       "      <td>2014-02-28T00:00:00.000</td>\n",
       "      <td>License</td>\n",
       "      <td>Fail</td>\n",
       "      <td>NaN</td>\n",
       "      <td>NaN</td>\n",
       "      <td>NaN</td>\n",
       "      <td>NaN</td>\n",
       "      <td>02/28/14</td>\n",
       "    </tr>\n",
       "    <tr>\n",
       "      <th>137667</th>\n",
       "      <td>1375518</td>\n",
       "      <td>Michigan Candy Store</td>\n",
       "      <td>Michigan Candy Store</td>\n",
       "      <td>2004511</td>\n",
       "      <td>Grocery Store</td>\n",
       "      <td>Risk 3 (Low)</td>\n",
       "      <td>980 N MICHIGAN AVE</td>\n",
       "      <td>CHICAGO</td>\n",
       "      <td>IL</td>\n",
       "      <td>60611</td>\n",
       "      <td>2013-11-18T00:00:00.000</td>\n",
       "      <td>Canvass</td>\n",
       "      <td>Pass</td>\n",
       "      <td>NaN</td>\n",
       "      <td>NaN</td>\n",
       "      <td>NaN</td>\n",
       "      <td>NaN</td>\n",
       "      <td>11/18/13</td>\n",
       "    </tr>\n",
       "    <tr>\n",
       "      <th>138046</th>\n",
       "      <td>1375335</td>\n",
       "      <td>HEARTLAND CAFE</td>\n",
       "      <td>HEARTLAND CAFE</td>\n",
       "      <td>2177844</td>\n",
       "      <td>Restaurant</td>\n",
       "      <td>Risk 1 (High)</td>\n",
       "      <td>7000 N GLENWOOD AVE</td>\n",
       "      <td>CHICAGO</td>\n",
       "      <td>IL</td>\n",
       "      <td>60626</td>\n",
       "      <td>2013-11-12T00:00:00.000</td>\n",
       "      <td>License</td>\n",
       "      <td>Fail</td>\n",
       "      <td>NaN</td>\n",
       "      <td>NaN</td>\n",
       "      <td>NaN</td>\n",
       "      <td>NaN</td>\n",
       "      <td>11/12/13</td>\n",
       "    </tr>\n",
       "    <tr>\n",
       "      <th>177948</th>\n",
       "      <td>555307</td>\n",
       "      <td>LONGWOOD FOODS</td>\n",
       "      <td>LONGWOOD FOODS</td>\n",
       "      <td>1143139</td>\n",
       "      <td>Grocery Store</td>\n",
       "      <td>Risk 2 (Medium)</td>\n",
       "      <td>11106 S LONGWOOD DR</td>\n",
       "      <td>CHICAGO</td>\n",
       "      <td>IL</td>\n",
       "      <td>60643</td>\n",
       "      <td>2011-11-04T00:00:00.000</td>\n",
       "      <td>Canvass Re-Inspection</td>\n",
       "      <td>Pass</td>\n",
       "      <td>NaN</td>\n",
       "      <td>NaN</td>\n",
       "      <td>NaN</td>\n",
       "      <td>NaN</td>\n",
       "      <td>11/04/11</td>\n",
       "    </tr>\n",
       "    <tr>\n",
       "      <th>207566</th>\n",
       "      <td>150325</td>\n",
       "      <td>D'ABSOLUTE RESTAURANT &amp; CATERING</td>\n",
       "      <td>D'ABSOLUTE RESTAURANT &amp; CATERING</td>\n",
       "      <td>1443178</td>\n",
       "      <td>Catering</td>\n",
       "      <td>Risk 1 (High)</td>\n",
       "      <td>5106 W IRVING PARK RD</td>\n",
       "      <td>CHICAGO</td>\n",
       "      <td>IL</td>\n",
       "      <td>60641</td>\n",
       "      <td>2010-04-08T00:00:00.000</td>\n",
       "      <td>No Entry</td>\n",
       "      <td>Pass</td>\n",
       "      <td>NaN</td>\n",
       "      <td>NaN</td>\n",
       "      <td>NaN</td>\n",
       "      <td>NaN</td>\n",
       "      <td>04/08/10</td>\n",
       "    </tr>\n",
       "    <tr>\n",
       "      <th>130433</th>\n",
       "      <td>1434697</td>\n",
       "      <td>VAINILLA BEAN BAKE SHOP INC</td>\n",
       "      <td>VAINILLA BEAN BAKE SHOP INC</td>\n",
       "      <td>2314013</td>\n",
       "      <td>Bakery</td>\n",
       "      <td>Risk 2 (Medium)</td>\n",
       "      <td>2627 W DIVISION ST</td>\n",
       "      <td>CHICAGO</td>\n",
       "      <td>IL</td>\n",
       "      <td>60622</td>\n",
       "      <td>2014-04-10T00:00:00.000</td>\n",
       "      <td>License Re-Inspection</td>\n",
       "      <td>Pass</td>\n",
       "      <td>NaN</td>\n",
       "      <td>NaN</td>\n",
       "      <td>NaN</td>\n",
       "      <td>NaN</td>\n",
       "      <td>04/10/14</td>\n",
       "    </tr>\n",
       "  </tbody>\n",
       "</table>\n",
       "</div>"
      ],
      "text/plain": [
       "       inspection_id                          dba_name  \\\n",
       "49354        2117177           WENDY'S PROPERTIES, LLC   \n",
       "182935        598311                  BONY'S FOOD MART   \n",
       "204388        231408            CORK AND KERRY ON 33RD   \n",
       "103630       1387862             SHARKS FISH & CHICKEN   \n",
       "132766       1401626      POTBELLY SANDWICH WORKS, LLC   \n",
       "137667       1375518              Michigan Candy Store   \n",
       "138046       1375335                    HEARTLAND CAFE   \n",
       "177948        555307                    LONGWOOD FOODS   \n",
       "207566        150325  D'ABSOLUTE RESTAURANT & CATERING   \n",
       "130433       1434697       VAINILLA BEAN BAKE SHOP INC   \n",
       "\n",
       "                                aka_name license_  facility_type  \\\n",
       "49354                            WENDY'S  2405952     Restaurant   \n",
       "182935                  BONY'S FOOD MART  2107933  Grocery Store   \n",
       "204388                    CORK AND KERRY  2013349     Restaurant   \n",
       "103630             SHARKS FISH & CHICKEN  1477112     Restaurant   \n",
       "132766      POTBELLY SANDWICH WORKS, LLC  2313501     Restaurant   \n",
       "137667              Michigan Candy Store  2004511  Grocery Store   \n",
       "138046                    HEARTLAND CAFE  2177844     Restaurant   \n",
       "177948                    LONGWOOD FOODS  1143139  Grocery Store   \n",
       "207566  D'ABSOLUTE RESTAURANT & CATERING  1443178       Catering   \n",
       "130433       VAINILLA BEAN BAKE SHOP INC  2314013         Bakery   \n",
       "\n",
       "                   risk                address     city state    zip  \\\n",
       "49354     Risk 1 (High)     8302 S ASHLAND AVE  CHICAGO    IL  60620   \n",
       "182935     Risk 3 (Low)    1942 S CARPENTER ST  CHICAGO    IL  60608   \n",
       "204388    Risk 1 (High)   3258 S PRINCETON AVE  CHICAGO    IL  60616   \n",
       "103630  Risk 2 (Medium)         2027 E 95TH ST  CHICAGO    IL  60617   \n",
       "132766    Risk 1 (High)   1293 N MILWAUKEE AVE  CHICAGO    IL  60622   \n",
       "137667     Risk 3 (Low)     980 N MICHIGAN AVE  CHICAGO    IL  60611   \n",
       "138046    Risk 1 (High)    7000 N GLENWOOD AVE  CHICAGO    IL  60626   \n",
       "177948  Risk 2 (Medium)    11106 S LONGWOOD DR  CHICAGO    IL  60643   \n",
       "207566    Risk 1 (High)  5106 W IRVING PARK RD  CHICAGO    IL  60641   \n",
       "130433  Risk 2 (Medium)     2627 W DIVISION ST  CHICAGO    IL  60622   \n",
       "\n",
       "                inspection_date        inspection_type results violations  \\\n",
       "49354   2017-12-13T00:00:00.000              Complaint    Pass        NaN   \n",
       "182935  2011-08-03T00:00:00.000  License Re-Inspection    Pass        NaN   \n",
       "204388  2010-06-10T00:00:00.000  License Re-Inspection    Pass        NaN   \n",
       "103630  2015-07-13T00:00:00.000   Short Form Complaint    Pass        NaN   \n",
       "132766  2014-02-28T00:00:00.000                License    Fail        NaN   \n",
       "137667  2013-11-18T00:00:00.000                Canvass    Pass        NaN   \n",
       "138046  2013-11-12T00:00:00.000                License    Fail        NaN   \n",
       "177948  2011-11-04T00:00:00.000  Canvass Re-Inspection    Pass        NaN   \n",
       "207566  2010-04-08T00:00:00.000               No Entry    Pass        NaN   \n",
       "130433  2014-04-10T00:00:00.000  License Re-Inspection    Pass        NaN   \n",
       "\n",
       "       latitude longitude location inspection_date_new  \n",
       "49354       NaN       NaN      NaN            12/13/17  \n",
       "182935      NaN       NaN      NaN            08/03/11  \n",
       "204388      NaN       NaN      NaN            06/10/10  \n",
       "103630      NaN       NaN      NaN            07/13/15  \n",
       "132766      NaN       NaN      NaN            02/28/14  \n",
       "137667      NaN       NaN      NaN            11/18/13  \n",
       "138046      NaN       NaN      NaN            11/12/13  \n",
       "177948      NaN       NaN      NaN            11/04/11  \n",
       "207566      NaN       NaN      NaN            04/08/10  \n",
       "130433      NaN       NaN      NaN            04/10/14  "
      ]
     },
     "execution_count": 62,
     "metadata": {},
     "output_type": "execute_result"
    }
   ],
   "source": [
    "df[df['violations'].isna()].sample(n=10, random_state=512)"
   ]
  },
  {
   "cell_type": "markdown",
   "metadata": {},
   "source": [
    "The inspector's comments are a key independent variable. Therefore, any records with missing comments have to be dropped"
   ]
  },
  {
   "cell_type": "code",
   "execution_count": 63,
   "metadata": {},
   "outputs": [],
   "source": [
    "df = df.dropna(subset=['violations'])"
   ]
  },
  {
   "cell_type": "markdown",
   "metadata": {},
   "source": [
    "**latitude & longitude, and location**"
   ]
  },
  {
   "cell_type": "code",
   "execution_count": 64,
   "metadata": {},
   "outputs": [
    {
     "name": "stdout",
     "output_type": "stream",
     "text": [
      "lat: 154795\n",
      "long: 154795\n",
      "location: 154795\n"
     ]
    }
   ],
   "source": [
    "print('lat:',df.latitude.isna().sum())\n",
    "print('long:',df.longitude.isna().sum())\n",
    "print('location:',df['location'].isna().sum())"
   ]
  },
  {
   "cell_type": "code",
   "execution_count": 65,
   "metadata": {},
   "outputs": [],
   "source": [
    "df['latitude'] = df['latitude'].fillna('Not Disclosed')\n",
    "df['longitude'] = df['longitude'].fillna('Not Disclosed')\n",
    "df['location'] = df['location'].fillna('Not Disclosed')\n"
   ]
  },
  {
   "cell_type": "code",
   "execution_count": null,
   "metadata": {},
   "outputs": [],
   "source": []
  },
  {
   "cell_type": "markdown",
   "metadata": {},
   "source": [
    "I want to use the address and the geopy package to pull the latitude and longitude values. But I noticed there were a lot of typos in the City list. We know that a city can have multiple zipcodes but a zipcode can only have one city."
   ]
  },
  {
   "cell_type": "markdown",
   "metadata": {},
   "source": [
    "## sample geopy code"
   ]
  },
  {
   "cell_type": "code",
   "execution_count": 67,
   "metadata": {},
   "outputs": [
    {
     "name": "stdout",
     "output_type": "stream",
     "text": [
      "121, North LaSalle Street, Loop, Chicago, Cook County, Illinois, 60602, United States of America\n",
      "(41.88341706625744, -87.632303164487)\n",
      "{'place_id': 248024928, 'licence': 'Data © OpenStreetMap contributors, ODbL 1.0. https://osm.org/copyright', 'osm_type': 'way', 'osm_id': 435704691, 'boundingbox': ['41.883367066257', '41.883467066257', '-87.632353164487', '-87.632253164487'], 'lat': '41.88341706625744', 'lon': '-87.632303164487', 'display_name': '121, North LaSalle Street, Loop, Chicago, Cook County, Illinois, 60602, United States of America', 'class': 'place', 'type': 'house', 'importance': 0.731}\n"
     ]
    }
   ],
   "source": [
    "from geopy.geocoders import Nominatim\n",
    "geolocator = Nominatim(user_agent=\"sample_code\")\n",
    "location = geolocator.geocode(\"121 N LaSalle St, Chicago, IL 60602\")\n",
    "print(location.address)\n",
    "print((location.latitude, location.longitude))\n",
    "print(location.raw)\n"
   ]
  },
  {
   "cell_type": "code",
   "execution_count": null,
   "metadata": {},
   "outputs": [],
   "source": []
  },
  {
   "cell_type": "code",
   "execution_count": null,
   "metadata": {},
   "outputs": [],
   "source": []
  },
  {
   "cell_type": "code",
   "execution_count": null,
   "metadata": {},
   "outputs": [],
   "source": []
  },
  {
   "cell_type": "code",
   "execution_count": null,
   "metadata": {},
   "outputs": [],
   "source": []
  },
  {
   "cell_type": "markdown",
   "metadata": {},
   "source": [
    "Shape of the dataset"
   ]
  },
  {
   "cell_type": "code",
   "execution_count": 68,
   "metadata": {},
   "outputs": [
    {
     "data": {
      "text/plain": [
       "(155080, 18)"
      ]
     },
     "execution_count": 68,
     "metadata": {},
     "output_type": "execute_result"
    }
   ],
   "source": [
    "df.shape"
   ]
  },
  {
   "cell_type": "markdown",
   "metadata": {},
   "source": [
    "# Data Dictionary\n",
    "\n",
    "**Inspection ID:** unqiue identifier\n",
    "\n",
    "**DBA Name:** \"doing businessness as\"\n",
    "\n",
    "**AKA Name:** \"also known as\"\n",
    "\n",
    "**License #:** License Number identification\n",
    "\n",
    "**Facility Type:** The type of facility. Examples include: restaurant, grocery store, school, bakery, catering, etc.\n",
    "\n",
    "**Risk:** Risk category. Categorical value of risk 1, risk 2, risk 3, or \"all\".\n",
    "\n",
    "**Address:** Number and street name. For example, 401 N WABASH AVE\n",
    "\n",
    "**City:** Self explanatory\n",
    "\n",
    "**State:** Self explanatory\n",
    "\n",
    "**Zip:** Self explanatory\n",
    "\n",
    "**Inspection Date:**\n",
    "\n",
    "**Inspection Type:** \n",
    "\n",
    "**Results:** Categorical value: Pass, Fail, Pass w/ Conditions, Out of Business, No Entry, Not Ready, Business Not Located\n",
    "\n",
    "**Violations:** String of specific code violation and inspector's comments.\n",
    "\n",
    "**Latitude:** Self explanatory\n",
    "\n",
    "**Longitude:** Self explanatory\n",
    "\n",
    "**Location:** Comination of latitude and longitude columns"
   ]
  },
  {
   "cell_type": "markdown",
   "metadata": {},
   "source": [
    "<a id='observations'></a>\n",
    "### 2.1 Observations\n",
    "\n",
    "Two analyses: descriptive analysis and predictive modeling. For the predictive modeling, we only care about the 'results' and 'violations' columns\n",
    "\n"
   ]
  },
  {
   "cell_type": "code",
   "execution_count": 69,
   "metadata": {},
   "outputs": [
    {
     "data": {
      "text/plain": [
       "Restaurant                         106122\n",
       "Grocery Store                       19984\n",
       "School                              11413\n",
       "Children's Services Facility         2708\n",
       "Bakery                               2328\n",
       "Daycare Above and Under 2 Years      1985\n",
       "Daycare (2 - 6 Years)                1938\n",
       "Long Term Care                       1217\n",
       "Catering                              856\n",
       "Liquor                                513\n",
       "Daycare Combo 1586                    491\n",
       "Golden Diner                          455\n",
       "Mobile Food Preparer                  412\n",
       "Hospital                              404\n",
       "Wholesale                             315\n",
       "Name: facility_type, dtype: int64"
      ]
     },
     "execution_count": 69,
     "metadata": {},
     "output_type": "execute_result"
    }
   ],
   "source": [
    "#Ten most popular facility types\n",
    "df['facility_type'].value_counts()[:15]"
   ]
  },
  {
   "cell_type": "code",
   "execution_count": 70,
   "metadata": {},
   "outputs": [
    {
     "data": {
      "image/png": "[encoded data removed]",
      "text/plain": [
       "<Figure size 640x480 with 1 Axes>"
      ]
     },
     "metadata": {},
     "output_type": "display_data"
    }
   ],
   "source": [
    "vc = df['facility_type'].str.upper().value_counts()[:5]\n",
    "\n",
    "\n",
    "import matplotlib.pyplot as plt; plt.rcdefaults()\n",
    "import numpy as np\n",
    "import matplotlib.pyplot as plt\n",
    "\n",
    "objects = vc.keys()\n",
    "y_pos = np.arange(len(objects))\n",
    "performance = vc.values\n",
    "\n",
    "plt.barh(y_pos, performance, align='center', alpha=0.5)\n",
    "plt.yticks(y_pos, objects, fontsize=6)\n",
    "plt.xlabel('Count', fontsize=6)\n",
    "plt.title('Five Most Popular Facility Types')\n",
    "\n",
    "plt.show()"
   ]
  },
  {
   "cell_type": "code",
   "execution_count": 71,
   "metadata": {},
   "outputs": [
    {
     "data": {
      "text/plain": [
       "Risk 1 (High)      116788\n",
       "Risk 2 (Medium)     29252\n",
       "Risk 3 (Low)         9038\n",
       "Not Disclosed           2\n",
       "Name: risk, dtype: int64"
      ]
     },
     "execution_count": 71,
     "metadata": {},
     "output_type": "execute_result"
    }
   ],
   "source": [
    "df['risk'].value_counts()"
   ]
  },
  {
   "cell_type": "code",
   "execution_count": 72,
   "metadata": {},
   "outputs": [
    {
     "data": {
      "image/png": "[encoded data removed]",
      "text/plain": [
       "<Figure size 640x480 with 1 Axes>"
      ]
     },
     "metadata": {},
     "output_type": "display_data"
    }
   ],
   "source": [
    "vc = df['risk'].value_counts()\n",
    "\n",
    "import matplotlib.pyplot as plt; plt.rcdefaults()\n",
    "import numpy as np\n",
    "import matplotlib.pyplot as plt\n",
    "\n",
    "objects = vc.keys()\n",
    "y_pos = np.arange(len(objects))\n",
    "performance = vc.values\n",
    "\n",
    "plt.bar(y_pos, performance, align='center', alpha=0.5)\n",
    "plt.xticks(y_pos, objects, fontsize=6)\n",
    "plt.ylabel('Count', fontsize=6)\n",
    "plt.title('Risk')\n",
    "\n",
    "plt.show()"
   ]
  },
  {
   "cell_type": "code",
   "execution_count": 73,
   "metadata": {},
   "outputs": [
    {
     "data": {
      "text/html": [
       "<div>\n",
       "<style scoped>\n",
       "    .dataframe tbody tr th:only-of-type {\n",
       "        vertical-align: middle;\n",
       "    }\n",
       "\n",
       "    .dataframe tbody tr th {\n",
       "        vertical-align: top;\n",
       "    }\n",
       "\n",
       "    .dataframe thead th {\n",
       "        text-align: right;\n",
       "    }\n",
       "</style>\n",
       "<table border=\"1\" class=\"dataframe\">\n",
       "  <thead>\n",
       "    <tr style=\"text-align: right;\">\n",
       "      <th></th>\n",
       "      <th>inspection_id</th>\n",
       "      <th>dba_name</th>\n",
       "      <th>aka_name</th>\n",
       "      <th>license_</th>\n",
       "      <th>facility_type</th>\n",
       "      <th>risk</th>\n",
       "      <th>address</th>\n",
       "      <th>city</th>\n",
       "      <th>state</th>\n",
       "      <th>zip</th>\n",
       "      <th>inspection_date</th>\n",
       "      <th>inspection_type</th>\n",
       "      <th>results</th>\n",
       "      <th>violations</th>\n",
       "      <th>latitude</th>\n",
       "      <th>longitude</th>\n",
       "      <th>location</th>\n",
       "      <th>inspection_date_new</th>\n",
       "    </tr>\n",
       "  </thead>\n",
       "  <tbody>\n",
       "    <tr>\n",
       "      <th>27932</th>\n",
       "      <td>2279496</td>\n",
       "      <td>BITES ASIAN TAPAS &amp; SUSHI</td>\n",
       "      <td>BITES ASIAN TAPAS &amp; SUSHI</td>\n",
       "      <td>1883543</td>\n",
       "      <td>Restaurant</td>\n",
       "      <td>Risk 1 (High)</td>\n",
       "      <td>3313 N CLARK ST</td>\n",
       "      <td>CHICAGO</td>\n",
       "      <td>IL</td>\n",
       "      <td>60657</td>\n",
       "      <td>2019-03-15T00:00:00.000</td>\n",
       "      <td>Canvass Re-Inspection</td>\n",
       "      <td>Pass w/ Conditions</td>\n",
       "      <td>3. MANAGEMENT, FOOD EMPLOYEE AND CONDITIONAL EMPLOYEE; KNOWLEDGE, RESPONSIBILITIES AND REPORTING - Comments: NOTED NO EMPLOYEE HEALTH POLICY ON SITE AT THE TIME OF INSPECTION FOLLOWING THE NEW CODE AND GUIDELINES. INSTRUCTED TO HAVE VERIFICATION OF POLICY FOR EACH EMPLOYEE ONE ON SITE AT ALL TIMES. PRIORITY FOUNDATION #7-38-010. NO CITATION ISSUED TODAY  | 5. PROCEDURES FOR RESPONDING TO VOMITING AND DIARRHEAL EVENTS - Comments: MANAGEMENT UNABLE TO PROVIDE A PROCEDURE FOR CLEANING UP VOMITING AND DIARRHEA.INSTRUCTED TO HAVE ONE INCLUDING THE CHEMICALS AND SUPPLIES NEEDED. PRIORITY FOUNDATION VIOLATION #7-38-005. NO CITATION ISSUED - | 10. ADEQUATE HANDWASHING SINKS PROPERLY SUPPLIED AND ACCESSIBLE - Comments: NOTED NO HAND WASH SINK THE DISH WASHING AREA AT THE BASEMENT PREP AREA. ADDITIONAL HAND WASH SINK NEEDED. PRIORITY FOUNDATION VIOLATION #7-38-030(C). NO CITATION ISSUED TODAY | 23. PROPER DATE MARKING AND DISPOSITION - Comments: NOTED TEMPERATURE CONTROLLED FOR SAFETY FOOD ...</td>\n",
       "      <td>Not Disclosed</td>\n",
       "      <td>Not Disclosed</td>\n",
       "      <td>Not Disclosed</td>\n",
       "      <td>03/15/19</td>\n",
       "    </tr>\n",
       "  </tbody>\n",
       "</table>\n",
       "</div>"
      ],
      "text/plain": [
       "      inspection_id                   dba_name                   aka_name  \\\n",
       "27932       2279496  BITES ASIAN TAPAS & SUSHI  BITES ASIAN TAPAS & SUSHI   \n",
       "\n",
       "      license_ facility_type           risk          address     city state  \\\n",
       "27932  1883543    Restaurant  Risk 1 (High)  3313 N CLARK ST  CHICAGO    IL   \n",
       "\n",
       "         zip          inspection_date        inspection_type  \\\n",
       "27932  60657  2019-03-15T00:00:00.000  Canvass Re-Inspection   \n",
       "\n",
       "                  results  \\\n",
       "27932  Pass w/ Conditions   \n",
       "\n",
       "                                                                                                                                                                                                                                                                                                                                                                                                                                                                                                                                                                                                                                                                                                                                                                                                                                                                                                                                                                                                                                   violations  \\\n",
       "27932  3. MANAGEMENT, FOOD EMPLOYEE AND CONDITIONAL EMPLOYEE; KNOWLEDGE, RESPONSIBILITIES AND REPORTING - Comments: NOTED NO EMPLOYEE HEALTH POLICY ON SITE AT THE TIME OF INSPECTION FOLLOWING THE NEW CODE AND GUIDELINES. INSTRUCTED TO HAVE VERIFICATION OF POLICY FOR EACH EMPLOYEE ONE ON SITE AT ALL TIMES. PRIORITY FOUNDATION #7-38-010. NO CITATION ISSUED TODAY  | 5. PROCEDURES FOR RESPONDING TO VOMITING AND DIARRHEAL EVENTS - Comments: MANAGEMENT UNABLE TO PROVIDE A PROCEDURE FOR CLEANING UP VOMITING AND DIARRHEA.INSTRUCTED TO HAVE ONE INCLUDING THE CHEMICALS AND SUPPLIES NEEDED. PRIORITY FOUNDATION VIOLATION #7-38-005. NO CITATION ISSUED - | 10. ADEQUATE HANDWASHING SINKS PROPERLY SUPPLIED AND ACCESSIBLE - Comments: NOTED NO HAND WASH SINK THE DISH WASHING AREA AT THE BASEMENT PREP AREA. ADDITIONAL HAND WASH SINK NEEDED. PRIORITY FOUNDATION VIOLATION #7-38-030(C). NO CITATION ISSUED TODAY | 23. PROPER DATE MARKING AND DISPOSITION - Comments: NOTED TEMPERATURE CONTROLLED FOR SAFETY FOOD ...   \n",
       "\n",
       "            latitude      longitude       location inspection_date_new  \n",
       "27932  Not Disclosed  Not Disclosed  Not Disclosed            03/15/19  "
      ]
     },
     "execution_count": 73,
     "metadata": {},
     "output_type": "execute_result"
    }
   ],
   "source": [
    "#sample restaurant\n",
    "df[df['facility_type']=='Restaurant'].sample(n=1, random_state=777)"
   ]
  },
  {
   "cell_type": "markdown",
   "metadata": {},
   "source": [
    "Cities"
   ]
  },
  {
   "cell_type": "code",
   "execution_count": 74,
   "metadata": {},
   "outputs": [
    {
     "data": {
      "text/plain": [
       "CHICAGO              154952\n",
       "NOT DISCLOSED            50\n",
       "SCHAUMBURG               15\n",
       "ELK GROVE VILLAGE         8\n",
       "EVANSTON                  7\n",
       "ELMHURST                  4\n",
       "SKOKIE                    4\n",
       "NILES NILES               4\n",
       "MAYWOOD                   4\n",
       "PLAINFIELD                3\n",
       "Name: city, dtype: int64"
      ]
     },
     "execution_count": 74,
     "metadata": {},
     "output_type": "execute_result"
    }
   ],
   "source": [
    "df['city'].value_counts()[:10]"
   ]
  },
  {
   "cell_type": "code",
   "execution_count": 75,
   "metadata": {},
   "outputs": [
    {
     "data": {
      "text/plain": [
       "29"
      ]
     },
     "execution_count": 75,
     "metadata": {},
     "output_type": "execute_result"
    }
   ],
   "source": [
    "len(df['city'].unique())"
   ]
  },
  {
   "cell_type": "markdown",
   "metadata": {},
   "source": [
    "Results"
   ]
  },
  {
   "cell_type": "code",
   "execution_count": 76,
   "metadata": {},
   "outputs": [
    {
     "data": {
      "text/plain": [
       "Pass                  85790\n",
       "Fail                  37821\n",
       "Pass w/ Conditions    31469\n",
       "Name: results, dtype: int64"
      ]
     },
     "execution_count": 76,
     "metadata": {},
     "output_type": "execute_result"
    }
   ],
   "source": [
    "df['results'].value_counts()"
   ]
  },
  {
   "cell_type": "code",
   "execution_count": 77,
   "metadata": {},
   "outputs": [
    {
     "data": {
      "image/png": "[encoded data removed]",
      "text/plain": [
       "<Figure size 640x480 with 1 Axes>"
      ]
     },
     "metadata": {},
     "output_type": "display_data"
    }
   ],
   "source": [
    "vc = df['results'].value_counts()\n",
    "\n",
    "import matplotlib.pyplot as plt; plt.rcdefaults()\n",
    "import numpy as np\n",
    "import matplotlib.pyplot as plt\n",
    "\n",
    "objects = vc.keys()\n",
    "y_pos = np.arange(len(objects))\n",
    "performance = vc.values\n",
    "\n",
    "plt.bar(y_pos, performance, align='center', alpha=0.5)\n",
    "plt.xticks(y_pos, objects, fontsize=6)\n",
    "plt.ylabel('Count', fontsize=6)\n",
    "plt.title('Risk')\n",
    "\n",
    "plt.show()"
   ]
  },
  {
   "cell_type": "code",
   "execution_count": null,
   "metadata": {},
   "outputs": [],
   "source": []
  },
  {
   "cell_type": "code",
   "execution_count": 78,
   "metadata": {},
   "outputs": [
    {
     "data": {
      "text/plain": [
       "Index(['inspection_id', 'dba_name', 'aka_name', 'license_', 'facility_type',\n",
       "       'risk', 'address', 'city', 'state', 'zip', 'inspection_date',\n",
       "       'inspection_type', 'results', 'violations', 'latitude', 'longitude',\n",
       "       'location', 'inspection_date_new'],\n",
       "      dtype='object')"
      ]
     },
     "execution_count": 78,
     "metadata": {},
     "output_type": "execute_result"
    }
   ],
   "source": [
    "df.columns"
   ]
  },
  {
   "cell_type": "code",
   "execution_count": 105,
   "metadata": {},
   "outputs": [],
   "source": [
    "#Drop Unneccesary Columns\n",
    "select_cols = ['results', 'violations']\n",
    "\n",
    "#Create prediction dataframe for the prediction modeling\n",
    "pred_df = df.copy()\n",
    "pred_df = pred_df[select_cols]\n"
   ]
  },
  {
   "cell_type": "code",
   "execution_count": 106,
   "metadata": {},
   "outputs": [
    {
     "data": {
      "text/html": [
       "<div>\n",
       "<style scoped>\n",
       "    .dataframe tbody tr th:only-of-type {\n",
       "        vertical-align: middle;\n",
       "    }\n",
       "\n",
       "    .dataframe tbody tr th {\n",
       "        vertical-align: top;\n",
       "    }\n",
       "\n",
       "    .dataframe thead th {\n",
       "        text-align: right;\n",
       "    }\n",
       "</style>\n",
       "<table border=\"1\" class=\"dataframe\">\n",
       "  <thead>\n",
       "    <tr style=\"text-align: right;\">\n",
       "      <th></th>\n",
       "      <th>results</th>\n",
       "      <th>violations</th>\n",
       "    </tr>\n",
       "  </thead>\n",
       "  <tbody>\n",
       "    <tr>\n",
       "      <th>1</th>\n",
       "      <td>Fail</td>\n",
       "      <td>10. ADEQUATE HANDWASHING SINKS PROPERLY SUPPLIED AND ACCESSIBLE - Comments: NOTED NO SOAP AT EMPLOYEE BATHROOM HAND WASH SINK. INSTRUCTED TO HAVE SOAP AND PAPER TOWELS AT ALL HAND WASH SINKS AT ALL TIMES.PRIORITY FOUNDATION VIOLATION #7-38-030(C) | 10. ADEQUATE HANDWASHING SINKS PROPERLY SUPPLIED AND ACCESSIBLE - Comments: NO PAPER TOWELS AT EMPLOYEE BATHROOM HAND WASH SINK. INSTRUCTED TO HAVE SOAP AND PAPER TOWELS AT ALL HAND WASH SINKS.PRIORITY FOUNDATION #7-38-030(C) CONSOLIDATED WITH ABOVE CITATION. | 52. SEWAGE &amp; WASTE WATER PROPERLY DISPOSED - Comments: NOTED WASTE WATER THROUGHOUT FLOOR FROM THE FLOOR DRAINS WHEN WATER IS RELEASED FROM THE REAR HAND WASH SINK AND 3 COMPARTMENT SINK AND THE FRONT HAND WASH SINK WITH STRONG OFFENSIVE ODOR. INSTRUCTED TO REPAIR AND MAINTAIN. PRIORITY VIOLATION #7-38-030 (C). | 55. PHYSICAL FACILITIES INSTALLED, MAINTAINED &amp; CLEAN - Comments: INSTRUCTED TO DETAIL CLEAN, SANITIZE AND MAINTAIN ALL FLOORS, ALONG WALL BASE AND UNDERNEATH EQUIPMENT ...</td>\n",
       "    </tr>\n",
       "    <tr>\n",
       "      <th>3</th>\n",
       "      <td>Pass</td>\n",
       "      <td>53. TOILET FACILITIES: PROPERLY CONSTRUCTED, SUPPLIED, &amp; CLEANED - Comments: OBSERVED NO COVERED WASTE RECEPTACLE IN WASHROOM. INSTRUCTED MANAGER TO PROVIDE.ALL WASHROOMS USED BY FEMALES MUST HAVE A COVERED RECEPTACLE FOR SANITARY NAPKINS.</td>\n",
       "    </tr>\n",
       "  </tbody>\n",
       "</table>\n",
       "</div>"
      ],
      "text/plain": [
       "  results  \\\n",
       "1    Fail   \n",
       "3    Pass   \n",
       "\n",
       "                                                                                                                                                                                                                                                                                                                                                                                                                                                                                                                                                                                                                                                                                                                                                                                                                                                                                                                                                                                                                               violations  \n",
       "1  10. ADEQUATE HANDWASHING SINKS PROPERLY SUPPLIED AND ACCESSIBLE - Comments: NOTED NO SOAP AT EMPLOYEE BATHROOM HAND WASH SINK. INSTRUCTED TO HAVE SOAP AND PAPER TOWELS AT ALL HAND WASH SINKS AT ALL TIMES.PRIORITY FOUNDATION VIOLATION #7-38-030(C) | 10. ADEQUATE HANDWASHING SINKS PROPERLY SUPPLIED AND ACCESSIBLE - Comments: NO PAPER TOWELS AT EMPLOYEE BATHROOM HAND WASH SINK. INSTRUCTED TO HAVE SOAP AND PAPER TOWELS AT ALL HAND WASH SINKS.PRIORITY FOUNDATION #7-38-030(C) CONSOLIDATED WITH ABOVE CITATION. | 52. SEWAGE & WASTE WATER PROPERLY DISPOSED - Comments: NOTED WASTE WATER THROUGHOUT FLOOR FROM THE FLOOR DRAINS WHEN WATER IS RELEASED FROM THE REAR HAND WASH SINK AND 3 COMPARTMENT SINK AND THE FRONT HAND WASH SINK WITH STRONG OFFENSIVE ODOR. INSTRUCTED TO REPAIR AND MAINTAIN. PRIORITY VIOLATION #7-38-030 (C). | 55. PHYSICAL FACILITIES INSTALLED, MAINTAINED & CLEAN - Comments: INSTRUCTED TO DETAIL CLEAN, SANITIZE AND MAINTAIN ALL FLOORS, ALONG WALL BASE AND UNDERNEATH EQUIPMENT ...  \n",
       "3                                                                                                                                                                                                                                                                                                                                                                                                                                                                                                                                                                                                                                                                                                                                                                                         53. TOILET FACILITIES: PROPERLY CONSTRUCTED, SUPPLIED, & CLEANED - Comments: OBSERVED NO COVERED WASTE RECEPTACLE IN WASHROOM. INSTRUCTED MANAGER TO PROVIDE.ALL WASHROOMS USED BY FEMALES MUST HAVE A COVERED RECEPTACLE FOR SANITARY NAPKINS.  "
      ]
     },
     "execution_count": 106,
     "metadata": {},
     "output_type": "execute_result"
    }
   ],
   "source": [
    "pred_df.head(2)"
   ]
  },
  {
   "cell_type": "code",
   "execution_count": 107,
   "metadata": {},
   "outputs": [
    {
     "name": "stdout",
     "output_type": "stream",
     "text": [
      "<class 'pandas.core.frame.DataFrame'>\n",
      "Int64Index: 155080 entries, 1 to 212125\n",
      "Data columns (total 2 columns):\n",
      "results       155080 non-null object\n",
      "violations    155080 non-null object\n",
      "dtypes: object(2)\n",
      "memory usage: 3.5+ MB\n",
      "None\n",
      "       results  \\\n",
      "count   155080   \n",
      "unique       3   \n",
      "top       Pass   \n",
      "freq     85790   \n",
      "\n",
      "                                                                                                                               violations  \n",
      "count                                                                                                                              155080  \n",
      "unique                                                                                                                             153985  \n",
      "top     45. FOOD HANDLER REQUIREMENTS MET - Comments: ALL FOOD HANDLING EMPLOYEES MUST SHOW PROOF OF FOOD HANDLER TRAINING. MUST PROVIDE.  \n",
      "freq                                                                                                                                   12  \n"
     ]
    }
   ],
   "source": [
    "print(pred_df.info())\n",
    "print(pred_df.describe())"
   ]
  },
  {
   "cell_type": "markdown",
   "metadata": {},
   "source": [
    "Location"
   ]
  },
  {
   "cell_type": "markdown",
   "metadata": {},
   "source": [
    "<a id='engineering'></a>\n",
    "## 2. Feature Engineering\n",
    "\n",
    "Notice, the format of the violations column. The column includes the code violation number, the code description, and the inspector's comments on the specific violation. \n",
    "\n",
    "Sample:\n",
    "\n",
    "\"34. FLOORS: CONSTRUCTED PER CODE, CLEANED, GOOD REPAIR, COVING INSTALLED, DUST-LESS CLEANING METHODS USED - Comments: POOLING WATER THROUGHOUT REAR LARGE BAR. MUST MAINTAIN DRY. MISSING FLOOR TILES AND UNEVEN FLOORING THROUGHOUT DISH AREA WITH POOLING WATER. MUST MAKE FLOORS SMOOTH AND EASILY CLEANABLE.   | 35. WALLS, CEILINGS, ATTACHED EQUIPMENT CONSTRUCTED PER CODE: GOOD REPAIR, SURFACES CLEAN AND DUST-LESS CLEANING METHODS - Comments: MUST INSTALL CEILINGS IN THE NEWLY INSTALL FRONT WASHROOMS. RAW WOODEN WALL COVERING IN MENS WASHROOM. MUST PROPERLY SEAL.\"\n",
    "\n",
    "\n",
    "* Extract only comments from violations, drop rest of text\n",
    "\n",
    "\n",
    "* map Results_Flag\n",
    "The results currently fall into one of three buckets. I want to map these categorical columns to specific flag values."
   ]
  },
  {
   "cell_type": "code",
   "execution_count": 108,
   "metadata": {},
   "outputs": [
    {
     "data": {
      "text/plain": [
       "73378    16. FOOD PROTECTED DURING STORAGE, PREPARATION, DISPLAY, SERVICE AND TRANSPORTATION - Comments: OBSERVED  ICE MACHINE LOCATED BEHIND THE FRONT COUNTER, WITH A PINK SLIME LIKE SUBSTANCE ACCUMULATING ON THE INTERIOR PANEL, LIKELY TO CONTAMINATE THE ICE. INSTRUCTED TO DISCARD ICE. DISCONTINUE USE OF MACHINE UNTIL  DETAIL CLEANED AND SANITIZED. SERIOUS VIOLATION 7-38-005(A)  | 33. FOOD AND NON-FOOD CONTACT EQUIPMENT UTENSILS CLEAN, FREE OF ABRASIVE DETERGENTS - Comments: OBSERVED INTERIOR OF MICROWAVES BEHIND FRONT COUNTER AND IN THE REAR PREP NOT CLEAN. INTERIOR SURFACES OF 2-DOOR REACH IN COOLERS AND A FREEZER IN REAR. ALSO PREP TABLE IN REAR NOT CLEAN. INSTRUCTED TO DETAIL CLEAN ALL ND MAINTAIN. | 34. FLOORS: CONSTRUCTED PER CODE, CLEANED, GOOD REPAIR, COVING INSTALLED, DUST-LESS CLEANING METHODS USED - Comments: OBSERVED FLOORS NOT CLEAN IN THE FOLLOWING AREAS; FRONT AND REAR PREP AREAS. INSTRUCTED TO DETAIL CLEAN AND MAINTAIN. | 38. VENTILATION: ROOMS AND EQUIPMENT VENTED AS REQU...\n",
       "Name: violations, dtype: object"
      ]
     },
     "execution_count": 108,
     "metadata": {},
     "output_type": "execute_result"
    }
   ],
   "source": [
    "#Check sample Violation entry\n",
    "pred_df['violations'].sample(n=1, random_state=512)"
   ]
  },
  {
   "cell_type": "code",
   "execution_count": 109,
   "metadata": {},
   "outputs": [],
   "source": [
    "#regex expression to extract the text following \"Comments:\"\n",
    "pred_df.violations = pred_df.violations.str.findall(r\"(?:\\sComments:\\s.*?)?(?:[|]|$)\")"
   ]
  },
  {
   "cell_type": "code",
   "execution_count": 110,
   "metadata": {},
   "outputs": [
    {
     "data": {
      "text/plain": [
       "73378    [ Comments: OBSERVED  ICE MACHINE LOCATED BEHIND THE FRONT COUNTER, WITH A PINK SLIME LIKE SUBSTANCE ACCUMULATING ON THE INTERIOR PANEL, LIKELY TO CONTAMINATE THE ICE. INSTRUCTED TO DISCARD ICE. DISCONTINUE USE OF MACHINE UNTIL  DETAIL CLEANED AND SANITIZED. SERIOUS VIOLATION 7-38-005(A)  |,  Comments: OBSERVED INTERIOR OF MICROWAVES BEHIND FRONT COUNTER AND IN THE REAR PREP NOT CLEAN. INTERIOR SURFACES OF 2-DOOR REACH IN COOLERS AND A FREEZER IN REAR. ALSO PREP TABLE IN REAR NOT CLEAN. INSTRUCTED TO DETAIL CLEAN ALL ND MAINTAIN. |,  Comments: OBSERVED FLOORS NOT CLEAN IN THE FOLLOWING AREAS; FRONT AND REAR PREP AREAS. INSTRUCTED TO DETAIL CLEAN AND MAINTAIN. |,  Comments: OBSERVED EXTRA LARGE POTS STORED IN THE REAR PREP AREA.  THEY WERE NOT BEING USED AT THE TIME OF THE INSPECTION, BUT IF USED TO COOK FOOD, THEY ARE TOO LARGE TO PROPERLY CLEAN AND SANITIZE IN THE 3-COMP SINKS ON THE PREMISES., ]\n",
       "Name: violations, dtype: object"
      ]
     },
     "execution_count": 110,
     "metadata": {},
     "output_type": "execute_result"
    }
   ],
   "source": [
    "#Now check the same sample\n",
    "pred_df['violations'].sample(n=1, random_state=512)"
   ]
  },
  {
   "cell_type": "code",
   "execution_count": 113,
   "metadata": {},
   "outputs": [
    {
     "data": {
      "text/plain": [
       "1         1 0 .   A D E Q U A T E   H A N D W A S H I N G   S I N K S   P R O P E R L Y   S U P P L I E D   A N D   A C C E S S I B L E   -   C o m m e n t s :   N O T E D   N O   S O A P   A T   E M P L O Y E E   B A T H R O O M   H A N D   W A S H   S I N K .   I N S T R U C T E D   T O   H A V E   S O A P   A N D   P A P E R   T O W E L S   A T   A L L   H A N D   W A S H   S I N K S   A T   A L L   T I M E S . P R I O R I T Y   F O U N D A T I O N   V I O L A T I O N   # 7 - 3 8 - 0 3 0 ( C )   |   1 0 .   A D E Q U A T E   H A N D W A S H I N G   S I N K S   P R O P E R L Y   S U P P L I E D   A N D   A C C E S S I B L E   -   C o m m e n t s :   N O   P A P E R   T O W E L S   A T   E M P L O Y E E   B A T H R O O M   H A N D   W A S H   S I N K .   I N S T R U C T E D   T O   H A V E   S O A P   A N D   P A P E R   T O W E L S   A T   A L L   H A N D   W A S H   S I N K S . P R I O R I T Y   F O U N D A T I O N   # 7 - 3 8 - 0 3 0 ( C )   C O N S O L I D A T E D   W I T H   A B O V E...\n",
       "3                                                                                                                                                                                                                                                                                                                                                                                                                                                                                                                                                  5 3 .   T O I L E T   F A C I L I T I E S :   P R O P E R L Y   C O N S T R U C T E D ,   S U P P L I E D ,   &   C L E A N E D   -   C o m m e n t s :   O B S E R V E D   N O   C O V E R E D   W A S T E   R E C E P T A C L E   I N   W A S H R O O M .   I N S T R U C T E D   M A N A G E R   T O   P R O V I D E . A L L   W A S H R O O M S   U S E D   B Y   F E M A L E S   M U S T   H A V E   A   C O V E R E D   R E C E P T A C L E   F O R   S A N I T A R Y   N A P K I N S .\n",
       "4                                                                                                                                                                                                                                                                                                                                                                                                                                                      5 0 .   H O T   &   C O L D   W A T E R   A V A I L A B L E ;   A D E Q U A T E   P R E S S U R E   -   C o m m e n t s :   N O   H O T   R U N N I N G   W A T E R   U N D E R   C I T Y   P R E S S U R E   T H R O U G H   O U T   F A C I L I T Y ,   6 6 . 0 F .   I N S T D   T O   M A I N T A I N   H O T   R U N N I N G   W A T E R   U N D E R   C I T Y   P R E S S U R E   A T   A L L   T I M E S   ( 1 0 0 F   A T   H A N D W A S H   S I N K S ,   1 1 0 F   A T   3 - C O M P A R T M E N T   S I N K ) .   P R I O R I T Y   V I O L A T I O N   7 - 3 8 - 0 3 0 ( C )\n",
       "6                                                                                                                                                                                                                                                                                                                                                                                                                                                                                                                                                                                                                                    1 0 .   A D E Q U A T E   H A N D W A S H I N G   S I N K S   P R O P E R L Y   S U P P L I E D   A N D   A C C E S S I B L E   -   C o m m e n t s :   N O   H A N D   W A S H I N G   S I G N A G E   A T   T H E   H A N D   W A S H I N G   S I N K S   I N   T H E   B A R ,   F R O N T   P R E P   A N D   R E A R   P R E P .   I N S T R U C T E D   T O   P R O V I D E   A N D   M A I N T A I N\n",
       "7         6 0 .   P R E V I O U S   C O R E   V I O L A T I O N   C O R R E C T E D   -   C o m m e n t s :   P R E V I O U S   C O R E   V I O L A T I O N S   F R O M   R E P O R T   # 2 3 8 2 2 7 4   6 / 2 5 / 2 0   N O T   C O R R E C T E D # 4 9 -   M U S T   C L E A N   E X C E S S I V E   G R E A S E   A N D   F O O D   D E B R I S   B U I L D   U P   O N   I N T E R I O R   A N D   E X T E R I O R   O F   F R Y E R   C A B I N E T S , C O O L E R S , A L L   C O O K I N G   E Q U I P M E N T , G R I L L   T O P S , D I S H   R A C K S , R E A C H   I N   F R E E Z E R S . # 5 1 -   O B S E R V E D   N O   B A C K   F L O W   D E V I C E   O N   I C E   M A C H I N E   T O   B E   S E E N   F O R   S E R V I C I N G . M U S T   P R O V I D E   A N D   M A I N T A I N . # 5 5 -   M U S T   C L E A N   G R E A S E   A N D   F O O D   D E B R I S   B U I L D   U P   F R O M   W A L L S . # 5 5 -   M U S T   R E P A I R   O R   R E P L A C E   S T A I N E D   C E I L I N G   T I L E S   O...\n",
       "                                                                                                                                                                                                                                                                                                                                                                                                                                                                                                                           ...                                                                                                                                                                                                                                                                                                                                                                                                                                                                                                                  \n",
       "212110    3 0 .   F O O D   I N   O R I G I N A L   C O N T A I N E R ,   P R O P E R L Y   L A B E L E D :   C U S T O M E R   A D V I S O R Y   P O S T E D   A S   N E E D E D   -   C o m m e n t s :   A l l   f o o d   n o t   s t o r e d   i n   t h e   o r i g i n a l   c o n t a i n e r   s h a l l   b e   s t o r e d   i n   p r o p e r l y   l a b e l e d   c o n t a i n e r s .     A L L   P R E P A R E D   B U L K   S P I C E S   M U S T   B E   L A B L E D .   |   3 1 .   C L E A N   M U L T I - U S E   U T E N S I L S   A N D   S I N G L E   S E R V I C E   A R T I C L E S   P R O P E R L Y   S T O R E D :   N O   R E U S E   O F   S I N G L E   S E R V I C E   A R T I C L E S   -   C o m m e n t s :   C o n t a i n e r s   a n d   u t e n s i l s   s h a l l   b e   i n v e r t e d ,   c o v e r e d ,   o r   o t h e r w i s e   p r o t e c t e d   f r o m   c o n t a m i n a t i o n   u n t i l   u s e d .     A l l   s i n g l e - s e r v i c e   d r i n k i n g   s t r a w s...\n",
       "212112    1 8 .   N O   E V I D E N C E   O F   R O D E N T   O R   I N S E C T   O U T E R   O P E N I N G S   P R O T E C T E D / R O D E N T   P R O O F E D ,   A   W R I T T E N   L O G   S H A L L   B E   M A I N T A I N E D   A V A I L A B L E   T O   T H E   I N S P E C T O R S   -   C o m m e n t s :   A l l   n e c e s s a r y   c o n t r o l   m e a s u r e s   s h a l l   b e   u s e d   t o   e f f e c t i v e l y   m i n i m i z e   o r   e l i m i n a t e   t h e   p r e s e n c e   o f   r o d e n t s ,   r o a c h e s ,   a n d   o t h e r   v e r m i n   a n d   i n s e c t s   o n   t h e   p r e m i s e s   o f   a l l   f o o d   e s t a b l i s h m e n t s ,   i n   f o o d - t r a n s p o r t i n g   v e h i c l e s ,   a n d   i n   v e n d i n g   m a c h i n e s . / / n o   e x t e r m i n a t i o n   l o g e   b o o k / s e r v i c e   f o r   b u s i n e s s / r e a r   d o o r   t o   o u t   s i d e   f r o m   s t o r a g e   r o o m   m e a s u r e d   a t   1...\n",
       "212118    1 3 .   N O   E V I D E N C E   O F   R O D E N T   O R   I N S E C T   I N F E S T A T I O N ,   N O   B I R D S ,   T U R T L E S   O R   O T H E R   A N I M A L S   -   C o m m e n t s :   F O U N D   A   L I V E   C A T   I N   B A S E M E N T   S T O R A G E   A R E A ,   I N S T R U C T E D   T O   R E M O V E   A T   O N C E ,   L I V E   A N I M A L S   A R E   N O T   P E R M E N T E D   I N   A   F O O D   E S T A B L I S H E D ,   C R I T I C A L   C I T A T I O N   I S S U E D   |   3 2 .   F O O D   A N D   N O N - F O O D   C O N T A C T   S U R F A C E S   P R O P E R L Y   D E S I G N E D ,   C O N S T R U C T E D   A N D   M A I N T A I N E D   -   C o m m e n t s :   A l l   f o o d   a n d   n o n - f o o d   c o n t a c t   e q u i p m e n t   a n d   u t e n s i l s   s h a l l   b e   s m o o t h ,   e a s i l y   c l e a n a b l e ,   a n d   d u r a b l e ,   a n d   s h a l l   b e   i n   g o o d   r e p a i r .         M U S T   R E P L A C E   B A D L Y...\n",
       "212122    1 8 .   N O   E V I D E N C E   O F   R O D E N T   O R   I N S E C T   O U T E R   O P E N I N G S   P R O T E C T E D / R O D E N T   P R O O F E D ,   A   W R I T T E N   L O G   S H A L L   B E   M A I N T A I N E D   A V A I L A B L E   T O   T H E   I N S P E C T O R S   -   C o m m e n t s :   m u s t   p r o v i d e   p e s t   c o n t r o l   l o g   b o o k .   |   3 2 .   F O O D   A N D   N O N - F O O D   C O N T A C T   S U R F A C E S   P R O P E R L Y   D E S I G N E D ,   C O N S T R U C T E D   A N D   M A I N T A I N E D   -   C o m m e n t s :   P a s t r y   d o o r   n o t   i n   g o o d   r e p a i r .   m u s t   r e p a i r   |   3 4 .   F L O O R S :   C O N S T R U C T E D   P E R   C O D E ,   C L E A N E D ,   G O O D   R E P A I R ,   C O V I N G   I N S T A L L E D ,   D U S T - L E S S   C L E A N I N G   M E T H O D S   U S E D   -   C o m m e n t s :   m u s t   c l e a n   i n   d e t a i l   a n d   r e p a i r   t h e   b a s e n o a r d   i n...\n",
       "212125    1 8 .   N O   E V I D E N C E   O F   R O D E N T   O R   I N S E C T   O U T E R   O P E N I N G S   P R O T E C T E D / R O D E N T   P R O O F E D ,   A   W R I T T E N   L O G   S H A L L   B E   M A I N T A I N E D   A V A I L A B L E   T O   T H E   I N S P E C T O R S   -   C o m m e n t s :   A l l   n e c e s s a r y   c o n t r o l   m e a s u r e s   s h a l l   b e   u s e d   t o   e f f e c t i v e l y   m i n i m i z e   o r   e l i m i n a t e   t h e   p r e s e n c e   o f   r o d e n t s ,   r o a c h e s ,   a n d   o t h e r   v e r m i n   a n d   i n s e c t s   o n   t h e   p r e m i s e s   o f   a l l   f o o d   e s t a b l i s h m e n t s ,   i n   f o o d - t r a n s p o r t i n g   v e h i c l e s ,   a n d   i n   v e n d i n g   m a c h i n e s .         F r o n t   p a t i o   d o o r   n o t   r o d e n t   p r o o f e d .   B a s e m e n t   r e a r   d o o r   n o t   r o d e n t   p r o o f e d .   M u s t   s e a l   a n d   m a i n t a i n  ...\n",
       "Name: violations, Length: 155080, dtype: object"
      ]
     },
     "execution_count": 113,
     "metadata": {},
     "output_type": "execute_result"
    }
   ],
   "source": [
    "df['violations'].str.join(' ')"
   ]
  },
  {
   "cell_type": "code",
   "execution_count": null,
   "metadata": {},
   "outputs": [],
   "source": []
  },
  {
   "cell_type": "code",
   "execution_count": null,
   "metadata": {},
   "outputs": [],
   "source": []
  },
  {
   "cell_type": "code",
   "execution_count": null,
   "metadata": {},
   "outputs": [],
   "source": []
  },
  {
   "cell_type": "markdown",
   "metadata": {},
   "source": [
    "Notice, each observation is now a list of the inspector's comments. "
   ]
  },
  {
   "cell_type": "code",
   "execution_count": null,
   "metadata": {},
   "outputs": [],
   "source": [
    "#df['col'].apply(', '.join)"
   ]
  },
  {
   "cell_type": "code",
   "execution_count": 91,
   "metadata": {},
   "outputs": [
    {
     "ename": "AttributeError",
     "evalue": "Can only use .str accessor with string values!",
     "output_type": "error",
     "traceback": [
      "\u001b[0;31m---------------------------------------------------------------------------\u001b[0m",
      "\u001b[0;31mAttributeError\u001b[0m                            Traceback (most recent call last)",
      "\u001b[0;32m<ipython-input-91-3c634b0029ef>\u001b[0m in \u001b[0;36m<module>\u001b[0;34m\u001b[0m\n\u001b[0;32m----> 1\u001b[0;31m \u001b[0mpred_df\u001b[0m\u001b[0;34m.\u001b[0m\u001b[0mviolations\u001b[0m \u001b[0;34m=\u001b[0m \u001b[0mpred_df\u001b[0m\u001b[0;34m.\u001b[0m\u001b[0mviolations\u001b[0m\u001b[0;34m.\u001b[0m\u001b[0mstr\u001b[0m\u001b[0;34m.\u001b[0m\u001b[0mjoin\u001b[0m\u001b[0;34m(\u001b[0m\u001b[0;34m' '\u001b[0m\u001b[0;34m)\u001b[0m\u001b[0;34m\u001b[0m\u001b[0;34m\u001b[0m\u001b[0m\n\u001b[0m",
      "\u001b[0;32m~/opt/anaconda3/lib/python3.7/site-packages/pandas/core/generic.py\u001b[0m in \u001b[0;36m__getattr__\u001b[0;34m(self, name)\u001b[0m\n\u001b[1;32m   5173\u001b[0m             \u001b[0;32mor\u001b[0m \u001b[0mname\u001b[0m \u001b[0;32min\u001b[0m \u001b[0mself\u001b[0m\u001b[0;34m.\u001b[0m\u001b[0m_accessors\u001b[0m\u001b[0;34m\u001b[0m\u001b[0;34m\u001b[0m\u001b[0m\n\u001b[1;32m   5174\u001b[0m         ):\n\u001b[0;32m-> 5175\u001b[0;31m             \u001b[0;32mreturn\u001b[0m \u001b[0mobject\u001b[0m\u001b[0;34m.\u001b[0m\u001b[0m__getattribute__\u001b[0m\u001b[0;34m(\u001b[0m\u001b[0mself\u001b[0m\u001b[0;34m,\u001b[0m \u001b[0mname\u001b[0m\u001b[0;34m)\u001b[0m\u001b[0;34m\u001b[0m\u001b[0;34m\u001b[0m\u001b[0m\n\u001b[0m\u001b[1;32m   5176\u001b[0m         \u001b[0;32melse\u001b[0m\u001b[0;34m:\u001b[0m\u001b[0;34m\u001b[0m\u001b[0;34m\u001b[0m\u001b[0m\n\u001b[1;32m   5177\u001b[0m             \u001b[0;32mif\u001b[0m \u001b[0mself\u001b[0m\u001b[0;34m.\u001b[0m\u001b[0m_info_axis\u001b[0m\u001b[0;34m.\u001b[0m\u001b[0m_can_hold_identifiers_and_holds_name\u001b[0m\u001b[0;34m(\u001b[0m\u001b[0mname\u001b[0m\u001b[0;34m)\u001b[0m\u001b[0;34m:\u001b[0m\u001b[0;34m\u001b[0m\u001b[0;34m\u001b[0m\u001b[0m\n",
      "\u001b[0;32m~/opt/anaconda3/lib/python3.7/site-packages/pandas/core/accessor.py\u001b[0m in \u001b[0;36m__get__\u001b[0;34m(self, obj, cls)\u001b[0m\n\u001b[1;32m    173\u001b[0m             \u001b[0;31m# we're accessing the attribute of the class, i.e., Dataset.geo\u001b[0m\u001b[0;34m\u001b[0m\u001b[0;34m\u001b[0m\u001b[0;34m\u001b[0m\u001b[0m\n\u001b[1;32m    174\u001b[0m             \u001b[0;32mreturn\u001b[0m \u001b[0mself\u001b[0m\u001b[0;34m.\u001b[0m\u001b[0m_accessor\u001b[0m\u001b[0;34m\u001b[0m\u001b[0;34m\u001b[0m\u001b[0m\n\u001b[0;32m--> 175\u001b[0;31m         \u001b[0maccessor_obj\u001b[0m \u001b[0;34m=\u001b[0m \u001b[0mself\u001b[0m\u001b[0;34m.\u001b[0m\u001b[0m_accessor\u001b[0m\u001b[0;34m(\u001b[0m\u001b[0mobj\u001b[0m\u001b[0;34m)\u001b[0m\u001b[0;34m\u001b[0m\u001b[0;34m\u001b[0m\u001b[0m\n\u001b[0m\u001b[1;32m    176\u001b[0m         \u001b[0;31m# Replace the property with the accessor object. Inspired by:\u001b[0m\u001b[0;34m\u001b[0m\u001b[0;34m\u001b[0m\u001b[0;34m\u001b[0m\u001b[0m\n\u001b[1;32m    177\u001b[0m         \u001b[0;31m# http://www.pydanny.com/cached-property.html\u001b[0m\u001b[0;34m\u001b[0m\u001b[0;34m\u001b[0m\u001b[0;34m\u001b[0m\u001b[0m\n",
      "\u001b[0;32m~/opt/anaconda3/lib/python3.7/site-packages/pandas/core/strings.py\u001b[0m in \u001b[0;36m__init__\u001b[0;34m(self, data)\u001b[0m\n\u001b[1;32m   1915\u001b[0m \u001b[0;34m\u001b[0m\u001b[0m\n\u001b[1;32m   1916\u001b[0m     \u001b[0;32mdef\u001b[0m \u001b[0m__init__\u001b[0m\u001b[0;34m(\u001b[0m\u001b[0mself\u001b[0m\u001b[0;34m,\u001b[0m \u001b[0mdata\u001b[0m\u001b[0;34m)\u001b[0m\u001b[0;34m:\u001b[0m\u001b[0;34m\u001b[0m\u001b[0;34m\u001b[0m\u001b[0m\n\u001b[0;32m-> 1917\u001b[0;31m         \u001b[0mself\u001b[0m\u001b[0;34m.\u001b[0m\u001b[0m_inferred_dtype\u001b[0m \u001b[0;34m=\u001b[0m \u001b[0mself\u001b[0m\u001b[0;34m.\u001b[0m\u001b[0m_validate\u001b[0m\u001b[0;34m(\u001b[0m\u001b[0mdata\u001b[0m\u001b[0;34m)\u001b[0m\u001b[0;34m\u001b[0m\u001b[0;34m\u001b[0m\u001b[0m\n\u001b[0m\u001b[1;32m   1918\u001b[0m         \u001b[0mself\u001b[0m\u001b[0;34m.\u001b[0m\u001b[0m_is_categorical\u001b[0m \u001b[0;34m=\u001b[0m \u001b[0mis_categorical_dtype\u001b[0m\u001b[0;34m(\u001b[0m\u001b[0mdata\u001b[0m\u001b[0;34m)\u001b[0m\u001b[0;34m\u001b[0m\u001b[0;34m\u001b[0m\u001b[0m\n\u001b[1;32m   1919\u001b[0m \u001b[0;34m\u001b[0m\u001b[0m\n",
      "\u001b[0;32m~/opt/anaconda3/lib/python3.7/site-packages/pandas/core/strings.py\u001b[0m in \u001b[0;36m_validate\u001b[0;34m(data)\u001b[0m\n\u001b[1;32m   1965\u001b[0m \u001b[0;34m\u001b[0m\u001b[0m\n\u001b[1;32m   1966\u001b[0m         \u001b[0;32mif\u001b[0m \u001b[0minferred_dtype\u001b[0m \u001b[0;32mnot\u001b[0m \u001b[0;32min\u001b[0m \u001b[0mallowed_types\u001b[0m\u001b[0;34m:\u001b[0m\u001b[0;34m\u001b[0m\u001b[0;34m\u001b[0m\u001b[0m\n\u001b[0;32m-> 1967\u001b[0;31m             \u001b[0;32mraise\u001b[0m \u001b[0mAttributeError\u001b[0m\u001b[0;34m(\u001b[0m\u001b[0;34m\"Can only use .str accessor with string \"\u001b[0m \u001b[0;34m\"values!\"\u001b[0m\u001b[0;34m)\u001b[0m\u001b[0;34m\u001b[0m\u001b[0;34m\u001b[0m\u001b[0m\n\u001b[0m\u001b[1;32m   1968\u001b[0m         \u001b[0;32mreturn\u001b[0m \u001b[0minferred_dtype\u001b[0m\u001b[0;34m\u001b[0m\u001b[0;34m\u001b[0m\u001b[0m\n\u001b[1;32m   1969\u001b[0m \u001b[0;34m\u001b[0m\u001b[0m\n",
      "\u001b[0;31mAttributeError\u001b[0m: Can only use .str accessor with string values!"
     ]
    }
   ],
   "source": [
    "pred_df.violations = pred_df.violations.apply(lambda x: str.join(' ')"
   ]
  },
  {
   "cell_type": "code",
   "execution_count": 85,
   "metadata": {},
   "outputs": [
    {
     "ename": "TypeError",
     "evalue": "expected string or bytes-like object",
     "output_type": "error",
     "traceback": [
      "\u001b[0;31m---------------------------------------------------------------------------\u001b[0m",
      "\u001b[0;31mTypeError\u001b[0m                                 Traceback (most recent call last)",
      "\u001b[0;32m<ipython-input-85-9201fa345c87>\u001b[0m in \u001b[0;36m<module>\u001b[0;34m\u001b[0m\n\u001b[1;32m      6\u001b[0m     \u001b[0;32mreturn\u001b[0m \u001b[0;34m[\u001b[0m\u001b[0mlemmatizer\u001b[0m\u001b[0;34m.\u001b[0m\u001b[0mlemmatize\u001b[0m\u001b[0;34m(\u001b[0m\u001b[0mw\u001b[0m\u001b[0;34m)\u001b[0m \u001b[0;32mfor\u001b[0m \u001b[0mw\u001b[0m \u001b[0;32min\u001b[0m \u001b[0mw_tokenizer\u001b[0m\u001b[0;34m.\u001b[0m\u001b[0mtokenize\u001b[0m\u001b[0;34m(\u001b[0m\u001b[0mtext\u001b[0m\u001b[0;34m)\u001b[0m\u001b[0;34m]\u001b[0m\u001b[0;34m\u001b[0m\u001b[0;34m\u001b[0m\u001b[0m\n\u001b[1;32m      7\u001b[0m \u001b[0;34m\u001b[0m\u001b[0m\n\u001b[0;32m----> 8\u001b[0;31m \u001b[0mpred_df\u001b[0m\u001b[0;34m.\u001b[0m\u001b[0mviolations\u001b[0m \u001b[0;34m=\u001b[0m \u001b[0mpred_df\u001b[0m\u001b[0;34m.\u001b[0m\u001b[0mviolations\u001b[0m\u001b[0;34m.\u001b[0m\u001b[0mapply\u001b[0m\u001b[0;34m(\u001b[0m\u001b[0;32mlambda\u001b[0m \u001b[0mx\u001b[0m\u001b[0;34m:\u001b[0m \u001b[0mlemmatize_text\u001b[0m\u001b[0;34m(\u001b[0m\u001b[0mx\u001b[0m\u001b[0;34m)\u001b[0m\u001b[0;34m)\u001b[0m\u001b[0;34m\u001b[0m\u001b[0;34m\u001b[0m\u001b[0m\n\u001b[0m\u001b[1;32m      9\u001b[0m \u001b[0;34m\u001b[0m\u001b[0m\n\u001b[1;32m     10\u001b[0m \u001b[0mpred_df\u001b[0m\u001b[0;34m.\u001b[0m\u001b[0mviolations\u001b[0m \u001b[0;34m=\u001b[0m \u001b[0mpred_df\u001b[0m\u001b[0;34m.\u001b[0m\u001b[0mviolations\u001b[0m\u001b[0;34m.\u001b[0m\u001b[0mstr\u001b[0m\u001b[0;34m.\u001b[0m\u001b[0mjoin\u001b[0m\u001b[0;34m(\u001b[0m\u001b[0;34m' '\u001b[0m\u001b[0;34m)\u001b[0m\u001b[0;34m\u001b[0m\u001b[0;34m\u001b[0m\u001b[0m\n",
      "\u001b[0;32m~/opt/anaconda3/lib/python3.7/site-packages/pandas/core/series.py\u001b[0m in \u001b[0;36mapply\u001b[0;34m(self, func, convert_dtype, args, **kwds)\u001b[0m\n\u001b[1;32m   4043\u001b[0m             \u001b[0;32melse\u001b[0m\u001b[0;34m:\u001b[0m\u001b[0;34m\u001b[0m\u001b[0;34m\u001b[0m\u001b[0m\n\u001b[1;32m   4044\u001b[0m                 \u001b[0mvalues\u001b[0m \u001b[0;34m=\u001b[0m \u001b[0mself\u001b[0m\u001b[0;34m.\u001b[0m\u001b[0mastype\u001b[0m\u001b[0;34m(\u001b[0m\u001b[0mobject\u001b[0m\u001b[0;34m)\u001b[0m\u001b[0;34m.\u001b[0m\u001b[0mvalues\u001b[0m\u001b[0;34m\u001b[0m\u001b[0;34m\u001b[0m\u001b[0m\n\u001b[0;32m-> 4045\u001b[0;31m                 \u001b[0mmapped\u001b[0m \u001b[0;34m=\u001b[0m \u001b[0mlib\u001b[0m\u001b[0;34m.\u001b[0m\u001b[0mmap_infer\u001b[0m\u001b[0;34m(\u001b[0m\u001b[0mvalues\u001b[0m\u001b[0;34m,\u001b[0m \u001b[0mf\u001b[0m\u001b[0;34m,\u001b[0m \u001b[0mconvert\u001b[0m\u001b[0;34m=\u001b[0m\u001b[0mconvert_dtype\u001b[0m\u001b[0;34m)\u001b[0m\u001b[0;34m\u001b[0m\u001b[0;34m\u001b[0m\u001b[0m\n\u001b[0m\u001b[1;32m   4046\u001b[0m \u001b[0;34m\u001b[0m\u001b[0m\n\u001b[1;32m   4047\u001b[0m         \u001b[0;32mif\u001b[0m \u001b[0mlen\u001b[0m\u001b[0;34m(\u001b[0m\u001b[0mmapped\u001b[0m\u001b[0;34m)\u001b[0m \u001b[0;32mand\u001b[0m \u001b[0misinstance\u001b[0m\u001b[0;34m(\u001b[0m\u001b[0mmapped\u001b[0m\u001b[0;34m[\u001b[0m\u001b[0;36m0\u001b[0m\u001b[0;34m]\u001b[0m\u001b[0;34m,\u001b[0m \u001b[0mSeries\u001b[0m\u001b[0;34m)\u001b[0m\u001b[0;34m:\u001b[0m\u001b[0;34m\u001b[0m\u001b[0;34m\u001b[0m\u001b[0m\n",
      "\u001b[0;32mpandas/_libs/lib.pyx\u001b[0m in \u001b[0;36mpandas._libs.lib.map_infer\u001b[0;34m()\u001b[0m\n",
      "\u001b[0;32m<ipython-input-85-9201fa345c87>\u001b[0m in \u001b[0;36m<lambda>\u001b[0;34m(x)\u001b[0m\n\u001b[1;32m      6\u001b[0m     \u001b[0;32mreturn\u001b[0m \u001b[0;34m[\u001b[0m\u001b[0mlemmatizer\u001b[0m\u001b[0;34m.\u001b[0m\u001b[0mlemmatize\u001b[0m\u001b[0;34m(\u001b[0m\u001b[0mw\u001b[0m\u001b[0;34m)\u001b[0m \u001b[0;32mfor\u001b[0m \u001b[0mw\u001b[0m \u001b[0;32min\u001b[0m \u001b[0mw_tokenizer\u001b[0m\u001b[0;34m.\u001b[0m\u001b[0mtokenize\u001b[0m\u001b[0;34m(\u001b[0m\u001b[0mtext\u001b[0m\u001b[0;34m)\u001b[0m\u001b[0;34m]\u001b[0m\u001b[0;34m\u001b[0m\u001b[0;34m\u001b[0m\u001b[0m\n\u001b[1;32m      7\u001b[0m \u001b[0;34m\u001b[0m\u001b[0m\n\u001b[0;32m----> 8\u001b[0;31m \u001b[0mpred_df\u001b[0m\u001b[0;34m.\u001b[0m\u001b[0mviolations\u001b[0m \u001b[0;34m=\u001b[0m \u001b[0mpred_df\u001b[0m\u001b[0;34m.\u001b[0m\u001b[0mviolations\u001b[0m\u001b[0;34m.\u001b[0m\u001b[0mapply\u001b[0m\u001b[0;34m(\u001b[0m\u001b[0;32mlambda\u001b[0m \u001b[0mx\u001b[0m\u001b[0;34m:\u001b[0m \u001b[0mlemmatize_text\u001b[0m\u001b[0;34m(\u001b[0m\u001b[0mx\u001b[0m\u001b[0;34m)\u001b[0m\u001b[0;34m)\u001b[0m\u001b[0;34m\u001b[0m\u001b[0;34m\u001b[0m\u001b[0m\n\u001b[0m\u001b[1;32m      9\u001b[0m \u001b[0;34m\u001b[0m\u001b[0m\n\u001b[1;32m     10\u001b[0m \u001b[0mpred_df\u001b[0m\u001b[0;34m.\u001b[0m\u001b[0mviolations\u001b[0m \u001b[0;34m=\u001b[0m \u001b[0mpred_df\u001b[0m\u001b[0;34m.\u001b[0m\u001b[0mviolations\u001b[0m\u001b[0;34m.\u001b[0m\u001b[0mstr\u001b[0m\u001b[0;34m.\u001b[0m\u001b[0mjoin\u001b[0m\u001b[0;34m(\u001b[0m\u001b[0;34m' '\u001b[0m\u001b[0;34m)\u001b[0m\u001b[0;34m\u001b[0m\u001b[0;34m\u001b[0m\u001b[0m\n",
      "\u001b[0;32m<ipython-input-85-9201fa345c87>\u001b[0m in \u001b[0;36mlemmatize_text\u001b[0;34m(text)\u001b[0m\n\u001b[1;32m      4\u001b[0m \u001b[0;34m\u001b[0m\u001b[0m\n\u001b[1;32m      5\u001b[0m \u001b[0;32mdef\u001b[0m \u001b[0mlemmatize_text\u001b[0m\u001b[0;34m(\u001b[0m\u001b[0mtext\u001b[0m\u001b[0;34m)\u001b[0m\u001b[0;34m:\u001b[0m\u001b[0;34m\u001b[0m\u001b[0;34m\u001b[0m\u001b[0m\n\u001b[0;32m----> 6\u001b[0;31m     \u001b[0;32mreturn\u001b[0m \u001b[0;34m[\u001b[0m\u001b[0mlemmatizer\u001b[0m\u001b[0;34m.\u001b[0m\u001b[0mlemmatize\u001b[0m\u001b[0;34m(\u001b[0m\u001b[0mw\u001b[0m\u001b[0;34m)\u001b[0m \u001b[0;32mfor\u001b[0m \u001b[0mw\u001b[0m \u001b[0;32min\u001b[0m \u001b[0mw_tokenizer\u001b[0m\u001b[0;34m.\u001b[0m\u001b[0mtokenize\u001b[0m\u001b[0;34m(\u001b[0m\u001b[0mtext\u001b[0m\u001b[0;34m)\u001b[0m\u001b[0;34m]\u001b[0m\u001b[0;34m\u001b[0m\u001b[0;34m\u001b[0m\u001b[0m\n\u001b[0m\u001b[1;32m      7\u001b[0m \u001b[0;34m\u001b[0m\u001b[0m\n\u001b[1;32m      8\u001b[0m \u001b[0mpred_df\u001b[0m\u001b[0;34m.\u001b[0m\u001b[0mviolations\u001b[0m \u001b[0;34m=\u001b[0m \u001b[0mpred_df\u001b[0m\u001b[0;34m.\u001b[0m\u001b[0mviolations\u001b[0m\u001b[0;34m.\u001b[0m\u001b[0mapply\u001b[0m\u001b[0;34m(\u001b[0m\u001b[0;32mlambda\u001b[0m \u001b[0mx\u001b[0m\u001b[0;34m:\u001b[0m \u001b[0mlemmatize_text\u001b[0m\u001b[0;34m(\u001b[0m\u001b[0mx\u001b[0m\u001b[0;34m)\u001b[0m\u001b[0;34m)\u001b[0m\u001b[0;34m\u001b[0m\u001b[0;34m\u001b[0m\u001b[0m\n",
      "\u001b[0;32m~/opt/anaconda3/lib/python3.7/site-packages/nltk/tokenize/regexp.py\u001b[0m in \u001b[0;36mtokenize\u001b[0;34m(self, text)\u001b[0m\n\u001b[1;32m    128\u001b[0m         \u001b[0;32mif\u001b[0m \u001b[0mself\u001b[0m\u001b[0;34m.\u001b[0m\u001b[0m_gaps\u001b[0m\u001b[0;34m:\u001b[0m\u001b[0;34m\u001b[0m\u001b[0;34m\u001b[0m\u001b[0m\n\u001b[1;32m    129\u001b[0m             \u001b[0;32mif\u001b[0m \u001b[0mself\u001b[0m\u001b[0;34m.\u001b[0m\u001b[0m_discard_empty\u001b[0m\u001b[0;34m:\u001b[0m\u001b[0;34m\u001b[0m\u001b[0;34m\u001b[0m\u001b[0m\n\u001b[0;32m--> 130\u001b[0;31m                 \u001b[0;32mreturn\u001b[0m \u001b[0;34m[\u001b[0m\u001b[0mtok\u001b[0m \u001b[0;32mfor\u001b[0m \u001b[0mtok\u001b[0m \u001b[0;32min\u001b[0m \u001b[0mself\u001b[0m\u001b[0;34m.\u001b[0m\u001b[0m_regexp\u001b[0m\u001b[0;34m.\u001b[0m\u001b[0msplit\u001b[0m\u001b[0;34m(\u001b[0m\u001b[0mtext\u001b[0m\u001b[0;34m)\u001b[0m \u001b[0;32mif\u001b[0m \u001b[0mtok\u001b[0m\u001b[0;34m]\u001b[0m\u001b[0;34m\u001b[0m\u001b[0;34m\u001b[0m\u001b[0m\n\u001b[0m\u001b[1;32m    131\u001b[0m             \u001b[0;32melse\u001b[0m\u001b[0;34m:\u001b[0m\u001b[0;34m\u001b[0m\u001b[0;34m\u001b[0m\u001b[0m\n\u001b[1;32m    132\u001b[0m                 \u001b[0;32mreturn\u001b[0m \u001b[0mself\u001b[0m\u001b[0;34m.\u001b[0m\u001b[0m_regexp\u001b[0m\u001b[0;34m.\u001b[0m\u001b[0msplit\u001b[0m\u001b[0;34m(\u001b[0m\u001b[0mtext\u001b[0m\u001b[0;34m)\u001b[0m\u001b[0;34m\u001b[0m\u001b[0;34m\u001b[0m\u001b[0m\n",
      "\u001b[0;31mTypeError\u001b[0m: expected string or bytes-like object"
     ]
    }
   ],
   "source": [
    "#Lemmatize Violations\n",
    "w_tokenizer = nltk.tokenize.WhitespaceTokenizer()\n",
    "lemmatizer = nltk.stem.WordNetLemmatizer()\n",
    "\n",
    "#remove \"Comments\"\n",
    "pred_df['violations'] = pred_df['violations'].str.replace('Comments*\\s','')\n",
    "pred_df['violations'] = pred_df['violations'].str.replace('Comments','')\n",
    "\n",
    "def lemmatize_text(text):\n",
    "    return [lemmatizer.lemmatize(w) for w in w_tokenizer.tokenize(text)]\n",
    "\n",
    "pred_df.violations = pred_df.violations.apply(lambda x: lemmatize_text(x))\n",
    "\n",
    "pred_df.violations = pred_df.violations.str.join(' ')\n",
    "\n",
    "\n",
    "\n",
    "#Remove Punctuation\n",
    "pred_df['violations'] = pred_df['violations'].str.replace('[^\\w\\s]','')\n",
    "\n",
    "#Remove non-alphanumeric\n",
    "pred_df['violations'] = pred_df['violations'].str.replace('[^\\D\\s]','')\n"
   ]
  },
  {
   "cell_type": "code",
   "execution_count": 88,
   "metadata": {},
   "outputs": [
    {
     "data": {
      "text/plain": [
       "pandas.core.series.Series"
      ]
     },
     "execution_count": 88,
     "metadata": {},
     "output_type": "execute_result"
    }
   ],
   "source": [
    "type(pred_df['violations'])"
   ]
  },
  {
   "cell_type": "code",
   "execution_count": 89,
   "metadata": {},
   "outputs": [
    {
     "data": {
      "text/plain": [
       "[' Comments: NOTED NO SOAP AT EMPLOYEE BATHROOM HAND WASH SINK. INSTRUCTED TO HAVE SOAP AND PAPER TOWELS AT ALL HAND WASH SINKS AT ALL TIMES.PRIORITY FOUNDATION VIOLATION #7-38-030(C) |',\n",
       " ' Comments: NO PAPER TOWELS AT EMPLOYEE BATHROOM HAND WASH SINK. INSTRUCTED TO HAVE SOAP AND PAPER TOWELS AT ALL HAND WASH SINKS.PRIORITY FOUNDATION #7-38-030(C) CONSOLIDATED WITH ABOVE CITATION. |',\n",
       " ' Comments: NOTED WASTE WATER THROUGHOUT FLOOR FROM THE FLOOR DRAINS WHEN WATER IS RELEASED FROM THE REAR HAND WASH SINK AND 3 COMPARTMENT SINK AND THE FRONT HAND WASH SINK WITH STRONG OFFENSIVE ODOR. INSTRUCTED TO REPAIR AND MAINTAIN. PRIORITY VIOLATION #7-38-030 (C). |',\n",
       " ' Comments: INSTRUCTED TO DETAIL CLEAN, SANITIZE AND MAINTAIN ALL FLOORS, ALONG WALL BASE AND UNDERNEATH EQUIPMENT ESPECIALLY WITH THE WASTE WATER AND FOOD DEBRIS/LITTER.',\n",
       " '']"
      ]
     },
     "execution_count": 89,
     "metadata": {},
     "output_type": "execute_result"
    }
   ],
   "source": [
    "pred_df.iloc[0]['violations']"
   ]
  },
  {
   "cell_type": "code",
   "execution_count": null,
   "metadata": {},
   "outputs": [],
   "source": []
  },
  {
   "cell_type": "code",
   "execution_count": null,
   "metadata": {},
   "outputs": [],
   "source": []
  },
  {
   "cell_type": "code",
   "execution_count": null,
   "metadata": {},
   "outputs": [],
   "source": [
    "#Now check sample violation\n",
    "pred_df['violations'].sample(n=1, random_state=512)"
   ]
  },
  {
   "cell_type": "markdown",
   "metadata": {},
   "source": [
    "Now, we need to conver the results column into a categorical flag"
   ]
  },
  {
   "cell_type": "code",
   "execution_count": null,
   "metadata": {},
   "outputs": [],
   "source": [
    "pred_df['results'].value_counts()"
   ]
  },
  {
   "cell_type": "code",
   "execution_count": null,
   "metadata": {},
   "outputs": [],
   "source": [
    "# convert label to a binary numerical variable\n",
    "pred_df['results_flag'] = pred_df.results.map({'Pass':0,\n",
    "                                     'Fail':1,\n",
    "                                     'Pass w/ Conditions':2,\n",
    "                                     'No Entry':3,\n",
    "                                     'Not Ready':4,\n",
    "                                     'Out of Business':5 })"
   ]
  },
  {
   "cell_type": "code",
   "execution_count": null,
   "metadata": {},
   "outputs": [],
   "source": [
    "pred_df.sample(n=5, random_state=312)"
   ]
  },
  {
   "cell_type": "code",
   "execution_count": null,
   "metadata": {},
   "outputs": [],
   "source": [
    "print('number of unique addresses in dataset: ',len(df.address.unique()))\n",
    "print('number of inspections: ', len(df.inspection_id.unique()))\n",
    "print('shape of dataset: ', df.shape)\n",
    "print('first inspection date: ', df.inspection_date.min())\n",
    "print('most recent inspection date: ', df.inspection_date.max())"
   ]
  },
  {
   "cell_type": "code",
   "execution_count": null,
   "metadata": {},
   "outputs": [],
   "source": [
    "print('damaged: ', lemmatize_text('damaged'))\n",
    "print('bats: ', lemmatize_text('bats'))\n",
    "print('feet: ', lemmatize_text('feet'))"
   ]
  },
  {
   "cell_type": "code",
   "execution_count": null,
   "metadata": {},
   "outputs": [],
   "source": [
    "df['violations'].sample(n=1)"
   ]
  },
  {
   "cell_type": "code",
   "execution_count": null,
   "metadata": {},
   "outputs": [],
   "source": []
  },
  {
   "cell_type": "code",
   "execution_count": null,
   "metadata": {},
   "outputs": [],
   "source": []
  },
  {
   "cell_type": "code",
   "execution_count": null,
   "metadata": {},
   "outputs": [],
   "source": []
  },
  {
   "cell_type": "code",
   "execution_count": null,
   "metadata": {},
   "outputs": [],
   "source": []
  },
  {
   "cell_type": "markdown",
   "metadata": {},
   "source": [
    "# Export Dataset"
   ]
  },
  {
   "cell_type": "code",
   "execution_count": 148,
   "metadata": {},
   "outputs": [],
   "source": [
    "from datetime import date\n",
    "\n",
    "today = date.today()\n",
    "df.to_csv('../dataset_exports/'+str(today)+'_data.csv')\n"
   ]
  },
  {
   "cell_type": "markdown",
   "metadata": {},
   "source": [
    "<a id='model'></a>\n",
    "# 3. Model"
   ]
  },
  {
   "cell_type": "markdown",
   "metadata": {},
   "source": [
    "<a id='modeloverview'> </a>\n",
    "## 3.1 Model Overview"
   ]
  },
  {
   "cell_type": "markdown",
   "metadata": {},
   "source": [
    "\n",
    "### 3.1 Set X & y Variables"
   ]
  },
  {
   "cell_type": "code",
   "execution_count": 165,
   "metadata": {},
   "outputs": [
    {
     "name": "stdout",
     "output_type": "stream",
     "text": [
      "(155001,)\n",
      "(155001,)\n"
     ]
    }
   ],
   "source": [
    "X = pred_df.violations\n",
    "y = pred_df.results_flag\n",
    "print(X.shape)\n",
    "print(y.shape)"
   ]
  },
  {
   "cell_type": "markdown",
   "metadata": {},
   "source": [
    "### 3.2 Train/Test Split"
   ]
  },
  {
   "cell_type": "code",
   "execution_count": 96,
   "metadata": {},
   "outputs": [
    {
     "name": "stdout",
     "output_type": "stream",
     "text": [
      "(124000,)\n",
      "(31001,)\n",
      "(124000,)\n",
      "(31001,)\n"
     ]
    }
   ],
   "source": [
    "# split X and y into training and testing sets\n",
    "X_train, X_test, y_train, y_test = train_test_split(X, y, \n",
    "                                                    test_size=0.20, \n",
    "                                                    stratify=y, \n",
    "                                                    random_state=123)\n",
    "print(X_train.shape)\n",
    "print(X_test.shape)\n",
    "print(y_train.shape)\n",
    "print(y_test.shape)"
   ]
  },
  {
   "cell_type": "markdown",
   "metadata": {},
   "source": [
    "### 3.3 Vectorize The Text"
   ]
  },
  {
   "cell_type": "code",
   "execution_count": 97,
   "metadata": {},
   "outputs": [
    {
     "data": {
      "text/plain": [
       "<124000x90729 sparse matrix of type '<class 'numpy.int64'>'\n",
       "\twith 8392952 stored elements in Compressed Sparse Row format>"
      ]
     },
     "execution_count": 97,
     "metadata": {},
     "output_type": "execute_result"
    }
   ],
   "source": [
    "# instantiate the vectorizer\n",
    "vect = CountVectorizer()\n",
    "\n",
    "# equivalently: combine fit and transform into a single step\n",
    "X_train_dtm = vect.fit_transform(X_train)\n",
    "\n",
    "# examine the document-term matrix\n",
    "X_train_dtm"
   ]
  },
  {
   "cell_type": "code",
   "execution_count": 98,
   "metadata": {},
   "outputs": [
    {
     "data": {
      "text/plain": [
       "<31001x90729 sparse matrix of type '<class 'numpy.int64'>'\n",
       "\twith 2079383 stored elements in Compressed Sparse Row format>"
      ]
     },
     "execution_count": 98,
     "metadata": {},
     "output_type": "execute_result"
    }
   ],
   "source": [
    "# transform testing data (using fitted vocabulary) into a document-term matrix\n",
    "X_test_dtm = vect.transform(X_test)\n",
    "X_test_dtm"
   ]
  },
  {
   "cell_type": "code",
   "execution_count": 99,
   "metadata": {},
   "outputs": [
    {
     "data": {
      "text/html": [
       "<div>\n",
       "<style scoped>\n",
       "    .dataframe tbody tr th:only-of-type {\n",
       "        vertical-align: middle;\n",
       "    }\n",
       "\n",
       "    .dataframe tbody tr th {\n",
       "        vertical-align: top;\n",
       "    }\n",
       "\n",
       "    .dataframe thead th {\n",
       "        text-align: right;\n",
       "    }\n",
       "</style>\n",
       "<table border=\"1\" class=\"dataframe\">\n",
       "  <thead>\n",
       "    <tr style=\"text-align: right;\">\n",
       "      <th></th>\n",
       "      <th>___lbs</th>\n",
       "      <th>__through</th>\n",
       "      <th>_a</th>\n",
       "      <th>aa</th>\n",
       "      <th>aab</th>\n",
       "      <th>aaccumuation</th>\n",
       "      <th>aade</th>\n",
       "      <th>aafound</th>\n",
       "      <th>aair</th>\n",
       "      <th>aal</th>\n",
       "      <th>...</th>\n",
       "      <th>zucchini</th>\n",
       "      <th>zucchinibaby</th>\n",
       "      <th>zucchinin</th>\n",
       "      <th>zuccini</th>\n",
       "      <th>zuchinicabbagecooked</th>\n",
       "      <th>zumba</th>\n",
       "      <th>zumex</th>\n",
       "      <th>zurich</th>\n",
       "      <th>ºc</th>\n",
       "      <th>ºf</th>\n",
       "    </tr>\n",
       "  </thead>\n",
       "  <tbody>\n",
       "    <tr>\n",
       "      <th>0</th>\n",
       "      <td>0</td>\n",
       "      <td>0</td>\n",
       "      <td>0</td>\n",
       "      <td>0</td>\n",
       "      <td>0</td>\n",
       "      <td>0</td>\n",
       "      <td>0</td>\n",
       "      <td>0</td>\n",
       "      <td>0</td>\n",
       "      <td>0</td>\n",
       "      <td>...</td>\n",
       "      <td>0</td>\n",
       "      <td>0</td>\n",
       "      <td>0</td>\n",
       "      <td>0</td>\n",
       "      <td>0</td>\n",
       "      <td>0</td>\n",
       "      <td>0</td>\n",
       "      <td>0</td>\n",
       "      <td>0</td>\n",
       "      <td>0</td>\n",
       "    </tr>\n",
       "    <tr>\n",
       "      <th>1</th>\n",
       "      <td>0</td>\n",
       "      <td>0</td>\n",
       "      <td>0</td>\n",
       "      <td>0</td>\n",
       "      <td>0</td>\n",
       "      <td>0</td>\n",
       "      <td>0</td>\n",
       "      <td>0</td>\n",
       "      <td>0</td>\n",
       "      <td>0</td>\n",
       "      <td>...</td>\n",
       "      <td>0</td>\n",
       "      <td>0</td>\n",
       "      <td>0</td>\n",
       "      <td>0</td>\n",
       "      <td>0</td>\n",
       "      <td>0</td>\n",
       "      <td>0</td>\n",
       "      <td>0</td>\n",
       "      <td>0</td>\n",
       "      <td>0</td>\n",
       "    </tr>\n",
       "    <tr>\n",
       "      <th>2</th>\n",
       "      <td>0</td>\n",
       "      <td>0</td>\n",
       "      <td>0</td>\n",
       "      <td>0</td>\n",
       "      <td>0</td>\n",
       "      <td>0</td>\n",
       "      <td>0</td>\n",
       "      <td>0</td>\n",
       "      <td>0</td>\n",
       "      <td>0</td>\n",
       "      <td>...</td>\n",
       "      <td>0</td>\n",
       "      <td>0</td>\n",
       "      <td>0</td>\n",
       "      <td>0</td>\n",
       "      <td>0</td>\n",
       "      <td>0</td>\n",
       "      <td>0</td>\n",
       "      <td>0</td>\n",
       "      <td>0</td>\n",
       "      <td>0</td>\n",
       "    </tr>\n",
       "    <tr>\n",
       "      <th>3</th>\n",
       "      <td>0</td>\n",
       "      <td>0</td>\n",
       "      <td>0</td>\n",
       "      <td>0</td>\n",
       "      <td>0</td>\n",
       "      <td>0</td>\n",
       "      <td>0</td>\n",
       "      <td>0</td>\n",
       "      <td>0</td>\n",
       "      <td>0</td>\n",
       "      <td>...</td>\n",
       "      <td>0</td>\n",
       "      <td>0</td>\n",
       "      <td>0</td>\n",
       "      <td>0</td>\n",
       "      <td>0</td>\n",
       "      <td>0</td>\n",
       "      <td>0</td>\n",
       "      <td>0</td>\n",
       "      <td>0</td>\n",
       "      <td>0</td>\n",
       "    </tr>\n",
       "    <tr>\n",
       "      <th>4</th>\n",
       "      <td>0</td>\n",
       "      <td>0</td>\n",
       "      <td>0</td>\n",
       "      <td>0</td>\n",
       "      <td>0</td>\n",
       "      <td>0</td>\n",
       "      <td>0</td>\n",
       "      <td>0</td>\n",
       "      <td>0</td>\n",
       "      <td>0</td>\n",
       "      <td>...</td>\n",
       "      <td>0</td>\n",
       "      <td>0</td>\n",
       "      <td>0</td>\n",
       "      <td>0</td>\n",
       "      <td>0</td>\n",
       "      <td>0</td>\n",
       "      <td>0</td>\n",
       "      <td>0</td>\n",
       "      <td>0</td>\n",
       "      <td>0</td>\n",
       "    </tr>\n",
       "    <tr>\n",
       "      <th>...</th>\n",
       "      <td>...</td>\n",
       "      <td>...</td>\n",
       "      <td>...</td>\n",
       "      <td>...</td>\n",
       "      <td>...</td>\n",
       "      <td>...</td>\n",
       "      <td>...</td>\n",
       "      <td>...</td>\n",
       "      <td>...</td>\n",
       "      <td>...</td>\n",
       "      <td>...</td>\n",
       "      <td>...</td>\n",
       "      <td>...</td>\n",
       "      <td>...</td>\n",
       "      <td>...</td>\n",
       "      <td>...</td>\n",
       "      <td>...</td>\n",
       "      <td>...</td>\n",
       "      <td>...</td>\n",
       "      <td>...</td>\n",
       "      <td>...</td>\n",
       "    </tr>\n",
       "    <tr>\n",
       "      <th>123995</th>\n",
       "      <td>0</td>\n",
       "      <td>0</td>\n",
       "      <td>0</td>\n",
       "      <td>0</td>\n",
       "      <td>0</td>\n",
       "      <td>0</td>\n",
       "      <td>0</td>\n",
       "      <td>0</td>\n",
       "      <td>0</td>\n",
       "      <td>0</td>\n",
       "      <td>...</td>\n",
       "      <td>0</td>\n",
       "      <td>0</td>\n",
       "      <td>0</td>\n",
       "      <td>0</td>\n",
       "      <td>0</td>\n",
       "      <td>0</td>\n",
       "      <td>0</td>\n",
       "      <td>0</td>\n",
       "      <td>0</td>\n",
       "      <td>0</td>\n",
       "    </tr>\n",
       "    <tr>\n",
       "      <th>123996</th>\n",
       "      <td>0</td>\n",
       "      <td>0</td>\n",
       "      <td>0</td>\n",
       "      <td>0</td>\n",
       "      <td>0</td>\n",
       "      <td>0</td>\n",
       "      <td>0</td>\n",
       "      <td>0</td>\n",
       "      <td>0</td>\n",
       "      <td>0</td>\n",
       "      <td>...</td>\n",
       "      <td>0</td>\n",
       "      <td>0</td>\n",
       "      <td>0</td>\n",
       "      <td>0</td>\n",
       "      <td>0</td>\n",
       "      <td>0</td>\n",
       "      <td>0</td>\n",
       "      <td>0</td>\n",
       "      <td>0</td>\n",
       "      <td>0</td>\n",
       "    </tr>\n",
       "    <tr>\n",
       "      <th>123997</th>\n",
       "      <td>0</td>\n",
       "      <td>0</td>\n",
       "      <td>0</td>\n",
       "      <td>0</td>\n",
       "      <td>0</td>\n",
       "      <td>0</td>\n",
       "      <td>0</td>\n",
       "      <td>0</td>\n",
       "      <td>0</td>\n",
       "      <td>0</td>\n",
       "      <td>...</td>\n",
       "      <td>0</td>\n",
       "      <td>0</td>\n",
       "      <td>0</td>\n",
       "      <td>0</td>\n",
       "      <td>0</td>\n",
       "      <td>0</td>\n",
       "      <td>0</td>\n",
       "      <td>0</td>\n",
       "      <td>0</td>\n",
       "      <td>0</td>\n",
       "    </tr>\n",
       "    <tr>\n",
       "      <th>123998</th>\n",
       "      <td>0</td>\n",
       "      <td>0</td>\n",
       "      <td>0</td>\n",
       "      <td>0</td>\n",
       "      <td>0</td>\n",
       "      <td>0</td>\n",
       "      <td>0</td>\n",
       "      <td>0</td>\n",
       "      <td>0</td>\n",
       "      <td>0</td>\n",
       "      <td>...</td>\n",
       "      <td>0</td>\n",
       "      <td>0</td>\n",
       "      <td>0</td>\n",
       "      <td>0</td>\n",
       "      <td>0</td>\n",
       "      <td>0</td>\n",
       "      <td>0</td>\n",
       "      <td>0</td>\n",
       "      <td>0</td>\n",
       "      <td>0</td>\n",
       "    </tr>\n",
       "    <tr>\n",
       "      <th>123999</th>\n",
       "      <td>0</td>\n",
       "      <td>0</td>\n",
       "      <td>0</td>\n",
       "      <td>0</td>\n",
       "      <td>0</td>\n",
       "      <td>0</td>\n",
       "      <td>0</td>\n",
       "      <td>0</td>\n",
       "      <td>0</td>\n",
       "      <td>0</td>\n",
       "      <td>...</td>\n",
       "      <td>0</td>\n",
       "      <td>0</td>\n",
       "      <td>0</td>\n",
       "      <td>0</td>\n",
       "      <td>0</td>\n",
       "      <td>0</td>\n",
       "      <td>0</td>\n",
       "      <td>0</td>\n",
       "      <td>0</td>\n",
       "      <td>0</td>\n",
       "    </tr>\n",
       "  </tbody>\n",
       "</table>\n",
       "<p>124000 rows × 90729 columns</p>\n",
       "</div>"
      ],
      "text/plain": [
       "        ___lbs  __through  _a  aa  aab  aaccumuation  aade  aafound  aair  \\\n",
       "0            0          0   0   0    0             0     0        0     0   \n",
       "1            0          0   0   0    0             0     0        0     0   \n",
       "2            0          0   0   0    0             0     0        0     0   \n",
       "3            0          0   0   0    0             0     0        0     0   \n",
       "4            0          0   0   0    0             0     0        0     0   \n",
       "...        ...        ...  ..  ..  ...           ...   ...      ...   ...   \n",
       "123995       0          0   0   0    0             0     0        0     0   \n",
       "123996       0          0   0   0    0             0     0        0     0   \n",
       "123997       0          0   0   0    0             0     0        0     0   \n",
       "123998       0          0   0   0    0             0     0        0     0   \n",
       "123999       0          0   0   0    0             0     0        0     0   \n",
       "\n",
       "        aal  ...  zucchini  zucchinibaby  zucchinin  zuccini  \\\n",
       "0         0  ...         0             0          0        0   \n",
       "1         0  ...         0             0          0        0   \n",
       "2         0  ...         0             0          0        0   \n",
       "3         0  ...         0             0          0        0   \n",
       "4         0  ...         0             0          0        0   \n",
       "...     ...  ...       ...           ...        ...      ...   \n",
       "123995    0  ...         0             0          0        0   \n",
       "123996    0  ...         0             0          0        0   \n",
       "123997    0  ...         0             0          0        0   \n",
       "123998    0  ...         0             0          0        0   \n",
       "123999    0  ...         0             0          0        0   \n",
       "\n",
       "        zuchinicabbagecooked  zumba  zumex  zurich  ºc  ºf  \n",
       "0                          0      0      0       0   0   0  \n",
       "1                          0      0      0       0   0   0  \n",
       "2                          0      0      0       0   0   0  \n",
       "3                          0      0      0       0   0   0  \n",
       "4                          0      0      0       0   0   0  \n",
       "...                      ...    ...    ...     ...  ..  ..  \n",
       "123995                     0      0      0       0   0   0  \n",
       "123996                     0      0      0       0   0   0  \n",
       "123997                     0      0      0       0   0   0  \n",
       "123998                     0      0      0       0   0   0  \n",
       "123999                     0      0      0       0   0   0  \n",
       "\n",
       "[124000 rows x 90729 columns]"
      ]
     },
     "execution_count": 99,
     "metadata": {},
     "output_type": "execute_result"
    }
   ],
   "source": [
    "countvectorizer_matrix = vect.fit_transform(X_train)\n",
    "countvectorizer_matrix_df = pd.DataFrame(countvectorizer_matrix.toarray(), columns=vect.get_feature_names())\n",
    "countvectorizer_matrix_df"
   ]
  },
  {
   "cell_type": "markdown",
   "metadata": {},
   "source": [
    "<a id='model'> </a>\n",
    "## 5. Build Baseline Models\n",
    "* \"Model 1\", Naive Bayes Model\n",
    "* \"Model 2\", Logistic Regression\n",
    "* \"Model 3\", Support Vector Machine "
   ]
  },
  {
   "cell_type": "markdown",
   "metadata": {},
   "source": [
    "## a) Naive Bayes Model"
   ]
  },
  {
   "cell_type": "markdown",
   "metadata": {},
   "source": [
    "\\# instantiate a Multinomial Naive Bayes model\\\n",
    "nb = MultinomialNB()\n",
    "\n",
    "\\# train and time the model using X_train_dtm\\\n",
    "%time nb.fit(X_train_dtm, y_train)\n",
    "\n",
    "\\# make class predictions for X_test_dtm\\\n",
    "y_pred_class = nb.predict(X_test_dtm)\n",
    "\n",
    "\\# calculate accuracy of class predictions\\\n",
    "print(metrics.accuracy_score(y_test, y_pred_class))\n",
    "\n",
    "\\# calculate precision and recall\\\n",
    "print(classification_report(y_test, y_pred_class))\n",
    "\n",
    "\\#Check for over fitting\\\n",
    "y_pred_class_train = nb.predict(X_train_dtm)\n",
    "print(classification_report(y_train, y_pred_class_train))\n",
    "\n",
    "\\# calculate the confusion matrix\\\n",
    "print(metrics.confusion_matrix(y_test, y_pred_class))"
   ]
  },
  {
   "cell_type": "markdown",
   "metadata": {},
   "source": [
    "## b) Logistic Regression"
   ]
  },
  {
   "cell_type": "markdown",
   "metadata": {},
   "source": [
    "\\# instantiate a logistic regression model\\\n",
    "logreg = LogisticRegression(max_iter=10000)\n",
    "\n",
    "\\# train the model using X_train_dtm\\\n",
    "%time logreg.fit(X_train_dtm, y_train)\n",
    "\n",
    "\\# make class predictions for X_test_dtm\\\n",
    "y_pred_class = logreg.predict(X_test_dtm)\n",
    "\n",
    "\\# calculate accuracy of class predictions\\\n",
    "print(metrics.accuracy_score(y_test, y_pred_class))\n",
    "\n",
    "\\# calculate precision and recall\\\n",
    "print(classification_report(y_test, y_pred_class))\n",
    "\n",
    "\\#Check for over fitting\\\n",
    "y_pred_class_train = logreg.predict(X_train_dtm)\n",
    "\n",
    "print(classification_report(y_train, y_pred_class_train))\n",
    "\n",
    "\\# calculate the confusion matrix\\\n",
    "print(metrics.confusion_matrix(y_test, y_pred_class))"
   ]
  },
  {
   "cell_type": "markdown",
   "metadata": {},
   "source": [
    "## c) Support Vector Machine"
   ]
  },
  {
   "cell_type": "markdown",
   "metadata": {},
   "source": [
    "\\# instantiate a SVM model\\\n",
    "svm = SGDClassifier(max_iter=100, tol=None)\n",
    "\n",
    "\\# train the model using X_train_dtm\\\n",
    "%time svm.fit(X_train_dtm, y_train)\n",
    "\n",
    "\\# make class predictions for X_test_dtm\\\n",
    "y_pred_class = svm.predict(X_test_dtm)\n",
    "\n",
    "\\# calculate accuracy of class predictions\\\n",
    "print(metrics.accuracy_score(y_test, y_pred_class))\n",
    "\n",
    "\\# calculate precision and recall\\\n",
    "print(classification_report(y_test, y_pred_class))\n",
    "\n",
    "\\#Check for over fitting\\\n",
    "y_pred_class_train = svm.predict(X_train_dtm)\n",
    "print(classification_report(y_train, y_pred_class_train))\n",
    "\n",
    "\\# calculate the confusion matrix\\\n",
    "print(metrics.confusion_matrix(y_test, y_pred_class))"
   ]
  },
  {
   "cell_type": "code",
   "execution_count": null,
   "metadata": {},
   "outputs": [],
   "source": []
  },
  {
   "cell_type": "code",
   "execution_count": null,
   "metadata": {},
   "outputs": [],
   "source": []
  },
  {
   "cell_type": "markdown",
   "metadata": {},
   "source": [
    "# All Three Models In One Code Chunk"
   ]
  },
  {
   "cell_type": "code",
   "execution_count": 166,
   "metadata": {},
   "outputs": [
    {
     "data": {
      "text/plain": [
       "<155001x102274 sparse matrix of type '<class 'numpy.int64'>'\n",
       "\twith 10446989 stored elements in Compressed Sparse Row format>"
      ]
     },
     "execution_count": 166,
     "metadata": {},
     "output_type": "execute_result"
    }
   ],
   "source": [
    "# instantiate the vectorizer\n",
    "vect = CountVectorizer()\n",
    "\n",
    "# equivalently: combine fit and transform into a single step\n",
    "#X_train_dtm = vect.fit_transform(X_train)\n",
    "X_dtm = vect.fit_transform(X)\n",
    "\n",
    "# examine the document-term matrix\n",
    "X_dtm"
   ]
  },
  {
   "cell_type": "code",
   "execution_count": 167,
   "metadata": {},
   "outputs": [
    {
     "data": {
      "text/html": [
       "<div>\n",
       "<style scoped>\n",
       "    .dataframe tbody tr th:only-of-type {\n",
       "        vertical-align: middle;\n",
       "    }\n",
       "\n",
       "    .dataframe tbody tr th {\n",
       "        vertical-align: top;\n",
       "    }\n",
       "\n",
       "    .dataframe thead th {\n",
       "        text-align: right;\n",
       "    }\n",
       "</style>\n",
       "<table border=\"1\" class=\"dataframe\">\n",
       "  <thead>\n",
       "    <tr style=\"text-align: right;\">\n",
       "      <th></th>\n",
       "      <th>___lbs</th>\n",
       "      <th>__through</th>\n",
       "      <th>_a</th>\n",
       "      <th>aa</th>\n",
       "      <th>aab</th>\n",
       "      <th>aaccumuation</th>\n",
       "      <th>aade</th>\n",
       "      <th>aafound</th>\n",
       "      <th>aair</th>\n",
       "      <th>aal</th>\n",
       "      <th>...</th>\n",
       "      <th>zucchinin</th>\n",
       "      <th>zucchinisliced</th>\n",
       "      <th>zuccini</th>\n",
       "      <th>zuchinicabbagecooked</th>\n",
       "      <th>zuchinisasparagus</th>\n",
       "      <th>zumba</th>\n",
       "      <th>zumex</th>\n",
       "      <th>zurich</th>\n",
       "      <th>ºc</th>\n",
       "      <th>ºf</th>\n",
       "    </tr>\n",
       "  </thead>\n",
       "  <tbody>\n",
       "    <tr>\n",
       "      <th>0</th>\n",
       "      <td>0</td>\n",
       "      <td>0</td>\n",
       "      <td>0</td>\n",
       "      <td>0</td>\n",
       "      <td>0</td>\n",
       "      <td>0</td>\n",
       "      <td>0</td>\n",
       "      <td>0</td>\n",
       "      <td>0</td>\n",
       "      <td>0</td>\n",
       "      <td>...</td>\n",
       "      <td>0</td>\n",
       "      <td>0</td>\n",
       "      <td>0</td>\n",
       "      <td>0</td>\n",
       "      <td>0</td>\n",
       "      <td>0</td>\n",
       "      <td>0</td>\n",
       "      <td>0</td>\n",
       "      <td>0</td>\n",
       "      <td>0</td>\n",
       "    </tr>\n",
       "    <tr>\n",
       "      <th>1</th>\n",
       "      <td>0</td>\n",
       "      <td>0</td>\n",
       "      <td>0</td>\n",
       "      <td>0</td>\n",
       "      <td>0</td>\n",
       "      <td>0</td>\n",
       "      <td>0</td>\n",
       "      <td>0</td>\n",
       "      <td>0</td>\n",
       "      <td>0</td>\n",
       "      <td>...</td>\n",
       "      <td>0</td>\n",
       "      <td>0</td>\n",
       "      <td>0</td>\n",
       "      <td>0</td>\n",
       "      <td>0</td>\n",
       "      <td>0</td>\n",
       "      <td>0</td>\n",
       "      <td>0</td>\n",
       "      <td>0</td>\n",
       "      <td>0</td>\n",
       "    </tr>\n",
       "    <tr>\n",
       "      <th>2</th>\n",
       "      <td>0</td>\n",
       "      <td>0</td>\n",
       "      <td>0</td>\n",
       "      <td>0</td>\n",
       "      <td>0</td>\n",
       "      <td>0</td>\n",
       "      <td>0</td>\n",
       "      <td>0</td>\n",
       "      <td>0</td>\n",
       "      <td>0</td>\n",
       "      <td>...</td>\n",
       "      <td>0</td>\n",
       "      <td>0</td>\n",
       "      <td>0</td>\n",
       "      <td>0</td>\n",
       "      <td>0</td>\n",
       "      <td>0</td>\n",
       "      <td>0</td>\n",
       "      <td>0</td>\n",
       "      <td>0</td>\n",
       "      <td>0</td>\n",
       "    </tr>\n",
       "    <tr>\n",
       "      <th>3</th>\n",
       "      <td>0</td>\n",
       "      <td>0</td>\n",
       "      <td>0</td>\n",
       "      <td>0</td>\n",
       "      <td>0</td>\n",
       "      <td>0</td>\n",
       "      <td>0</td>\n",
       "      <td>0</td>\n",
       "      <td>0</td>\n",
       "      <td>0</td>\n",
       "      <td>...</td>\n",
       "      <td>0</td>\n",
       "      <td>0</td>\n",
       "      <td>0</td>\n",
       "      <td>0</td>\n",
       "      <td>0</td>\n",
       "      <td>0</td>\n",
       "      <td>0</td>\n",
       "      <td>0</td>\n",
       "      <td>0</td>\n",
       "      <td>0</td>\n",
       "    </tr>\n",
       "    <tr>\n",
       "      <th>4</th>\n",
       "      <td>0</td>\n",
       "      <td>0</td>\n",
       "      <td>0</td>\n",
       "      <td>0</td>\n",
       "      <td>0</td>\n",
       "      <td>0</td>\n",
       "      <td>0</td>\n",
       "      <td>0</td>\n",
       "      <td>0</td>\n",
       "      <td>0</td>\n",
       "      <td>...</td>\n",
       "      <td>0</td>\n",
       "      <td>0</td>\n",
       "      <td>0</td>\n",
       "      <td>0</td>\n",
       "      <td>0</td>\n",
       "      <td>0</td>\n",
       "      <td>0</td>\n",
       "      <td>0</td>\n",
       "      <td>0</td>\n",
       "      <td>0</td>\n",
       "    </tr>\n",
       "    <tr>\n",
       "      <th>...</th>\n",
       "      <td>...</td>\n",
       "      <td>...</td>\n",
       "      <td>...</td>\n",
       "      <td>...</td>\n",
       "      <td>...</td>\n",
       "      <td>...</td>\n",
       "      <td>...</td>\n",
       "      <td>...</td>\n",
       "      <td>...</td>\n",
       "      <td>...</td>\n",
       "      <td>...</td>\n",
       "      <td>...</td>\n",
       "      <td>...</td>\n",
       "      <td>...</td>\n",
       "      <td>...</td>\n",
       "      <td>...</td>\n",
       "      <td>...</td>\n",
       "      <td>...</td>\n",
       "      <td>...</td>\n",
       "      <td>...</td>\n",
       "      <td>...</td>\n",
       "    </tr>\n",
       "    <tr>\n",
       "      <th>154996</th>\n",
       "      <td>0</td>\n",
       "      <td>0</td>\n",
       "      <td>0</td>\n",
       "      <td>0</td>\n",
       "      <td>0</td>\n",
       "      <td>0</td>\n",
       "      <td>0</td>\n",
       "      <td>0</td>\n",
       "      <td>0</td>\n",
       "      <td>0</td>\n",
       "      <td>...</td>\n",
       "      <td>0</td>\n",
       "      <td>0</td>\n",
       "      <td>0</td>\n",
       "      <td>0</td>\n",
       "      <td>0</td>\n",
       "      <td>0</td>\n",
       "      <td>0</td>\n",
       "      <td>0</td>\n",
       "      <td>0</td>\n",
       "      <td>0</td>\n",
       "    </tr>\n",
       "    <tr>\n",
       "      <th>154997</th>\n",
       "      <td>0</td>\n",
       "      <td>0</td>\n",
       "      <td>0</td>\n",
       "      <td>0</td>\n",
       "      <td>0</td>\n",
       "      <td>0</td>\n",
       "      <td>0</td>\n",
       "      <td>0</td>\n",
       "      <td>0</td>\n",
       "      <td>0</td>\n",
       "      <td>...</td>\n",
       "      <td>0</td>\n",
       "      <td>0</td>\n",
       "      <td>0</td>\n",
       "      <td>0</td>\n",
       "      <td>0</td>\n",
       "      <td>0</td>\n",
       "      <td>0</td>\n",
       "      <td>0</td>\n",
       "      <td>0</td>\n",
       "      <td>0</td>\n",
       "    </tr>\n",
       "    <tr>\n",
       "      <th>154998</th>\n",
       "      <td>0</td>\n",
       "      <td>0</td>\n",
       "      <td>0</td>\n",
       "      <td>0</td>\n",
       "      <td>0</td>\n",
       "      <td>0</td>\n",
       "      <td>0</td>\n",
       "      <td>0</td>\n",
       "      <td>0</td>\n",
       "      <td>0</td>\n",
       "      <td>...</td>\n",
       "      <td>0</td>\n",
       "      <td>0</td>\n",
       "      <td>0</td>\n",
       "      <td>0</td>\n",
       "      <td>0</td>\n",
       "      <td>0</td>\n",
       "      <td>0</td>\n",
       "      <td>0</td>\n",
       "      <td>0</td>\n",
       "      <td>0</td>\n",
       "    </tr>\n",
       "    <tr>\n",
       "      <th>154999</th>\n",
       "      <td>0</td>\n",
       "      <td>0</td>\n",
       "      <td>0</td>\n",
       "      <td>0</td>\n",
       "      <td>0</td>\n",
       "      <td>0</td>\n",
       "      <td>0</td>\n",
       "      <td>0</td>\n",
       "      <td>0</td>\n",
       "      <td>0</td>\n",
       "      <td>...</td>\n",
       "      <td>0</td>\n",
       "      <td>0</td>\n",
       "      <td>0</td>\n",
       "      <td>0</td>\n",
       "      <td>0</td>\n",
       "      <td>0</td>\n",
       "      <td>0</td>\n",
       "      <td>0</td>\n",
       "      <td>0</td>\n",
       "      <td>0</td>\n",
       "    </tr>\n",
       "    <tr>\n",
       "      <th>155000</th>\n",
       "      <td>0</td>\n",
       "      <td>0</td>\n",
       "      <td>0</td>\n",
       "      <td>0</td>\n",
       "      <td>0</td>\n",
       "      <td>0</td>\n",
       "      <td>0</td>\n",
       "      <td>0</td>\n",
       "      <td>0</td>\n",
       "      <td>0</td>\n",
       "      <td>...</td>\n",
       "      <td>0</td>\n",
       "      <td>0</td>\n",
       "      <td>0</td>\n",
       "      <td>0</td>\n",
       "      <td>0</td>\n",
       "      <td>0</td>\n",
       "      <td>0</td>\n",
       "      <td>0</td>\n",
       "      <td>0</td>\n",
       "      <td>0</td>\n",
       "    </tr>\n",
       "  </tbody>\n",
       "</table>\n",
       "<p>155001 rows × 102274 columns</p>\n",
       "</div>"
      ],
      "text/plain": [
       "        ___lbs  __through  _a  aa  aab  aaccumuation  aade  aafound  aair  \\\n",
       "0            0          0   0   0    0             0     0        0     0   \n",
       "1            0          0   0   0    0             0     0        0     0   \n",
       "2            0          0   0   0    0             0     0        0     0   \n",
       "3            0          0   0   0    0             0     0        0     0   \n",
       "4            0          0   0   0    0             0     0        0     0   \n",
       "...        ...        ...  ..  ..  ...           ...   ...      ...   ...   \n",
       "154996       0          0   0   0    0             0     0        0     0   \n",
       "154997       0          0   0   0    0             0     0        0     0   \n",
       "154998       0          0   0   0    0             0     0        0     0   \n",
       "154999       0          0   0   0    0             0     0        0     0   \n",
       "155000       0          0   0   0    0             0     0        0     0   \n",
       "\n",
       "        aal  ...  zucchinin  zucchinisliced  zuccini  zuchinicabbagecooked  \\\n",
       "0         0  ...          0               0        0                     0   \n",
       "1         0  ...          0               0        0                     0   \n",
       "2         0  ...          0               0        0                     0   \n",
       "3         0  ...          0               0        0                     0   \n",
       "4         0  ...          0               0        0                     0   \n",
       "...     ...  ...        ...             ...      ...                   ...   \n",
       "154996    0  ...          0               0        0                     0   \n",
       "154997    0  ...          0               0        0                     0   \n",
       "154998    0  ...          0               0        0                     0   \n",
       "154999    0  ...          0               0        0                     0   \n",
       "155000    0  ...          0               0        0                     0   \n",
       "\n",
       "        zuchinisasparagus  zumba  zumex  zurich  ºc  ºf  \n",
       "0                       0      0      0       0   0   0  \n",
       "1                       0      0      0       0   0   0  \n",
       "2                       0      0      0       0   0   0  \n",
       "3                       0      0      0       0   0   0  \n",
       "4                       0      0      0       0   0   0  \n",
       "...                   ...    ...    ...     ...  ..  ..  \n",
       "154996                  0      0      0       0   0   0  \n",
       "154997                  0      0      0       0   0   0  \n",
       "154998                  0      0      0       0   0   0  \n",
       "154999                  0      0      0       0   0   0  \n",
       "155000                  0      0      0       0   0   0  \n",
       "\n",
       "[155001 rows x 102274 columns]"
      ]
     },
     "execution_count": 167,
     "metadata": {},
     "output_type": "execute_result"
    }
   ],
   "source": [
    "countvectorizer_matrix = vect.fit_transform(X)\n",
    "countvectorizer_matrix_df = pd.DataFrame(countvectorizer_matrix.toarray(), columns=vect.get_feature_names())\n",
    "countvectorizer_matrix_df"
   ]
  },
  {
   "cell_type": "code",
   "execution_count": 168,
   "metadata": {},
   "outputs": [
    {
     "name": "stdout",
     "output_type": "stream",
     "text": [
      "NB: 0.823556 (0.002072)\n",
      "LR: 0.923471 (0.001844)\n",
      "SVM: 0.913872 (0.002317)\n"
     ]
    }
   ],
   "source": [
    "from sklearn import model_selection\n",
    "\n",
    "# prepare configuration for cross validation test harness\n",
    "seed = 7\n",
    "# prepare models\n",
    "models = []\n",
    "models.append(('NB', MultinomialNB()))\n",
    "models.append(('LR', LogisticRegression(max_iter=10000)))\n",
    "models.append(('SVM', SGDClassifier(max_iter=100, tol=None)))\n",
    "\n",
    "# evaluate each model in turn\n",
    "results = []\n",
    "names = []\n",
    "scoring = 'accuracy'\n",
    "for name, model in models:\n",
    "\tkfold = model_selection.StratifiedKFold(n_splits=10, random_state=seed, shuffle=True)\n",
    "\tcv_results = model_selection.cross_val_score(model, X_dtm, y, cv=kfold, scoring=scoring)\n",
    "\tresults.append(cv_results)\n",
    "\tnames.append(name)\n",
    "\tmsg = \"%s: %f (%f)\" % (name, cv_results.mean(), cv_results.std())\n",
    "\tprint(msg)\n"
   ]
  },
  {
   "cell_type": "markdown",
   "metadata": {},
   "source": [
    "from sklearn import model_selection\n",
    "\n",
    "# prepare configuration for cross validation test harness\n",
    "#seed = 7\n",
    "# prepare models\n",
    "models = []\n",
    "models.append(('NB', MultinomialNB()))\n",
    "models.append(('LR', LogisticRegression(max_iter=10000)))\n",
    "models.append(('SVM', SGDClassifier(max_iter=100, tol=None)))\n",
    "\n",
    "# evaluate each model in turn\n",
    "results = []\n",
    "names = []\n",
    "scoring = 'accuracy'\n",
    "for name, model in models:\n",
    "\tkfold = model_selection.KFold(n_splits=10, random_state=seed, shuffle=True)\n",
    "\tcv_results = model_selection.cross_val_score(model, X_train_dtm, y_train, cv=kfold, scoring=scoring)\n",
    "\tresults.append(cv_results)\n",
    "\tnames.append(name)\n",
    "\tmsg = \"%s: %f (%f)\" % (name, cv_results.mean(), cv_results.std())\n",
    "\tprint(msg)\n"
   ]
  },
  {
   "cell_type": "code",
   "execution_count": 170,
   "metadata": {},
   "outputs": [
    {
     "data": {
      "image/png": "[encoded data removed]",
      "text/plain": [
       "<Figure size 640x480 with 1 Axes>"
      ]
     },
     "metadata": {},
     "output_type": "display_data"
    }
   ],
   "source": [
    "# boxplot algorithm comparison\n",
    "fig = plt.figure()\n",
    "fig.suptitle('Algorithm Comparison')\n",
    "ax = fig.add_subplot(111)\n",
    "plt.boxplot(results, widths=.8)\n",
    "ax.set_xticklabels(names)\n",
    "ax.set_ylabel('accuracy')\n",
    "plt.show()"
   ]
  },
  {
   "cell_type": "code",
   "execution_count": 173,
   "metadata": {},
   "outputs": [
    {
     "data": {
      "text/plain": [
       "Pass                  85754\n",
       "Fail                  37804\n",
       "Pass w/ Conditions    31443\n",
       "Name: results, dtype: int64"
      ]
     },
     "execution_count": 173,
     "metadata": {},
     "output_type": "execute_result"
    }
   ],
   "source": [
    "pred_df.results.value_counts()"
   ]
  },
  {
   "cell_type": "code",
   "execution_count": 177,
   "metadata": {},
   "outputs": [
    {
     "data": {
      "text/html": [
       "<div>\n",
       "<style scoped>\n",
       "    .dataframe tbody tr th:only-of-type {\n",
       "        vertical-align: middle;\n",
       "    }\n",
       "\n",
       "    .dataframe tbody tr th {\n",
       "        vertical-align: top;\n",
       "    }\n",
       "\n",
       "    .dataframe thead th {\n",
       "        text-align: right;\n",
       "    }\n",
       "</style>\n",
       "<table border=\"1\" class=\"dataframe\">\n",
       "  <thead>\n",
       "    <tr style=\"text-align: right;\">\n",
       "      <th></th>\n",
       "      <th>results</th>\n",
       "      <th>percentage</th>\n",
       "    </tr>\n",
       "  </thead>\n",
       "  <tbody>\n",
       "    <tr>\n",
       "      <th>Pass</th>\n",
       "      <td>85754</td>\n",
       "      <td>0.55</td>\n",
       "    </tr>\n",
       "    <tr>\n",
       "      <th>Fail</th>\n",
       "      <td>37804</td>\n",
       "      <td>0.24</td>\n",
       "    </tr>\n",
       "    <tr>\n",
       "      <th>Pass w/ Conditions</th>\n",
       "      <td>31443</td>\n",
       "      <td>0.20</td>\n",
       "    </tr>\n",
       "  </tbody>\n",
       "</table>\n",
       "</div>"
      ],
      "text/plain": [
       "                    results  percentage\n",
       "Pass                  85754        0.55\n",
       "Fail                  37804        0.24\n",
       "Pass w/ Conditions    31443        0.20"
      ]
     },
     "execution_count": 177,
     "metadata": {},
     "output_type": "execute_result"
    }
   ],
   "source": [
    "pd.DataFrame({'results':pred_df.results.value_counts(), 'percentage':round(pred_df.results.value_counts()/len(pred_df),2)})"
   ]
  },
  {
   "cell_type": "code",
   "execution_count": null,
   "metadata": {},
   "outputs": [],
   "source": []
  },
  {
   "cell_type": "markdown",
   "metadata": {},
   "source": [
    "# 6. Improve Model Performance (for best performing model)\n",
    "* Remove stopwords\n",
    "* Include n-grams\n",
    "* Limit min & max document frequencies"
   ]
  },
  {
   "cell_type": "code",
   "execution_count": 227,
   "metadata": {},
   "outputs": [
    {
     "data": {
      "text/plain": [
       "CountVectorizer(analyzer='word', binary=False, decode_error='strict',\n",
       "                dtype=<class 'numpy.int64'>, encoding='utf-8', input='content',\n",
       "                lowercase=True, max_df=1.0, max_features=None, min_df=1,\n",
       "                ngram_range=(1, 1), preprocessor=None, stop_words=None,\n",
       "                strip_accents=None, token_pattern='(?u)\\\\b\\\\w\\\\w+\\\\b',\n",
       "                tokenizer=None, vocabulary=None)"
      ]
     },
     "execution_count": 227,
     "metadata": {},
     "output_type": "execute_result"
    }
   ],
   "source": [
    "#default parameters for countvectorizer model\n",
    "CountVectorizer()"
   ]
  },
  {
   "cell_type": "code",
   "execution_count": 228,
   "metadata": {},
   "outputs": [],
   "source": [
    "# remove English stop words\n",
    "vect_optimized = CountVectorizer(stop_words='english',\n",
    "                                 lowercase=True,\n",
    "                                 ngram_range=(1,3))\n"
   ]
  },
  {
   "cell_type": "code",
   "execution_count": null,
   "metadata": {},
   "outputs": [],
   "source": [
    "countvectorizer_matrix = vect_optimized.fit_transform(X)\n",
    "countvectorizer_matrix_df = pd.DataFrame(countvectorizer_matrix.toarray(), columns=vect_optimized.get_feature_names())\n",
    "countvectorizer_matrix_df"
   ]
  },
  {
   "cell_type": "code",
   "execution_count": null,
   "metadata": {},
   "outputs": [],
   "source": [
    "# equivalently: combine fit and transform into a single step\n",
    "X_train_dtm = vect_optimized.fit_transform(X_train)\n",
    "X_test_dtm = vect_optimized.transform(X_test)"
   ]
  },
  {
   "cell_type": "code",
   "execution_count": null,
   "metadata": {},
   "outputs": [],
   "source": [
    "#Logistitc Regression\n",
    "model = LogisticRegression(max_iter=10000)\n",
    "%time model.fit(X_train_dtm, y_train)\n",
    "\n",
    "# make class predictions for X_test_dtm\n",
    "y_pred_class = model.predict(X_test_dtm)\n",
    "\n",
    "# calculate accuracy of class predictions\n",
    "print(metrics.accuracy_score(y_test, y_pred_class))"
   ]
  },
  {
   "cell_type": "code",
   "execution_count": null,
   "metadata": {},
   "outputs": [],
   "source": [
    "# calculate precision and recall\n",
    "print(classification_report(y_test, y_pred_class))"
   ]
  },
  {
   "cell_type": "code",
   "execution_count": null,
   "metadata": {},
   "outputs": [],
   "source": [
    "#Check for over fitting\n",
    "y_pred_class_train = model.predict(X_train_dtm)\n",
    "print(classification_report(y_train, y_pred_class_train))"
   ]
  },
  {
   "cell_type": "code",
   "execution_count": null,
   "metadata": {},
   "outputs": [],
   "source": [
    "cnf_matrix_test = confusion_matrix (y_test, y_pred_class)\n",
    "\n",
    "import seaborn as sns\n",
    "\n",
    "plt.figure(figsize = (10,7))\n",
    "sns.heatmap(cnf_matrix_test, annot=True, cmap=\"YlGnBu\", fmt='g')\n",
    "plt.xlabel('Predicted')\n",
    "plt.ylabel('Actual')"
   ]
  },
  {
   "cell_type": "code",
   "execution_count": null,
   "metadata": {},
   "outputs": [],
   "source": []
  },
  {
   "cell_type": "code",
   "execution_count": null,
   "metadata": {},
   "outputs": [],
   "source": []
  },
  {
   "cell_type": "code",
   "execution_count": null,
   "metadata": {},
   "outputs": [],
   "source": []
  },
  {
   "cell_type": "code",
   "execution_count": null,
   "metadata": {},
   "outputs": [],
   "source": []
  },
  {
   "cell_type": "markdown",
   "metadata": {},
   "source": [
    "### 7. Troubleshoot"
   ]
  },
  {
   "cell_type": "code",
   "execution_count": null,
   "metadata": {},
   "outputs": [],
   "source": [
    "X_test_df = pd.DataFrame(X_test)\n",
    "X_test_df.reset_index(inplace=True, drop=True)\n",
    "\n",
    "y_test_df = pd.DataFrame(y_test)\n",
    "y_test_df.reset_index(inplace=True, drop=True)"
   ]
  },
  {
   "cell_type": "code",
   "execution_count": null,
   "metadata": {},
   "outputs": [],
   "source": [
    "y_pred_prob = model.predict_proba(X_test_dtm)\n",
    "y_pred_class = model.predict(X_test_dtm)"
   ]
  },
  {
   "cell_type": "code",
   "execution_count": null,
   "metadata": {},
   "outputs": [],
   "source": [
    "y_pred_prob_df = pd.DataFrame(y_pred_prob)\n",
    "y_pred_prob_df.columns = ['0-prob', '1-prob', '2-prob']\n",
    "\n",
    "y_pred_class_df = pd.DataFrame(y_pred_class)\n",
    "y_pred_class_df.columns = ['predicted']"
   ]
  },
  {
   "cell_type": "code",
   "execution_count": null,
   "metadata": {},
   "outputs": [],
   "source": [
    "results_df = X_test_df.join(y_test_df).join(y_pred_class_df).join(y_pred_prob_df)"
   ]
  },
  {
   "cell_type": "code",
   "execution_count": null,
   "metadata": {},
   "outputs": [],
   "source": [
    "results_review_df = results_df[(results_df['0-prob'] < 0.6) & (results_df['1-prob'] < 0.6) & (results_df['2-prob'] < 0.6)]\n",
    "results_review_df.shape"
   ]
  },
  {
   "cell_type": "code",
   "execution_count": null,
   "metadata": {},
   "outputs": [],
   "source": [
    "pd.set_option('display.max_colwidth', 1000)"
   ]
  },
  {
   "cell_type": "code",
   "execution_count": null,
   "metadata": {},
   "outputs": [],
   "source": [
    "results_review_df.head(10)"
   ]
  },
  {
   "cell_type": "markdown",
   "metadata": {},
   "source": [
    "# Summary\n",
    "I decided to perform a multi-class classification analysis.  I narrowed my dataset to pass, fail, or pass w/ conditions due to the sufficiency of data. It appears the logistic regression had the best performance of the three models I demonstrated above. The original logisitc regression actually performed better than the one I attempted to optimize. It had a test accuracy of 92%.  The model showed slight signs of overfitting as train accuracy was 96%. Precision and recall for test were 92% for each. Precision was 96% for class 0 (pass), 87% for class 1 (fail) and 86% for class 2 (pass w/ conditions). Furthermore we know f-1 scores are the weighted averaged of precision and recall. F1 scores of 98%, 86%, and 85%, for the same classes listed previously. The model clearly is able to accuractely identify pass recommendations but struggles a little more with fail and pass with conditions, which makes sense intuitively. the F1 scores show slightly more signs of overfitting so I would attempt to adjust that in my parameter tuning. This is out of scope for this analysis, but perhaps I would do some sort of grid search or random search to approximate better parameter values.\n",
    "* **Pre-processing** For text pre-processing, I decided that we needed to remove stopwords for this analysis. They are noise and do not contribute to the signal of the prediction. I also removed all the digits as again I believe they were more of a distraction. Also, within CountVectorizer, I included parameters to lowercase all words an\n",
    "* **Train/Test Split** I noticed a considerable class imbalance in the dataset between the three values. I made sure to stratify my sampling in train test split to ensure the train samples and test samples resembled the population of the dataset. Another thing I considered doing but did not as it was out of scope for this analysis was training my model on an equal split data using an under-sampling or oversampling approach. This would give the model a fair chance to fully train each class equally as opposed to seeing more data of the dominate class.\n"
   ]
  },
  {
   "cell_type": "markdown",
   "metadata": {},
   "source": [
    "<a id='end'> </a>"
   ]
  },
  {
   "cell_type": "code",
   "execution_count": null,
   "metadata": {},
   "outputs": [],
   "source": []
  },
  {
   "cell_type": "code",
   "execution_count": null,
   "metadata": {},
   "outputs": [],
   "source": []
  },
  {
   "cell_type": "code",
   "execution_count": null,
   "metadata": {},
   "outputs": [],
   "source": []
  },
  {
   "cell_type": "markdown",
   "metadata": {},
   "source": [
    "# Scratch"
   ]
  },
  {
   "cell_type": "code",
   "execution_count": null,
   "metadata": {},
   "outputs": [],
   "source": [
    "df_clean[df_clean['Inspection ID']==2313093]"
   ]
  },
  {
   "cell_type": "code",
   "execution_count": null,
   "metadata": {},
   "outputs": [],
   "source": []
  }
 ],
 "metadata": {
  "kernelspec": {
   "display_name": "Python 3",
   "language": "python",
   "name": "python3"
  },
  "language_info": {
   "codemirror_mode": {
    "name": "ipython",
    "version": 3
   },
   "file_extension": ".py",
   "mimetype": "text/x-python",
   "name": "python",
   "nbconvert_exporter": "python",
   "pygments_lexer": "ipython3",
   "version": "3.7.4"
  }
 },
 "nbformat": 4,
 "nbformat_minor": 4
}
